{
 "cells": [
  {
   "cell_type": "markdown",
   "id": "b96dca2c",
   "metadata": {},
   "source": [
    "# Статистический анализ данных"
   ]
  },
  {
   "cell_type": "markdown",
   "id": "bbe00ce1",
   "metadata": {},
   "source": [
    "Изучаем популярный сервис аренды самокатов GoFast. "
   ]
  },
  {
   "cell_type": "markdown",
   "id": "3e20e09f",
   "metadata": {},
   "source": [
    "**Цель проекта:** \n",
    "\n",
    "Проанализировать данные и проверить некоторые гипотезы, которые могут помочь бизнесу вырасти.\n",
    "\n",
    "**Исходные данные:**\n",
    "\n",
    "Данные представлены о некоторых пользователях из нескольких городов, а также об их поездках.\n"
   ]
  },
  {
   "cell_type": "markdown",
   "id": "b4394201",
   "metadata": {},
   "source": [
    "Чтобы совершать поездки по городу, пользователи сервиса GoFast пользуются мобильным приложением. Сервисом можно пользоваться:\n",
    "\n",
    "без подписки\n",
    "* абонентская плата отсутствует;\n",
    "* стоимость одной минуты поездки — 8 рублей;\n",
    "* стоимость старта (начала поездки) — 50 рублей;\n",
    "\n",
    "с подпиской Ultra\n",
    "* абонентская плата — 199 рублей в месяц;\n",
    "* стоимость одной минуты поездки — 6 рублей;\n",
    "* стоимость старта — бесплатно.\n"
   ]
  },
  {
   "cell_type": "markdown",
   "id": "d8469814",
   "metadata": {},
   "source": [
    "**План исследования:** \n",
    "\n",
    "1. Загрузка данных\n",
    "2. Предобработка данных\n",
    "3. Исследовательский анализ данных\n",
    "4. Объединение данных\n",
    "5. Подсчёт выручки\n",
    "6. Проверка гипотез\n",
    "7. Распределения\n",
    "8. Вывод\n",
    "\n"
   ]
  },
  {
   "cell_type": "markdown",
   "id": "c42cbe00",
   "metadata": {},
   "source": [
    "#### Шаг 1. Загрузка данных"
   ]
  },
  {
   "cell_type": "code",
   "execution_count": 1,
   "id": "72576667",
   "metadata": {},
   "outputs": [],
   "source": [
    "import pandas as pd\n",
    "from scipy import stats as st\n",
    "import numpy as np\n",
    "import matplotlib.pyplot as plt\n",
    "from matplotlib import pyplot as plt\n",
    "\n",
    "from math import factorial\n",
    "from math import sqrt\n",
    "\n",
    "from scipy.stats import binom, norm\n",
    " "
   ]
  },
  {
   "cell_type": "code",
   "execution_count": 2,
   "id": "eff9f206",
   "metadata": {},
   "outputs": [],
   "source": [
    "users = pd.read_csv('...')"
   ]
  },
  {
   "cell_type": "code",
   "execution_count": 3,
   "id": "91cce41b",
   "metadata": {},
   "outputs": [
    {
     "data": {
      "text/html": [
       "<div>\n",
       "<style scoped>\n",
       "    .dataframe tbody tr th:only-of-type {\n",
       "        vertical-align: middle;\n",
       "    }\n",
       "\n",
       "    .dataframe tbody tr th {\n",
       "        vertical-align: top;\n",
       "    }\n",
       "\n",
       "    .dataframe thead th {\n",
       "        text-align: right;\n",
       "    }\n",
       "</style>\n",
       "<table border=\"1\" class=\"dataframe\">\n",
       "  <thead>\n",
       "    <tr style=\"text-align: right;\">\n",
       "      <th></th>\n",
       "      <th>user_id</th>\n",
       "      <th>name</th>\n",
       "      <th>age</th>\n",
       "      <th>city</th>\n",
       "      <th>subscription_type</th>\n",
       "    </tr>\n",
       "  </thead>\n",
       "  <tbody>\n",
       "    <tr>\n",
       "      <th>0</th>\n",
       "      <td>1</td>\n",
       "      <td>Кира</td>\n",
       "      <td>22</td>\n",
       "      <td>Тюмень</td>\n",
       "      <td>ultra</td>\n",
       "    </tr>\n",
       "    <tr>\n",
       "      <th>1</th>\n",
       "      <td>2</td>\n",
       "      <td>Станислав</td>\n",
       "      <td>31</td>\n",
       "      <td>Омск</td>\n",
       "      <td>ultra</td>\n",
       "    </tr>\n",
       "    <tr>\n",
       "      <th>2</th>\n",
       "      <td>3</td>\n",
       "      <td>Алексей</td>\n",
       "      <td>20</td>\n",
       "      <td>Москва</td>\n",
       "      <td>ultra</td>\n",
       "    </tr>\n",
       "  </tbody>\n",
       "</table>\n",
       "</div>"
      ],
      "text/plain": [
       "   user_id       name  age    city subscription_type\n",
       "0        1       Кира   22  Тюмень             ultra\n",
       "1        2  Станислав   31    Омск             ultra\n",
       "2        3    Алексей   20  Москва             ultra"
      ]
     },
     "execution_count": 3,
     "metadata": {},
     "output_type": "execute_result"
    }
   ],
   "source": [
    "users.head(3)"
   ]
  },
  {
   "cell_type": "code",
   "execution_count": 4,
   "id": "cbe4346e",
   "metadata": {},
   "outputs": [
    {
     "name": "stdout",
     "output_type": "stream",
     "text": [
      "<class 'pandas.core.frame.DataFrame'>\n",
      "RangeIndex: 1565 entries, 0 to 1564\n",
      "Data columns (total 5 columns):\n",
      " #   Column             Non-Null Count  Dtype \n",
      "---  ------             --------------  ----- \n",
      " 0   user_id            1565 non-null   int64 \n",
      " 1   name               1565 non-null   object\n",
      " 2   age                1565 non-null   int64 \n",
      " 3   city               1565 non-null   object\n",
      " 4   subscription_type  1565 non-null   object\n",
      "dtypes: int64(2), object(3)\n",
      "memory usage: 61.3+ KB\n"
     ]
    }
   ],
   "source": [
    "users.info()"
   ]
  },
  {
   "cell_type": "markdown",
   "id": "8d4785ef",
   "metadata": {},
   "source": [
    "В таблице представленны данные о 1565 пользователях."
   ]
  },
  {
   "cell_type": "code",
   "execution_count": 5,
   "id": "2f708e36",
   "metadata": {},
   "outputs": [],
   "source": [
    "rides = pd.read_csv('...')"
   ]
  },
  {
   "cell_type": "code",
   "execution_count": 6,
   "id": "3306030c",
   "metadata": {},
   "outputs": [
    {
     "data": {
      "text/html": [
       "<div>\n",
       "<style scoped>\n",
       "    .dataframe tbody tr th:only-of-type {\n",
       "        vertical-align: middle;\n",
       "    }\n",
       "\n",
       "    .dataframe tbody tr th {\n",
       "        vertical-align: top;\n",
       "    }\n",
       "\n",
       "    .dataframe thead th {\n",
       "        text-align: right;\n",
       "    }\n",
       "</style>\n",
       "<table border=\"1\" class=\"dataframe\">\n",
       "  <thead>\n",
       "    <tr style=\"text-align: right;\">\n",
       "      <th></th>\n",
       "      <th>user_id</th>\n",
       "      <th>distance</th>\n",
       "      <th>duration</th>\n",
       "      <th>date</th>\n",
       "    </tr>\n",
       "  </thead>\n",
       "  <tbody>\n",
       "    <tr>\n",
       "      <th>0</th>\n",
       "      <td>1</td>\n",
       "      <td>4409.919140</td>\n",
       "      <td>25.599769</td>\n",
       "      <td>2021-01-01</td>\n",
       "    </tr>\n",
       "    <tr>\n",
       "      <th>1</th>\n",
       "      <td>1</td>\n",
       "      <td>2617.592153</td>\n",
       "      <td>15.816871</td>\n",
       "      <td>2021-01-18</td>\n",
       "    </tr>\n",
       "    <tr>\n",
       "      <th>2</th>\n",
       "      <td>1</td>\n",
       "      <td>754.159807</td>\n",
       "      <td>6.232113</td>\n",
       "      <td>2021-04-20</td>\n",
       "    </tr>\n",
       "  </tbody>\n",
       "</table>\n",
       "</div>"
      ],
      "text/plain": [
       "   user_id     distance   duration        date\n",
       "0        1  4409.919140  25.599769  2021-01-01\n",
       "1        1  2617.592153  15.816871  2021-01-18\n",
       "2        1   754.159807   6.232113  2021-04-20"
      ]
     },
     "execution_count": 6,
     "metadata": {},
     "output_type": "execute_result"
    }
   ],
   "source": [
    "rides.head(3)"
   ]
  },
  {
   "cell_type": "code",
   "execution_count": 7,
   "id": "c8e0ec41",
   "metadata": {},
   "outputs": [
    {
     "name": "stdout",
     "output_type": "stream",
     "text": [
      "<class 'pandas.core.frame.DataFrame'>\n",
      "RangeIndex: 18068 entries, 0 to 18067\n",
      "Data columns (total 4 columns):\n",
      " #   Column    Non-Null Count  Dtype  \n",
      "---  ------    --------------  -----  \n",
      " 0   user_id   18068 non-null  int64  \n",
      " 1   distance  18068 non-null  float64\n",
      " 2   duration  18068 non-null  float64\n",
      " 3   date      18068 non-null  object \n",
      "dtypes: float64(2), int64(1), object(1)\n",
      "memory usage: 564.8+ KB\n"
     ]
    }
   ],
   "source": [
    "rides.info()"
   ]
  },
  {
   "cell_type": "markdown",
   "id": "d5c86b9b",
   "metadata": {},
   "source": [
    "В таблице представленны данные о 18068 поездках."
   ]
  },
  {
   "cell_type": "code",
   "execution_count": 8,
   "id": "0070c2f2",
   "metadata": {},
   "outputs": [],
   "source": [
    "subscriptions = pd.read_csv('...')"
   ]
  },
  {
   "cell_type": "code",
   "execution_count": 9,
   "id": "3e744513",
   "metadata": {},
   "outputs": [
    {
     "data": {
      "text/html": [
       "<div>\n",
       "<style scoped>\n",
       "    .dataframe tbody tr th:only-of-type {\n",
       "        vertical-align: middle;\n",
       "    }\n",
       "\n",
       "    .dataframe tbody tr th {\n",
       "        vertical-align: top;\n",
       "    }\n",
       "\n",
       "    .dataframe thead th {\n",
       "        text-align: right;\n",
       "    }\n",
       "</style>\n",
       "<table border=\"1\" class=\"dataframe\">\n",
       "  <thead>\n",
       "    <tr style=\"text-align: right;\">\n",
       "      <th></th>\n",
       "      <th>subscription_type</th>\n",
       "      <th>minute_price</th>\n",
       "      <th>start_ride_price</th>\n",
       "      <th>subscription_fee</th>\n",
       "    </tr>\n",
       "  </thead>\n",
       "  <tbody>\n",
       "    <tr>\n",
       "      <th>0</th>\n",
       "      <td>free</td>\n",
       "      <td>8</td>\n",
       "      <td>50</td>\n",
       "      <td>0</td>\n",
       "    </tr>\n",
       "    <tr>\n",
       "      <th>1</th>\n",
       "      <td>ultra</td>\n",
       "      <td>6</td>\n",
       "      <td>0</td>\n",
       "      <td>199</td>\n",
       "    </tr>\n",
       "  </tbody>\n",
       "</table>\n",
       "</div>"
      ],
      "text/plain": [
       "  subscription_type  minute_price  start_ride_price  subscription_fee\n",
       "0              free             8                50                 0\n",
       "1             ultra             6                 0               199"
      ]
     },
     "execution_count": 9,
     "metadata": {},
     "output_type": "execute_result"
    }
   ],
   "source": [
    "subscriptions"
   ]
  },
  {
   "cell_type": "code",
   "execution_count": 10,
   "id": "586258ed",
   "metadata": {},
   "outputs": [
    {
     "name": "stdout",
     "output_type": "stream",
     "text": [
      "<class 'pandas.core.frame.DataFrame'>\n",
      "RangeIndex: 2 entries, 0 to 1\n",
      "Data columns (total 4 columns):\n",
      " #   Column             Non-Null Count  Dtype \n",
      "---  ------             --------------  ----- \n",
      " 0   subscription_type  2 non-null      object\n",
      " 1   minute_price       2 non-null      int64 \n",
      " 2   start_ride_price   2 non-null      int64 \n",
      " 3   subscription_fee   2 non-null      int64 \n",
      "dtypes: int64(3), object(1)\n",
      "memory usage: 192.0+ bytes\n"
     ]
    }
   ],
   "source": [
    "subscriptions.info()"
   ]
  },
  {
   "cell_type": "markdown",
   "id": "4e93f285",
   "metadata": {},
   "source": [
    "В таблице представлено две строки, два варианта подписки с условиями"
   ]
  },
  {
   "cell_type": "markdown",
   "id": "e95ebca7",
   "metadata": {},
   "source": [
    "#### Шаг 2. Предобработка данных"
   ]
  },
  {
   "cell_type": "code",
   "execution_count": 11,
   "id": "af6d202c",
   "metadata": {},
   "outputs": [
    {
     "data": {
      "text/plain": [
       "0       2021-01-01\n",
       "1       2021-01-18\n",
       "2       2021-04-20\n",
       "3       2021-08-11\n",
       "4       2021-08-28\n",
       "           ...    \n",
       "18063   2021-11-04\n",
       "18064   2021-11-16\n",
       "18065   2021-11-18\n",
       "18066   2021-11-27\n",
       "18067   2021-12-29\n",
       "Name: date, Length: 18068, dtype: datetime64[ns]"
      ]
     },
     "execution_count": 11,
     "metadata": {},
     "output_type": "execute_result"
    }
   ],
   "source": [
    "# Приведем столбец date к типу даты pandas.\n",
    "rides['date'] = pd.to_datetime(rides['date'])\n",
    "rides['date']"
   ]
  },
  {
   "cell_type": "code",
   "execution_count": 12,
   "id": "3e92232c",
   "metadata": {},
   "outputs": [
    {
     "data": {
      "text/plain": [
       "array([2021])"
      ]
     },
     "execution_count": 12,
     "metadata": {},
     "output_type": "execute_result"
    }
   ],
   "source": [
    "# проверим за какие года представленны данные\n",
    "rides['year'] = rides['date'].dt.year\n",
    "rides['year'].unique()"
   ]
  },
  {
   "cell_type": "markdown",
   "id": "351e7cb9",
   "metadata": {},
   "source": [
    "В проекте представленны данные за 2021 год"
   ]
  },
  {
   "cell_type": "code",
   "execution_count": 13,
   "id": "0a781c74",
   "metadata": {},
   "outputs": [
    {
     "data": {
      "text/html": [
       "<div>\n",
       "<style scoped>\n",
       "    .dataframe tbody tr th:only-of-type {\n",
       "        vertical-align: middle;\n",
       "    }\n",
       "\n",
       "    .dataframe tbody tr th {\n",
       "        vertical-align: top;\n",
       "    }\n",
       "\n",
       "    .dataframe thead th {\n",
       "        text-align: right;\n",
       "    }\n",
       "</style>\n",
       "<table border=\"1\" class=\"dataframe\">\n",
       "  <thead>\n",
       "    <tr style=\"text-align: right;\">\n",
       "      <th></th>\n",
       "      <th>user_id</th>\n",
       "      <th>distance</th>\n",
       "      <th>duration</th>\n",
       "      <th>date</th>\n",
       "      <th>year</th>\n",
       "      <th>month</th>\n",
       "    </tr>\n",
       "  </thead>\n",
       "  <tbody>\n",
       "    <tr>\n",
       "      <th>0</th>\n",
       "      <td>1</td>\n",
       "      <td>4409.919140</td>\n",
       "      <td>25.599769</td>\n",
       "      <td>2021-01-01</td>\n",
       "      <td>2021</td>\n",
       "      <td>1</td>\n",
       "    </tr>\n",
       "    <tr>\n",
       "      <th>1</th>\n",
       "      <td>1</td>\n",
       "      <td>2617.592153</td>\n",
       "      <td>15.816871</td>\n",
       "      <td>2021-01-18</td>\n",
       "      <td>2021</td>\n",
       "      <td>1</td>\n",
       "    </tr>\n",
       "    <tr>\n",
       "      <th>2</th>\n",
       "      <td>1</td>\n",
       "      <td>754.159807</td>\n",
       "      <td>6.232113</td>\n",
       "      <td>2021-04-20</td>\n",
       "      <td>2021</td>\n",
       "      <td>4</td>\n",
       "    </tr>\n",
       "  </tbody>\n",
       "</table>\n",
       "</div>"
      ],
      "text/plain": [
       "   user_id     distance   duration       date  year  month\n",
       "0        1  4409.919140  25.599769 2021-01-01  2021      1\n",
       "1        1  2617.592153  15.816871 2021-01-18  2021      1\n",
       "2        1   754.159807   6.232113 2021-04-20  2021      4"
      ]
     },
     "execution_count": 13,
     "metadata": {},
     "output_type": "execute_result"
    }
   ],
   "source": [
    "# Создадим новый столбец с номером месяца \n",
    "rides['month'] = rides['date'].dt.month\n",
    "rides.head(3)"
   ]
  },
  {
   "cell_type": "code",
   "execution_count": 14,
   "id": "5080e33b",
   "metadata": {},
   "outputs": [
    {
     "data": {
      "text/plain": [
       "user_id              0\n",
       "name                 0\n",
       "age                  0\n",
       "city                 0\n",
       "subscription_type    0\n",
       "dtype: int64"
      ]
     },
     "execution_count": 14,
     "metadata": {},
     "output_type": "execute_result"
    }
   ],
   "source": [
    "# Проверим наличие пропущенных значений в датафрейме users\n",
    "users.isna().sum()"
   ]
  },
  {
   "cell_type": "code",
   "execution_count": 15,
   "id": "37964089",
   "metadata": {},
   "outputs": [
    {
     "data": {
      "text/plain": [
       "31"
      ]
     },
     "execution_count": 15,
     "metadata": {},
     "output_type": "execute_result"
    }
   ],
   "source": [
    "# Проверьте наличие дубликатов в датафреймае \n",
    "users.duplicated().sum() "
   ]
  },
  {
   "cell_type": "code",
   "execution_count": 16,
   "id": "2f76d57e",
   "metadata": {},
   "outputs": [
    {
     "data": {
      "text/plain": [
       "0"
      ]
     },
     "execution_count": 16,
     "metadata": {},
     "output_type": "execute_result"
    }
   ],
   "source": [
    "# Удалим дубликаты\n",
    "users = users.drop_duplicates().reset_index(drop=True)\n",
    "users.duplicated().sum() "
   ]
  },
  {
   "cell_type": "code",
   "execution_count": 17,
   "id": "747143cb",
   "metadata": {},
   "outputs": [
    {
     "data": {
      "text/plain": [
       "user_id     0\n",
       "distance    0\n",
       "duration    0\n",
       "date        0\n",
       "year        0\n",
       "month       0\n",
       "dtype: int64"
      ]
     },
     "execution_count": 17,
     "metadata": {},
     "output_type": "execute_result"
    }
   ],
   "source": [
    "# Проверим наличие пропущенных значений в датафрейме riders\n",
    "rides.isna().sum()"
   ]
  },
  {
   "cell_type": "code",
   "execution_count": 18,
   "id": "8038901e",
   "metadata": {},
   "outputs": [
    {
     "data": {
      "text/plain": [
       "0"
      ]
     },
     "execution_count": 18,
     "metadata": {},
     "output_type": "execute_result"
    }
   ],
   "source": [
    "# Проверьте наличие дубликатов в датафреймае\n",
    "rides.duplicated().sum() "
   ]
  },
  {
   "cell_type": "markdown",
   "id": "7bf1fa81",
   "metadata": {},
   "source": [
    "\n",
    "Вывод: Проверили данные на дубликаты и пропуски. В таблице с пользователями удалили полные дубликаты, их было 31 строка.Пропусков в пользователях не было. В таблице с поездками полных дубликатов и пропусков не оказалось. "
   ]
  },
  {
   "cell_type": "markdown",
   "id": "798f714f",
   "metadata": {},
   "source": [
    "Из анализа видно, что расстояние поездки имеет формат до шести знаков после точки, округлим расстояние:"
   ]
  },
  {
   "cell_type": "code",
   "execution_count": 19,
   "id": "5c5bc0cd",
   "metadata": {},
   "outputs": [
    {
     "data": {
      "text/plain": [
       "0    4409.919140\n",
       "1    2617.592153\n",
       "2     754.159807\n",
       "Name: distance, dtype: float64"
      ]
     },
     "metadata": {},
     "output_type": "display_data"
    },
    {
     "data": {
      "text/plain": [
       "0    4409.92\n",
       "1    2617.59\n",
       "2     754.16\n",
       "Name: distance, dtype: float64"
      ]
     },
     "execution_count": 19,
     "metadata": {},
     "output_type": "execute_result"
    }
   ],
   "source": [
    "temp = rides.copy() # Создаем копию, что бы не изменять текущий датасет\n",
    "display(temp['distance'].head(3))\n",
    "# Округлим расстояние\n",
    "temp['distance'] = temp['distance'].round(2)\n",
    "temp['distance'].head(3)"
   ]
  },
  {
   "cell_type": "markdown",
   "id": "c1a4230d",
   "metadata": {},
   "source": [
    "Проверим на аномалии колонку с длительностью поездок в таблице с информацией о поездках."
   ]
  },
  {
   "cell_type": "code",
   "execution_count": 20,
   "id": "b9824ac7",
   "metadata": {},
   "outputs": [
    {
     "data": {
      "image/png": "[encoded data removed]",
      "text/plain": [
       "<Figure size 432x288 with 1 Axes>"
      ]
     },
     "metadata": {
      "needs_background": "light"
     },
     "output_type": "display_data"
    }
   ],
   "source": [
    "rides['distance'].hist(bins=50)\n",
    "plt.title('Расстояние, которое пользователь преодолел за одну поездку');\n",
    "plt.xlabel('количество метров');\n",
    "plt.ylabel('количество пользователей')\n",
    "plt.show()"
   ]
  },
  {
   "cell_type": "code",
   "execution_count": 21,
   "id": "553668bd",
   "metadata": {},
   "outputs": [
    {
     "data": {
      "image/png": "[encoded data removed]",
      "text/plain": [
       "<Figure size 432x288 with 1 Axes>"
      ]
     },
     "metadata": {
      "needs_background": "light"
     },
     "output_type": "display_data"
    }
   ],
   "source": [
    "#  посмотрим как распределяется продолжительность поездки на графике.\n",
    "rides['duration'].hist(bins=50)\n",
    "plt.title('Продолжительность поездок в минутах');\n",
    "plt.xlabel('количество минут');\n",
    "plt.ylabel('количество пользователей')\n",
    "plt.show()"
   ]
  },
  {
   "cell_type": "markdown",
   "id": "54b7007f",
   "metadata": {},
   "source": [
    "На графике видно анамально короткие поездки, рассмотрим их отдельно:"
   ]
  },
  {
   "cell_type": "code",
   "execution_count": 22,
   "id": "5191bb3a",
   "metadata": {},
   "outputs": [
    {
     "data": {
      "image/png": "[encoded data removed]",
      "text/plain": [
       "<Figure size 864x360 with 1 Axes>"
      ]
     },
     "metadata": {
      "needs_background": "light"
     },
     "output_type": "display_data"
    }
   ],
   "source": [
    "# Создадим таблицу с поездками которые занимают меньше двух минут\n",
    "rides_small_duration = rides.query('duration <= 2')\n",
    "\n",
    "# посмотрим как это выглядит на графике\n",
    "rides_small_duration['duration'].hist(bins=50, figsize=(12,5))\n",
    "plt.title('Поездки которые занимают меньше двух минут');\n",
    "plt.xlabel('время, мин.');\n",
    "plt.ylabel('количество пользователей')\n",
    "plt.show()"
   ]
  },
  {
   "cell_type": "code",
   "execution_count": 23,
   "id": "a5b97a50",
   "metadata": {},
   "outputs": [
    {
     "data": {
      "image/png": "[encoded data removed]",
      "text/plain": [
       "<Figure size 864x360 with 1 Axes>"
      ]
     },
     "metadata": {
      "needs_background": "light"
     },
     "output_type": "display_data"
    }
   ],
   "source": [
    "# посмотрим как выглядит на графике расстояние, которое пользователи презжают за 2 и менее минут\n",
    "rides_small_duration['distance'].hist(bins=50, figsize=(12,5))\n",
    "plt.title('Поездки которые занимают меньше двух минут');\n",
    "plt.xlabel('расстояние, м.');\n",
    "plt.ylabel('количество пользователей')\n",
    "plt.show()"
   ]
  },
  {
   "cell_type": "markdown",
   "id": "608539b6",
   "metadata": {},
   "source": [
    "В данных обнаружили что поездки длительностью менее 1 минуы, имеют аномально большое расстояние, от 4000 метров, что не возможно. \n",
    "Не будем удалять эти строки так как потом в исследовании нам нужны будут данные об этих пользователях чтобы посчитать помесячную выручку, которую принёс каждый пользователь."
   ]
  },
  {
   "cell_type": "markdown",
   "id": "212593c7",
   "metadata": {},
   "source": [
    "#### Шаг 3. Исследовательский анализ данных"
   ]
  },
  {
   "cell_type": "markdown",
   "id": "3c646938",
   "metadata": {},
   "source": [
    "##### частота встречаемости городов"
   ]
  },
  {
   "cell_type": "code",
   "execution_count": 24,
   "id": "e1581cc8",
   "metadata": {},
   "outputs": [
    {
     "data": {
      "text/plain": [
       "array(['Тюмень', 'Омск', 'Москва', 'Ростов-на-Дону', 'Краснодар',\n",
       "       'Пятигорск', 'Екатеринбург', 'Сочи'], dtype=object)"
      ]
     },
     "execution_count": 24,
     "metadata": {},
     "output_type": "execute_result"
    }
   ],
   "source": [
    "# Посмотрим какие города есть в таблице\n",
    "users['city'].unique()"
   ]
  },
  {
   "cell_type": "code",
   "execution_count": 25,
   "id": "a8707c24",
   "metadata": {},
   "outputs": [
    {
     "data": {
      "text/plain": [
       "city\n",
       "Пятигорск         219\n",
       "Екатеринбург      204\n",
       "Ростов-на-Дону    198\n",
       "Краснодар         193\n",
       "Сочи              189\n",
       "Омск              183\n",
       "Тюмень            180\n",
       "Москва            168\n",
       "Name: user_id, dtype: int64"
      ]
     },
     "execution_count": 25,
     "metadata": {},
     "output_type": "execute_result"
    }
   ],
   "source": [
    "users_city = users.groupby('city')['user_id'].count().sort_values(ascending=False)\n",
    "users_city"
   ]
  },
  {
   "cell_type": "code",
   "execution_count": 26,
   "id": "e1a9918e",
   "metadata": {},
   "outputs": [
    {
     "data": {
      "image/png": "[encoded data removed]",
      "text/plain": [
       "<Figure size 864x360 with 1 Axes>"
      ]
     },
     "metadata": {
      "needs_background": "light"
     },
     "output_type": "display_data"
    }
   ],
   "source": [
    "users_city.plot(kind='bar', grid=True, figsize=(12,5)) \n",
    "plt.title('Количество пользователей по городам');\n",
    "plt.xlabel('город');\n",
    "plt.ylabel('количество пользователей')\n",
    "plt.show()"
   ]
  },
  {
   "cell_type": "markdown",
   "id": "a5577b4a",
   "metadata": {},
   "source": [
    "Больше всего пользователей из Пятигорска, потом идет Екатеренбург и Ростов-на-Дону. Меньше всего пользователей из Москвы. В общем количество пользователей по городам не сильно отличается друг от друга."
   ]
  },
  {
   "cell_type": "markdown",
   "id": "fdb30c02",
   "metadata": {},
   "source": [
    "##### соотношение пользователей с подпиской и без подписки"
   ]
  },
  {
   "cell_type": "code",
   "execution_count": 27,
   "id": "6798bcc1",
   "metadata": {},
   "outputs": [
    {
     "data": {
      "text/plain": [
       "array(['ultra', 'free'], dtype=object)"
      ]
     },
     "execution_count": 27,
     "metadata": {},
     "output_type": "execute_result"
    }
   ],
   "source": [
    "# Посмотрим какие типы подписок есть в таблице\n",
    "users['subscription_type'].unique()"
   ]
  },
  {
   "cell_type": "code",
   "execution_count": 28,
   "id": "e78dfc6f",
   "metadata": {},
   "outputs": [
    {
     "data": {
      "text/html": [
       "<div>\n",
       "<style scoped>\n",
       "    .dataframe tbody tr th:only-of-type {\n",
       "        vertical-align: middle;\n",
       "    }\n",
       "\n",
       "    .dataframe tbody tr th {\n",
       "        vertical-align: top;\n",
       "    }\n",
       "\n",
       "    .dataframe thead th {\n",
       "        text-align: right;\n",
       "    }\n",
       "</style>\n",
       "<table border=\"1\" class=\"dataframe\">\n",
       "  <thead>\n",
       "    <tr style=\"text-align: right;\">\n",
       "      <th></th>\n",
       "      <th>subscription_type</th>\n",
       "      <th>user_id</th>\n",
       "    </tr>\n",
       "  </thead>\n",
       "  <tbody>\n",
       "    <tr>\n",
       "      <th>0</th>\n",
       "      <td>free</td>\n",
       "      <td>835</td>\n",
       "    </tr>\n",
       "    <tr>\n",
       "      <th>1</th>\n",
       "      <td>ultra</td>\n",
       "      <td>699</td>\n",
       "    </tr>\n",
       "  </tbody>\n",
       "</table>\n",
       "</div>"
      ],
      "text/plain": [
       "  subscription_type  user_id\n",
       "0              free      835\n",
       "1             ultra      699"
      ]
     },
     "execution_count": 28,
     "metadata": {},
     "output_type": "execute_result"
    }
   ],
   "source": [
    "users_subscription = users.groupby('subscription_type', as_index=False)['user_id'].count()\n",
    "users_subscription"
   ]
  },
  {
   "cell_type": "markdown",
   "id": "64f7e4cb",
   "metadata": {},
   "source": [
    "В данных больше информации о пользователях без подписки. "
   ]
  },
  {
   "cell_type": "code",
   "execution_count": 29,
   "id": "603ba432",
   "metadata": {},
   "outputs": [
    {
     "data": {
      "text/html": [
       "<div>\n",
       "<style scoped>\n",
       "    .dataframe tbody tr th:only-of-type {\n",
       "        vertical-align: middle;\n",
       "    }\n",
       "\n",
       "    .dataframe tbody tr th {\n",
       "        vertical-align: top;\n",
       "    }\n",
       "\n",
       "    .dataframe thead th {\n",
       "        text-align: right;\n",
       "    }\n",
       "</style>\n",
       "<table border=\"1\" class=\"dataframe\">\n",
       "  <thead>\n",
       "    <tr style=\"text-align: right;\">\n",
       "      <th></th>\n",
       "      <th>subscription_type</th>\n",
       "      <th>user_id</th>\n",
       "      <th>percent</th>\n",
       "    </tr>\n",
       "  </thead>\n",
       "  <tbody>\n",
       "    <tr>\n",
       "      <th>0</th>\n",
       "      <td>free</td>\n",
       "      <td>835</td>\n",
       "      <td>54.432855</td>\n",
       "    </tr>\n",
       "    <tr>\n",
       "      <th>1</th>\n",
       "      <td>ultra</td>\n",
       "      <td>699</td>\n",
       "      <td>45.567145</td>\n",
       "    </tr>\n",
       "  </tbody>\n",
       "</table>\n",
       "</div>"
      ],
      "text/plain": [
       "  subscription_type  user_id    percent\n",
       "0              free      835  54.432855\n",
       "1             ultra      699  45.567145"
      ]
     },
     "execution_count": 29,
     "metadata": {},
     "output_type": "execute_result"
    }
   ],
   "source": [
    "users_subscription['percent'] = (users_subscription['user_id']/users_subscription['user_id'].sum()) *100\n",
    "users_subscription"
   ]
  },
  {
   "cell_type": "code",
   "execution_count": 30,
   "id": "89871f58",
   "metadata": {},
   "outputs": [
    {
     "data": {
      "image/png": "[encoded data removed]",
      "text/plain": [
       "<Figure size 864x360 with 1 Axes>"
      ]
     },
     "metadata": {
      "needs_background": "light"
     },
     "output_type": "display_data"
    }
   ],
   "source": [
    "users_subscription['percent'].plot(kind='bar', grid=True, figsize=(12,5)) \n",
    "plt.title('Количество пользователей с подпиской и без');\n",
    "plt.xlabel('тип подписки');\n",
    "plt.ylabel('% пользователей')\n",
    "plt.show()"
   ]
  },
  {
   "cell_type": "markdown",
   "id": "0a3e68a5",
   "metadata": {},
   "source": [
    "##### возраст пользователей"
   ]
  },
  {
   "cell_type": "code",
   "execution_count": 31,
   "id": "b2bb1b62",
   "metadata": {},
   "outputs": [
    {
     "data": {
      "text/plain": [
       "count    1534.000000\n",
       "mean       24.903520\n",
       "std         4.572367\n",
       "min        12.000000\n",
       "25%        22.000000\n",
       "50%        25.000000\n",
       "75%        28.000000\n",
       "max        43.000000\n",
       "Name: age, dtype: float64"
      ]
     },
     "execution_count": 31,
     "metadata": {},
     "output_type": "execute_result"
    }
   ],
   "source": [
    "users['age'].describe()"
   ]
  },
  {
   "cell_type": "markdown",
   "id": "0d47c48e",
   "metadata": {},
   "source": [
    "В данных представлен возраст от 12 до 43, средний и медианный почти совпадают, что говорит нам об отсутствии вбросов."
   ]
  },
  {
   "cell_type": "code",
   "execution_count": 32,
   "id": "93a12607",
   "metadata": {},
   "outputs": [],
   "source": [
    "users_age = users.groupby('age')['user_id'].count()\n"
   ]
  },
  {
   "cell_type": "code",
   "execution_count": 33,
   "id": "73aef95d",
   "metadata": {},
   "outputs": [
    {
     "data": {
      "image/png": "[encoded data removed]",
      "text/plain": [
       "<Figure size 864x360 with 1 Axes>"
      ]
     },
     "metadata": {
      "needs_background": "light"
     },
     "output_type": "display_data"
    }
   ],
   "source": [
    "users_age.plot(\n",
    "    style='o-', grid=True, figsize=(12,5))\n",
    "plt.gca().xaxis.set_major_formatter(plt.FormatStrFormatter('%d'))\n",
    "plt.title('количество пользователей по возрастам');\n",
    "plt.xlabel('возраст');\n",
    "plt.ylabel('количество пользователей')\n",
    "plt.show()"
   ]
  },
  {
   "cell_type": "code",
   "execution_count": 34,
   "id": "c72224af",
   "metadata": {},
   "outputs": [
    {
     "data": {
      "text/plain": [
       "24.903520208604956"
      ]
     },
     "execution_count": 34,
     "metadata": {},
     "output_type": "execute_result"
    }
   ],
   "source": [
    "users['age'].mean()"
   ]
  },
  {
   "cell_type": "markdown",
   "id": "99a6fb0a",
   "metadata": {},
   "source": [
    "Средний возраст пользователей 25 лет"
   ]
  },
  {
   "cell_type": "markdown",
   "id": "349a6318",
   "metadata": {},
   "source": [
    "Видно что среди пользователей некоторым менее 18 лет, именно с этого возраста разрешен прокат самокатов. В некоторых компаниях и регионах разрешено с 14 лет, но при письменном согласии родителей. В датасете минимальный возраст 12 лет, это явное нарушение существующих норм."
   ]
  },
  {
   "cell_type": "markdown",
   "id": "74fe04ea",
   "metadata": {},
   "source": [
    "##### расстояние, которое пользователь преодолел за одну поездку"
   ]
  },
  {
   "cell_type": "code",
   "execution_count": 35,
   "id": "e4f2d539",
   "metadata": {},
   "outputs": [
    {
     "data": {
      "text/plain": [
       "count    18068.000000\n",
       "mean      3070.659976\n",
       "std       1116.831209\n",
       "min          0.855683\n",
       "25%       2543.226360\n",
       "50%       3133.609994\n",
       "75%       3776.222735\n",
       "max       7211.007745\n",
       "Name: distance, dtype: float64"
      ]
     },
     "execution_count": 35,
     "metadata": {},
     "output_type": "execute_result"
    }
   ],
   "source": [
    "rides['distance'].describe()"
   ]
  },
  {
   "cell_type": "code",
   "execution_count": 36,
   "id": "cd1897a2",
   "metadata": {},
   "outputs": [
    {
     "data": {
      "image/png": "[encoded data removed]",
      "text/plain": [
       "<Figure size 864x360 with 1 Axes>"
      ]
     },
     "metadata": {
      "needs_background": "light"
     },
     "output_type": "display_data"
    }
   ],
   "source": [
    "rides['distance'].hist(bins=50, figsize=(12,5))\n",
    "plt.title('Расстояние, которое пользователь преодолел за одну поездку');\n",
    "plt.xlabel('расстояние, метр');\n",
    "plt.ylabel('количество пользователей')\n",
    "plt.show()"
   ]
  },
  {
   "cell_type": "code",
   "execution_count": 37,
   "id": "14920dc2",
   "metadata": {},
   "outputs": [
    {
     "data": {
      "image/png": "[encoded data removed]",
      "text/plain": [
       "<Figure size 864x360 with 1 Axes>"
      ]
     },
     "metadata": {
      "needs_background": "light"
     },
     "output_type": "display_data"
    }
   ],
   "source": [
    "rides_small_distance = rides.query('distance <= 1500')\n",
    "rides_small_distance['distance'].hist(bins=50, figsize=(12,5))\n",
    "plt.title('Расстояние, которое пользователь преодолел за одну короткую поездку, до 1500 метров');\n",
    "plt.xlabel('расстояние, метр');\n",
    "plt.ylabel('количество пользователей')\n",
    "plt.show()"
   ]
  },
  {
   "cell_type": "code",
   "execution_count": 38,
   "id": "2fb9a3a6",
   "metadata": {},
   "outputs": [
    {
     "data": {
      "image/png": "[encoded data removed]",
      "text/plain": [
       "<Figure size 864x360 with 1 Axes>"
      ]
     },
     "metadata": {
      "needs_background": "light"
     },
     "output_type": "display_data"
    }
   ],
   "source": [
    "rides_small_distance['duration'].hist(bins=50, figsize=(12,5))\n",
    "plt.title('Продолжительность короткой поездки в минутах(до 1500 метров)');\n",
    "plt.xlabel('время, минут');\n",
    "plt.ylabel('количество пользователей')\n",
    "plt.show()"
   ]
  },
  {
   "cell_type": "markdown",
   "id": "92eb75ae",
   "metadata": {},
   "source": [
    "В среднем пользователь за одну поездку проезжает  3000 метров. Также есть второй максимум на коротких расстояниех, со средней около 600 метров. На короткие поездки пользователь тратит от 2.5 до 20 минут, что похоже на правду. "
   ]
  },
  {
   "cell_type": "markdown",
   "id": "129376e5",
   "metadata": {},
   "source": [
    "##### продолжительность поездок"
   ]
  },
  {
   "cell_type": "code",
   "execution_count": 39,
   "id": "24c35337",
   "metadata": {},
   "outputs": [
    {
     "data": {
      "text/plain": [
       "count    18068.000000\n",
       "mean        17.805011\n",
       "std          6.091051\n",
       "min          0.500000\n",
       "25%         13.597563\n",
       "50%         17.678395\n",
       "75%         21.724800\n",
       "max         40.823963\n",
       "Name: duration, dtype: float64"
      ]
     },
     "execution_count": 39,
     "metadata": {},
     "output_type": "execute_result"
    }
   ],
   "source": [
    "rides['duration'].describe()"
   ]
  },
  {
   "cell_type": "code",
   "execution_count": 40,
   "id": "c0a8769b",
   "metadata": {},
   "outputs": [
    {
     "data": {
      "image/png": "[encoded data removed]",
      "text/plain": [
       "<Figure size 864x360 with 1 Axes>"
      ]
     },
     "metadata": {
      "needs_background": "light"
     },
     "output_type": "display_data"
    }
   ],
   "source": [
    "rides['duration'].hist(bins=50, figsize=(12,5))\n",
    "plt.title('Продолжительность поездок в минутах');\n",
    "plt.xlabel('время, минут');\n",
    "plt.ylabel('количество пользователей')\n",
    "plt.show()"
   ]
  },
  {
   "cell_type": "markdown",
   "id": "4158e2e0",
   "metadata": {},
   "source": [
    "Средняя продолжительность поездок 15-20 минут"
   ]
  },
  {
   "cell_type": "markdown",
   "id": "743d4225",
   "metadata": {},
   "source": [
    "Вывод: Изучили данные о продолжительности и расстоянии поездок пользователей. По графикам видна что есть один пик в продолжительных поездках это около 3000 метров и по времени 15-20 минут. Также на графике видно что есть короткие поездки с продолжительностью около 600 метров. На графики со временем поездки уже выяснили что поездка менее одной минуты является аномалией. "
   ]
  },
  {
   "cell_type": "markdown",
   "id": "4ef51331",
   "metadata": {},
   "source": [
    "#### Шаг 4. Объединение данных"
   ]
  },
  {
   "cell_type": "markdown",
   "id": "51ff93c0",
   "metadata": {},
   "source": [
    "##### Объединим данные о пользователях, поездках и подписках в один датафрейм"
   ]
  },
  {
   "cell_type": "code",
   "execution_count": 41,
   "id": "6bf288b5",
   "metadata": {},
   "outputs": [],
   "source": [
    "data = users.merge(rides, on='user_id', how='outer')\n"
   ]
  },
  {
   "cell_type": "code",
   "execution_count": 42,
   "id": "45483849",
   "metadata": {},
   "outputs": [
    {
     "data": {
      "text/html": [
       "<div>\n",
       "<style scoped>\n",
       "    .dataframe tbody tr th:only-of-type {\n",
       "        vertical-align: middle;\n",
       "    }\n",
       "\n",
       "    .dataframe tbody tr th {\n",
       "        vertical-align: top;\n",
       "    }\n",
       "\n",
       "    .dataframe thead th {\n",
       "        text-align: right;\n",
       "    }\n",
       "</style>\n",
       "<table border=\"1\" class=\"dataframe\">\n",
       "  <thead>\n",
       "    <tr style=\"text-align: right;\">\n",
       "      <th></th>\n",
       "      <th>user_id</th>\n",
       "      <th>name</th>\n",
       "      <th>age</th>\n",
       "      <th>city</th>\n",
       "      <th>subscription_type</th>\n",
       "      <th>distance</th>\n",
       "      <th>duration</th>\n",
       "      <th>date</th>\n",
       "      <th>year</th>\n",
       "      <th>month</th>\n",
       "      <th>minute_price</th>\n",
       "      <th>start_ride_price</th>\n",
       "      <th>subscription_fee</th>\n",
       "    </tr>\n",
       "  </thead>\n",
       "  <tbody>\n",
       "    <tr>\n",
       "      <th>0</th>\n",
       "      <td>1</td>\n",
       "      <td>Кира</td>\n",
       "      <td>22</td>\n",
       "      <td>Тюмень</td>\n",
       "      <td>ultra</td>\n",
       "      <td>4409.919140</td>\n",
       "      <td>25.599769</td>\n",
       "      <td>2021-01-01</td>\n",
       "      <td>2021</td>\n",
       "      <td>1</td>\n",
       "      <td>6</td>\n",
       "      <td>0</td>\n",
       "      <td>199</td>\n",
       "    </tr>\n",
       "    <tr>\n",
       "      <th>1</th>\n",
       "      <td>1</td>\n",
       "      <td>Кира</td>\n",
       "      <td>22</td>\n",
       "      <td>Тюмень</td>\n",
       "      <td>ultra</td>\n",
       "      <td>2617.592153</td>\n",
       "      <td>15.816871</td>\n",
       "      <td>2021-01-18</td>\n",
       "      <td>2021</td>\n",
       "      <td>1</td>\n",
       "      <td>6</td>\n",
       "      <td>0</td>\n",
       "      <td>199</td>\n",
       "    </tr>\n",
       "    <tr>\n",
       "      <th>2</th>\n",
       "      <td>1</td>\n",
       "      <td>Кира</td>\n",
       "      <td>22</td>\n",
       "      <td>Тюмень</td>\n",
       "      <td>ultra</td>\n",
       "      <td>754.159807</td>\n",
       "      <td>6.232113</td>\n",
       "      <td>2021-04-20</td>\n",
       "      <td>2021</td>\n",
       "      <td>4</td>\n",
       "      <td>6</td>\n",
       "      <td>0</td>\n",
       "      <td>199</td>\n",
       "    </tr>\n",
       "  </tbody>\n",
       "</table>\n",
       "</div>"
      ],
      "text/plain": [
       "   user_id  name  age    city subscription_type     distance   duration  \\\n",
       "0        1  Кира   22  Тюмень             ultra  4409.919140  25.599769   \n",
       "1        1  Кира   22  Тюмень             ultra  2617.592153  15.816871   \n",
       "2        1  Кира   22  Тюмень             ultra   754.159807   6.232113   \n",
       "\n",
       "        date  year  month  minute_price  start_ride_price  subscription_fee  \n",
       "0 2021-01-01  2021      1             6                 0               199  \n",
       "1 2021-01-18  2021      1             6                 0               199  \n",
       "2 2021-04-20  2021      4             6                 0               199  "
      ]
     },
     "execution_count": 42,
     "metadata": {},
     "output_type": "execute_result"
    }
   ],
   "source": [
    "data = data.merge(subscriptions, on='subscription_type', how='outer')\n",
    "data.head(3)"
   ]
  },
  {
   "cell_type": "markdown",
   "id": "b8f68ccb",
   "metadata": {},
   "source": [
    "Проверим размерность датасета и пропуски после объединения."
   ]
  },
  {
   "cell_type": "code",
   "execution_count": 43,
   "id": "a5d12576",
   "metadata": {},
   "outputs": [
    {
     "name": "stdout",
     "output_type": "stream",
     "text": [
      "<class 'pandas.core.frame.DataFrame'>\n",
      "Int64Index: 18068 entries, 0 to 18067\n",
      "Data columns (total 13 columns):\n",
      " #   Column             Non-Null Count  Dtype         \n",
      "---  ------             --------------  -----         \n",
      " 0   user_id            18068 non-null  int64         \n",
      " 1   name               18068 non-null  object        \n",
      " 2   age                18068 non-null  int64         \n",
      " 3   city               18068 non-null  object        \n",
      " 4   subscription_type  18068 non-null  object        \n",
      " 5   distance           18068 non-null  float64       \n",
      " 6   duration           18068 non-null  float64       \n",
      " 7   date               18068 non-null  datetime64[ns]\n",
      " 8   year               18068 non-null  int64         \n",
      " 9   month              18068 non-null  int64         \n",
      " 10  minute_price       18068 non-null  int64         \n",
      " 11  start_ride_price   18068 non-null  int64         \n",
      " 12  subscription_fee   18068 non-null  int64         \n",
      "dtypes: datetime64[ns](1), float64(2), int64(7), object(3)\n",
      "memory usage: 1.9+ MB\n"
     ]
    }
   ],
   "source": [
    "data.info()"
   ]
  },
  {
   "cell_type": "code",
   "execution_count": 44,
   "id": "74695cbc",
   "metadata": {},
   "outputs": [
    {
     "data": {
      "text/plain": [
       "user_id              0\n",
       "name                 0\n",
       "age                  0\n",
       "city                 0\n",
       "subscription_type    0\n",
       "distance             0\n",
       "duration             0\n",
       "date                 0\n",
       "year                 0\n",
       "month                0\n",
       "minute_price         0\n",
       "start_ride_price     0\n",
       "subscription_fee     0\n",
       "dtype: int64"
      ]
     },
     "execution_count": 44,
     "metadata": {},
     "output_type": "execute_result"
    }
   ],
   "source": [
    "data.isna().sum()"
   ]
  },
  {
   "cell_type": "code",
   "execution_count": 45,
   "id": "d2e5c8c5",
   "metadata": {},
   "outputs": [
    {
     "data": {
      "text/plain": [
       "0"
      ]
     },
     "execution_count": 45,
     "metadata": {},
     "output_type": "execute_result"
    }
   ],
   "source": [
    "data.duplicated().sum() "
   ]
  },
  {
   "cell_type": "markdown",
   "id": "c01daa1c",
   "metadata": {},
   "source": [
    "Вывод: Объединили данные о пользователях, поездках и подписках в один датафрейм. Пролучилось 18068 строк, что соответствует количеству строк в таблице с поездками. В новой таблице так же нет пропусков и дубликатов. Что говорит нам о том что присоединение произошло удачно. "
   ]
  },
  {
   "cell_type": "markdown",
   "id": "3cfec2b0",
   "metadata": {},
   "source": [
    "##### Создадим ещё два датафрейма из датафрейма data:\n",
    "- c данными о пользователях без подписки;\n",
    "- с данными о пользователях с подпиской.\n"
   ]
  },
  {
   "cell_type": "code",
   "execution_count": 46,
   "id": "06ef8b74",
   "metadata": {},
   "outputs": [],
   "source": [
    "# Создадим два датафрейма c данными о пользователях без и с подпиской\n",
    "data_ultra = data[data['subscription_type'] == 'ultra'] \n",
    "data_free = data[data['subscription_type'] == 'free'] "
   ]
  },
  {
   "cell_type": "code",
   "execution_count": 47,
   "id": "b0a16242",
   "metadata": {},
   "outputs": [
    {
     "data": {
      "text/html": [
       "<div>\n",
       "<style scoped>\n",
       "    .dataframe tbody tr th:only-of-type {\n",
       "        vertical-align: middle;\n",
       "    }\n",
       "\n",
       "    .dataframe tbody tr th {\n",
       "        vertical-align: top;\n",
       "    }\n",
       "\n",
       "    .dataframe thead th {\n",
       "        text-align: right;\n",
       "    }\n",
       "</style>\n",
       "<table border=\"1\" class=\"dataframe\">\n",
       "  <thead>\n",
       "    <tr style=\"text-align: right;\">\n",
       "      <th></th>\n",
       "      <th>user_id</th>\n",
       "      <th>name</th>\n",
       "      <th>age</th>\n",
       "      <th>city</th>\n",
       "      <th>subscription_type</th>\n",
       "      <th>distance</th>\n",
       "      <th>duration</th>\n",
       "      <th>date</th>\n",
       "      <th>year</th>\n",
       "      <th>month</th>\n",
       "      <th>minute_price</th>\n",
       "      <th>start_ride_price</th>\n",
       "      <th>subscription_fee</th>\n",
       "    </tr>\n",
       "  </thead>\n",
       "  <tbody>\n",
       "    <tr>\n",
       "      <th>0</th>\n",
       "      <td>1</td>\n",
       "      <td>Кира</td>\n",
       "      <td>22</td>\n",
       "      <td>Тюмень</td>\n",
       "      <td>ultra</td>\n",
       "      <td>4409.919140</td>\n",
       "      <td>25.599769</td>\n",
       "      <td>2021-01-01</td>\n",
       "      <td>2021</td>\n",
       "      <td>1</td>\n",
       "      <td>6</td>\n",
       "      <td>0</td>\n",
       "      <td>199</td>\n",
       "    </tr>\n",
       "    <tr>\n",
       "      <th>1</th>\n",
       "      <td>1</td>\n",
       "      <td>Кира</td>\n",
       "      <td>22</td>\n",
       "      <td>Тюмень</td>\n",
       "      <td>ultra</td>\n",
       "      <td>2617.592153</td>\n",
       "      <td>15.816871</td>\n",
       "      <td>2021-01-18</td>\n",
       "      <td>2021</td>\n",
       "      <td>1</td>\n",
       "      <td>6</td>\n",
       "      <td>0</td>\n",
       "      <td>199</td>\n",
       "    </tr>\n",
       "    <tr>\n",
       "      <th>2</th>\n",
       "      <td>1</td>\n",
       "      <td>Кира</td>\n",
       "      <td>22</td>\n",
       "      <td>Тюмень</td>\n",
       "      <td>ultra</td>\n",
       "      <td>754.159807</td>\n",
       "      <td>6.232113</td>\n",
       "      <td>2021-04-20</td>\n",
       "      <td>2021</td>\n",
       "      <td>4</td>\n",
       "      <td>6</td>\n",
       "      <td>0</td>\n",
       "      <td>199</td>\n",
       "    </tr>\n",
       "  </tbody>\n",
       "</table>\n",
       "</div>"
      ],
      "text/plain": [
       "   user_id  name  age    city subscription_type     distance   duration  \\\n",
       "0        1  Кира   22  Тюмень             ultra  4409.919140  25.599769   \n",
       "1        1  Кира   22  Тюмень             ultra  2617.592153  15.816871   \n",
       "2        1  Кира   22  Тюмень             ultra   754.159807   6.232113   \n",
       "\n",
       "        date  year  month  minute_price  start_ride_price  subscription_fee  \n",
       "0 2021-01-01  2021      1             6                 0               199  \n",
       "1 2021-01-18  2021      1             6                 0               199  \n",
       "2 2021-04-20  2021      4             6                 0               199  "
      ]
     },
     "execution_count": 47,
     "metadata": {},
     "output_type": "execute_result"
    }
   ],
   "source": [
    "data_ultra.head(3)"
   ]
  },
  {
   "cell_type": "code",
   "execution_count": 48,
   "id": "8f3ea7a5",
   "metadata": {},
   "outputs": [
    {
     "data": {
      "text/html": [
       "<div>\n",
       "<style scoped>\n",
       "    .dataframe tbody tr th:only-of-type {\n",
       "        vertical-align: middle;\n",
       "    }\n",
       "\n",
       "    .dataframe tbody tr th {\n",
       "        vertical-align: top;\n",
       "    }\n",
       "\n",
       "    .dataframe thead th {\n",
       "        text-align: right;\n",
       "    }\n",
       "</style>\n",
       "<table border=\"1\" class=\"dataframe\">\n",
       "  <thead>\n",
       "    <tr style=\"text-align: right;\">\n",
       "      <th></th>\n",
       "      <th>user_id</th>\n",
       "      <th>name</th>\n",
       "      <th>age</th>\n",
       "      <th>city</th>\n",
       "      <th>subscription_type</th>\n",
       "      <th>distance</th>\n",
       "      <th>duration</th>\n",
       "      <th>date</th>\n",
       "      <th>year</th>\n",
       "      <th>month</th>\n",
       "      <th>minute_price</th>\n",
       "      <th>start_ride_price</th>\n",
       "      <th>subscription_fee</th>\n",
       "    </tr>\n",
       "  </thead>\n",
       "  <tbody>\n",
       "    <tr>\n",
       "      <th>6500</th>\n",
       "      <td>700</td>\n",
       "      <td>Айдар</td>\n",
       "      <td>22</td>\n",
       "      <td>Омск</td>\n",
       "      <td>free</td>\n",
       "      <td>2515.690719</td>\n",
       "      <td>14.944286</td>\n",
       "      <td>2021-01-02</td>\n",
       "      <td>2021</td>\n",
       "      <td>1</td>\n",
       "      <td>8</td>\n",
       "      <td>50</td>\n",
       "      <td>0</td>\n",
       "    </tr>\n",
       "    <tr>\n",
       "      <th>6501</th>\n",
       "      <td>700</td>\n",
       "      <td>Айдар</td>\n",
       "      <td>22</td>\n",
       "      <td>Омск</td>\n",
       "      <td>free</td>\n",
       "      <td>846.932642</td>\n",
       "      <td>16.234663</td>\n",
       "      <td>2021-02-01</td>\n",
       "      <td>2021</td>\n",
       "      <td>2</td>\n",
       "      <td>8</td>\n",
       "      <td>50</td>\n",
       "      <td>0</td>\n",
       "    </tr>\n",
       "    <tr>\n",
       "      <th>6502</th>\n",
       "      <td>700</td>\n",
       "      <td>Айдар</td>\n",
       "      <td>22</td>\n",
       "      <td>Омск</td>\n",
       "      <td>free</td>\n",
       "      <td>4004.434142</td>\n",
       "      <td>20.016628</td>\n",
       "      <td>2021-02-04</td>\n",
       "      <td>2021</td>\n",
       "      <td>2</td>\n",
       "      <td>8</td>\n",
       "      <td>50</td>\n",
       "      <td>0</td>\n",
       "    </tr>\n",
       "  </tbody>\n",
       "</table>\n",
       "</div>"
      ],
      "text/plain": [
       "      user_id   name  age  city subscription_type     distance   duration  \\\n",
       "6500      700  Айдар   22  Омск              free  2515.690719  14.944286   \n",
       "6501      700  Айдар   22  Омск              free   846.932642  16.234663   \n",
       "6502      700  Айдар   22  Омск              free  4004.434142  20.016628   \n",
       "\n",
       "           date  year  month  minute_price  start_ride_price  subscription_fee  \n",
       "6500 2021-01-02  2021      1             8                50                 0  \n",
       "6501 2021-02-01  2021      2             8                50                 0  \n",
       "6502 2021-02-04  2021      2             8                50                 0  "
      ]
     },
     "execution_count": 48,
     "metadata": {},
     "output_type": "execute_result"
    }
   ],
   "source": [
    "data_free.head(3)"
   ]
  },
  {
   "cell_type": "markdown",
   "id": "cd132f5a",
   "metadata": {},
   "source": [
    "##### Визуализируем информацию о расстоянии и времени поездок для пользователей обеих категорий.\n"
   ]
  },
  {
   "cell_type": "markdown",
   "id": "71597b15",
   "metadata": {},
   "source": [
    "Посмотрим информацию о расстоянии для пользователей без и с подпиской:"
   ]
  },
  {
   "cell_type": "code",
   "execution_count": 49,
   "id": "3cab49bb",
   "metadata": {},
   "outputs": [
    {
     "data": {
      "image/png": "[encoded data removed]",
      "text/plain": [
       "<Figure size 1080x360 with 1 Axes>"
      ]
     },
     "metadata": {
      "needs_background": "light"
     },
     "output_type": "display_data"
    }
   ],
   "source": [
    "dis_ultra = data_ultra['distance'].mean()\n",
    "dis_free= data_free['distance'].mean()\n",
    "\n",
    "plt.figure(figsize=(15,5))\n",
    "plt.hist(data_ultra['distance'],label=\"с подпиской\", bins=50, alpha=0.5, color='blue')\n",
    "plt.hist(data_free['distance'], label=\"без подписки\", bins=50, alpha=0.5, color='red')\n",
    "plt.axvline(x=dis_ultra,color='r',label=\"медиана с подпиской\")\n",
    "plt.axvline(x=dis_free,color='c',label=\"медиана без подписки\")\n",
    "\n",
    "plt.title('График распределения дистанций для пользователей без и с подпиской');\n",
    "plt.xlabel('дистанция, метр');\n",
    "plt.ylabel('количество поездок')\n",
    "plt.legend()\n",
    "plt.grid(True)\n",
    "\n",
    "plt.show()"
   ]
  },
  {
   "cell_type": "markdown",
   "id": "2b17eabb",
   "metadata": {},
   "source": [
    "Вывод: Пользователи с подпиской в основном проезжают 3000 метров и больше. Пользователи без подписки проезжают от 2000 до 4000 метров, более широкий диапазон. Но при этом медианное значение почти овпадает."
   ]
  },
  {
   "cell_type": "markdown",
   "id": "3f92dbc1",
   "metadata": {},
   "source": [
    "Посмотрим информацию о времени поездок для пользователей с и без подписки:"
   ]
  },
  {
   "cell_type": "code",
   "execution_count": 50,
   "id": "e82d4beb",
   "metadata": {},
   "outputs": [
    {
     "data": {
      "image/png": "[encoded data removed]",
      "text/plain": [
       "<Figure size 1080x360 with 1 Axes>"
      ]
     },
     "metadata": {
      "needs_background": "light"
     },
     "output_type": "display_data"
    }
   ],
   "source": [
    "dur_ultra = data_ultra['duration'].mean()\n",
    "dur_free= data_free['duration'].mean()\n",
    "\n",
    "plt.figure(figsize=(15,5))\n",
    "plt.hist(data_ultra['duration'],label=\"с подпиской\", bins=50, alpha=0.5, color='blue')\n",
    "plt.hist(data_free['duration'], label=\"без подписки\", bins=50, alpha=0.5, color='red')\n",
    "plt.axvline(x=dur_ultra,color='r',label=\"медиана с подпиской\")\n",
    "plt.axvline(x=dur_free,color='c',label=\"медиана без подписки\")\n",
    "\n",
    "plt.title('График распределения времени поездок для пользователей с и без подписки');\n",
    "plt.xlabel('время, мин.');\n",
    "plt.ylabel('количество поездок')\n",
    "plt.legend()\n",
    "plt.grid(True)\n",
    "\n",
    "plt.show()"
   ]
  },
  {
   "cell_type": "markdown",
   "id": "c29f80cc",
   "metadata": {},
   "source": [
    "Вывод: Время на которее пользователь берет самокат у людей с подпиской и без примерно совпадает, медиана на уровне 17 у пользователей без подписки и около 18 с подпиской. "
   ]
  },
  {
   "cell_type": "markdown",
   "id": "0055a638",
   "metadata": {},
   "source": [
    "Вывод:  Пользователи с подпиской в основном проезжают 3000 метров и больше.При этом среднее время 18 минут. Пользователи без подписки проезжают от 2000 до 4000 метров, более широкий диапазон, медианное значение при этом тоже в районе 3000 метров,почти совпадает с пользователями с подпиской. Время на поздки пользователи без подписки тратят около 17 минут в среднем."
   ]
  },
  {
   "cell_type": "markdown",
   "id": "402d620f",
   "metadata": {},
   "source": [
    "#### Шаг 5. Подсчёт выручки"
   ]
  },
  {
   "cell_type": "markdown",
   "id": "9ccc9b00",
   "metadata": {},
   "source": [
    "##### Создадим датафрейм с агрегированными данными о поездках: найдем суммарное расстояние, количество поездок и суммарное время для каждого пользователя за каждый месяц."
   ]
  },
  {
   "cell_type": "code",
   "execution_count": 51,
   "id": "bd96fb4c",
   "metadata": {},
   "outputs": [
    {
     "data": {
      "text/plain": [
       "0        26.0\n",
       "1        16.0\n",
       "2         7.0\n",
       "3        19.0\n",
       "4        27.0\n",
       "         ... \n",
       "18063    20.0\n",
       "18064    22.0\n",
       "18065    19.0\n",
       "18066    17.0\n",
       "18067    16.0\n",
       "Name: duration, Length: 18068, dtype: float64"
      ]
     },
     "execution_count": 51,
     "metadata": {},
     "output_type": "execute_result"
    }
   ],
   "source": [
    "# сначала округлим длительность каждой поездки до целой минуты:\n",
    "data['duration'] = np.ceil(data['duration']) \n",
    "data['duration']"
   ]
  },
  {
   "cell_type": "code",
   "execution_count": 52,
   "id": "a22e8e9e",
   "metadata": {},
   "outputs": [
    {
     "data": {
      "text/html": [
       "<div>\n",
       "<style scoped>\n",
       "    .dataframe tbody tr th:only-of-type {\n",
       "        vertical-align: middle;\n",
       "    }\n",
       "\n",
       "    .dataframe tbody tr th {\n",
       "        vertical-align: top;\n",
       "    }\n",
       "\n",
       "    .dataframe thead th {\n",
       "        text-align: right;\n",
       "    }\n",
       "</style>\n",
       "<table border=\"1\" class=\"dataframe\">\n",
       "  <thead>\n",
       "    <tr style=\"text-align: right;\">\n",
       "      <th></th>\n",
       "      <th>user_id</th>\n",
       "      <th>month</th>\n",
       "      <th>distance_sum</th>\n",
       "      <th>drive_count</th>\n",
       "      <th>duration_sum</th>\n",
       "      <th>subscription_type</th>\n",
       "      <th>minute_price</th>\n",
       "      <th>start_ride_price</th>\n",
       "      <th>subscription_fee</th>\n",
       "    </tr>\n",
       "  </thead>\n",
       "  <tbody>\n",
       "    <tr>\n",
       "      <th>0</th>\n",
       "      <td>1</td>\n",
       "      <td>1</td>\n",
       "      <td>7027.511294</td>\n",
       "      <td>2</td>\n",
       "      <td>42.0</td>\n",
       "      <td>ultra</td>\n",
       "      <td>6</td>\n",
       "      <td>0</td>\n",
       "      <td>199</td>\n",
       "    </tr>\n",
       "    <tr>\n",
       "      <th>1</th>\n",
       "      <td>1</td>\n",
       "      <td>4</td>\n",
       "      <td>754.159807</td>\n",
       "      <td>1</td>\n",
       "      <td>7.0</td>\n",
       "      <td>ultra</td>\n",
       "      <td>6</td>\n",
       "      <td>0</td>\n",
       "      <td>199</td>\n",
       "    </tr>\n",
       "    <tr>\n",
       "      <th>2</th>\n",
       "      <td>1</td>\n",
       "      <td>8</td>\n",
       "      <td>6723.470560</td>\n",
       "      <td>2</td>\n",
       "      <td>46.0</td>\n",
       "      <td>ultra</td>\n",
       "      <td>6</td>\n",
       "      <td>0</td>\n",
       "      <td>199</td>\n",
       "    </tr>\n",
       "  </tbody>\n",
       "</table>\n",
       "</div>"
      ],
      "text/plain": [
       "   user_id  month  distance_sum  drive_count  duration_sum subscription_type  \\\n",
       "0        1      1   7027.511294            2          42.0             ultra   \n",
       "1        1      4    754.159807            1           7.0             ultra   \n",
       "2        1      8   6723.470560            2          46.0             ultra   \n",
       "\n",
       "   minute_price  start_ride_price  subscription_fee  \n",
       "0             6                 0               199  \n",
       "1             6                 0               199  \n",
       "2             6                 0               199  "
      ]
     },
     "execution_count": 52,
     "metadata": {},
     "output_type": "execute_result"
    }
   ],
   "source": [
    "# создадим датафрейм с агрегированными данными о поездках\n",
    "data_rides = data.groupby(['user_id','month']).agg({'distance':('sum','count'),\n",
    "                                                'duration':'sum',\n",
    "                                                'distance':('sum','count'),\n",
    "                                                'subscription_type':'first',\n",
    "                                                'minute_price':'first',\n",
    "                                                'start_ride_price':'first',\n",
    "                                              'subscription_fee':'first'}).reset_index()\n",
    "data_rides.columns = ['user_id','month','distance_sum','drive_count','duration_sum',\n",
    "                  'subscription_type','minute_price','start_ride_price', 'subscription_fee' ]\n",
    "data_rides.head(3)"
   ]
  },
  {
   "cell_type": "markdown",
   "id": "bdf898d5",
   "metadata": {},
   "source": [
    "##### В этот же датафрейм добавим столбец с помесячной выручкой, которую принёс каждый пользователь. "
   ]
  },
  {
   "cell_type": "code",
   "execution_count": 53,
   "id": "e0699ea3",
   "metadata": {},
   "outputs": [
    {
     "data": {
      "text/html": [
       "<div>\n",
       "<style scoped>\n",
       "    .dataframe tbody tr th:only-of-type {\n",
       "        vertical-align: middle;\n",
       "    }\n",
       "\n",
       "    .dataframe tbody tr th {\n",
       "        vertical-align: top;\n",
       "    }\n",
       "\n",
       "    .dataframe thead th {\n",
       "        text-align: right;\n",
       "    }\n",
       "</style>\n",
       "<table border=\"1\" class=\"dataframe\">\n",
       "  <thead>\n",
       "    <tr style=\"text-align: right;\">\n",
       "      <th></th>\n",
       "      <th>user_id</th>\n",
       "      <th>month</th>\n",
       "      <th>distance_sum</th>\n",
       "      <th>drive_count</th>\n",
       "      <th>duration_sum</th>\n",
       "      <th>subscription_type</th>\n",
       "      <th>minute_price</th>\n",
       "      <th>start_ride_price</th>\n",
       "      <th>subscription_fee</th>\n",
       "      <th>revenue_month</th>\n",
       "    </tr>\n",
       "  </thead>\n",
       "  <tbody>\n",
       "    <tr>\n",
       "      <th>0</th>\n",
       "      <td>1</td>\n",
       "      <td>1</td>\n",
       "      <td>7027.511294</td>\n",
       "      <td>2</td>\n",
       "      <td>42.0</td>\n",
       "      <td>ultra</td>\n",
       "      <td>6</td>\n",
       "      <td>0</td>\n",
       "      <td>199</td>\n",
       "      <td>451.0</td>\n",
       "    </tr>\n",
       "    <tr>\n",
       "      <th>1</th>\n",
       "      <td>1</td>\n",
       "      <td>4</td>\n",
       "      <td>754.159807</td>\n",
       "      <td>1</td>\n",
       "      <td>7.0</td>\n",
       "      <td>ultra</td>\n",
       "      <td>6</td>\n",
       "      <td>0</td>\n",
       "      <td>199</td>\n",
       "      <td>241.0</td>\n",
       "    </tr>\n",
       "    <tr>\n",
       "      <th>2</th>\n",
       "      <td>1</td>\n",
       "      <td>8</td>\n",
       "      <td>6723.470560</td>\n",
       "      <td>2</td>\n",
       "      <td>46.0</td>\n",
       "      <td>ultra</td>\n",
       "      <td>6</td>\n",
       "      <td>0</td>\n",
       "      <td>199</td>\n",
       "      <td>475.0</td>\n",
       "    </tr>\n",
       "  </tbody>\n",
       "</table>\n",
       "</div>"
      ],
      "text/plain": [
       "   user_id  month  distance_sum  drive_count  duration_sum subscription_type  \\\n",
       "0        1      1   7027.511294            2          42.0             ultra   \n",
       "1        1      4    754.159807            1           7.0             ultra   \n",
       "2        1      8   6723.470560            2          46.0             ultra   \n",
       "\n",
       "   minute_price  start_ride_price  subscription_fee  revenue_month  \n",
       "0             6                 0               199          451.0  \n",
       "1             6                 0               199          241.0  \n",
       "2             6                 0               199          475.0  "
      ]
     },
     "execution_count": 53,
     "metadata": {},
     "output_type": "execute_result"
    }
   ],
   "source": [
    "data_rides['revenue_month'] = (data_rides['start_ride_price'] * data_rides['drive_count'])\\\n",
    "+ (data_rides['minute_price'] * data_rides['duration_sum']) + data_rides['subscription_fee']\n",
    "data_rides.head(3)"
   ]
  },
  {
   "cell_type": "markdown",
   "id": "41545ac0",
   "metadata": {},
   "source": [
    "#### Шаг 6. Проверка гипотез"
   ]
  },
  {
   "cell_type": "markdown",
   "id": "7e703628",
   "metadata": {},
   "source": [
    "##### Посмотрим, тратят ли пользователи с подпиской больше времени на поездки?"
   ]
  },
  {
   "cell_type": "code",
   "execution_count": 54,
   "id": "dff1f72a",
   "metadata": {},
   "outputs": [
    {
     "data": {
      "text/plain": [
       "18.54198516280583"
      ]
     },
     "execution_count": 54,
     "metadata": {},
     "output_type": "execute_result"
    }
   ],
   "source": [
    "# посмотрим средие траты для пользователя с подпиской\n",
    "data_ultra['duration'].mean()"
   ]
  },
  {
   "cell_type": "code",
   "execution_count": 55,
   "id": "edc27376",
   "metadata": {},
   "outputs": [
    {
     "data": {
      "text/plain": [
       "17.39090929866399"
      ]
     },
     "execution_count": 55,
     "metadata": {},
     "output_type": "execute_result"
    }
   ],
   "source": [
    "# посмотрим средие траты для пользователя без подписки\n",
    "data_free['duration'].mean()"
   ]
  },
  {
   "cell_type": "markdown",
   "id": "92ef9ce4",
   "metadata": {},
   "source": [
    "Нулевая гипотеза звучит как «между средними значениями двух выборок нет разницы, они равны», а альтернативная — «среднее значение пользователей с подпиской больше среднего значения пользователей без подписки»."
   ]
  },
  {
   "cell_type": "code",
   "execution_count": 56,
   "id": "ba80d344",
   "metadata": {},
   "outputs": [
    {
     "name": "stdout",
     "output_type": "stream",
     "text": [
      "p-значение: 1.2804098316645618e-34\n",
      "Отвергаем нулевую гипотезу\n"
     ]
    }
   ],
   "source": [
    "alpha = 0.05 # уровень статистической значимости\n",
    "\n",
    "# проводим ttest для двух выборок, в качестве альтернативной используем одностороннюю гипотезу «больше»\n",
    "results = st.ttest_ind(data_ultra['duration'], data_free['duration'], alternative='greater')\n",
    "\n",
    "print('p-значение:', results.pvalue)\n",
    "\n",
    "if results.pvalue < alpha:\n",
    "    print('Отвергаем нулевую гипотезу')\n",
    "else:\n",
    "    print('Не получилось отвергнуть нулевую гипотезу') "
   ]
  },
  {
   "cell_type": "markdown",
   "id": "dc7a264b",
   "metadata": {},
   "source": [
    "Есть основания говорить, что пользователи с подпиской тратят больше времени на поездки.\n",
    "Также это подтверждают расчеты средних для пользователей с подпиской и без. "
   ]
  },
  {
   "cell_type": "markdown",
   "id": "ff08afe0",
   "metadata": {},
   "source": [
    "##### Расстояние одной поездки в 3130 метров — оптимальное с точки зрения износа самоката. Можно ли сказать, что среднее расстояние, которое проезжают пользователи с подпиской за одну поездку, не превышает 3130 метров? "
   ]
  },
  {
   "cell_type": "markdown",
   "id": "4220e83c",
   "metadata": {},
   "source": [
    "Нулевая гипотеза звучит как «среднее расстояние, которое проезжают пользователи с подпиской за одну поездку, равно 3130 метров», а альтернативная — «среднее расстояние, которое проезжают пользователи с подпиской за одну поездку больше 3130»."
   ]
  },
  {
   "cell_type": "markdown",
   "id": "ab80c719",
   "metadata": {},
   "source": [
    "Ответ: нулевая гепотеза всегда равно. Но когда мы рассматриваем односторонний тест, подразумевается меньше или равно."
   ]
  },
  {
   "cell_type": "code",
   "execution_count": 57,
   "id": "486e32e3",
   "metadata": {},
   "outputs": [
    {
     "name": "stdout",
     "output_type": "stream",
     "text": [
      "p-значение: 0.9195368847849785\n",
      "Не получилось отвергнуть нулевую гипотезу\n"
     ]
    }
   ],
   "source": [
    "trip_distance = 3130 # Расстояние одной поездки,оптимальное с точки зрения износа самоката\n",
    "\n",
    "alpha = 0.05 # уровень статистической значимости\n",
    "            \n",
    "results = st.ttest_1samp(\n",
    "    data_ultra['distance'], \n",
    "    trip_distance, alternative='greater')\n",
    "\n",
    "print('p-значение:', results.pvalue)\n",
    "\n",
    "if results.pvalue < alpha:\n",
    "    print('Отвергаем нулевую гипотезу')\n",
    "else:\n",
    "    print('Не получилось отвергнуть нулевую гипотезу')"
   ]
  },
  {
   "cell_type": "markdown",
   "id": "e9d0c681",
   "metadata": {},
   "source": [
    "Можно сделать вывод, что среднее расстояние, которое проезжают пользователи с подпиской за одну поездку, не превышает 3130 метров. То есть пользователи с подпиской выгодны компании еще и с точки зрения износа самоката. "
   ]
  },
  {
   "cell_type": "markdown",
   "id": "10db31e4",
   "metadata": {},
   "source": [
    "##### Проверим гипотезу о том, будет ли помесячная выручка от пользователей с подпиской по месяцам выше, чем выручка от пользователей без подписки."
   ]
  },
  {
   "cell_type": "code",
   "execution_count": 58,
   "id": "f78028c3",
   "metadata": {},
   "outputs": [
    {
     "data": {
      "text/html": [
       "<div>\n",
       "<style scoped>\n",
       "    .dataframe tbody tr th:only-of-type {\n",
       "        vertical-align: middle;\n",
       "    }\n",
       "\n",
       "    .dataframe tbody tr th {\n",
       "        vertical-align: top;\n",
       "    }\n",
       "\n",
       "    .dataframe thead th {\n",
       "        text-align: right;\n",
       "    }\n",
       "</style>\n",
       "<table border=\"1\" class=\"dataframe\">\n",
       "  <thead>\n",
       "    <tr style=\"text-align: right;\">\n",
       "      <th></th>\n",
       "      <th>user_id</th>\n",
       "      <th>month</th>\n",
       "      <th>distance_sum</th>\n",
       "      <th>drive_count</th>\n",
       "      <th>duration_sum</th>\n",
       "      <th>subscription_type</th>\n",
       "      <th>minute_price</th>\n",
       "      <th>start_ride_price</th>\n",
       "      <th>subscription_fee</th>\n",
       "      <th>revenue_month</th>\n",
       "    </tr>\n",
       "  </thead>\n",
       "  <tbody>\n",
       "    <tr>\n",
       "      <th>0</th>\n",
       "      <td>1</td>\n",
       "      <td>1</td>\n",
       "      <td>7027.511294</td>\n",
       "      <td>2</td>\n",
       "      <td>42.0</td>\n",
       "      <td>ultra</td>\n",
       "      <td>6</td>\n",
       "      <td>0</td>\n",
       "      <td>199</td>\n",
       "      <td>451.0</td>\n",
       "    </tr>\n",
       "    <tr>\n",
       "      <th>1</th>\n",
       "      <td>1</td>\n",
       "      <td>4</td>\n",
       "      <td>754.159807</td>\n",
       "      <td>1</td>\n",
       "      <td>7.0</td>\n",
       "      <td>ultra</td>\n",
       "      <td>6</td>\n",
       "      <td>0</td>\n",
       "      <td>199</td>\n",
       "      <td>241.0</td>\n",
       "    </tr>\n",
       "    <tr>\n",
       "      <th>2</th>\n",
       "      <td>1</td>\n",
       "      <td>8</td>\n",
       "      <td>6723.470560</td>\n",
       "      <td>2</td>\n",
       "      <td>46.0</td>\n",
       "      <td>ultra</td>\n",
       "      <td>6</td>\n",
       "      <td>0</td>\n",
       "      <td>199</td>\n",
       "      <td>475.0</td>\n",
       "    </tr>\n",
       "  </tbody>\n",
       "</table>\n",
       "</div>"
      ],
      "text/plain": [
       "   user_id  month  distance_sum  drive_count  duration_sum subscription_type  \\\n",
       "0        1      1   7027.511294            2          42.0             ultra   \n",
       "1        1      4    754.159807            1           7.0             ultra   \n",
       "2        1      8   6723.470560            2          46.0             ultra   \n",
       "\n",
       "   minute_price  start_ride_price  subscription_fee  revenue_month  \n",
       "0             6                 0               199          451.0  \n",
       "1             6                 0               199          241.0  \n",
       "2             6                 0               199          475.0  "
      ]
     },
     "execution_count": 58,
     "metadata": {},
     "output_type": "execute_result"
    }
   ],
   "source": [
    "#сначала найдем в таблице с выручкой по месяцам пользователей с подпиской:\n",
    "data_rides_ultra = data_rides.query('subscription_type == \"ultra\"')\n",
    "data_rides_ultra.head(3)"
   ]
  },
  {
   "cell_type": "code",
   "execution_count": 59,
   "id": "e69b2934",
   "metadata": {},
   "outputs": [
    {
     "data": {
      "text/html": [
       "<div>\n",
       "<style scoped>\n",
       "    .dataframe tbody tr th:only-of-type {\n",
       "        vertical-align: middle;\n",
       "    }\n",
       "\n",
       "    .dataframe tbody tr th {\n",
       "        vertical-align: top;\n",
       "    }\n",
       "\n",
       "    .dataframe thead th {\n",
       "        text-align: right;\n",
       "    }\n",
       "</style>\n",
       "<table border=\"1\" class=\"dataframe\">\n",
       "  <thead>\n",
       "    <tr style=\"text-align: right;\">\n",
       "      <th></th>\n",
       "      <th>user_id</th>\n",
       "      <th>month</th>\n",
       "      <th>distance_sum</th>\n",
       "      <th>drive_count</th>\n",
       "      <th>duration_sum</th>\n",
       "      <th>subscription_type</th>\n",
       "      <th>minute_price</th>\n",
       "      <th>start_ride_price</th>\n",
       "      <th>subscription_fee</th>\n",
       "      <th>revenue_month</th>\n",
       "    </tr>\n",
       "  </thead>\n",
       "  <tbody>\n",
       "    <tr>\n",
       "      <th>4533</th>\n",
       "      <td>700</td>\n",
       "      <td>1</td>\n",
       "      <td>2515.690719</td>\n",
       "      <td>1</td>\n",
       "      <td>15.0</td>\n",
       "      <td>free</td>\n",
       "      <td>8</td>\n",
       "      <td>50</td>\n",
       "      <td>0</td>\n",
       "      <td>170.0</td>\n",
       "    </tr>\n",
       "    <tr>\n",
       "      <th>4534</th>\n",
       "      <td>700</td>\n",
       "      <td>2</td>\n",
       "      <td>13446.659764</td>\n",
       "      <td>5</td>\n",
       "      <td>89.0</td>\n",
       "      <td>free</td>\n",
       "      <td>8</td>\n",
       "      <td>50</td>\n",
       "      <td>0</td>\n",
       "      <td>962.0</td>\n",
       "    </tr>\n",
       "    <tr>\n",
       "      <th>4535</th>\n",
       "      <td>700</td>\n",
       "      <td>3</td>\n",
       "      <td>3798.334905</td>\n",
       "      <td>1</td>\n",
       "      <td>19.0</td>\n",
       "      <td>free</td>\n",
       "      <td>8</td>\n",
       "      <td>50</td>\n",
       "      <td>0</td>\n",
       "      <td>202.0</td>\n",
       "    </tr>\n",
       "  </tbody>\n",
       "</table>\n",
       "</div>"
      ],
      "text/plain": [
       "      user_id  month  distance_sum  drive_count  duration_sum  \\\n",
       "4533      700      1   2515.690719            1          15.0   \n",
       "4534      700      2  13446.659764            5          89.0   \n",
       "4535      700      3   3798.334905            1          19.0   \n",
       "\n",
       "     subscription_type  minute_price  start_ride_price  subscription_fee  \\\n",
       "4533              free             8                50                 0   \n",
       "4534              free             8                50                 0   \n",
       "4535              free             8                50                 0   \n",
       "\n",
       "      revenue_month  \n",
       "4533          170.0  \n",
       "4534          962.0  \n",
       "4535          202.0  "
      ]
     },
     "execution_count": 59,
     "metadata": {},
     "output_type": "execute_result"
    }
   ],
   "source": [
    "#найдем пользователей без подпиской:\n",
    "data_rides_free = data_rides.query('subscription_type == \"free\"')\n",
    "data_rides_free.head(3)"
   ]
  },
  {
   "cell_type": "markdown",
   "id": "16684f80",
   "metadata": {},
   "source": [
    "Нулевая гипотеза звучит как «помесячная выручка от пользователей с подпиской равна помесячной выручки от пользователей без подписки», а альтернативная — «среднее значение помесячной выручки от пользователей с подпиской  больше помесячной выручки от пользователей без подпиской»."
   ]
  },
  {
   "cell_type": "code",
   "execution_count": 60,
   "id": "6c1d3b1c",
   "metadata": {},
   "outputs": [
    {
     "name": "stdout",
     "output_type": "stream",
     "text": [
      "p-значение: 1.8850394384715216e-31\n",
      "Отвергаем нулевую гипотезу\n"
     ]
    }
   ],
   "source": [
    "alpha = 0.05 # уровень статистической значимости\n",
    "\n",
    "# проводим ttest для двух выборок, в качестве альтернативной используем одностороннюю гипотезу «больше»\n",
    "results = st.ttest_ind(data_rides_ultra['revenue_month'], data_rides_free['revenue_month'], alternative='greater')\n",
    "\n",
    "print('p-значение:', results.pvalue)\n",
    "\n",
    "if results.pvalue < alpha:\n",
    "    print('Отвергаем нулевую гипотезу')\n",
    "else:\n",
    "    print('Не получилось отвергнуть нулевую гипотезу') "
   ]
  },
  {
   "cell_type": "markdown",
   "id": "e78ddecb",
   "metadata": {},
   "source": [
    "Можно сказать, что среднее значение помесячной выручки от пользователей с подпиской  больше помесячной выручки от пользователей без подпиской"
   ]
  },
  {
   "cell_type": "markdown",
   "id": "61213c5e",
   "metadata": {},
   "source": [
    "#### Шаг 7. Распределения"
   ]
  },
  {
   "cell_type": "markdown",
   "id": "f79d9ab5",
   "metadata": {},
   "source": [
    "##### Задача, нужно провести акцию с раздачей промокодов на один бесплатный месяц подписки, в рамках которой как минимум 100 существующих клиентов должны продлить эту подписку. \n",
    "\n",
    "Эта акция уже проводилась ранее и по итогу выяснилось, что после бесплатного пробного периода подписку продлевают 10 % пользователей. Выясните, какое минимальное количество промокодов нужно разослать, чтобы вероятность не выполнить план была примерно 5 %. \n",
    "\n"
   ]
  },
  {
   "cell_type": "code",
   "execution_count": 61,
   "id": "cfaee794",
   "metadata": {},
   "outputs": [
    {
     "data": {
      "text/plain": [
       "1161"
      ]
     },
     "execution_count": 61,
     "metadata": {},
     "output_type": "execute_result"
    }
   ],
   "source": [
    "p = 0.1 # вероятность продления подписки\n",
    "alpha = 0.05 # вероятность выполнить план\n",
    "target_x = 100 #минимальное количество успехов\n",
    "\n",
    "#поиск минимального n\n",
    "n=1000 #начинаем перебирать с этого сначения\n",
    "while binom.cdf(target_x - 1,n,p) > alpha:\n",
    "    n+=1 #увиличиваем n пока вероятность не станет <= 5%\n",
    "\n",
    "n"
   ]
  },
  {
   "cell_type": "code",
   "execution_count": 62,
   "id": "9dfd9153",
   "metadata": {},
   "outputs": [
    {
     "name": "stderr",
     "output_type": "stream",
     "text": [
      "/opt/conda/lib/python3.9/site-packages/scipy/stats/_discrete_distns.py:78: RuntimeWarning: divide by zero encountered in _binom_pdf\n",
      "  return _boost._binom_pdf(x, n, p)\n"
     ]
    },
    {
     "data": {
      "image/png": "[encoded data removed]",
      "text/plain": [
       "<Figure size 2000x1000 with 1 Axes>"
      ]
     },
     "metadata": {
      "needs_background": "light"
     },
     "output_type": "display_data"
    }
   ],
   "source": [
    "#построим график\n",
    "p = 0.1 # вероятность продления подписки\n",
    "n = 1161 # минимальное количество розданых промокодов\n",
    "\n",
    "distr = [] # создадим список distr, в котором будут хранится значения распределения\n",
    "\n",
    "for k in range(0, n + 1):\n",
    "    \n",
    "    prob = binom.pmf(k, n, p)\n",
    "    distr.append(prob)\n",
    "\n",
    "#построим распределение вероятностей\n",
    "plt.figure(figsize=(10,5), dpi = 200)\n",
    "plt.bar(range(0,n+1),distr) \n",
    "plt.axvline(x=target_x, color='r', label=\"100 подписок\")\n",
    "\n",
    "plt.title('График оценки вероятности того, что уведомление откроют 100 чел. с минимальным количеством розданых промокодов = 1161');\n",
    "plt.xlabel('количество подписок');\n",
    "plt.ylabel('вероятность продления подписки')\n",
    "plt.legend()\n",
    "plt.grid(True)\n",
    "\n",
    "plt.show()"
   ]
  },
  {
   "cell_type": "markdown",
   "id": "e0d2020d",
   "metadata": {},
   "source": [
    "Чтобы как минимум 100 существующих клиентов продлили подписку, нужно чтобы минимальное количество розданых промокодов было равно 1161, тогда вероятность не выполнить план будет примерно 5 %. "
   ]
  },
  {
   "cell_type": "markdown",
   "id": "27c6117f",
   "metadata": {},
   "source": [
    "##### Отдел маркетинга рассылает клиентам push-уведомления в мобильном приложении. Клиенты могут открыть его или не открывать. Известно, что уведомления открывают около 40 % получивших клиентов. Отдел планирует разослать 1 млн уведомлений. С помощью аппроксимации постройте примерный график распределения и оцените вероятность того, что уведомление откроют не более 399,5 тыс. пользователей."
   ]
  },
  {
   "cell_type": "code",
   "execution_count": 63,
   "id": "7310ccfe",
   "metadata": {},
   "outputs": [
    {
     "name": "stdout",
     "output_type": "stream",
     "text": [
      "0.15371708296369768\n"
     ]
    }
   ],
   "source": [
    "\n",
    "# задаём параметры биномиального распределения\n",
    "p = 0.4 # вероятность открыть уведомления\n",
    "n = 1000000 # минимальное количество разосланных уведомлений\n",
    "\n",
    "# зададим мат.ожидание и ст.отклонение нормального распределения равными\n",
    "# мат.ожиданию и ст.отклонению биномиального распределения\n",
    "mu = n * p\n",
    "sigma = sqrt(n * p * (1 - p))\n",
    "\n",
    "# задаём нормальное распределение\n",
    "distr = st.norm(mu, sigma) \n",
    "\n",
    "# считаем вероятность хвоста слева от 399,5 тыс.\n",
    "result = distr.cdf(399500)\n",
    "print(result)\n",
    "\n"
   ]
  },
  {
   "cell_type": "code",
   "execution_count": 64,
   "id": "b9cb99b8",
   "metadata": {},
   "outputs": [
    {
     "data": {
      "image/png": "[encoded data removed]",
      "text/plain": [
       "<Figure size 864x360 with 1 Axes>"
      ]
     },
     "metadata": {
      "needs_background": "light"
     },
     "output_type": "display_data"
    }
   ],
   "source": [
    "# задаём параметры биномиального распределения\n",
    "p = 0.4 # вероятность открыть уведомления\n",
    "n = 1000000 # минимальное количество разосланных уведомлений\n",
    "\n",
    "# зададим мат.ожидание и ст.отклонение нормального распределения равными\n",
    "# мат.ожиданию и ст.отклонению биномиального распределения\n",
    "mu = n * p\n",
    "sigma = sqrt(n * p * (1 - p))\n",
    "\n",
    "# задаём диапазон значений\n",
    "x = np.linspace(mu - 4*sigma, mu + 4*sigma, 1000)\n",
    "y = norm.pdf(x, mu, sigma)\n",
    "\n",
    "#построение графиков\n",
    "plt.figure(figsize=(12,5))\n",
    "plt.plot(x, y)\n",
    "plt.axvline(399500, color='r', label=\"399,5тыс\")\n",
    "\n",
    "plt.title('график распределения и оценка вероятности того, что уведомление откроют');\n",
    "plt.xlabel('количество пользователей');\n",
    "plt.ylabel('вероятность открыть уведомления')\n",
    "\n",
    "plt.legend()\n",
    "plt.grid(True)\n",
    "plt.show()\n"
   ]
  },
  {
   "cell_type": "markdown",
   "id": "32194fd6",
   "metadata": {},
   "source": [
    "Вероятность что уведомление откроют не более 399,5 тыс. пользователей при таком распределении равна \n",
    "15%"
   ]
  },
  {
   "cell_type": "markdown",
   "id": "8d29613f",
   "metadata": {},
   "source": [
    "# Вывод:"
   ]
  },
  {
   "cell_type": "markdown",
   "id": "5163097e",
   "metadata": {},
   "source": [
    "Изучили данные популярного сервиса аренды самокатов GoFast. Данные представленны в виде выборки пользователей и поездок которые они совершили.\n",
    "\n",
    "Проверили данные на дубликаты и пропуски. В таблице с пользователями удалили полные дубликаты, их было 31 строка.Пропусков в пользователях не было. В таблице с поездками полных дубликатов и пропусков не оказалось. \n",
    "\n",
    "В данных 55% пользователей без подписки и 45% с подпиской. Данные представленны по 8 городам: Тюмень, Омск, Москва, Ростов-на-Дону, Краснодар, Пятигорск, Екатеринбург, Сочи. Средний возраст пользователей 25 лет. \n",
    "\n",
    "Изучили данные о продолжительности и расстоянии поездок пользователей. Увидели что есть один пик в продолжительных поездках это около 3000 метров и по времени 15-20 минут. Также есть короткие поездки с продолжительностью около 600 метров. \n",
    "На графики со временем поездки обнаружили что поездки длительностью менее 1 минуы, имеют аномально большое расстояние, от 4000 метров, что не возможно. \n",
    "Не стали удалять эти строки так как потом в исследовании нам нужны будут данные об этих пользователях чтобы посчитать помесячную выручку, которую принёс каждый пользователь. В общем средняя продолжительность поездок 15-20 минут у всех категорий пользователей. \n",
    "\n",
    "\n",
    "Сделали вывод, что среднее расстояние, которое проезжают пользователи с подпиской за одну поездку, не превышает 3130 метров. То есть пользователи с подпиской выгодны компании еще и с точки зрения износа самоката, так как расстояние одной поездки в 3130 метров — оптимальное с точки зрения износа.\n",
    "Еще среднее значение помесячной выручки от пользователей с подпиской  больше помесячной выручки от пользователей без подпиской. \n",
    "Следовательно компании выгодны пользователи с подпиской. \n",
    "\n",
    "Чтобы увеличить количество таких пользователей, нужно проводить различные акции. \n",
    "\n",
    "\n",
    "В работе представленны две акции направленные на увелечение подписок. \n",
    "Первая акция с раздачей промокодов на один бесплатный месяц подписки, в рамках которой как минимум 100 существующих клиентов должны продлить эту подписку. Провели расчеты и сделали вывод, чтобы получить 100 и больше пользователей нужно отослать как минимум 1161 промокодов, тогда вероятность не выполнить план будет примерно 5 %. \n",
    "Следующая акция с рассылкой клиентам push-уведомления в мобильном приложении. Такие уведомления могут помочь проинформировать клиентов о скидках и акциях. Провели расчеты и сделали вывод что если компания разашлет 1млн уведомлений пользователям, то с 15% вертностью уведомление откроют не более  399,5 тыс. пользователей. \n"
   ]
  }
 ],
 "metadata": {
  "ExecuteTimeLog": [
   {
    "duration": 905,
    "start_time": "2025-02-03T15:46:35.386Z"
   },
   {
    "duration": 92,
    "start_time": "2025-02-03T15:46:38.138Z"
   },
   {
    "duration": 20,
    "start_time": "2025-02-03T15:46:39.852Z"
   },
   {
    "duration": 158,
    "start_time": "2025-02-03T15:46:40.995Z"
   },
   {
    "duration": 12,
    "start_time": "2025-02-03T15:46:41.363Z"
   },
   {
    "duration": 58,
    "start_time": "2025-02-03T15:46:41.557Z"
   },
   {
    "duration": 7,
    "start_time": "2025-02-03T15:46:42.957Z"
   },
   {
    "duration": 12,
    "start_time": "2025-02-03T15:47:47.749Z"
   },
   {
    "duration": 11,
    "start_time": "2025-02-03T15:48:09.720Z"
   },
   {
    "duration": 12,
    "start_time": "2025-02-03T15:48:51.879Z"
   },
   {
    "duration": 10,
    "start_time": "2025-02-03T16:06:41.850Z"
   },
   {
    "duration": 15,
    "start_time": "2025-02-03T16:09:09.493Z"
   },
   {
    "duration": 6,
    "start_time": "2025-02-03T16:11:18.956Z"
   },
   {
    "duration": 6,
    "start_time": "2025-02-03T16:12:06.539Z"
   },
   {
    "duration": 9,
    "start_time": "2025-02-03T16:12:36.468Z"
   },
   {
    "duration": 6,
    "start_time": "2025-02-03T16:12:57.567Z"
   },
   {
    "duration": 4,
    "start_time": "2025-02-03T16:14:17.459Z"
   },
   {
    "duration": 5,
    "start_time": "2025-02-03T16:14:46.079Z"
   },
   {
    "duration": 8,
    "start_time": "2025-02-03T16:16:49.779Z"
   },
   {
    "duration": 125,
    "start_time": "2025-02-03T16:20:12.069Z"
   },
   {
    "duration": 49,
    "start_time": "2025-02-04T08:55:50.237Z"
   },
   {
    "duration": 7,
    "start_time": "2025-02-04T08:56:07.964Z"
   },
   {
    "duration": 7,
    "start_time": "2025-02-04T08:57:05.657Z"
   },
   {
    "duration": 824,
    "start_time": "2025-02-04T08:57:19.137Z"
   },
   {
    "duration": 18,
    "start_time": "2025-02-04T08:57:19.963Z"
   },
   {
    "duration": 18,
    "start_time": "2025-02-04T08:57:19.983Z"
   },
   {
    "duration": 14,
    "start_time": "2025-02-04T08:57:20.003Z"
   },
   {
    "duration": 30,
    "start_time": "2025-02-04T08:57:20.020Z"
   },
   {
    "duration": 11,
    "start_time": "2025-02-04T08:57:20.052Z"
   },
   {
    "duration": 21,
    "start_time": "2025-02-04T08:57:20.065Z"
   },
   {
    "duration": 41,
    "start_time": "2025-02-04T08:57:20.087Z"
   },
   {
    "duration": 7,
    "start_time": "2025-02-04T08:57:20.130Z"
   },
   {
    "duration": 13,
    "start_time": "2025-02-04T08:57:20.139Z"
   },
   {
    "duration": 10,
    "start_time": "2025-02-04T08:57:20.154Z"
   },
   {
    "duration": 14,
    "start_time": "2025-02-04T08:57:20.166Z"
   },
   {
    "duration": 6,
    "start_time": "2025-02-04T08:57:20.183Z"
   },
   {
    "duration": 6,
    "start_time": "2025-02-04T08:57:20.209Z"
   },
   {
    "duration": 23,
    "start_time": "2025-02-04T08:57:20.216Z"
   },
   {
    "duration": 6,
    "start_time": "2025-02-04T08:57:20.240Z"
   },
   {
    "duration": 11,
    "start_time": "2025-02-04T08:57:20.248Z"
   },
   {
    "duration": 8,
    "start_time": "2025-02-04T09:00:11.967Z"
   },
   {
    "duration": 6,
    "start_time": "2025-02-04T09:00:15.962Z"
   },
   {
    "duration": 8,
    "start_time": "2025-02-04T09:00:16.260Z"
   },
   {
    "duration": 8,
    "start_time": "2025-02-04T09:01:55.346Z"
   },
   {
    "duration": 8,
    "start_time": "2025-02-04T09:02:11.182Z"
   },
   {
    "duration": 5,
    "start_time": "2025-02-04T09:02:11.527Z"
   },
   {
    "duration": 7,
    "start_time": "2025-02-04T09:02:11.785Z"
   },
   {
    "duration": 5,
    "start_time": "2025-02-04T09:03:32.381Z"
   },
   {
    "duration": 6,
    "start_time": "2025-02-04T09:06:04.672Z"
   },
   {
    "duration": 4,
    "start_time": "2025-02-04T09:07:46.738Z"
   },
   {
    "duration": 5,
    "start_time": "2025-02-04T09:08:24.290Z"
   },
   {
    "duration": 88,
    "start_time": "2025-02-04T09:10:24.084Z"
   },
   {
    "duration": 5,
    "start_time": "2025-02-04T09:10:41.583Z"
   },
   {
    "duration": 615,
    "start_time": "2025-02-04T09:10:42.024Z"
   },
   {
    "duration": 1110,
    "start_time": "2025-02-04T09:11:12.601Z"
   },
   {
    "duration": 72,
    "start_time": "2025-02-04T09:11:13.713Z"
   },
   {
    "duration": 16,
    "start_time": "2025-02-04T09:11:13.787Z"
   },
   {
    "duration": 11,
    "start_time": "2025-02-04T09:11:13.805Z"
   },
   {
    "duration": 27,
    "start_time": "2025-02-04T09:11:13.818Z"
   },
   {
    "duration": 11,
    "start_time": "2025-02-04T09:11:13.847Z"
   },
   {
    "duration": 17,
    "start_time": "2025-02-04T09:11:13.859Z"
   },
   {
    "duration": 15,
    "start_time": "2025-02-04T09:11:13.878Z"
   },
   {
    "duration": 7,
    "start_time": "2025-02-04T09:11:13.894Z"
   },
   {
    "duration": 14,
    "start_time": "2025-02-04T09:11:13.903Z"
   },
   {
    "duration": 10,
    "start_time": "2025-02-04T09:11:13.918Z"
   },
   {
    "duration": 14,
    "start_time": "2025-02-04T09:11:13.929Z"
   },
   {
    "duration": 5,
    "start_time": "2025-02-04T09:11:13.945Z"
   },
   {
    "duration": 6,
    "start_time": "2025-02-04T09:11:13.952Z"
   },
   {
    "duration": 7,
    "start_time": "2025-02-04T09:11:13.959Z"
   },
   {
    "duration": 43,
    "start_time": "2025-02-04T09:11:13.967Z"
   },
   {
    "duration": 8,
    "start_time": "2025-02-04T09:11:14.012Z"
   },
   {
    "duration": 4,
    "start_time": "2025-02-04T09:11:14.022Z"
   },
   {
    "duration": 5,
    "start_time": "2025-02-04T09:11:14.027Z"
   },
   {
    "duration": 192,
    "start_time": "2025-02-04T09:11:14.033Z"
   },
   {
    "duration": 5,
    "start_time": "2025-02-04T09:11:14.227Z"
   },
   {
    "duration": 19,
    "start_time": "2025-02-04T09:11:14.233Z"
   },
   {
    "duration": 6,
    "start_time": "2025-02-04T09:11:30.648Z"
   },
   {
    "duration": 162,
    "start_time": "2025-02-04T09:11:31.288Z"
   },
   {
    "duration": 164,
    "start_time": "2025-02-04T09:11:53.547Z"
   },
   {
    "duration": 97,
    "start_time": "2025-02-04T09:13:02.082Z"
   },
   {
    "duration": 7,
    "start_time": "2025-02-04T09:13:27.355Z"
   },
   {
    "duration": 137,
    "start_time": "2025-02-04T09:13:27.848Z"
   },
   {
    "duration": 144,
    "start_time": "2025-02-04T09:14:02.572Z"
   },
   {
    "duration": 6,
    "start_time": "2025-02-04T09:15:22.865Z"
   },
   {
    "duration": 14,
    "start_time": "2025-02-04T09:18:04.513Z"
   },
   {
    "duration": 12,
    "start_time": "2025-02-04T09:19:25.894Z"
   },
   {
    "duration": 55,
    "start_time": "2025-02-04T09:19:53.520Z"
   },
   {
    "duration": 5,
    "start_time": "2025-02-04T09:19:58.348Z"
   },
   {
    "duration": 14,
    "start_time": "2025-02-04T09:20:40.340Z"
   },
   {
    "duration": 4,
    "start_time": "2025-02-04T09:21:01.660Z"
   },
   {
    "duration": 4,
    "start_time": "2025-02-04T09:23:32.802Z"
   },
   {
    "duration": 5,
    "start_time": "2025-02-04T09:23:59.695Z"
   },
   {
    "duration": 9,
    "start_time": "2025-02-04T09:26:23.363Z"
   },
   {
    "duration": 19,
    "start_time": "2025-02-04T09:27:53.300Z"
   },
   {
    "duration": 10,
    "start_time": "2025-02-04T09:28:56.882Z"
   },
   {
    "duration": 25,
    "start_time": "2025-02-04T09:29:03.123Z"
   },
   {
    "duration": 20,
    "start_time": "2025-02-04T09:29:22.395Z"
   },
   {
    "duration": 23,
    "start_time": "2025-02-04T09:31:03.627Z"
   },
   {
    "duration": 11,
    "start_time": "2025-02-04T09:31:44.618Z"
   },
   {
    "duration": 23,
    "start_time": "2025-02-04T09:31:45.410Z"
   },
   {
    "duration": 22,
    "start_time": "2025-02-04T09:31:52.453Z"
   },
   {
    "duration": 3,
    "start_time": "2025-02-04T09:36:13.721Z"
   },
   {
    "duration": 70,
    "start_time": "2025-02-04T09:39:32.193Z"
   },
   {
    "duration": 11,
    "start_time": "2025-02-04T09:39:50.429Z"
   },
   {
    "duration": 14,
    "start_time": "2025-02-04T09:40:19.789Z"
   },
   {
    "duration": 15,
    "start_time": "2025-02-04T09:40:20.340Z"
   },
   {
    "duration": 20,
    "start_time": "2025-02-04T09:40:33.408Z"
   },
   {
    "duration": 21,
    "start_time": "2025-02-04T09:40:39.894Z"
   },
   {
    "duration": 161,
    "start_time": "2025-02-04T09:45:13.338Z"
   },
   {
    "duration": 164,
    "start_time": "2025-02-04T09:46:22.397Z"
   },
   {
    "duration": 168,
    "start_time": "2025-02-04T09:50:36.090Z"
   },
   {
    "duration": 146,
    "start_time": "2025-02-04T09:51:07.734Z"
   },
   {
    "duration": 9,
    "start_time": "2025-02-04T09:52:04.354Z"
   },
   {
    "duration": 10,
    "start_time": "2025-02-04T09:52:32.023Z"
   },
   {
    "duration": 146,
    "start_time": "2025-02-04T09:56:30.666Z"
   },
   {
    "duration": 234,
    "start_time": "2025-02-04T09:56:31.282Z"
   },
   {
    "duration": 168,
    "start_time": "2025-02-04T09:56:56.133Z"
   },
   {
    "duration": 170,
    "start_time": "2025-02-04T09:56:56.633Z"
   },
   {
    "duration": 150,
    "start_time": "2025-02-04T09:58:09.861Z"
   },
   {
    "duration": 170,
    "start_time": "2025-02-04T09:58:10.155Z"
   },
   {
    "duration": 159,
    "start_time": "2025-02-04T09:58:10.443Z"
   },
   {
    "duration": 172,
    "start_time": "2025-02-04T09:58:10.746Z"
   },
   {
    "duration": 176,
    "start_time": "2025-02-04T11:27:39.983Z"
   },
   {
    "duration": 213,
    "start_time": "2025-02-04T11:27:40.472Z"
   },
   {
    "duration": 192,
    "start_time": "2025-02-04T11:27:40.932Z"
   },
   {
    "duration": 184,
    "start_time": "2025-02-04T11:27:41.436Z"
   },
   {
    "duration": 20,
    "start_time": "2025-02-04T12:08:42.035Z"
   },
   {
    "duration": 14,
    "start_time": "2025-02-04T12:09:52.410Z"
   },
   {
    "duration": 26,
    "start_time": "2025-02-04T12:11:32.075Z"
   },
   {
    "duration": 113,
    "start_time": "2025-02-04T12:11:40.790Z"
   },
   {
    "duration": 15,
    "start_time": "2025-02-04T12:12:03.837Z"
   },
   {
    "duration": 14,
    "start_time": "2025-02-04T12:12:37.548Z"
   },
   {
    "duration": 20,
    "start_time": "2025-02-04T12:13:16.076Z"
   },
   {
    "duration": 20,
    "start_time": "2025-02-04T12:13:32.565Z"
   },
   {
    "duration": 14,
    "start_time": "2025-02-04T12:17:32.618Z"
   },
   {
    "duration": 97,
    "start_time": "2025-02-04T12:17:59.584Z"
   },
   {
    "duration": 14,
    "start_time": "2025-02-04T12:18:08.826Z"
   },
   {
    "duration": 27,
    "start_time": "2025-02-04T12:18:30.358Z"
   },
   {
    "duration": 40,
    "start_time": "2025-02-04T12:20:17.992Z"
   },
   {
    "duration": 27,
    "start_time": "2025-02-04T12:20:53.290Z"
   },
   {
    "duration": 15,
    "start_time": "2025-02-04T12:23:36.577Z"
   },
   {
    "duration": 27,
    "start_time": "2025-02-04T12:23:46.258Z"
   },
   {
    "duration": 80,
    "start_time": "2025-02-04T17:28:57.648Z"
   },
   {
    "duration": 45,
    "start_time": "2025-02-04T17:29:09.483Z"
   },
   {
    "duration": 1220,
    "start_time": "2025-02-04T17:29:20.378Z"
   },
   {
    "duration": 90,
    "start_time": "2025-02-04T17:29:21.600Z"
   },
   {
    "duration": 16,
    "start_time": "2025-02-04T17:29:21.691Z"
   },
   {
    "duration": 11,
    "start_time": "2025-02-04T17:29:21.708Z"
   },
   {
    "duration": 30,
    "start_time": "2025-02-04T17:29:21.720Z"
   },
   {
    "duration": 15,
    "start_time": "2025-02-04T17:29:21.752Z"
   },
   {
    "duration": 12,
    "start_time": "2025-02-04T17:29:21.769Z"
   },
   {
    "duration": 15,
    "start_time": "2025-02-04T17:29:21.783Z"
   },
   {
    "duration": 7,
    "start_time": "2025-02-04T17:29:21.799Z"
   },
   {
    "duration": 12,
    "start_time": "2025-02-04T17:29:21.810Z"
   },
   {
    "duration": 35,
    "start_time": "2025-02-04T17:29:21.824Z"
   },
   {
    "duration": 15,
    "start_time": "2025-02-04T17:29:21.861Z"
   },
   {
    "duration": 6,
    "start_time": "2025-02-04T17:29:21.877Z"
   },
   {
    "duration": 7,
    "start_time": "2025-02-04T17:29:21.884Z"
   },
   {
    "duration": 9,
    "start_time": "2025-02-04T17:29:21.893Z"
   },
   {
    "duration": 7,
    "start_time": "2025-02-04T17:29:21.903Z"
   },
   {
    "duration": 10,
    "start_time": "2025-02-04T17:29:21.912Z"
   },
   {
    "duration": 36,
    "start_time": "2025-02-04T17:29:21.923Z"
   },
   {
    "duration": 6,
    "start_time": "2025-02-04T17:29:21.960Z"
   },
   {
    "duration": 191,
    "start_time": "2025-02-04T17:29:21.967Z"
   },
   {
    "duration": 5,
    "start_time": "2025-02-04T17:29:22.159Z"
   },
   {
    "duration": 8,
    "start_time": "2025-02-04T17:29:22.166Z"
   },
   {
    "duration": 159,
    "start_time": "2025-02-04T17:29:22.176Z"
   },
   {
    "duration": 6,
    "start_time": "2025-02-04T17:29:22.337Z"
   },
   {
    "duration": 161,
    "start_time": "2025-02-04T17:29:22.344Z"
   },
   {
    "duration": 4,
    "start_time": "2025-02-04T17:29:22.507Z"
   },
   {
    "duration": 10,
    "start_time": "2025-02-04T17:29:22.512Z"
   },
   {
    "duration": 179,
    "start_time": "2025-02-04T17:29:22.525Z"
   },
   {
    "duration": 9,
    "start_time": "2025-02-04T17:29:22.706Z"
   },
   {
    "duration": 168,
    "start_time": "2025-02-04T17:29:22.716Z"
   },
   {
    "duration": 10,
    "start_time": "2025-02-04T17:29:22.885Z"
   },
   {
    "duration": 19,
    "start_time": "2025-02-04T17:29:22.897Z"
   },
   {
    "duration": 9,
    "start_time": "2025-02-04T17:29:22.917Z"
   },
   {
    "duration": 38,
    "start_time": "2025-02-04T17:29:22.927Z"
   },
   {
    "duration": 17,
    "start_time": "2025-02-04T17:29:22.967Z"
   },
   {
    "duration": 190,
    "start_time": "2025-02-04T17:29:22.985Z"
   },
   {
    "duration": 211,
    "start_time": "2025-02-04T17:29:23.177Z"
   },
   {
    "duration": 195,
    "start_time": "2025-02-04T17:29:23.389Z"
   },
   {
    "duration": 198,
    "start_time": "2025-02-04T17:29:23.586Z"
   },
   {
    "duration": 26,
    "start_time": "2025-02-04T17:29:23.786Z"
   },
   {
    "duration": 69,
    "start_time": "2025-02-04T17:32:12.861Z"
   },
   {
    "duration": 439,
    "start_time": "2025-02-04T17:32:31.076Z"
   },
   {
    "duration": 39,
    "start_time": "2025-02-04T17:32:50.828Z"
   },
   {
    "duration": 114,
    "start_time": "2025-02-04T17:35:09.756Z"
   },
   {
    "duration": 37,
    "start_time": "2025-02-04T17:35:24.626Z"
   },
   {
    "duration": 1335,
    "start_time": "2025-02-05T08:57:41.921Z"
   },
   {
    "duration": 94,
    "start_time": "2025-02-05T08:57:43.258Z"
   },
   {
    "duration": 23,
    "start_time": "2025-02-05T08:57:43.354Z"
   },
   {
    "duration": 13,
    "start_time": "2025-02-05T08:57:43.380Z"
   },
   {
    "duration": 31,
    "start_time": "2025-02-05T08:57:43.395Z"
   },
   {
    "duration": 14,
    "start_time": "2025-02-05T08:57:43.428Z"
   },
   {
    "duration": 29,
    "start_time": "2025-02-05T08:57:43.443Z"
   },
   {
    "duration": 19,
    "start_time": "2025-02-05T08:57:43.474Z"
   },
   {
    "duration": 40,
    "start_time": "2025-02-05T08:57:43.495Z"
   },
   {
    "duration": 34,
    "start_time": "2025-02-05T08:57:43.537Z"
   },
   {
    "duration": 11,
    "start_time": "2025-02-05T08:57:43.573Z"
   },
   {
    "duration": 28,
    "start_time": "2025-02-05T08:57:43.586Z"
   },
   {
    "duration": 7,
    "start_time": "2025-02-05T08:57:43.616Z"
   },
   {
    "duration": 12,
    "start_time": "2025-02-05T08:57:43.624Z"
   },
   {
    "duration": 16,
    "start_time": "2025-02-05T08:57:43.637Z"
   },
   {
    "duration": 20,
    "start_time": "2025-02-05T08:57:43.655Z"
   },
   {
    "duration": 9,
    "start_time": "2025-02-05T08:57:43.676Z"
   },
   {
    "duration": 68,
    "start_time": "2025-02-05T08:57:43.687Z"
   },
   {
    "duration": 8,
    "start_time": "2025-02-05T08:57:43.756Z"
   },
   {
    "duration": 211,
    "start_time": "2025-02-05T08:57:43.766Z"
   },
   {
    "duration": 6,
    "start_time": "2025-02-05T08:57:43.979Z"
   },
   {
    "duration": 18,
    "start_time": "2025-02-05T08:57:43.987Z"
   },
   {
    "duration": 170,
    "start_time": "2025-02-05T08:57:44.007Z"
   },
   {
    "duration": 8,
    "start_time": "2025-02-05T08:57:44.179Z"
   },
   {
    "duration": 191,
    "start_time": "2025-02-05T08:57:44.188Z"
   },
   {
    "duration": 5,
    "start_time": "2025-02-05T08:57:44.381Z"
   },
   {
    "duration": 20,
    "start_time": "2025-02-05T08:57:44.388Z"
   },
   {
    "duration": 181,
    "start_time": "2025-02-05T08:57:44.411Z"
   },
   {
    "duration": 9,
    "start_time": "2025-02-05T08:57:44.594Z"
   },
   {
    "duration": 182,
    "start_time": "2025-02-05T08:57:44.605Z"
   },
   {
    "duration": 12,
    "start_time": "2025-02-05T08:57:44.789Z"
   },
   {
    "duration": 25,
    "start_time": "2025-02-05T08:57:44.803Z"
   },
   {
    "duration": 13,
    "start_time": "2025-02-05T08:57:44.830Z"
   },
   {
    "duration": 42,
    "start_time": "2025-02-05T08:57:44.845Z"
   },
   {
    "duration": 46,
    "start_time": "2025-02-05T08:57:44.889Z"
   },
   {
    "duration": 199,
    "start_time": "2025-02-05T08:57:44.937Z"
   },
   {
    "duration": 234,
    "start_time": "2025-02-05T08:57:45.138Z"
   },
   {
    "duration": 219,
    "start_time": "2025-02-05T08:57:45.374Z"
   },
   {
    "duration": 236,
    "start_time": "2025-02-05T08:57:45.596Z"
   },
   {
    "duration": 54,
    "start_time": "2025-02-05T08:57:45.835Z"
   },
   {
    "duration": 44,
    "start_time": "2025-02-05T08:59:22.763Z"
   },
   {
    "duration": 109,
    "start_time": "2025-02-05T09:00:08.822Z"
   },
   {
    "duration": 1191,
    "start_time": "2025-02-05T09:00:22.028Z"
   },
   {
    "duration": 4,
    "start_time": "2025-02-05T09:00:42.817Z"
   },
   {
    "duration": 20,
    "start_time": "2025-02-05T09:01:02.945Z"
   },
   {
    "duration": 15,
    "start_time": "2025-02-05T09:04:56.943Z"
   },
   {
    "duration": 14,
    "start_time": "2025-02-05T09:05:16.522Z"
   },
   {
    "duration": 14,
    "start_time": "2025-02-05T09:05:21.606Z"
   },
   {
    "duration": 74,
    "start_time": "2025-02-05T09:08:05.285Z"
   },
   {
    "duration": 7,
    "start_time": "2025-02-05T09:08:21.440Z"
   },
   {
    "duration": 17,
    "start_time": "2025-02-05T09:08:27.466Z"
   },
   {
    "duration": 71,
    "start_time": "2025-02-05T09:08:53.168Z"
   },
   {
    "duration": 5,
    "start_time": "2025-02-05T09:09:04.409Z"
   },
   {
    "duration": 5,
    "start_time": "2025-02-05T09:09:23.226Z"
   },
   {
    "duration": 5,
    "start_time": "2025-02-05T09:09:35.657Z"
   },
   {
    "duration": 17,
    "start_time": "2025-02-05T09:09:39.819Z"
   },
   {
    "duration": 4,
    "start_time": "2025-02-05T09:11:18.672Z"
   },
   {
    "duration": 23,
    "start_time": "2025-02-05T09:11:19.167Z"
   },
   {
    "duration": 54,
    "start_time": "2025-02-05T09:38:42.863Z"
   },
   {
    "duration": 39,
    "start_time": "2025-02-05T09:39:21.896Z"
   },
   {
    "duration": 195,
    "start_time": "2025-02-05T09:41:11.899Z"
   },
   {
    "duration": 38,
    "start_time": "2025-02-05T09:43:12.704Z"
   },
   {
    "duration": 71,
    "start_time": "2025-02-05T09:43:30.189Z"
   },
   {
    "duration": 65,
    "start_time": "2025-02-05T09:43:57.053Z"
   },
   {
    "duration": 53,
    "start_time": "2025-02-05T09:44:13.329Z"
   },
   {
    "duration": 6,
    "start_time": "2025-02-05T09:44:43.746Z"
   },
   {
    "duration": 5,
    "start_time": "2025-02-05T09:45:43.038Z"
   },
   {
    "duration": 49,
    "start_time": "2025-02-05T09:46:35.613Z"
   },
   {
    "duration": 5,
    "start_time": "2025-02-05T09:47:20.791Z"
   },
   {
    "duration": 1215,
    "start_time": "2025-02-06T07:11:17.133Z"
   },
   {
    "duration": 97,
    "start_time": "2025-02-06T07:11:18.350Z"
   },
   {
    "duration": 16,
    "start_time": "2025-02-06T07:11:18.448Z"
   },
   {
    "duration": 11,
    "start_time": "2025-02-06T07:11:18.466Z"
   },
   {
    "duration": 37,
    "start_time": "2025-02-06T07:11:18.479Z"
   },
   {
    "duration": 13,
    "start_time": "2025-02-06T07:11:18.518Z"
   },
   {
    "duration": 20,
    "start_time": "2025-02-06T07:11:18.532Z"
   },
   {
    "duration": 20,
    "start_time": "2025-02-06T07:11:18.554Z"
   },
   {
    "duration": 7,
    "start_time": "2025-02-06T07:11:18.576Z"
   },
   {
    "duration": 32,
    "start_time": "2025-02-06T07:11:18.584Z"
   },
   {
    "duration": 11,
    "start_time": "2025-02-06T07:11:18.617Z"
   },
   {
    "duration": 14,
    "start_time": "2025-02-06T07:11:18.629Z"
   },
   {
    "duration": 6,
    "start_time": "2025-02-06T07:11:18.645Z"
   },
   {
    "duration": 7,
    "start_time": "2025-02-06T07:11:18.655Z"
   },
   {
    "duration": 10,
    "start_time": "2025-02-06T07:11:18.663Z"
   },
   {
    "duration": 36,
    "start_time": "2025-02-06T07:11:18.675Z"
   },
   {
    "duration": 12,
    "start_time": "2025-02-06T07:11:18.713Z"
   },
   {
    "duration": 6,
    "start_time": "2025-02-06T07:11:18.727Z"
   },
   {
    "duration": 10,
    "start_time": "2025-02-06T07:11:18.734Z"
   },
   {
    "duration": 258,
    "start_time": "2025-02-06T07:11:18.745Z"
   },
   {
    "duration": 7,
    "start_time": "2025-02-06T07:11:19.005Z"
   },
   {
    "duration": 8,
    "start_time": "2025-02-06T07:11:19.014Z"
   },
   {
    "duration": 156,
    "start_time": "2025-02-06T07:11:19.023Z"
   },
   {
    "duration": 6,
    "start_time": "2025-02-06T07:11:19.180Z"
   },
   {
    "duration": 166,
    "start_time": "2025-02-06T07:11:19.187Z"
   },
   {
    "duration": 5,
    "start_time": "2025-02-06T07:11:19.355Z"
   },
   {
    "duration": 18,
    "start_time": "2025-02-06T07:11:19.361Z"
   },
   {
    "duration": 195,
    "start_time": "2025-02-06T07:11:19.381Z"
   },
   {
    "duration": 9,
    "start_time": "2025-02-06T07:11:19.577Z"
   },
   {
    "duration": 166,
    "start_time": "2025-02-06T07:11:19.588Z"
   },
   {
    "duration": 10,
    "start_time": "2025-02-06T07:11:19.756Z"
   },
   {
    "duration": 27,
    "start_time": "2025-02-06T07:11:19.768Z"
   },
   {
    "duration": 21,
    "start_time": "2025-02-06T07:11:19.797Z"
   },
   {
    "duration": 19,
    "start_time": "2025-02-06T07:11:19.819Z"
   },
   {
    "duration": 17,
    "start_time": "2025-02-06T07:11:19.840Z"
   },
   {
    "duration": 199,
    "start_time": "2025-02-06T07:11:19.858Z"
   },
   {
    "duration": 203,
    "start_time": "2025-02-06T07:11:20.059Z"
   },
   {
    "duration": 200,
    "start_time": "2025-02-06T07:11:20.264Z"
   },
   {
    "duration": 216,
    "start_time": "2025-02-06T07:11:20.466Z"
   },
   {
    "duration": 48,
    "start_time": "2025-02-06T07:11:20.683Z"
   },
   {
    "duration": 4,
    "start_time": "2025-02-06T07:11:20.735Z"
   },
   {
    "duration": 57,
    "start_time": "2025-02-06T07:11:20.740Z"
   },
   {
    "duration": 4,
    "start_time": "2025-02-06T07:11:20.799Z"
   },
   {
    "duration": 6,
    "start_time": "2025-02-06T07:11:20.805Z"
   },
   {
    "duration": 5,
    "start_time": "2025-02-06T07:20:46.923Z"
   },
   {
    "duration": 6,
    "start_time": "2025-02-06T07:27:11.052Z"
   },
   {
    "duration": 5,
    "start_time": "2025-02-06T07:40:40.254Z"
   },
   {
    "duration": 4,
    "start_time": "2025-02-06T07:43:48.209Z"
   },
   {
    "duration": 5,
    "start_time": "2025-02-06T07:48:41.012Z"
   },
   {
    "duration": 25,
    "start_time": "2025-02-06T07:55:23.243Z"
   },
   {
    "duration": 6,
    "start_time": "2025-02-06T07:56:40.265Z"
   },
   {
    "duration": 20,
    "start_time": "2025-02-06T07:57:03.833Z"
   },
   {
    "duration": 114,
    "start_time": "2025-02-06T07:57:51.213Z"
   },
   {
    "duration": 31,
    "start_time": "2025-02-06T07:57:58.808Z"
   },
   {
    "duration": 15,
    "start_time": "2025-02-06T08:00:11.815Z"
   },
   {
    "duration": 16,
    "start_time": "2025-02-06T08:00:42.538Z"
   },
   {
    "duration": 15,
    "start_time": "2025-02-06T08:02:49.191Z"
   },
   {
    "duration": 17,
    "start_time": "2025-02-06T08:03:03.245Z"
   },
   {
    "duration": 77,
    "start_time": "2025-02-06T08:03:12.764Z"
   },
   {
    "duration": 15,
    "start_time": "2025-02-06T08:03:17.611Z"
   },
   {
    "duration": 16,
    "start_time": "2025-02-06T08:03:42.525Z"
   },
   {
    "duration": 15,
    "start_time": "2025-02-06T08:03:42.884Z"
   },
   {
    "duration": 4,
    "start_time": "2025-02-06T08:05:32.005Z"
   },
   {
    "duration": 4,
    "start_time": "2025-02-06T08:05:38.430Z"
   },
   {
    "duration": 25,
    "start_time": "2025-02-06T08:14:08.795Z"
   },
   {
    "duration": 16,
    "start_time": "2025-02-06T08:14:19.337Z"
   },
   {
    "duration": 7,
    "start_time": "2025-02-06T08:15:26.302Z"
   },
   {
    "duration": 20,
    "start_time": "2025-02-06T08:17:43.092Z"
   },
   {
    "duration": 10,
    "start_time": "2025-02-06T08:17:58.512Z"
   },
   {
    "duration": 9,
    "start_time": "2025-02-06T08:39:56.381Z"
   },
   {
    "duration": 10,
    "start_time": "2025-02-06T08:39:56.730Z"
   },
   {
    "duration": 9,
    "start_time": "2025-02-06T08:48:29.630Z"
   },
   {
    "duration": 12,
    "start_time": "2025-02-06T08:48:41.821Z"
   },
   {
    "duration": 12,
    "start_time": "2025-02-06T08:48:51.644Z"
   },
   {
    "duration": 15,
    "start_time": "2025-02-06T08:49:26.831Z"
   },
   {
    "duration": 7,
    "start_time": "2025-02-06T08:51:05.360Z"
   },
   {
    "duration": 6,
    "start_time": "2025-02-06T08:51:39.195Z"
   },
   {
    "duration": 19,
    "start_time": "2025-02-06T08:52:36.209Z"
   },
   {
    "duration": 23,
    "start_time": "2025-02-06T08:52:52.281Z"
   },
   {
    "duration": 6,
    "start_time": "2025-02-06T08:53:18.880Z"
   },
   {
    "duration": 51,
    "start_time": "2025-02-06T09:17:11.544Z"
   },
   {
    "duration": 1041,
    "start_time": "2025-02-06T09:17:23.056Z"
   },
   {
    "duration": 74,
    "start_time": "2025-02-06T09:17:24.099Z"
   },
   {
    "duration": 36,
    "start_time": "2025-02-06T09:17:24.175Z"
   },
   {
    "duration": 18,
    "start_time": "2025-02-06T09:17:24.214Z"
   },
   {
    "duration": 84,
    "start_time": "2025-02-06T09:17:24.236Z"
   },
   {
    "duration": 13,
    "start_time": "2025-02-06T09:17:24.322Z"
   },
   {
    "duration": 12,
    "start_time": "2025-02-06T09:17:24.337Z"
   },
   {
    "duration": 19,
    "start_time": "2025-02-06T09:17:24.351Z"
   },
   {
    "duration": 7,
    "start_time": "2025-02-06T09:17:24.372Z"
   },
   {
    "duration": 9,
    "start_time": "2025-02-06T09:17:24.381Z"
   },
   {
    "duration": 31,
    "start_time": "2025-02-06T09:17:24.392Z"
   },
   {
    "duration": 21,
    "start_time": "2025-02-06T09:17:24.425Z"
   },
   {
    "duration": 6,
    "start_time": "2025-02-06T09:17:24.448Z"
   },
   {
    "duration": 17,
    "start_time": "2025-02-06T09:17:24.457Z"
   },
   {
    "duration": 11,
    "start_time": "2025-02-06T09:17:24.476Z"
   },
   {
    "duration": 6,
    "start_time": "2025-02-06T09:17:24.509Z"
   },
   {
    "duration": 14,
    "start_time": "2025-02-06T09:17:24.517Z"
   },
   {
    "duration": 4,
    "start_time": "2025-02-06T09:17:24.533Z"
   },
   {
    "duration": 6,
    "start_time": "2025-02-06T09:17:24.539Z"
   },
   {
    "duration": 240,
    "start_time": "2025-02-06T09:17:24.547Z"
   },
   {
    "duration": 6,
    "start_time": "2025-02-06T09:17:24.788Z"
   },
   {
    "duration": 16,
    "start_time": "2025-02-06T09:17:24.797Z"
   },
   {
    "duration": 170,
    "start_time": "2025-02-06T09:17:24.815Z"
   },
   {
    "duration": 8,
    "start_time": "2025-02-06T09:17:24.987Z"
   },
   {
    "duration": 166,
    "start_time": "2025-02-06T09:17:25.009Z"
   },
   {
    "duration": 5,
    "start_time": "2025-02-06T09:17:25.177Z"
   },
   {
    "duration": 26,
    "start_time": "2025-02-06T09:17:25.184Z"
   },
   {
    "duration": 169,
    "start_time": "2025-02-06T09:17:25.213Z"
   },
   {
    "duration": 10,
    "start_time": "2025-02-06T09:17:25.384Z"
   },
   {
    "duration": 160,
    "start_time": "2025-02-06T09:17:25.409Z"
   },
   {
    "duration": 11,
    "start_time": "2025-02-06T09:17:25.570Z"
   },
   {
    "duration": 39,
    "start_time": "2025-02-06T09:17:25.582Z"
   },
   {
    "duration": 11,
    "start_time": "2025-02-06T09:17:25.623Z"
   },
   {
    "duration": 19,
    "start_time": "2025-02-06T09:17:25.636Z"
   },
   {
    "duration": 19,
    "start_time": "2025-02-06T09:17:25.657Z"
   },
   {
    "duration": 217,
    "start_time": "2025-02-06T09:17:25.678Z"
   },
   {
    "duration": 202,
    "start_time": "2025-02-06T09:17:25.897Z"
   },
   {
    "duration": 210,
    "start_time": "2025-02-06T09:17:26.101Z"
   },
   {
    "duration": 206,
    "start_time": "2025-02-06T09:17:26.313Z"
   },
   {
    "duration": 42,
    "start_time": "2025-02-06T09:17:26.521Z"
   },
   {
    "duration": 4,
    "start_time": "2025-02-06T09:17:26.566Z"
   },
   {
    "duration": 78,
    "start_time": "2025-02-06T09:17:26.572Z"
   },
   {
    "duration": 4,
    "start_time": "2025-02-06T09:17:26.652Z"
   },
   {
    "duration": 8,
    "start_time": "2025-02-06T09:17:26.658Z"
   },
   {
    "duration": 9,
    "start_time": "2025-02-06T09:17:26.668Z"
   },
   {
    "duration": 5,
    "start_time": "2025-02-06T09:17:26.679Z"
   },
   {
    "duration": 44,
    "start_time": "2025-02-06T09:17:26.686Z"
   },
   {
    "duration": 21,
    "start_time": "2025-02-06T09:17:26.732Z"
   },
   {
    "duration": 8,
    "start_time": "2025-02-06T09:17:26.755Z"
   },
   {
    "duration": 9,
    "start_time": "2025-02-06T09:17:50.160Z"
   },
   {
    "duration": 6,
    "start_time": "2025-02-06T09:20:58.814Z"
   },
   {
    "duration": 10,
    "start_time": "2025-02-06T09:24:38.024Z"
   },
   {
    "duration": 5,
    "start_time": "2025-02-06T09:25:36.181Z"
   },
   {
    "duration": 172,
    "start_time": "2025-02-06T09:25:37.130Z"
   },
   {
    "duration": 9,
    "start_time": "2025-02-06T09:26:00.390Z"
   },
   {
    "duration": 215,
    "start_time": "2025-02-06T09:27:15.506Z"
   },
   {
    "duration": 125,
    "start_time": "2025-02-06T09:27:45.063Z"
   },
   {
    "duration": 5,
    "start_time": "2025-02-06T09:28:47.446Z"
   },
   {
    "duration": 7,
    "start_time": "2025-02-06T09:32:44.093Z"
   },
   {
    "duration": 169,
    "start_time": "2025-02-06T09:33:54.140Z"
   },
   {
    "duration": 189,
    "start_time": "2025-02-06T09:33:59.168Z"
   },
   {
    "duration": 167,
    "start_time": "2025-02-06T09:34:21.040Z"
   },
   {
    "duration": 174,
    "start_time": "2025-02-06T09:34:28.147Z"
   },
   {
    "duration": 174,
    "start_time": "2025-02-06T09:34:33.235Z"
   },
   {
    "duration": 195,
    "start_time": "2025-02-06T09:34:37.557Z"
   },
   {
    "duration": 63,
    "start_time": "2025-02-06T09:35:34.756Z"
   },
   {
    "duration": 1232,
    "start_time": "2025-02-06T13:38:16.048Z"
   },
   {
    "duration": 91,
    "start_time": "2025-02-06T13:38:17.282Z"
   },
   {
    "duration": 17,
    "start_time": "2025-02-06T13:38:17.374Z"
   },
   {
    "duration": 11,
    "start_time": "2025-02-06T13:38:17.393Z"
   },
   {
    "duration": 28,
    "start_time": "2025-02-06T13:38:17.406Z"
   },
   {
    "duration": 27,
    "start_time": "2025-02-06T13:38:17.436Z"
   },
   {
    "duration": 10,
    "start_time": "2025-02-06T13:38:17.465Z"
   },
   {
    "duration": 36,
    "start_time": "2025-02-06T13:38:17.476Z"
   },
   {
    "duration": 6,
    "start_time": "2025-02-06T13:38:17.514Z"
   },
   {
    "duration": 11,
    "start_time": "2025-02-06T13:38:17.521Z"
   },
   {
    "duration": 12,
    "start_time": "2025-02-06T13:38:17.534Z"
   },
   {
    "duration": 23,
    "start_time": "2025-02-06T13:38:17.547Z"
   },
   {
    "duration": 5,
    "start_time": "2025-02-06T13:38:17.571Z"
   },
   {
    "duration": 5,
    "start_time": "2025-02-06T13:38:17.579Z"
   },
   {
    "duration": 9,
    "start_time": "2025-02-06T13:38:17.585Z"
   },
   {
    "duration": 6,
    "start_time": "2025-02-06T13:38:17.595Z"
   },
   {
    "duration": 7,
    "start_time": "2025-02-06T13:38:17.602Z"
   },
   {
    "duration": 5,
    "start_time": "2025-02-06T13:38:17.611Z"
   },
   {
    "duration": 8,
    "start_time": "2025-02-06T13:38:17.617Z"
   },
   {
    "duration": 188,
    "start_time": "2025-02-06T13:38:17.658Z"
   },
   {
    "duration": 5,
    "start_time": "2025-02-06T13:38:17.848Z"
   },
   {
    "duration": 8,
    "start_time": "2025-02-06T13:38:17.858Z"
   },
   {
    "duration": 13,
    "start_time": "2025-02-06T13:38:17.867Z"
   },
   {
    "duration": 141,
    "start_time": "2025-02-06T13:38:17.881Z"
   },
   {
    "duration": 4,
    "start_time": "2025-02-06T13:38:18.024Z"
   },
   {
    "duration": 173,
    "start_time": "2025-02-06T13:38:18.029Z"
   },
   {
    "duration": 4,
    "start_time": "2025-02-06T13:38:18.204Z"
   },
   {
    "duration": 9,
    "start_time": "2025-02-06T13:38:18.209Z"
   },
   {
    "duration": 168,
    "start_time": "2025-02-06T13:38:18.219Z"
   },
   {
    "duration": 8,
    "start_time": "2025-02-06T13:38:18.389Z"
   },
   {
    "duration": 166,
    "start_time": "2025-02-06T13:38:18.398Z"
   },
   {
    "duration": 10,
    "start_time": "2025-02-06T13:38:18.565Z"
   },
   {
    "duration": 19,
    "start_time": "2025-02-06T13:38:18.576Z"
   },
   {
    "duration": 9,
    "start_time": "2025-02-06T13:38:18.596Z"
   },
   {
    "duration": 17,
    "start_time": "2025-02-06T13:38:18.606Z"
   },
   {
    "duration": 46,
    "start_time": "2025-02-06T13:38:18.624Z"
   },
   {
    "duration": 183,
    "start_time": "2025-02-06T13:38:18.672Z"
   },
   {
    "duration": 189,
    "start_time": "2025-02-06T13:38:18.857Z"
   },
   {
    "duration": 195,
    "start_time": "2025-02-06T13:38:19.047Z"
   },
   {
    "duration": 254,
    "start_time": "2025-02-06T13:38:19.243Z"
   },
   {
    "duration": 38,
    "start_time": "2025-02-06T13:38:19.500Z"
   },
   {
    "duration": 19,
    "start_time": "2025-02-06T13:38:19.539Z"
   },
   {
    "duration": 19,
    "start_time": "2025-02-06T13:38:19.559Z"
   },
   {
    "duration": 5,
    "start_time": "2025-02-06T13:38:19.580Z"
   },
   {
    "duration": 5,
    "start_time": "2025-02-06T13:38:19.586Z"
   },
   {
    "duration": 26,
    "start_time": "2025-02-06T13:38:19.592Z"
   },
   {
    "duration": 44,
    "start_time": "2025-02-06T13:38:19.619Z"
   },
   {
    "duration": 5,
    "start_time": "2025-02-06T13:38:19.665Z"
   },
   {
    "duration": 1599,
    "start_time": "2025-02-06T13:40:08.567Z"
   },
   {
    "duration": 243,
    "start_time": "2025-02-06T13:40:18.949Z"
   },
   {
    "duration": 1582,
    "start_time": "2025-02-06T13:42:00.311Z"
   },
   {
    "duration": 235,
    "start_time": "2025-02-06T13:43:52.396Z"
   },
   {
    "duration": 1665,
    "start_time": "2025-02-06T13:46:46.331Z"
   },
   {
    "duration": 1681,
    "start_time": "2025-02-06T13:49:03.299Z"
   },
   {
    "duration": 1695,
    "start_time": "2025-02-06T13:49:21.959Z"
   },
   {
    "duration": 4,
    "start_time": "2025-02-06T13:50:55.421Z"
   },
   {
    "duration": 1419,
    "start_time": "2025-02-06T13:52:23.153Z"
   },
   {
    "duration": 3,
    "start_time": "2025-02-06T13:52:25.374Z"
   },
   {
    "duration": 143,
    "start_time": "2025-02-06T13:52:45.034Z"
   },
   {
    "duration": 41,
    "start_time": "2025-02-06T13:52:49.556Z"
   },
   {
    "duration": 4,
    "start_time": "2025-02-06T13:52:49.978Z"
   },
   {
    "duration": 42,
    "start_time": "2025-02-06T13:53:01.477Z"
   },
   {
    "duration": 1773,
    "start_time": "2025-02-06T13:53:09.542Z"
   },
   {
    "duration": 4,
    "start_time": "2025-02-06T13:53:11.316Z"
   },
   {
    "duration": 54,
    "start_time": "2025-02-06T16:19:02.686Z"
   },
   {
    "duration": 1177,
    "start_time": "2025-02-06T16:19:06.558Z"
   },
   {
    "duration": 86,
    "start_time": "2025-02-06T16:19:07.737Z"
   },
   {
    "duration": 16,
    "start_time": "2025-02-06T16:19:07.825Z"
   },
   {
    "duration": 11,
    "start_time": "2025-02-06T16:19:07.843Z"
   },
   {
    "duration": 32,
    "start_time": "2025-02-06T16:19:07.856Z"
   },
   {
    "duration": 12,
    "start_time": "2025-02-06T16:19:07.889Z"
   },
   {
    "duration": 120,
    "start_time": "2025-02-06T16:19:07.902Z"
   },
   {
    "duration": 31,
    "start_time": "2025-02-06T16:19:08.024Z"
   },
   {
    "duration": 7,
    "start_time": "2025-02-06T16:19:08.057Z"
   },
   {
    "duration": 48,
    "start_time": "2025-02-06T16:19:08.065Z"
   },
   {
    "duration": 45,
    "start_time": "2025-02-06T16:19:08.115Z"
   },
   {
    "duration": 22,
    "start_time": "2025-02-06T16:19:08.162Z"
   },
   {
    "duration": 25,
    "start_time": "2025-02-06T16:19:08.185Z"
   },
   {
    "duration": 31,
    "start_time": "2025-02-06T16:19:08.214Z"
   },
   {
    "duration": 23,
    "start_time": "2025-02-06T16:19:08.247Z"
   },
   {
    "duration": 26,
    "start_time": "2025-02-06T16:19:08.272Z"
   },
   {
    "duration": 12,
    "start_time": "2025-02-06T16:19:08.300Z"
   },
   {
    "duration": 27,
    "start_time": "2025-02-06T16:19:08.313Z"
   },
   {
    "duration": 10,
    "start_time": "2025-02-06T16:19:08.341Z"
   },
   {
    "duration": 167,
    "start_time": "2025-02-06T16:19:08.353Z"
   },
   {
    "duration": 4,
    "start_time": "2025-02-06T16:19:08.522Z"
   },
   {
    "duration": 31,
    "start_time": "2025-02-06T16:19:08.527Z"
   },
   {
    "duration": 137,
    "start_time": "2025-02-06T16:19:08.559Z"
   },
   {
    "duration": 122,
    "start_time": "2025-02-06T16:19:08.697Z"
   },
   {
    "duration": 4,
    "start_time": "2025-02-06T16:19:08.820Z"
   },
   {
    "duration": 171,
    "start_time": "2025-02-06T16:19:08.825Z"
   },
   {
    "duration": 5,
    "start_time": "2025-02-06T16:19:08.997Z"
   },
   {
    "duration": 13,
    "start_time": "2025-02-06T16:19:09.003Z"
   },
   {
    "duration": 171,
    "start_time": "2025-02-06T16:19:09.018Z"
   },
   {
    "duration": 9,
    "start_time": "2025-02-06T16:19:09.190Z"
   },
   {
    "duration": 162,
    "start_time": "2025-02-06T16:19:09.200Z"
   },
   {
    "duration": 9,
    "start_time": "2025-02-06T16:19:09.364Z"
   },
   {
    "duration": 35,
    "start_time": "2025-02-06T16:19:09.375Z"
   },
   {
    "duration": 11,
    "start_time": "2025-02-06T16:19:09.411Z"
   },
   {
    "duration": 26,
    "start_time": "2025-02-06T16:19:09.423Z"
   },
   {
    "duration": 19,
    "start_time": "2025-02-06T16:19:09.450Z"
   },
   {
    "duration": 159,
    "start_time": "2025-02-06T16:19:09.471Z"
   },
   {
    "duration": 174,
    "start_time": "2025-02-06T16:19:09.632Z"
   },
   {
    "duration": 174,
    "start_time": "2025-02-06T16:19:09.808Z"
   },
   {
    "duration": 245,
    "start_time": "2025-02-06T16:19:09.983Z"
   },
   {
    "duration": 47,
    "start_time": "2025-02-06T16:19:10.231Z"
   },
   {
    "duration": 3,
    "start_time": "2025-02-06T16:19:10.279Z"
   },
   {
    "duration": 42,
    "start_time": "2025-02-06T16:19:10.284Z"
   },
   {
    "duration": 5,
    "start_time": "2025-02-06T16:19:10.328Z"
   },
   {
    "duration": 60,
    "start_time": "2025-02-06T16:19:10.334Z"
   },
   {
    "duration": 29,
    "start_time": "2025-02-06T16:19:10.395Z"
   },
   {
    "duration": 18,
    "start_time": "2025-02-06T16:19:10.426Z"
   },
   {
    "duration": 9,
    "start_time": "2025-02-06T16:19:10.445Z"
   },
   {
    "duration": 682,
    "start_time": "2025-02-06T16:19:10.455Z"
   },
   {
    "duration": 10,
    "start_time": "2025-02-06T16:19:11.139Z"
   },
   {
    "duration": 1401,
    "start_time": "2025-02-06T16:25:18.763Z"
   },
   {
    "duration": 256,
    "start_time": "2025-02-06T16:26:53.822Z"
   },
   {
    "duration": 171,
    "start_time": "2025-02-06T16:27:23.015Z"
   },
   {
    "duration": 1610,
    "start_time": "2025-02-06T16:27:31.928Z"
   },
   {
    "duration": 1168,
    "start_time": "2025-02-07T06:40:17.353Z"
   },
   {
    "duration": 86,
    "start_time": "2025-02-07T06:40:18.524Z"
   },
   {
    "duration": 15,
    "start_time": "2025-02-07T06:40:18.612Z"
   },
   {
    "duration": 10,
    "start_time": "2025-02-07T06:40:18.628Z"
   },
   {
    "duration": 28,
    "start_time": "2025-02-07T06:40:18.640Z"
   },
   {
    "duration": 11,
    "start_time": "2025-02-07T06:40:18.670Z"
   },
   {
    "duration": 27,
    "start_time": "2025-02-07T06:40:18.683Z"
   },
   {
    "duration": 16,
    "start_time": "2025-02-07T06:40:18.711Z"
   },
   {
    "duration": 6,
    "start_time": "2025-02-07T06:40:18.728Z"
   },
   {
    "duration": 10,
    "start_time": "2025-02-07T06:40:18.736Z"
   },
   {
    "duration": 25,
    "start_time": "2025-02-07T06:40:18.747Z"
   },
   {
    "duration": 13,
    "start_time": "2025-02-07T06:40:18.774Z"
   },
   {
    "duration": 5,
    "start_time": "2025-02-07T06:40:18.789Z"
   },
   {
    "duration": 20,
    "start_time": "2025-02-07T06:40:18.796Z"
   },
   {
    "duration": 13,
    "start_time": "2025-02-07T06:40:18.819Z"
   },
   {
    "duration": 8,
    "start_time": "2025-02-07T06:40:18.834Z"
   },
   {
    "duration": 11,
    "start_time": "2025-02-07T06:40:18.844Z"
   },
   {
    "duration": 6,
    "start_time": "2025-02-07T06:40:18.857Z"
   },
   {
    "duration": 49,
    "start_time": "2025-02-07T06:40:18.865Z"
   },
   {
    "duration": 174,
    "start_time": "2025-02-07T06:40:18.916Z"
   },
   {
    "duration": 5,
    "start_time": "2025-02-07T06:40:19.092Z"
   },
   {
    "duration": 10,
    "start_time": "2025-02-07T06:40:19.110Z"
   },
   {
    "duration": 10,
    "start_time": "2025-02-07T06:40:19.122Z"
   },
   {
    "duration": 140,
    "start_time": "2025-02-07T06:40:19.134Z"
   },
   {
    "duration": 3,
    "start_time": "2025-02-07T06:40:19.276Z"
   },
   {
    "duration": 158,
    "start_time": "2025-02-07T06:40:19.281Z"
   },
   {
    "duration": 5,
    "start_time": "2025-02-07T06:40:19.440Z"
   },
   {
    "duration": 9,
    "start_time": "2025-02-07T06:40:19.446Z"
   },
   {
    "duration": 166,
    "start_time": "2025-02-07T06:40:19.457Z"
   },
   {
    "duration": 9,
    "start_time": "2025-02-07T06:40:19.625Z"
   },
   {
    "duration": 164,
    "start_time": "2025-02-07T06:40:19.635Z"
   },
   {
    "duration": 14,
    "start_time": "2025-02-07T06:40:19.801Z"
   },
   {
    "duration": 18,
    "start_time": "2025-02-07T06:40:19.816Z"
   },
   {
    "duration": 9,
    "start_time": "2025-02-07T06:40:19.836Z"
   },
   {
    "duration": 24,
    "start_time": "2025-02-07T06:40:19.846Z"
   },
   {
    "duration": 16,
    "start_time": "2025-02-07T06:40:19.872Z"
   },
   {
    "duration": 167,
    "start_time": "2025-02-07T06:40:19.910Z"
   },
   {
    "duration": 187,
    "start_time": "2025-02-07T06:40:20.079Z"
   },
   {
    "duration": 189,
    "start_time": "2025-02-07T06:40:20.268Z"
   },
   {
    "duration": 250,
    "start_time": "2025-02-07T06:40:20.459Z"
   },
   {
    "duration": 39,
    "start_time": "2025-02-07T06:40:20.712Z"
   },
   {
    "duration": 3,
    "start_time": "2025-02-07T06:40:20.753Z"
   },
   {
    "duration": 22,
    "start_time": "2025-02-07T06:40:20.758Z"
   },
   {
    "duration": 28,
    "start_time": "2025-02-07T06:40:20.782Z"
   },
   {
    "duration": 7,
    "start_time": "2025-02-07T06:40:20.812Z"
   },
   {
    "duration": 22,
    "start_time": "2025-02-07T06:40:20.820Z"
   },
   {
    "duration": 21,
    "start_time": "2025-02-07T06:40:20.843Z"
   },
   {
    "duration": 7,
    "start_time": "2025-02-07T06:40:20.865Z"
   },
   {
    "duration": 1384,
    "start_time": "2025-02-07T06:40:20.910Z"
   },
   {
    "duration": 4,
    "start_time": "2025-02-07T06:40:22.295Z"
   },
   {
    "duration": 4,
    "start_time": "2025-02-07T06:41:21.186Z"
   },
   {
    "duration": 4,
    "start_time": "2025-02-07T06:41:38.549Z"
   },
   {
    "duration": 1457,
    "start_time": "2025-02-07T06:43:40.753Z"
   },
   {
    "duration": 1024,
    "start_time": "2025-02-07T06:51:46.305Z"
   },
   {
    "duration": 67,
    "start_time": "2025-02-07T06:51:47.331Z"
   },
   {
    "duration": 15,
    "start_time": "2025-02-07T06:51:47.399Z"
   },
   {
    "duration": 10,
    "start_time": "2025-02-07T06:51:47.416Z"
   },
   {
    "duration": 34,
    "start_time": "2025-02-07T06:51:47.428Z"
   },
   {
    "duration": 11,
    "start_time": "2025-02-07T06:51:47.464Z"
   },
   {
    "duration": 21,
    "start_time": "2025-02-07T06:51:47.477Z"
   },
   {
    "duration": 33,
    "start_time": "2025-02-07T06:51:47.500Z"
   },
   {
    "duration": 9,
    "start_time": "2025-02-07T06:51:47.535Z"
   },
   {
    "duration": 28,
    "start_time": "2025-02-07T06:51:47.547Z"
   },
   {
    "duration": 21,
    "start_time": "2025-02-07T06:51:47.577Z"
   },
   {
    "duration": 21,
    "start_time": "2025-02-07T06:51:47.599Z"
   },
   {
    "duration": 18,
    "start_time": "2025-02-07T06:51:47.622Z"
   },
   {
    "duration": 9,
    "start_time": "2025-02-07T06:51:47.641Z"
   },
   {
    "duration": 28,
    "start_time": "2025-02-07T06:51:47.651Z"
   },
   {
    "duration": 6,
    "start_time": "2025-02-07T06:51:47.680Z"
   },
   {
    "duration": 21,
    "start_time": "2025-02-07T06:51:47.687Z"
   },
   {
    "duration": 6,
    "start_time": "2025-02-07T06:51:47.709Z"
   },
   {
    "duration": 7,
    "start_time": "2025-02-07T06:51:47.716Z"
   },
   {
    "duration": 180,
    "start_time": "2025-02-07T06:51:47.724Z"
   },
   {
    "duration": 5,
    "start_time": "2025-02-07T06:51:47.906Z"
   },
   {
    "duration": 28,
    "start_time": "2025-02-07T06:51:47.912Z"
   },
   {
    "duration": 24,
    "start_time": "2025-02-07T06:51:47.942Z"
   },
   {
    "duration": 116,
    "start_time": "2025-02-07T06:51:47.968Z"
   },
   {
    "duration": 4,
    "start_time": "2025-02-07T06:51:48.085Z"
   },
   {
    "duration": 161,
    "start_time": "2025-02-07T06:51:48.090Z"
   },
   {
    "duration": 3,
    "start_time": "2025-02-07T06:51:48.253Z"
   },
   {
    "duration": 38,
    "start_time": "2025-02-07T06:51:48.259Z"
   },
   {
    "duration": 150,
    "start_time": "2025-02-07T06:51:48.298Z"
   },
   {
    "duration": 8,
    "start_time": "2025-02-07T06:51:48.450Z"
   },
   {
    "duration": 162,
    "start_time": "2025-02-07T06:51:48.459Z"
   },
   {
    "duration": 10,
    "start_time": "2025-02-07T06:51:48.623Z"
   },
   {
    "duration": 18,
    "start_time": "2025-02-07T06:51:48.635Z"
   },
   {
    "duration": 9,
    "start_time": "2025-02-07T06:51:48.655Z"
   },
   {
    "duration": 43,
    "start_time": "2025-02-07T06:51:48.666Z"
   },
   {
    "duration": 18,
    "start_time": "2025-02-07T06:51:48.711Z"
   },
   {
    "duration": 247,
    "start_time": "2025-02-07T06:51:48.730Z"
   },
   {
    "duration": 192,
    "start_time": "2025-02-07T06:51:48.979Z"
   },
   {
    "duration": 194,
    "start_time": "2025-02-07T06:51:49.173Z"
   },
   {
    "duration": 251,
    "start_time": "2025-02-07T06:51:49.368Z"
   },
   {
    "duration": 40,
    "start_time": "2025-02-07T06:51:49.621Z"
   },
   {
    "duration": 4,
    "start_time": "2025-02-07T06:51:49.662Z"
   },
   {
    "duration": 42,
    "start_time": "2025-02-07T06:51:49.668Z"
   },
   {
    "duration": 6,
    "start_time": "2025-02-07T06:51:49.712Z"
   },
   {
    "duration": 18,
    "start_time": "2025-02-07T06:51:49.720Z"
   },
   {
    "duration": 23,
    "start_time": "2025-02-07T06:51:49.740Z"
   },
   {
    "duration": 18,
    "start_time": "2025-02-07T06:51:49.764Z"
   },
   {
    "duration": 5,
    "start_time": "2025-02-07T06:51:49.784Z"
   },
   {
    "duration": 1420,
    "start_time": "2025-02-07T06:51:49.790Z"
   },
   {
    "duration": 4,
    "start_time": "2025-02-07T06:51:51.211Z"
   },
   {
    "duration": 103,
    "start_time": "2025-02-07T06:51:51.217Z"
   },
   {
    "duration": 10,
    "start_time": "2025-02-07T06:53:47.932Z"
   },
   {
    "duration": 4,
    "start_time": "2025-02-07T06:54:34.252Z"
   },
   {
    "duration": 5,
    "start_time": "2025-02-07T06:54:58.022Z"
   },
   {
    "duration": 4,
    "start_time": "2025-02-07T06:55:09.832Z"
   },
   {
    "duration": 4,
    "start_time": "2025-02-07T06:58:10.412Z"
   },
   {
    "duration": 4,
    "start_time": "2025-02-07T06:58:37.615Z"
   },
   {
    "duration": 4,
    "start_time": "2025-02-07T06:58:43.543Z"
   },
   {
    "duration": 1113,
    "start_time": "2025-02-07T06:59:02.066Z"
   },
   {
    "duration": 4,
    "start_time": "2025-02-07T06:59:03.335Z"
   },
   {
    "duration": 4,
    "start_time": "2025-02-07T06:59:04.079Z"
   },
   {
    "duration": 4,
    "start_time": "2025-02-07T06:59:29.799Z"
   },
   {
    "duration": 1080,
    "start_time": "2025-02-07T07:00:28.996Z"
   },
   {
    "duration": 4,
    "start_time": "2025-02-07T07:00:31.478Z"
   },
   {
    "duration": 5,
    "start_time": "2025-02-07T07:00:32.558Z"
   },
   {
    "duration": 5,
    "start_time": "2025-02-07T07:00:43.211Z"
   },
   {
    "duration": 4,
    "start_time": "2025-02-07T07:15:23.103Z"
   },
   {
    "duration": 1517,
    "start_time": "2025-02-07T07:15:37.054Z"
   },
   {
    "duration": 3,
    "start_time": "2025-02-07T07:15:38.573Z"
   },
   {
    "duration": 17,
    "start_time": "2025-02-07T07:15:38.578Z"
   },
   {
    "duration": 1778,
    "start_time": "2025-02-07T07:16:00.153Z"
   },
   {
    "duration": 4,
    "start_time": "2025-02-07T07:16:01.933Z"
   },
   {
    "duration": 4,
    "start_time": "2025-02-07T07:16:16.103Z"
   },
   {
    "duration": 1628,
    "start_time": "2025-02-07T07:16:25.509Z"
   },
   {
    "duration": 4,
    "start_time": "2025-02-07T07:16:27.139Z"
   },
   {
    "duration": 5,
    "start_time": "2025-02-07T07:16:39.087Z"
   },
   {
    "duration": 1535,
    "start_time": "2025-02-07T07:17:12.086Z"
   },
   {
    "duration": 4,
    "start_time": "2025-02-07T07:17:13.624Z"
   },
   {
    "duration": 4,
    "start_time": "2025-02-07T07:17:19.155Z"
   },
   {
    "duration": 1642,
    "start_time": "2025-02-07T07:17:39.532Z"
   },
   {
    "duration": 4,
    "start_time": "2025-02-07T07:17:43.299Z"
   },
   {
    "duration": 5,
    "start_time": "2025-02-07T07:17:48.045Z"
   },
   {
    "duration": 4,
    "start_time": "2025-02-07T07:18:46.047Z"
   },
   {
    "duration": 5,
    "start_time": "2025-02-07T07:19:44.859Z"
   },
   {
    "duration": 6,
    "start_time": "2025-02-07T07:20:08.215Z"
   },
   {
    "duration": 5,
    "start_time": "2025-02-07T07:20:19.245Z"
   },
   {
    "duration": 5,
    "start_time": "2025-02-07T07:20:31.202Z"
   },
   {
    "duration": 1348,
    "start_time": "2025-02-07T07:20:44.974Z"
   },
   {
    "duration": 8,
    "start_time": "2025-02-07T07:20:46.325Z"
   },
   {
    "duration": 6,
    "start_time": "2025-02-07T07:20:46.335Z"
   },
   {
    "duration": 6,
    "start_time": "2025-02-07T07:21:33.314Z"
   },
   {
    "duration": 1957,
    "start_time": "2025-02-07T07:22:03.146Z"
   },
   {
    "duration": 6,
    "start_time": "2025-02-07T07:22:05.108Z"
   },
   {
    "duration": 6,
    "start_time": "2025-02-07T07:22:05.116Z"
   },
   {
    "duration": 46,
    "start_time": "2025-02-07T07:22:31.575Z"
   },
   {
    "duration": 4,
    "start_time": "2025-02-07T07:22:32.385Z"
   },
   {
    "duration": 5,
    "start_time": "2025-02-07T07:22:33.697Z"
   },
   {
    "duration": 4,
    "start_time": "2025-02-07T07:22:39.462Z"
   },
   {
    "duration": 4,
    "start_time": "2025-02-07T07:23:03.290Z"
   },
   {
    "duration": 4,
    "start_time": "2025-02-07T07:23:45.688Z"
   },
   {
    "duration": 4,
    "start_time": "2025-02-07T07:23:53.501Z"
   },
   {
    "duration": 4,
    "start_time": "2025-02-07T07:23:58.631Z"
   },
   {
    "duration": 43,
    "start_time": "2025-02-07T07:24:08.911Z"
   },
   {
    "duration": 4,
    "start_time": "2025-02-07T07:24:09.755Z"
   },
   {
    "duration": 4,
    "start_time": "2025-02-07T07:24:10.446Z"
   },
   {
    "duration": 42,
    "start_time": "2025-02-07T07:27:53.417Z"
   },
   {
    "duration": 612,
    "start_time": "2025-02-07T10:31:19.200Z"
   },
   {
    "duration": 1285,
    "start_time": "2025-02-07T10:31:23.970Z"
   },
   {
    "duration": 88,
    "start_time": "2025-02-07T10:31:25.262Z"
   },
   {
    "duration": 20,
    "start_time": "2025-02-07T10:31:25.352Z"
   },
   {
    "duration": 13,
    "start_time": "2025-02-07T10:31:25.373Z"
   },
   {
    "duration": 30,
    "start_time": "2025-02-07T10:31:25.388Z"
   },
   {
    "duration": 12,
    "start_time": "2025-02-07T10:31:25.419Z"
   },
   {
    "duration": 12,
    "start_time": "2025-02-07T10:31:25.432Z"
   },
   {
    "duration": 28,
    "start_time": "2025-02-07T10:31:25.445Z"
   },
   {
    "duration": 8,
    "start_time": "2025-02-07T10:31:25.474Z"
   },
   {
    "duration": 11,
    "start_time": "2025-02-07T10:31:25.484Z"
   },
   {
    "duration": 10,
    "start_time": "2025-02-07T10:31:25.497Z"
   },
   {
    "duration": 14,
    "start_time": "2025-02-07T10:31:25.508Z"
   },
   {
    "duration": 5,
    "start_time": "2025-02-07T10:31:25.524Z"
   },
   {
    "duration": 37,
    "start_time": "2025-02-07T10:31:25.532Z"
   },
   {
    "duration": 8,
    "start_time": "2025-02-07T10:31:25.571Z"
   },
   {
    "duration": 6,
    "start_time": "2025-02-07T10:31:25.581Z"
   },
   {
    "duration": 8,
    "start_time": "2025-02-07T10:31:25.588Z"
   },
   {
    "duration": 4,
    "start_time": "2025-02-07T10:31:25.597Z"
   },
   {
    "duration": 5,
    "start_time": "2025-02-07T10:31:25.603Z"
   },
   {
    "duration": 215,
    "start_time": "2025-02-07T10:31:25.610Z"
   },
   {
    "duration": 4,
    "start_time": "2025-02-07T10:31:25.827Z"
   },
   {
    "duration": 11,
    "start_time": "2025-02-07T10:31:25.832Z"
   },
   {
    "duration": 20,
    "start_time": "2025-02-07T10:31:25.857Z"
   },
   {
    "duration": 131,
    "start_time": "2025-02-07T10:31:25.879Z"
   },
   {
    "duration": 4,
    "start_time": "2025-02-07T10:31:26.012Z"
   },
   {
    "duration": 180,
    "start_time": "2025-02-07T10:31:26.017Z"
   },
   {
    "duration": 6,
    "start_time": "2025-02-07T10:31:26.199Z"
   },
   {
    "duration": 11,
    "start_time": "2025-02-07T10:31:26.207Z"
   },
   {
    "duration": 184,
    "start_time": "2025-02-07T10:31:26.220Z"
   },
   {
    "duration": 10,
    "start_time": "2025-02-07T10:31:26.405Z"
   },
   {
    "duration": 178,
    "start_time": "2025-02-07T10:31:26.416Z"
   },
   {
    "duration": 11,
    "start_time": "2025-02-07T10:31:26.596Z"
   },
   {
    "duration": 20,
    "start_time": "2025-02-07T10:31:26.608Z"
   },
   {
    "duration": 43,
    "start_time": "2025-02-07T10:31:26.630Z"
   },
   {
    "duration": 18,
    "start_time": "2025-02-07T10:31:26.675Z"
   },
   {
    "duration": 17,
    "start_time": "2025-02-07T10:31:26.695Z"
   },
   {
    "duration": 195,
    "start_time": "2025-02-07T10:31:26.714Z"
   },
   {
    "duration": 193,
    "start_time": "2025-02-07T10:31:26.911Z"
   },
   {
    "duration": 198,
    "start_time": "2025-02-07T10:31:27.105Z"
   },
   {
    "duration": 269,
    "start_time": "2025-02-07T10:31:27.305Z"
   },
   {
    "duration": 39,
    "start_time": "2025-02-07T10:31:27.578Z"
   },
   {
    "duration": 4,
    "start_time": "2025-02-07T10:31:27.618Z"
   },
   {
    "duration": 46,
    "start_time": "2025-02-07T10:31:27.623Z"
   },
   {
    "duration": 6,
    "start_time": "2025-02-07T10:31:27.674Z"
   },
   {
    "duration": 5,
    "start_time": "2025-02-07T10:31:27.682Z"
   },
   {
    "duration": 21,
    "start_time": "2025-02-07T10:31:27.688Z"
   },
   {
    "duration": 18,
    "start_time": "2025-02-07T10:31:27.711Z"
   },
   {
    "duration": 38,
    "start_time": "2025-02-07T10:31:27.731Z"
   },
   {
    "duration": 154,
    "start_time": "2025-02-07T10:31:27.772Z"
   },
   {
    "duration": 0,
    "start_time": "2025-02-07T10:31:27.927Z"
   },
   {
    "duration": 0,
    "start_time": "2025-02-07T10:31:27.929Z"
   },
   {
    "duration": 4,
    "start_time": "2025-02-07T10:31:57.611Z"
   },
   {
    "duration": 5,
    "start_time": "2025-02-07T10:31:58.136Z"
   },
   {
    "duration": 4,
    "start_time": "2025-02-07T10:32:58.621Z"
   },
   {
    "duration": 1443,
    "start_time": "2025-02-07T10:35:45.070Z"
   },
   {
    "duration": 42,
    "start_time": "2025-02-07T10:36:07.965Z"
   },
   {
    "duration": 10,
    "start_time": "2025-02-07T10:56:12.088Z"
   },
   {
    "duration": 10,
    "start_time": "2025-02-07T10:57:36.173Z"
   },
   {
    "duration": 39,
    "start_time": "2025-02-07T10:57:44.484Z"
   },
   {
    "duration": 5,
    "start_time": "2025-02-07T11:02:49.571Z"
   },
   {
    "duration": 6,
    "start_time": "2025-02-07T11:03:02.832Z"
   },
   {
    "duration": 6,
    "start_time": "2025-02-07T11:04:26.420Z"
   },
   {
    "duration": 5,
    "start_time": "2025-02-07T11:04:40.033Z"
   },
   {
    "duration": 5,
    "start_time": "2025-02-07T11:04:42.670Z"
   },
   {
    "duration": 6,
    "start_time": "2025-02-07T11:05:13.114Z"
   },
   {
    "duration": 6,
    "start_time": "2025-02-07T11:05:34.324Z"
   },
   {
    "duration": 4,
    "start_time": "2025-02-07T11:10:29.084Z"
   },
   {
    "duration": 5,
    "start_time": "2025-02-07T11:10:55.603Z"
   },
   {
    "duration": 4,
    "start_time": "2025-02-07T11:11:00.424Z"
   },
   {
    "duration": 1001,
    "start_time": "2025-02-07T11:11:19.214Z"
   },
   {
    "duration": 69,
    "start_time": "2025-02-07T11:11:20.217Z"
   },
   {
    "duration": 14,
    "start_time": "2025-02-07T11:11:20.288Z"
   },
   {
    "duration": 11,
    "start_time": "2025-02-07T11:11:20.303Z"
   },
   {
    "duration": 30,
    "start_time": "2025-02-07T11:11:20.316Z"
   },
   {
    "duration": 24,
    "start_time": "2025-02-07T11:11:20.348Z"
   },
   {
    "duration": 11,
    "start_time": "2025-02-07T11:11:20.373Z"
   },
   {
    "duration": 15,
    "start_time": "2025-02-07T11:11:20.385Z"
   },
   {
    "duration": 6,
    "start_time": "2025-02-07T11:11:20.402Z"
   },
   {
    "duration": 13,
    "start_time": "2025-02-07T11:11:20.409Z"
   },
   {
    "duration": 9,
    "start_time": "2025-02-07T11:11:20.424Z"
   },
   {
    "duration": 40,
    "start_time": "2025-02-07T11:11:20.434Z"
   },
   {
    "duration": 6,
    "start_time": "2025-02-07T11:11:20.476Z"
   },
   {
    "duration": 5,
    "start_time": "2025-02-07T11:11:20.485Z"
   },
   {
    "duration": 7,
    "start_time": "2025-02-07T11:11:20.492Z"
   },
   {
    "duration": 6,
    "start_time": "2025-02-07T11:11:20.501Z"
   },
   {
    "duration": 8,
    "start_time": "2025-02-07T11:11:20.509Z"
   },
   {
    "duration": 3,
    "start_time": "2025-02-07T11:11:20.519Z"
   },
   {
    "duration": 47,
    "start_time": "2025-02-07T11:11:20.524Z"
   },
   {
    "duration": 206,
    "start_time": "2025-02-07T11:11:20.573Z"
   },
   {
    "duration": 4,
    "start_time": "2025-02-07T11:11:20.781Z"
   },
   {
    "duration": 27,
    "start_time": "2025-02-07T11:11:20.787Z"
   },
   {
    "duration": 10,
    "start_time": "2025-02-07T11:11:20.816Z"
   },
   {
    "duration": 143,
    "start_time": "2025-02-07T11:11:20.827Z"
   },
   {
    "duration": 5,
    "start_time": "2025-02-07T11:11:20.971Z"
   },
   {
    "duration": 162,
    "start_time": "2025-02-07T11:11:20.978Z"
   },
   {
    "duration": 5,
    "start_time": "2025-02-07T11:11:21.142Z"
   },
   {
    "duration": 11,
    "start_time": "2025-02-07T11:11:21.157Z"
   },
   {
    "duration": 164,
    "start_time": "2025-02-07T11:11:21.170Z"
   },
   {
    "duration": 8,
    "start_time": "2025-02-07T11:11:21.336Z"
   },
   {
    "duration": 170,
    "start_time": "2025-02-07T11:11:21.345Z"
   },
   {
    "duration": 11,
    "start_time": "2025-02-07T11:11:21.517Z"
   },
   {
    "duration": 43,
    "start_time": "2025-02-07T11:11:21.530Z"
   },
   {
    "duration": 11,
    "start_time": "2025-02-07T11:11:21.575Z"
   },
   {
    "duration": 23,
    "start_time": "2025-02-07T11:11:21.588Z"
   },
   {
    "duration": 19,
    "start_time": "2025-02-07T11:11:21.614Z"
   },
   {
    "duration": 203,
    "start_time": "2025-02-07T11:11:21.635Z"
   },
   {
    "duration": 207,
    "start_time": "2025-02-07T11:11:21.839Z"
   },
   {
    "duration": 201,
    "start_time": "2025-02-07T11:11:22.047Z"
   },
   {
    "duration": 259,
    "start_time": "2025-02-07T11:11:22.249Z"
   },
   {
    "duration": 58,
    "start_time": "2025-02-07T11:11:22.512Z"
   },
   {
    "duration": 4,
    "start_time": "2025-02-07T11:11:22.571Z"
   },
   {
    "duration": 19,
    "start_time": "2025-02-07T11:11:22.576Z"
   },
   {
    "duration": 6,
    "start_time": "2025-02-07T11:11:22.597Z"
   },
   {
    "duration": 6,
    "start_time": "2025-02-07T11:11:22.604Z"
   },
   {
    "duration": 24,
    "start_time": "2025-02-07T11:11:22.611Z"
   },
   {
    "duration": 48,
    "start_time": "2025-02-07T11:11:22.637Z"
   },
   {
    "duration": 5,
    "start_time": "2025-02-07T11:11:22.687Z"
   },
   {
    "duration": 134,
    "start_time": "2025-02-07T11:11:22.694Z"
   },
   {
    "duration": 0,
    "start_time": "2025-02-07T11:11:22.829Z"
   },
   {
    "duration": 0,
    "start_time": "2025-02-07T11:11:22.830Z"
   },
   {
    "duration": 0,
    "start_time": "2025-02-07T11:11:22.832Z"
   },
   {
    "duration": 5,
    "start_time": "2025-02-07T11:12:09.801Z"
   },
   {
    "duration": 5,
    "start_time": "2025-02-07T11:12:41.467Z"
   },
   {
    "duration": 6,
    "start_time": "2025-02-07T11:12:54.703Z"
   },
   {
    "duration": 5,
    "start_time": "2025-02-07T11:13:16.838Z"
   },
   {
    "duration": 5,
    "start_time": "2025-02-07T11:13:24.366Z"
   },
   {
    "duration": 5,
    "start_time": "2025-02-07T11:14:37.017Z"
   },
   {
    "duration": 6,
    "start_time": "2025-02-07T11:14:44.656Z"
   },
   {
    "duration": 5,
    "start_time": "2025-02-07T11:15:18.783Z"
   },
   {
    "duration": 6,
    "start_time": "2025-02-07T11:15:30.461Z"
   },
   {
    "duration": 4,
    "start_time": "2025-02-07T11:15:31.348Z"
   },
   {
    "duration": 5,
    "start_time": "2025-02-07T11:15:48.136Z"
   },
   {
    "duration": 6,
    "start_time": "2025-02-07T11:20:41.808Z"
   },
   {
    "duration": 9,
    "start_time": "2025-02-07T11:20:42.668Z"
   },
   {
    "duration": 8,
    "start_time": "2025-02-07T11:20:54.741Z"
   },
   {
    "duration": 8,
    "start_time": "2025-02-07T11:20:55.334Z"
   },
   {
    "duration": 149,
    "start_time": "2025-02-07T11:21:33.967Z"
   },
   {
    "duration": 10,
    "start_time": "2025-02-07T11:22:59.608Z"
   },
   {
    "duration": 10,
    "start_time": "2025-02-07T11:23:18.581Z"
   },
   {
    "duration": 9,
    "start_time": "2025-02-07T11:24:51.900Z"
   },
   {
    "duration": 329,
    "start_time": "2025-02-07T11:25:35.731Z"
   },
   {
    "duration": 268,
    "start_time": "2025-02-07T11:26:15.774Z"
   },
   {
    "duration": 6,
    "start_time": "2025-02-07T11:26:49.499Z"
   },
   {
    "duration": 6,
    "start_time": "2025-02-07T11:26:58.580Z"
   },
   {
    "duration": 5,
    "start_time": "2025-02-07T11:27:11.280Z"
   },
   {
    "duration": 5,
    "start_time": "2025-02-07T11:33:48.403Z"
   },
   {
    "duration": 5,
    "start_time": "2025-02-07T11:34:09.543Z"
   },
   {
    "duration": 5,
    "start_time": "2025-02-07T11:34:16.270Z"
   },
   {
    "duration": 5,
    "start_time": "2025-02-07T11:34:24.018Z"
   },
   {
    "duration": 9,
    "start_time": "2025-02-07T11:34:48.667Z"
   },
   {
    "duration": 5,
    "start_time": "2025-02-07T11:36:34.686Z"
   },
   {
    "duration": 7,
    "start_time": "2025-02-07T11:36:47.671Z"
   },
   {
    "duration": 7,
    "start_time": "2025-02-07T11:36:53.176Z"
   },
   {
    "duration": 5,
    "start_time": "2025-02-07T11:36:57.571Z"
   },
   {
    "duration": 6,
    "start_time": "2025-02-07T11:37:01.594Z"
   },
   {
    "duration": 7,
    "start_time": "2025-02-07T11:37:05.755Z"
   },
   {
    "duration": 7,
    "start_time": "2025-02-07T11:40:32.102Z"
   },
   {
    "duration": 1937,
    "start_time": "2025-02-07T11:40:40.705Z"
   },
   {
    "duration": 1933,
    "start_time": "2025-02-07T11:41:21.038Z"
   },
   {
    "duration": 2158,
    "start_time": "2025-02-07T11:41:32.410Z"
   },
   {
    "duration": 2113,
    "start_time": "2025-02-07T11:41:49.398Z"
   },
   {
    "duration": 2161,
    "start_time": "2025-02-07T11:42:10.102Z"
   },
   {
    "duration": 5,
    "start_time": "2025-02-07T11:44:59.714Z"
   },
   {
    "duration": 249,
    "start_time": "2025-02-07T11:48:13.975Z"
   },
   {
    "duration": 6,
    "start_time": "2025-02-07T11:49:35.902Z"
   },
   {
    "duration": 177,
    "start_time": "2025-02-07T11:51:42.733Z"
   },
   {
    "duration": 3104,
    "start_time": "2025-02-07T11:52:03.975Z"
   },
   {
    "duration": 158,
    "start_time": "2025-02-07T11:52:09.083Z"
   },
   {
    "duration": 3238,
    "start_time": "2025-02-07T11:52:10.061Z"
   },
   {
    "duration": 183,
    "start_time": "2025-02-07T11:53:07.398Z"
   },
   {
    "duration": 278,
    "start_time": "2025-02-07T11:54:50.459Z"
   },
   {
    "duration": 269,
    "start_time": "2025-02-07T11:54:56.706Z"
   },
   {
    "duration": 4,
    "start_time": "2025-02-07T14:56:55.061Z"
   },
   {
    "duration": 50,
    "start_time": "2025-02-07T15:11:04.186Z"
   },
   {
    "duration": 1270,
    "start_time": "2025-02-07T15:11:09.277Z"
   },
   {
    "duration": 99,
    "start_time": "2025-02-07T15:11:10.549Z"
   },
   {
    "duration": 23,
    "start_time": "2025-02-07T15:11:10.649Z"
   },
   {
    "duration": 15,
    "start_time": "2025-02-07T15:11:10.675Z"
   },
   {
    "duration": 29,
    "start_time": "2025-02-07T15:11:10.692Z"
   },
   {
    "duration": 13,
    "start_time": "2025-02-07T15:11:10.723Z"
   },
   {
    "duration": 15,
    "start_time": "2025-02-07T15:11:10.759Z"
   },
   {
    "duration": 16,
    "start_time": "2025-02-07T15:11:10.776Z"
   },
   {
    "duration": 9,
    "start_time": "2025-02-07T15:11:10.794Z"
   },
   {
    "duration": 14,
    "start_time": "2025-02-07T15:11:10.806Z"
   },
   {
    "duration": 41,
    "start_time": "2025-02-07T15:11:10.824Z"
   },
   {
    "duration": 22,
    "start_time": "2025-02-07T15:11:10.867Z"
   },
   {
    "duration": 6,
    "start_time": "2025-02-07T15:11:10.890Z"
   },
   {
    "duration": 7,
    "start_time": "2025-02-07T15:11:10.898Z"
   },
   {
    "duration": 51,
    "start_time": "2025-02-07T15:11:10.907Z"
   },
   {
    "duration": 9,
    "start_time": "2025-02-07T15:11:10.961Z"
   },
   {
    "duration": 13,
    "start_time": "2025-02-07T15:11:10.972Z"
   },
   {
    "duration": 5,
    "start_time": "2025-02-07T15:11:10.988Z"
   },
   {
    "duration": 6,
    "start_time": "2025-02-07T15:11:10.995Z"
   },
   {
    "duration": 223,
    "start_time": "2025-02-07T15:11:11.003Z"
   },
   {
    "duration": 5,
    "start_time": "2025-02-07T15:11:11.227Z"
   },
   {
    "duration": 27,
    "start_time": "2025-02-07T15:11:11.236Z"
   },
   {
    "duration": 14,
    "start_time": "2025-02-07T15:11:11.266Z"
   },
   {
    "duration": 152,
    "start_time": "2025-02-07T15:11:11.282Z"
   },
   {
    "duration": 5,
    "start_time": "2025-02-07T15:11:11.437Z"
   },
   {
    "duration": 204,
    "start_time": "2025-02-07T15:11:11.444Z"
   },
   {
    "duration": 9,
    "start_time": "2025-02-07T15:11:11.650Z"
   },
   {
    "duration": 14,
    "start_time": "2025-02-07T15:11:11.663Z"
   },
   {
    "duration": 194,
    "start_time": "2025-02-07T15:11:11.679Z"
   },
   {
    "duration": 13,
    "start_time": "2025-02-07T15:11:11.875Z"
   },
   {
    "duration": 186,
    "start_time": "2025-02-07T15:11:11.891Z"
   },
   {
    "duration": 12,
    "start_time": "2025-02-07T15:11:12.078Z"
   },
   {
    "duration": 63,
    "start_time": "2025-02-07T15:11:12.092Z"
   },
   {
    "duration": 11,
    "start_time": "2025-02-07T15:11:12.157Z"
   },
   {
    "duration": 22,
    "start_time": "2025-02-07T15:11:12.170Z"
   },
   {
    "duration": 22,
    "start_time": "2025-02-07T15:11:12.194Z"
   },
   {
    "duration": 204,
    "start_time": "2025-02-07T15:11:12.219Z"
   },
   {
    "duration": 202,
    "start_time": "2025-02-07T15:11:12.425Z"
   },
   {
    "duration": 218,
    "start_time": "2025-02-07T15:11:12.629Z"
   },
   {
    "duration": 269,
    "start_time": "2025-02-07T15:11:12.849Z"
   },
   {
    "duration": 74,
    "start_time": "2025-02-07T15:11:13.120Z"
   },
   {
    "duration": 4,
    "start_time": "2025-02-07T15:11:13.197Z"
   },
   {
    "duration": 28,
    "start_time": "2025-02-07T15:11:13.204Z"
   },
   {
    "duration": 24,
    "start_time": "2025-02-07T15:11:13.235Z"
   },
   {
    "duration": 7,
    "start_time": "2025-02-07T15:11:13.262Z"
   },
   {
    "duration": 23,
    "start_time": "2025-02-07T15:11:13.271Z"
   },
   {
    "duration": 62,
    "start_time": "2025-02-07T15:11:13.296Z"
   },
   {
    "duration": 8,
    "start_time": "2025-02-07T15:11:13.361Z"
   },
   {
    "duration": 130,
    "start_time": "2025-02-07T15:11:13.370Z"
   },
   {
    "duration": 0,
    "start_time": "2025-02-07T15:11:13.502Z"
   },
   {
    "duration": 0,
    "start_time": "2025-02-07T15:11:13.503Z"
   },
   {
    "duration": 0,
    "start_time": "2025-02-07T15:11:13.504Z"
   },
   {
    "duration": 0,
    "start_time": "2025-02-07T15:11:13.505Z"
   },
   {
    "duration": 6,
    "start_time": "2025-02-07T15:11:44.930Z"
   },
   {
    "duration": 273,
    "start_time": "2025-02-07T15:11:45.673Z"
   },
   {
    "duration": 6,
    "start_time": "2025-02-07T15:12:10.090Z"
   },
   {
    "duration": 201,
    "start_time": "2025-02-07T15:12:10.822Z"
   },
   {
    "duration": 137,
    "start_time": "2025-02-07T15:13:11.974Z"
   },
   {
    "duration": 142,
    "start_time": "2025-02-07T15:13:35.805Z"
   },
   {
    "duration": 138,
    "start_time": "2025-02-07T15:13:48.093Z"
   },
   {
    "duration": 166,
    "start_time": "2025-02-07T15:13:53.253Z"
   },
   {
    "duration": 6,
    "start_time": "2025-02-07T15:14:03.749Z"
   },
   {
    "duration": 7,
    "start_time": "2025-02-07T15:14:21.607Z"
   },
   {
    "duration": 1770,
    "start_time": "2025-02-07T15:15:19.362Z"
   },
   {
    "duration": 1814,
    "start_time": "2025-02-07T15:15:35.855Z"
   },
   {
    "duration": 2142,
    "start_time": "2025-02-07T15:16:53.564Z"
   },
   {
    "duration": 1915,
    "start_time": "2025-02-07T15:18:49.795Z"
   },
   {
    "duration": 1919,
    "start_time": "2025-02-07T15:19:42.061Z"
   },
   {
    "duration": 253,
    "start_time": "2025-02-07T15:21:11.759Z"
   },
   {
    "duration": 244,
    "start_time": "2025-02-07T15:21:17.515Z"
   },
   {
    "duration": 1919,
    "start_time": "2025-02-07T15:21:28.111Z"
   },
   {
    "duration": 2039,
    "start_time": "2025-02-07T15:21:38.445Z"
   },
   {
    "duration": 1945,
    "start_time": "2025-02-07T15:22:26.170Z"
   },
   {
    "duration": 1147,
    "start_time": "2025-02-07T15:23:44.083Z"
   },
   {
    "duration": 78,
    "start_time": "2025-02-07T15:23:45.232Z"
   },
   {
    "duration": 18,
    "start_time": "2025-02-07T15:23:45.312Z"
   },
   {
    "duration": 27,
    "start_time": "2025-02-07T15:23:45.332Z"
   },
   {
    "duration": 35,
    "start_time": "2025-02-07T15:23:45.361Z"
   },
   {
    "duration": 13,
    "start_time": "2025-02-07T15:23:45.398Z"
   },
   {
    "duration": 24,
    "start_time": "2025-02-07T15:23:45.413Z"
   },
   {
    "duration": 18,
    "start_time": "2025-02-07T15:23:45.439Z"
   },
   {
    "duration": 9,
    "start_time": "2025-02-07T15:23:45.460Z"
   },
   {
    "duration": 16,
    "start_time": "2025-02-07T15:23:45.473Z"
   },
   {
    "duration": 16,
    "start_time": "2025-02-07T15:23:45.491Z"
   },
   {
    "duration": 50,
    "start_time": "2025-02-07T15:23:45.509Z"
   },
   {
    "duration": 8,
    "start_time": "2025-02-07T15:23:45.562Z"
   },
   {
    "duration": 8,
    "start_time": "2025-02-07T15:23:45.572Z"
   },
   {
    "duration": 12,
    "start_time": "2025-02-07T15:23:45.582Z"
   },
   {
    "duration": 6,
    "start_time": "2025-02-07T15:23:45.596Z"
   },
   {
    "duration": 8,
    "start_time": "2025-02-07T15:23:45.603Z"
   },
   {
    "duration": 4,
    "start_time": "2025-02-07T15:23:45.613Z"
   },
   {
    "duration": 7,
    "start_time": "2025-02-07T15:23:45.658Z"
   },
   {
    "duration": 185,
    "start_time": "2025-02-07T15:23:45.667Z"
   },
   {
    "duration": 6,
    "start_time": "2025-02-07T15:23:45.854Z"
   },
   {
    "duration": 11,
    "start_time": "2025-02-07T15:23:45.862Z"
   },
   {
    "duration": 13,
    "start_time": "2025-02-07T15:23:45.875Z"
   },
   {
    "duration": 160,
    "start_time": "2025-02-07T15:23:45.889Z"
   },
   {
    "duration": 10,
    "start_time": "2025-02-07T15:23:46.051Z"
   },
   {
    "duration": 171,
    "start_time": "2025-02-07T15:23:46.062Z"
   },
   {
    "duration": 5,
    "start_time": "2025-02-07T15:23:46.234Z"
   },
   {
    "duration": 17,
    "start_time": "2025-02-07T15:23:46.242Z"
   },
   {
    "duration": 173,
    "start_time": "2025-02-07T15:23:46.261Z"
   },
   {
    "duration": 9,
    "start_time": "2025-02-07T15:23:46.436Z"
   },
   {
    "duration": 170,
    "start_time": "2025-02-07T15:23:46.446Z"
   },
   {
    "duration": 10,
    "start_time": "2025-02-07T15:23:46.618Z"
   },
   {
    "duration": 33,
    "start_time": "2025-02-07T15:23:46.630Z"
   },
   {
    "duration": 9,
    "start_time": "2025-02-07T15:23:46.665Z"
   },
   {
    "duration": 18,
    "start_time": "2025-02-07T15:23:46.676Z"
   },
   {
    "duration": 18,
    "start_time": "2025-02-07T15:23:46.696Z"
   },
   {
    "duration": 208,
    "start_time": "2025-02-07T15:23:46.715Z"
   },
   {
    "duration": 191,
    "start_time": "2025-02-07T15:23:46.924Z"
   },
   {
    "duration": 191,
    "start_time": "2025-02-07T15:23:47.116Z"
   },
   {
    "duration": 267,
    "start_time": "2025-02-07T15:23:47.309Z"
   },
   {
    "duration": 42,
    "start_time": "2025-02-07T15:23:47.577Z"
   },
   {
    "duration": 4,
    "start_time": "2025-02-07T15:23:47.620Z"
   },
   {
    "duration": 41,
    "start_time": "2025-02-07T15:23:47.626Z"
   },
   {
    "duration": 5,
    "start_time": "2025-02-07T15:23:47.669Z"
   },
   {
    "duration": 5,
    "start_time": "2025-02-07T15:23:47.676Z"
   },
   {
    "duration": 21,
    "start_time": "2025-02-07T15:23:47.690Z"
   },
   {
    "duration": 50,
    "start_time": "2025-02-07T15:23:47.713Z"
   },
   {
    "duration": 6,
    "start_time": "2025-02-07T15:23:47.765Z"
   },
   {
    "duration": 6,
    "start_time": "2025-02-07T15:23:47.773Z"
   },
   {
    "duration": 1946,
    "start_time": "2025-02-07T15:23:47.780Z"
   },
   {
    "duration": 0,
    "start_time": "2025-02-07T15:23:49.728Z"
   },
   {
    "duration": 0,
    "start_time": "2025-02-07T15:23:49.729Z"
   },
   {
    "duration": 0,
    "start_time": "2025-02-07T15:23:49.731Z"
   },
   {
    "duration": 1944,
    "start_time": "2025-02-07T15:24:24.972Z"
   },
   {
    "duration": 309,
    "start_time": "2025-02-07T15:42:53.149Z"
   },
   {
    "duration": 6,
    "start_time": "2025-02-07T15:46:07.648Z"
   },
   {
    "duration": 189,
    "start_time": "2025-02-07T15:48:56.878Z"
   },
   {
    "duration": 1888,
    "start_time": "2025-02-07T15:49:46.149Z"
   },
   {
    "duration": 417,
    "start_time": "2025-02-07T15:50:45.169Z"
   },
   {
    "duration": 221,
    "start_time": "2025-02-07T15:52:37.822Z"
   },
   {
    "duration": 14,
    "start_time": "2025-02-07T15:53:01.545Z"
   },
   {
    "duration": 218,
    "start_time": "2025-02-07T15:53:58.384Z"
   },
   {
    "duration": 97,
    "start_time": "2025-02-07T15:54:57.633Z"
   },
   {
    "duration": 6,
    "start_time": "2025-02-07T15:55:52.571Z"
   },
   {
    "duration": 174,
    "start_time": "2025-02-07T15:56:41.586Z"
   },
   {
    "duration": 201,
    "start_time": "2025-02-07T15:57:21.454Z"
   },
   {
    "duration": 5,
    "start_time": "2025-02-07T16:07:04.004Z"
   },
   {
    "duration": 5,
    "start_time": "2025-02-07T16:07:40.914Z"
   },
   {
    "duration": 5,
    "start_time": "2025-02-07T16:08:01.759Z"
   },
   {
    "duration": 5,
    "start_time": "2025-02-07T16:09:18.391Z"
   },
   {
    "duration": 1768,
    "start_time": "2025-02-07T16:10:54.542Z"
   },
   {
    "duration": 1148,
    "start_time": "2025-02-08T09:02:26.385Z"
   },
   {
    "duration": 75,
    "start_time": "2025-02-08T09:02:27.535Z"
   },
   {
    "duration": 15,
    "start_time": "2025-02-08T09:02:27.611Z"
   },
   {
    "duration": 10,
    "start_time": "2025-02-08T09:02:27.628Z"
   },
   {
    "duration": 32,
    "start_time": "2025-02-08T09:02:27.639Z"
   },
   {
    "duration": 12,
    "start_time": "2025-02-08T09:02:27.672Z"
   },
   {
    "duration": 12,
    "start_time": "2025-02-08T09:02:27.685Z"
   },
   {
    "duration": 15,
    "start_time": "2025-02-08T09:02:27.698Z"
   },
   {
    "duration": 7,
    "start_time": "2025-02-08T09:02:27.715Z"
   },
   {
    "duration": 10,
    "start_time": "2025-02-08T09:02:27.724Z"
   },
   {
    "duration": 30,
    "start_time": "2025-02-08T09:02:27.736Z"
   },
   {
    "duration": 42,
    "start_time": "2025-02-08T09:02:27.768Z"
   },
   {
    "duration": 5,
    "start_time": "2025-02-08T09:02:27.812Z"
   },
   {
    "duration": 5,
    "start_time": "2025-02-08T09:02:27.818Z"
   },
   {
    "duration": 13,
    "start_time": "2025-02-08T09:02:27.825Z"
   },
   {
    "duration": 5,
    "start_time": "2025-02-08T09:02:27.840Z"
   },
   {
    "duration": 14,
    "start_time": "2025-02-08T09:02:27.847Z"
   },
   {
    "duration": 4,
    "start_time": "2025-02-08T09:02:27.863Z"
   },
   {
    "duration": 7,
    "start_time": "2025-02-08T09:02:27.868Z"
   },
   {
    "duration": 189,
    "start_time": "2025-02-08T09:02:27.877Z"
   },
   {
    "duration": 4,
    "start_time": "2025-02-08T09:02:28.068Z"
   },
   {
    "duration": 9,
    "start_time": "2025-02-08T09:02:28.074Z"
   },
   {
    "duration": 11,
    "start_time": "2025-02-08T09:02:28.085Z"
   },
   {
    "duration": 146,
    "start_time": "2025-02-08T09:02:28.098Z"
   },
   {
    "duration": 3,
    "start_time": "2025-02-08T09:02:28.246Z"
   },
   {
    "duration": 158,
    "start_time": "2025-02-08T09:02:28.261Z"
   },
   {
    "duration": 4,
    "start_time": "2025-02-08T09:02:28.421Z"
   },
   {
    "duration": 14,
    "start_time": "2025-02-08T09:02:28.430Z"
   },
   {
    "duration": 168,
    "start_time": "2025-02-08T09:02:28.446Z"
   },
   {
    "duration": 9,
    "start_time": "2025-02-08T09:02:28.616Z"
   },
   {
    "duration": 161,
    "start_time": "2025-02-08T09:02:28.627Z"
   },
   {
    "duration": 12,
    "start_time": "2025-02-08T09:02:28.790Z"
   },
   {
    "duration": 22,
    "start_time": "2025-02-08T09:02:28.804Z"
   },
   {
    "duration": 33,
    "start_time": "2025-02-08T09:02:28.828Z"
   },
   {
    "duration": 18,
    "start_time": "2025-02-08T09:02:28.863Z"
   },
   {
    "duration": 16,
    "start_time": "2025-02-08T09:02:28.882Z"
   },
   {
    "duration": 178,
    "start_time": "2025-02-08T09:02:28.900Z"
   },
   {
    "duration": 176,
    "start_time": "2025-02-08T09:02:29.080Z"
   },
   {
    "duration": 185,
    "start_time": "2025-02-08T09:02:29.257Z"
   },
   {
    "duration": 258,
    "start_time": "2025-02-08T09:02:29.444Z"
   },
   {
    "duration": 35,
    "start_time": "2025-02-08T09:02:29.703Z"
   },
   {
    "duration": 3,
    "start_time": "2025-02-08T09:02:29.739Z"
   },
   {
    "duration": 33,
    "start_time": "2025-02-08T09:02:29.744Z"
   },
   {
    "duration": 6,
    "start_time": "2025-02-08T09:02:29.778Z"
   },
   {
    "duration": 5,
    "start_time": "2025-02-08T09:02:29.785Z"
   },
   {
    "duration": 21,
    "start_time": "2025-02-08T09:02:29.792Z"
   },
   {
    "duration": 48,
    "start_time": "2025-02-08T09:02:29.814Z"
   },
   {
    "duration": 6,
    "start_time": "2025-02-08T09:02:29.863Z"
   },
   {
    "duration": 6,
    "start_time": "2025-02-08T09:02:29.870Z"
   },
   {
    "duration": 1716,
    "start_time": "2025-02-08T09:02:29.877Z"
   },
   {
    "duration": 5,
    "start_time": "2025-02-08T09:02:31.595Z"
   },
   {
    "duration": 205,
    "start_time": "2025-02-08T09:02:31.602Z"
   },
   {
    "duration": 5,
    "start_time": "2025-02-08T09:21:06.332Z"
   },
   {
    "duration": 6,
    "start_time": "2025-02-08T09:21:16.673Z"
   },
   {
    "duration": 6,
    "start_time": "2025-02-08T09:21:39.983Z"
   },
   {
    "duration": 5,
    "start_time": "2025-02-08T09:21:48.623Z"
   },
   {
    "duration": 5,
    "start_time": "2025-02-08T09:21:57.318Z"
   },
   {
    "duration": 5,
    "start_time": "2025-02-08T09:22:03.337Z"
   },
   {
    "duration": 1616,
    "start_time": "2025-02-08T09:22:09.074Z"
   },
   {
    "duration": 253,
    "start_time": "2025-02-08T09:38:07.201Z"
   },
   {
    "duration": 14,
    "start_time": "2025-02-08T09:39:32.709Z"
   },
   {
    "duration": 13,
    "start_time": "2025-02-08T09:39:35.293Z"
   },
   {
    "duration": 952,
    "start_time": "2025-02-08T09:40:23.806Z"
   },
   {
    "duration": 78,
    "start_time": "2025-02-08T09:40:24.759Z"
   },
   {
    "duration": 14,
    "start_time": "2025-02-08T09:40:24.838Z"
   },
   {
    "duration": 9,
    "start_time": "2025-02-08T09:40:24.853Z"
   },
   {
    "duration": 27,
    "start_time": "2025-02-08T09:40:24.864Z"
   },
   {
    "duration": 10,
    "start_time": "2025-02-08T09:40:24.893Z"
   },
   {
    "duration": 10,
    "start_time": "2025-02-08T09:40:24.904Z"
   },
   {
    "duration": 16,
    "start_time": "2025-02-08T09:40:24.915Z"
   },
   {
    "duration": 6,
    "start_time": "2025-02-08T09:40:24.932Z"
   },
   {
    "duration": 19,
    "start_time": "2025-02-08T09:40:24.939Z"
   },
   {
    "duration": 12,
    "start_time": "2025-02-08T09:40:24.959Z"
   },
   {
    "duration": 14,
    "start_time": "2025-02-08T09:40:24.972Z"
   },
   {
    "duration": 5,
    "start_time": "2025-02-08T09:40:24.987Z"
   },
   {
    "duration": 5,
    "start_time": "2025-02-08T09:40:24.994Z"
   },
   {
    "duration": 8,
    "start_time": "2025-02-08T09:40:25.000Z"
   },
   {
    "duration": 5,
    "start_time": "2025-02-08T09:40:25.009Z"
   },
   {
    "duration": 12,
    "start_time": "2025-02-08T09:40:25.015Z"
   },
   {
    "duration": 3,
    "start_time": "2025-02-08T09:40:25.029Z"
   },
   {
    "duration": 6,
    "start_time": "2025-02-08T09:40:25.060Z"
   },
   {
    "duration": 174,
    "start_time": "2025-02-08T09:40:25.067Z"
   },
   {
    "duration": 4,
    "start_time": "2025-02-08T09:40:25.243Z"
   },
   {
    "duration": 18,
    "start_time": "2025-02-08T09:40:25.248Z"
   },
   {
    "duration": 8,
    "start_time": "2025-02-08T09:40:25.267Z"
   },
   {
    "duration": 127,
    "start_time": "2025-02-08T09:40:25.276Z"
   },
   {
    "duration": 4,
    "start_time": "2025-02-08T09:40:25.404Z"
   },
   {
    "duration": 149,
    "start_time": "2025-02-08T09:40:25.409Z"
   },
   {
    "duration": 4,
    "start_time": "2025-02-08T09:40:25.559Z"
   },
   {
    "duration": 19,
    "start_time": "2025-02-08T09:40:25.564Z"
   },
   {
    "duration": 144,
    "start_time": "2025-02-08T09:40:25.585Z"
   },
   {
    "duration": 8,
    "start_time": "2025-02-08T09:40:25.730Z"
   },
   {
    "duration": 150,
    "start_time": "2025-02-08T09:40:25.740Z"
   },
   {
    "duration": 9,
    "start_time": "2025-02-08T09:40:25.892Z"
   },
   {
    "duration": 37,
    "start_time": "2025-02-08T09:40:25.903Z"
   },
   {
    "duration": 9,
    "start_time": "2025-02-08T09:40:25.942Z"
   },
   {
    "duration": 21,
    "start_time": "2025-02-08T09:40:25.953Z"
   },
   {
    "duration": 17,
    "start_time": "2025-02-08T09:40:25.975Z"
   },
   {
    "duration": 194,
    "start_time": "2025-02-08T09:40:25.994Z"
   },
   {
    "duration": 176,
    "start_time": "2025-02-08T09:40:26.190Z"
   },
   {
    "duration": 189,
    "start_time": "2025-02-08T09:40:26.368Z"
   },
   {
    "duration": 240,
    "start_time": "2025-02-08T09:40:26.560Z"
   },
   {
    "duration": 35,
    "start_time": "2025-02-08T09:40:26.803Z"
   },
   {
    "duration": 3,
    "start_time": "2025-02-08T09:40:26.839Z"
   },
   {
    "duration": 35,
    "start_time": "2025-02-08T09:40:26.843Z"
   },
   {
    "duration": 4,
    "start_time": "2025-02-08T09:40:26.879Z"
   },
   {
    "duration": 4,
    "start_time": "2025-02-08T09:40:26.885Z"
   },
   {
    "duration": 19,
    "start_time": "2025-02-08T09:40:26.891Z"
   },
   {
    "duration": 18,
    "start_time": "2025-02-08T09:40:26.911Z"
   },
   {
    "duration": 32,
    "start_time": "2025-02-08T09:40:26.930Z"
   },
   {
    "duration": 6,
    "start_time": "2025-02-08T09:40:26.964Z"
   },
   {
    "duration": 1635,
    "start_time": "2025-02-08T09:40:26.971Z"
   },
   {
    "duration": 6,
    "start_time": "2025-02-08T09:40:28.607Z"
   },
   {
    "duration": 1035,
    "start_time": "2025-02-08T09:43:00.662Z"
   },
   {
    "duration": 77,
    "start_time": "2025-02-08T09:43:01.700Z"
   },
   {
    "duration": 17,
    "start_time": "2025-02-08T09:43:01.780Z"
   },
   {
    "duration": 27,
    "start_time": "2025-02-08T09:43:01.799Z"
   },
   {
    "duration": 41,
    "start_time": "2025-02-08T09:43:01.828Z"
   },
   {
    "duration": 11,
    "start_time": "2025-02-08T09:43:01.871Z"
   },
   {
    "duration": 42,
    "start_time": "2025-02-08T09:43:01.883Z"
   },
   {
    "duration": 16,
    "start_time": "2025-02-08T09:43:01.927Z"
   },
   {
    "duration": 6,
    "start_time": "2025-02-08T09:43:01.944Z"
   },
   {
    "duration": 56,
    "start_time": "2025-02-08T09:43:01.952Z"
   },
   {
    "duration": 22,
    "start_time": "2025-02-08T09:43:02.009Z"
   },
   {
    "duration": 32,
    "start_time": "2025-02-08T09:43:02.032Z"
   },
   {
    "duration": 5,
    "start_time": "2025-02-08T09:43:02.065Z"
   },
   {
    "duration": 16,
    "start_time": "2025-02-08T09:43:02.071Z"
   },
   {
    "duration": 28,
    "start_time": "2025-02-08T09:43:02.088Z"
   },
   {
    "duration": 22,
    "start_time": "2025-02-08T09:43:02.117Z"
   },
   {
    "duration": 15,
    "start_time": "2025-02-08T09:43:02.140Z"
   },
   {
    "duration": 5,
    "start_time": "2025-02-08T09:43:02.157Z"
   },
   {
    "duration": 13,
    "start_time": "2025-02-08T09:43:02.163Z"
   },
   {
    "duration": 169,
    "start_time": "2025-02-08T09:43:02.178Z"
   },
   {
    "duration": 4,
    "start_time": "2025-02-08T09:43:02.348Z"
   },
   {
    "duration": 13,
    "start_time": "2025-02-08T09:43:02.360Z"
   },
   {
    "duration": 39,
    "start_time": "2025-02-08T09:43:02.375Z"
   },
   {
    "duration": 127,
    "start_time": "2025-02-08T09:43:02.415Z"
   },
   {
    "duration": 4,
    "start_time": "2025-02-08T09:43:02.543Z"
   },
   {
    "duration": 150,
    "start_time": "2025-02-08T09:43:02.549Z"
   },
   {
    "duration": 4,
    "start_time": "2025-02-08T09:43:02.701Z"
   },
   {
    "duration": 20,
    "start_time": "2025-02-08T09:43:02.708Z"
   },
   {
    "duration": 165,
    "start_time": "2025-02-08T09:43:02.730Z"
   },
   {
    "duration": 9,
    "start_time": "2025-02-08T09:43:02.896Z"
   },
   {
    "duration": 149,
    "start_time": "2025-02-08T09:43:02.906Z"
   },
   {
    "duration": 13,
    "start_time": "2025-02-08T09:43:03.056Z"
   },
   {
    "duration": 34,
    "start_time": "2025-02-08T09:43:03.070Z"
   },
   {
    "duration": 15,
    "start_time": "2025-02-08T09:43:03.106Z"
   },
   {
    "duration": 38,
    "start_time": "2025-02-08T09:43:03.122Z"
   },
   {
    "duration": 37,
    "start_time": "2025-02-08T09:43:03.161Z"
   },
   {
    "duration": 176,
    "start_time": "2025-02-08T09:43:03.200Z"
   },
   {
    "duration": 176,
    "start_time": "2025-02-08T09:43:03.377Z"
   },
   {
    "duration": 186,
    "start_time": "2025-02-08T09:43:03.560Z"
   },
   {
    "duration": 286,
    "start_time": "2025-02-08T09:43:03.747Z"
   },
   {
    "duration": 43,
    "start_time": "2025-02-08T09:43:04.035Z"
   },
   {
    "duration": 3,
    "start_time": "2025-02-08T09:43:04.080Z"
   },
   {
    "duration": 20,
    "start_time": "2025-02-08T09:43:04.084Z"
   },
   {
    "duration": 5,
    "start_time": "2025-02-08T09:43:04.106Z"
   },
   {
    "duration": 20,
    "start_time": "2025-02-08T09:43:04.113Z"
   },
   {
    "duration": 31,
    "start_time": "2025-02-08T09:43:04.135Z"
   },
   {
    "duration": 17,
    "start_time": "2025-02-08T09:43:04.168Z"
   },
   {
    "duration": 6,
    "start_time": "2025-02-08T09:43:04.186Z"
   },
   {
    "duration": 23,
    "start_time": "2025-02-08T09:43:04.193Z"
   },
   {
    "duration": 1725,
    "start_time": "2025-02-08T09:43:04.218Z"
   },
   {
    "duration": 5,
    "start_time": "2025-02-08T09:43:05.945Z"
   },
   {
    "duration": 995,
    "start_time": "2025-02-08T09:44:23.569Z"
   },
   {
    "duration": 67,
    "start_time": "2025-02-08T09:44:24.566Z"
   },
   {
    "duration": 14,
    "start_time": "2025-02-08T09:44:24.634Z"
   },
   {
    "duration": 18,
    "start_time": "2025-02-08T09:44:24.650Z"
   },
   {
    "duration": 28,
    "start_time": "2025-02-08T09:44:24.670Z"
   },
   {
    "duration": 11,
    "start_time": "2025-02-08T09:44:24.699Z"
   },
   {
    "duration": 11,
    "start_time": "2025-02-08T09:44:24.711Z"
   },
   {
    "duration": 15,
    "start_time": "2025-02-08T09:44:24.723Z"
   },
   {
    "duration": 5,
    "start_time": "2025-02-08T09:44:24.740Z"
   },
   {
    "duration": 21,
    "start_time": "2025-02-08T09:44:24.748Z"
   },
   {
    "duration": 9,
    "start_time": "2025-02-08T09:44:24.770Z"
   },
   {
    "duration": 13,
    "start_time": "2025-02-08T09:44:24.781Z"
   },
   {
    "duration": 5,
    "start_time": "2025-02-08T09:44:24.795Z"
   },
   {
    "duration": 5,
    "start_time": "2025-02-08T09:44:24.802Z"
   },
   {
    "duration": 8,
    "start_time": "2025-02-08T09:44:24.809Z"
   },
   {
    "duration": 7,
    "start_time": "2025-02-08T09:44:24.860Z"
   },
   {
    "duration": 9,
    "start_time": "2025-02-08T09:44:24.869Z"
   },
   {
    "duration": 4,
    "start_time": "2025-02-08T09:44:24.879Z"
   },
   {
    "duration": 8,
    "start_time": "2025-02-08T09:44:24.885Z"
   },
   {
    "duration": 205,
    "start_time": "2025-02-08T09:44:24.894Z"
   },
   {
    "duration": 4,
    "start_time": "2025-02-08T09:44:25.100Z"
   },
   {
    "duration": 8,
    "start_time": "2025-02-08T09:44:25.106Z"
   },
   {
    "duration": 10,
    "start_time": "2025-02-08T09:44:25.116Z"
   },
   {
    "duration": 151,
    "start_time": "2025-02-08T09:44:25.127Z"
   },
   {
    "duration": 5,
    "start_time": "2025-02-08T09:44:25.279Z"
   },
   {
    "duration": 162,
    "start_time": "2025-02-08T09:44:25.285Z"
   },
   {
    "duration": 4,
    "start_time": "2025-02-08T09:44:25.449Z"
   },
   {
    "duration": 8,
    "start_time": "2025-02-08T09:44:25.462Z"
   },
   {
    "duration": 159,
    "start_time": "2025-02-08T09:44:25.471Z"
   },
   {
    "duration": 8,
    "start_time": "2025-02-08T09:44:25.631Z"
   },
   {
    "duration": 153,
    "start_time": "2025-02-08T09:44:25.641Z"
   },
   {
    "duration": 13,
    "start_time": "2025-02-08T09:44:25.797Z"
   },
   {
    "duration": 25,
    "start_time": "2025-02-08T09:44:25.812Z"
   },
   {
    "duration": 27,
    "start_time": "2025-02-08T09:44:25.839Z"
   },
   {
    "duration": 17,
    "start_time": "2025-02-08T09:44:25.868Z"
   },
   {
    "duration": 28,
    "start_time": "2025-02-08T09:44:25.888Z"
   },
   {
    "duration": 192,
    "start_time": "2025-02-08T09:44:25.918Z"
   },
   {
    "duration": 195,
    "start_time": "2025-02-08T09:44:26.112Z"
   },
   {
    "duration": 182,
    "start_time": "2025-02-08T09:44:26.309Z"
   },
   {
    "duration": 246,
    "start_time": "2025-02-08T09:44:26.493Z"
   },
   {
    "duration": 50,
    "start_time": "2025-02-08T09:44:26.740Z"
   },
   {
    "duration": 4,
    "start_time": "2025-02-08T09:44:26.791Z"
   },
   {
    "duration": 29,
    "start_time": "2025-02-08T09:44:26.797Z"
   },
   {
    "duration": 6,
    "start_time": "2025-02-08T09:44:26.827Z"
   },
   {
    "duration": 26,
    "start_time": "2025-02-08T09:44:26.835Z"
   },
   {
    "duration": 29,
    "start_time": "2025-02-08T09:44:26.863Z"
   },
   {
    "duration": 28,
    "start_time": "2025-02-08T09:44:26.894Z"
   },
   {
    "duration": 7,
    "start_time": "2025-02-08T09:44:26.924Z"
   },
   {
    "duration": 32,
    "start_time": "2025-02-08T09:44:26.934Z"
   },
   {
    "duration": 1779,
    "start_time": "2025-02-08T09:44:26.969Z"
   },
   {
    "duration": 12,
    "start_time": "2025-02-08T09:44:28.750Z"
   },
   {
    "duration": 980,
    "start_time": "2025-02-08T09:45:41.712Z"
   },
   {
    "duration": 69,
    "start_time": "2025-02-08T09:45:42.694Z"
   },
   {
    "duration": 23,
    "start_time": "2025-02-08T09:45:42.766Z"
   },
   {
    "duration": 9,
    "start_time": "2025-02-08T09:45:42.791Z"
   },
   {
    "duration": 29,
    "start_time": "2025-02-08T09:45:42.802Z"
   },
   {
    "duration": 10,
    "start_time": "2025-02-08T09:45:42.833Z"
   },
   {
    "duration": 27,
    "start_time": "2025-02-08T09:45:42.844Z"
   },
   {
    "duration": 15,
    "start_time": "2025-02-08T09:45:42.872Z"
   },
   {
    "duration": 6,
    "start_time": "2025-02-08T09:45:42.889Z"
   },
   {
    "duration": 9,
    "start_time": "2025-02-08T09:45:42.897Z"
   },
   {
    "duration": 9,
    "start_time": "2025-02-08T09:45:42.907Z"
   },
   {
    "duration": 13,
    "start_time": "2025-02-08T09:45:42.917Z"
   },
   {
    "duration": 30,
    "start_time": "2025-02-08T09:45:42.932Z"
   },
   {
    "duration": 7,
    "start_time": "2025-02-08T09:45:42.966Z"
   },
   {
    "duration": 11,
    "start_time": "2025-02-08T09:45:42.975Z"
   },
   {
    "duration": 5,
    "start_time": "2025-02-08T09:45:42.988Z"
   },
   {
    "duration": 8,
    "start_time": "2025-02-08T09:45:42.995Z"
   },
   {
    "duration": 3,
    "start_time": "2025-02-08T09:45:43.005Z"
   },
   {
    "duration": 7,
    "start_time": "2025-02-08T09:45:43.009Z"
   },
   {
    "duration": 201,
    "start_time": "2025-02-08T09:45:43.017Z"
   },
   {
    "duration": 4,
    "start_time": "2025-02-08T09:45:43.219Z"
   },
   {
    "duration": 9,
    "start_time": "2025-02-08T09:45:43.224Z"
   },
   {
    "duration": 26,
    "start_time": "2025-02-08T09:45:43.235Z"
   },
   {
    "duration": 140,
    "start_time": "2025-02-08T09:45:43.263Z"
   },
   {
    "duration": 4,
    "start_time": "2025-02-08T09:45:43.404Z"
   },
   {
    "duration": 171,
    "start_time": "2025-02-08T09:45:43.409Z"
   },
   {
    "duration": 4,
    "start_time": "2025-02-08T09:45:43.582Z"
   },
   {
    "duration": 23,
    "start_time": "2025-02-08T09:45:43.588Z"
   },
   {
    "duration": 152,
    "start_time": "2025-02-08T09:45:43.613Z"
   },
   {
    "duration": 10,
    "start_time": "2025-02-08T09:45:43.767Z"
   },
   {
    "duration": 182,
    "start_time": "2025-02-08T09:45:43.779Z"
   },
   {
    "duration": 10,
    "start_time": "2025-02-08T09:45:43.963Z"
   },
   {
    "duration": 19,
    "start_time": "2025-02-08T09:45:43.974Z"
   },
   {
    "duration": 9,
    "start_time": "2025-02-08T09:45:43.995Z"
   },
   {
    "duration": 16,
    "start_time": "2025-02-08T09:45:44.005Z"
   },
   {
    "duration": 48,
    "start_time": "2025-02-08T09:45:44.022Z"
   },
   {
    "duration": 172,
    "start_time": "2025-02-08T09:45:44.072Z"
   },
   {
    "duration": 174,
    "start_time": "2025-02-08T09:45:44.245Z"
   },
   {
    "duration": 179,
    "start_time": "2025-02-08T09:45:44.420Z"
   },
   {
    "duration": 243,
    "start_time": "2025-02-08T09:45:44.601Z"
   },
   {
    "duration": 45,
    "start_time": "2025-02-08T09:45:44.847Z"
   },
   {
    "duration": 3,
    "start_time": "2025-02-08T09:45:44.894Z"
   },
   {
    "duration": 19,
    "start_time": "2025-02-08T09:45:44.898Z"
   },
   {
    "duration": 5,
    "start_time": "2025-02-08T09:45:44.918Z"
   },
   {
    "duration": 4,
    "start_time": "2025-02-08T09:45:44.925Z"
   },
   {
    "duration": 43,
    "start_time": "2025-02-08T09:45:44.930Z"
   },
   {
    "duration": 18,
    "start_time": "2025-02-08T09:45:44.975Z"
   },
   {
    "duration": 5,
    "start_time": "2025-02-08T09:45:44.994Z"
   },
   {
    "duration": 31,
    "start_time": "2025-02-08T09:45:45.000Z"
   },
   {
    "duration": 1781,
    "start_time": "2025-02-08T09:45:45.032Z"
   },
   {
    "duration": 5,
    "start_time": "2025-02-08T09:45:46.815Z"
   },
   {
    "duration": 9,
    "start_time": "2025-02-08T09:45:46.822Z"
   },
   {
    "duration": 1058,
    "start_time": "2025-02-08T09:46:31.449Z"
   },
   {
    "duration": 67,
    "start_time": "2025-02-08T09:46:32.509Z"
   },
   {
    "duration": 15,
    "start_time": "2025-02-08T09:46:32.578Z"
   },
   {
    "duration": 9,
    "start_time": "2025-02-08T09:46:32.595Z"
   },
   {
    "duration": 29,
    "start_time": "2025-02-08T09:46:32.606Z"
   },
   {
    "duration": 10,
    "start_time": "2025-02-08T09:46:32.636Z"
   },
   {
    "duration": 17,
    "start_time": "2025-02-08T09:46:32.647Z"
   },
   {
    "duration": 16,
    "start_time": "2025-02-08T09:46:32.666Z"
   },
   {
    "duration": 7,
    "start_time": "2025-02-08T09:46:32.683Z"
   },
   {
    "duration": 28,
    "start_time": "2025-02-08T09:46:32.693Z"
   },
   {
    "duration": 33,
    "start_time": "2025-02-08T09:46:32.722Z"
   },
   {
    "duration": 17,
    "start_time": "2025-02-08T09:46:32.757Z"
   },
   {
    "duration": 7,
    "start_time": "2025-02-08T09:46:32.775Z"
   },
   {
    "duration": 33,
    "start_time": "2025-02-08T09:46:32.784Z"
   },
   {
    "duration": 8,
    "start_time": "2025-02-08T09:46:32.818Z"
   },
   {
    "duration": 5,
    "start_time": "2025-02-08T09:46:32.827Z"
   },
   {
    "duration": 9,
    "start_time": "2025-02-08T09:46:32.833Z"
   },
   {
    "duration": 9,
    "start_time": "2025-02-08T09:46:32.844Z"
   },
   {
    "duration": 6,
    "start_time": "2025-02-08T09:46:32.854Z"
   },
   {
    "duration": 178,
    "start_time": "2025-02-08T09:46:32.862Z"
   },
   {
    "duration": 4,
    "start_time": "2025-02-08T09:46:33.041Z"
   },
   {
    "duration": 19,
    "start_time": "2025-02-08T09:46:33.047Z"
   },
   {
    "duration": 12,
    "start_time": "2025-02-08T09:46:33.068Z"
   },
   {
    "duration": 140,
    "start_time": "2025-02-08T09:46:33.081Z"
   },
   {
    "duration": 4,
    "start_time": "2025-02-08T09:46:33.223Z"
   },
   {
    "duration": 157,
    "start_time": "2025-02-08T09:46:33.228Z"
   },
   {
    "duration": 3,
    "start_time": "2025-02-08T09:46:33.388Z"
   },
   {
    "duration": 10,
    "start_time": "2025-02-08T09:46:33.395Z"
   },
   {
    "duration": 172,
    "start_time": "2025-02-08T09:46:33.406Z"
   },
   {
    "duration": 9,
    "start_time": "2025-02-08T09:46:33.581Z"
   },
   {
    "duration": 157,
    "start_time": "2025-02-08T09:46:33.592Z"
   },
   {
    "duration": 14,
    "start_time": "2025-02-08T09:46:33.750Z"
   },
   {
    "duration": 19,
    "start_time": "2025-02-08T09:46:33.767Z"
   },
   {
    "duration": 10,
    "start_time": "2025-02-08T09:46:33.788Z"
   },
   {
    "duration": 27,
    "start_time": "2025-02-08T09:46:33.799Z"
   },
   {
    "duration": 25,
    "start_time": "2025-02-08T09:46:33.827Z"
   },
   {
    "duration": 209,
    "start_time": "2025-02-08T09:46:33.854Z"
   },
   {
    "duration": 187,
    "start_time": "2025-02-08T09:46:34.065Z"
   },
   {
    "duration": 194,
    "start_time": "2025-02-08T09:46:34.254Z"
   },
   {
    "duration": 260,
    "start_time": "2025-02-08T09:46:34.450Z"
   },
   {
    "duration": 37,
    "start_time": "2025-02-08T09:46:34.712Z"
   },
   {
    "duration": 12,
    "start_time": "2025-02-08T09:46:34.751Z"
   },
   {
    "duration": 30,
    "start_time": "2025-02-08T09:46:34.765Z"
   },
   {
    "duration": 4,
    "start_time": "2025-02-08T09:46:34.797Z"
   },
   {
    "duration": 8,
    "start_time": "2025-02-08T09:46:34.803Z"
   },
   {
    "duration": 36,
    "start_time": "2025-02-08T09:46:34.812Z"
   },
   {
    "duration": 29,
    "start_time": "2025-02-08T09:46:34.849Z"
   },
   {
    "duration": 5,
    "start_time": "2025-02-08T09:46:34.880Z"
   },
   {
    "duration": 17,
    "start_time": "2025-02-08T09:46:34.886Z"
   },
   {
    "duration": 1703,
    "start_time": "2025-02-08T09:46:34.904Z"
   },
   {
    "duration": 980,
    "start_time": "2025-02-08T09:47:27.811Z"
   },
   {
    "duration": 71,
    "start_time": "2025-02-08T09:47:28.792Z"
   },
   {
    "duration": 19,
    "start_time": "2025-02-08T09:47:28.865Z"
   },
   {
    "duration": 10,
    "start_time": "2025-02-08T09:47:28.886Z"
   },
   {
    "duration": 30,
    "start_time": "2025-02-08T09:47:28.897Z"
   },
   {
    "duration": 12,
    "start_time": "2025-02-08T09:47:28.928Z"
   },
   {
    "duration": 26,
    "start_time": "2025-02-08T09:47:28.941Z"
   },
   {
    "duration": 15,
    "start_time": "2025-02-08T09:47:28.970Z"
   },
   {
    "duration": 19,
    "start_time": "2025-02-08T09:47:28.986Z"
   },
   {
    "duration": 19,
    "start_time": "2025-02-08T09:47:29.008Z"
   },
   {
    "duration": 36,
    "start_time": "2025-02-08T09:47:29.028Z"
   },
   {
    "duration": 49,
    "start_time": "2025-02-08T09:47:29.065Z"
   },
   {
    "duration": 14,
    "start_time": "2025-02-08T09:47:29.116Z"
   },
   {
    "duration": 20,
    "start_time": "2025-02-08T09:47:29.131Z"
   },
   {
    "duration": 26,
    "start_time": "2025-02-08T09:47:29.153Z"
   },
   {
    "duration": 16,
    "start_time": "2025-02-08T09:47:29.180Z"
   },
   {
    "duration": 27,
    "start_time": "2025-02-08T09:47:29.198Z"
   },
   {
    "duration": 9,
    "start_time": "2025-02-08T09:47:29.226Z"
   },
   {
    "duration": 23,
    "start_time": "2025-02-08T09:47:29.237Z"
   },
   {
    "duration": 198,
    "start_time": "2025-02-08T09:47:29.263Z"
   },
   {
    "duration": 5,
    "start_time": "2025-02-08T09:47:29.463Z"
   },
   {
    "duration": 24,
    "start_time": "2025-02-08T09:47:29.471Z"
   },
   {
    "duration": 30,
    "start_time": "2025-02-08T09:47:29.497Z"
   },
   {
    "duration": 143,
    "start_time": "2025-02-08T09:47:29.528Z"
   },
   {
    "duration": 4,
    "start_time": "2025-02-08T09:47:29.674Z"
   },
   {
    "duration": 176,
    "start_time": "2025-02-08T09:47:29.680Z"
   },
   {
    "duration": 6,
    "start_time": "2025-02-08T09:47:29.861Z"
   },
   {
    "duration": 31,
    "start_time": "2025-02-08T09:47:29.871Z"
   },
   {
    "duration": 202,
    "start_time": "2025-02-08T09:47:29.903Z"
   },
   {
    "duration": 9,
    "start_time": "2025-02-08T09:47:30.107Z"
   },
   {
    "duration": 215,
    "start_time": "2025-02-08T09:47:30.117Z"
   },
   {
    "duration": 9,
    "start_time": "2025-02-08T09:47:30.334Z"
   },
   {
    "duration": 59,
    "start_time": "2025-02-08T09:47:30.345Z"
   },
   {
    "duration": 38,
    "start_time": "2025-02-08T09:47:30.406Z"
   },
   {
    "duration": 48,
    "start_time": "2025-02-08T09:47:30.445Z"
   },
   {
    "duration": 44,
    "start_time": "2025-02-08T09:47:30.494Z"
   },
   {
    "duration": 193,
    "start_time": "2025-02-08T09:47:30.539Z"
   },
   {
    "duration": 197,
    "start_time": "2025-02-08T09:47:30.733Z"
   },
   {
    "duration": 197,
    "start_time": "2025-02-08T09:47:30.932Z"
   },
   {
    "duration": 259,
    "start_time": "2025-02-08T09:47:31.131Z"
   },
   {
    "duration": 39,
    "start_time": "2025-02-08T09:47:31.391Z"
   },
   {
    "duration": 3,
    "start_time": "2025-02-08T09:47:31.431Z"
   },
   {
    "duration": 41,
    "start_time": "2025-02-08T09:47:31.436Z"
   },
   {
    "duration": 57,
    "start_time": "2025-02-08T09:47:31.478Z"
   },
   {
    "duration": 22,
    "start_time": "2025-02-08T09:47:31.537Z"
   },
   {
    "duration": 35,
    "start_time": "2025-02-08T09:47:31.560Z"
   },
   {
    "duration": 22,
    "start_time": "2025-02-08T09:47:31.598Z"
   },
   {
    "duration": 30,
    "start_time": "2025-02-08T09:47:31.622Z"
   },
   {
    "duration": 23,
    "start_time": "2025-02-08T09:47:31.654Z"
   },
   {
    "duration": 1757,
    "start_time": "2025-02-08T09:47:31.679Z"
   },
   {
    "duration": 5,
    "start_time": "2025-02-08T09:47:33.437Z"
   },
   {
    "duration": 1033,
    "start_time": "2025-02-08T09:48:26.383Z"
   },
   {
    "duration": 70,
    "start_time": "2025-02-08T09:48:27.417Z"
   },
   {
    "duration": 14,
    "start_time": "2025-02-08T09:48:27.488Z"
   },
   {
    "duration": 10,
    "start_time": "2025-02-08T09:48:27.505Z"
   },
   {
    "duration": 28,
    "start_time": "2025-02-08T09:48:27.516Z"
   },
   {
    "duration": 21,
    "start_time": "2025-02-08T09:48:27.546Z"
   },
   {
    "duration": 13,
    "start_time": "2025-02-08T09:48:27.569Z"
   },
   {
    "duration": 20,
    "start_time": "2025-02-08T09:48:27.584Z"
   },
   {
    "duration": 7,
    "start_time": "2025-02-08T09:48:27.606Z"
   },
   {
    "duration": 9,
    "start_time": "2025-02-08T09:48:27.616Z"
   },
   {
    "duration": 16,
    "start_time": "2025-02-08T09:48:27.626Z"
   },
   {
    "duration": 26,
    "start_time": "2025-02-08T09:48:27.643Z"
   },
   {
    "duration": 6,
    "start_time": "2025-02-08T09:48:27.671Z"
   },
   {
    "duration": 6,
    "start_time": "2025-02-08T09:48:27.679Z"
   },
   {
    "duration": 8,
    "start_time": "2025-02-08T09:48:27.686Z"
   },
   {
    "duration": 5,
    "start_time": "2025-02-08T09:48:27.695Z"
   },
   {
    "duration": 8,
    "start_time": "2025-02-08T09:48:27.701Z"
   },
   {
    "duration": 3,
    "start_time": "2025-02-08T09:48:27.710Z"
   },
   {
    "duration": 6,
    "start_time": "2025-02-08T09:48:27.715Z"
   },
   {
    "duration": 223,
    "start_time": "2025-02-08T09:48:27.723Z"
   },
   {
    "duration": 4,
    "start_time": "2025-02-08T09:48:27.947Z"
   },
   {
    "duration": 19,
    "start_time": "2025-02-08T09:48:27.962Z"
   },
   {
    "duration": 9,
    "start_time": "2025-02-08T09:48:27.983Z"
   },
   {
    "duration": 147,
    "start_time": "2025-02-08T09:48:27.993Z"
   },
   {
    "duration": 4,
    "start_time": "2025-02-08T09:48:28.141Z"
   },
   {
    "duration": 177,
    "start_time": "2025-02-08T09:48:28.147Z"
   },
   {
    "duration": 4,
    "start_time": "2025-02-08T09:48:28.325Z"
   },
   {
    "duration": 9,
    "start_time": "2025-02-08T09:48:28.332Z"
   },
   {
    "duration": 180,
    "start_time": "2025-02-08T09:48:28.342Z"
   },
   {
    "duration": 8,
    "start_time": "2025-02-08T09:48:28.523Z"
   },
   {
    "duration": 165,
    "start_time": "2025-02-08T09:48:28.532Z"
   },
   {
    "duration": 10,
    "start_time": "2025-02-08T09:48:28.698Z"
   },
   {
    "duration": 23,
    "start_time": "2025-02-08T09:48:28.709Z"
   },
   {
    "duration": 10,
    "start_time": "2025-02-08T09:48:28.733Z"
   },
   {
    "duration": 37,
    "start_time": "2025-02-08T09:48:28.744Z"
   },
   {
    "duration": 18,
    "start_time": "2025-02-08T09:48:28.783Z"
   },
   {
    "duration": 183,
    "start_time": "2025-02-08T09:48:28.803Z"
   },
   {
    "duration": 199,
    "start_time": "2025-02-08T09:48:28.987Z"
   },
   {
    "duration": 210,
    "start_time": "2025-02-08T09:48:29.187Z"
   },
   {
    "duration": 258,
    "start_time": "2025-02-08T09:48:29.399Z"
   },
   {
    "duration": 47,
    "start_time": "2025-02-08T09:48:29.661Z"
   },
   {
    "duration": 3,
    "start_time": "2025-02-08T09:48:29.710Z"
   },
   {
    "duration": 18,
    "start_time": "2025-02-08T09:48:29.714Z"
   },
   {
    "duration": 5,
    "start_time": "2025-02-08T09:48:29.733Z"
   },
   {
    "duration": 7,
    "start_time": "2025-02-08T09:48:29.764Z"
   },
   {
    "duration": 23,
    "start_time": "2025-02-08T09:48:29.773Z"
   },
   {
    "duration": 18,
    "start_time": "2025-02-08T09:48:29.797Z"
   },
   {
    "duration": 5,
    "start_time": "2025-02-08T09:48:29.817Z"
   },
   {
    "duration": 6,
    "start_time": "2025-02-08T09:48:29.824Z"
   },
   {
    "duration": 1767,
    "start_time": "2025-02-08T09:48:29.832Z"
   },
   {
    "duration": 5,
    "start_time": "2025-02-08T09:48:31.601Z"
   },
   {
    "duration": 19,
    "start_time": "2025-02-08T09:48:31.608Z"
   },
   {
    "duration": 985,
    "start_time": "2025-02-08T09:49:35.888Z"
   },
   {
    "duration": 68,
    "start_time": "2025-02-08T09:49:36.875Z"
   },
   {
    "duration": 14,
    "start_time": "2025-02-08T09:49:36.945Z"
   },
   {
    "duration": 13,
    "start_time": "2025-02-08T09:49:36.960Z"
   },
   {
    "duration": 43,
    "start_time": "2025-02-08T09:49:36.975Z"
   },
   {
    "duration": 11,
    "start_time": "2025-02-08T09:49:37.019Z"
   },
   {
    "duration": 9,
    "start_time": "2025-02-08T09:49:37.032Z"
   },
   {
    "duration": 15,
    "start_time": "2025-02-08T09:49:37.043Z"
   },
   {
    "duration": 8,
    "start_time": "2025-02-08T09:49:37.059Z"
   },
   {
    "duration": 13,
    "start_time": "2025-02-08T09:49:37.069Z"
   },
   {
    "duration": 33,
    "start_time": "2025-02-08T09:49:37.084Z"
   },
   {
    "duration": 20,
    "start_time": "2025-02-08T09:49:37.118Z"
   },
   {
    "duration": 6,
    "start_time": "2025-02-08T09:49:37.139Z"
   },
   {
    "duration": 19,
    "start_time": "2025-02-08T09:49:37.147Z"
   },
   {
    "duration": 26,
    "start_time": "2025-02-08T09:49:37.168Z"
   },
   {
    "duration": 6,
    "start_time": "2025-02-08T09:49:37.196Z"
   },
   {
    "duration": 35,
    "start_time": "2025-02-08T09:49:37.204Z"
   },
   {
    "duration": 5,
    "start_time": "2025-02-08T09:49:37.240Z"
   },
   {
    "duration": 10,
    "start_time": "2025-02-08T09:49:37.246Z"
   },
   {
    "duration": 176,
    "start_time": "2025-02-08T09:49:37.258Z"
   },
   {
    "duration": 3,
    "start_time": "2025-02-08T09:49:37.436Z"
   },
   {
    "duration": 21,
    "start_time": "2025-02-08T09:49:37.441Z"
   },
   {
    "duration": 35,
    "start_time": "2025-02-08T09:49:37.464Z"
   },
   {
    "duration": 145,
    "start_time": "2025-02-08T09:49:37.501Z"
   },
   {
    "duration": 3,
    "start_time": "2025-02-08T09:49:37.648Z"
   },
   {
    "duration": 170,
    "start_time": "2025-02-08T09:49:37.652Z"
   },
   {
    "duration": 4,
    "start_time": "2025-02-08T09:49:37.823Z"
   },
   {
    "duration": 12,
    "start_time": "2025-02-08T09:49:37.829Z"
   },
   {
    "duration": 186,
    "start_time": "2025-02-08T09:49:37.842Z"
   },
   {
    "duration": 8,
    "start_time": "2025-02-08T09:49:38.030Z"
   },
   {
    "duration": 174,
    "start_time": "2025-02-08T09:49:38.039Z"
   },
   {
    "duration": 10,
    "start_time": "2025-02-08T09:49:38.214Z"
   },
   {
    "duration": 18,
    "start_time": "2025-02-08T09:49:38.226Z"
   },
   {
    "duration": 25,
    "start_time": "2025-02-08T09:49:38.245Z"
   },
   {
    "duration": 19,
    "start_time": "2025-02-08T09:49:38.271Z"
   },
   {
    "duration": 27,
    "start_time": "2025-02-08T09:49:38.292Z"
   },
   {
    "duration": 168,
    "start_time": "2025-02-08T09:49:38.321Z"
   },
   {
    "duration": 187,
    "start_time": "2025-02-08T09:49:38.490Z"
   },
   {
    "duration": 183,
    "start_time": "2025-02-08T09:49:38.679Z"
   },
   {
    "duration": 264,
    "start_time": "2025-02-08T09:49:38.864Z"
   },
   {
    "duration": 43,
    "start_time": "2025-02-08T09:49:39.131Z"
   },
   {
    "duration": 4,
    "start_time": "2025-02-08T09:49:39.177Z"
   },
   {
    "duration": 19,
    "start_time": "2025-02-08T09:49:39.182Z"
   },
   {
    "duration": 5,
    "start_time": "2025-02-08T09:49:39.202Z"
   },
   {
    "duration": 5,
    "start_time": "2025-02-08T09:49:39.208Z"
   },
   {
    "duration": 18,
    "start_time": "2025-02-08T09:49:39.214Z"
   },
   {
    "duration": 51,
    "start_time": "2025-02-08T09:49:39.234Z"
   },
   {
    "duration": 5,
    "start_time": "2025-02-08T09:49:39.287Z"
   },
   {
    "duration": 6,
    "start_time": "2025-02-08T09:49:39.294Z"
   },
   {
    "duration": 1837,
    "start_time": "2025-02-08T09:49:39.301Z"
   },
   {
    "duration": 115,
    "start_time": "2025-02-08T09:49:41.140Z"
   },
   {
    "duration": 0,
    "start_time": "2025-02-08T09:49:41.256Z"
   },
   {
    "duration": 0,
    "start_time": "2025-02-08T09:49:41.257Z"
   },
   {
    "duration": 0,
    "start_time": "2025-02-08T09:49:41.258Z"
   },
   {
    "duration": 5,
    "start_time": "2025-02-08T09:52:11.448Z"
   },
   {
    "duration": 5,
    "start_time": "2025-02-08T09:55:50.639Z"
   },
   {
    "duration": 5,
    "start_time": "2025-02-08T09:56:00.794Z"
   },
   {
    "duration": 5,
    "start_time": "2025-02-08T09:56:28.027Z"
   },
   {
    "duration": 5,
    "start_time": "2025-02-08T09:57:37.443Z"
   },
   {
    "duration": 5,
    "start_time": "2025-02-08T09:57:42.714Z"
   },
   {
    "duration": 5,
    "start_time": "2025-02-08T09:57:52.592Z"
   },
   {
    "duration": 5,
    "start_time": "2025-02-08T09:58:34.429Z"
   },
   {
    "duration": 6,
    "start_time": "2025-02-08T09:58:45.284Z"
   },
   {
    "duration": 143,
    "start_time": "2025-02-08T10:02:58.250Z"
   },
   {
    "duration": 309,
    "start_time": "2025-02-08T10:04:09.841Z"
   },
   {
    "duration": 207,
    "start_time": "2025-02-08T10:04:19.620Z"
   },
   {
    "duration": 6,
    "start_time": "2025-02-08T10:10:24.667Z"
   },
   {
    "duration": 6,
    "start_time": "2025-02-08T10:14:25.507Z"
   },
   {
    "duration": 6,
    "start_time": "2025-02-08T10:15:50.067Z"
   },
   {
    "duration": 2137,
    "start_time": "2025-02-08T10:15:57.685Z"
   },
   {
    "duration": 2378,
    "start_time": "2025-02-08T10:16:49.752Z"
   },
   {
    "duration": 5,
    "start_time": "2025-02-08T10:18:03.618Z"
   },
   {
    "duration": 6,
    "start_time": "2025-02-08T10:18:51.027Z"
   },
   {
    "duration": 6,
    "start_time": "2025-02-08T10:20:34.107Z"
   },
   {
    "duration": 27,
    "start_time": "2025-02-08T10:23:32.333Z"
   },
   {
    "duration": 1902,
    "start_time": "2025-02-08T10:23:57.343Z"
   },
   {
    "duration": 1894,
    "start_time": "2025-02-08T10:31:33.316Z"
   },
   {
    "duration": 1944,
    "start_time": "2025-02-08T10:33:51.254Z"
   },
   {
    "duration": 1849,
    "start_time": "2025-02-08T10:33:59.899Z"
   },
   {
    "duration": 1888,
    "start_time": "2025-02-08T10:34:09.184Z"
   },
   {
    "duration": 272,
    "start_time": "2025-02-08T10:34:50.666Z"
   },
   {
    "duration": 296,
    "start_time": "2025-02-08T10:35:55.767Z"
   },
   {
    "duration": 276,
    "start_time": "2025-02-08T10:36:10.841Z"
   },
   {
    "duration": 301,
    "start_time": "2025-02-08T10:36:24.590Z"
   },
   {
    "duration": 307,
    "start_time": "2025-02-08T10:36:33.444Z"
   },
   {
    "duration": 397,
    "start_time": "2025-02-08T10:36:47.936Z"
   },
   {
    "duration": 323,
    "start_time": "2025-02-08T10:36:53.723Z"
   },
   {
    "duration": 384,
    "start_time": "2025-02-08T10:38:10.828Z"
   },
   {
    "duration": 34,
    "start_time": "2025-02-08T10:39:53.058Z"
   },
   {
    "duration": 150,
    "start_time": "2025-02-08T10:40:17.522Z"
   },
   {
    "duration": 263,
    "start_time": "2025-02-08T10:40:32.976Z"
   },
   {
    "duration": 336,
    "start_time": "2025-02-08T10:40:38.886Z"
   },
   {
    "duration": 511,
    "start_time": "2025-02-08T10:46:35.204Z"
   },
   {
    "duration": 1892,
    "start_time": "2025-02-08T10:47:10.735Z"
   },
   {
    "duration": 2003,
    "start_time": "2025-02-08T10:47:27.840Z"
   },
   {
    "duration": 2200,
    "start_time": "2025-02-08T10:48:02.510Z"
   },
   {
    "duration": 2077,
    "start_time": "2025-02-08T10:48:15.210Z"
   },
   {
    "duration": 1820,
    "start_time": "2025-02-08T10:49:53.732Z"
   },
   {
    "duration": 2087,
    "start_time": "2025-02-08T10:50:56.817Z"
   },
   {
    "duration": 1056,
    "start_time": "2025-02-08T10:52:50.127Z"
   },
   {
    "duration": 77,
    "start_time": "2025-02-08T10:52:51.186Z"
   },
   {
    "duration": 16,
    "start_time": "2025-02-08T10:52:51.265Z"
   },
   {
    "duration": 11,
    "start_time": "2025-02-08T10:52:51.282Z"
   },
   {
    "duration": 37,
    "start_time": "2025-02-08T10:52:51.294Z"
   },
   {
    "duration": 13,
    "start_time": "2025-02-08T10:52:51.333Z"
   },
   {
    "duration": 24,
    "start_time": "2025-02-08T10:52:51.347Z"
   },
   {
    "duration": 16,
    "start_time": "2025-02-08T10:52:51.373Z"
   },
   {
    "duration": 6,
    "start_time": "2025-02-08T10:52:51.391Z"
   },
   {
    "duration": 11,
    "start_time": "2025-02-08T10:52:51.399Z"
   },
   {
    "duration": 14,
    "start_time": "2025-02-08T10:52:51.411Z"
   },
   {
    "duration": 33,
    "start_time": "2025-02-08T10:52:51.427Z"
   },
   {
    "duration": 5,
    "start_time": "2025-02-08T10:52:51.462Z"
   },
   {
    "duration": 14,
    "start_time": "2025-02-08T10:52:51.469Z"
   },
   {
    "duration": 8,
    "start_time": "2025-02-08T10:52:51.485Z"
   },
   {
    "duration": 6,
    "start_time": "2025-02-08T10:52:51.494Z"
   },
   {
    "duration": 10,
    "start_time": "2025-02-08T10:52:51.502Z"
   },
   {
    "duration": 4,
    "start_time": "2025-02-08T10:52:51.513Z"
   },
   {
    "duration": 5,
    "start_time": "2025-02-08T10:52:51.518Z"
   },
   {
    "duration": 205,
    "start_time": "2025-02-08T10:52:51.525Z"
   },
   {
    "duration": 5,
    "start_time": "2025-02-08T10:52:51.731Z"
   },
   {
    "duration": 34,
    "start_time": "2025-02-08T10:52:51.737Z"
   },
   {
    "duration": 10,
    "start_time": "2025-02-08T10:52:51.772Z"
   },
   {
    "duration": 122,
    "start_time": "2025-02-08T10:52:51.783Z"
   },
   {
    "duration": 4,
    "start_time": "2025-02-08T10:52:51.907Z"
   },
   {
    "duration": 149,
    "start_time": "2025-02-08T10:52:51.912Z"
   },
   {
    "duration": 4,
    "start_time": "2025-02-08T10:52:52.062Z"
   },
   {
    "duration": 8,
    "start_time": "2025-02-08T10:52:52.069Z"
   },
   {
    "duration": 167,
    "start_time": "2025-02-08T10:52:52.079Z"
   },
   {
    "duration": 13,
    "start_time": "2025-02-08T10:52:52.249Z"
   },
   {
    "duration": 158,
    "start_time": "2025-02-08T10:52:52.263Z"
   },
   {
    "duration": 10,
    "start_time": "2025-02-08T10:52:52.422Z"
   },
   {
    "duration": 31,
    "start_time": "2025-02-08T10:52:52.433Z"
   },
   {
    "duration": 9,
    "start_time": "2025-02-08T10:52:52.466Z"
   },
   {
    "duration": 17,
    "start_time": "2025-02-08T10:52:52.477Z"
   },
   {
    "duration": 17,
    "start_time": "2025-02-08T10:52:52.495Z"
   },
   {
    "duration": 182,
    "start_time": "2025-02-08T10:52:52.514Z"
   },
   {
    "duration": 181,
    "start_time": "2025-02-08T10:52:52.698Z"
   },
   {
    "duration": 181,
    "start_time": "2025-02-08T10:52:52.880Z"
   },
   {
    "duration": 264,
    "start_time": "2025-02-08T10:52:53.062Z"
   },
   {
    "duration": 50,
    "start_time": "2025-02-08T10:52:53.328Z"
   },
   {
    "duration": 4,
    "start_time": "2025-02-08T10:52:53.380Z"
   },
   {
    "duration": 23,
    "start_time": "2025-02-08T10:52:53.386Z"
   },
   {
    "duration": 6,
    "start_time": "2025-02-08T10:52:53.410Z"
   },
   {
    "duration": 5,
    "start_time": "2025-02-08T10:52:53.417Z"
   },
   {
    "duration": 47,
    "start_time": "2025-02-08T10:52:53.424Z"
   },
   {
    "duration": 18,
    "start_time": "2025-02-08T10:52:53.473Z"
   },
   {
    "duration": 6,
    "start_time": "2025-02-08T10:52:53.492Z"
   },
   {
    "duration": 24,
    "start_time": "2025-02-08T10:52:53.499Z"
   },
   {
    "duration": 1978,
    "start_time": "2025-02-08T10:52:53.525Z"
   },
   {
    "duration": 5,
    "start_time": "2025-02-08T10:52:55.504Z"
   },
   {
    "duration": 251,
    "start_time": "2025-02-08T10:52:55.510Z"
   },
   {
    "duration": 1021,
    "start_time": "2025-02-08T12:08:49.721Z"
   },
   {
    "duration": 69,
    "start_time": "2025-02-08T12:08:50.744Z"
   },
   {
    "duration": 15,
    "start_time": "2025-02-08T12:08:50.814Z"
   },
   {
    "duration": 11,
    "start_time": "2025-02-08T12:08:50.831Z"
   },
   {
    "duration": 47,
    "start_time": "2025-02-08T12:08:50.844Z"
   },
   {
    "duration": 12,
    "start_time": "2025-02-08T12:08:50.893Z"
   },
   {
    "duration": 40,
    "start_time": "2025-02-08T12:08:50.906Z"
   },
   {
    "duration": 24,
    "start_time": "2025-02-08T12:08:50.947Z"
   },
   {
    "duration": 10,
    "start_time": "2025-02-08T12:08:50.973Z"
   },
   {
    "duration": 25,
    "start_time": "2025-02-08T12:08:50.985Z"
   },
   {
    "duration": 21,
    "start_time": "2025-02-08T12:08:51.012Z"
   },
   {
    "duration": 15,
    "start_time": "2025-02-08T12:08:51.035Z"
   },
   {
    "duration": 8,
    "start_time": "2025-02-08T12:08:51.052Z"
   },
   {
    "duration": 21,
    "start_time": "2025-02-08T12:08:51.063Z"
   },
   {
    "duration": 8,
    "start_time": "2025-02-08T12:08:51.085Z"
   },
   {
    "duration": 23,
    "start_time": "2025-02-08T12:08:51.094Z"
   },
   {
    "duration": 10,
    "start_time": "2025-02-08T12:08:51.119Z"
   },
   {
    "duration": 13,
    "start_time": "2025-02-08T12:08:51.131Z"
   },
   {
    "duration": 10,
    "start_time": "2025-02-08T12:08:51.146Z"
   },
   {
    "duration": 203,
    "start_time": "2025-02-08T12:08:51.157Z"
   },
   {
    "duration": 4,
    "start_time": "2025-02-08T12:08:51.362Z"
   },
   {
    "duration": 23,
    "start_time": "2025-02-08T12:08:51.367Z"
   },
   {
    "duration": 42,
    "start_time": "2025-02-08T12:08:51.392Z"
   },
   {
    "duration": 129,
    "start_time": "2025-02-08T12:08:51.436Z"
   },
   {
    "duration": 4,
    "start_time": "2025-02-08T12:08:51.566Z"
   },
   {
    "duration": 163,
    "start_time": "2025-02-08T12:08:51.572Z"
   },
   {
    "duration": 4,
    "start_time": "2025-02-08T12:08:51.736Z"
   },
   {
    "duration": 10,
    "start_time": "2025-02-08T12:08:51.741Z"
   },
   {
    "duration": 161,
    "start_time": "2025-02-08T12:08:51.753Z"
   },
   {
    "duration": 8,
    "start_time": "2025-02-08T12:08:51.915Z"
   },
   {
    "duration": 152,
    "start_time": "2025-02-08T12:08:51.924Z"
   },
   {
    "duration": 10,
    "start_time": "2025-02-08T12:08:52.077Z"
   },
   {
    "duration": 26,
    "start_time": "2025-02-08T12:08:52.088Z"
   },
   {
    "duration": 8,
    "start_time": "2025-02-08T12:08:52.116Z"
   },
   {
    "duration": 18,
    "start_time": "2025-02-08T12:08:52.125Z"
   },
   {
    "duration": 17,
    "start_time": "2025-02-08T12:08:52.145Z"
   },
   {
    "duration": 208,
    "start_time": "2025-02-08T12:08:52.163Z"
   },
   {
    "duration": 183,
    "start_time": "2025-02-08T12:08:52.373Z"
   },
   {
    "duration": 187,
    "start_time": "2025-02-08T12:08:52.557Z"
   },
   {
    "duration": 250,
    "start_time": "2025-02-08T12:08:52.746Z"
   },
   {
    "duration": 47,
    "start_time": "2025-02-08T12:08:53.001Z"
   },
   {
    "duration": 4,
    "start_time": "2025-02-08T12:08:53.050Z"
   },
   {
    "duration": 20,
    "start_time": "2025-02-08T12:08:53.056Z"
   },
   {
    "duration": 12,
    "start_time": "2025-02-08T12:08:53.078Z"
   },
   {
    "duration": 6,
    "start_time": "2025-02-08T12:08:53.110Z"
   },
   {
    "duration": 41,
    "start_time": "2025-02-08T12:08:53.117Z"
   },
   {
    "duration": 20,
    "start_time": "2025-02-08T12:08:53.159Z"
   },
   {
    "duration": 5,
    "start_time": "2025-02-08T12:08:53.181Z"
   },
   {
    "duration": 36,
    "start_time": "2025-02-08T12:08:53.187Z"
   },
   {
    "duration": 1959,
    "start_time": "2025-02-08T12:08:53.224Z"
   },
   {
    "duration": 5,
    "start_time": "2025-02-08T12:08:55.184Z"
   },
   {
    "duration": 270,
    "start_time": "2025-02-08T12:08:55.191Z"
   },
   {
    "duration": 9,
    "start_time": "2025-02-08T12:23:36.404Z"
   },
   {
    "duration": 184,
    "start_time": "2025-02-08T12:27:46.506Z"
   },
   {
    "duration": 92,
    "start_time": "2025-02-08T12:28:42.259Z"
   },
   {
    "duration": 5,
    "start_time": "2025-02-08T12:43:55.448Z"
   },
   {
    "duration": 46,
    "start_time": "2025-02-08T15:44:05.781Z"
   },
   {
    "duration": 1160,
    "start_time": "2025-02-08T15:44:11.002Z"
   },
   {
    "duration": 80,
    "start_time": "2025-02-08T15:44:12.164Z"
   },
   {
    "duration": 14,
    "start_time": "2025-02-08T15:44:12.246Z"
   },
   {
    "duration": 9,
    "start_time": "2025-02-08T15:44:12.261Z"
   },
   {
    "duration": 31,
    "start_time": "2025-02-08T15:44:12.272Z"
   },
   {
    "duration": 10,
    "start_time": "2025-02-08T15:44:12.305Z"
   },
   {
    "duration": 12,
    "start_time": "2025-02-08T15:44:12.317Z"
   },
   {
    "duration": 15,
    "start_time": "2025-02-08T15:44:12.330Z"
   },
   {
    "duration": 6,
    "start_time": "2025-02-08T15:44:12.346Z"
   },
   {
    "duration": 12,
    "start_time": "2025-02-08T15:44:12.353Z"
   },
   {
    "duration": 10,
    "start_time": "2025-02-08T15:44:12.366Z"
   },
   {
    "duration": 13,
    "start_time": "2025-02-08T15:44:12.377Z"
   },
   {
    "duration": 13,
    "start_time": "2025-02-08T15:44:12.392Z"
   },
   {
    "duration": 5,
    "start_time": "2025-02-08T15:44:12.407Z"
   },
   {
    "duration": 12,
    "start_time": "2025-02-08T15:44:12.413Z"
   },
   {
    "duration": 34,
    "start_time": "2025-02-08T15:44:12.427Z"
   },
   {
    "duration": 6,
    "start_time": "2025-02-08T15:44:12.462Z"
   },
   {
    "duration": 8,
    "start_time": "2025-02-08T15:44:12.469Z"
   },
   {
    "duration": 7,
    "start_time": "2025-02-08T15:44:12.478Z"
   },
   {
    "duration": 3,
    "start_time": "2025-02-08T15:44:12.487Z"
   },
   {
    "duration": 5,
    "start_time": "2025-02-08T15:44:12.492Z"
   },
   {
    "duration": 197,
    "start_time": "2025-02-08T15:44:12.498Z"
   },
   {
    "duration": 182,
    "start_time": "2025-02-08T15:44:12.696Z"
   },
   {
    "duration": 4,
    "start_time": "2025-02-08T15:44:12.880Z"
   },
   {
    "duration": 8,
    "start_time": "2025-02-08T15:44:12.886Z"
   },
   {
    "duration": 8,
    "start_time": "2025-02-08T15:44:12.896Z"
   },
   {
    "duration": 138,
    "start_time": "2025-02-08T15:44:12.905Z"
   },
   {
    "duration": 82,
    "start_time": "2025-02-08T15:44:13.044Z"
   },
   {
    "duration": 4,
    "start_time": "2025-02-08T15:44:13.127Z"
   },
   {
    "duration": 152,
    "start_time": "2025-02-08T15:44:13.132Z"
   },
   {
    "duration": 4,
    "start_time": "2025-02-08T15:44:13.286Z"
   },
   {
    "duration": 9,
    "start_time": "2025-02-08T15:44:13.291Z"
   },
   {
    "duration": 147,
    "start_time": "2025-02-08T15:44:13.301Z"
   },
   {
    "duration": 16,
    "start_time": "2025-02-08T15:44:13.449Z"
   },
   {
    "duration": 143,
    "start_time": "2025-02-08T15:44:13.466Z"
   },
   {
    "duration": 10,
    "start_time": "2025-02-08T15:44:13.611Z"
   },
   {
    "duration": 35,
    "start_time": "2025-02-08T15:44:13.623Z"
   },
   {
    "duration": 25,
    "start_time": "2025-02-08T15:44:13.660Z"
   },
   {
    "duration": 28,
    "start_time": "2025-02-08T15:44:13.686Z"
   },
   {
    "duration": 38,
    "start_time": "2025-02-08T15:44:13.716Z"
   },
   {
    "duration": 179,
    "start_time": "2025-02-08T15:44:13.758Z"
   },
   {
    "duration": 171,
    "start_time": "2025-02-08T15:44:13.939Z"
   },
   {
    "duration": 232,
    "start_time": "2025-02-08T15:44:14.112Z"
   },
   {
    "duration": 159,
    "start_time": "2025-02-08T15:44:14.346Z"
   },
   {
    "duration": 34,
    "start_time": "2025-02-08T15:44:14.507Z"
   },
   {
    "duration": 3,
    "start_time": "2025-02-08T15:44:14.542Z"
   },
   {
    "duration": 29,
    "start_time": "2025-02-08T15:44:14.547Z"
   },
   {
    "duration": 3,
    "start_time": "2025-02-08T15:44:14.578Z"
   },
   {
    "duration": 4,
    "start_time": "2025-02-08T15:44:14.583Z"
   },
   {
    "duration": 4,
    "start_time": "2025-02-08T15:44:14.588Z"
   },
   {
    "duration": 18,
    "start_time": "2025-02-08T15:44:14.594Z"
   },
   {
    "duration": 47,
    "start_time": "2025-02-08T15:44:14.614Z"
   },
   {
    "duration": 6,
    "start_time": "2025-02-08T15:44:14.662Z"
   },
   {
    "duration": 23,
    "start_time": "2025-02-08T15:44:14.669Z"
   },
   {
    "duration": 1943,
    "start_time": "2025-02-08T15:44:14.693Z"
   },
   {
    "duration": 5,
    "start_time": "2025-02-08T15:44:16.638Z"
   },
   {
    "duration": 262,
    "start_time": "2025-02-08T15:44:16.645Z"
   },
   {
    "duration": 95,
    "start_time": "2025-02-08T15:44:34.450Z"
   },
   {
    "duration": 6,
    "start_time": "2025-02-08T15:44:46.354Z"
   },
   {
    "duration": 7,
    "start_time": "2025-02-08T15:48:50.550Z"
   },
   {
    "duration": 12,
    "start_time": "2025-02-08T15:53:13.458Z"
   },
   {
    "duration": 8,
    "start_time": "2025-02-08T15:53:49.190Z"
   },
   {
    "duration": 14,
    "start_time": "2025-02-08T15:54:16.191Z"
   },
   {
    "duration": 6,
    "start_time": "2025-02-08T16:01:10.635Z"
   },
   {
    "duration": 1343,
    "start_time": "2025-02-10T09:46:43.404Z"
   },
   {
    "duration": 89,
    "start_time": "2025-02-10T09:46:44.750Z"
   },
   {
    "duration": 17,
    "start_time": "2025-02-10T09:46:44.841Z"
   },
   {
    "duration": 66,
    "start_time": "2025-02-10T09:46:44.860Z"
   },
   {
    "duration": 68,
    "start_time": "2025-02-10T09:46:44.927Z"
   },
   {
    "duration": 13,
    "start_time": "2025-02-10T09:46:44.997Z"
   },
   {
    "duration": 57,
    "start_time": "2025-02-10T09:46:45.012Z"
   },
   {
    "duration": 33,
    "start_time": "2025-02-10T09:46:45.070Z"
   },
   {
    "duration": 28,
    "start_time": "2025-02-10T09:46:45.105Z"
   },
   {
    "duration": 46,
    "start_time": "2025-02-10T09:46:45.135Z"
   },
   {
    "duration": 34,
    "start_time": "2025-02-10T09:46:45.183Z"
   },
   {
    "duration": 29,
    "start_time": "2025-02-10T09:46:45.219Z"
   },
   {
    "duration": 19,
    "start_time": "2025-02-10T09:46:45.250Z"
   },
   {
    "duration": 21,
    "start_time": "2025-02-10T09:46:45.271Z"
   },
   {
    "duration": 46,
    "start_time": "2025-02-10T09:46:45.294Z"
   },
   {
    "duration": 33,
    "start_time": "2025-02-10T09:46:45.342Z"
   },
   {
    "duration": 10,
    "start_time": "2025-02-10T09:46:45.377Z"
   },
   {
    "duration": 16,
    "start_time": "2025-02-10T09:46:45.388Z"
   },
   {
    "duration": 18,
    "start_time": "2025-02-10T09:46:45.405Z"
   },
   {
    "duration": 10,
    "start_time": "2025-02-10T09:46:45.425Z"
   },
   {
    "duration": 14,
    "start_time": "2025-02-10T09:46:45.436Z"
   },
   {
    "duration": 199,
    "start_time": "2025-02-10T09:46:45.451Z"
   },
   {
    "duration": 209,
    "start_time": "2025-02-10T09:46:45.652Z"
   },
   {
    "duration": 4,
    "start_time": "2025-02-10T09:46:45.863Z"
   },
   {
    "duration": 11,
    "start_time": "2025-02-10T09:46:45.869Z"
   },
   {
    "duration": 22,
    "start_time": "2025-02-10T09:46:45.882Z"
   },
   {
    "duration": 150,
    "start_time": "2025-02-10T09:46:45.906Z"
   },
   {
    "duration": 97,
    "start_time": "2025-02-10T09:46:46.060Z"
   },
   {
    "duration": 8,
    "start_time": "2025-02-10T09:46:46.159Z"
   },
   {
    "duration": 10,
    "start_time": "2025-02-10T09:46:46.169Z"
   },
   {
    "duration": 171,
    "start_time": "2025-02-10T09:46:46.181Z"
   },
   {
    "duration": 5,
    "start_time": "2025-02-10T09:46:46.353Z"
   },
   {
    "duration": 11,
    "start_time": "2025-02-10T09:46:46.359Z"
   },
   {
    "duration": 180,
    "start_time": "2025-02-10T09:46:46.371Z"
   },
   {
    "duration": 9,
    "start_time": "2025-02-10T09:46:46.553Z"
   },
   {
    "duration": 173,
    "start_time": "2025-02-10T09:46:46.563Z"
   },
   {
    "duration": 11,
    "start_time": "2025-02-10T09:46:46.738Z"
   },
   {
    "duration": 33,
    "start_time": "2025-02-10T09:46:46.751Z"
   },
   {
    "duration": 16,
    "start_time": "2025-02-10T09:46:46.785Z"
   },
   {
    "duration": 146,
    "start_time": "2025-02-10T09:46:46.802Z"
   },
   {
    "duration": 35,
    "start_time": "2025-02-10T09:46:46.949Z"
   },
   {
    "duration": 9,
    "start_time": "2025-02-10T09:46:46.987Z"
   },
   {
    "duration": 23,
    "start_time": "2025-02-10T09:46:46.998Z"
   },
   {
    "duration": 21,
    "start_time": "2025-02-10T09:46:47.023Z"
   },
   {
    "duration": 198,
    "start_time": "2025-02-10T09:46:47.045Z"
   },
   {
    "duration": 205,
    "start_time": "2025-02-10T09:46:47.245Z"
   },
   {
    "duration": 372,
    "start_time": "2025-02-10T09:46:47.451Z"
   },
   {
    "duration": 203,
    "start_time": "2025-02-10T09:46:47.824Z"
   },
   {
    "duration": 41,
    "start_time": "2025-02-10T09:46:48.032Z"
   },
   {
    "duration": 4,
    "start_time": "2025-02-10T09:46:48.075Z"
   },
   {
    "duration": 47,
    "start_time": "2025-02-10T09:46:48.081Z"
   },
   {
    "duration": 5,
    "start_time": "2025-02-10T09:46:48.130Z"
   },
   {
    "duration": 19,
    "start_time": "2025-02-10T09:46:48.136Z"
   },
   {
    "duration": 10,
    "start_time": "2025-02-10T09:46:48.156Z"
   },
   {
    "duration": 39,
    "start_time": "2025-02-10T09:46:48.168Z"
   },
   {
    "duration": 21,
    "start_time": "2025-02-10T09:46:48.209Z"
   },
   {
    "duration": 8,
    "start_time": "2025-02-10T09:46:48.232Z"
   },
   {
    "duration": 28,
    "start_time": "2025-02-10T09:46:48.242Z"
   },
   {
    "duration": 2199,
    "start_time": "2025-02-10T09:46:48.272Z"
   },
   {
    "duration": 6,
    "start_time": "2025-02-10T09:46:50.474Z"
   },
   {
    "duration": 281,
    "start_time": "2025-02-10T09:46:50.482Z"
   },
   {
    "duration": 107,
    "start_time": "2025-02-10T09:49:19.420Z"
   },
   {
    "duration": 6,
    "start_time": "2025-02-10T09:49:36.614Z"
   },
   {
    "duration": 5,
    "start_time": "2025-02-10T09:50:40.015Z"
   },
   {
    "duration": 7,
    "start_time": "2025-02-10T09:50:54.058Z"
   },
   {
    "duration": 10,
    "start_time": "2025-02-10T09:51:34.776Z"
   },
   {
    "duration": 11,
    "start_time": "2025-02-10T09:54:23.156Z"
   },
   {
    "duration": 9,
    "start_time": "2025-02-10T09:54:31.165Z"
   },
   {
    "duration": 11,
    "start_time": "2025-02-10T09:54:47.747Z"
   },
   {
    "duration": 159,
    "start_time": "2025-02-10T09:56:25.121Z"
   },
   {
    "duration": 204,
    "start_time": "2025-02-10T09:56:31.035Z"
   },
   {
    "duration": 174,
    "start_time": "2025-02-10T09:58:23.780Z"
   },
   {
    "duration": 178,
    "start_time": "2025-02-10T09:59:42.006Z"
   },
   {
    "duration": 190,
    "start_time": "2025-02-10T10:00:06.025Z"
   },
   {
    "duration": 398,
    "start_time": "2025-02-10T10:00:41.300Z"
   },
   {
    "duration": 196,
    "start_time": "2025-02-10T10:00:48.781Z"
   },
   {
    "duration": 233,
    "start_time": "2025-02-10T10:01:04.847Z"
   },
   {
    "duration": 4,
    "start_time": "2025-02-10T10:02:46.414Z"
   },
   {
    "duration": 238,
    "start_time": "2025-02-10T10:02:52.343Z"
   },
   {
    "duration": 227,
    "start_time": "2025-02-10T10:03:36.736Z"
   },
   {
    "duration": 13,
    "start_time": "2025-02-10T10:18:03.253Z"
   },
   {
    "duration": 71,
    "start_time": "2025-02-10T10:19:08.921Z"
   },
   {
    "duration": 9,
    "start_time": "2025-02-10T10:19:14.273Z"
   },
   {
    "duration": 212,
    "start_time": "2025-02-10T10:19:46.907Z"
   },
   {
    "duration": 211,
    "start_time": "2025-02-10T10:20:15.022Z"
   },
   {
    "duration": 303,
    "start_time": "2025-02-10T10:22:13.132Z"
   },
   {
    "duration": 212,
    "start_time": "2025-02-10T10:22:15.129Z"
   },
   {
    "duration": 222,
    "start_time": "2025-02-10T10:23:30.245Z"
   },
   {
    "duration": 185,
    "start_time": "2025-02-10T10:23:32.342Z"
   },
   {
    "duration": 211,
    "start_time": "2025-02-10T10:24:23.435Z"
   },
   {
    "duration": 188,
    "start_time": "2025-02-10T10:24:28.545Z"
   },
   {
    "duration": 203,
    "start_time": "2025-02-10T10:25:47.829Z"
   },
   {
    "duration": 235,
    "start_time": "2025-02-10T10:25:57.390Z"
   },
   {
    "duration": 197,
    "start_time": "2025-02-10T10:25:59.284Z"
   },
   {
    "duration": 222,
    "start_time": "2025-02-10T10:29:15.814Z"
   },
   {
    "duration": 305,
    "start_time": "2025-02-10T10:31:13.432Z"
   },
   {
    "duration": 204,
    "start_time": "2025-02-10T10:31:13.881Z"
   },
   {
    "duration": 6,
    "start_time": "2025-02-10T10:32:06.717Z"
   },
   {
    "duration": 6,
    "start_time": "2025-02-10T10:32:08.895Z"
   },
   {
    "duration": 9,
    "start_time": "2025-02-10T10:32:40.512Z"
   },
   {
    "duration": 8,
    "start_time": "2025-02-10T10:32:41.258Z"
   },
   {
    "duration": 190,
    "start_time": "2025-02-10T10:32:42.268Z"
   },
   {
    "duration": 198,
    "start_time": "2025-02-10T10:32:44.038Z"
   },
   {
    "duration": 212,
    "start_time": "2025-02-10T10:32:46.992Z"
   },
   {
    "duration": 190,
    "start_time": "2025-02-10T10:32:56.972Z"
   },
   {
    "duration": 211,
    "start_time": "2025-02-10T10:32:57.798Z"
   },
   {
    "duration": 195,
    "start_time": "2025-02-10T10:34:53.310Z"
   },
   {
    "duration": 200,
    "start_time": "2025-02-10T10:37:43.352Z"
   },
   {
    "duration": 335,
    "start_time": "2025-02-10T10:37:43.659Z"
   },
   {
    "duration": 225,
    "start_time": "2025-02-10T10:37:43.996Z"
   },
   {
    "duration": 203,
    "start_time": "2025-02-10T10:39:15.323Z"
   },
   {
    "duration": 191,
    "start_time": "2025-02-10T10:39:33.203Z"
   },
   {
    "duration": 1154,
    "start_time": "2025-02-10T10:44:45.884Z"
   },
   {
    "duration": 4,
    "start_time": "2025-02-10T10:45:04.991Z"
   },
   {
    "duration": 7,
    "start_time": "2025-02-10T10:45:34.638Z"
   },
   {
    "duration": 198,
    "start_time": "2025-02-10T10:48:04.384Z"
   },
   {
    "duration": 9,
    "start_time": "2025-02-10T10:48:08.756Z"
   },
   {
    "duration": 4,
    "start_time": "2025-02-10T10:48:25.630Z"
   },
   {
    "duration": 201,
    "start_time": "2025-02-10T10:48:31.804Z"
   },
   {
    "duration": 228,
    "start_time": "2025-02-10T10:49:17.437Z"
   },
   {
    "duration": 216,
    "start_time": "2025-02-10T10:49:18.126Z"
   },
   {
    "duration": 1176,
    "start_time": "2025-02-10T10:49:25.575Z"
   },
   {
    "duration": 84,
    "start_time": "2025-02-10T10:49:26.753Z"
   },
   {
    "duration": 18,
    "start_time": "2025-02-10T10:49:26.839Z"
   },
   {
    "duration": 12,
    "start_time": "2025-02-10T10:49:26.859Z"
   },
   {
    "duration": 30,
    "start_time": "2025-02-10T10:49:26.874Z"
   },
   {
    "duration": 14,
    "start_time": "2025-02-10T10:49:26.906Z"
   },
   {
    "duration": 21,
    "start_time": "2025-02-10T10:49:26.933Z"
   },
   {
    "duration": 26,
    "start_time": "2025-02-10T10:49:26.956Z"
   },
   {
    "duration": 9,
    "start_time": "2025-02-10T10:49:26.984Z"
   },
   {
    "duration": 16,
    "start_time": "2025-02-10T10:49:26.995Z"
   },
   {
    "duration": 56,
    "start_time": "2025-02-10T10:49:27.014Z"
   },
   {
    "duration": 9,
    "start_time": "2025-02-10T10:49:27.072Z"
   },
   {
    "duration": 70,
    "start_time": "2025-02-10T10:49:27.083Z"
   },
   {
    "duration": 32,
    "start_time": "2025-02-10T10:49:27.158Z"
   },
   {
    "duration": 8,
    "start_time": "2025-02-10T10:49:27.192Z"
   },
   {
    "duration": 10,
    "start_time": "2025-02-10T10:49:27.202Z"
   },
   {
    "duration": 8,
    "start_time": "2025-02-10T10:49:27.214Z"
   },
   {
    "duration": 16,
    "start_time": "2025-02-10T10:49:27.224Z"
   },
   {
    "duration": 11,
    "start_time": "2025-02-10T10:49:27.242Z"
   },
   {
    "duration": 250,
    "start_time": "2025-02-10T10:49:27.256Z"
   },
   {
    "duration": 260,
    "start_time": "2025-02-10T10:49:27.509Z"
   },
   {
    "duration": 223,
    "start_time": "2025-02-10T10:49:27.771Z"
   },
   {
    "duration": 219,
    "start_time": "2025-02-10T10:49:27.996Z"
   },
   {
    "duration": 5,
    "start_time": "2025-02-10T10:49:28.216Z"
   },
   {
    "duration": 24,
    "start_time": "2025-02-10T10:49:28.233Z"
   },
   {
    "duration": 189,
    "start_time": "2025-02-10T10:49:28.259Z"
   },
   {
    "duration": 216,
    "start_time": "2025-02-10T10:49:28.450Z"
   },
   {
    "duration": 4,
    "start_time": "2025-02-10T10:49:28.668Z"
   },
   {
    "duration": 15,
    "start_time": "2025-02-10T10:49:28.673Z"
   },
   {
    "duration": 17,
    "start_time": "2025-02-10T10:49:28.689Z"
   },
   {
    "duration": 155,
    "start_time": "2025-02-10T10:49:28.707Z"
   },
   {
    "duration": 95,
    "start_time": "2025-02-10T10:49:28.864Z"
   },
   {
    "duration": 9,
    "start_time": "2025-02-10T10:49:28.961Z"
   },
   {
    "duration": 9,
    "start_time": "2025-02-10T10:49:28.972Z"
   },
   {
    "duration": 191,
    "start_time": "2025-02-10T10:49:28.982Z"
   },
   {
    "duration": 58,
    "start_time": "2025-02-10T10:49:29.175Z"
   },
   {
    "duration": 9,
    "start_time": "2025-02-10T10:49:29.235Z"
   },
   {
    "duration": 691,
    "start_time": "2025-02-10T10:49:29.246Z"
   },
   {
    "duration": 1400,
    "start_time": "2025-02-10T10:49:29.939Z"
   },
   {
    "duration": 0,
    "start_time": "2025-02-10T10:49:31.343Z"
   },
   {
    "duration": 0,
    "start_time": "2025-02-10T10:49:31.344Z"
   },
   {
    "duration": 0,
    "start_time": "2025-02-10T10:49:31.346Z"
   },
   {
    "duration": 0,
    "start_time": "2025-02-10T10:49:31.349Z"
   },
   {
    "duration": 0,
    "start_time": "2025-02-10T10:49:31.350Z"
   },
   {
    "duration": 0,
    "start_time": "2025-02-10T10:49:31.352Z"
   },
   {
    "duration": 0,
    "start_time": "2025-02-10T10:49:31.353Z"
   },
   {
    "duration": 0,
    "start_time": "2025-02-10T10:49:31.355Z"
   },
   {
    "duration": 0,
    "start_time": "2025-02-10T10:49:31.356Z"
   },
   {
    "duration": 0,
    "start_time": "2025-02-10T10:49:31.358Z"
   },
   {
    "duration": 0,
    "start_time": "2025-02-10T10:49:31.360Z"
   },
   {
    "duration": 0,
    "start_time": "2025-02-10T10:49:31.361Z"
   },
   {
    "duration": 0,
    "start_time": "2025-02-10T10:49:31.363Z"
   },
   {
    "duration": 0,
    "start_time": "2025-02-10T10:49:31.364Z"
   },
   {
    "duration": 0,
    "start_time": "2025-02-10T10:49:31.366Z"
   },
   {
    "duration": 0,
    "start_time": "2025-02-10T10:49:31.367Z"
   },
   {
    "duration": 0,
    "start_time": "2025-02-10T10:49:31.369Z"
   },
   {
    "duration": 0,
    "start_time": "2025-02-10T10:49:31.370Z"
   },
   {
    "duration": 0,
    "start_time": "2025-02-10T10:49:31.372Z"
   },
   {
    "duration": 0,
    "start_time": "2025-02-10T10:49:31.374Z"
   },
   {
    "duration": 0,
    "start_time": "2025-02-10T10:49:31.375Z"
   },
   {
    "duration": 0,
    "start_time": "2025-02-10T10:49:31.377Z"
   },
   {
    "duration": 0,
    "start_time": "2025-02-10T10:49:31.378Z"
   },
   {
    "duration": 0,
    "start_time": "2025-02-10T10:49:31.379Z"
   },
   {
    "duration": 0,
    "start_time": "2025-02-10T10:49:31.380Z"
   },
   {
    "duration": 0,
    "start_time": "2025-02-10T10:49:31.433Z"
   },
   {
    "duration": 0,
    "start_time": "2025-02-10T10:49:31.434Z"
   },
   {
    "duration": 238,
    "start_time": "2025-02-10T10:52:53.916Z"
   },
   {
    "duration": 210,
    "start_time": "2025-02-10T10:53:40.273Z"
   },
   {
    "duration": 220,
    "start_time": "2025-02-10T10:55:06.375Z"
   },
   {
    "duration": 215,
    "start_time": "2025-02-10T10:56:28.662Z"
   },
   {
    "duration": 12,
    "start_time": "2025-02-10T10:57:29.997Z"
   },
   {
    "duration": 229,
    "start_time": "2025-02-10T10:57:30.406Z"
   },
   {
    "duration": 11,
    "start_time": "2025-02-10T11:01:46.850Z"
   },
   {
    "duration": 23,
    "start_time": "2025-02-10T11:01:48.999Z"
   },
   {
    "duration": 1179,
    "start_time": "2025-02-10T11:01:52.822Z"
   },
   {
    "duration": 90,
    "start_time": "2025-02-10T11:01:54.003Z"
   },
   {
    "duration": 18,
    "start_time": "2025-02-10T11:01:54.094Z"
   },
   {
    "duration": 21,
    "start_time": "2025-02-10T11:01:54.114Z"
   },
   {
    "duration": 33,
    "start_time": "2025-02-10T11:01:54.138Z"
   },
   {
    "duration": 13,
    "start_time": "2025-02-10T11:01:54.172Z"
   },
   {
    "duration": 52,
    "start_time": "2025-02-10T11:01:54.186Z"
   },
   {
    "duration": 15,
    "start_time": "2025-02-10T11:01:54.240Z"
   },
   {
    "duration": 7,
    "start_time": "2025-02-10T11:01:54.257Z"
   },
   {
    "duration": 16,
    "start_time": "2025-02-10T11:01:54.265Z"
   },
   {
    "duration": 14,
    "start_time": "2025-02-10T11:01:54.283Z"
   },
   {
    "duration": 8,
    "start_time": "2025-02-10T11:01:54.298Z"
   },
   {
    "duration": 37,
    "start_time": "2025-02-10T11:01:54.307Z"
   },
   {
    "duration": 6,
    "start_time": "2025-02-10T11:01:54.347Z"
   },
   {
    "duration": 7,
    "start_time": "2025-02-10T11:01:54.355Z"
   },
   {
    "duration": 8,
    "start_time": "2025-02-10T11:01:54.364Z"
   },
   {
    "duration": 6,
    "start_time": "2025-02-10T11:01:54.374Z"
   },
   {
    "duration": 18,
    "start_time": "2025-02-10T11:01:54.381Z"
   },
   {
    "duration": 38,
    "start_time": "2025-02-10T11:01:54.401Z"
   },
   {
    "duration": 236,
    "start_time": "2025-02-10T11:01:54.441Z"
   },
   {
    "duration": 223,
    "start_time": "2025-02-10T11:01:54.679Z"
   },
   {
    "duration": 207,
    "start_time": "2025-02-10T11:01:54.905Z"
   },
   {
    "duration": 220,
    "start_time": "2025-02-10T11:01:55.116Z"
   },
   {
    "duration": 5,
    "start_time": "2025-02-10T11:01:55.338Z"
   },
   {
    "duration": 17,
    "start_time": "2025-02-10T11:01:55.345Z"
   },
   {
    "duration": 183,
    "start_time": "2025-02-10T11:01:55.364Z"
   },
   {
    "duration": 213,
    "start_time": "2025-02-10T11:01:55.549Z"
   },
   {
    "duration": 5,
    "start_time": "2025-02-10T11:01:55.763Z"
   },
   {
    "duration": 23,
    "start_time": "2025-02-10T11:01:55.770Z"
   },
   {
    "duration": 11,
    "start_time": "2025-02-10T11:01:55.795Z"
   },
   {
    "duration": 149,
    "start_time": "2025-02-10T11:01:55.807Z"
   },
   {
    "duration": 103,
    "start_time": "2025-02-10T11:01:55.958Z"
   },
   {
    "duration": 9,
    "start_time": "2025-02-10T11:01:56.063Z"
   },
   {
    "duration": 7,
    "start_time": "2025-02-10T11:01:56.074Z"
   },
   {
    "duration": 203,
    "start_time": "2025-02-10T11:01:56.084Z"
   },
   {
    "duration": 6,
    "start_time": "2025-02-10T11:01:56.288Z"
   },
   {
    "duration": 18,
    "start_time": "2025-02-10T11:01:56.295Z"
   },
   {
    "duration": 644,
    "start_time": "2025-02-10T11:01:56.315Z"
   },
   {
    "duration": 473,
    "start_time": "2025-02-10T11:01:56.961Z"
   },
   {
    "duration": 500,
    "start_time": "2025-02-10T11:01:57.436Z"
   },
   {
    "duration": 11,
    "start_time": "2025-02-10T11:01:57.941Z"
   },
   {
    "duration": 281,
    "start_time": "2025-02-10T11:01:57.954Z"
   },
   {
    "duration": 10,
    "start_time": "2025-02-10T11:01:58.237Z"
   },
   {
    "duration": 24,
    "start_time": "2025-02-10T11:01:58.249Z"
   },
   {
    "duration": 16,
    "start_time": "2025-02-10T11:01:58.274Z"
   },
   {
    "duration": 41,
    "start_time": "2025-02-10T11:01:58.292Z"
   },
   {
    "duration": 14,
    "start_time": "2025-02-10T11:01:58.335Z"
   },
   {
    "duration": 11,
    "start_time": "2025-02-10T11:01:58.351Z"
   },
   {
    "duration": 20,
    "start_time": "2025-02-10T11:01:58.363Z"
   },
   {
    "duration": 49,
    "start_time": "2025-02-10T11:01:58.385Z"
   },
   {
    "duration": 196,
    "start_time": "2025-02-10T11:01:58.436Z"
   },
   {
    "duration": 208,
    "start_time": "2025-02-10T11:01:58.634Z"
   },
   {
    "duration": 208,
    "start_time": "2025-02-10T11:01:58.844Z"
   },
   {
    "duration": 204,
    "start_time": "2025-02-10T11:01:59.053Z"
   },
   {
    "duration": 8,
    "start_time": "2025-02-10T11:01:59.259Z"
   },
   {
    "duration": 44,
    "start_time": "2025-02-10T11:01:59.268Z"
   },
   {
    "duration": 38,
    "start_time": "2025-02-10T11:01:59.313Z"
   },
   {
    "duration": 5,
    "start_time": "2025-02-10T11:01:59.353Z"
   },
   {
    "duration": 6,
    "start_time": "2025-02-10T11:01:59.359Z"
   },
   {
    "duration": 9,
    "start_time": "2025-02-10T11:01:59.366Z"
   },
   {
    "duration": 28,
    "start_time": "2025-02-10T11:01:59.377Z"
   },
   {
    "duration": 22,
    "start_time": "2025-02-10T11:01:59.432Z"
   },
   {
    "duration": 5,
    "start_time": "2025-02-10T11:01:59.456Z"
   },
   {
    "duration": 30,
    "start_time": "2025-02-10T11:01:59.463Z"
   },
   {
    "duration": 2293,
    "start_time": "2025-02-10T11:01:59.495Z"
   },
   {
    "duration": 7,
    "start_time": "2025-02-10T11:02:01.791Z"
   },
   {
    "duration": 306,
    "start_time": "2025-02-10T11:02:01.800Z"
   },
   {
    "duration": 245,
    "start_time": "2025-02-10T11:02:51.869Z"
   },
   {
    "duration": 240,
    "start_time": "2025-02-10T11:03:12.414Z"
   },
   {
    "duration": 241,
    "start_time": "2025-02-10T11:03:56.465Z"
   },
   {
    "duration": 18,
    "start_time": "2025-02-10T11:08:09.328Z"
   },
   {
    "duration": 51,
    "start_time": "2025-02-10T11:08:10.172Z"
   },
   {
    "duration": 22,
    "start_time": "2025-02-10T11:08:15.365Z"
   },
   {
    "duration": 6,
    "start_time": "2025-02-10T11:08:53.262Z"
   },
   {
    "duration": 5,
    "start_time": "2025-02-10T11:10:42.513Z"
   },
   {
    "duration": 6,
    "start_time": "2025-02-10T11:10:43.020Z"
   },
   {
    "duration": 2547,
    "start_time": "2025-02-10T11:28:48.496Z"
   },
   {
    "duration": 2488,
    "start_time": "2025-02-10T11:29:40.759Z"
   },
   {
    "duration": 2670,
    "start_time": "2025-02-10T11:30:27.059Z"
   },
   {
    "duration": 2551,
    "start_time": "2025-02-10T11:32:42.513Z"
   },
   {
    "duration": 2397,
    "start_time": "2025-02-10T11:33:41.209Z"
   },
   {
    "duration": 2430,
    "start_time": "2025-02-10T11:33:59.010Z"
   },
   {
    "duration": 2539,
    "start_time": "2025-02-10T11:34:13.879Z"
   },
   {
    "duration": 2719,
    "start_time": "2025-02-10T11:34:29.425Z"
   },
   {
    "duration": 2812,
    "start_time": "2025-02-10T11:36:14.884Z"
   },
   {
    "duration": 2715,
    "start_time": "2025-02-10T11:37:25.569Z"
   },
   {
    "duration": 64,
    "start_time": "2025-02-10T11:39:56.872Z"
   },
   {
    "duration": 71,
    "start_time": "2025-02-10T11:40:09.047Z"
   },
   {
    "duration": 357,
    "start_time": "2025-02-10T11:40:25.319Z"
   },
   {
    "duration": 340,
    "start_time": "2025-02-10T11:41:50.114Z"
   },
   {
    "duration": 53,
    "start_time": "2025-02-10T15:49:03.634Z"
   },
   {
    "duration": 1253,
    "start_time": "2025-02-10T15:49:13.746Z"
   },
   {
    "duration": 84,
    "start_time": "2025-02-10T15:49:15.002Z"
   },
   {
    "duration": 16,
    "start_time": "2025-02-10T15:49:15.088Z"
   },
   {
    "duration": 19,
    "start_time": "2025-02-10T15:49:15.105Z"
   },
   {
    "duration": 53,
    "start_time": "2025-02-10T15:49:15.127Z"
   },
   {
    "duration": 13,
    "start_time": "2025-02-10T15:49:15.182Z"
   },
   {
    "duration": 48,
    "start_time": "2025-02-10T15:49:15.197Z"
   },
   {
    "duration": 16,
    "start_time": "2025-02-10T15:49:15.247Z"
   },
   {
    "duration": 7,
    "start_time": "2025-02-10T15:49:15.265Z"
   },
   {
    "duration": 13,
    "start_time": "2025-02-10T15:49:15.273Z"
   },
   {
    "duration": 18,
    "start_time": "2025-02-10T15:49:15.287Z"
   },
   {
    "duration": 22,
    "start_time": "2025-02-10T15:49:15.306Z"
   },
   {
    "duration": 16,
    "start_time": "2025-02-10T15:49:15.329Z"
   },
   {
    "duration": 6,
    "start_time": "2025-02-10T15:49:15.347Z"
   },
   {
    "duration": 5,
    "start_time": "2025-02-10T15:49:15.355Z"
   },
   {
    "duration": 8,
    "start_time": "2025-02-10T15:49:15.362Z"
   },
   {
    "duration": 5,
    "start_time": "2025-02-10T15:49:15.372Z"
   },
   {
    "duration": 35,
    "start_time": "2025-02-10T15:49:15.379Z"
   },
   {
    "duration": 11,
    "start_time": "2025-02-10T15:49:15.416Z"
   },
   {
    "duration": 252,
    "start_time": "2025-02-10T15:49:15.429Z"
   },
   {
    "duration": 224,
    "start_time": "2025-02-10T15:49:15.682Z"
   },
   {
    "duration": 219,
    "start_time": "2025-02-10T15:49:15.907Z"
   },
   {
    "duration": 228,
    "start_time": "2025-02-10T15:49:16.129Z"
   },
   {
    "duration": 4,
    "start_time": "2025-02-10T15:49:16.359Z"
   },
   {
    "duration": 17,
    "start_time": "2025-02-10T15:49:16.365Z"
   },
   {
    "duration": 220,
    "start_time": "2025-02-10T15:49:16.383Z"
   },
   {
    "duration": 226,
    "start_time": "2025-02-10T15:49:16.605Z"
   },
   {
    "duration": 6,
    "start_time": "2025-02-10T15:49:16.832Z"
   },
   {
    "duration": 11,
    "start_time": "2025-02-10T15:49:16.839Z"
   },
   {
    "duration": 10,
    "start_time": "2025-02-10T15:49:16.852Z"
   },
   {
    "duration": 168,
    "start_time": "2025-02-10T15:49:16.864Z"
   },
   {
    "duration": 100,
    "start_time": "2025-02-10T15:49:17.034Z"
   },
   {
    "duration": 10,
    "start_time": "2025-02-10T15:49:17.135Z"
   },
   {
    "duration": 5,
    "start_time": "2025-02-10T15:49:17.146Z"
   },
   {
    "duration": 197,
    "start_time": "2025-02-10T15:49:17.152Z"
   },
   {
    "duration": 5,
    "start_time": "2025-02-10T15:49:17.351Z"
   },
   {
    "duration": 11,
    "start_time": "2025-02-10T15:49:17.359Z"
   },
   {
    "duration": 355,
    "start_time": "2025-02-10T15:49:17.372Z"
   },
   {
    "duration": 261,
    "start_time": "2025-02-10T15:49:17.729Z"
   },
   {
    "duration": 259,
    "start_time": "2025-02-10T15:49:17.992Z"
   },
   {
    "duration": 11,
    "start_time": "2025-02-10T15:49:18.258Z"
   },
   {
    "duration": 269,
    "start_time": "2025-02-10T15:49:18.270Z"
   },
   {
    "duration": 11,
    "start_time": "2025-02-10T15:49:18.541Z"
   },
   {
    "duration": 21,
    "start_time": "2025-02-10T15:49:18.553Z"
   },
   {
    "duration": 41,
    "start_time": "2025-02-10T15:49:18.575Z"
   },
   {
    "duration": 12,
    "start_time": "2025-02-10T15:49:18.618Z"
   },
   {
    "duration": 15,
    "start_time": "2025-02-10T15:49:18.632Z"
   },
   {
    "duration": 10,
    "start_time": "2025-02-10T15:49:18.649Z"
   },
   {
    "duration": 68,
    "start_time": "2025-02-10T15:49:18.661Z"
   },
   {
    "duration": 21,
    "start_time": "2025-02-10T15:49:18.731Z"
   },
   {
    "duration": 236,
    "start_time": "2025-02-10T15:49:18.754Z"
   },
   {
    "duration": 214,
    "start_time": "2025-02-10T15:49:18.993Z"
   },
   {
    "duration": 255,
    "start_time": "2025-02-10T15:49:19.209Z"
   },
   {
    "duration": 282,
    "start_time": "2025-02-10T15:49:19.466Z"
   },
   {
    "duration": 198,
    "start_time": "2025-02-10T15:49:19.751Z"
   },
   {
    "duration": 65,
    "start_time": "2025-02-10T15:49:19.951Z"
   },
   {
    "duration": 0,
    "start_time": "2025-02-10T15:49:20.018Z"
   },
   {
    "duration": 0,
    "start_time": "2025-02-10T15:49:20.019Z"
   },
   {
    "duration": 0,
    "start_time": "2025-02-10T15:49:20.020Z"
   },
   {
    "duration": 0,
    "start_time": "2025-02-10T15:49:20.021Z"
   },
   {
    "duration": 0,
    "start_time": "2025-02-10T15:49:20.023Z"
   },
   {
    "duration": 0,
    "start_time": "2025-02-10T15:49:20.025Z"
   },
   {
    "duration": 0,
    "start_time": "2025-02-10T15:49:20.026Z"
   },
   {
    "duration": 0,
    "start_time": "2025-02-10T15:49:20.028Z"
   },
   {
    "duration": 0,
    "start_time": "2025-02-10T15:49:20.030Z"
   },
   {
    "duration": 0,
    "start_time": "2025-02-10T15:49:20.031Z"
   },
   {
    "duration": 0,
    "start_time": "2025-02-10T15:49:20.032Z"
   },
   {
    "duration": 0,
    "start_time": "2025-02-10T15:49:20.033Z"
   },
   {
    "duration": 0,
    "start_time": "2025-02-10T15:49:20.034Z"
   },
   {
    "duration": 0,
    "start_time": "2025-02-10T15:49:20.035Z"
   },
   {
    "duration": 0,
    "start_time": "2025-02-10T15:49:20.038Z"
   },
   {
    "duration": 281,
    "start_time": "2025-02-10T15:50:01.000Z"
   },
   {
    "duration": 295,
    "start_time": "2025-02-10T15:50:28.935Z"
   },
   {
    "duration": 1099,
    "start_time": "2025-02-10T16:14:49.253Z"
   },
   {
    "duration": 85,
    "start_time": "2025-02-10T16:14:50.354Z"
   },
   {
    "duration": 15,
    "start_time": "2025-02-10T16:14:50.441Z"
   },
   {
    "duration": 11,
    "start_time": "2025-02-10T16:14:50.457Z"
   },
   {
    "duration": 44,
    "start_time": "2025-02-10T16:14:50.470Z"
   },
   {
    "duration": 20,
    "start_time": "2025-02-10T16:14:50.520Z"
   },
   {
    "duration": 16,
    "start_time": "2025-02-10T16:14:50.542Z"
   },
   {
    "duration": 20,
    "start_time": "2025-02-10T16:14:50.560Z"
   },
   {
    "duration": 7,
    "start_time": "2025-02-10T16:14:50.581Z"
   },
   {
    "duration": 13,
    "start_time": "2025-02-10T16:14:50.589Z"
   },
   {
    "duration": 26,
    "start_time": "2025-02-10T16:14:50.604Z"
   },
   {
    "duration": 6,
    "start_time": "2025-02-10T16:14:50.633Z"
   },
   {
    "duration": 15,
    "start_time": "2025-02-10T16:14:50.641Z"
   },
   {
    "duration": 5,
    "start_time": "2025-02-10T16:14:50.659Z"
   },
   {
    "duration": 15,
    "start_time": "2025-02-10T16:14:50.665Z"
   },
   {
    "duration": 49,
    "start_time": "2025-02-10T16:14:50.681Z"
   },
   {
    "duration": 22,
    "start_time": "2025-02-10T16:14:50.732Z"
   },
   {
    "duration": 10,
    "start_time": "2025-02-10T16:14:50.756Z"
   },
   {
    "duration": 10,
    "start_time": "2025-02-10T16:14:50.767Z"
   },
   {
    "duration": 265,
    "start_time": "2025-02-10T16:14:50.779Z"
   },
   {
    "duration": 227,
    "start_time": "2025-02-10T16:14:51.046Z"
   },
   {
    "duration": 205,
    "start_time": "2025-02-10T16:14:51.275Z"
   },
   {
    "duration": 220,
    "start_time": "2025-02-10T16:14:51.481Z"
   },
   {
    "duration": 4,
    "start_time": "2025-02-10T16:14:51.704Z"
   },
   {
    "duration": 26,
    "start_time": "2025-02-10T16:14:51.715Z"
   },
   {
    "duration": 210,
    "start_time": "2025-02-10T16:14:51.743Z"
   },
   {
    "duration": 206,
    "start_time": "2025-02-10T16:14:51.954Z"
   },
   {
    "duration": 5,
    "start_time": "2025-02-10T16:14:52.162Z"
   },
   {
    "duration": 21,
    "start_time": "2025-02-10T16:14:52.168Z"
   },
   {
    "duration": 32,
    "start_time": "2025-02-10T16:14:52.191Z"
   },
   {
    "duration": 144,
    "start_time": "2025-02-10T16:14:52.226Z"
   },
   {
    "duration": 103,
    "start_time": "2025-02-10T16:14:52.371Z"
   },
   {
    "duration": 9,
    "start_time": "2025-02-10T16:14:52.476Z"
   },
   {
    "duration": 20,
    "start_time": "2025-02-10T16:14:52.487Z"
   },
   {
    "duration": 180,
    "start_time": "2025-02-10T16:14:52.509Z"
   },
   {
    "duration": 4,
    "start_time": "2025-02-10T16:14:52.691Z"
   },
   {
    "duration": 19,
    "start_time": "2025-02-10T16:14:52.696Z"
   },
   {
    "duration": 334,
    "start_time": "2025-02-10T16:14:52.717Z"
   },
   {
    "duration": 284,
    "start_time": "2025-02-10T16:14:53.053Z"
   },
   {
    "duration": 251,
    "start_time": "2025-02-10T16:14:53.340Z"
   },
   {
    "duration": 8,
    "start_time": "2025-02-10T16:14:53.595Z"
   },
   {
    "duration": 256,
    "start_time": "2025-02-10T16:14:53.604Z"
   },
   {
    "duration": 9,
    "start_time": "2025-02-10T16:14:53.862Z"
   },
   {
    "duration": 19,
    "start_time": "2025-02-10T16:14:53.873Z"
   },
   {
    "duration": 38,
    "start_time": "2025-02-10T16:14:53.893Z"
   },
   {
    "duration": 10,
    "start_time": "2025-02-10T16:14:53.933Z"
   },
   {
    "duration": 14,
    "start_time": "2025-02-10T16:14:53.944Z"
   },
   {
    "duration": 9,
    "start_time": "2025-02-10T16:14:53.959Z"
   },
   {
    "duration": 49,
    "start_time": "2025-02-10T16:14:53.969Z"
   },
   {
    "duration": 25,
    "start_time": "2025-02-10T16:14:54.019Z"
   },
   {
    "duration": 193,
    "start_time": "2025-02-10T16:14:54.045Z"
   },
   {
    "duration": 206,
    "start_time": "2025-02-10T16:14:54.240Z"
   },
   {
    "duration": 348,
    "start_time": "2025-02-10T16:14:54.448Z"
   },
   {
    "duration": 298,
    "start_time": "2025-02-10T16:14:54.797Z"
   },
   {
    "duration": 199,
    "start_time": "2025-02-10T16:14:55.097Z"
   },
   {
    "duration": 64,
    "start_time": "2025-02-10T16:14:55.297Z"
   },
   {
    "duration": 0,
    "start_time": "2025-02-10T16:14:55.363Z"
   },
   {
    "duration": 0,
    "start_time": "2025-02-10T16:14:55.364Z"
   },
   {
    "duration": 0,
    "start_time": "2025-02-10T16:14:55.366Z"
   },
   {
    "duration": 0,
    "start_time": "2025-02-10T16:14:55.367Z"
   },
   {
    "duration": 0,
    "start_time": "2025-02-10T16:14:55.369Z"
   },
   {
    "duration": 0,
    "start_time": "2025-02-10T16:14:55.370Z"
   },
   {
    "duration": 0,
    "start_time": "2025-02-10T16:14:55.371Z"
   },
   {
    "duration": 0,
    "start_time": "2025-02-10T16:14:55.372Z"
   },
   {
    "duration": 1,
    "start_time": "2025-02-10T16:14:55.373Z"
   },
   {
    "duration": 0,
    "start_time": "2025-02-10T16:14:55.375Z"
   },
   {
    "duration": 0,
    "start_time": "2025-02-10T16:14:55.376Z"
   },
   {
    "duration": 0,
    "start_time": "2025-02-10T16:14:55.377Z"
   },
   {
    "duration": 0,
    "start_time": "2025-02-10T16:14:55.378Z"
   },
   {
    "duration": 0,
    "start_time": "2025-02-10T16:14:55.380Z"
   },
   {
    "duration": 0,
    "start_time": "2025-02-10T16:14:55.381Z"
   },
   {
    "duration": 311,
    "start_time": "2025-02-10T16:16:06.302Z"
   },
   {
    "duration": 532,
    "start_time": "2025-02-10T16:17:04.461Z"
   },
   {
    "duration": 302,
    "start_time": "2025-02-10T16:17:12.749Z"
   },
   {
    "duration": 441,
    "start_time": "2025-02-10T16:17:17.192Z"
   },
   {
    "duration": 458,
    "start_time": "2025-02-10T16:17:47.005Z"
   },
   {
    "duration": 521,
    "start_time": "2025-02-10T16:20:29.475Z"
   },
   {
    "duration": 450,
    "start_time": "2025-02-10T16:21:25.995Z"
   },
   {
    "duration": 599,
    "start_time": "2025-02-10T16:21:52.882Z"
   },
   {
    "duration": 511,
    "start_time": "2025-02-10T16:22:33.348Z"
   },
   {
    "duration": 482,
    "start_time": "2025-02-10T16:23:04.803Z"
   },
   {
    "duration": 482,
    "start_time": "2025-02-10T16:23:12.192Z"
   },
   {
    "duration": 525,
    "start_time": "2025-02-10T16:23:39.063Z"
   },
   {
    "duration": 324,
    "start_time": "2025-02-10T16:23:49.746Z"
   },
   {
    "duration": 515,
    "start_time": "2025-02-10T16:23:55.279Z"
   },
   {
    "duration": 384,
    "start_time": "2025-02-10T16:24:04.568Z"
   },
   {
    "duration": 498,
    "start_time": "2025-02-10T16:24:13.502Z"
   },
   {
    "duration": 651,
    "start_time": "2025-02-10T16:25:21.255Z"
   },
   {
    "duration": 82,
    "start_time": "2025-02-10T16:25:35.866Z"
   },
   {
    "duration": 408,
    "start_time": "2025-02-10T16:25:42.329Z"
   },
   {
    "duration": 475,
    "start_time": "2025-02-10T16:25:52.331Z"
   },
   {
    "duration": 578,
    "start_time": "2025-02-10T16:29:06.093Z"
   },
   {
    "duration": 534,
    "start_time": "2025-02-10T16:30:01.358Z"
   },
   {
    "duration": 563,
    "start_time": "2025-02-10T16:30:27.525Z"
   },
   {
    "duration": 674,
    "start_time": "2025-02-10T16:30:51.242Z"
   },
   {
    "duration": 591,
    "start_time": "2025-02-10T16:31:27.144Z"
   },
   {
    "duration": 1359,
    "start_time": "2025-02-11T09:20:25.770Z"
   },
   {
    "duration": 91,
    "start_time": "2025-02-11T09:20:27.132Z"
   },
   {
    "duration": 18,
    "start_time": "2025-02-11T09:20:27.224Z"
   },
   {
    "duration": 17,
    "start_time": "2025-02-11T09:20:27.244Z"
   },
   {
    "duration": 29,
    "start_time": "2025-02-11T09:20:27.263Z"
   },
   {
    "duration": 14,
    "start_time": "2025-02-11T09:20:27.294Z"
   },
   {
    "duration": 19,
    "start_time": "2025-02-11T09:20:27.310Z"
   },
   {
    "duration": 15,
    "start_time": "2025-02-11T09:20:27.331Z"
   },
   {
    "duration": 8,
    "start_time": "2025-02-11T09:20:27.348Z"
   },
   {
    "duration": 11,
    "start_time": "2025-02-11T09:20:27.357Z"
   },
   {
    "duration": 30,
    "start_time": "2025-02-11T09:20:27.370Z"
   },
   {
    "duration": 7,
    "start_time": "2025-02-11T09:20:27.402Z"
   },
   {
    "duration": 22,
    "start_time": "2025-02-11T09:20:27.410Z"
   },
   {
    "duration": 6,
    "start_time": "2025-02-11T09:20:27.435Z"
   },
   {
    "duration": 7,
    "start_time": "2025-02-11T09:20:27.442Z"
   },
   {
    "duration": 9,
    "start_time": "2025-02-11T09:20:27.450Z"
   },
   {
    "duration": 40,
    "start_time": "2025-02-11T09:20:27.461Z"
   },
   {
    "duration": 9,
    "start_time": "2025-02-11T09:20:27.503Z"
   },
   {
    "duration": 42,
    "start_time": "2025-02-11T09:20:27.514Z"
   },
   {
    "duration": 229,
    "start_time": "2025-02-11T09:20:27.558Z"
   },
   {
    "duration": 217,
    "start_time": "2025-02-11T09:20:27.789Z"
   },
   {
    "duration": 205,
    "start_time": "2025-02-11T09:20:28.008Z"
   },
   {
    "duration": 221,
    "start_time": "2025-02-11T09:20:28.215Z"
   },
   {
    "duration": 5,
    "start_time": "2025-02-11T09:20:28.438Z"
   },
   {
    "duration": 19,
    "start_time": "2025-02-11T09:20:28.444Z"
   },
   {
    "duration": 264,
    "start_time": "2025-02-11T09:20:28.465Z"
   },
   {
    "duration": 469,
    "start_time": "2025-02-11T09:20:28.731Z"
   },
   {
    "duration": 4,
    "start_time": "2025-02-11T09:20:29.202Z"
   },
   {
    "duration": 12,
    "start_time": "2025-02-11T09:20:29.207Z"
   },
   {
    "duration": 9,
    "start_time": "2025-02-11T09:20:29.221Z"
   },
   {
    "duration": 292,
    "start_time": "2025-02-11T09:20:29.232Z"
   },
   {
    "duration": 192,
    "start_time": "2025-02-11T09:20:29.526Z"
   },
   {
    "duration": 9,
    "start_time": "2025-02-11T09:20:29.719Z"
   },
   {
    "duration": 17,
    "start_time": "2025-02-11T09:20:29.729Z"
   },
   {
    "duration": 372,
    "start_time": "2025-02-11T09:20:29.748Z"
   },
   {
    "duration": 5,
    "start_time": "2025-02-11T09:20:30.122Z"
   },
   {
    "duration": 40,
    "start_time": "2025-02-11T09:20:30.128Z"
   },
   {
    "duration": 364,
    "start_time": "2025-02-11T09:20:30.170Z"
   },
   {
    "duration": 251,
    "start_time": "2025-02-11T09:20:30.535Z"
   },
   {
    "duration": 239,
    "start_time": "2025-02-11T09:20:30.788Z"
   },
   {
    "duration": 10,
    "start_time": "2025-02-11T09:20:31.032Z"
   },
   {
    "duration": 258,
    "start_time": "2025-02-11T09:20:31.044Z"
   },
   {
    "duration": 10,
    "start_time": "2025-02-11T09:20:31.304Z"
   },
   {
    "duration": 21,
    "start_time": "2025-02-11T09:20:31.316Z"
   },
   {
    "duration": 16,
    "start_time": "2025-02-11T09:20:31.339Z"
   },
   {
    "duration": 44,
    "start_time": "2025-02-11T09:20:31.356Z"
   },
   {
    "duration": 17,
    "start_time": "2025-02-11T09:20:31.402Z"
   },
   {
    "duration": 12,
    "start_time": "2025-02-11T09:20:31.421Z"
   },
   {
    "duration": 66,
    "start_time": "2025-02-11T09:20:31.435Z"
   },
   {
    "duration": 72,
    "start_time": "2025-02-11T09:20:31.503Z"
   },
   {
    "duration": 687,
    "start_time": "2025-02-11T09:20:31.577Z"
   },
   {
    "duration": 208,
    "start_time": "2025-02-11T09:20:32.266Z"
   },
   {
    "duration": 207,
    "start_time": "2025-02-11T09:20:32.476Z"
   },
   {
    "duration": 15,
    "start_time": "2025-02-11T09:20:32.685Z"
   },
   {
    "duration": 159,
    "start_time": "2025-02-11T09:20:32.702Z"
   },
   {
    "duration": 21,
    "start_time": "2025-02-11T09:20:32.863Z"
   },
   {
    "duration": 19,
    "start_time": "2025-02-11T09:20:32.900Z"
   },
   {
    "duration": 26,
    "start_time": "2025-02-11T09:20:32.921Z"
   },
   {
    "duration": 52,
    "start_time": "2025-02-11T09:20:32.949Z"
   },
   {
    "duration": 27,
    "start_time": "2025-02-11T09:20:33.004Z"
   },
   {
    "duration": 32,
    "start_time": "2025-02-11T09:20:33.033Z"
   },
   {
    "duration": 52,
    "start_time": "2025-02-11T09:20:33.067Z"
   },
   {
    "duration": 24,
    "start_time": "2025-02-11T09:20:33.122Z"
   },
   {
    "duration": 12,
    "start_time": "2025-02-11T09:20:33.148Z"
   },
   {
    "duration": 63,
    "start_time": "2025-02-11T09:20:33.162Z"
   },
   {
    "duration": 2361,
    "start_time": "2025-02-11T09:20:33.227Z"
   },
   {
    "duration": 7,
    "start_time": "2025-02-11T09:20:35.590Z"
   },
   {
    "duration": 308,
    "start_time": "2025-02-11T09:20:35.599Z"
   },
   {
    "duration": 212,
    "start_time": "2025-02-11T09:26:21.716Z"
   },
   {
    "duration": 228,
    "start_time": "2025-02-11T09:27:52.301Z"
   },
   {
    "duration": 213,
    "start_time": "2025-02-11T09:27:58.258Z"
   },
   {
    "duration": 226,
    "start_time": "2025-02-11T09:28:01.879Z"
   },
   {
    "duration": 256,
    "start_time": "2025-02-11T09:29:33.975Z"
   },
   {
    "duration": 232,
    "start_time": "2025-02-11T09:29:57.337Z"
   },
   {
    "duration": 232,
    "start_time": "2025-02-11T09:30:38.256Z"
   },
   {
    "duration": 500,
    "start_time": "2025-02-11T09:31:35.086Z"
   },
   {
    "duration": 569,
    "start_time": "2025-02-11T09:33:56.567Z"
   },
   {
    "duration": 416,
    "start_time": "2025-02-11T09:37:22.153Z"
   },
   {
    "duration": 392,
    "start_time": "2025-02-11T09:37:28.983Z"
   },
   {
    "duration": 423,
    "start_time": "2025-02-11T09:37:35.713Z"
   },
   {
    "duration": 404,
    "start_time": "2025-02-11T09:37:43.969Z"
   },
   {
    "duration": 530,
    "start_time": "2025-02-11T09:37:51.639Z"
   },
   {
    "duration": 394,
    "start_time": "2025-02-11T09:38:44.609Z"
   },
   {
    "duration": 401,
    "start_time": "2025-02-11T09:38:54.272Z"
   },
   {
    "duration": 379,
    "start_time": "2025-02-11T09:39:21.898Z"
   },
   {
    "duration": 387,
    "start_time": "2025-02-11T09:39:29.094Z"
   },
   {
    "duration": 557,
    "start_time": "2025-02-11T09:40:10.125Z"
   },
   {
    "duration": 405,
    "start_time": "2025-02-11T09:40:40.610Z"
   },
   {
    "duration": 433,
    "start_time": "2025-02-11T09:41:51.798Z"
   },
   {
    "duration": 439,
    "start_time": "2025-02-11T09:42:05.620Z"
   },
   {
    "duration": 408,
    "start_time": "2025-02-11T09:43:07.210Z"
   },
   {
    "duration": 464,
    "start_time": "2025-02-11T09:43:47.280Z"
   },
   {
    "duration": 634,
    "start_time": "2025-02-11T09:44:40.132Z"
   },
   {
    "duration": 516,
    "start_time": "2025-02-11T09:48:30.936Z"
   },
   {
    "duration": 530,
    "start_time": "2025-02-11T09:49:03.631Z"
   },
   {
    "duration": 500,
    "start_time": "2025-02-11T09:49:16.244Z"
   },
   {
    "duration": 2216,
    "start_time": "2025-02-11T10:05:37.057Z"
   },
   {
    "duration": 2776,
    "start_time": "2025-02-11T10:08:08.392Z"
   },
   {
    "duration": 320,
    "start_time": "2025-02-11T10:08:47.226Z"
   },
   {
    "duration": 523,
    "start_time": "2025-02-11T10:09:02.105Z"
   },
   {
    "duration": 303,
    "start_time": "2025-02-11T10:09:06.857Z"
   },
   {
    "duration": 350,
    "start_time": "2025-02-11T10:09:12.386Z"
   },
   {
    "duration": 326,
    "start_time": "2025-02-11T10:09:40.234Z"
   },
   {
    "duration": 307,
    "start_time": "2025-02-11T10:09:52.131Z"
   },
   {
    "duration": 335,
    "start_time": "2025-02-11T10:10:50.801Z"
   },
   {
    "duration": 2757,
    "start_time": "2025-02-11T10:12:20.304Z"
   },
   {
    "duration": 2753,
    "start_time": "2025-02-11T10:12:48.581Z"
   },
   {
    "duration": 2801,
    "start_time": "2025-02-11T10:14:08.969Z"
   },
   {
    "duration": 2780,
    "start_time": "2025-02-11T10:14:43.513Z"
   },
   {
    "duration": 1215,
    "start_time": "2025-02-11T10:24:00.879Z"
   },
   {
    "duration": 84,
    "start_time": "2025-02-11T10:24:02.098Z"
   },
   {
    "duration": 17,
    "start_time": "2025-02-11T10:24:02.184Z"
   },
   {
    "duration": 41,
    "start_time": "2025-02-11T10:24:02.204Z"
   },
   {
    "duration": 70,
    "start_time": "2025-02-11T10:24:02.247Z"
   },
   {
    "duration": 64,
    "start_time": "2025-02-11T10:24:02.318Z"
   },
   {
    "duration": 46,
    "start_time": "2025-02-11T10:24:02.383Z"
   },
   {
    "duration": 28,
    "start_time": "2025-02-11T10:24:02.430Z"
   },
   {
    "duration": 8,
    "start_time": "2025-02-11T10:24:02.459Z"
   },
   {
    "duration": 54,
    "start_time": "2025-02-11T10:24:02.470Z"
   },
   {
    "duration": 97,
    "start_time": "2025-02-11T10:24:02.526Z"
   },
   {
    "duration": 41,
    "start_time": "2025-02-11T10:24:02.625Z"
   },
   {
    "duration": 63,
    "start_time": "2025-02-11T10:24:02.668Z"
   },
   {
    "duration": 64,
    "start_time": "2025-02-11T10:24:02.733Z"
   },
   {
    "duration": 82,
    "start_time": "2025-02-11T10:24:02.799Z"
   },
   {
    "duration": 64,
    "start_time": "2025-02-11T10:24:02.883Z"
   },
   {
    "duration": 14,
    "start_time": "2025-02-11T10:24:02.949Z"
   },
   {
    "duration": 85,
    "start_time": "2025-02-11T10:24:02.965Z"
   },
   {
    "duration": 57,
    "start_time": "2025-02-11T10:24:03.053Z"
   },
   {
    "duration": 287,
    "start_time": "2025-02-11T10:24:03.112Z"
   },
   {
    "duration": 226,
    "start_time": "2025-02-11T10:24:03.401Z"
   },
   {
    "duration": 223,
    "start_time": "2025-02-11T10:24:03.629Z"
   },
   {
    "duration": 264,
    "start_time": "2025-02-11T10:24:03.854Z"
   },
   {
    "duration": 4,
    "start_time": "2025-02-11T10:24:04.121Z"
   },
   {
    "duration": 25,
    "start_time": "2025-02-11T10:24:04.126Z"
   },
   {
    "duration": 182,
    "start_time": "2025-02-11T10:24:04.153Z"
   },
   {
    "duration": 214,
    "start_time": "2025-02-11T10:24:04.337Z"
   },
   {
    "duration": 5,
    "start_time": "2025-02-11T10:24:04.555Z"
   },
   {
    "duration": 79,
    "start_time": "2025-02-11T10:24:04.562Z"
   },
   {
    "duration": 24,
    "start_time": "2025-02-11T10:24:04.643Z"
   },
   {
    "duration": 153,
    "start_time": "2025-02-11T10:24:04.669Z"
   },
   {
    "duration": 93,
    "start_time": "2025-02-11T10:24:04.824Z"
   },
   {
    "duration": 24,
    "start_time": "2025-02-11T10:24:04.919Z"
   },
   {
    "duration": 41,
    "start_time": "2025-02-11T10:24:04.945Z"
   },
   {
    "duration": 175,
    "start_time": "2025-02-11T10:24:04.988Z"
   },
   {
    "duration": 4,
    "start_time": "2025-02-11T10:24:05.165Z"
   },
   {
    "duration": 30,
    "start_time": "2025-02-11T10:24:05.170Z"
   },
   {
    "duration": 329,
    "start_time": "2025-02-11T10:24:05.202Z"
   },
   {
    "duration": 238,
    "start_time": "2025-02-11T10:24:05.532Z"
   },
   {
    "duration": 237,
    "start_time": "2025-02-11T10:24:05.772Z"
   },
   {
    "duration": 9,
    "start_time": "2025-02-11T10:24:06.011Z"
   },
   {
    "duration": 249,
    "start_time": "2025-02-11T10:24:06.022Z"
   },
   {
    "duration": 10,
    "start_time": "2025-02-11T10:24:06.273Z"
   },
   {
    "duration": 49,
    "start_time": "2025-02-11T10:24:06.285Z"
   },
   {
    "duration": 16,
    "start_time": "2025-02-11T10:24:06.335Z"
   },
   {
    "duration": 15,
    "start_time": "2025-02-11T10:24:06.353Z"
   },
   {
    "duration": 30,
    "start_time": "2025-02-11T10:24:06.369Z"
   },
   {
    "duration": 14,
    "start_time": "2025-02-11T10:24:06.401Z"
   },
   {
    "duration": 18,
    "start_time": "2025-02-11T10:24:06.417Z"
   },
   {
    "duration": 44,
    "start_time": "2025-02-11T10:24:06.437Z"
   },
   {
    "duration": 477,
    "start_time": "2025-02-11T10:24:06.483Z"
   },
   {
    "duration": 499,
    "start_time": "2025-02-11T10:24:06.962Z"
   },
   {
    "duration": 40,
    "start_time": "2025-02-11T10:24:07.463Z"
   },
   {
    "duration": 161,
    "start_time": "2025-02-11T10:24:07.505Z"
   },
   {
    "duration": 23,
    "start_time": "2025-02-11T10:24:07.668Z"
   },
   {
    "duration": 9,
    "start_time": "2025-02-11T10:24:07.693Z"
   },
   {
    "duration": 7,
    "start_time": "2025-02-11T10:24:07.704Z"
   },
   {
    "duration": 6,
    "start_time": "2025-02-11T10:24:07.712Z"
   },
   {
    "duration": 21,
    "start_time": "2025-02-11T10:24:07.719Z"
   },
   {
    "duration": 19,
    "start_time": "2025-02-11T10:24:07.742Z"
   },
   {
    "duration": 34,
    "start_time": "2025-02-11T10:24:07.762Z"
   },
   {
    "duration": 21,
    "start_time": "2025-02-11T10:24:07.797Z"
   },
   {
    "duration": 6,
    "start_time": "2025-02-11T10:24:07.820Z"
   },
   {
    "duration": 140,
    "start_time": "2025-02-11T10:24:07.827Z"
   },
   {
    "duration": 2956,
    "start_time": "2025-02-11T10:24:07.968Z"
   },
   {
    "duration": 5,
    "start_time": "2025-02-11T10:24:10.926Z"
   },
   {
    "duration": 328,
    "start_time": "2025-02-11T10:24:10.933Z"
   },
   {
    "duration": 80,
    "start_time": "2025-02-11T10:25:23.442Z"
   },
   {
    "duration": 1106,
    "start_time": "2025-02-11T14:05:33.986Z"
   },
   {
    "duration": 77,
    "start_time": "2025-02-11T14:05:35.094Z"
   },
   {
    "duration": 15,
    "start_time": "2025-02-11T14:05:35.173Z"
   },
   {
    "duration": 26,
    "start_time": "2025-02-11T14:05:35.190Z"
   },
   {
    "duration": 42,
    "start_time": "2025-02-11T14:05:35.221Z"
   },
   {
    "duration": 12,
    "start_time": "2025-02-11T14:05:35.265Z"
   },
   {
    "duration": 29,
    "start_time": "2025-02-11T14:05:35.278Z"
   },
   {
    "duration": 44,
    "start_time": "2025-02-11T14:05:35.310Z"
   },
   {
    "duration": 10,
    "start_time": "2025-02-11T14:05:35.355Z"
   },
   {
    "duration": 19,
    "start_time": "2025-02-11T14:05:35.367Z"
   },
   {
    "duration": 38,
    "start_time": "2025-02-11T14:05:35.387Z"
   },
   {
    "duration": 31,
    "start_time": "2025-02-11T14:05:35.427Z"
   },
   {
    "duration": 22,
    "start_time": "2025-02-11T14:05:35.460Z"
   },
   {
    "duration": 7,
    "start_time": "2025-02-11T14:05:35.485Z"
   },
   {
    "duration": 15,
    "start_time": "2025-02-11T14:05:35.493Z"
   },
   {
    "duration": 15,
    "start_time": "2025-02-11T14:05:35.515Z"
   },
   {
    "duration": 9,
    "start_time": "2025-02-11T14:05:35.532Z"
   },
   {
    "duration": 9,
    "start_time": "2025-02-11T14:05:35.543Z"
   },
   {
    "duration": 16,
    "start_time": "2025-02-11T14:05:35.553Z"
   },
   {
    "duration": 264,
    "start_time": "2025-02-11T14:05:35.571Z"
   },
   {
    "duration": 214,
    "start_time": "2025-02-11T14:05:35.837Z"
   },
   {
    "duration": 211,
    "start_time": "2025-02-11T14:05:36.053Z"
   },
   {
    "duration": 228,
    "start_time": "2025-02-11T14:05:36.266Z"
   },
   {
    "duration": 4,
    "start_time": "2025-02-11T14:05:36.496Z"
   },
   {
    "duration": 28,
    "start_time": "2025-02-11T14:05:36.516Z"
   },
   {
    "duration": 196,
    "start_time": "2025-02-11T14:05:36.546Z"
   },
   {
    "duration": 207,
    "start_time": "2025-02-11T14:05:36.743Z"
   },
   {
    "duration": 5,
    "start_time": "2025-02-11T14:05:36.952Z"
   },
   {
    "duration": 13,
    "start_time": "2025-02-11T14:05:36.958Z"
   },
   {
    "duration": 10,
    "start_time": "2025-02-11T14:05:36.972Z"
   },
   {
    "duration": 165,
    "start_time": "2025-02-11T14:05:36.983Z"
   },
   {
    "duration": 98,
    "start_time": "2025-02-11T14:05:37.150Z"
   },
   {
    "duration": 8,
    "start_time": "2025-02-11T14:05:37.250Z"
   },
   {
    "duration": 5,
    "start_time": "2025-02-11T14:05:37.260Z"
   },
   {
    "duration": 182,
    "start_time": "2025-02-11T14:05:37.267Z"
   },
   {
    "duration": 6,
    "start_time": "2025-02-11T14:05:37.451Z"
   },
   {
    "duration": 9,
    "start_time": "2025-02-11T14:05:37.459Z"
   },
   {
    "duration": 333,
    "start_time": "2025-02-11T14:05:37.470Z"
   },
   {
    "duration": 239,
    "start_time": "2025-02-11T14:05:37.804Z"
   },
   {
    "duration": 232,
    "start_time": "2025-02-11T14:05:38.045Z"
   },
   {
    "duration": 9,
    "start_time": "2025-02-11T14:05:38.281Z"
   },
   {
    "duration": 249,
    "start_time": "2025-02-11T14:05:38.291Z"
   },
   {
    "duration": 10,
    "start_time": "2025-02-11T14:05:38.542Z"
   },
   {
    "duration": 20,
    "start_time": "2025-02-11T14:05:38.554Z"
   },
   {
    "duration": 52,
    "start_time": "2025-02-11T14:05:38.576Z"
   },
   {
    "duration": 10,
    "start_time": "2025-02-11T14:05:38.629Z"
   },
   {
    "duration": 17,
    "start_time": "2025-02-11T14:05:38.641Z"
   },
   {
    "duration": 9,
    "start_time": "2025-02-11T14:05:38.660Z"
   },
   {
    "duration": 57,
    "start_time": "2025-02-11T14:05:38.671Z"
   },
   {
    "duration": 107,
    "start_time": "2025-02-11T14:05:38.730Z"
   },
   {
    "duration": 530,
    "start_time": "2025-02-11T14:05:38.839Z"
   },
   {
    "duration": 563,
    "start_time": "2025-02-11T14:05:39.371Z"
   },
   {
    "duration": 9,
    "start_time": "2025-02-11T14:05:39.936Z"
   },
   {
    "duration": 148,
    "start_time": "2025-02-11T14:05:39.947Z"
   },
   {
    "duration": 31,
    "start_time": "2025-02-11T14:05:40.097Z"
   },
   {
    "duration": 5,
    "start_time": "2025-02-11T14:05:40.130Z"
   },
   {
    "duration": 7,
    "start_time": "2025-02-11T14:05:40.137Z"
   },
   {
    "duration": 13,
    "start_time": "2025-02-11T14:05:40.145Z"
   },
   {
    "duration": 5,
    "start_time": "2025-02-11T14:05:40.160Z"
   },
   {
    "duration": 4,
    "start_time": "2025-02-11T14:05:40.167Z"
   },
   {
    "duration": 60,
    "start_time": "2025-02-11T14:05:40.172Z"
   },
   {
    "duration": 29,
    "start_time": "2025-02-11T14:05:40.234Z"
   },
   {
    "duration": 6,
    "start_time": "2025-02-11T14:05:40.265Z"
   },
   {
    "duration": 52,
    "start_time": "2025-02-11T14:05:40.273Z"
   },
   {
    "duration": 2702,
    "start_time": "2025-02-11T14:05:40.328Z"
   },
   {
    "duration": 6,
    "start_time": "2025-02-11T14:05:43.032Z"
   },
   {
    "duration": 330,
    "start_time": "2025-02-11T14:05:43.040Z"
   },
   {
    "duration": 1224,
    "start_time": "2025-10-05T09:12:29.412Z"
   },
   {
    "duration": 85,
    "start_time": "2025-10-05T09:12:30.638Z"
   },
   {
    "duration": 33,
    "start_time": "2025-10-05T09:12:30.725Z"
   },
   {
    "duration": 16,
    "start_time": "2025-10-05T09:12:30.760Z"
   },
   {
    "duration": 35,
    "start_time": "2025-10-05T09:12:30.779Z"
   },
   {
    "duration": 10,
    "start_time": "2025-10-05T09:12:30.816Z"
   },
   {
    "duration": 12,
    "start_time": "2025-10-05T09:12:30.827Z"
   },
   {
    "duration": 16,
    "start_time": "2025-10-05T09:12:30.840Z"
   },
   {
    "duration": 6,
    "start_time": "2025-10-05T09:12:30.858Z"
   },
   {
    "duration": 11,
    "start_time": "2025-10-05T09:12:30.866Z"
   },
   {
    "duration": 16,
    "start_time": "2025-10-05T09:12:30.878Z"
   },
   {
    "duration": 6,
    "start_time": "2025-10-05T09:12:30.895Z"
   },
   {
    "duration": 13,
    "start_time": "2025-10-05T09:12:30.902Z"
   },
   {
    "duration": 6,
    "start_time": "2025-10-05T09:12:30.917Z"
   },
   {
    "duration": 31,
    "start_time": "2025-10-05T09:12:30.924Z"
   },
   {
    "duration": 18,
    "start_time": "2025-10-05T09:12:30.957Z"
   },
   {
    "duration": 20,
    "start_time": "2025-10-05T09:12:30.977Z"
   },
   {
    "duration": 14,
    "start_time": "2025-10-05T09:12:30.999Z"
   },
   {
    "duration": 17,
    "start_time": "2025-10-05T09:12:31.015Z"
   },
   {
    "duration": 201,
    "start_time": "2025-10-05T09:12:31.033Z"
   },
   {
    "duration": 188,
    "start_time": "2025-10-05T09:12:31.235Z"
   },
   {
    "duration": 183,
    "start_time": "2025-10-05T09:12:31.424Z"
   },
   {
    "duration": 197,
    "start_time": "2025-10-05T09:12:31.608Z"
   },
   {
    "duration": 5,
    "start_time": "2025-10-05T09:12:31.806Z"
   },
   {
    "duration": 17,
    "start_time": "2025-10-05T09:12:31.812Z"
   },
   {
    "duration": 160,
    "start_time": "2025-10-05T09:12:31.831Z"
   },
   {
    "duration": 176,
    "start_time": "2025-10-05T09:12:31.992Z"
   },
   {
    "duration": 4,
    "start_time": "2025-10-05T09:12:32.172Z"
   },
   {
    "duration": 15,
    "start_time": "2025-10-05T09:12:32.178Z"
   },
   {
    "duration": 7,
    "start_time": "2025-10-05T09:12:32.194Z"
   },
   {
    "duration": 126,
    "start_time": "2025-10-05T09:12:32.203Z"
   },
   {
    "duration": 82,
    "start_time": "2025-10-05T09:12:32.331Z"
   },
   {
    "duration": 7,
    "start_time": "2025-10-05T09:12:32.415Z"
   },
   {
    "duration": 7,
    "start_time": "2025-10-05T09:12:32.424Z"
   },
   {
    "duration": 150,
    "start_time": "2025-10-05T09:12:32.432Z"
   },
   {
    "duration": 4,
    "start_time": "2025-10-05T09:12:32.584Z"
   },
   {
    "duration": 10,
    "start_time": "2025-10-05T09:12:32.589Z"
   },
   {
    "duration": 302,
    "start_time": "2025-10-05T09:12:32.600Z"
   },
   {
    "duration": 211,
    "start_time": "2025-10-05T09:12:32.903Z"
   },
   {
    "duration": 202,
    "start_time": "2025-10-05T09:12:33.115Z"
   },
   {
    "duration": 8,
    "start_time": "2025-10-05T09:12:33.318Z"
   },
   {
    "duration": 295,
    "start_time": "2025-10-05T09:12:33.328Z"
   },
   {
    "duration": 8,
    "start_time": "2025-10-05T09:12:33.625Z"
   },
   {
    "duration": 26,
    "start_time": "2025-10-05T09:12:33.634Z"
   },
   {
    "duration": 15,
    "start_time": "2025-10-05T09:12:33.661Z"
   },
   {
    "duration": 26,
    "start_time": "2025-10-05T09:12:33.677Z"
   },
   {
    "duration": 119,
    "start_time": "2025-10-05T09:12:33.704Z"
   },
   {
    "duration": 8,
    "start_time": "2025-10-05T09:12:33.824Z"
   },
   {
    "duration": 16,
    "start_time": "2025-10-05T09:12:33.833Z"
   },
   {
    "duration": 27,
    "start_time": "2025-10-05T09:12:33.850Z"
   },
   {
    "duration": 509,
    "start_time": "2025-10-05T09:12:33.879Z"
   },
   {
    "duration": 454,
    "start_time": "2025-10-05T09:12:34.390Z"
   },
   {
    "duration": 6,
    "start_time": "2025-10-05T09:12:34.850Z"
   },
   {
    "duration": 119,
    "start_time": "2025-10-05T09:12:34.857Z"
   },
   {
    "duration": 16,
    "start_time": "2025-10-05T09:12:34.977Z"
   },
   {
    "duration": 4,
    "start_time": "2025-10-05T09:12:34.994Z"
   },
   {
    "duration": 22,
    "start_time": "2025-10-05T09:12:34.999Z"
   },
   {
    "duration": 12,
    "start_time": "2025-10-05T09:12:35.022Z"
   },
   {
    "duration": 4,
    "start_time": "2025-10-05T09:12:35.035Z"
   },
   {
    "duration": 22,
    "start_time": "2025-10-05T09:12:35.041Z"
   },
   {
    "duration": 17,
    "start_time": "2025-10-05T09:12:35.064Z"
   },
   {
    "duration": 5,
    "start_time": "2025-10-05T09:12:35.082Z"
   },
   {
    "duration": 29,
    "start_time": "2025-10-05T09:12:35.088Z"
   },
   {
    "duration": 2393,
    "start_time": "2025-10-05T09:12:35.118Z"
   },
   {
    "duration": 40,
    "start_time": "2025-10-05T09:12:37.512Z"
   },
   {
    "duration": 429,
    "start_time": "2025-10-05T09:12:37.553Z"
   },
   {
    "duration": 1025,
    "start_time": "2025-10-05T09:32:55.329Z"
   },
   {
    "duration": 63,
    "start_time": "2025-10-05T09:32:56.356Z"
   },
   {
    "duration": 10,
    "start_time": "2025-10-05T09:32:56.420Z"
   },
   {
    "duration": 10,
    "start_time": "2025-10-05T09:32:56.432Z"
   },
   {
    "duration": 28,
    "start_time": "2025-10-05T09:32:56.444Z"
   },
   {
    "duration": 8,
    "start_time": "2025-10-05T09:32:56.473Z"
   },
   {
    "duration": 9,
    "start_time": "2025-10-05T09:32:56.482Z"
   },
   {
    "duration": 16,
    "start_time": "2025-10-05T09:32:56.492Z"
   },
   {
    "duration": 6,
    "start_time": "2025-10-05T09:32:56.509Z"
   },
   {
    "duration": 14,
    "start_time": "2025-10-05T09:32:56.517Z"
   },
   {
    "duration": 10,
    "start_time": "2025-10-05T09:32:56.532Z"
   },
   {
    "duration": 10,
    "start_time": "2025-10-05T09:32:56.543Z"
   },
   {
    "duration": 9,
    "start_time": "2025-10-05T09:32:56.554Z"
   },
   {
    "duration": 5,
    "start_time": "2025-10-05T09:32:56.564Z"
   },
   {
    "duration": 16,
    "start_time": "2025-10-05T09:32:56.570Z"
   },
   {
    "duration": 7,
    "start_time": "2025-10-05T09:32:56.587Z"
   },
   {
    "duration": 17,
    "start_time": "2025-10-05T09:32:56.595Z"
   },
   {
    "duration": 8,
    "start_time": "2025-10-05T09:32:56.613Z"
   },
   {
    "duration": 7,
    "start_time": "2025-10-05T09:32:56.622Z"
   },
   {
    "duration": 213,
    "start_time": "2025-10-05T09:32:56.630Z"
   },
   {
    "duration": 189,
    "start_time": "2025-10-05T09:32:56.844Z"
   },
   {
    "duration": 183,
    "start_time": "2025-10-05T09:32:57.034Z"
   },
   {
    "duration": 187,
    "start_time": "2025-10-05T09:32:57.218Z"
   },
   {
    "duration": 5,
    "start_time": "2025-10-05T09:32:57.406Z"
   },
   {
    "duration": 11,
    "start_time": "2025-10-05T09:32:57.412Z"
   },
   {
    "duration": 159,
    "start_time": "2025-10-05T09:32:57.424Z"
   },
   {
    "duration": 4,
    "start_time": "2025-10-05T09:32:57.584Z"
   },
   {
    "duration": 12,
    "start_time": "2025-10-05T09:32:57.593Z"
   },
   {
    "duration": 73,
    "start_time": "2025-10-05T09:32:57.607Z"
   },
   {
    "duration": 109,
    "start_time": "2025-10-05T09:32:57.682Z"
   },
   {
    "duration": 8,
    "start_time": "2025-10-05T09:32:57.793Z"
   },
   {
    "duration": 77,
    "start_time": "2025-10-05T09:32:57.802Z"
   },
   {
    "duration": 145,
    "start_time": "2025-10-05T09:32:57.881Z"
   },
   {
    "duration": 4,
    "start_time": "2025-10-05T09:32:58.028Z"
   },
   {
    "duration": 20,
    "start_time": "2025-10-05T09:32:58.034Z"
   },
   {
    "duration": 196,
    "start_time": "2025-10-05T09:32:58.056Z"
   },
   {
    "duration": 263,
    "start_time": "2025-10-05T09:32:58.254Z"
   },
   {
    "duration": 201,
    "start_time": "2025-10-05T09:32:58.519Z"
   },
   {
    "duration": 8,
    "start_time": "2025-10-05T09:32:58.722Z"
   },
   {
    "duration": 285,
    "start_time": "2025-10-05T09:32:58.732Z"
   },
   {
    "duration": 9,
    "start_time": "2025-10-05T09:32:59.019Z"
   },
   {
    "duration": 22,
    "start_time": "2025-10-05T09:32:59.030Z"
   },
   {
    "duration": 13,
    "start_time": "2025-10-05T09:32:59.054Z"
   },
   {
    "duration": 8,
    "start_time": "2025-10-05T09:32:59.068Z"
   },
   {
    "duration": 12,
    "start_time": "2025-10-05T09:32:59.077Z"
   },
   {
    "duration": 36,
    "start_time": "2025-10-05T09:32:59.090Z"
   },
   {
    "duration": 10,
    "start_time": "2025-10-05T09:32:59.128Z"
   },
   {
    "duration": 18,
    "start_time": "2025-10-05T09:32:59.139Z"
   },
   {
    "duration": 413,
    "start_time": "2025-10-05T09:32:59.159Z"
   },
   {
    "duration": 437,
    "start_time": "2025-10-05T09:32:59.574Z"
   },
   {
    "duration": 8,
    "start_time": "2025-10-05T09:33:00.012Z"
   },
   {
    "duration": 112,
    "start_time": "2025-10-05T09:33:00.022Z"
   },
   {
    "duration": 12,
    "start_time": "2025-10-05T09:33:00.136Z"
   },
   {
    "duration": 4,
    "start_time": "2025-10-05T09:33:00.149Z"
   },
   {
    "duration": 37,
    "start_time": "2025-10-05T09:33:00.155Z"
   },
   {
    "duration": 32,
    "start_time": "2025-10-05T09:33:00.193Z"
   },
   {
    "duration": 19,
    "start_time": "2025-10-05T09:33:00.227Z"
   },
   {
    "duration": 36,
    "start_time": "2025-10-05T09:33:00.247Z"
   },
   {
    "duration": 14,
    "start_time": "2025-10-05T09:33:00.285Z"
   },
   {
    "duration": 13,
    "start_time": "2025-10-05T09:33:00.301Z"
   },
   {
    "duration": 72,
    "start_time": "2025-10-05T09:33:00.315Z"
   },
   {
    "duration": 2510,
    "start_time": "2025-10-05T09:33:00.389Z"
   },
   {
    "duration": 5,
    "start_time": "2025-10-05T09:33:02.901Z"
   },
   {
    "duration": 279,
    "start_time": "2025-10-05T09:33:02.907Z"
   }
  ],
  "kernelspec": {
   "display_name": "Python 3 (ipykernel)",
   "language": "python",
   "name": "python3"
  },
  "language_info": {
   "codemirror_mode": {
    "name": "ipython",
    "version": 3
   },
   "file_extension": ".py",
   "mimetype": "text/x-python",
   "name": "python",
   "nbconvert_exporter": "python",
   "pygments_lexer": "ipython3",
   "version": "3.9.5"
  },
  "toc": {
   "base_numbering": 1,
   "nav_menu": {},
   "number_sections": true,
   "sideBar": true,
   "skip_h1_title": true,
   "title_cell": "Table of Contents",
   "title_sidebar": "Contents",
   "toc_cell": false,
   "toc_position": {
    "height": "calc(100% - 180px)",
    "left": "10px",
    "top": "150px",
    "width": "218.943px"
   },
   "toc_section_display": true,
   "toc_window_display": true
  }
 },
 "nbformat": 4,
 "nbformat_minor": 5
}
