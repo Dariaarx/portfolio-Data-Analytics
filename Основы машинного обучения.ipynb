{
 "cells": [
  {
   "cell_type": "markdown",
   "metadata": {},
   "source": [
    "# Проект. Основы машинного обучения."
   ]
  },
  {
   "cell_type": "markdown",
   "metadata": {},
   "source": [
    "   \n",
    "   Сеть фитнес-центров разрабатывает стратегию взаимодействия с клиентами на основе аналитических данных."
   ]
  },
  {
   "cell_type": "markdown",
   "metadata": {},
   "source": [
    "__Цель:__\n",
    "    \n",
    "    Провести анализ и подготовить план действий по удержанию клиентов\n",
    "    \n",
    " \n",
    "__Этапы:__\n",
    "\n",
    "\n",
    "   - научиться прогнозировать вероятность оттока (на уровне следующего месяца) для каждого клиента;\n",
    "   - сформировать типичные портреты клиентов: выделить несколько наиболее ярких групп и охарактеризовать их основные свойства;\n",
    "   - проанализировать основные признаки, наиболее сильно влияющие на отток;\n",
    "   - сформулировать основные выводы и разработать рекомендации по повышению качества работы с клиентами:\n"
   ]
  },
  {
   "cell_type": "markdown",
   "metadata": {},
   "source": [
    "## Загрузим данные"
   ]
  },
  {
   "cell_type": "markdown",
   "metadata": {},
   "source": [
    "__Набор данных включает следующие поля:__\n",
    "\n",
    "Данные клиента за предыдущий до проверки факта оттока месяц:\n",
    "\n",
    "Информация на основе журнала посещений, покупок и информация о текущем статусе абонемента клиента:\n"
   ]
  },
  {
   "cell_type": "code",
   "execution_count": 1,
   "metadata": {},
   "outputs": [],
   "source": [
    "import pandas as pd\n",
    "import seaborn as sns\n",
    "import matplotlib.pyplot as plt\n",
    "\n",
    "from sklearn.preprocessing import StandardScaler\n",
    "from sklearn.model_selection import train_test_split\n",
    "from sklearn.linear_model import LogisticRegression\n",
    "from sklearn.ensemble import RandomForestClassifier\n",
    "from sklearn.metrics import accuracy_score, precision_score, recall_score, f1_score\n",
    "from sklearn.cluster import KMeans\n",
    "from scipy.cluster.hierarchy import linkage, dendrogram\n",
    "import itertools"
   ]
  },
  {
   "cell_type": "code",
   "execution_count": 2,
   "metadata": {},
   "outputs": [
    {
     "data": {
      "text/html": [
       "<div>\n",
       "<style scoped>\n",
       "    .dataframe tbody tr th:only-of-type {\n",
       "        vertical-align: middle;\n",
       "    }\n",
       "\n",
       "    .dataframe tbody tr th {\n",
       "        vertical-align: top;\n",
       "    }\n",
       "\n",
       "    .dataframe thead th {\n",
       "        text-align: right;\n",
       "    }\n",
       "</style>\n",
       "<table border=\"1\" class=\"dataframe\">\n",
       "  <thead>\n",
       "    <tr style=\"text-align: right;\">\n",
       "      <th></th>\n",
       "      <th>gender</th>\n",
       "      <th>Near_Location</th>\n",
       "      <th>Partner</th>\n",
       "      <th>Promo_friends</th>\n",
       "      <th>Phone</th>\n",
       "      <th>Contract_period</th>\n",
       "      <th>Group_visits</th>\n",
       "      <th>Age</th>\n",
       "      <th>Avg_additional_charges_total</th>\n",
       "      <th>Month_to_end_contract</th>\n",
       "      <th>Lifetime</th>\n",
       "      <th>Avg_class_frequency_total</th>\n",
       "      <th>Avg_class_frequency_current_month</th>\n",
       "      <th>Churn</th>\n",
       "    </tr>\n",
       "  </thead>\n",
       "  <tbody>\n",
       "    <tr>\n",
       "      <th>0</th>\n",
       "      <td>1</td>\n",
       "      <td>1</td>\n",
       "      <td>1</td>\n",
       "      <td>1</td>\n",
       "      <td>0</td>\n",
       "      <td>6</td>\n",
       "      <td>1</td>\n",
       "      <td>29</td>\n",
       "      <td>14.227470</td>\n",
       "      <td>5.0</td>\n",
       "      <td>3</td>\n",
       "      <td>0.020398</td>\n",
       "      <td>0.000000</td>\n",
       "      <td>0</td>\n",
       "    </tr>\n",
       "    <tr>\n",
       "      <th>1</th>\n",
       "      <td>0</td>\n",
       "      <td>1</td>\n",
       "      <td>0</td>\n",
       "      <td>0</td>\n",
       "      <td>1</td>\n",
       "      <td>12</td>\n",
       "      <td>1</td>\n",
       "      <td>31</td>\n",
       "      <td>113.202938</td>\n",
       "      <td>12.0</td>\n",
       "      <td>7</td>\n",
       "      <td>1.922936</td>\n",
       "      <td>1.910244</td>\n",
       "      <td>0</td>\n",
       "    </tr>\n",
       "    <tr>\n",
       "      <th>2</th>\n",
       "      <td>0</td>\n",
       "      <td>1</td>\n",
       "      <td>1</td>\n",
       "      <td>0</td>\n",
       "      <td>1</td>\n",
       "      <td>1</td>\n",
       "      <td>0</td>\n",
       "      <td>28</td>\n",
       "      <td>129.448479</td>\n",
       "      <td>1.0</td>\n",
       "      <td>2</td>\n",
       "      <td>1.859098</td>\n",
       "      <td>1.736502</td>\n",
       "      <td>0</td>\n",
       "    </tr>\n",
       "  </tbody>\n",
       "</table>\n",
       "</div>"
      ],
      "text/plain": [
       "   gender  Near_Location  Partner  Promo_friends  Phone  Contract_period  \\\n",
       "0       1              1        1              1      0                6   \n",
       "1       0              1        0              0      1               12   \n",
       "2       0              1        1              0      1                1   \n",
       "\n",
       "   Group_visits  Age  Avg_additional_charges_total  Month_to_end_contract  \\\n",
       "0             1   29                     14.227470                    5.0   \n",
       "1             1   31                    113.202938                   12.0   \n",
       "2             0   28                    129.448479                    1.0   \n",
       "\n",
       "   Lifetime  Avg_class_frequency_total  Avg_class_frequency_current_month  \\\n",
       "0         3                   0.020398                           0.000000   \n",
       "1         7                   1.922936                           1.910244   \n",
       "2         2                   1.859098                           1.736502   \n",
       "\n",
       "   Churn  \n",
       "0      0  \n",
       "1      0  \n",
       "2      0  "
      ]
     },
     "execution_count": 2,
     "metadata": {},
     "output_type": "execute_result"
    }
   ],
   "source": [
    "df = pd.read_csv('')\n",
    "df.head(3)"
   ]
  },
  {
   "cell_type": "code",
   "execution_count": 3,
   "metadata": {},
   "outputs": [
    {
     "data": {
      "text/plain": [
       "(4000, 14)"
      ]
     },
     "execution_count": 3,
     "metadata": {},
     "output_type": "execute_result"
    }
   ],
   "source": [
    "df.shape"
   ]
  },
  {
   "cell_type": "markdown",
   "metadata": {},
   "source": [
    "Денные включают в себя сведения о 4000 клиентов, содержат 14 столбцов"
   ]
  },
  {
   "cell_type": "code",
   "execution_count": 4,
   "metadata": {
    "scrolled": false
   },
   "outputs": [
    {
     "name": "stdout",
     "output_type": "stream",
     "text": [
      "<class 'pandas.core.frame.DataFrame'>\n",
      "RangeIndex: 4000 entries, 0 to 3999\n",
      "Data columns (total 14 columns):\n",
      " #   Column                             Non-Null Count  Dtype  \n",
      "---  ------                             --------------  -----  \n",
      " 0   gender                             4000 non-null   int64  \n",
      " 1   Near_Location                      4000 non-null   int64  \n",
      " 2   Partner                            4000 non-null   int64  \n",
      " 3   Promo_friends                      4000 non-null   int64  \n",
      " 4   Phone                              4000 non-null   int64  \n",
      " 5   Contract_period                    4000 non-null   int64  \n",
      " 6   Group_visits                       4000 non-null   int64  \n",
      " 7   Age                                4000 non-null   int64  \n",
      " 8   Avg_additional_charges_total       4000 non-null   float64\n",
      " 9   Month_to_end_contract              4000 non-null   float64\n",
      " 10  Lifetime                           4000 non-null   int64  \n",
      " 11  Avg_class_frequency_total          4000 non-null   float64\n",
      " 12  Avg_class_frequency_current_month  4000 non-null   float64\n",
      " 13  Churn                              4000 non-null   int64  \n",
      "dtypes: float64(4), int64(10)\n",
      "memory usage: 437.6 KB\n"
     ]
    }
   ],
   "source": [
    "df.info()"
   ]
  },
  {
   "cell_type": "markdown",
   "metadata": {},
   "source": [
    "В данных нет пропусков. Тип данных целые и вещественные числа. "
   ]
  },
  {
   "cell_type": "markdown",
   "metadata": {},
   "source": [
    "## Проведем исследовательский анализ данных (EDA)\n"
   ]
  },
  {
   "cell_type": "code",
   "execution_count": 5,
   "metadata": {},
   "outputs": [],
   "source": [
    "#поменяем тип данных в столбце с номером месяца на целые числа:\n",
    "\n",
    "df['Month_to_end_contract'] = df['Month_to_end_contract'].astype('int')"
   ]
  },
  {
   "cell_type": "markdown",
   "metadata": {},
   "source": [
    "Проверим какие значения встречаются в столбцах с целыми числами:"
   ]
  },
  {
   "cell_type": "code",
   "execution_count": 6,
   "metadata": {},
   "outputs": [
    {
     "data": {
      "text/plain": [
       "1    2041\n",
       "0    1959\n",
       "Name: gender, dtype: int64"
      ]
     },
     "execution_count": 6,
     "metadata": {},
     "output_type": "execute_result"
    }
   ],
   "source": [
    "df['gender'].value_counts()"
   ]
  },
  {
   "cell_type": "code",
   "execution_count": 7,
   "metadata": {},
   "outputs": [
    {
     "data": {
      "text/plain": [
       "0    2053\n",
       "1    1947\n",
       "Name: Partner, dtype: int64"
      ]
     },
     "execution_count": 7,
     "metadata": {},
     "output_type": "execute_result"
    }
   ],
   "source": [
    "df['Partner'].value_counts()"
   ]
  },
  {
   "cell_type": "code",
   "execution_count": 8,
   "metadata": {},
   "outputs": [
    {
     "data": {
      "text/plain": [
       "0    2766\n",
       "1    1234\n",
       "Name: Promo_friends, dtype: int64"
      ]
     },
     "execution_count": 8,
     "metadata": {},
     "output_type": "execute_result"
    }
   ],
   "source": [
    "df['Promo_friends'].value_counts()"
   ]
  },
  {
   "cell_type": "code",
   "execution_count": 9,
   "metadata": {},
   "outputs": [
    {
     "data": {
      "text/plain": [
       "1    3614\n",
       "0     386\n",
       "Name: Phone, dtype: int64"
      ]
     },
     "execution_count": 9,
     "metadata": {},
     "output_type": "execute_result"
    }
   ],
   "source": [
    "df['Phone'].value_counts()"
   ]
  },
  {
   "cell_type": "code",
   "execution_count": 10,
   "metadata": {},
   "outputs": [
    {
     "data": {
      "text/plain": [
       "1     2207\n",
       "12     960\n",
       "6      833\n",
       "Name: Contract_period, dtype: int64"
      ]
     },
     "execution_count": 10,
     "metadata": {},
     "output_type": "execute_result"
    }
   ],
   "source": [
    "df['Contract_period'].value_counts()"
   ]
  },
  {
   "cell_type": "code",
   "execution_count": 11,
   "metadata": {},
   "outputs": [
    {
     "data": {
      "text/plain": [
       "0    2351\n",
       "1    1649\n",
       "Name: Group_visits, dtype: int64"
      ]
     },
     "execution_count": 11,
     "metadata": {},
     "output_type": "execute_result"
    }
   ],
   "source": [
    "df['Group_visits'].value_counts()"
   ]
  },
  {
   "cell_type": "code",
   "execution_count": 12,
   "metadata": {},
   "outputs": [
    {
     "data": {
      "text/plain": [
       "0    2939\n",
       "1    1061\n",
       "Name: Churn, dtype: int64"
      ]
     },
     "execution_count": 12,
     "metadata": {},
     "output_type": "execute_result"
    }
   ],
   "source": [
    "df['Churn'].value_counts()"
   ]
  },
  {
   "cell_type": "markdown",
   "metadata": {},
   "source": [
    "Отток 1061 человек"
   ]
  },
  {
   "cell_type": "code",
   "execution_count": 13,
   "metadata": {},
   "outputs": [
    {
     "data": {
      "text/plain": [
       "29    468\n",
       "30    457\n",
       "28    447\n",
       "31    434\n",
       "27    378\n",
       "32    364\n",
       "26    300\n",
       "33    253\n",
       "25    231\n",
       "34    174\n",
       "24    148\n",
       "35     98\n",
       "23     82\n",
       "36     48\n",
       "22     33\n",
       "37     29\n",
       "21     24\n",
       "20     14\n",
       "38     10\n",
       "39      3\n",
       "18      2\n",
       "19      2\n",
       "41      1\n",
       "Name: Age, dtype: int64"
      ]
     },
     "execution_count": 13,
     "metadata": {},
     "output_type": "execute_result"
    }
   ],
   "source": [
    "df['Age'].value_counts()"
   ]
  },
  {
   "cell_type": "code",
   "execution_count": 14,
   "metadata": {},
   "outputs": [
    {
     "data": {
      "image/png": "[encoded data removed]",
      "text/plain": [
       "<Figure size 432x288 with 1 Axes>"
      ]
     },
     "metadata": {
      "needs_background": "light"
     },
     "output_type": "display_data"
    }
   ],
   "source": [
    "df['Age'].hist(bins=30)\n",
    "plt.title('возраст')\n",
    "plt.xlabel('возраст, лет')\n",
    "plt.ylabel('Количество клиентов')\n",
    "plt.show()"
   ]
  },
  {
   "cell_type": "markdown",
   "metadata": {},
   "source": [
    "Средний возраст клиентов 30 лет"
   ]
  },
  {
   "cell_type": "code",
   "execution_count": 15,
   "metadata": {},
   "outputs": [
    {
     "data": {
      "text/plain": [
       "1     2207\n",
       "6      645\n",
       "12     524\n",
       "11     181\n",
       "5      130\n",
       "10      82\n",
       "9       73\n",
       "4       58\n",
       "8       38\n",
       "7       25\n",
       "3       23\n",
       "2       14\n",
       "Name: Month_to_end_contract, dtype: int64"
      ]
     },
     "execution_count": 15,
     "metadata": {},
     "output_type": "execute_result"
    }
   ],
   "source": [
    "df['Month_to_end_contract'].value_counts()"
   ]
  },
  {
   "cell_type": "code",
   "execution_count": 16,
   "metadata": {},
   "outputs": [
    {
     "data": {
      "image/png": "[encoded data removed]",
      "text/plain": [
       "<Figure size 432x288 with 1 Axes>"
      ]
     },
     "metadata": {
      "needs_background": "light"
     },
     "output_type": "display_data"
    }
   ],
   "source": [
    "df['Month_to_end_contract'].hist(bins=30)\n",
    "plt.title('Срок до окончания абонемента')\n",
    "plt.xlabel('Количество месяцев')\n",
    "plt.ylabel('Количество клиентов')\n",
    "plt.show()"
   ]
  },
  {
   "cell_type": "markdown",
   "metadata": {},
   "source": [
    "Большинство клиентов с картой на месяц"
   ]
  },
  {
   "cell_type": "code",
   "execution_count": 17,
   "metadata": {},
   "outputs": [
    {
     "data": {
      "text/plain": [
       "1     843\n",
       "2     610\n",
       "3     490\n",
       "0     487\n",
       "4     383\n",
       "5     273\n",
       "6     220\n",
       "7     167\n",
       "8     111\n",
       "9     100\n",
       "10     76\n",
       "12     53\n",
       "11     48\n",
       "13     28\n",
       "15     24\n",
       "14     24\n",
       "16     15\n",
       "17     11\n",
       "19      7\n",
       "18      7\n",
       "20      7\n",
       "21      5\n",
       "26      2\n",
       "24      2\n",
       "22      2\n",
       "23      2\n",
       "27      1\n",
       "29      1\n",
       "31      1\n",
       "Name: Lifetime, dtype: int64"
      ]
     },
     "execution_count": 17,
     "metadata": {},
     "output_type": "execute_result"
    }
   ],
   "source": [
    "df['Lifetime'].value_counts()"
   ]
  },
  {
   "cell_type": "code",
   "execution_count": 18,
   "metadata": {},
   "outputs": [
    {
     "data": {
      "image/png": "[encoded data removed]",
      "text/plain": [
       "<Figure size 432x288 with 1 Axes>"
      ]
     },
     "metadata": {
      "needs_background": "light"
     },
     "output_type": "display_data"
    }
   ],
   "source": [
    "df['Lifetime'].hist(bins=30)\n",
    "plt.title('время с момента первого обращения в фитнес-центр')\n",
    "plt.xlabel('Количество месяцев')\n",
    "plt.ylabel('Количество клиентов')\n",
    "plt.show()"
   ]
  },
  {
   "cell_type": "markdown",
   "metadata": {},
   "source": [
    "Большенство новых клиентов"
   ]
  },
  {
   "cell_type": "markdown",
   "metadata": {},
   "source": [
    "Проверим какие значения встречаются в столбцах с вещественными числами:"
   ]
  },
  {
   "cell_type": "code",
   "execution_count": 19,
   "metadata": {},
   "outputs": [
    {
     "data": {
      "image/png": "[encoded data removed]",
      "text/plain": [
       "<Figure size 432x288 with 1 Axes>"
      ]
     },
     "metadata": {
      "needs_background": "light"
     },
     "output_type": "display_data"
    }
   ],
   "source": [
    "df['Avg_additional_charges_total'].hist(bins=30)\n",
    "plt.title('Суммарная выручка от других услуг фитнес-центра')\n",
    "plt.xlabel('Выручка, тыс.')\n",
    "plt.ylabel('Количество клиентов')\n",
    "plt.show()"
   ]
  },
  {
   "cell_type": "markdown",
   "metadata": {},
   "source": [
    "Некоторые клиенты потратили 500 000 на дополнительные услуги, скорее всего это те что посещают зал уже долгое время."
   ]
  },
  {
   "cell_type": "code",
   "execution_count": 20,
   "metadata": {},
   "outputs": [
    {
     "data": {
      "image/png": "[encoded data removed]",
      "text/plain": [
       "<Figure size 432x288 with 1 Axes>"
      ]
     },
     "metadata": {
      "needs_background": "light"
     },
     "output_type": "display_data"
    }
   ],
   "source": [
    "df['Avg_class_frequency_total'].hist(bins=30)\n",
    "plt.title('Средняя частота посещений в неделю за все время')\n",
    "plt.xlabel('Количество посещений')\n",
    "plt.ylabel('Количество клиентов')\n",
    "plt.show()"
   ]
  },
  {
   "cell_type": "markdown",
   "metadata": {},
   "source": [
    "На графиках не видно особых выбросов. В основном клиеты посещали зал 1-2 раза. "
   ]
  },
  {
   "cell_type": "code",
   "execution_count": 21,
   "metadata": {},
   "outputs": [
    {
     "data": {
      "image/png": "[encoded data removed]",
      "text/plain": [
       "<Figure size 432x288 with 1 Axes>"
      ]
     },
     "metadata": {
      "needs_background": "light"
     },
     "output_type": "display_data"
    }
   ],
   "source": [
    "df['Avg_class_frequency_current_month'].hist(bins=30)\n",
    "plt.title('Средняя частота посещений в неделю за предыдущий месяц')\n",
    "plt.xlabel('Количество посещений')\n",
    "plt.ylabel('Количество клиентов')\n",
    "plt.show()"
   ]
  },
  {
   "cell_type": "markdown",
   "metadata": {},
   "source": [
    "На графиках не видно особых выбросов. В последнем месяце большое количество клиентов уже не посещали зал. "
   ]
  },
  {
   "cell_type": "code",
   "execution_count": 22,
   "metadata": {},
   "outputs": [
    {
     "data": {
      "text/html": [
       "<div>\n",
       "<style scoped>\n",
       "    .dataframe tbody tr th:only-of-type {\n",
       "        vertical-align: middle;\n",
       "    }\n",
       "\n",
       "    .dataframe tbody tr th {\n",
       "        vertical-align: top;\n",
       "    }\n",
       "\n",
       "    .dataframe thead th {\n",
       "        text-align: right;\n",
       "    }\n",
       "</style>\n",
       "<table border=\"1\" class=\"dataframe\">\n",
       "  <thead>\n",
       "    <tr style=\"text-align: right;\">\n",
       "      <th></th>\n",
       "      <th>Avg_additional_charges_total</th>\n",
       "      <th>Avg_class_frequency_total</th>\n",
       "      <th>Avg_class_frequency_current_month</th>\n",
       "    </tr>\n",
       "  </thead>\n",
       "  <tbody>\n",
       "    <tr>\n",
       "      <th>count</th>\n",
       "      <td>4000.000000</td>\n",
       "      <td>4000.000000</td>\n",
       "      <td>4000.000000</td>\n",
       "    </tr>\n",
       "    <tr>\n",
       "      <th>mean</th>\n",
       "      <td>146.943728</td>\n",
       "      <td>1.879020</td>\n",
       "      <td>1.767052</td>\n",
       "    </tr>\n",
       "    <tr>\n",
       "      <th>std</th>\n",
       "      <td>96.355602</td>\n",
       "      <td>0.972245</td>\n",
       "      <td>1.052906</td>\n",
       "    </tr>\n",
       "    <tr>\n",
       "      <th>min</th>\n",
       "      <td>0.148205</td>\n",
       "      <td>0.000000</td>\n",
       "      <td>0.000000</td>\n",
       "    </tr>\n",
       "    <tr>\n",
       "      <th>25%</th>\n",
       "      <td>68.868830</td>\n",
       "      <td>1.180875</td>\n",
       "      <td>0.963003</td>\n",
       "    </tr>\n",
       "    <tr>\n",
       "      <th>50%</th>\n",
       "      <td>136.220159</td>\n",
       "      <td>1.832768</td>\n",
       "      <td>1.719574</td>\n",
       "    </tr>\n",
       "    <tr>\n",
       "      <th>75%</th>\n",
       "      <td>210.949625</td>\n",
       "      <td>2.536078</td>\n",
       "      <td>2.510336</td>\n",
       "    </tr>\n",
       "    <tr>\n",
       "      <th>max</th>\n",
       "      <td>552.590740</td>\n",
       "      <td>6.023668</td>\n",
       "      <td>6.146783</td>\n",
       "    </tr>\n",
       "  </tbody>\n",
       "</table>\n",
       "</div>"
      ],
      "text/plain": [
       "       Avg_additional_charges_total  Avg_class_frequency_total  \\\n",
       "count                   4000.000000                4000.000000   \n",
       "mean                     146.943728                   1.879020   \n",
       "std                       96.355602                   0.972245   \n",
       "min                        0.148205                   0.000000   \n",
       "25%                       68.868830                   1.180875   \n",
       "50%                      136.220159                   1.832768   \n",
       "75%                      210.949625                   2.536078   \n",
       "max                      552.590740                   6.023668   \n",
       "\n",
       "       Avg_class_frequency_current_month  \n",
       "count                        4000.000000  \n",
       "mean                            1.767052  \n",
       "std                             1.052906  \n",
       "min                             0.000000  \n",
       "25%                             0.963003  \n",
       "50%                             1.719574  \n",
       "75%                             2.510336  \n",
       "max                             6.146783  "
      ]
     },
     "execution_count": 22,
     "metadata": {},
     "output_type": "execute_result"
    }
   ],
   "source": [
    "#посмотрим средние значения и стандартные отклонения:\n",
    "df.describe(include=[float])"
   ]
  },
  {
   "cell_type": "markdown",
   "metadata": {},
   "source": [
    "По таблице видно что разницы между средней и медианой почти нет. Но в столбце с суммарной выручкой и частотой посещений за весь период, существует большая разница между средней и стандартным отклонением. Что говорит нам о налии выбросов. \n",
    "\n",
    "Выбросы удалять не будим, так как клиенты, которые потратили 500 000 на дополнительные услуги, скорее всего это те что посещают зал уже долгое время, около 3 лет, за такое время возможно потратить большую сумму на доп услуги. "
   ]
  },
  {
   "cell_type": "code",
   "execution_count": 23,
   "metadata": {},
   "outputs": [
    {
     "data": {
      "text/html": [
       "<div>\n",
       "<style scoped>\n",
       "    .dataframe tbody tr th:only-of-type {\n",
       "        vertical-align: middle;\n",
       "    }\n",
       "\n",
       "    .dataframe tbody tr th {\n",
       "        vertical-align: top;\n",
       "    }\n",
       "\n",
       "    .dataframe thead th {\n",
       "        text-align: right;\n",
       "    }\n",
       "</style>\n",
       "<table border=\"1\" class=\"dataframe\">\n",
       "  <thead>\n",
       "    <tr style=\"text-align: right;\">\n",
       "      <th></th>\n",
       "      <th>gender</th>\n",
       "      <th>Near_Location</th>\n",
       "      <th>Partner</th>\n",
       "      <th>Promo_friends</th>\n",
       "      <th>Phone</th>\n",
       "      <th>Contract_period</th>\n",
       "      <th>Group_visits</th>\n",
       "      <th>Age</th>\n",
       "      <th>Avg_additional_charges_total</th>\n",
       "      <th>Month_to_end_contract</th>\n",
       "      <th>Lifetime</th>\n",
       "      <th>Avg_class_frequency_total</th>\n",
       "      <th>Avg_class_frequency_current_month</th>\n",
       "    </tr>\n",
       "    <tr>\n",
       "      <th>Churn</th>\n",
       "      <th></th>\n",
       "      <th></th>\n",
       "      <th></th>\n",
       "      <th></th>\n",
       "      <th></th>\n",
       "      <th></th>\n",
       "      <th></th>\n",
       "      <th></th>\n",
       "      <th></th>\n",
       "      <th></th>\n",
       "      <th></th>\n",
       "      <th></th>\n",
       "      <th></th>\n",
       "    </tr>\n",
       "  </thead>\n",
       "  <tbody>\n",
       "    <tr>\n",
       "      <th>0</th>\n",
       "      <td>0.510037</td>\n",
       "      <td>0.873086</td>\n",
       "      <td>0.534195</td>\n",
       "      <td>0.353522</td>\n",
       "      <td>0.903709</td>\n",
       "      <td>5.747193</td>\n",
       "      <td>0.464103</td>\n",
       "      <td>29.976523</td>\n",
       "      <td>158.445715</td>\n",
       "      <td>5.283089</td>\n",
       "      <td>4.711807</td>\n",
       "      <td>2.024876</td>\n",
       "      <td>2.027882</td>\n",
       "    </tr>\n",
       "    <tr>\n",
       "      <th>1</th>\n",
       "      <td>0.510839</td>\n",
       "      <td>0.768143</td>\n",
       "      <td>0.355325</td>\n",
       "      <td>0.183789</td>\n",
       "      <td>0.902922</td>\n",
       "      <td>1.728558</td>\n",
       "      <td>0.268615</td>\n",
       "      <td>26.989632</td>\n",
       "      <td>115.082899</td>\n",
       "      <td>1.662582</td>\n",
       "      <td>0.990575</td>\n",
       "      <td>1.474995</td>\n",
       "      <td>1.044546</td>\n",
       "    </tr>\n",
       "  </tbody>\n",
       "</table>\n",
       "</div>"
      ],
      "text/plain": [
       "         gender  Near_Location   Partner  Promo_friends     Phone  \\\n",
       "Churn                                                               \n",
       "0      0.510037       0.873086  0.534195       0.353522  0.903709   \n",
       "1      0.510839       0.768143  0.355325       0.183789  0.902922   \n",
       "\n",
       "       Contract_period  Group_visits        Age  Avg_additional_charges_total  \\\n",
       "Churn                                                                           \n",
       "0             5.747193      0.464103  29.976523                    158.445715   \n",
       "1             1.728558      0.268615  26.989632                    115.082899   \n",
       "\n",
       "       Month_to_end_contract  Lifetime  Avg_class_frequency_total  \\\n",
       "Churn                                                               \n",
       "0                   5.283089  4.711807                   2.024876   \n",
       "1                   1.662582  0.990575                   1.474995   \n",
       "\n",
       "       Avg_class_frequency_current_month  \n",
       "Churn                                     \n",
       "0                               2.027882  \n",
       "1                               1.044546  "
      ]
     },
     "execution_count": 23,
     "metadata": {},
     "output_type": "execute_result"
    }
   ],
   "source": [
    "#посмотрим на средние значения признаков в двух группах — тех, кто ушел и тех, кто остался\n",
    "avg = df.groupby('Churn').mean()\n",
    "avg"
   ]
  },
  {
   "cell_type": "markdown",
   "metadata": {},
   "source": [
    "В таблице видно что ушло больше клиентов, у которых контракт скоро заканчивается, также это в основном новые клиенты. Посмотрим эти распределения на графиках."
   ]
  },
  {
   "cell_type": "code",
   "execution_count": 24,
   "metadata": {
    "scrolled": false
   },
   "outputs": [
    {
     "data": {
      "image/png": "[encoded data removed]",
      "text/plain": [
       "<Figure size 432x288 with 1 Axes>"
      ]
     },
     "metadata": {
      "needs_background": "light"
     },
     "output_type": "display_data"
    },
    {
     "data": {
      "image/png": "[encoded data removed]",
      "text/plain": [
       "<Figure size 432x288 with 1 Axes>"
      ]
     },
     "metadata": {
      "needs_background": "light"
     },
     "output_type": "display_data"
    },
    {
     "data": {
      "image/png": "[encoded data removed]",
      "text/plain": [
       "<Figure size 432x288 with 1 Axes>"
      ]
     },
     "metadata": {
      "needs_background": "light"
     },
     "output_type": "display_data"
    },
    {
     "data": {
      "image/png": "[encoded data removed]",
      "text/plain": [
       "<Figure size 432x288 with 1 Axes>"
      ]
     },
     "metadata": {
      "needs_background": "light"
     },
     "output_type": "display_data"
    },
    {
     "data": {
      "image/png": "[encoded data removed]",
      "text/plain": [
       "<Figure size 432x288 with 1 Axes>"
      ]
     },
     "metadata": {
      "needs_background": "light"
     },
     "output_type": "display_data"
    },
    {
     "data": {
      "image/png": "[encoded data removed]",
      "text/plain": [
       "<Figure size 432x288 with 1 Axes>"
      ]
     },
     "metadata": {
      "needs_background": "light"
     },
     "output_type": "display_data"
    },
    {
     "data": {
      "image/png": "[encoded data removed]",
      "text/plain": [
       "<Figure size 432x288 with 1 Axes>"
      ]
     },
     "metadata": {
      "needs_background": "light"
     },
     "output_type": "display_data"
    },
    {
     "data": {
      "image/png": "[encoded data removed]",
      "text/plain": [
       "<Figure size 432x288 with 1 Axes>"
      ]
     },
     "metadata": {
      "needs_background": "light"
     },
     "output_type": "display_data"
    }
   ],
   "source": [
    "#берем только категориальные и бинарные признаки, и исключаем целевую переменную:\n",
    "cols = [col for col in df.columns if col != 'Churn' and df[col].nunique() < 13]\n",
    "\n",
    "#построим попарные столбчатые гистограммы признак-целевая переменная для каждого признака\n",
    "for col in cols:\n",
    "    dist = (df.groupby(['Churn', col])\n",
    "                .size()\n",
    "                .groupby(level=0)\n",
    "                .apply(lambda x: x / x.sum())\n",
    "                .reset_index(name='доля'))\n",
    "\n",
    "    plt.figure(figsize=(6,4))\n",
    "    sns.barplot(data = dist, x=col, y='доля', hue='Churn')\n",
    "    plt.title(f'Распределение по признаку: {col}')\n",
    "    plt.show()"
   ]
  },
  {
   "cell_type": "markdown",
   "metadata": {},
   "source": [
    "По графикам видно что пол, наличие телефона, локация, не сильно влияют на решение уйти. А вот сотрудник компании-партнёра клуба меньше бросают клуб. Сильно влияют факторы период контракта и сколько месяцев до его оканчания. "
   ]
  },
  {
   "cell_type": "code",
   "execution_count": 25,
   "metadata": {},
   "outputs": [
    {
     "data": {
      "image/png": "[encoded data removed]",
      "text/plain": [
       "<Figure size 432x288 with 1 Axes>"
      ]
     },
     "metadata": {
      "needs_background": "light"
     },
     "output_type": "display_data"
    },
    {
     "data": {
      "image/png": "[encoded data removed]",
      "text/plain": [
       "<Figure size 432x288 with 1 Axes>"
      ]
     },
     "metadata": {
      "needs_background": "light"
     },
     "output_type": "display_data"
    },
    {
     "data": {
      "image/png": "[encoded data removed]",
      "text/plain": [
       "<Figure size 432x288 with 1 Axes>"
      ]
     },
     "metadata": {
      "needs_background": "light"
     },
     "output_type": "display_data"
    },
    {
     "data": {
      "image/png": "[encoded data removed]",
      "text/plain": [
       "<Figure size 432x288 with 1 Axes>"
      ]
     },
     "metadata": {
      "needs_background": "light"
     },
     "output_type": "display_data"
    },
    {
     "data": {
      "image/png": "[encoded data removed]",
      "text/plain": [
       "<Figure size 432x288 with 1 Axes>"
      ]
     },
     "metadata": {
      "needs_background": "light"
     },
     "output_type": "display_data"
    }
   ],
   "source": [
    "#берем только числовые признаки, и исключаем целевую переменную:\n",
    "num_cols = [col for col in df.columns if col != 'Churn' and df[col].nunique() >= 13]\n",
    "\n",
    "#построим попарные столбчатые гистограммы признак-целевая переменная для каждого признака\n",
    "for col in num_cols:\n",
    "    plt.figure(figsize=(6,4))\n",
    "    sns.histplot(data = df, x=col, hue='Churn')\n",
    "    plt.title(f'Распределение числового признака: {col}')\n",
    "    plt.xlabel(col)\n",
    "    plt.ylabel('Плотность')\n",
    "    plt.show()"
   ]
  },
  {
   "cell_type": "markdown",
   "metadata": {},
   "source": [
    "По этим графикам видно что покидают клуб люди которые моложе, которые только пришли в клуб. Также те который его посещали 1-2 раза в месяц, и те кто последний месяц не посещали совсем."
   ]
  },
  {
   "cell_type": "code",
   "execution_count": 26,
   "metadata": {},
   "outputs": [],
   "source": [
    "#вычисляем матрицу корреляций\n",
    "cm = df.corr() "
   ]
  },
  {
   "cell_type": "code",
   "execution_count": 27,
   "metadata": {},
   "outputs": [
    {
     "data": {
      "image/png": "[encoded data removed]",
      "text/plain": [
       "<Figure size 720x576 with 2 Axes>"
      ]
     },
     "metadata": {
      "needs_background": "light"
     },
     "output_type": "display_data"
    }
   ],
   "source": [
    "#нарисуем тепловую карту с подписями для матрицы корреляций\n",
    "plt.figure(figsize=(10,8))\n",
    "sns.heatmap(cm, annot=True, square=True) \n",
    "plt.title('Матрица корреляций признаков')\n",
    "plt.show()"
   ]
  },
  {
   "cell_type": "markdown",
   "metadata": {},
   "source": [
    "Исходя из матрицы корреляций можно сказать что есть несколько признаков которые сильно коррелируют с другими:\n",
    "\n",
    "- 'Month_to_end_contract' -  сильно коррелирует сразу с двумя признаками, 'Lifetime' и 'Contract_period'\n",
    "\n",
    "\n",
    "- 'Avg_class_frequency_total' и 'Avg_class_frequency_current_month' также сильно коррелируют. Оставим среднюю частоту посещений в неделю за последний месяц, а за все время удалим."
   ]
  },
  {
   "cell_type": "code",
   "execution_count": 28,
   "metadata": {},
   "outputs": [
    {
     "data": {
      "text/html": [
       "<div>\n",
       "<style scoped>\n",
       "    .dataframe tbody tr th:only-of-type {\n",
       "        vertical-align: middle;\n",
       "    }\n",
       "\n",
       "    .dataframe tbody tr th {\n",
       "        vertical-align: top;\n",
       "    }\n",
       "\n",
       "    .dataframe thead th {\n",
       "        text-align: right;\n",
       "    }\n",
       "</style>\n",
       "<table border=\"1\" class=\"dataframe\">\n",
       "  <thead>\n",
       "    <tr style=\"text-align: right;\">\n",
       "      <th></th>\n",
       "      <th>gender</th>\n",
       "      <th>Near_Location</th>\n",
       "      <th>Partner</th>\n",
       "      <th>Promo_friends</th>\n",
       "      <th>Phone</th>\n",
       "      <th>Contract_period</th>\n",
       "      <th>Group_visits</th>\n",
       "      <th>Age</th>\n",
       "      <th>Avg_additional_charges_total</th>\n",
       "      <th>Lifetime</th>\n",
       "      <th>Avg_class_frequency_current_month</th>\n",
       "      <th>Churn</th>\n",
       "    </tr>\n",
       "  </thead>\n",
       "  <tbody>\n",
       "    <tr>\n",
       "      <th>0</th>\n",
       "      <td>1</td>\n",
       "      <td>1</td>\n",
       "      <td>1</td>\n",
       "      <td>1</td>\n",
       "      <td>0</td>\n",
       "      <td>6</td>\n",
       "      <td>1</td>\n",
       "      <td>29</td>\n",
       "      <td>14.227470</td>\n",
       "      <td>3</td>\n",
       "      <td>0.000000</td>\n",
       "      <td>0</td>\n",
       "    </tr>\n",
       "    <tr>\n",
       "      <th>1</th>\n",
       "      <td>0</td>\n",
       "      <td>1</td>\n",
       "      <td>0</td>\n",
       "      <td>0</td>\n",
       "      <td>1</td>\n",
       "      <td>12</td>\n",
       "      <td>1</td>\n",
       "      <td>31</td>\n",
       "      <td>113.202938</td>\n",
       "      <td>7</td>\n",
       "      <td>1.910244</td>\n",
       "      <td>0</td>\n",
       "    </tr>\n",
       "    <tr>\n",
       "      <th>2</th>\n",
       "      <td>0</td>\n",
       "      <td>1</td>\n",
       "      <td>1</td>\n",
       "      <td>0</td>\n",
       "      <td>1</td>\n",
       "      <td>1</td>\n",
       "      <td>0</td>\n",
       "      <td>28</td>\n",
       "      <td>129.448479</td>\n",
       "      <td>2</td>\n",
       "      <td>1.736502</td>\n",
       "      <td>0</td>\n",
       "    </tr>\n",
       "  </tbody>\n",
       "</table>\n",
       "</div>"
      ],
      "text/plain": [
       "   gender  Near_Location  Partner  Promo_friends  Phone  Contract_period  \\\n",
       "0       1              1        1              1      0                6   \n",
       "1       0              1        0              0      1               12   \n",
       "2       0              1        1              0      1                1   \n",
       "\n",
       "   Group_visits  Age  Avg_additional_charges_total  Lifetime  \\\n",
       "0             1   29                     14.227470         3   \n",
       "1             1   31                    113.202938         7   \n",
       "2             0   28                    129.448479         2   \n",
       "\n",
       "   Avg_class_frequency_current_month  Churn  \n",
       "0                           0.000000      0  \n",
       "1                           1.910244      0  \n",
       "2                           1.736502      0  "
      ]
     },
     "execution_count": 28,
     "metadata": {},
     "output_type": "execute_result"
    }
   ],
   "source": [
    "df = df.drop(columns=['Month_to_end_contract', 'Avg_class_frequency_total'])\n",
    "df.head(3)"
   ]
  },
  {
   "cell_type": "markdown",
   "metadata": {},
   "source": [
    "## Построим модель прогнозирования оттока клиентов"
   ]
  },
  {
   "cell_type": "code",
   "execution_count": 29,
   "metadata": {},
   "outputs": [],
   "source": [
    "#разделим данные на признаки (матрица X) и целевую переменную (y)\n",
    "X = df.drop(['Churn'], axis=1)\n",
    "y = df['Churn']"
   ]
  },
  {
   "cell_type": "code",
   "execution_count": 30,
   "metadata": {},
   "outputs": [],
   "source": [
    "#разделим модель на обучающую и валидационную выборки\n",
    "X_train, X_test, y_train, y_test = train_test_split(X, y, test_size = 0.2, random_state = 0)"
   ]
  },
  {
   "cell_type": "code",
   "execution_count": 31,
   "metadata": {},
   "outputs": [],
   "source": [
    "# зададим алгоритм логистической регрессией для нашей модели\n",
    "model_lr = LogisticRegression(solver='liblinear')\n",
    "\n",
    "# обучим модель\n",
    "model_lr.fit(X_train,y_train)\n",
    "\n",
    "# воспользуемся уже обученной моделью, чтобы сделать прогнозы\n",
    "predictions_lr = model_lr.predict(X_test)\n"
   ]
  },
  {
   "cell_type": "code",
   "execution_count": 32,
   "metadata": {},
   "outputs": [],
   "source": [
    "# зададим алгоритм случайный лес для нашей модели\n",
    "model_rf = RandomForestClassifier(n_estimators = 100, random_state = 0)\n",
    "\n",
    "# обучим модель\n",
    "model_rf.fit(X_train,y_train)\n",
    "\n",
    "# воспользуемся уже обученной моделью, чтобы сделать прогнозы\n",
    "predictions_rf = model_rf.predict(X_test)\n"
   ]
  },
  {
   "cell_type": "code",
   "execution_count": 33,
   "metadata": {},
   "outputs": [
    {
     "data": {
      "text/plain": [
       "{'Accuracy': 0.89625,\n",
       " 'Precision': 0.7918781725888325,\n",
       " 'Recall': 0.7878787878787878}"
      ]
     },
     "execution_count": 33,
     "metadata": {},
     "output_type": "execute_result"
    }
   ],
   "source": [
    "#подсчет метрик:\n",
    "def get_metrics(y_true, y_pred):\n",
    "    return{'Accuracy': accuracy_score(y_true, y_pred),\n",
    "           'Precision': precision_score(y_true, y_pred),\n",
    "           'Recall': recall_score(y_true, y_pred)}\n",
    "\n",
    "metrics_lr = get_metrics(y_test, predictions_lr)\n",
    "metrics_lr"
   ]
  },
  {
   "cell_type": "code",
   "execution_count": 34,
   "metadata": {},
   "outputs": [
    {
     "data": {
      "text/plain": [
       "{'Accuracy': 0.89625,\n",
       " 'Precision': 0.8142076502732241,\n",
       " 'Recall': 0.7525252525252525}"
      ]
     },
     "execution_count": 34,
     "metadata": {},
     "output_type": "execute_result"
    }
   ],
   "source": [
    "metrics_rf = get_metrics(y_test, predictions_rf)\n",
    "metrics_rf"
   ]
  },
  {
   "cell_type": "markdown",
   "metadata": {},
   "source": [
    "Что это значит:\n",
    "\n",
    "\t•\tAccuracy одинаковый — это уже говорит, что “в среднем” модели одинаково угадывают.\n",
    "\t•\tPrecision выше у случайного леса (0.81) — он чаще прав, когда говорит, что клиент уйдёт.\n",
    "\t•\tRecall выше у логистической регрессии (0.78) — она находит больше реально ушедших клиентов.\n",
    "\n"
   ]
  },
  {
   "cell_type": "markdown",
   "metadata": {},
   "source": [
    "Как выбрать модель:\n",
    "\n",
    "Зависит от цели задачи:\n",
    "\n",
    "1. Если важно не упустить ушедших клиентов (Recall)\n",
    "\n",
    "Например: ты хочешь делать акции для удержания,лучше выбрать логистическую регрессию, потому что она находит больше ушедших.\n",
    "\n",
    "2. Если важно не тратить ресурсы на “ложные тревоги” (Precision)\n",
    "\n",
    "Например: каждая акция — это затраты, и тебе важно не “спасать” тех, кто и так не уйдёт, лучше случайный лес, он делает меньше ложных срабатываний."
   ]
  },
  {
   "cell_type": "markdown",
   "metadata": {},
   "source": [
    "__Поставим в задачу клуба не упустить ушедших клиентов, следовательно нужно выбрать модель логистической регрессии, поскольку она показала лучшую способность выявлять действительно ушедших клиентов (высокая recall/чувствительность).__"
   ]
  },
  {
   "cell_type": "markdown",
   "metadata": {},
   "source": [
    "## Сделаем кластеризацию клиентов"
   ]
  },
  {
   "cell_type": "markdown",
   "metadata": {},
   "source": [
    "Проведем кластеризацию объектов (клиентов):"
   ]
  },
  {
   "cell_type": "code",
   "execution_count": 36,
   "metadata": {},
   "outputs": [],
   "source": [
    "df_cluster = df.drop(columns=['Churn'])"
   ]
  },
  {
   "cell_type": "code",
   "execution_count": 37,
   "metadata": {},
   "outputs": [],
   "source": [
    "#стандартизуруем признаки:\n",
    "scaler = StandardScaler()\n",
    "X_sc = scaler.fit_transform(df_cluster) "
   ]
  },
  {
   "cell_type": "code",
   "execution_count": 38,
   "metadata": {},
   "outputs": [],
   "source": [
    "#построим матрицу расстояний:\n",
    "linked = linkage(X_sc, method = 'ward') "
   ]
  },
  {
   "cell_type": "code",
   "execution_count": 39,
   "metadata": {},
   "outputs": [
    {
     "data": {
      "image/png": "[encoded data removed]",
      "text/plain": [
       "<Figure size 1080x720 with 1 Axes>"
      ]
     },
     "metadata": {
      "needs_background": "light"
     },
     "output_type": "display_data"
    }
   ],
   "source": [
    "#визуализируем дендрограмму:\n",
    "plt.figure(figsize=(15, 10))  \n",
    "dendrogram(linked, orientation='top')\n",
    "plt.title('Дендрограмма')\n",
    "plt.xlabel('Кластеры и объекты')\n",
    "plt.ylabel('Расстояние между кластерами')\n",
    "\n",
    "plt.show() "
   ]
  },
  {
   "cell_type": "markdown",
   "metadata": {},
   "source": [
    "Обучим модель кластеризации на основании алгоритма K-Means и спрогнозируйте кластеры клиентов. "
   ]
  },
  {
   "cell_type": "code",
   "execution_count": 40,
   "metadata": {},
   "outputs": [],
   "source": [
    "# задаём модель k_means с числом кластеров 5 \n",
    "km = KMeans(n_clusters=5, random_state=0)\n",
    "km.fit(X_sc)\n",
    "\n",
    "# прогнозируем кластеры для наблюдений (алгоритм присваивает им номера от 0 до 4)\n",
    "labels =  km.fit_predict(X_sc)\n",
    "\n",
    "# сохраняем метки кластера в поле нашего датасета\n",
    "df['cluster_km'] = labels\n"
   ]
  },
  {
   "cell_type": "markdown",
   "metadata": {},
   "source": [
    "Посмотрим на средние значения признаков для кластеров. "
   ]
  },
  {
   "cell_type": "code",
   "execution_count": 41,
   "metadata": {},
   "outputs": [
    {
     "data": {
      "text/html": [
       "<div>\n",
       "<style scoped>\n",
       "    .dataframe tbody tr th:only-of-type {\n",
       "        vertical-align: middle;\n",
       "    }\n",
       "\n",
       "    .dataframe tbody tr th {\n",
       "        vertical-align: top;\n",
       "    }\n",
       "\n",
       "    .dataframe thead th {\n",
       "        text-align: right;\n",
       "    }\n",
       "</style>\n",
       "<table border=\"1\" class=\"dataframe\">\n",
       "  <thead>\n",
       "    <tr style=\"text-align: right;\">\n",
       "      <th></th>\n",
       "      <th>cluster_km</th>\n",
       "      <th>gender</th>\n",
       "      <th>Near_Location</th>\n",
       "      <th>Partner</th>\n",
       "      <th>Promo_friends</th>\n",
       "      <th>Phone</th>\n",
       "      <th>Contract_period</th>\n",
       "      <th>Group_visits</th>\n",
       "      <th>Age</th>\n",
       "      <th>Avg_additional_charges_total</th>\n",
       "      <th>Lifetime</th>\n",
       "      <th>Avg_class_frequency_current_month</th>\n",
       "      <th>Churn</th>\n",
       "    </tr>\n",
       "  </thead>\n",
       "  <tbody>\n",
       "    <tr>\n",
       "      <th>0</th>\n",
       "      <td>0</td>\n",
       "      <td>0.496447</td>\n",
       "      <td>0.995939</td>\n",
       "      <td>0.892386</td>\n",
       "      <td>1.000000</td>\n",
       "      <td>1.0</td>\n",
       "      <td>6.922843</td>\n",
       "      <td>0.524873</td>\n",
       "      <td>29.606091</td>\n",
       "      <td>153.424651</td>\n",
       "      <td>4.283249</td>\n",
       "      <td>1.919520</td>\n",
       "      <td>0.119797</td>\n",
       "    </tr>\n",
       "    <tr>\n",
       "      <th>1</th>\n",
       "      <td>1</td>\n",
       "      <td>0.500000</td>\n",
       "      <td>0.000000</td>\n",
       "      <td>0.489247</td>\n",
       "      <td>0.078853</td>\n",
       "      <td>1.0</td>\n",
       "      <td>2.994624</td>\n",
       "      <td>0.232975</td>\n",
       "      <td>28.679211</td>\n",
       "      <td>137.125763</td>\n",
       "      <td>2.974910</td>\n",
       "      <td>1.597146</td>\n",
       "      <td>0.403226</td>\n",
       "    </tr>\n",
       "    <tr>\n",
       "      <th>2</th>\n",
       "      <td>2</td>\n",
       "      <td>0.500940</td>\n",
       "      <td>1.000000</td>\n",
       "      <td>0.217105</td>\n",
       "      <td>0.072368</td>\n",
       "      <td>1.0</td>\n",
       "      <td>2.010338</td>\n",
       "      <td>0.277256</td>\n",
       "      <td>27.583647</td>\n",
       "      <td>119.339956</td>\n",
       "      <td>1.922932</td>\n",
       "      <td>1.203319</td>\n",
       "      <td>0.563910</td>\n",
       "    </tr>\n",
       "    <tr>\n",
       "      <th>3</th>\n",
       "      <td>3</td>\n",
       "      <td>0.534260</td>\n",
       "      <td>0.996028</td>\n",
       "      <td>0.379345</td>\n",
       "      <td>0.009930</td>\n",
       "      <td>1.0</td>\n",
       "      <td>6.208540</td>\n",
       "      <td>0.538232</td>\n",
       "      <td>30.699106</td>\n",
       "      <td>176.259567</td>\n",
       "      <td>5.415094</td>\n",
       "      <td>2.324220</td>\n",
       "      <td>0.014896</td>\n",
       "    </tr>\n",
       "    <tr>\n",
       "      <th>4</th>\n",
       "      <td>4</td>\n",
       "      <td>0.523316</td>\n",
       "      <td>0.862694</td>\n",
       "      <td>0.471503</td>\n",
       "      <td>0.305699</td>\n",
       "      <td>0.0</td>\n",
       "      <td>4.777202</td>\n",
       "      <td>0.427461</td>\n",
       "      <td>29.297927</td>\n",
       "      <td>144.208179</td>\n",
       "      <td>3.940415</td>\n",
       "      <td>1.723967</td>\n",
       "      <td>0.266839</td>\n",
       "    </tr>\n",
       "  </tbody>\n",
       "</table>\n",
       "</div>"
      ],
      "text/plain": [
       "   cluster_km    gender  Near_Location   Partner  Promo_friends  Phone  \\\n",
       "0           0  0.496447       0.995939  0.892386       1.000000    1.0   \n",
       "1           1  0.500000       0.000000  0.489247       0.078853    1.0   \n",
       "2           2  0.500940       1.000000  0.217105       0.072368    1.0   \n",
       "3           3  0.534260       0.996028  0.379345       0.009930    1.0   \n",
       "4           4  0.523316       0.862694  0.471503       0.305699    0.0   \n",
       "\n",
       "   Contract_period  Group_visits        Age  Avg_additional_charges_total  \\\n",
       "0         6.922843      0.524873  29.606091                    153.424651   \n",
       "1         2.994624      0.232975  28.679211                    137.125763   \n",
       "2         2.010338      0.277256  27.583647                    119.339956   \n",
       "3         6.208540      0.538232  30.699106                    176.259567   \n",
       "4         4.777202      0.427461  29.297927                    144.208179   \n",
       "\n",
       "   Lifetime  Avg_class_frequency_current_month     Churn  \n",
       "0  4.283249                           1.919520  0.119797  \n",
       "1  2.974910                           1.597146  0.403226  \n",
       "2  1.922932                           1.203319  0.563910  \n",
       "3  5.415094                           2.324220  0.014896  \n",
       "4  3.940415                           1.723967  0.266839  "
      ]
     },
     "execution_count": 41,
     "metadata": {},
     "output_type": "execute_result"
    }
   ],
   "source": [
    "# выводим статистику по средним значениям наших признаков по класте\n",
    "cluster_means = df.groupby('cluster_km').mean().reset_index()\n",
    "cluster_means"
   ]
  },
  {
   "cell_type": "markdown",
   "metadata": {},
   "source": [
    "В таблице видно что кластеры разделились в зависимости от времени с момента первого обращения в фитнес-центр. Также есть видимые различия в периоде контракта. В отдельную группу отнесли людей без телефона. "
   ]
  },
  {
   "cell_type": "markdown",
   "metadata": {},
   "source": [
    "Построим распределения признаков для кластеров на графиках. "
   ]
  },
  {
   "cell_type": "code",
   "execution_count": 43,
   "metadata": {
    "scrolled": false
   },
   "outputs": [
    {
     "data": {
      "image/png": "[encoded data removed]",
      "text/plain": [
       "<Figure size 360x360 with 1 Axes>"
      ]
     },
     "metadata": {
      "needs_background": "light"
     },
     "output_type": "display_data"
    },
    {
     "data": {
      "image/png": "[encoded data removed]",
      "text/plain": [
       "<Figure size 360x360 with 1 Axes>"
      ]
     },
     "metadata": {
      "needs_background": "light"
     },
     "output_type": "display_data"
    },
    {
     "data": {
      "image/png": "[encoded data removed]",
      "text/plain": [
       "<Figure size 360x360 with 1 Axes>"
      ]
     },
     "metadata": {
      "needs_background": "light"
     },
     "output_type": "display_data"
    },
    {
     "data": {
      "image/png": "[encoded data removed]",
      "text/plain": [
       "<Figure size 360x360 with 1 Axes>"
      ]
     },
     "metadata": {
      "needs_background": "light"
     },
     "output_type": "display_data"
    },
    {
     "data": {
      "image/png": "[encoded data removed]",
      "text/plain": [
       "<Figure size 360x360 with 1 Axes>"
      ]
     },
     "metadata": {
      "needs_background": "light"
     },
     "output_type": "display_data"
    },
    {
     "data": {
      "image/png": "[encoded data removed]",
      "text/plain": [
       "<Figure size 360x360 with 1 Axes>"
      ]
     },
     "metadata": {
      "needs_background": "light"
     },
     "output_type": "display_data"
    },
    {
     "data": {
      "image/png": "[encoded data removed]",
      "text/plain": [
       "<Figure size 360x360 with 1 Axes>"
      ]
     },
     "metadata": {
      "needs_background": "light"
     },
     "output_type": "display_data"
    },
    {
     "data": {
      "image/png": "[encoded data removed]",
      "text/plain": [
       "<Figure size 360x360 with 1 Axes>"
      ]
     },
     "metadata": {
      "needs_background": "light"
     },
     "output_type": "display_data"
    },
    {
     "data": {
      "image/png": "[encoded data removed]",
      "text/plain": [
       "<Figure size 360x360 with 1 Axes>"
      ]
     },
     "metadata": {
      "needs_background": "light"
     },
     "output_type": "display_data"
    },
    {
     "data": {
      "image/png": "[encoded data removed]",
      "text/plain": [
       "<Figure size 360x360 with 1 Axes>"
      ]
     },
     "metadata": {
      "needs_background": "light"
     },
     "output_type": "display_data"
    },
    {
     "data": {
      "image/png": "[encoded data removed]",
      "text/plain": [
       "<Figure size 360x360 with 1 Axes>"
      ]
     },
     "metadata": {
      "needs_background": "light"
     },
     "output_type": "display_data"
    },
    {
     "data": {
      "image/png": "[encoded data removed]",
      "text/plain": [
       "<Figure size 360x360 with 1 Axes>"
      ]
     },
     "metadata": {
      "needs_background": "light"
     },
     "output_type": "display_data"
    },
    {
     "data": {
      "image/png": "[encoded data removed]",
      "text/plain": [
       "<Figure size 360x360 with 1 Axes>"
      ]
     },
     "metadata": {
      "needs_background": "light"
     },
     "output_type": "display_data"
    }
   ],
   "source": [
    "for col in cluster_means.columns:\n",
    "    plt.figure(figsize=(5, 5))\n",
    "    sns.barplot(x=cluster_means.index, y=cluster_means[col], palette='Set2')\n",
    "    plt.title(f'Среднее значение признака {col} по кластерам')\n",
    "    plt.xlabel('Кластер')\n",
    "    plt.ylabel('Среднее значение')\n",
    "    plt.tight_layout()\n",
    "    plt.show()    "
   ]
  },
  {
   "cell_type": "markdown",
   "metadata": {},
   "source": [
    "На графиках так же видно, что  кластеры разделились в зависимости от времени с момента первого обращения в фитнес-центр. Также есть видимые различия в периоде контракта. В отдельную группу отнесли людей без телефона. \n",
    "Так же видно что отдельно выделяеются те у кого это не ближайшая локация и те кто промо-друзья приобладают в 0 кластере. \n",
    "Так же по этому графику уже можно сказать что самоее большое количество клиентов, которое ушло, ноходится в кластерах 1 и 2, а самые надежные клиенты в кластере 3"
   ]
  },
  {
   "cell_type": "code",
   "execution_count": 44,
   "metadata": {},
   "outputs": [],
   "source": [
    "#выделим отдельно не бинарные признаки:\n",
    "non_binary_cols = [col for col in df.columns if df[col].nunique() > 2 and col != 'cluster_km']"
   ]
  },
  {
   "cell_type": "code",
   "execution_count": 45,
   "metadata": {
    "scrolled": false
   },
   "outputs": [
    {
     "data": {
      "image/png": "[encoded data removed]",
      "text/plain": [
       "<Figure size 432x288 with 1 Axes>"
      ]
     },
     "metadata": {
      "needs_background": "light"
     },
     "output_type": "display_data"
    },
    {
     "data": {
      "image/png": "[encoded data removed]",
      "text/plain": [
       "<Figure size 432x288 with 1 Axes>"
      ]
     },
     "metadata": {
      "needs_background": "light"
     },
     "output_type": "display_data"
    },
    {
     "data": {
      "image/png": "[encoded data removed]",
      "text/plain": [
       "<Figure size 432x288 with 1 Axes>"
      ]
     },
     "metadata": {
      "needs_background": "light"
     },
     "output_type": "display_data"
    },
    {
     "data": {
      "image/png": "[encoded data removed]",
      "text/plain": [
       "<Figure size 432x288 with 1 Axes>"
      ]
     },
     "metadata": {
      "needs_background": "light"
     },
     "output_type": "display_data"
    },
    {
     "data": {
      "image/png": "[encoded data removed]",
      "text/plain": [
       "<Figure size 432x288 with 1 Axes>"
      ]
     },
     "metadata": {
      "needs_background": "light"
     },
     "output_type": "display_data"
    }
   ],
   "source": [
    "#нарисуем boxplot для каждого признака \n",
    "for col in non_binary_cols:\n",
    "    sns.boxplot(data=df, x='cluster_km', y=col)\n",
    "    plt.title(f'Распределение признака {col} по кластерам')\n",
    "    plt.show()"
   ]
  },
  {
   "cell_type": "markdown",
   "metadata": {},
   "source": [
    "Видно что во втором кластере минимальный период контракта, в 0 и 3 среднее значение 6 месяцев, в 1 и 4 от 1 до 6 месяцев. Средний возраст меньше в 1 и 2 кластере. Большенство новых клиентов также в 1 и 2 кластерах, но тут разница не настолько большая, так как в остальных медиана не привышает 5 мес. Количество посещений в 1 и 2 кластерах тоже снижано по сравнению. с остальными, больше посещений в кластере 3.\n",
    "\n",
    "Самое большое различие видно в периоде контракта. "
   ]
  },
  {
   "cell_type": "markdown",
   "metadata": {},
   "source": [
    "Для каждого полученного кластера посчитаем долю оттока"
   ]
  },
  {
   "cell_type": "code",
   "execution_count": 46,
   "metadata": {},
   "outputs": [
    {
     "data": {
      "text/plain": [
       "cluster_km\n",
       "0    11.979695\n",
       "1    40.322581\n",
       "2    56.390977\n",
       "3     1.489573\n",
       "4    26.683938\n",
       "Name: Churn, dtype: float64"
      ]
     },
     "execution_count": 46,
     "metadata": {},
     "output_type": "execute_result"
    }
   ],
   "source": [
    "churn_by_cluster = df.groupby('cluster_km')['Churn'].mean()\n",
    "\n",
    "#преобразуим в проценты\n",
    "churn_by_cluster_procent = churn_by_cluster * 100\n",
    "\n",
    "churn_by_cluster_procent"
   ]
  },
  {
   "cell_type": "markdown",
   "metadata": {},
   "source": [
    "В кластере 2 наибольший процент клиентов покинул компанию. Самый надежный кластер 3, всего 1.4% покинули компанию."
   ]
  },
  {
   "cell_type": "markdown",
   "metadata": {},
   "source": [
    "## Выводы и базовые рекомендации по работе с клиентами"
   ]
  },
  {
   "cell_type": "markdown",
   "metadata": {},
   "source": [
    "__Описание данных__\n",
    "\n",
    "Были проанализированы данные по 4000 клиентам фитнес-клуба. \n",
    "В выборке представлены клиенты с контрактами на 1, 6 и 12 месяцев. Основные характеристики клиентов:\n",
    "\n",
    "    -Более 50% имеют контракт на 1 месяц (короткий срок);\n",
    "\t-Средний возраст клиентов — около 30 лет;\n",
    "\t-Гендерное распределение — примерно поровну мужчин и женщин;\n",
    "\t-Средняя частота посещений — от 1 до 3 раз в неделю.\n",
    "\n",
    "__Анализ оттока клиентов__\n",
    "\n",
    "Выяснено, что наибольший отток наблюдается среди следующих групп:\n",
    "\n",
    "\t-Новые клиенты, недавно подписавшие контракт;\n",
    "\t-Клиенты с контрактом на 1 месяц;\n",
    "\t-Более молодые клиенты.\n",
    "\n",
    "Это говорит о том, что на ранних этапах взаимодействия с клубом существует высокий риск потери клиента, особенно если он изначально выбрал краткосрочный тариф.\n",
    "\n",
    "__Моделирование оттока__\n",
    "\n",
    "Были построены две модели прогнозирования оттока клиентов. На основании метрик качества была выбрана модель логистической регрессии, поскольку она показала лучшую способность выявлять действительно ушедших клиентов (высокая recall/чувствительность).\n",
    "\n",
    "__Кластеризация клиентов__\n",
    "\n",
    "Клиенты были сегментированы по поведенческим и демографическим признакам. Были выявлены две группы с наибольшим риском оттока:\n",
    "\n",
    "\t•\tЭти клиенты имеют самый короткий срок контракта;\n",
    "\t•\tРедко посещают групповые занятия;\n",
    "\t•\tНедавно стали клиентами клуба;\n",
    "\t•\tВозраст — ниже среднего.\n",
    "\n",
    "Таким образом, молодые новички, не вовлеченные в активные мероприятия клуба и не ориентированные на долгосрочное сотрудничество, наиболее подвержены риску оттока.\n",
    "\n",
    "__Рекомендации по удержанию клиентов__\n",
    "\n",
    "\tПромо-акции и бонусы для новых клиентов\n",
    "    \n",
    "\t•\tПредлагать скидки или бонусы при переходе с месячного контракта на более длительный.\n",
    "\t•\tВводные бесплатные мероприятия (экскурсии, персональные тренировки).\n",
    "    \n",
    "\tПовышение вовлеченности\n",
    "    \n",
    "\t•\tМотивировать посещение групповых занятий — через систему поощрений.\n",
    "\t•\tВовлекать новых клиентов в комьюнити клуба (чаты, мероприятия, акции).\n",
    "    \n",
    "\tПерсонализированная работа с молодыми клиентами\n",
    "    \n",
    "\t•\tСоздать сегмент целевой аудитории среди молодежи с адаптированными предложениями.\n",
    "\t•\tОбратная связь на раннем этапе — выявление причин низкой активности.\n",
    "\t"
   ]
  }
 ],
 "metadata": {
  "ExecuteTimeLog": [
   {
    "duration": 441,
    "start_time": "2025-04-07T10:00:24.735Z"
   },
   {
    "duration": 71,
    "start_time": "2025-04-07T10:00:25.942Z"
   },
   {
    "duration": 44,
    "start_time": "2025-04-07T10:00:33.554Z"
   },
   {
    "duration": 4,
    "start_time": "2025-04-07T10:01:42.486Z"
   },
   {
    "duration": 11,
    "start_time": "2025-04-07T10:01:43.217Z"
   },
   {
    "duration": 3,
    "start_time": "2025-04-07T10:30:21.183Z"
   },
   {
    "duration": 33,
    "start_time": "2025-04-07T10:30:23.029Z"
   },
   {
    "duration": 4,
    "start_time": "2025-04-07T10:30:27.642Z"
   },
   {
    "duration": 11,
    "start_time": "2025-04-07T10:30:28.464Z"
   },
   {
    "duration": 47,
    "start_time": "2025-04-07T10:37:53.585Z"
   },
   {
    "duration": 4,
    "start_time": "2025-04-07T10:49:43.114Z"
   },
   {
    "duration": 6,
    "start_time": "2025-04-07T10:50:59.151Z"
   },
   {
    "duration": 6,
    "start_time": "2025-04-07T10:51:19.301Z"
   },
   {
    "duration": 12,
    "start_time": "2025-04-07T10:52:16.497Z"
   },
   {
    "duration": 6,
    "start_time": "2025-04-07T10:52:23.522Z"
   },
   {
    "duration": 5,
    "start_time": "2025-04-07T10:54:12.067Z"
   },
   {
    "duration": 5,
    "start_time": "2025-04-07T10:54:32.075Z"
   },
   {
    "duration": 11,
    "start_time": "2025-04-07T10:58:00.948Z"
   },
   {
    "duration": 6,
    "start_time": "2025-04-07T11:01:46.219Z"
   },
   {
    "duration": 16,
    "start_time": "2025-04-07T11:01:58.445Z"
   },
   {
    "duration": 5,
    "start_time": "2025-04-07T11:05:48.783Z"
   },
   {
    "duration": 70,
    "start_time": "2025-04-07T11:08:27.632Z"
   },
   {
    "duration": 1324,
    "start_time": "2025-04-07T11:08:39.063Z"
   },
   {
    "duration": 37,
    "start_time": "2025-04-07T11:08:40.389Z"
   },
   {
    "duration": 40,
    "start_time": "2025-04-07T11:08:40.427Z"
   },
   {
    "duration": 35,
    "start_time": "2025-04-07T11:08:40.469Z"
   },
   {
    "duration": 47,
    "start_time": "2025-04-07T11:08:40.507Z"
   },
   {
    "duration": 5,
    "start_time": "2025-04-07T11:08:40.556Z"
   },
   {
    "duration": 17,
    "start_time": "2025-04-07T11:08:40.562Z"
   },
   {
    "duration": 5,
    "start_time": "2025-04-07T11:08:40.581Z"
   },
   {
    "duration": 1762,
    "start_time": "2025-04-07T11:08:40.588Z"
   },
   {
    "duration": 117,
    "start_time": "2025-04-07T11:12:38.002Z"
   },
   {
    "duration": 1124,
    "start_time": "2025-04-07T11:17:36.686Z"
   },
   {
    "duration": 36,
    "start_time": "2025-04-07T11:17:37.812Z"
   },
   {
    "duration": 4,
    "start_time": "2025-04-07T11:17:37.849Z"
   },
   {
    "duration": 20,
    "start_time": "2025-04-07T11:17:37.855Z"
   },
   {
    "duration": 46,
    "start_time": "2025-04-07T11:17:37.877Z"
   },
   {
    "duration": 6,
    "start_time": "2025-04-07T11:17:37.937Z"
   },
   {
    "duration": 16,
    "start_time": "2025-04-07T11:17:37.944Z"
   },
   {
    "duration": 296,
    "start_time": "2025-04-07T11:17:37.962Z"
   },
   {
    "duration": 1167,
    "start_time": "2025-04-07T11:18:22.053Z"
   },
   {
    "duration": 37,
    "start_time": "2025-04-07T11:18:23.222Z"
   },
   {
    "duration": 71,
    "start_time": "2025-04-07T11:18:23.262Z"
   },
   {
    "duration": 12,
    "start_time": "2025-04-07T11:18:23.335Z"
   },
   {
    "duration": 48,
    "start_time": "2025-04-07T11:18:23.349Z"
   },
   {
    "duration": 6,
    "start_time": "2025-04-07T11:18:23.398Z"
   },
   {
    "duration": 24,
    "start_time": "2025-04-07T11:18:23.406Z"
   },
   {
    "duration": 295,
    "start_time": "2025-04-07T11:18:23.432Z"
   },
   {
    "duration": 1234,
    "start_time": "2025-04-07T11:20:45.609Z"
   },
   {
    "duration": 38,
    "start_time": "2025-04-07T11:20:46.845Z"
   },
   {
    "duration": 5,
    "start_time": "2025-04-07T11:20:46.884Z"
   },
   {
    "duration": 29,
    "start_time": "2025-04-07T11:20:46.891Z"
   },
   {
    "duration": 46,
    "start_time": "2025-04-07T11:20:46.923Z"
   },
   {
    "duration": 6,
    "start_time": "2025-04-07T11:20:46.972Z"
   },
   {
    "duration": 104,
    "start_time": "2025-04-07T11:20:46.980Z"
   },
   {
    "duration": 313,
    "start_time": "2025-04-07T11:20:47.086Z"
   },
   {
    "duration": 3241,
    "start_time": "2025-04-07T11:20:47.401Z"
   },
   {
    "duration": 3762,
    "start_time": "2025-04-07T11:21:31.760Z"
   },
   {
    "duration": 3311,
    "start_time": "2025-04-07T11:24:52.619Z"
   },
   {
    "duration": 3311,
    "start_time": "2025-04-07T11:26:03.272Z"
   },
   {
    "duration": 3453,
    "start_time": "2025-04-07T11:26:43.120Z"
   },
   {
    "duration": 8,
    "start_time": "2025-04-07T11:28:45.257Z"
   },
   {
    "duration": 275,
    "start_time": "2025-04-07T11:30:01.512Z"
   },
   {
    "duration": 183,
    "start_time": "2025-04-07T11:30:07.075Z"
   },
   {
    "duration": 17,
    "start_time": "2025-04-07T11:30:48.730Z"
   },
   {
    "duration": 192,
    "start_time": "2025-04-07T11:31:05.001Z"
   },
   {
    "duration": 1765,
    "start_time": "2025-04-07T11:31:28.120Z"
   },
   {
    "duration": 18,
    "start_time": "2025-04-07T11:34:44.017Z"
   },
   {
    "duration": 15,
    "start_time": "2025-04-07T11:35:50.103Z"
   },
   {
    "duration": 18,
    "start_time": "2025-04-07T11:35:58.515Z"
   },
   {
    "duration": 1499,
    "start_time": "2025-04-07T13:50:53.972Z"
   },
   {
    "duration": 50,
    "start_time": "2025-04-07T13:50:55.473Z"
   },
   {
    "duration": 9,
    "start_time": "2025-04-07T13:50:55.525Z"
   },
   {
    "duration": 24,
    "start_time": "2025-04-07T13:50:55.536Z"
   },
   {
    "duration": 52,
    "start_time": "2025-04-07T13:50:55.563Z"
   },
   {
    "duration": 6,
    "start_time": "2025-04-07T13:50:55.617Z"
   },
   {
    "duration": 42,
    "start_time": "2025-04-07T13:50:55.625Z"
   },
   {
    "duration": 72,
    "start_time": "2025-04-07T13:50:55.668Z"
   },
   {
    "duration": 0,
    "start_time": "2025-04-07T13:50:55.742Z"
   },
   {
    "duration": 69,
    "start_time": "2025-04-07T13:50:59.418Z"
   },
   {
    "duration": 4,
    "start_time": "2025-04-07T13:52:16.132Z"
   },
   {
    "duration": 5,
    "start_time": "2025-04-07T13:52:28.594Z"
   },
   {
    "duration": 1151,
    "start_time": "2025-04-07T13:52:43.308Z"
   },
   {
    "duration": 51,
    "start_time": "2025-04-07T13:52:44.461Z"
   },
   {
    "duration": 35,
    "start_time": "2025-04-07T13:52:44.514Z"
   },
   {
    "duration": 37,
    "start_time": "2025-04-07T13:52:44.551Z"
   },
   {
    "duration": 142,
    "start_time": "2025-04-07T13:52:44.590Z"
   },
   {
    "duration": 33,
    "start_time": "2025-04-07T13:52:44.734Z"
   },
   {
    "duration": 50,
    "start_time": "2025-04-07T13:52:44.769Z"
   },
   {
    "duration": 5,
    "start_time": "2025-04-07T13:52:44.821Z"
   },
   {
    "duration": 1741,
    "start_time": "2025-04-07T13:52:44.828Z"
   },
   {
    "duration": 5,
    "start_time": "2025-04-07T13:54:05.181Z"
   },
   {
    "duration": 1726,
    "start_time": "2025-04-07T13:56:36.349Z"
   },
   {
    "duration": 1193,
    "start_time": "2025-04-07T14:02:01.882Z"
   },
   {
    "duration": 38,
    "start_time": "2025-04-07T14:02:03.077Z"
   },
   {
    "duration": 4,
    "start_time": "2025-04-07T14:02:03.117Z"
   },
   {
    "duration": 77,
    "start_time": "2025-04-07T14:02:03.123Z"
   },
   {
    "duration": 169,
    "start_time": "2025-04-07T14:02:03.201Z"
   },
   {
    "duration": 69,
    "start_time": "2025-04-07T14:02:03.372Z"
   },
   {
    "duration": 192,
    "start_time": "2025-04-07T14:02:03.443Z"
   },
   {
    "duration": 143,
    "start_time": "2025-04-07T14:02:03.637Z"
   },
   {
    "duration": 2079,
    "start_time": "2025-04-07T14:02:03.782Z"
   },
   {
    "duration": 1344,
    "start_time": "2025-04-07T14:06:35.853Z"
   },
   {
    "duration": 39,
    "start_time": "2025-04-07T14:06:37.199Z"
   },
   {
    "duration": 21,
    "start_time": "2025-04-07T14:06:37.240Z"
   },
   {
    "duration": 53,
    "start_time": "2025-04-07T14:06:37.263Z"
   },
   {
    "duration": 100,
    "start_time": "2025-04-07T14:06:37.318Z"
   },
   {
    "duration": 29,
    "start_time": "2025-04-07T14:06:37.420Z"
   },
   {
    "duration": 163,
    "start_time": "2025-04-07T14:06:37.451Z"
   },
   {
    "duration": 13,
    "start_time": "2025-04-07T14:06:37.616Z"
   },
   {
    "duration": 1324,
    "start_time": "2025-04-07T14:09:29.048Z"
   },
   {
    "duration": 51,
    "start_time": "2025-04-07T14:09:30.374Z"
   },
   {
    "duration": 17,
    "start_time": "2025-04-07T14:09:30.427Z"
   },
   {
    "duration": 54,
    "start_time": "2025-04-07T14:09:30.446Z"
   },
   {
    "duration": 145,
    "start_time": "2025-04-07T14:09:30.503Z"
   },
   {
    "duration": 7,
    "start_time": "2025-04-07T14:09:30.651Z"
   },
   {
    "duration": 154,
    "start_time": "2025-04-07T14:09:30.659Z"
   },
   {
    "duration": 50,
    "start_time": "2025-04-07T14:09:30.815Z"
   },
   {
    "duration": 1286,
    "start_time": "2025-04-07T14:11:28.575Z"
   },
   {
    "duration": 40,
    "start_time": "2025-04-07T14:11:29.863Z"
   },
   {
    "duration": 5,
    "start_time": "2025-04-07T14:11:29.905Z"
   },
   {
    "duration": 22,
    "start_time": "2025-04-07T14:11:29.913Z"
   },
   {
    "duration": 77,
    "start_time": "2025-04-07T14:11:29.937Z"
   },
   {
    "duration": 6,
    "start_time": "2025-04-07T14:11:30.016Z"
   },
   {
    "duration": 70,
    "start_time": "2025-04-07T14:11:30.024Z"
   },
   {
    "duration": 148,
    "start_time": "2025-04-07T14:11:30.096Z"
   },
   {
    "duration": 0,
    "start_time": "2025-04-07T14:11:30.245Z"
   },
   {
    "duration": 0,
    "start_time": "2025-04-07T14:11:30.247Z"
   },
   {
    "duration": 14,
    "start_time": "2025-04-07T14:11:51.487Z"
   },
   {
    "duration": 16,
    "start_time": "2025-04-07T14:12:44.671Z"
   },
   {
    "duration": 29,
    "start_time": "2025-04-07T14:13:11.834Z"
   },
   {
    "duration": 11,
    "start_time": "2025-04-07T14:14:00.762Z"
   },
   {
    "duration": 11,
    "start_time": "2025-04-07T14:15:41.054Z"
   },
   {
    "duration": 11,
    "start_time": "2025-04-07T14:16:37.235Z"
   },
   {
    "duration": 83,
    "start_time": "2025-04-07T14:22:11.468Z"
   },
   {
    "duration": 172,
    "start_time": "2025-04-07T14:22:19.108Z"
   },
   {
    "duration": 4,
    "start_time": "2025-04-07T14:30:36.074Z"
   },
   {
    "duration": 5,
    "start_time": "2025-04-07T14:31:03.749Z"
   },
   {
    "duration": 5,
    "start_time": "2025-04-07T14:31:19.055Z"
   },
   {
    "duration": 1230,
    "start_time": "2025-04-07T14:31:25.023Z"
   },
   {
    "duration": 35,
    "start_time": "2025-04-07T14:31:26.255Z"
   },
   {
    "duration": 4,
    "start_time": "2025-04-07T14:31:26.292Z"
   },
   {
    "duration": 15,
    "start_time": "2025-04-07T14:31:26.298Z"
   },
   {
    "duration": 58,
    "start_time": "2025-04-07T14:31:26.315Z"
   },
   {
    "duration": 6,
    "start_time": "2025-04-07T14:31:26.375Z"
   },
   {
    "duration": 20,
    "start_time": "2025-04-07T14:31:26.383Z"
   },
   {
    "duration": 177,
    "start_time": "2025-04-07T14:31:26.405Z"
   },
   {
    "duration": 4,
    "start_time": "2025-04-07T14:31:26.584Z"
   },
   {
    "duration": 1261,
    "start_time": "2025-04-07T14:35:11.866Z"
   },
   {
    "duration": 38,
    "start_time": "2025-04-07T14:35:13.129Z"
   },
   {
    "duration": 4,
    "start_time": "2025-04-07T14:35:13.169Z"
   },
   {
    "duration": 21,
    "start_time": "2025-04-07T14:35:13.176Z"
   },
   {
    "duration": 62,
    "start_time": "2025-04-07T14:35:13.199Z"
   },
   {
    "duration": 8,
    "start_time": "2025-04-07T14:35:13.263Z"
   },
   {
    "duration": 25,
    "start_time": "2025-04-07T14:35:13.273Z"
   },
   {
    "duration": 189,
    "start_time": "2025-04-07T14:35:13.301Z"
   },
   {
    "duration": 5,
    "start_time": "2025-04-07T14:35:13.492Z"
   },
   {
    "duration": 1230,
    "start_time": "2025-04-07T14:35:13.499Z"
   },
   {
    "duration": 26,
    "start_time": "2025-04-07T14:35:29.008Z"
   },
   {
    "duration": 1202,
    "start_time": "2025-04-07T14:36:21.570Z"
   },
   {
    "duration": 40,
    "start_time": "2025-04-07T14:36:22.774Z"
   },
   {
    "duration": 5,
    "start_time": "2025-04-07T14:36:22.816Z"
   },
   {
    "duration": 14,
    "start_time": "2025-04-07T14:36:22.823Z"
   },
   {
    "duration": 57,
    "start_time": "2025-04-07T14:36:22.838Z"
   },
   {
    "duration": 6,
    "start_time": "2025-04-07T14:36:22.896Z"
   },
   {
    "duration": 109,
    "start_time": "2025-04-07T14:36:22.903Z"
   },
   {
    "duration": 162,
    "start_time": "2025-04-07T14:36:23.014Z"
   },
   {
    "duration": 5,
    "start_time": "2025-04-07T14:36:23.177Z"
   },
   {
    "duration": 1189,
    "start_time": "2025-04-07T14:36:58.177Z"
   },
   {
    "duration": 37,
    "start_time": "2025-04-07T14:36:59.368Z"
   },
   {
    "duration": 4,
    "start_time": "2025-04-07T14:36:59.406Z"
   },
   {
    "duration": 14,
    "start_time": "2025-04-07T14:36:59.412Z"
   },
   {
    "duration": 61,
    "start_time": "2025-04-07T14:36:59.429Z"
   },
   {
    "duration": 5,
    "start_time": "2025-04-07T14:36:59.492Z"
   },
   {
    "duration": 50,
    "start_time": "2025-04-07T14:36:59.499Z"
   },
   {
    "duration": 250,
    "start_time": "2025-04-07T14:36:59.551Z"
   },
   {
    "duration": 4,
    "start_time": "2025-04-07T14:36:59.803Z"
   },
   {
    "duration": 1266,
    "start_time": "2025-04-07T14:41:45.969Z"
   },
   {
    "duration": 50,
    "start_time": "2025-04-07T14:41:47.237Z"
   },
   {
    "duration": 4,
    "start_time": "2025-04-07T14:41:47.289Z"
   },
   {
    "duration": 13,
    "start_time": "2025-04-07T14:41:47.295Z"
   },
   {
    "duration": 71,
    "start_time": "2025-04-07T14:41:47.310Z"
   },
   {
    "duration": 7,
    "start_time": "2025-04-07T14:41:47.382Z"
   },
   {
    "duration": 48,
    "start_time": "2025-04-07T14:41:47.391Z"
   },
   {
    "duration": 199,
    "start_time": "2025-04-07T14:41:47.441Z"
   },
   {
    "duration": 5,
    "start_time": "2025-04-07T14:41:47.642Z"
   },
   {
    "duration": 170,
    "start_time": "2025-04-07T14:41:47.661Z"
   },
   {
    "duration": 341807,
    "start_time": "2025-04-07T14:41:53.621Z"
   },
   {
    "duration": 1301,
    "start_time": "2025-04-07T14:55:27.262Z"
   },
   {
    "duration": 1441,
    "start_time": "2025-04-07T14:57:35.078Z"
   },
   {
    "duration": 1342,
    "start_time": "2025-04-07T15:19:24.055Z"
   },
   {
    "duration": 40,
    "start_time": "2025-04-07T15:19:25.400Z"
   },
   {
    "duration": 5,
    "start_time": "2025-04-07T15:19:25.442Z"
   },
   {
    "duration": 36,
    "start_time": "2025-04-07T15:19:25.449Z"
   },
   {
    "duration": 61,
    "start_time": "2025-04-07T15:19:25.487Z"
   },
   {
    "duration": 7,
    "start_time": "2025-04-07T15:19:25.550Z"
   },
   {
    "duration": 27,
    "start_time": "2025-04-07T15:19:25.559Z"
   },
   {
    "duration": 1491,
    "start_time": "2025-04-07T15:19:25.588Z"
   },
   {
    "duration": 597,
    "start_time": "2025-04-07T15:19:27.081Z"
   },
   {
    "duration": 1295,
    "start_time": "2025-04-07T15:19:57.175Z"
   },
   {
    "duration": 38,
    "start_time": "2025-04-07T15:19:58.472Z"
   },
   {
    "duration": 5,
    "start_time": "2025-04-07T15:19:58.511Z"
   },
   {
    "duration": 18,
    "start_time": "2025-04-07T15:19:58.517Z"
   },
   {
    "duration": 63,
    "start_time": "2025-04-07T15:19:58.537Z"
   },
   {
    "duration": 6,
    "start_time": "2025-04-07T15:19:58.601Z"
   },
   {
    "duration": 50,
    "start_time": "2025-04-07T15:19:58.609Z"
   },
   {
    "duration": 1373,
    "start_time": "2025-04-07T15:19:58.661Z"
   },
   {
    "duration": 1750,
    "start_time": "2025-04-07T15:20:00.036Z"
   },
   {
    "duration": 106,
    "start_time": "2025-04-07T15:22:20.769Z"
   },
   {
    "duration": 107,
    "start_time": "2025-04-07T15:22:28.148Z"
   },
   {
    "duration": 208,
    "start_time": "2025-04-07T15:23:09.254Z"
   },
   {
    "duration": 6,
    "start_time": "2025-04-07T15:23:14.650Z"
   },
   {
    "duration": 1506,
    "start_time": "2025-04-07T15:24:15.076Z"
   },
   {
    "duration": 1528,
    "start_time": "2025-04-07T15:24:48.858Z"
   },
   {
    "duration": 1571,
    "start_time": "2025-04-07T15:25:56.208Z"
   },
   {
    "duration": 1654,
    "start_time": "2025-04-07T15:27:13.144Z"
   },
   {
    "duration": 5,
    "start_time": "2025-04-07T15:45:20.936Z"
   },
   {
    "duration": 10,
    "start_time": "2025-04-07T15:45:42.387Z"
   },
   {
    "duration": 1462,
    "start_time": "2025-04-07T15:46:21.810Z"
   },
   {
    "duration": 36,
    "start_time": "2025-04-07T15:46:23.274Z"
   },
   {
    "duration": 4,
    "start_time": "2025-04-07T15:46:23.313Z"
   },
   {
    "duration": 31,
    "start_time": "2025-04-07T15:46:23.319Z"
   },
   {
    "duration": 76,
    "start_time": "2025-04-07T15:46:23.352Z"
   },
   {
    "duration": 19,
    "start_time": "2025-04-07T15:46:23.430Z"
   },
   {
    "duration": 28,
    "start_time": "2025-04-07T15:46:23.451Z"
   },
   {
    "duration": 1418,
    "start_time": "2025-04-07T15:46:23.481Z"
   },
   {
    "duration": 1660,
    "start_time": "2025-04-07T15:46:24.901Z"
   },
   {
    "duration": 5,
    "start_time": "2025-04-07T15:46:26.563Z"
   },
   {
    "duration": 1547,
    "start_time": "2025-04-07T15:46:26.570Z"
   },
   {
    "duration": 3,
    "start_time": "2025-04-07T15:46:28.120Z"
   },
   {
    "duration": 11,
    "start_time": "2025-04-07T15:46:28.125Z"
   },
   {
    "duration": 1720,
    "start_time": "2025-04-08T17:51:30.275Z"
   },
   {
    "duration": 39,
    "start_time": "2025-04-08T17:51:31.998Z"
   },
   {
    "duration": 5,
    "start_time": "2025-04-08T17:51:32.038Z"
   },
   {
    "duration": 23,
    "start_time": "2025-04-08T17:51:32.045Z"
   },
   {
    "duration": 48,
    "start_time": "2025-04-08T17:51:32.071Z"
   },
   {
    "duration": 21,
    "start_time": "2025-04-08T17:51:32.121Z"
   },
   {
    "duration": 30,
    "start_time": "2025-04-08T17:51:32.143Z"
   },
   {
    "duration": 1449,
    "start_time": "2025-04-08T17:51:32.175Z"
   },
   {
    "duration": 1700,
    "start_time": "2025-04-08T17:51:33.626Z"
   },
   {
    "duration": 9,
    "start_time": "2025-04-08T17:51:35.328Z"
   },
   {
    "duration": 1599,
    "start_time": "2025-04-08T17:51:35.339Z"
   },
   {
    "duration": 4,
    "start_time": "2025-04-08T17:51:36.940Z"
   },
   {
    "duration": 7,
    "start_time": "2025-04-08T17:51:36.946Z"
   },
   {
    "duration": 30,
    "start_time": "2025-04-08T17:51:36.955Z"
   },
   {
    "duration": 63,
    "start_time": "2025-04-08T17:51:55.678Z"
   },
   {
    "duration": 199,
    "start_time": "2025-04-08T17:52:06.239Z"
   },
   {
    "duration": 29,
    "start_time": "2025-04-08T17:54:29.526Z"
   },
   {
    "duration": 5,
    "start_time": "2025-04-08T17:56:57.931Z"
   },
   {
    "duration": 11,
    "start_time": "2025-04-08T17:57:18.401Z"
   },
   {
    "duration": 28,
    "start_time": "2025-04-08T17:58:50.333Z"
   },
   {
    "duration": 1521,
    "start_time": "2025-04-08T18:05:25.134Z"
   },
   {
    "duration": 37,
    "start_time": "2025-04-08T18:05:26.657Z"
   },
   {
    "duration": 4,
    "start_time": "2025-04-08T18:05:26.696Z"
   },
   {
    "duration": 29,
    "start_time": "2025-04-08T18:05:26.701Z"
   },
   {
    "duration": 46,
    "start_time": "2025-04-08T18:05:26.732Z"
   },
   {
    "duration": 6,
    "start_time": "2025-04-08T18:05:26.779Z"
   },
   {
    "duration": 31,
    "start_time": "2025-04-08T18:05:26.786Z"
   },
   {
    "duration": 1379,
    "start_time": "2025-04-08T18:05:26.819Z"
   },
   {
    "duration": 1626,
    "start_time": "2025-04-08T18:05:28.199Z"
   },
   {
    "duration": 10,
    "start_time": "2025-04-08T18:05:29.827Z"
   },
   {
    "duration": 1531,
    "start_time": "2025-04-08T18:05:29.839Z"
   },
   {
    "duration": 4,
    "start_time": "2025-04-08T18:05:31.372Z"
   },
   {
    "duration": 17,
    "start_time": "2025-04-08T18:05:31.378Z"
   },
   {
    "duration": 41,
    "start_time": "2025-04-08T18:05:31.397Z"
   },
   {
    "duration": 957,
    "start_time": "2025-04-08T18:05:31.441Z"
   },
   {
    "duration": 52,
    "start_time": "2025-04-09T09:19:42.492Z"
   },
   {
    "duration": 1790,
    "start_time": "2025-04-09T09:19:47.209Z"
   },
   {
    "duration": 39,
    "start_time": "2025-04-09T09:19:49.001Z"
   },
   {
    "duration": 3,
    "start_time": "2025-04-09T09:19:49.042Z"
   },
   {
    "duration": 13,
    "start_time": "2025-04-09T09:19:49.047Z"
   },
   {
    "duration": 61,
    "start_time": "2025-04-09T09:19:49.062Z"
   },
   {
    "duration": 5,
    "start_time": "2025-04-09T09:19:49.125Z"
   },
   {
    "duration": 24,
    "start_time": "2025-04-09T09:19:49.132Z"
   },
   {
    "duration": 1422,
    "start_time": "2025-04-09T09:19:49.158Z"
   },
   {
    "duration": 1658,
    "start_time": "2025-04-09T09:19:50.582Z"
   },
   {
    "duration": 6,
    "start_time": "2025-04-09T09:19:52.242Z"
   },
   {
    "duration": 1665,
    "start_time": "2025-04-09T09:19:52.249Z"
   },
   {
    "duration": 117,
    "start_time": "2025-04-09T09:19:53.916Z"
   },
   {
    "duration": 0,
    "start_time": "2025-04-09T09:19:54.034Z"
   },
   {
    "duration": 0,
    "start_time": "2025-04-09T09:19:54.036Z"
   },
   {
    "duration": 0,
    "start_time": "2025-04-09T09:19:54.037Z"
   },
   {
    "duration": 0,
    "start_time": "2025-04-09T09:19:54.038Z"
   },
   {
    "duration": 4,
    "start_time": "2025-04-09T09:20:11.097Z"
   },
   {
    "duration": 10,
    "start_time": "2025-04-09T09:20:19.158Z"
   },
   {
    "duration": 1673,
    "start_time": "2025-04-09T09:23:18.090Z"
   },
   {
    "duration": 39,
    "start_time": "2025-04-09T09:23:19.765Z"
   },
   {
    "duration": 103,
    "start_time": "2025-04-09T09:23:19.806Z"
   },
   {
    "duration": 127,
    "start_time": "2025-04-09T09:23:19.912Z"
   },
   {
    "duration": 69,
    "start_time": "2025-04-09T09:23:20.042Z"
   },
   {
    "duration": 7,
    "start_time": "2025-04-09T09:23:20.113Z"
   },
   {
    "duration": 21,
    "start_time": "2025-04-09T09:23:20.122Z"
   },
   {
    "duration": 1449,
    "start_time": "2025-04-09T09:23:20.145Z"
   },
   {
    "duration": 1702,
    "start_time": "2025-04-09T09:23:21.596Z"
   },
   {
    "duration": 10,
    "start_time": "2025-04-09T09:23:23.299Z"
   },
   {
    "duration": 1560,
    "start_time": "2025-04-09T09:23:23.310Z"
   },
   {
    "duration": 4,
    "start_time": "2025-04-09T09:23:24.871Z"
   },
   {
    "duration": 162,
    "start_time": "2025-04-09T09:23:24.877Z"
   },
   {
    "duration": 0,
    "start_time": "2025-04-09T09:23:25.040Z"
   },
   {
    "duration": 0,
    "start_time": "2025-04-09T09:23:25.041Z"
   },
   {
    "duration": 0,
    "start_time": "2025-04-09T09:23:25.042Z"
   },
   {
    "duration": 9,
    "start_time": "2025-04-09T09:23:52.148Z"
   },
   {
    "duration": 1505,
    "start_time": "2025-04-09T09:24:06.132Z"
   },
   {
    "duration": 36,
    "start_time": "2025-04-09T09:24:07.639Z"
   },
   {
    "duration": 4,
    "start_time": "2025-04-09T09:24:07.677Z"
   },
   {
    "duration": 16,
    "start_time": "2025-04-09T09:24:07.682Z"
   },
   {
    "duration": 65,
    "start_time": "2025-04-09T09:24:07.704Z"
   },
   {
    "duration": 6,
    "start_time": "2025-04-09T09:24:07.771Z"
   },
   {
    "duration": 160,
    "start_time": "2025-04-09T09:24:07.779Z"
   },
   {
    "duration": 1471,
    "start_time": "2025-04-09T09:24:07.941Z"
   },
   {
    "duration": 1676,
    "start_time": "2025-04-09T09:24:09.415Z"
   },
   {
    "duration": 17,
    "start_time": "2025-04-09T09:24:11.093Z"
   },
   {
    "duration": 1527,
    "start_time": "2025-04-09T09:24:11.111Z"
   },
   {
    "duration": 17,
    "start_time": "2025-04-09T09:24:12.640Z"
   },
   {
    "duration": 6,
    "start_time": "2025-04-09T09:24:12.659Z"
   },
   {
    "duration": 8,
    "start_time": "2025-04-09T09:24:12.667Z"
   },
   {
    "duration": 33,
    "start_time": "2025-04-09T09:24:12.677Z"
   },
   {
    "duration": 609,
    "start_time": "2025-04-09T09:24:12.711Z"
   },
   {
    "duration": 1600,
    "start_time": "2025-04-09T09:28:24.026Z"
   },
   {
    "duration": 38,
    "start_time": "2025-04-09T09:28:25.629Z"
   },
   {
    "duration": 38,
    "start_time": "2025-04-09T09:28:25.668Z"
   },
   {
    "duration": 27,
    "start_time": "2025-04-09T09:28:25.708Z"
   },
   {
    "duration": 50,
    "start_time": "2025-04-09T09:28:25.739Z"
   },
   {
    "duration": 18,
    "start_time": "2025-04-09T09:28:25.791Z"
   },
   {
    "duration": 108,
    "start_time": "2025-04-09T09:28:25.811Z"
   },
   {
    "duration": 1479,
    "start_time": "2025-04-09T09:28:25.921Z"
   },
   {
    "duration": 1731,
    "start_time": "2025-04-09T09:28:27.401Z"
   },
   {
    "duration": 6,
    "start_time": "2025-04-09T09:28:29.134Z"
   },
   {
    "duration": 1608,
    "start_time": "2025-04-09T09:28:29.142Z"
   },
   {
    "duration": 134,
    "start_time": "2025-04-09T09:28:30.752Z"
   },
   {
    "duration": 0,
    "start_time": "2025-04-09T09:28:30.888Z"
   },
   {
    "duration": 0,
    "start_time": "2025-04-09T09:28:30.889Z"
   },
   {
    "duration": 0,
    "start_time": "2025-04-09T09:28:30.890Z"
   },
   {
    "duration": 0,
    "start_time": "2025-04-09T09:28:30.892Z"
   },
   {
    "duration": 1550,
    "start_time": "2025-04-09T09:29:37.646Z"
   },
   {
    "duration": 37,
    "start_time": "2025-04-09T09:29:39.199Z"
   },
   {
    "duration": 4,
    "start_time": "2025-04-09T09:29:39.237Z"
   },
   {
    "duration": 14,
    "start_time": "2025-04-09T09:29:39.243Z"
   },
   {
    "duration": 57,
    "start_time": "2025-04-09T09:29:39.259Z"
   },
   {
    "duration": 6,
    "start_time": "2025-04-09T09:29:39.318Z"
   },
   {
    "duration": 27,
    "start_time": "2025-04-09T09:29:39.325Z"
   },
   {
    "duration": 1413,
    "start_time": "2025-04-09T09:29:39.354Z"
   },
   {
    "duration": 1671,
    "start_time": "2025-04-09T09:29:40.768Z"
   },
   {
    "duration": 5,
    "start_time": "2025-04-09T09:29:42.441Z"
   },
   {
    "duration": 1558,
    "start_time": "2025-04-09T09:29:42.448Z"
   },
   {
    "duration": 87,
    "start_time": "2025-04-09T09:29:44.007Z"
   },
   {
    "duration": 0,
    "start_time": "2025-04-09T09:29:44.095Z"
   },
   {
    "duration": 0,
    "start_time": "2025-04-09T09:29:44.096Z"
   },
   {
    "duration": 0,
    "start_time": "2025-04-09T09:29:44.097Z"
   },
   {
    "duration": 0,
    "start_time": "2025-04-09T09:29:44.098Z"
   },
   {
    "duration": 19,
    "start_time": "2025-04-09T09:29:50.113Z"
   },
   {
    "duration": 5,
    "start_time": "2025-04-09T09:29:52.972Z"
   },
   {
    "duration": 6,
    "start_time": "2025-04-09T09:29:53.329Z"
   },
   {
    "duration": 28,
    "start_time": "2025-04-09T09:29:53.678Z"
   },
   {
    "duration": 603,
    "start_time": "2025-04-09T09:29:53.986Z"
   },
   {
    "duration": 120,
    "start_time": "2025-04-09T09:33:02.679Z"
   },
   {
    "duration": 10,
    "start_time": "2025-04-09T09:33:07.671Z"
   },
   {
    "duration": 11,
    "start_time": "2025-04-09T09:33:08.414Z"
   },
   {
    "duration": 2598,
    "start_time": "2025-04-09T09:53:40.987Z"
   },
   {
    "duration": 49,
    "start_time": "2025-04-09T09:53:43.587Z"
   },
   {
    "duration": 56,
    "start_time": "2025-04-09T09:53:43.637Z"
   },
   {
    "duration": 14,
    "start_time": "2025-04-09T09:53:43.695Z"
   },
   {
    "duration": 48,
    "start_time": "2025-04-09T09:53:43.711Z"
   },
   {
    "duration": 6,
    "start_time": "2025-04-09T09:53:43.760Z"
   },
   {
    "duration": 23,
    "start_time": "2025-04-09T09:53:43.768Z"
   },
   {
    "duration": 1442,
    "start_time": "2025-04-09T09:53:43.806Z"
   },
   {
    "duration": 1728,
    "start_time": "2025-04-09T09:53:45.250Z"
   },
   {
    "duration": 8,
    "start_time": "2025-04-09T09:53:46.980Z"
   },
   {
    "duration": 1572,
    "start_time": "2025-04-09T09:53:46.990Z"
   },
   {
    "duration": 18,
    "start_time": "2025-04-09T09:53:48.564Z"
   },
   {
    "duration": 17,
    "start_time": "2025-04-09T09:53:48.584Z"
   },
   {
    "duration": 6,
    "start_time": "2025-04-09T09:53:48.603Z"
   },
   {
    "duration": 29,
    "start_time": "2025-04-09T09:53:48.610Z"
   },
   {
    "duration": 624,
    "start_time": "2025-04-09T09:53:48.640Z"
   },
   {
    "duration": 131,
    "start_time": "2025-04-09T09:53:49.266Z"
   },
   {
    "duration": 0,
    "start_time": "2025-04-09T09:53:49.398Z"
   },
   {
    "duration": 1587,
    "start_time": "2025-04-09T09:55:43.486Z"
   },
   {
    "duration": 38,
    "start_time": "2025-04-09T09:55:45.075Z"
   },
   {
    "duration": 4,
    "start_time": "2025-04-09T09:55:45.115Z"
   },
   {
    "duration": 40,
    "start_time": "2025-04-09T09:55:45.121Z"
   },
   {
    "duration": 62,
    "start_time": "2025-04-09T09:55:45.163Z"
   },
   {
    "duration": 6,
    "start_time": "2025-04-09T09:55:45.227Z"
   },
   {
    "duration": 78,
    "start_time": "2025-04-09T09:55:45.235Z"
   },
   {
    "duration": 1471,
    "start_time": "2025-04-09T09:55:45.314Z"
   },
   {
    "duration": 1689,
    "start_time": "2025-04-09T09:55:46.786Z"
   },
   {
    "duration": 7,
    "start_time": "2025-04-09T09:55:48.477Z"
   },
   {
    "duration": 1580,
    "start_time": "2025-04-09T09:55:48.486Z"
   },
   {
    "duration": 21,
    "start_time": "2025-04-09T09:55:50.068Z"
   },
   {
    "duration": 93,
    "start_time": "2025-04-09T09:55:50.091Z"
   },
   {
    "duration": 25,
    "start_time": "2025-04-09T09:55:50.188Z"
   },
   {
    "duration": 36,
    "start_time": "2025-04-09T09:55:50.215Z"
   },
   {
    "duration": 636,
    "start_time": "2025-04-09T09:55:50.253Z"
   },
   {
    "duration": 151,
    "start_time": "2025-04-09T09:55:50.891Z"
   },
   {
    "duration": 0,
    "start_time": "2025-04-09T09:55:51.044Z"
   },
   {
    "duration": 1500,
    "start_time": "2025-04-09T09:56:51.151Z"
   },
   {
    "duration": 49,
    "start_time": "2025-04-09T09:56:52.653Z"
   },
   {
    "duration": 5,
    "start_time": "2025-04-09T09:56:52.704Z"
   },
   {
    "duration": 28,
    "start_time": "2025-04-09T09:56:52.710Z"
   },
   {
    "duration": 49,
    "start_time": "2025-04-09T09:56:52.741Z"
   },
   {
    "duration": 14,
    "start_time": "2025-04-09T09:56:52.792Z"
   },
   {
    "duration": 34,
    "start_time": "2025-04-09T09:56:52.808Z"
   },
   {
    "duration": 1463,
    "start_time": "2025-04-09T09:56:52.843Z"
   },
   {
    "duration": 1703,
    "start_time": "2025-04-09T09:56:54.308Z"
   },
   {
    "duration": 6,
    "start_time": "2025-04-09T09:56:56.013Z"
   },
   {
    "duration": 1725,
    "start_time": "2025-04-09T09:56:56.021Z"
   },
   {
    "duration": 18,
    "start_time": "2025-04-09T09:56:57.747Z"
   },
   {
    "duration": 5,
    "start_time": "2025-04-09T09:56:57.767Z"
   },
   {
    "duration": 14,
    "start_time": "2025-04-09T09:56:57.775Z"
   },
   {
    "duration": 35,
    "start_time": "2025-04-09T09:56:57.791Z"
   },
   {
    "duration": 616,
    "start_time": "2025-04-09T09:56:57.828Z"
   },
   {
    "duration": 138,
    "start_time": "2025-04-09T09:56:58.445Z"
   },
   {
    "duration": 0,
    "start_time": "2025-04-09T09:56:58.585Z"
   },
   {
    "duration": 6,
    "start_time": "2025-04-09T09:57:46.390Z"
   },
   {
    "duration": 9,
    "start_time": "2025-04-09T09:58:04.481Z"
   },
   {
    "duration": 18,
    "start_time": "2025-04-09T09:58:13.048Z"
   },
   {
    "duration": 1534,
    "start_time": "2025-04-09T10:07:44.770Z"
   },
   {
    "duration": 48,
    "start_time": "2025-04-09T10:07:46.306Z"
   },
   {
    "duration": 4,
    "start_time": "2025-04-09T10:07:46.355Z"
   },
   {
    "duration": 86,
    "start_time": "2025-04-09T10:07:46.360Z"
   },
   {
    "duration": 104,
    "start_time": "2025-04-09T10:07:46.449Z"
   },
   {
    "duration": 7,
    "start_time": "2025-04-09T10:07:46.555Z"
   },
   {
    "duration": 48,
    "start_time": "2025-04-09T10:07:46.563Z"
   },
   {
    "duration": 1404,
    "start_time": "2025-04-09T10:07:46.612Z"
   },
   {
    "duration": 1709,
    "start_time": "2025-04-09T10:07:48.018Z"
   },
   {
    "duration": 7,
    "start_time": "2025-04-09T10:07:49.730Z"
   },
   {
    "duration": 1620,
    "start_time": "2025-04-09T10:07:49.738Z"
   },
   {
    "duration": 20,
    "start_time": "2025-04-09T10:07:51.360Z"
   },
   {
    "duration": 5,
    "start_time": "2025-04-09T10:07:51.381Z"
   },
   {
    "duration": 17,
    "start_time": "2025-04-09T10:07:51.389Z"
   },
   {
    "duration": 29,
    "start_time": "2025-04-09T10:07:51.407Z"
   },
   {
    "duration": 367,
    "start_time": "2025-04-09T10:07:51.438Z"
   },
   {
    "duration": 9,
    "start_time": "2025-04-09T10:07:51.807Z"
   },
   {
    "duration": 31,
    "start_time": "2025-04-09T10:07:51.818Z"
   },
   {
    "duration": 22,
    "start_time": "2025-04-09T10:07:51.851Z"
   },
   {
    "duration": 8,
    "start_time": "2025-04-09T10:08:17.010Z"
   },
   {
    "duration": 7,
    "start_time": "2025-04-09T10:08:17.810Z"
   },
   {
    "duration": 129,
    "start_time": "2025-04-09T10:17:01.691Z"
   },
   {
    "duration": 5,
    "start_time": "2025-04-09T10:17:19.559Z"
   },
   {
    "duration": 4,
    "start_time": "2025-04-09T10:19:57.113Z"
   },
   {
    "duration": 12,
    "start_time": "2025-04-09T10:21:04.136Z"
   },
   {
    "duration": 14,
    "start_time": "2025-04-09T10:37:47.839Z"
   },
   {
    "duration": 1532,
    "start_time": "2025-04-09T10:37:52.954Z"
   },
   {
    "duration": 51,
    "start_time": "2025-04-09T10:37:54.488Z"
   },
   {
    "duration": 43,
    "start_time": "2025-04-09T10:37:54.541Z"
   },
   {
    "duration": 55,
    "start_time": "2025-04-09T10:37:54.585Z"
   },
   {
    "duration": 47,
    "start_time": "2025-04-09T10:37:54.642Z"
   },
   {
    "duration": 5,
    "start_time": "2025-04-09T10:37:54.690Z"
   },
   {
    "duration": 63,
    "start_time": "2025-04-09T10:37:54.697Z"
   },
   {
    "duration": 1426,
    "start_time": "2025-04-09T10:37:54.762Z"
   },
   {
    "duration": 1646,
    "start_time": "2025-04-09T10:37:56.190Z"
   },
   {
    "duration": 6,
    "start_time": "2025-04-09T10:37:57.838Z"
   },
   {
    "duration": 1697,
    "start_time": "2025-04-09T10:37:57.845Z"
   },
   {
    "duration": 19,
    "start_time": "2025-04-09T10:37:59.544Z"
   },
   {
    "duration": 7,
    "start_time": "2025-04-09T10:37:59.565Z"
   },
   {
    "duration": 20,
    "start_time": "2025-04-09T10:37:59.574Z"
   },
   {
    "duration": 29,
    "start_time": "2025-04-09T10:37:59.595Z"
   },
   {
    "duration": 361,
    "start_time": "2025-04-09T10:37:59.625Z"
   },
   {
    "duration": 8,
    "start_time": "2025-04-09T10:37:59.988Z"
   },
   {
    "duration": 38,
    "start_time": "2025-04-09T10:37:59.998Z"
   },
   {
    "duration": 59,
    "start_time": "2025-04-09T10:38:00.038Z"
   },
   {
    "duration": 72,
    "start_time": "2025-04-09T10:38:00.099Z"
   },
   {
    "duration": 652,
    "start_time": "2025-04-09T10:38:00.173Z"
   },
   {
    "duration": 119780,
    "start_time": "2025-04-09T10:38:00.827Z"
   },
   {
    "duration": 3,
    "start_time": "2025-04-09T10:42:11.548Z"
   },
   {
    "duration": 3,
    "start_time": "2025-04-09T10:42:23.006Z"
   },
   {
    "duration": 120,
    "start_time": "2025-04-09T10:43:17.197Z"
   },
   {
    "duration": 1303,
    "start_time": "2025-04-09T10:43:53.612Z"
   },
   {
    "duration": 1407,
    "start_time": "2025-04-09T10:46:01.413Z"
   },
   {
    "duration": 1465,
    "start_time": "2025-04-09T10:47:18.957Z"
   },
   {
    "duration": 1881,
    "start_time": "2025-04-09T12:51:46.009Z"
   },
   {
    "duration": 47,
    "start_time": "2025-04-09T12:51:47.892Z"
   },
   {
    "duration": 4,
    "start_time": "2025-04-09T12:51:47.941Z"
   },
   {
    "duration": 24,
    "start_time": "2025-04-09T12:51:47.947Z"
   },
   {
    "duration": 49,
    "start_time": "2025-04-09T12:51:47.973Z"
   },
   {
    "duration": 6,
    "start_time": "2025-04-09T12:51:48.024Z"
   },
   {
    "duration": 20,
    "start_time": "2025-04-09T12:51:48.038Z"
   },
   {
    "duration": 1429,
    "start_time": "2025-04-09T12:51:48.061Z"
   },
   {
    "duration": 1681,
    "start_time": "2025-04-09T12:51:49.491Z"
   },
   {
    "duration": 6,
    "start_time": "2025-04-09T12:51:51.175Z"
   },
   {
    "duration": 1631,
    "start_time": "2025-04-09T12:51:51.183Z"
   },
   {
    "duration": 20,
    "start_time": "2025-04-09T12:51:52.816Z"
   },
   {
    "duration": 65,
    "start_time": "2025-04-09T12:51:52.838Z"
   },
   {
    "duration": 10,
    "start_time": "2025-04-09T12:51:52.905Z"
   },
   {
    "duration": 50,
    "start_time": "2025-04-09T12:51:52.917Z"
   },
   {
    "duration": 364,
    "start_time": "2025-04-09T12:51:52.969Z"
   },
   {
    "duration": 8,
    "start_time": "2025-04-09T12:51:53.337Z"
   },
   {
    "duration": 7,
    "start_time": "2025-04-09T12:51:53.346Z"
   },
   {
    "duration": 12,
    "start_time": "2025-04-09T12:51:53.355Z"
   },
   {
    "duration": 11,
    "start_time": "2025-04-09T12:51:53.368Z"
   },
   {
    "duration": 617,
    "start_time": "2025-04-09T12:51:53.381Z"
   },
   {
    "duration": 117665,
    "start_time": "2025-04-09T12:51:54.000Z"
   },
   {
    "duration": 1678,
    "start_time": "2025-04-09T12:53:51.667Z"
   },
   {
    "duration": 1600,
    "start_time": "2025-04-09T14:01:09.709Z"
   },
   {
    "duration": 57,
    "start_time": "2025-04-09T14:01:11.312Z"
   },
   {
    "duration": 6,
    "start_time": "2025-04-09T14:01:11.371Z"
   },
   {
    "duration": 18,
    "start_time": "2025-04-09T14:01:11.379Z"
   },
   {
    "duration": 82,
    "start_time": "2025-04-09T14:01:11.400Z"
   },
   {
    "duration": 6,
    "start_time": "2025-04-09T14:01:11.484Z"
   },
   {
    "duration": 66,
    "start_time": "2025-04-09T14:01:11.492Z"
   },
   {
    "duration": 1404,
    "start_time": "2025-04-09T14:01:11.560Z"
   },
   {
    "duration": 1705,
    "start_time": "2025-04-09T14:01:12.966Z"
   },
   {
    "duration": 8,
    "start_time": "2025-04-09T14:01:14.675Z"
   },
   {
    "duration": 1616,
    "start_time": "2025-04-09T14:01:14.686Z"
   },
   {
    "duration": 20,
    "start_time": "2025-04-09T14:01:16.304Z"
   },
   {
    "duration": 30,
    "start_time": "2025-04-09T14:01:16.326Z"
   },
   {
    "duration": 35,
    "start_time": "2025-04-09T14:01:16.359Z"
   },
   {
    "duration": 50,
    "start_time": "2025-04-09T14:01:16.396Z"
   },
   {
    "duration": 372,
    "start_time": "2025-04-09T14:01:16.448Z"
   },
   {
    "duration": 18,
    "start_time": "2025-04-09T14:01:16.822Z"
   },
   {
    "duration": 9,
    "start_time": "2025-04-09T14:01:16.842Z"
   },
   {
    "duration": 26,
    "start_time": "2025-04-09T14:01:16.853Z"
   },
   {
    "duration": 37,
    "start_time": "2025-04-09T14:01:16.881Z"
   },
   {
    "duration": 641,
    "start_time": "2025-04-09T14:01:16.920Z"
   },
   {
    "duration": 118437,
    "start_time": "2025-04-09T14:01:17.563Z"
   },
   {
    "duration": 1544,
    "start_time": "2025-04-09T14:03:16.002Z"
   },
   {
    "duration": 126,
    "start_time": "2025-04-09T14:03:17.548Z"
   },
   {
    "duration": 1615,
    "start_time": "2025-04-09T14:05:07.089Z"
   },
   {
    "duration": 39,
    "start_time": "2025-04-09T14:05:08.706Z"
   },
   {
    "duration": 14,
    "start_time": "2025-04-09T14:05:08.746Z"
   },
   {
    "duration": 80,
    "start_time": "2025-04-09T14:05:08.761Z"
   },
   {
    "duration": 51,
    "start_time": "2025-04-09T14:05:08.843Z"
   },
   {
    "duration": 6,
    "start_time": "2025-04-09T14:05:08.896Z"
   },
   {
    "duration": 27,
    "start_time": "2025-04-09T14:05:08.904Z"
   },
   {
    "duration": 1422,
    "start_time": "2025-04-09T14:05:08.933Z"
   },
   {
    "duration": 1686,
    "start_time": "2025-04-09T14:05:10.357Z"
   },
   {
    "duration": 5,
    "start_time": "2025-04-09T14:05:12.045Z"
   },
   {
    "duration": 1542,
    "start_time": "2025-04-09T14:05:12.052Z"
   },
   {
    "duration": 18,
    "start_time": "2025-04-09T14:05:13.596Z"
   },
   {
    "duration": 4,
    "start_time": "2025-04-09T14:05:13.616Z"
   },
   {
    "duration": 7,
    "start_time": "2025-04-09T14:05:13.623Z"
   },
   {
    "duration": 24,
    "start_time": "2025-04-09T14:05:13.637Z"
   },
   {
    "duration": 355,
    "start_time": "2025-04-09T14:05:13.663Z"
   },
   {
    "duration": 19,
    "start_time": "2025-04-09T14:05:14.019Z"
   },
   {
    "duration": 8,
    "start_time": "2025-04-09T14:05:14.039Z"
   },
   {
    "duration": 12,
    "start_time": "2025-04-09T14:05:14.048Z"
   },
   {
    "duration": 27,
    "start_time": "2025-04-09T14:05:14.062Z"
   },
   {
    "duration": 684,
    "start_time": "2025-04-09T14:05:14.091Z"
   },
   {
    "duration": 118022,
    "start_time": "2025-04-09T14:05:14.777Z"
   },
   {
    "duration": 1445,
    "start_time": "2025-04-09T14:07:12.801Z"
   },
   {
    "duration": 131,
    "start_time": "2025-04-09T14:07:14.248Z"
   },
   {
    "duration": 23239,
    "start_time": "2025-04-09T14:16:58.198Z"
   },
   {
    "duration": 12,
    "start_time": "2025-04-09T15:11:57.117Z"
   },
   {
    "duration": 8,
    "start_time": "2025-04-09T15:12:06.423Z"
   },
   {
    "duration": 10,
    "start_time": "2025-04-09T15:12:43.635Z"
   },
   {
    "duration": 50,
    "start_time": "2025-04-09T18:10:28.532Z"
   },
   {
    "duration": 1559,
    "start_time": "2025-04-09T18:13:38.765Z"
   },
   {
    "duration": 48,
    "start_time": "2025-04-09T18:13:40.326Z"
   },
   {
    "duration": 3,
    "start_time": "2025-04-09T18:13:40.376Z"
   },
   {
    "duration": 11,
    "start_time": "2025-04-09T18:13:40.381Z"
   },
   {
    "duration": 4,
    "start_time": "2025-04-09T18:13:40.393Z"
   },
   {
    "duration": 48,
    "start_time": "2025-04-09T18:13:40.398Z"
   },
   {
    "duration": 33,
    "start_time": "2025-04-09T18:13:40.447Z"
   },
   {
    "duration": 42,
    "start_time": "2025-04-09T18:13:40.482Z"
   },
   {
    "duration": 8,
    "start_time": "2025-04-09T18:13:40.525Z"
   },
   {
    "duration": 51,
    "start_time": "2025-04-09T18:13:40.535Z"
   },
   {
    "duration": 16,
    "start_time": "2025-04-09T18:13:40.587Z"
   },
   {
    "duration": 1202,
    "start_time": "2025-04-09T18:13:40.605Z"
   },
   {
    "duration": 1465,
    "start_time": "2025-04-09T18:13:41.809Z"
   },
   {
    "duration": 5,
    "start_time": "2025-04-09T18:13:43.276Z"
   },
   {
    "duration": 1454,
    "start_time": "2025-04-09T18:13:43.282Z"
   },
   {
    "duration": 15,
    "start_time": "2025-04-09T18:13:44.737Z"
   },
   {
    "duration": 54,
    "start_time": "2025-04-09T18:13:44.754Z"
   },
   {
    "duration": 6,
    "start_time": "2025-04-09T18:13:44.810Z"
   },
   {
    "duration": 24,
    "start_time": "2025-04-09T18:13:44.817Z"
   },
   {
    "duration": 306,
    "start_time": "2025-04-09T18:13:44.843Z"
   },
   {
    "duration": 7,
    "start_time": "2025-04-09T18:13:45.150Z"
   },
   {
    "duration": 34,
    "start_time": "2025-04-09T18:13:45.159Z"
   },
   {
    "duration": 73,
    "start_time": "2025-04-09T18:13:45.195Z"
   },
   {
    "duration": 24,
    "start_time": "2025-04-09T18:13:45.270Z"
   },
   {
    "duration": 529,
    "start_time": "2025-04-09T18:13:45.296Z"
   },
   {
    "duration": 105308,
    "start_time": "2025-04-09T18:13:45.827Z"
   },
   {
    "duration": 1510,
    "start_time": "2025-04-09T18:15:31.137Z"
   },
   {
    "duration": 21062,
    "start_time": "2025-04-09T18:15:32.650Z"
   },
   {
    "duration": 4,
    "start_time": "2025-04-09T18:15:53.713Z"
   },
   {
    "duration": 5,
    "start_time": "2025-04-09T18:16:00.777Z"
   },
   {
    "duration": 5,
    "start_time": "2025-04-09T18:16:01.540Z"
   },
   {
    "duration": 6,
    "start_time": "2025-04-09T18:16:03.565Z"
   },
   {
    "duration": 4,
    "start_time": "2025-04-09T18:16:05.036Z"
   },
   {
    "duration": 5,
    "start_time": "2025-04-09T18:16:05.713Z"
   },
   {
    "duration": 5,
    "start_time": "2025-04-09T18:17:12.278Z"
   },
   {
    "duration": 4,
    "start_time": "2025-04-09T18:17:12.709Z"
   },
   {
    "duration": 1656,
    "start_time": "2025-04-09T18:17:39.574Z"
   },
   {
    "duration": 4,
    "start_time": "2025-04-09T18:17:52.347Z"
   },
   {
    "duration": 4,
    "start_time": "2025-04-09T18:18:31.574Z"
   },
   {
    "duration": 174,
    "start_time": "2025-04-09T18:19:55.402Z"
   },
   {
    "duration": 1363,
    "start_time": "2025-04-09T18:27:31.282Z"
   },
   {
    "duration": 21056,
    "start_time": "2025-04-09T18:29:10.134Z"
   },
   {
    "duration": 2784,
    "start_time": "2025-04-09T18:54:48.256Z"
   },
   {
    "duration": 25391,
    "start_time": "2025-04-09T19:05:45.568Z"
   },
   {
    "duration": 11,
    "start_time": "2025-04-09T19:11:07.134Z"
   },
   {
    "duration": 2937,
    "start_time": "2025-04-09T19:15:20.766Z"
   },
   {
    "duration": 2922,
    "start_time": "2025-04-09T19:16:19.986Z"
   },
   {
    "duration": 5359,
    "start_time": "2025-04-09T19:16:31.155Z"
   },
   {
    "duration": 3092,
    "start_time": "2025-04-09T19:16:53.755Z"
   },
   {
    "duration": 2722,
    "start_time": "2025-04-09T19:17:08.068Z"
   },
   {
    "duration": 3018,
    "start_time": "2025-04-09T19:17:30.097Z"
   },
   {
    "duration": 2970,
    "start_time": "2025-04-09T19:19:34.468Z"
   },
   {
    "duration": 11,
    "start_time": "2025-04-09T19:26:26.583Z"
   },
   {
    "duration": 7,
    "start_time": "2025-04-09T19:27:32.344Z"
   },
   {
    "duration": 2515,
    "start_time": "2025-04-09T19:32:22.229Z"
   },
   {
    "duration": 101,
    "start_time": "2025-04-09T19:32:24.746Z"
   },
   {
    "duration": 7,
    "start_time": "2025-04-09T19:33:40.579Z"
   },
   {
    "duration": 83,
    "start_time": "2025-04-10T07:55:39.456Z"
   },
   {
    "duration": 45,
    "start_time": "2025-04-10T08:10:05.988Z"
   },
   {
    "duration": 1680,
    "start_time": "2025-04-10T08:10:10.677Z"
   },
   {
    "duration": 46,
    "start_time": "2025-04-10T08:10:12.360Z"
   },
   {
    "duration": 5,
    "start_time": "2025-04-10T08:10:12.408Z"
   },
   {
    "duration": 90,
    "start_time": "2025-04-10T08:10:12.415Z"
   },
   {
    "duration": 19,
    "start_time": "2025-04-10T08:10:12.508Z"
   },
   {
    "duration": 116,
    "start_time": "2025-04-10T08:10:12.529Z"
   },
   {
    "duration": 0,
    "start_time": "2025-04-10T08:10:12.648Z"
   },
   {
    "duration": 0,
    "start_time": "2025-04-10T08:10:12.648Z"
   },
   {
    "duration": 0,
    "start_time": "2025-04-10T08:10:12.649Z"
   },
   {
    "duration": 0,
    "start_time": "2025-04-10T08:10:12.650Z"
   },
   {
    "duration": 0,
    "start_time": "2025-04-10T08:10:12.651Z"
   },
   {
    "duration": 0,
    "start_time": "2025-04-10T08:10:12.652Z"
   },
   {
    "duration": 0,
    "start_time": "2025-04-10T08:10:12.653Z"
   },
   {
    "duration": 0,
    "start_time": "2025-04-10T08:10:12.654Z"
   },
   {
    "duration": 0,
    "start_time": "2025-04-10T08:10:12.655Z"
   },
   {
    "duration": 0,
    "start_time": "2025-04-10T08:10:12.656Z"
   },
   {
    "duration": 0,
    "start_time": "2025-04-10T08:10:12.657Z"
   },
   {
    "duration": 0,
    "start_time": "2025-04-10T08:10:12.676Z"
   },
   {
    "duration": 0,
    "start_time": "2025-04-10T08:10:12.677Z"
   },
   {
    "duration": 0,
    "start_time": "2025-04-10T08:10:12.678Z"
   },
   {
    "duration": 0,
    "start_time": "2025-04-10T08:10:12.679Z"
   },
   {
    "duration": 0,
    "start_time": "2025-04-10T08:10:12.680Z"
   },
   {
    "duration": 0,
    "start_time": "2025-04-10T08:10:12.681Z"
   },
   {
    "duration": 0,
    "start_time": "2025-04-10T08:10:12.682Z"
   },
   {
    "duration": 0,
    "start_time": "2025-04-10T08:10:12.684Z"
   },
   {
    "duration": 0,
    "start_time": "2025-04-10T08:10:12.684Z"
   },
   {
    "duration": 0,
    "start_time": "2025-04-10T08:10:12.686Z"
   },
   {
    "duration": 0,
    "start_time": "2025-04-10T08:10:12.686Z"
   },
   {
    "duration": 0,
    "start_time": "2025-04-10T08:10:12.687Z"
   },
   {
    "duration": 0,
    "start_time": "2025-04-10T08:10:12.688Z"
   },
   {
    "duration": 0,
    "start_time": "2025-04-10T08:10:12.689Z"
   },
   {
    "duration": 0,
    "start_time": "2025-04-10T08:10:12.690Z"
   },
   {
    "duration": 0,
    "start_time": "2025-04-10T08:10:12.691Z"
   },
   {
    "duration": 0,
    "start_time": "2025-04-10T08:10:12.692Z"
   },
   {
    "duration": 0,
    "start_time": "2025-04-10T08:10:12.693Z"
   },
   {
    "duration": 0,
    "start_time": "2025-04-10T08:10:12.694Z"
   },
   {
    "duration": 0,
    "start_time": "2025-04-10T08:10:12.695Z"
   },
   {
    "duration": 0,
    "start_time": "2025-04-10T08:10:12.697Z"
   },
   {
    "duration": 5,
    "start_time": "2025-04-10T08:10:28.042Z"
   },
   {
    "duration": 6,
    "start_time": "2025-04-10T08:11:11.240Z"
   },
   {
    "duration": 8,
    "start_time": "2025-04-10T08:11:12.009Z"
   },
   {
    "duration": 6,
    "start_time": "2025-04-10T08:11:12.664Z"
   },
   {
    "duration": 6,
    "start_time": "2025-04-10T08:11:13.243Z"
   },
   {
    "duration": 5,
    "start_time": "2025-04-10T08:11:15.444Z"
   },
   {
    "duration": 6,
    "start_time": "2025-04-10T08:11:23.957Z"
   },
   {
    "duration": 5,
    "start_time": "2025-04-10T08:11:30.991Z"
   },
   {
    "duration": 6,
    "start_time": "2025-04-10T08:11:36.752Z"
   },
   {
    "duration": 8,
    "start_time": "2025-04-10T08:11:37.362Z"
   },
   {
    "duration": 46,
    "start_time": "2025-04-10T08:11:48.365Z"
   },
   {
    "duration": 6,
    "start_time": "2025-04-10T08:11:54.186Z"
   },
   {
    "duration": 26,
    "start_time": "2025-04-10T08:12:19.784Z"
   },
   {
    "duration": 1486,
    "start_time": "2025-04-10T08:12:26.900Z"
   },
   {
    "duration": 8,
    "start_time": "2025-04-10T08:17:00.735Z"
   },
   {
    "duration": 177,
    "start_time": "2025-04-10T08:17:35.874Z"
   },
   {
    "duration": 153,
    "start_time": "2025-04-10T08:18:18.160Z"
   },
   {
    "duration": 158,
    "start_time": "2025-04-10T08:19:09.768Z"
   },
   {
    "duration": 148,
    "start_time": "2025-04-10T08:19:10.285Z"
   },
   {
    "duration": 168,
    "start_time": "2025-04-10T08:19:11.054Z"
   },
   {
    "duration": 146,
    "start_time": "2025-04-10T08:20:35.433Z"
   },
   {
    "duration": 255,
    "start_time": "2025-04-10T08:22:58.241Z"
   },
   {
    "duration": 164,
    "start_time": "2025-04-10T08:22:59.354Z"
   },
   {
    "duration": 162,
    "start_time": "2025-04-10T08:23:00.214Z"
   },
   {
    "duration": 45,
    "start_time": "2025-04-10T08:30:56.998Z"
   },
   {
    "duration": 16,
    "start_time": "2025-04-10T08:31:47.015Z"
   },
   {
    "duration": 1594,
    "start_time": "2025-04-10T08:32:27.763Z"
   },
   {
    "duration": 18,
    "start_time": "2025-04-10T08:34:59.973Z"
   },
   {
    "duration": 1713,
    "start_time": "2025-04-10T13:45:10.224Z"
   },
   {
    "duration": 47,
    "start_time": "2025-04-10T13:45:11.939Z"
   },
   {
    "duration": 4,
    "start_time": "2025-04-10T13:45:11.988Z"
   },
   {
    "duration": 13,
    "start_time": "2025-04-10T13:45:11.993Z"
   },
   {
    "duration": 4,
    "start_time": "2025-04-10T13:45:12.007Z"
   },
   {
    "duration": 6,
    "start_time": "2025-04-10T13:45:12.012Z"
   },
   {
    "duration": 16,
    "start_time": "2025-04-10T13:45:12.019Z"
   },
   {
    "duration": 6,
    "start_time": "2025-04-10T13:45:12.037Z"
   },
   {
    "duration": 14,
    "start_time": "2025-04-10T13:45:12.044Z"
   },
   {
    "duration": 8,
    "start_time": "2025-04-10T13:45:12.060Z"
   },
   {
    "duration": 8,
    "start_time": "2025-04-10T13:45:12.070Z"
   },
   {
    "duration": 6,
    "start_time": "2025-04-10T13:45:12.080Z"
   },
   {
    "duration": 5,
    "start_time": "2025-04-10T13:45:12.088Z"
   },
   {
    "duration": 6,
    "start_time": "2025-04-10T13:45:12.095Z"
   },
   {
    "duration": 34,
    "start_time": "2025-04-10T13:45:12.102Z"
   },
   {
    "duration": 186,
    "start_time": "2025-04-10T13:45:12.138Z"
   },
   {
    "duration": 158,
    "start_time": "2025-04-10T13:45:12.326Z"
   },
   {
    "duration": 171,
    "start_time": "2025-04-10T13:45:12.485Z"
   },
   {
    "duration": 18,
    "start_time": "2025-04-10T13:45:12.658Z"
   },
   {
    "duration": 16,
    "start_time": "2025-04-10T13:45:12.679Z"
   },
   {
    "duration": 1310,
    "start_time": "2025-04-10T13:45:12.697Z"
   },
   {
    "duration": 1489,
    "start_time": "2025-04-10T13:45:14.009Z"
   },
   {
    "duration": 6,
    "start_time": "2025-04-10T13:45:15.499Z"
   },
   {
    "duration": 1470,
    "start_time": "2025-04-10T13:45:15.506Z"
   },
   {
    "duration": 17,
    "start_time": "2025-04-10T13:45:16.977Z"
   },
   {
    "duration": 9,
    "start_time": "2025-04-10T13:45:16.996Z"
   },
   {
    "duration": 14,
    "start_time": "2025-04-10T13:45:17.006Z"
   },
   {
    "duration": 24,
    "start_time": "2025-04-10T13:45:17.023Z"
   },
   {
    "duration": 328,
    "start_time": "2025-04-10T13:45:17.048Z"
   },
   {
    "duration": 8,
    "start_time": "2025-04-10T13:45:17.377Z"
   },
   {
    "duration": 5,
    "start_time": "2025-04-10T13:45:17.387Z"
   },
   {
    "duration": 3,
    "start_time": "2025-04-10T13:45:17.394Z"
   },
   {
    "duration": 8,
    "start_time": "2025-04-10T13:45:17.398Z"
   },
   {
    "duration": 587,
    "start_time": "2025-04-10T13:45:17.407Z"
   },
   {
    "duration": 107852,
    "start_time": "2025-04-10T13:45:17.996Z"
   },
   {
    "duration": 2687,
    "start_time": "2025-04-10T13:47:05.850Z"
   },
   {
    "duration": 101,
    "start_time": "2025-04-10T13:47:08.544Z"
   },
   {
    "duration": 25280,
    "start_time": "2025-04-10T13:47:08.646Z"
   },
   {
    "duration": 3044,
    "start_time": "2025-04-10T13:47:33.927Z"
   },
   {
    "duration": 7,
    "start_time": "2025-04-10T13:47:36.973Z"
   },
   {
    "duration": 248,
    "start_time": "2025-04-10T13:47:36.983Z"
   },
   {
    "duration": 1278,
    "start_time": "2025-04-10T13:48:15.765Z"
   },
   {
    "duration": 128,
    "start_time": "2025-04-10T13:48:32.773Z"
   },
   {
    "duration": 1157,
    "start_time": "2025-04-10T13:48:36.477Z"
   },
   {
    "duration": 1391,
    "start_time": "2025-04-10T13:48:47.240Z"
   },
   {
    "duration": 46,
    "start_time": "2025-04-10T13:48:48.634Z"
   },
   {
    "duration": 5,
    "start_time": "2025-04-10T13:48:48.681Z"
   },
   {
    "duration": 12,
    "start_time": "2025-04-10T13:48:48.688Z"
   },
   {
    "duration": 4,
    "start_time": "2025-04-10T13:48:48.701Z"
   },
   {
    "duration": 9,
    "start_time": "2025-04-10T13:48:48.707Z"
   },
   {
    "duration": 6,
    "start_time": "2025-04-10T13:48:48.717Z"
   },
   {
    "duration": 5,
    "start_time": "2025-04-10T13:48:48.735Z"
   },
   {
    "duration": 8,
    "start_time": "2025-04-10T13:48:48.742Z"
   },
   {
    "duration": 4,
    "start_time": "2025-04-10T13:48:48.753Z"
   },
   {
    "duration": 19,
    "start_time": "2025-04-10T13:48:48.760Z"
   },
   {
    "duration": 6,
    "start_time": "2025-04-10T13:48:48.780Z"
   },
   {
    "duration": 6,
    "start_time": "2025-04-10T13:48:48.787Z"
   },
   {
    "duration": 168,
    "start_time": "2025-04-10T13:48:48.794Z"
   },
   {
    "duration": 6,
    "start_time": "2025-04-10T13:48:48.964Z"
   },
   {
    "duration": 5,
    "start_time": "2025-04-10T13:48:48.972Z"
   },
   {
    "duration": 170,
    "start_time": "2025-04-10T13:48:48.979Z"
   },
   {
    "duration": 163,
    "start_time": "2025-04-10T13:48:49.151Z"
   },
   {
    "duration": 165,
    "start_time": "2025-04-10T13:48:49.316Z"
   },
   {
    "duration": 19,
    "start_time": "2025-04-10T13:48:49.483Z"
   },
   {
    "duration": 32,
    "start_time": "2025-04-10T13:48:49.504Z"
   },
   {
    "duration": 1268,
    "start_time": "2025-04-10T13:48:49.538Z"
   },
   {
    "duration": 1482,
    "start_time": "2025-04-10T13:48:50.808Z"
   },
   {
    "duration": 7,
    "start_time": "2025-04-10T13:48:52.292Z"
   },
   {
    "duration": 1512,
    "start_time": "2025-04-10T13:48:52.300Z"
   },
   {
    "duration": 29,
    "start_time": "2025-04-10T13:48:53.814Z"
   },
   {
    "duration": 101,
    "start_time": "2025-04-10T13:48:53.845Z"
   },
   {
    "duration": 5,
    "start_time": "2025-04-10T13:48:53.949Z"
   },
   {
    "duration": 24,
    "start_time": "2025-04-10T13:48:53.956Z"
   },
   {
    "duration": 429,
    "start_time": "2025-04-10T13:48:53.982Z"
   },
   {
    "duration": 8,
    "start_time": "2025-04-10T13:48:54.412Z"
   },
   {
    "duration": 16,
    "start_time": "2025-04-10T13:48:54.421Z"
   },
   {
    "duration": 4,
    "start_time": "2025-04-10T13:48:54.438Z"
   },
   {
    "duration": 17,
    "start_time": "2025-04-10T13:48:54.443Z"
   },
   {
    "duration": 574,
    "start_time": "2025-04-10T13:48:54.461Z"
   },
   {
    "duration": 106878,
    "start_time": "2025-04-10T13:48:55.036Z"
   },
   {
    "duration": 1519,
    "start_time": "2025-04-10T13:50:44.706Z"
   },
   {
    "duration": 35,
    "start_time": "2025-04-10T13:50:46.227Z"
   },
   {
    "duration": 4,
    "start_time": "2025-04-10T13:50:46.263Z"
   },
   {
    "duration": 17,
    "start_time": "2025-04-10T13:50:46.269Z"
   },
   {
    "duration": 4,
    "start_time": "2025-04-10T13:50:46.288Z"
   },
   {
    "duration": 9,
    "start_time": "2025-04-10T13:50:46.293Z"
   },
   {
    "duration": 5,
    "start_time": "2025-04-10T13:50:46.303Z"
   },
   {
    "duration": 26,
    "start_time": "2025-04-10T13:50:46.309Z"
   },
   {
    "duration": 4,
    "start_time": "2025-04-10T13:50:46.337Z"
   },
   {
    "duration": 4,
    "start_time": "2025-04-10T13:50:46.343Z"
   },
   {
    "duration": 6,
    "start_time": "2025-04-10T13:50:46.349Z"
   },
   {
    "duration": 22,
    "start_time": "2025-04-10T13:50:46.356Z"
   },
   {
    "duration": 6,
    "start_time": "2025-04-10T13:50:46.379Z"
   },
   {
    "duration": 184,
    "start_time": "2025-04-10T13:50:46.387Z"
   },
   {
    "duration": 5,
    "start_time": "2025-04-10T13:50:46.573Z"
   },
   {
    "duration": 223,
    "start_time": "2025-04-10T13:50:46.579Z"
   },
   {
    "duration": 6,
    "start_time": "2025-04-10T13:50:46.803Z"
   },
   {
    "duration": 159,
    "start_time": "2025-04-10T13:50:46.810Z"
   },
   {
    "duration": 182,
    "start_time": "2025-04-10T13:50:46.971Z"
   },
   {
    "duration": 249,
    "start_time": "2025-04-10T13:50:47.155Z"
   },
   {
    "duration": 168,
    "start_time": "2025-04-10T13:50:47.406Z"
   },
   {
    "duration": 18,
    "start_time": "2025-04-10T13:50:47.576Z"
   },
   {
    "duration": 15,
    "start_time": "2025-04-10T13:50:47.595Z"
   },
   {
    "duration": 1253,
    "start_time": "2025-04-10T13:50:47.612Z"
   },
   {
    "duration": 1547,
    "start_time": "2025-04-10T13:50:48.867Z"
   },
   {
    "duration": 5,
    "start_time": "2025-04-10T13:50:50.416Z"
   },
   {
    "duration": 1545,
    "start_time": "2025-04-10T13:50:50.423Z"
   },
   {
    "duration": 16,
    "start_time": "2025-04-10T13:50:51.969Z"
   },
   {
    "duration": 5,
    "start_time": "2025-04-10T13:50:51.987Z"
   },
   {
    "duration": 32,
    "start_time": "2025-04-10T13:50:51.993Z"
   },
   {
    "duration": 45,
    "start_time": "2025-04-10T13:50:52.027Z"
   },
   {
    "duration": 314,
    "start_time": "2025-04-10T13:50:52.073Z"
   },
   {
    "duration": 7,
    "start_time": "2025-04-10T13:50:52.389Z"
   },
   {
    "duration": 23,
    "start_time": "2025-04-10T13:50:52.397Z"
   },
   {
    "duration": 4,
    "start_time": "2025-04-10T13:50:52.422Z"
   },
   {
    "duration": 17,
    "start_time": "2025-04-10T13:50:52.427Z"
   },
   {
    "duration": 575,
    "start_time": "2025-04-10T13:50:52.445Z"
   },
   {
    "duration": 108451,
    "start_time": "2025-04-10T13:50:53.022Z"
   },
   {
    "duration": 2668,
    "start_time": "2025-04-10T13:52:41.475Z"
   },
   {
    "duration": 103,
    "start_time": "2025-04-10T13:52:44.145Z"
   },
   {
    "duration": 25614,
    "start_time": "2025-04-10T13:52:44.252Z"
   },
   {
    "duration": 3019,
    "start_time": "2025-04-10T13:53:09.867Z"
   },
   {
    "duration": 7,
    "start_time": "2025-04-10T13:53:12.887Z"
   },
   {
    "duration": 94,
    "start_time": "2025-04-10T19:13:40.859Z"
   },
   {
    "duration": 49,
    "start_time": "2025-04-11T05:56:07.826Z"
   },
   {
    "duration": 1588,
    "start_time": "2025-04-11T05:56:12.597Z"
   },
   {
    "duration": 47,
    "start_time": "2025-04-11T05:56:14.187Z"
   },
   {
    "duration": 3,
    "start_time": "2025-04-11T05:56:14.236Z"
   },
   {
    "duration": 12,
    "start_time": "2025-04-11T05:56:14.241Z"
   },
   {
    "duration": 4,
    "start_time": "2025-04-11T05:56:14.255Z"
   },
   {
    "duration": 11,
    "start_time": "2025-04-11T05:56:14.261Z"
   },
   {
    "duration": 5,
    "start_time": "2025-04-11T05:56:14.274Z"
   },
   {
    "duration": 5,
    "start_time": "2025-04-11T05:56:14.280Z"
   },
   {
    "duration": 6,
    "start_time": "2025-04-11T05:56:14.287Z"
   },
   {
    "duration": 5,
    "start_time": "2025-04-11T05:56:14.295Z"
   },
   {
    "duration": 15,
    "start_time": "2025-04-11T05:56:14.301Z"
   },
   {
    "duration": 8,
    "start_time": "2025-04-11T05:56:14.317Z"
   },
   {
    "duration": 37,
    "start_time": "2025-04-11T05:56:14.327Z"
   },
   {
    "duration": 168,
    "start_time": "2025-04-11T05:56:14.368Z"
   },
   {
    "duration": 6,
    "start_time": "2025-04-11T05:56:14.537Z"
   },
   {
    "duration": 185,
    "start_time": "2025-04-11T05:56:14.544Z"
   },
   {
    "duration": 6,
    "start_time": "2025-04-11T05:56:14.730Z"
   },
   {
    "duration": 162,
    "start_time": "2025-04-11T05:56:14.737Z"
   },
   {
    "duration": 172,
    "start_time": "2025-04-11T05:56:14.901Z"
   },
   {
    "duration": 255,
    "start_time": "2025-04-11T05:56:15.074Z"
   },
   {
    "duration": 178,
    "start_time": "2025-04-11T05:56:15.330Z"
   },
   {
    "duration": 20,
    "start_time": "2025-04-11T05:56:15.510Z"
   },
   {
    "duration": 34,
    "start_time": "2025-04-11T05:56:15.531Z"
   },
   {
    "duration": 1237,
    "start_time": "2025-04-11T05:56:15.567Z"
   },
   {
    "duration": 1512,
    "start_time": "2025-04-11T05:56:16.806Z"
   },
   {
    "duration": 5,
    "start_time": "2025-04-11T05:56:18.320Z"
   },
   {
    "duration": 1619,
    "start_time": "2025-04-11T05:56:18.326Z"
   },
   {
    "duration": 18,
    "start_time": "2025-04-11T05:56:19.947Z"
   },
   {
    "duration": 3,
    "start_time": "2025-04-11T05:56:19.967Z"
   },
   {
    "duration": 5,
    "start_time": "2025-04-11T05:56:19.972Z"
   },
   {
    "duration": 23,
    "start_time": "2025-04-11T05:56:19.979Z"
   },
   {
    "duration": 347,
    "start_time": "2025-04-11T05:56:20.004Z"
   },
   {
    "duration": 13,
    "start_time": "2025-04-11T05:56:20.353Z"
   },
   {
    "duration": 38,
    "start_time": "2025-04-11T05:56:20.368Z"
   },
   {
    "duration": 7,
    "start_time": "2025-04-11T05:56:20.408Z"
   },
   {
    "duration": 14,
    "start_time": "2025-04-11T05:56:20.416Z"
   },
   {
    "duration": 584,
    "start_time": "2025-04-11T05:56:20.432Z"
   },
   {
    "duration": 110074,
    "start_time": "2025-04-11T05:56:21.018Z"
   },
   {
    "duration": 2775,
    "start_time": "2025-04-11T05:58:11.094Z"
   },
   {
    "duration": 18,
    "start_time": "2025-04-11T05:58:13.961Z"
   },
   {
    "duration": 26264,
    "start_time": "2025-04-11T05:58:13.982Z"
   },
   {
    "duration": 3100,
    "start_time": "2025-04-11T05:58:40.247Z"
   },
   {
    "duration": 15,
    "start_time": "2025-04-11T05:58:43.349Z"
   },
   {
    "duration": 1312,
    "start_time": "2025-04-11T05:58:43.365Z"
   },
   {
    "duration": 0,
    "start_time": "2025-04-11T05:58:44.678Z"
   },
   {
    "duration": 1446,
    "start_time": "2025-04-11T05:59:12.468Z"
   },
   {
    "duration": 46,
    "start_time": "2025-04-11T05:59:13.916Z"
   },
   {
    "duration": 4,
    "start_time": "2025-04-11T05:59:13.963Z"
   },
   {
    "duration": 11,
    "start_time": "2025-04-11T05:59:13.969Z"
   },
   {
    "duration": 4,
    "start_time": "2025-04-11T05:59:13.981Z"
   },
   {
    "duration": 6,
    "start_time": "2025-04-11T05:59:13.987Z"
   },
   {
    "duration": 7,
    "start_time": "2025-04-11T05:59:13.995Z"
   },
   {
    "duration": 11,
    "start_time": "2025-04-11T05:59:14.003Z"
   },
   {
    "duration": 45,
    "start_time": "2025-04-11T05:59:14.016Z"
   },
   {
    "duration": 5,
    "start_time": "2025-04-11T05:59:14.065Z"
   },
   {
    "duration": 7,
    "start_time": "2025-04-11T05:59:14.072Z"
   },
   {
    "duration": 7,
    "start_time": "2025-04-11T05:59:14.080Z"
   },
   {
    "duration": 6,
    "start_time": "2025-04-11T05:59:14.088Z"
   },
   {
    "duration": 195,
    "start_time": "2025-04-11T05:59:14.096Z"
   },
   {
    "duration": 6,
    "start_time": "2025-04-11T05:59:14.293Z"
   },
   {
    "duration": 167,
    "start_time": "2025-04-11T05:59:14.301Z"
   },
   {
    "duration": 7,
    "start_time": "2025-04-11T05:59:14.470Z"
   },
   {
    "duration": 182,
    "start_time": "2025-04-11T05:59:14.478Z"
   },
   {
    "duration": 179,
    "start_time": "2025-04-11T05:59:14.662Z"
   },
   {
    "duration": 262,
    "start_time": "2025-04-11T05:59:14.843Z"
   },
   {
    "duration": 193,
    "start_time": "2025-04-11T05:59:15.107Z"
   },
   {
    "duration": 18,
    "start_time": "2025-04-11T05:59:15.302Z"
   },
   {
    "duration": 62,
    "start_time": "2025-04-11T05:59:15.322Z"
   },
   {
    "duration": 1282,
    "start_time": "2025-04-11T05:59:15.385Z"
   },
   {
    "duration": 1552,
    "start_time": "2025-04-11T05:59:16.669Z"
   },
   {
    "duration": 5,
    "start_time": "2025-04-11T05:59:18.223Z"
   },
   {
    "duration": 1571,
    "start_time": "2025-04-11T05:59:18.230Z"
   },
   {
    "duration": 17,
    "start_time": "2025-04-11T05:59:19.804Z"
   },
   {
    "duration": 4,
    "start_time": "2025-04-11T05:59:19.822Z"
   },
   {
    "duration": 11,
    "start_time": "2025-04-11T05:59:19.828Z"
   },
   {
    "duration": 27,
    "start_time": "2025-04-11T05:59:19.840Z"
   },
   {
    "duration": 332,
    "start_time": "2025-04-11T05:59:19.869Z"
   },
   {
    "duration": 8,
    "start_time": "2025-04-11T05:59:20.202Z"
   },
   {
    "duration": 9,
    "start_time": "2025-04-11T05:59:20.212Z"
   },
   {
    "duration": 4,
    "start_time": "2025-04-11T05:59:20.222Z"
   },
   {
    "duration": 32,
    "start_time": "2025-04-11T05:59:20.228Z"
   },
   {
    "duration": 614,
    "start_time": "2025-04-11T05:59:20.262Z"
   },
   {
    "duration": 112167,
    "start_time": "2025-04-11T05:59:20.878Z"
   },
   {
    "duration": 2816,
    "start_time": "2025-04-11T06:01:13.047Z"
   },
   {
    "duration": 110,
    "start_time": "2025-04-11T06:01:15.866Z"
   },
   {
    "duration": 26862,
    "start_time": "2025-04-11T06:01:15.978Z"
   },
   {
    "duration": 3227,
    "start_time": "2025-04-11T06:01:42.842Z"
   },
   {
    "duration": 8,
    "start_time": "2025-04-11T06:01:46.071Z"
   },
   {
    "duration": 78,
    "start_time": "2025-04-11T06:02:01.068Z"
   },
   {
    "duration": 91,
    "start_time": "2025-04-11T06:02:41.688Z"
   },
   {
    "duration": 3,
    "start_time": "2025-04-11T06:09:37.379Z"
   },
   {
    "duration": 70,
    "start_time": "2025-04-11T06:11:10.286Z"
   },
   {
    "duration": 70,
    "start_time": "2025-04-11T06:11:23.565Z"
   },
   {
    "duration": 68,
    "start_time": "2025-04-11T06:11:35.755Z"
   },
   {
    "duration": 73,
    "start_time": "2025-04-11T06:11:49.081Z"
   },
   {
    "duration": 76,
    "start_time": "2025-04-11T06:11:58.000Z"
   },
   {
    "duration": 3,
    "start_time": "2025-04-11T06:12:27.058Z"
   },
   {
    "duration": 3,
    "start_time": "2025-04-11T06:13:11.368Z"
   },
   {
    "duration": 4,
    "start_time": "2025-04-11T06:13:27.275Z"
   },
   {
    "duration": 8,
    "start_time": "2025-04-11T06:25:11.029Z"
   },
   {
    "duration": 17,
    "start_time": "2025-04-11T06:25:18.684Z"
   },
   {
    "duration": 139,
    "start_time": "2025-04-11T06:31:15.643Z"
   },
   {
    "duration": 6,
    "start_time": "2025-04-11T06:31:29.236Z"
   },
   {
    "duration": 522,
    "start_time": "2025-04-11T06:34:45.520Z"
   },
   {
    "duration": 425,
    "start_time": "2025-04-11T06:35:00.124Z"
   },
   {
    "duration": 1734,
    "start_time": "2025-04-11T06:39:20.415Z"
   },
   {
    "duration": 3523,
    "start_time": "2025-04-11T06:47:29.859Z"
   },
   {
    "duration": 20,
    "start_time": "2025-04-11T06:56:45.480Z"
   },
   {
    "duration": 19,
    "start_time": "2025-04-11T06:57:37.056Z"
   },
   {
    "duration": 20,
    "start_time": "2025-04-11T06:58:12.183Z"
   },
   {
    "duration": 818,
    "start_time": "2025-04-11T07:00:30.949Z"
   },
   {
    "duration": 1913,
    "start_time": "2025-04-11T07:01:22.583Z"
   },
   {
    "duration": 15,
    "start_time": "2025-04-11T07:11:02.212Z"
   },
   {
    "duration": 10,
    "start_time": "2025-04-11T07:11:10.011Z"
   },
   {
    "duration": 783,
    "start_time": "2025-04-11T07:11:46.784Z"
   },
   {
    "duration": 1761,
    "start_time": "2025-04-11T07:12:26.972Z"
   },
   {
    "duration": 128,
    "start_time": "2025-04-11T07:30:14.945Z"
   },
   {
    "duration": 1731,
    "start_time": "2025-10-06T08:14:21.038Z"
   },
   {
    "duration": 89,
    "start_time": "2025-10-06T08:14:22.771Z"
   },
   {
    "duration": 38,
    "start_time": "2025-10-06T08:14:22.862Z"
   },
   {
    "duration": 44,
    "start_time": "2025-10-06T08:14:22.902Z"
   },
   {
    "duration": 79,
    "start_time": "2025-10-06T08:14:22.949Z"
   },
   {
    "duration": 6,
    "start_time": "2025-10-06T08:14:23.030Z"
   },
   {
    "duration": 11,
    "start_time": "2025-10-06T08:14:23.037Z"
   },
   {
    "duration": 5,
    "start_time": "2025-10-06T08:14:23.050Z"
   },
   {
    "duration": 6,
    "start_time": "2025-10-06T08:14:23.056Z"
   },
   {
    "duration": 14,
    "start_time": "2025-10-06T08:14:23.064Z"
   },
   {
    "duration": 6,
    "start_time": "2025-10-06T08:14:23.080Z"
   },
   {
    "duration": 6,
    "start_time": "2025-10-06T08:14:23.087Z"
   },
   {
    "duration": 5,
    "start_time": "2025-10-06T08:14:23.095Z"
   },
   {
    "duration": 218,
    "start_time": "2025-10-06T08:14:23.103Z"
   },
   {
    "duration": 17,
    "start_time": "2025-10-06T08:14:23.323Z"
   },
   {
    "duration": 178,
    "start_time": "2025-10-06T08:14:23.342Z"
   },
   {
    "duration": 6,
    "start_time": "2025-10-06T08:14:23.523Z"
   },
   {
    "duration": 198,
    "start_time": "2025-10-06T08:14:23.531Z"
   },
   {
    "duration": 193,
    "start_time": "2025-10-06T08:14:23.731Z"
   },
   {
    "duration": 271,
    "start_time": "2025-10-06T08:14:23.926Z"
   },
   {
    "duration": 200,
    "start_time": "2025-10-06T08:14:24.199Z"
   },
   {
    "duration": 19,
    "start_time": "2025-10-06T08:14:24.401Z"
   },
   {
    "duration": 31,
    "start_time": "2025-10-06T08:14:24.422Z"
   },
   {
    "duration": 1346,
    "start_time": "2025-10-06T08:14:24.455Z"
   },
   {
    "duration": 1648,
    "start_time": "2025-10-06T08:14:25.803Z"
   },
   {
    "duration": 6,
    "start_time": "2025-10-06T08:14:27.453Z"
   },
   {
    "duration": 1769,
    "start_time": "2025-10-06T08:14:27.460Z"
   },
   {
    "duration": 12,
    "start_time": "2025-10-06T08:14:29.231Z"
   },
   {
    "duration": 5,
    "start_time": "2025-10-06T08:14:29.244Z"
   },
   {
    "duration": 9,
    "start_time": "2025-10-06T08:14:29.251Z"
   },
   {
    "duration": 50,
    "start_time": "2025-10-06T08:14:29.261Z"
   },
   {
    "duration": 350,
    "start_time": "2025-10-06T08:14:29.313Z"
   },
   {
    "duration": 8,
    "start_time": "2025-10-06T08:14:29.665Z"
   },
   {
    "duration": 49,
    "start_time": "2025-10-06T08:14:29.675Z"
   },
   {
    "duration": 36,
    "start_time": "2025-10-06T08:14:29.726Z"
   },
   {
    "duration": 5,
    "start_time": "2025-10-06T08:14:29.764Z"
   },
   {
    "duration": 14,
    "start_time": "2025-10-06T08:14:29.770Z"
   },
   {
    "duration": 632,
    "start_time": "2025-10-06T08:14:29.786Z"
   },
   {
    "duration": 122008,
    "start_time": "2025-10-06T08:14:30.419Z"
   },
   {
    "duration": 2913,
    "start_time": "2025-10-06T08:16:32.429Z"
   },
   {
    "duration": 18,
    "start_time": "2025-10-06T08:16:35.346Z"
   },
   {
    "duration": 28199,
    "start_time": "2025-10-06T08:16:35.366Z"
   },
   {
    "duration": 3731,
    "start_time": "2025-10-06T08:17:03.567Z"
   },
   {
    "duration": 7,
    "start_time": "2025-10-06T08:17:07.300Z"
   },
   {
    "duration": 850,
    "start_time": "2025-10-06T08:17:07.309Z"
   },
   {
    "duration": 7,
    "start_time": "2025-10-06T08:17:08.161Z"
   }
  ],
  "kernelspec": {
   "display_name": "Python 3 (ipykernel)",
   "language": "python",
   "name": "python3"
  },
  "language_info": {
   "codemirror_mode": {
    "name": "ipython",
    "version": 3
   },
   "file_extension": ".py",
   "mimetype": "text/x-python",
   "name": "python",
   "nbconvert_exporter": "python",
   "pygments_lexer": "ipython3",
   "version": "3.9.5"
  },
  "toc": {
   "base_numbering": 1,
   "nav_menu": {},
   "number_sections": true,
   "sideBar": true,
   "skip_h1_title": true,
   "title_cell": "Table of Contents",
   "title_sidebar": "Contents",
   "toc_cell": false,
   "toc_position": {},
   "toc_section_display": true,
   "toc_window_display": false
  }
 },
 "nbformat": 4,
 "nbformat_minor": 2
}
