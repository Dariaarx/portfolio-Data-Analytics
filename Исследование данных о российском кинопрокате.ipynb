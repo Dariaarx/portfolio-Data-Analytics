{
 "cells": [
  {
   "cell_type": "markdown",
   "metadata": {
    "id": "sIfNaMOxgFyK"
   },
   "source": [
    "## Исследование данных о российском кинопрокате\n",
    "\n"
   ]
  },
  {
   "cell_type": "markdown",
   "metadata": {},
   "source": [
    "### Описание проекта\n",
    "\n",
    "Нужно изучить рынок российского кинопроката и выявить текущие тренды.    Уделить внимание фильмам, которые получили государственную поддержку. Понять насколько такие фильмы интересны зрителю. \n",
    "\n"
   ]
  },
  {
   "cell_type": "markdown",
   "metadata": {},
   "source": [
    "### Описание данных\n",
    "\n",
    "Таблица содержит информацию из реестра прокатных удостоверений. \n"
   ]
  },
  {
   "cell_type": "markdown",
   "metadata": {
    "id": "3bSlkCsbgFyL"
   },
   "source": [
    "###  Изучим  данные и объединим их в один датафрейм. \n",
    "\n"
   ]
  },
  {
   "cell_type": "code",
   "execution_count": 1,
   "metadata": {
    "id": "dw87FlzMgFyM"
   },
   "outputs": [],
   "source": [
    "import pandas as pd\n",
    "pd.options.display.float_format = '{:,.1f}'.format\n",
    "import matplotlib.pyplot as plt"
   ]
  },
  {
   "cell_type": "code",
   "execution_count": 2,
   "metadata": {},
   "outputs": [],
   "source": [
    "movies = pd.read_csv('...')"
   ]
  },
  {
   "cell_type": "code",
   "execution_count": 3,
   "metadata": {},
   "outputs": [],
   "source": [
    "shows = pd.read_csv('...')\n"
   ]
  },
  {
   "cell_type": "markdown",
   "metadata": {},
   "source": [
    "объеденим две таблицы по столбцу puNumber, но сначала поменяем тип данных  в таблице. Меняем на строку так как это колока номер прокатного удостоверения, это как имя, с ним проводить математические действия нельзя.  "
   ]
  },
  {
   "cell_type": "code",
   "execution_count": 4,
   "metadata": {},
   "outputs": [],
   "source": [
    "shows['puNumber'] = shows['puNumber'].astype('str')"
   ]
  },
  {
   "cell_type": "code",
   "execution_count": 5,
   "metadata": {},
   "outputs": [],
   "source": [
    "data = movies.merge(shows, on='puNumber',how='outer')\n"
   ]
  },
  {
   "cell_type": "markdown",
   "metadata": {},
   "source": [
    "После объединения таблиц в новой таблице получилось 7486 строк и 16 столбцов. Строк столько же, сколько и в первой таблице. По заданю все строки из первой таблице должны были войти в новую таблицу. Для объединения был использован тип слияния outer, он объединяет данные из внешней общей области — такие, которые есть хотя бы в одном из датафреймов. Таким образом в таблицу попали все строки. Столбцов стала на один больше, так как новый столбец перешел из второй таблице. "
   ]
  },
  {
   "cell_type": "markdown",
   "metadata": {
    "id": "KLDGpPG0gFyM"
   },
   "source": [
    "##  Предобработка данных"
   ]
  },
  {
   "cell_type": "markdown",
   "metadata": {
    "id": "ssWwKXsxgFyO"
   },
   "source": [
    "### Проверка типов данных\n",
    "\n"
   ]
  },
  {
   "cell_type": "code",
   "execution_count": 6,
   "metadata": {
    "id": "kVGSplJOgFyO"
   },
   "outputs": [
    {
     "name": "stdout",
     "output_type": "stream",
     "text": [
      "<class 'pandas.core.frame.DataFrame'>\n",
      "Int64Index: 7486 entries, 0 to 7485\n",
      "Data columns (total 16 columns):\n",
      " #   Column                 Non-Null Count  Dtype  \n",
      "---  ------                 --------------  -----  \n",
      " 0   title                  7486 non-null   object \n",
      " 1   puNumber               7486 non-null   object \n",
      " 2   show_start_date        7486 non-null   object \n",
      " 3   type                   7486 non-null   object \n",
      " 4   film_studio            7468 non-null   object \n",
      " 5   production_country     7484 non-null   object \n",
      " 6   director               7477 non-null   object \n",
      " 7   producer               6918 non-null   object \n",
      " 8   age_restriction        7486 non-null   object \n",
      " 9   refundable_support     332 non-null    float64\n",
      " 10  nonrefundable_support  332 non-null    float64\n",
      " 11  budget                 332 non-null    float64\n",
      " 12  financing_source       332 non-null    object \n",
      " 13  ratings                6519 non-null   object \n",
      " 14  genres                 6510 non-null   object \n",
      " 15  box_office             3158 non-null   float64\n",
      "dtypes: float64(4), object(12)\n",
      "memory usage: 994.2+ KB\n"
     ]
    }
   ],
   "source": [
    "data.info()"
   ]
  },
  {
   "cell_type": "code",
   "execution_count": 7,
   "metadata": {},
   "outputs": [],
   "source": [
    "# Поменяем тип данных с столбце с датой\n",
    "data['show_start_date_datetime'] = pd.to_datetime(data['show_start_date'], format='%Y-%m-%dT%H:%M:%S')\n"
   ]
  },
  {
   "cell_type": "code",
   "execution_count": 8,
   "metadata": {},
   "outputs": [
    {
     "data": {
      "text/plain": [
       "array(['1.0', '1.1', '1.2', '1.3', '1.4', '1.5', '1.6', '1.7', '1.8',\n",
       "       '1.9', '19%', '2.1', '2.4', '2.5', '2.6', '2.7', '2.8', '2.9',\n",
       "       '28%', '3.0', '3.1', '3.2', '3.3', '3.4', '3.5', '3.6', '3.7',\n",
       "       '3.8', '3.9', '4.0', '4.1', '4.2', '4.3', '4.4', '4.5', '4.6',\n",
       "       '4.7', '4.8', '4.9', '5.0', '5.1', '5.2', '5.3', '5.4', '5.5',\n",
       "       '5.6', '5.7', '5.8', '5.9', '6.0', '6.1', '6.2', '6.3', '6.4',\n",
       "       '6.5', '6.6', '6.7', '6.8', '6.9', '62%', '64%', '7.0', '7.1',\n",
       "       '7.2', '7.3', '7.4', '7.5', '7.6', '7.7', '7.8', '7.9', '79%',\n",
       "       '8.0', '8.1', '8.2', '8.3', '8.4', '8.5', '8.6', '8.7', '8.8',\n",
       "       '8.9', '83%', '88%', '89%', '9.0', '9.1', '9.2', '90%', '91%',\n",
       "       '94%', '97%', '98%', '99%', nan], dtype=object)"
      ]
     },
     "execution_count": 8,
     "metadata": {},
     "output_type": "execute_result"
    }
   ],
   "source": [
    "data['ratings'].sort_values().unique()"
   ]
  },
  {
   "cell_type": "markdown",
   "metadata": {},
   "source": [
    "Чтобы преобразовать тип данных в этой колонке, нужно поменять проценты на вещественные числа, \n",
    "для этого удалим знак %."
   ]
  },
  {
   "cell_type": "code",
   "execution_count": 9,
   "metadata": {},
   "outputs": [],
   "source": [
    "data['ratings'] = data['ratings'].str.replace('%','')"
   ]
  },
  {
   "cell_type": "code",
   "execution_count": 10,
   "metadata": {},
   "outputs": [
    {
     "data": {
      "text/plain": [
       "array(['1.0', '1.1', '1.2', '1.3', '1.4', '1.5', '1.6', '1.7', '1.8',\n",
       "       '1.9', '19', '2.1', '2.4', '2.5', '2.6', '2.7', '2.8', '2.9', '28',\n",
       "       '3.0', '3.1', '3.2', '3.3', '3.4', '3.5', '3.6', '3.7', '3.8',\n",
       "       '3.9', '4.0', '4.1', '4.2', '4.3', '4.4', '4.5', '4.6', '4.7',\n",
       "       '4.8', '4.9', '5.0', '5.1', '5.2', '5.3', '5.4', '5.5', '5.6',\n",
       "       '5.7', '5.8', '5.9', '6.0', '6.1', '6.2', '6.3', '6.4', '6.5',\n",
       "       '6.6', '6.7', '6.8', '6.9', '62', '64', '7.0', '7.1', '7.2', '7.3',\n",
       "       '7.4', '7.5', '7.6', '7.7', '7.8', '7.9', '79', '8.0', '8.1',\n",
       "       '8.2', '8.3', '8.4', '8.5', '8.6', '8.7', '8.8', '8.9', '83', '88',\n",
       "       '89', '9.0', '9.1', '9.2', '90', '91', '94', '97', '98', '99', nan],\n",
       "      dtype=object)"
      ]
     },
     "execution_count": 10,
     "metadata": {},
     "output_type": "execute_result"
    }
   ],
   "source": [
    "data['ratings'].sort_values().unique()"
   ]
  },
  {
   "cell_type": "code",
   "execution_count": 11,
   "metadata": {},
   "outputs": [],
   "source": [
    "data['ratings'] = data['ratings'].astype('float')"
   ]
  },
  {
   "cell_type": "markdown",
   "metadata": {},
   "source": [
    "Скорее всего те значения где был знак процент, отличаются от остальных рейтингов типом записи. Если разделить это число на 10, то тип записи будет совпадать с остальными значениями"
   ]
  },
  {
   "cell_type": "code",
   "execution_count": 12,
   "metadata": {},
   "outputs": [],
   "source": [
    "data.loc[data['ratings'] >= 19, 'ratings'] = data.loc[data['ratings'] >= 19, 'ratings'] / 10"
   ]
  },
  {
   "cell_type": "code",
   "execution_count": 13,
   "metadata": {},
   "outputs": [
    {
     "data": {
      "text/plain": [
       "array([1. , 1.1, 1.2, 1.3, 1.4, 1.5, 1.6, 1.7, 1.8, 1.9, 2.1, 2.4, 2.5,\n",
       "       2.6, 2.7, 2.8, 2.9, 3. , 3.1, 3.2, 3.3, 3.4, 3.5, 3.6, 3.7, 3.8,\n",
       "       3.9, 4. , 4.1, 4.2, 4.3, 4.4, 4.5, 4.6, 4.7, 4.8, 4.9, 5. , 5.1,\n",
       "       5.2, 5.3, 5.4, 5.5, 5.6, 5.7, 5.8, 5.9, 6. , 6.1, 6.2, 6.3, 6.4,\n",
       "       6.5, 6.6, 6.7, 6.8, 6.9, 7. , 7.1, 7.2, 7.3, 7.4, 7.5, 7.6, 7.7,\n",
       "       7.8, 7.9, 8. , 8.1, 8.2, 8.3, 8.4, 8.5, 8.6, 8.7, 8.8, 8.9, 9. ,\n",
       "       9.1, 9.2, 9.4, 9.7, 9.8, 9.9, nan])"
      ]
     },
     "execution_count": 13,
     "metadata": {},
     "output_type": "execute_result"
    }
   ],
   "source": [
    "data['ratings'].sort_values().unique()"
   ]
  },
  {
   "cell_type": "markdown",
   "metadata": {
    "id": "i0MOLbF-gFyP"
   },
   "source": [
    "### Изучим пропуски в датафрейме\n",
    "\n"
   ]
  },
  {
   "cell_type": "code",
   "execution_count": 14,
   "metadata": {
    "id": "8MJD_lkngFyP"
   },
   "outputs": [
    {
     "data": {
      "text/plain": [
       "title                          0\n",
       "puNumber                       0\n",
       "show_start_date                0\n",
       "type                           0\n",
       "film_studio                   18\n",
       "production_country             2\n",
       "director                       9\n",
       "producer                     568\n",
       "age_restriction                0\n",
       "refundable_support          7154\n",
       "nonrefundable_support       7154\n",
       "budget                      7154\n",
       "financing_source            7154\n",
       "ratings                      967\n",
       "genres                       976\n",
       "box_office                  4328\n",
       "show_start_date_datetime       0\n",
       "dtype: int64"
      ]
     },
     "execution_count": 14,
     "metadata": {},
     "output_type": "execute_result"
    }
   ],
   "source": [
    "data.isna().sum()"
   ]
  },
  {
   "cell_type": "code",
   "execution_count": 15,
   "metadata": {
    "scrolled": true
   },
   "outputs": [
    {
     "data": {
      "text/plain": [
       "title                       0.0\n",
       "puNumber                    0.0\n",
       "show_start_date             0.0\n",
       "type                        0.0\n",
       "film_studio                 0.2\n",
       "production_country          0.0\n",
       "director                    0.1\n",
       "producer                    7.6\n",
       "age_restriction             0.0\n",
       "refundable_support         95.6\n",
       "nonrefundable_support      95.6\n",
       "budget                     95.6\n",
       "financing_source           95.6\n",
       "ratings                    12.9\n",
       "genres                     13.0\n",
       "box_office                 57.8\n",
       "show_start_date_datetime    0.0\n",
       "dtype: float64"
      ]
     },
     "execution_count": 15,
     "metadata": {},
     "output_type": "execute_result"
    }
   ],
   "source": [
    "data.isnull().mean() * 100"
   ]
  },
  {
   "cell_type": "markdown",
   "metadata": {},
   "source": [
    "Пропуски в рейтингах оставим без изменений. Тип данных float позволит проводитьс сними математические действия не заполняя пропуски."
   ]
  },
  {
   "cell_type": "markdown",
   "metadata": {},
   "source": [
    "Очень много пропусков в бюджете и объемах возвратных и не возвратных средств государственной поддержки. Не будем их заполныть, так как это может исказить этот небольшой объем данных. И также данные в этих столбцах указанны только для тех фильмов, которые получили государственную поддержку, данных нет, значит поддержку не получали. \n",
    "тоже относится к источнику государственного финансирования.\n",
    "\n",
    "Сборы в рублях также оставим без изменений, так как заполнение пропусков медианой или средней могут исказить данные в будующем, пропусков 57%\n",
    "\n",
    "В остальных случаях мы имеем категориальный тип данных. Логически заполнить мы их не сможем, но для выполнения операций отсутствующее значение может мешать. Заменим его на пустую строку."
   ]
  },
  {
   "cell_type": "code",
   "execution_count": 16,
   "metadata": {},
   "outputs": [],
   "source": [
    "data['producer'] = data['producer'].fillna(value='') "
   ]
  },
  {
   "cell_type": "code",
   "execution_count": 17,
   "metadata": {},
   "outputs": [],
   "source": [
    "data['genres'] = data['genres'].fillna(value='') "
   ]
  },
  {
   "cell_type": "code",
   "execution_count": 18,
   "metadata": {},
   "outputs": [],
   "source": [
    "data['film_studio'] = data['film_studio'].fillna(value='') "
   ]
  },
  {
   "cell_type": "code",
   "execution_count": 19,
   "metadata": {},
   "outputs": [],
   "source": [
    "data['production_country'] = data['production_country'].fillna(value='') "
   ]
  },
  {
   "cell_type": "code",
   "execution_count": 20,
   "metadata": {},
   "outputs": [],
   "source": [
    "data['director'] = data['director'].fillna(value='') "
   ]
  },
  {
   "cell_type": "code",
   "execution_count": 21,
   "metadata": {},
   "outputs": [
    {
     "data": {
      "text/plain": [
       "title                          0\n",
       "puNumber                       0\n",
       "show_start_date                0\n",
       "type                           0\n",
       "film_studio                    0\n",
       "production_country             0\n",
       "director                       0\n",
       "producer                       0\n",
       "age_restriction                0\n",
       "refundable_support          7154\n",
       "nonrefundable_support       7154\n",
       "budget                      7154\n",
       "financing_source            7154\n",
       "ratings                      967\n",
       "genres                         0\n",
       "box_office                  4328\n",
       "show_start_date_datetime       0\n",
       "dtype: int64"
      ]
     },
     "execution_count": 21,
     "metadata": {},
     "output_type": "execute_result"
    }
   ],
   "source": [
    "data.isna().sum()"
   ]
  },
  {
   "cell_type": "markdown",
   "metadata": {
    "id": "4c6k1t9ygFyQ"
   },
   "source": [
    "### Изучим дубликаты в датафрейме\n"
   ]
  },
  {
   "cell_type": "code",
   "execution_count": 22,
   "metadata": {},
   "outputs": [
    {
     "data": {
      "text/plain": [
       "0"
      ]
     },
     "execution_count": 22,
     "metadata": {},
     "output_type": "execute_result"
    }
   ],
   "source": [
    "data.duplicated().sum()  "
   ]
  },
  {
   "cell_type": "markdown",
   "metadata": {},
   "source": [
    "В таблице нет полных дубликатов(по всем столбцам)"
   ]
  },
  {
   "cell_type": "code",
   "execution_count": 23,
   "metadata": {
    "id": "aKck8RIdgFyQ"
   },
   "outputs": [
    {
     "data": {
      "text/plain": [
       "714"
      ]
     },
     "execution_count": 23,
     "metadata": {},
     "output_type": "execute_result"
    }
   ],
   "source": [
    "data['title'].duplicated().sum()"
   ]
  },
  {
   "cell_type": "code",
   "execution_count": 24,
   "metadata": {},
   "outputs": [
    {
     "data": {
      "text/plain": [
       "716"
      ]
     },
     "execution_count": 24,
     "metadata": {},
     "output_type": "execute_result"
    }
   ],
   "source": [
    "data['title'] = data['title'].str.replace('ё', 'е')\n",
    "data['title'].duplicated().sum()"
   ]
  },
  {
   "cell_type": "code",
   "execution_count": 25,
   "metadata": {},
   "outputs": [
    {
     "data": {
      "text/plain": [
       "726"
      ]
     },
     "execution_count": 25,
     "metadata": {},
     "output_type": "execute_result"
    }
   ],
   "source": [
    "data['title'] = data['title'].str.lower()\n",
    "data['title'].duplicated().sum()"
   ]
  },
  {
   "cell_type": "code",
   "execution_count": 26,
   "metadata": {},
   "outputs": [
    {
     "name": "stderr",
     "output_type": "stream",
     "text": [
      "/tmp/ipykernel_131/416283902.py:4: FutureWarning: The default value of regex will change from True to False in a future version. In addition, single character regular expressions will*not* be treated as literal strings when regex=True.\n",
      "  data['title'] = data['title'].str.replace('.','')\n"
     ]
    },
    {
     "data": {
      "text/plain": [
       "809"
      ]
     },
     "execution_count": 26,
     "metadata": {},
     "output_type": "execute_result"
    }
   ],
   "source": [
    "data['title'] = data['title'].str.replace('-','')\n",
    "data['title'] = data['title'].str.replace('_','')\n",
    "data['title'] = data['title'].str.replace('/','')\n",
    "data['title'] = data['title'].str.replace('.','')\n",
    "data['title'].duplicated().sum()"
   ]
  },
  {
   "cell_type": "markdown",
   "metadata": {},
   "source": [
    "Убрали букву ё и сделали все названия в нижнем регистре, поменяли все тире на пропуски это нам поможет обнаружить больше повторов"
   ]
  },
  {
   "cell_type": "code",
   "execution_count": 27,
   "metadata": {},
   "outputs": [
    {
     "data": {
      "text/plain": [
       "день святого валентина                            5\n",
       "волшебная страна                                  5\n",
       "доброе утро                                       5\n",
       "дитя тьмы                                         4\n",
       "рапунцель: запутанная история                     4\n",
       "непокоренный                                      4\n",
       "химера                                            4\n",
       "там, где живут чудовища                           4\n",
       "красавчик2                                        4\n",
       "белоснежка и охотник                              4\n",
       "не брать живым по книге раджива чандрасекарана    4\n",
       "соблазнитель                                      4\n",
       "лузеры                                            4\n",
       "робин гуд (robin hood)                            4\n",
       "форсаж 7                                          4\n",
       "двойной копец                                     4\n",
       "кошки против собак: месть китти галор             4\n",
       "дорога по новелле кормака мккарфи                 4\n",
       "дом грез                                          4\n",
       "безумцы                                           4\n",
       "секс в большом городе 2                           4\n",
       "жена путешественника во времени                   4\n",
       "кошмар на улице вязов фильм ужасов                4\n",
       "игра                                              4\n",
       "код доступа \"кейптаун\"                            4\n",
       "знакомство с факерами 2                           4\n",
       "шерлок холмс                                      4\n",
       "король лев                                        4\n",
       "хаббл 3d                                          4\n",
       "начало                                            4\n",
       "Name: title, dtype: int64"
      ]
     },
     "execution_count": 27,
     "metadata": {},
     "output_type": "execute_result"
    }
   ],
   "source": [
    "data['title'].value_counts().head(30)"
   ]
  },
  {
   "cell_type": "markdown",
   "metadata": {},
   "source": [
    "Нашли 809 дубликатов. В информации к проекту было сказано что у одного фильма может быть несколько прокатных удостоверений. Поэтому оставляем все дубликаты в названиях и проверим дубли в номерах прокатных удостоверений. "
   ]
  },
  {
   "cell_type": "code",
   "execution_count": 28,
   "metadata": {},
   "outputs": [
    {
     "data": {
      "text/plain": [
       "2"
      ]
     },
     "execution_count": 28,
     "metadata": {},
     "output_type": "execute_result"
    }
   ],
   "source": [
    "data['puNumber'].duplicated().sum()"
   ]
  },
  {
   "cell_type": "markdown",
   "metadata": {},
   "source": [
    "Два дубликата, удалим их"
   ]
  },
  {
   "cell_type": "code",
   "execution_count": 29,
   "metadata": {},
   "outputs": [
    {
     "data": {
      "text/plain": [
       "0"
      ]
     },
     "execution_count": 29,
     "metadata": {},
     "output_type": "execute_result"
    }
   ],
   "source": [
    "data = data.drop_duplicates(subset=['puNumber'], keep='first').reset_index(drop=True)\n",
    "data['puNumber'].duplicated().sum()"
   ]
  },
  {
   "cell_type": "markdown",
   "metadata": {
    "id": "52fOPrEBgFyQ"
   },
   "source": [
    "### Изучим категориальные значения\n"
   ]
  },
  {
   "cell_type": "code",
   "execution_count": 30,
   "metadata": {
    "id": "PnXKIVdFgFyR"
   },
   "outputs": [
    {
     "data": {
      "text/plain": [
       "array(['Художественный', 'Анимационный', 'Прочие', 'Документальный',\n",
       "       'Научно-популярный', ' Художественный', ' Анимационный',\n",
       "       'Музыкально-развлекательный'], dtype=object)"
      ]
     },
     "execution_count": 30,
     "metadata": {},
     "output_type": "execute_result"
    }
   ],
   "source": [
    "data['type'].unique() "
   ]
  },
  {
   "cell_type": "code",
   "execution_count": 31,
   "metadata": {},
   "outputs": [
    {
     "data": {
      "text/plain": [
       "array(['Художественный', 'Анимационный', 'Прочие', 'Документальный',\n",
       "       'Научно-популярный', 'Музыкально-развлекательный'], dtype=object)"
      ]
     },
     "execution_count": 31,
     "metadata": {},
     "output_type": "execute_result"
    }
   ],
   "source": [
    "# Убирем пробел в начале слова\n",
    "data['type'] = data['type'].str.strip()\n",
    "data['type'].unique() "
   ]
  },
  {
   "cell_type": "code",
   "execution_count": 32,
   "metadata": {},
   "outputs": [
    {
     "data": {
      "text/plain": [
       "array(['', ' АНО \"Кинофорум\"',\n",
       "       ' Ауматик Интертейнмент, Блюмхаус Продакшнз и др.', ...,\n",
       "       'ристалл Сити Интертейнмент, Эксклюзив Медиа Групп, Хоуп Таун Интертейнмент, Каппа Андерковар Пикчерз, Скарлет Файр Интертейнмент',\n",
       "       'совместное производство Киностудия \"Мосфильм\", \"Космос-филм\" (Франция), \"Посейдон Продакшинз Лимитед\" (Англия), \"ИКАИК\" (Куба), ДЕФА (ГДР)',\n",
       "       'юФилм, Твинпикс'], dtype=object)"
      ]
     },
     "execution_count": 32,
     "metadata": {},
     "output_type": "execute_result"
    }
   ],
   "source": [
    "data['film_studio'].sort_values().unique()"
   ]
  },
  {
   "cell_type": "code",
   "execution_count": null,
   "metadata": {},
   "outputs": [],
   "source": [
    "data['production_country'].sort_values().unique()"
   ]
  },
  {
   "cell_type": "markdown",
   "metadata": {},
   "source": [
    "Очень много строк с разным разделением. заменим все '-' на ','"
   ]
  },
  {
   "cell_type": "code",
   "execution_count": 35,
   "metadata": {
    "scrolled": true
   },
   "outputs": [],
   "source": [
    "data['production_country'] = data['production_country'].str.replace('-',',')\n",
    "data['production_country'] = data['production_country'].str.replace(' ','')"
   ]
  },
  {
   "cell_type": "code",
   "execution_count": 36,
   "metadata": {},
   "outputs": [],
   "source": [
    "data['production_country'] = data['production_country'].str.strip()\n"
   ]
  },
  {
   "cell_type": "markdown",
   "metadata": {},
   "source": [
    "Привели данные в столбце со странами к одному виду, убрали тире между странами"
   ]
  },
  {
   "cell_type": "code",
   "execution_count": 37,
   "metadata": {},
   "outputs": [
    {
     "data": {
      "text/plain": [
       "array(['«0+» - для любой зрительской аудитории',\n",
       "       '«12+» - для детей старше 12 лет',\n",
       "       '«16+» - для детей старше 16 лет', '«18+» - запрещено для детей',\n",
       "       '«6+» - для детей старше 6 лет'], dtype=object)"
      ]
     },
     "execution_count": 37,
     "metadata": {},
     "output_type": "execute_result"
    }
   ],
   "source": [
    "data['age_restriction'].sort_values().unique()"
   ]
  },
  {
   "cell_type": "code",
   "execution_count": 38,
   "metadata": {},
   "outputs": [],
   "source": [
    "# Сделаем дополниельный столбец где будут указанны только цифры\n",
    "def cetegory_age(row):\n",
    "    try:\n",
    "        if '0' in row:\n",
    "            return '0'\n",
    "        elif '6' in row:\n",
    "            return '6'\n",
    "        elif '12' in row:\n",
    "            return '12'\n",
    "        elif '16' in row:\n",
    "            return '16'\n",
    "        elif '18' in row:\n",
    "            return '18'\n",
    "    except:\n",
    "        pass\n",
    "    "
   ]
  },
  {
   "cell_type": "code",
   "execution_count": 39,
   "metadata": {},
   "outputs": [
    {
     "data": {
      "text/plain": [
       "array(['18', '6', '12', '0'], dtype=object)"
      ]
     },
     "execution_count": 39,
     "metadata": {},
     "output_type": "execute_result"
    }
   ],
   "source": [
    "data['age_category'] = data['age_restriction'].apply(cetegory_age)\n",
    "data['age_category'].unique()"
   ]
  },
  {
   "cell_type": "code",
   "execution_count": 40,
   "metadata": {},
   "outputs": [],
   "source": [
    "data['age_category'] = data['age_category'].astype('int')"
   ]
  },
  {
   "cell_type": "markdown",
   "metadata": {},
   "source": [
    "Сделали новы столбец с информацией о возрасте, убрали все лишние слова, оставили только цифры. "
   ]
  },
  {
   "cell_type": "code",
   "execution_count": null,
   "metadata": {},
   "outputs": [],
   "source": [
    "data['genres'].sort_values().unique()"
   ]
  },
  {
   "cell_type": "code",
   "execution_count": 42,
   "metadata": {},
   "outputs": [
    {
     "data": {
      "text/plain": [
       "array(['Министерство культуры', 'Министерство культуры, Фонд кино',\n",
       "       'Фонд кино', nan], dtype=object)"
      ]
     },
     "execution_count": 42,
     "metadata": {},
     "output_type": "execute_result"
    }
   ],
   "source": [
    "data['financing_source'].sort_values().unique()"
   ]
  },
  {
   "cell_type": "markdown",
   "metadata": {},
   "source": [
    "Жанр и финансирование оставляем как есть"
   ]
  },
  {
   "cell_type": "markdown",
   "metadata": {
    "id": "XFSN5lrEgFyR"
   },
   "source": [
    "### Проверим количественные значения\n",
    "\n"
   ]
  },
  {
   "cell_type": "code",
   "execution_count": 43,
   "metadata": {},
   "outputs": [],
   "source": [
    "# добавим столбец с общим объёмом государственной поддержки\n",
    "data['support'] = data['refundable_support'] + data['nonrefundable_support']"
   ]
  },
  {
   "cell_type": "markdown",
   "metadata": {},
   "source": [
    "Сравним бюджет и гос поддержку"
   ]
  },
  {
   "cell_type": "code",
   "execution_count": 44,
   "metadata": {},
   "outputs": [
    {
     "data": {
      "text/html": [
       "<div>\n",
       "<style scoped>\n",
       "    .dataframe tbody tr th:only-of-type {\n",
       "        vertical-align: middle;\n",
       "    }\n",
       "\n",
       "    .dataframe tbody tr th {\n",
       "        vertical-align: top;\n",
       "    }\n",
       "\n",
       "    .dataframe thead th {\n",
       "        text-align: right;\n",
       "    }\n",
       "</style>\n",
       "<table border=\"1\" class=\"dataframe\">\n",
       "  <thead>\n",
       "    <tr style=\"text-align: right;\">\n",
       "      <th></th>\n",
       "      <th>title</th>\n",
       "      <th>puNumber</th>\n",
       "      <th>show_start_date</th>\n",
       "      <th>type</th>\n",
       "      <th>film_studio</th>\n",
       "      <th>production_country</th>\n",
       "      <th>director</th>\n",
       "      <th>producer</th>\n",
       "      <th>age_restriction</th>\n",
       "      <th>refundable_support</th>\n",
       "      <th>nonrefundable_support</th>\n",
       "      <th>budget</th>\n",
       "      <th>financing_source</th>\n",
       "      <th>ratings</th>\n",
       "      <th>genres</th>\n",
       "      <th>box_office</th>\n",
       "      <th>show_start_date_datetime</th>\n",
       "      <th>age_category</th>\n",
       "      <th>support</th>\n",
       "    </tr>\n",
       "  </thead>\n",
       "  <tbody>\n",
       "    <tr>\n",
       "      <th>2053</th>\n",
       "      <td>14+</td>\n",
       "      <td>111023614</td>\n",
       "      <td>2014-12-19T12:00:00.000Z</td>\n",
       "      <td>Художественный</td>\n",
       "      <td>ООО Киностудия  \"Сентябрь\"</td>\n",
       "      <td>Россия</td>\n",
       "      <td>А.Зайцев</td>\n",
       "      <td>О.Гранина, А.Зайцев</td>\n",
       "      <td>«16+» - для детей старше 16 лет</td>\n",
       "      <td>0.0</td>\n",
       "      <td>23,000,000.0</td>\n",
       "      <td>0.0</td>\n",
       "      <td>Министерство культуры, Фонд кино</td>\n",
       "      <td>6.6</td>\n",
       "      <td>мелодрама</td>\n",
       "      <td>10,234,016.1</td>\n",
       "      <td>2014-12-19 12:00:00+00:00</td>\n",
       "      <td>6</td>\n",
       "      <td>23,000,000.0</td>\n",
       "    </tr>\n",
       "    <tr>\n",
       "      <th>2058</th>\n",
       "      <td>дуxless 2</td>\n",
       "      <td>111000415</td>\n",
       "      <td>2015-01-26T12:00:00.000Z</td>\n",
       "      <td>Художественный</td>\n",
       "      <td>ООО \"Киностудия \"Слово\", ООО \"Арт Пикчерс Студия\"</td>\n",
       "      <td>Россия</td>\n",
       "      <td>Р.Прыгунов</td>\n",
       "      <td>П.Ануров, Ф.Бондарчук, Д.Рудовский</td>\n",
       "      <td>«16+» - для детей старше 16 лет</td>\n",
       "      <td>0.0</td>\n",
       "      <td>75,000,000.0</td>\n",
       "      <td>0.0</td>\n",
       "      <td>Фонд кино</td>\n",
       "      <td>6.6</td>\n",
       "      <td>драма</td>\n",
       "      <td>446,163,511.0</td>\n",
       "      <td>2015-01-26 12:00:00+00:00</td>\n",
       "      <td>6</td>\n",
       "      <td>75,000,000.0</td>\n",
       "    </tr>\n",
       "    <tr>\n",
       "      <th>2472</th>\n",
       "      <td>воин (2015)</td>\n",
       "      <td>111017315</td>\n",
       "      <td>2015-09-28T12:00:00.000Z</td>\n",
       "      <td>Художественный</td>\n",
       "      <td>ООО \"Форпост Продакшн\", ООО \"Арт Пикчерс Студия\"</td>\n",
       "      <td>Россия</td>\n",
       "      <td>А.Андрианов</td>\n",
       "      <td>ООО \"Арт Пикчерс Студия\"</td>\n",
       "      <td>«12+» - для детей старше 12 лет</td>\n",
       "      <td>10,000,000.0</td>\n",
       "      <td>70,000,000.0</td>\n",
       "      <td>0.0</td>\n",
       "      <td>Фонд кино</td>\n",
       "      <td>7.8</td>\n",
       "      <td>боевик,драма,криминал</td>\n",
       "      <td>196,572,438.4</td>\n",
       "      <td>2015-09-28 12:00:00+00:00</td>\n",
       "      <td>12</td>\n",
       "      <td>80,000,000.0</td>\n",
       "    </tr>\n",
       "  </tbody>\n",
       "</table>\n",
       "</div>"
      ],
      "text/plain": [
       "            title   puNumber           show_start_date            type  \\\n",
       "2053          14+  111023614  2014-12-19T12:00:00.000Z  Художественный   \n",
       "2058    дуxless 2  111000415  2015-01-26T12:00:00.000Z  Художественный   \n",
       "2472  воин (2015)  111017315  2015-09-28T12:00:00.000Z  Художественный   \n",
       "\n",
       "                                            film_studio production_country  \\\n",
       "2053                         ООО Киностудия  \"Сентябрь\"             Россия   \n",
       "2058  ООО \"Киностудия \"Слово\", ООО \"Арт Пикчерс Студия\"             Россия   \n",
       "2472   ООО \"Форпост Продакшн\", ООО \"Арт Пикчерс Студия\"             Россия   \n",
       "\n",
       "         director                            producer  \\\n",
       "2053     А.Зайцев                 О.Гранина, А.Зайцев   \n",
       "2058   Р.Прыгунов  П.Ануров, Ф.Бондарчук, Д.Рудовский   \n",
       "2472  А.Андрианов            ООО \"Арт Пикчерс Студия\"   \n",
       "\n",
       "                      age_restriction  refundable_support  \\\n",
       "2053  «16+» - для детей старше 16 лет                 0.0   \n",
       "2058  «16+» - для детей старше 16 лет                 0.0   \n",
       "2472  «12+» - для детей старше 12 лет        10,000,000.0   \n",
       "\n",
       "      nonrefundable_support  budget                  financing_source  \\\n",
       "2053           23,000,000.0     0.0  Министерство культуры, Фонд кино   \n",
       "2058           75,000,000.0     0.0                         Фонд кино   \n",
       "2472           70,000,000.0     0.0                         Фонд кино   \n",
       "\n",
       "      ratings                 genres    box_office  show_start_date_datetime  \\\n",
       "2053      6.6              мелодрама  10,234,016.1 2014-12-19 12:00:00+00:00   \n",
       "2058      6.6                  драма 446,163,511.0 2015-01-26 12:00:00+00:00   \n",
       "2472      7.8  боевик,драма,криминал 196,572,438.4 2015-09-28 12:00:00+00:00   \n",
       "\n",
       "      age_category      support  \n",
       "2053             6 23,000,000.0  \n",
       "2058             6 75,000,000.0  \n",
       "2472            12 80,000,000.0  "
      ]
     },
     "execution_count": 44,
     "metadata": {},
     "output_type": "execute_result"
    }
   ],
   "source": [
    "data_b = data.query('budget < support')\n",
    "data_b.head(3)"
   ]
  },
  {
   "cell_type": "markdown",
   "metadata": {},
   "source": [
    "Есть строки где в бюджете 0, но при этом фильмы получили государственную поддержку. Скорее всего тут ошибка в бюджете. Оставим строки так как данных и так мало. В будущем при исследовании учтем это"
   ]
  },
  {
   "cell_type": "markdown",
   "metadata": {
    "id": "Eu6oWp2CgFyS"
   },
   "source": [
    "### Добавим новые столбцы\n",
    "\n",
    "\n",
    "\n"
   ]
  },
  {
   "cell_type": "markdown",
   "metadata": {
    "id": "7GgW-UpAgFyS"
   },
   "source": [
    "Создадим столбец с информацией о годе проката. Выделим год из даты премьеры фильма."
   ]
  },
  {
   "cell_type": "code",
   "execution_count": 45,
   "metadata": {
    "id": "I-yd1DkWgFyT"
   },
   "outputs": [
    {
     "data": {
      "text/plain": [
       "0       2015\n",
       "1       2016\n",
       "2       2016\n",
       "3       2016\n",
       "4       2015\n",
       "        ... \n",
       "7479    2019\n",
       "7480    2019\n",
       "7481    2019\n",
       "7482    2019\n",
       "7483    2019\n",
       "Name: year_show_start, Length: 7484, dtype: int64"
      ]
     },
     "execution_count": 45,
     "metadata": {},
     "output_type": "execute_result"
    }
   ],
   "source": [
    "data['year_show_start'] = data['show_start_date_datetime'].dt.year\n",
    "data['year_show_start']"
   ]
  },
  {
   "cell_type": "markdown",
   "metadata": {
    "id": "nFTDLDYOgFyT"
   },
   "source": [
    "Создадим два столбца: с именем и фамилией главного режиссёра и основным жанром фильма. В столбцы войдут первые значения из списка режиссёров и жанров соответственно.\n"
   ]
  },
  {
   "cell_type": "code",
   "execution_count": 46,
   "metadata": {},
   "outputs": [
    {
     "data": {
      "text/plain": [
       "0                  [Кевин Костнер]\n",
       "1                      [Е.Матвеев]\n",
       "2              [Тимур Бекмамбетов]\n",
       "3              [Тимур Бекмамбетов]\n",
       "4              [Тимур Бекмамбетов]\n",
       "5                   [В.Абдрашитов]\n",
       "6                      [В.Меньшов]\n",
       "7                  [Джон Туртурро]\n",
       "8                   [Эрик Беснард]\n",
       "9                        [В.Титов]\n",
       "10                 [Пол Грингросс]\n",
       "11                 [М.Туманишвили]\n",
       "12                  [Клинт Иствуд]\n",
       "13           [Фернанду Мейрелльеш]\n",
       "14                   [Майк Фиггис]\n",
       "15                    [А.Салтыков]\n",
       "16                     [Г.Данелия]\n",
       "17                     [А.Смирнов]\n",
       "18                     [Ю.Чулюкин]\n",
       "19    [В.Краснопольский,  В.Усков]\n",
       "Name: director_to_list, dtype: object"
      ]
     },
     "execution_count": 46,
     "metadata": {},
     "output_type": "execute_result"
    }
   ],
   "source": [
    "data['director_to_list'] = data['director'].str.split(',')\n",
    "data['director_to_list'].head(20)"
   ]
  },
  {
   "cell_type": "code",
   "execution_count": 47,
   "metadata": {},
   "outputs": [
    {
     "name": "stderr",
     "output_type": "stream",
     "text": [
      "/opt/conda/lib/python3.9/site-packages/pandas/core/indexing.py:1637: SettingWithCopyWarning: \n",
      "A value is trying to be set on a copy of a slice from a DataFrame\n",
      "\n",
      "See the caveats in the documentation: https://pandas.pydata.org/pandas-docs/stable/user_guide/indexing.html#returning-a-view-versus-a-copy\n",
      "  self._setitem_single_block(indexer, value, name)\n"
     ]
    }
   ],
   "source": [
    "for i in range(len(data)):\n",
    "    data['director_to_list'].iloc[i]=data['director_to_list'].iloc[i][0]"
   ]
  },
  {
   "cell_type": "code",
   "execution_count": 48,
   "metadata": {},
   "outputs": [
    {
     "data": {
      "text/plain": [
       "0          [боевик, драма, мелодрама]\n",
       "1                    [драма, военный]\n",
       "2       [фантастика, боевик, триллер]\n",
       "3       [фантастика, боевик, триллер]\n",
       "4       [фантастика, боевик, триллер]\n",
       "                    ...              \n",
       "7479                               []\n",
       "7480                [боевик, триллер]\n",
       "7481                               []\n",
       "7482                               []\n",
       "7483               [комедия, вестерн]\n",
       "Name: genres_to_list, Length: 7484, dtype: object"
      ]
     },
     "execution_count": 48,
     "metadata": {},
     "output_type": "execute_result"
    }
   ],
   "source": [
    "data['genres_to_list'] = data['genres'].str.split(',')\n",
    "data['genres_to_list']"
   ]
  },
  {
   "cell_type": "code",
   "execution_count": 49,
   "metadata": {
    "id": "LSbRZKbMgFyU"
   },
   "outputs": [],
   "source": [
    "for i in range(len(data)):\n",
    "    data['genres_to_list'].iloc[i]=data['genres_to_list'].iloc[i][0]"
   ]
  },
  {
   "cell_type": "markdown",
   "metadata": {
    "id": "1FsCXHwdgFyU"
   },
   "source": [
    "Посчитаем, какую долю от общего бюджета фильма составляет государственная поддержка."
   ]
  },
  {
   "cell_type": "code",
   "execution_count": 50,
   "metadata": {
    "id": "LV6qFuZLgFyV"
   },
   "outputs": [
    {
     "name": "stderr",
     "output_type": "stream",
     "text": [
      "/tmp/ipykernel_131/3201365823.py:2: SettingWithCopyWarning: \n",
      "A value is trying to be set on a copy of a slice from a DataFrame.\n",
      "Try using .loc[row_indexer,col_indexer] = value instead\n",
      "\n",
      "See the caveats in the documentation: https://pandas.pydata.org/pandas-docs/stable/user_guide/indexing.html#returning-a-view-versus-a-copy\n",
      "  data_budget['support_precent'] = (data_budget['support'] / data_budget['budget'] * 100).round()\n"
     ]
    }
   ],
   "source": [
    "data_budget = data.query('budget >= 1')\n",
    "data_budget['support_precent'] = (data_budget['support'] / data_budget['budget'] * 100).round()\n"
   ]
  },
  {
   "cell_type": "code",
   "execution_count": 51,
   "metadata": {},
   "outputs": [
    {
     "data": {
      "text/plain": [
       "<AxesSubplot:>"
      ]
     },
     "execution_count": 51,
     "metadata": {},
     "output_type": "execute_result"
    },
    {
     "data": {
      "image/png": "[encoded data removed]",
      "text/plain": [
       "<Figure size 864x360 with 1 Axes>"
      ]
     },
     "metadata": {
      "needs_background": "light"
     },
     "output_type": "display_data"
    }
   ],
   "source": [
    "data_budget['support_precent'].hist(bins=20, grid=True, figsize=(12,5))"
   ]
  },
  {
   "cell_type": "markdown",
   "metadata": {},
   "source": [
    "Гос поддержка в большенстве случаев составляем 60-70%"
   ]
  },
  {
   "cell_type": "markdown",
   "metadata": {
    "id": "6t4EukPLgFyV"
   },
   "source": [
    "## Провидем исследовательский анализ данных\n"
   ]
  },
  {
   "cell_type": "markdown",
   "metadata": {
    "id": "vAH8WCzugFyV"
   },
   "source": [
    "Посмотрим, сколько фильмов выходило в прокат каждый год. \n",
    "\n"
   ]
  },
  {
   "cell_type": "code",
   "execution_count": 52,
   "metadata": {
    "id": "ABeV47y7gFyW"
   },
   "outputs": [
    {
     "data": {
      "text/plain": [
       "year_show_start\n",
       "2010    105\n",
       "2011    109\n",
       "2012    128\n",
       "2013    184\n",
       "2014    279\n",
       "2015    465\n",
       "2016    526\n",
       "2017    357\n",
       "2018    475\n",
       "2019    530\n",
       "Name: box_office, dtype: int64"
      ]
     },
     "execution_count": 52,
     "metadata": {},
     "output_type": "execute_result"
    }
   ],
   "source": [
    "data_1 = data.groupby('year_show_start')['box_office'].count()\n",
    "data_1"
   ]
  },
  {
   "cell_type": "markdown",
   "metadata": {},
   "source": [
    "Посмотрим какое количество фильмов вышло в прокат всего:"
   ]
  },
  {
   "cell_type": "code",
   "execution_count": 53,
   "metadata": {},
   "outputs": [
    {
     "data": {
      "text/plain": [
       "year_show_start\n",
       "2010    983\n",
       "2011    622\n",
       "2012    593\n",
       "2013    630\n",
       "2014    807\n",
       "2015    705\n",
       "2016    818\n",
       "2017    505\n",
       "2018    891\n",
       "2019    930\n",
       "Name: puNumber, dtype: int64"
      ]
     },
     "execution_count": 53,
     "metadata": {},
     "output_type": "execute_result"
    }
   ],
   "source": [
    "data_2 = data.groupby('year_show_start')['puNumber'].count()\n",
    "data_2"
   ]
  },
  {
   "cell_type": "markdown",
   "metadata": {},
   "source": [
    "Посчитаем, какую долю составляют фильмы с указанной информацией о прокате в кинотеатрах:"
   ]
  },
  {
   "cell_type": "code",
   "execution_count": 54,
   "metadata": {},
   "outputs": [
    {
     "data": {
      "text/plain": [
       "year_show_start\n",
       "2010   10.7\n",
       "2011   17.5\n",
       "2012   21.6\n",
       "2013   29.2\n",
       "2014   34.6\n",
       "2015   66.0\n",
       "2016   64.3\n",
       "2017   70.7\n",
       "2018   53.3\n",
       "2019   57.0\n",
       "dtype: float64"
      ]
     },
     "execution_count": 54,
     "metadata": {},
     "output_type": "execute_result"
    }
   ],
   "source": [
    "data_3 = (data_1 / data_2) * 100 \n",
    "data_3"
   ]
  },
  {
   "cell_type": "code",
   "execution_count": 55,
   "metadata": {},
   "outputs": [
    {
     "data": {
      "image/png": "[encoded data removed]",
      "text/plain": [
       "<Figure size 864x360 with 1 Axes>"
      ]
     },
     "metadata": {
      "needs_background": "light"
     },
     "output_type": "display_data"
    }
   ],
   "source": [
    "data_3.plot(kind='bar', grid=True, figsize=(12,5)) \n",
    "plt.title('доля фильмов с указанной информацией о прокате');\n",
    "plt.xlabel('год');\n",
    "plt.ylabel('процент')\n",
    "plt.show()"
   ]
  },
  {
   "cell_type": "markdown",
   "metadata": {},
   "source": [
    "Можно сделать вывод что с 2015 по 2019 года у нас есть наибольшее количество данных о сборах в кинотеатрах. С 2010 по 2014 процент представленных данных по прокату в кинотеатрах составляем меньше 40%. "
   ]
  },
  {
   "cell_type": "code",
   "execution_count": 56,
   "metadata": {
    "id": "tfEhofYvgFyX",
    "scrolled": true
   },
   "outputs": [
    {
     "data": {
      "image/png": "[encoded data removed]",
      "text/plain": [
       "<Figure size 864x360 with 1 Axes>"
      ]
     },
     "metadata": {
      "needs_background": "light"
     },
     "output_type": "display_data"
    }
   ],
   "source": [
    "data.query('year_show_start == [2015,2016,2017,2018,2019] and box_office > 0').groupby(\n",
    "    'year_show_start')['box_office'].count().plot(\n",
    "    style='o-', grid=True, figsize=(12,5))\n",
    "plt.gca().xaxis.set_major_formatter(plt.FormatStrFormatter('%d'))\n",
    "plt.title('количество фильмов вышедших в прокат с 2015 по 2019г');\n",
    "plt.xlabel('год');\n",
    "plt.ylabel('количество фильмов')\n",
    "plt.show()"
   ]
  },
  {
   "cell_type": "markdown",
   "metadata": {},
   "source": [
    "Самое большое количество фильмов, которое выходило в прокат было в 2016 и 2019 годах, минимальное в 2017."
   ]
  },
  {
   "cell_type": "markdown",
   "metadata": {
    "id": "BEOdcIrIgFyW"
   },
   "source": [
    "Изучим, как менялась динамика проката по годам. В каком году сумма сборов была минимальной? А максимальной?"
   ]
  },
  {
   "cell_type": "code",
   "execution_count": 57,
   "metadata": {},
   "outputs": [
    {
     "data": {
      "image/png": "[encoded data removed]",
      "text/plain": [
       "<Figure size 864x360 with 1 Axes>"
      ]
     },
     "metadata": {
      "needs_background": "light"
     },
     "output_type": "display_data"
    }
   ],
   "source": [
    "data.query('year_show_start == [2015,2016,2017,2018,2019] and box_office > 0').pivot_table(\n",
    "    index='year_show_start', values ='box_office', aggfunc='sum').plot(\n",
    "    style='o-', grid=True, figsize=(12,5))\n",
    "plt.gca().xaxis.set_major_formatter(plt.FormatStrFormatter('%d'))\n",
    "plt.xticks(data.query('year_show_start == [2015,2016,2017,2018,2019] and box_office > 0')['year_show_start'].unique())\n",
    "plt.title('суммы сборов по годам');\n",
    "plt.xlabel('год');\n",
    "plt.ylabel('сумма сборов')\n",
    "plt.legend('сборы')\n",
    "\n",
    "plt.show()\n"
   ]
  },
  {
   "cell_type": "markdown",
   "metadata": {},
   "source": [
    "Mаксимальные сборы были в 2019году, минимальные сборы были в 2015 году. "
   ]
  },
  {
   "cell_type": "markdown",
   "metadata": {},
   "source": [
    "С помощью сводной таблицы посчитаем среднюю и медианную сумму сборов для каждого года."
   ]
  },
  {
   "cell_type": "code",
   "execution_count": 58,
   "metadata": {
    "id": "jmp-rgg9gFyY"
   },
   "outputs": [
    {
     "data": {
      "text/html": [
       "<div>\n",
       "<style scoped>\n",
       "    .dataframe tbody tr th:only-of-type {\n",
       "        vertical-align: middle;\n",
       "    }\n",
       "\n",
       "    .dataframe tbody tr th {\n",
       "        vertical-align: top;\n",
       "    }\n",
       "\n",
       "    .dataframe thead tr th {\n",
       "        text-align: left;\n",
       "    }\n",
       "\n",
       "    .dataframe thead tr:last-of-type th {\n",
       "        text-align: right;\n",
       "    }\n",
       "</style>\n",
       "<table border=\"1\" class=\"dataframe\">\n",
       "  <thead>\n",
       "    <tr>\n",
       "      <th></th>\n",
       "      <th>median</th>\n",
       "      <th>mean</th>\n",
       "    </tr>\n",
       "    <tr>\n",
       "      <th></th>\n",
       "      <th>box_office</th>\n",
       "      <th>box_office</th>\n",
       "    </tr>\n",
       "    <tr>\n",
       "      <th>year_show_start</th>\n",
       "      <th></th>\n",
       "      <th></th>\n",
       "    </tr>\n",
       "  </thead>\n",
       "  <tbody>\n",
       "    <tr>\n",
       "      <th>2013</th>\n",
       "      <td>10,161,192.6</td>\n",
       "      <td>10,161,192.6</td>\n",
       "    </tr>\n",
       "    <tr>\n",
       "      <th>2014</th>\n",
       "      <td>4,731,239.5</td>\n",
       "      <td>67,145,876.7</td>\n",
       "    </tr>\n",
       "    <tr>\n",
       "      <th>2015</th>\n",
       "      <td>4,568,857.3</td>\n",
       "      <td>60,958,828.1</td>\n",
       "    </tr>\n",
       "    <tr>\n",
       "      <th>2016</th>\n",
       "      <td>16,814,329.5</td>\n",
       "      <td>86,977,620.5</td>\n",
       "    </tr>\n",
       "    <tr>\n",
       "      <th>2017</th>\n",
       "      <td>48,557,861.0</td>\n",
       "      <td>290,797,711.8</td>\n",
       "    </tr>\n",
       "    <tr>\n",
       "      <th>2018</th>\n",
       "      <td>23,225,573.2</td>\n",
       "      <td>183,031,870.8</td>\n",
       "    </tr>\n",
       "    <tr>\n",
       "      <th>2019</th>\n",
       "      <td>24,101,208.4</td>\n",
       "      <td>140,034,247.9</td>\n",
       "    </tr>\n",
       "  </tbody>\n",
       "</table>\n",
       "</div>"
      ],
      "text/plain": [
       "                      median          mean\n",
       "                  box_office    box_office\n",
       "year_show_start                           \n",
       "2013            10,161,192.6  10,161,192.6\n",
       "2014             4,731,239.5  67,145,876.7\n",
       "2015             4,568,857.3  60,958,828.1\n",
       "2016            16,814,329.5  86,977,620.5\n",
       "2017            48,557,861.0 290,797,711.8\n",
       "2018            23,225,573.2 183,031,870.8\n",
       "2019            24,101,208.4 140,034,247.9"
      ]
     },
     "execution_count": 58,
     "metadata": {},
     "output_type": "execute_result"
    }
   ],
   "source": [
    "data.query('box_office > 0 and budget > 0').pivot_table(\n",
    "    index='year_show_start', values ='box_office', aggfunc=['median','mean'])"
   ]
  },
  {
   "cell_type": "code",
   "execution_count": 59,
   "metadata": {
    "scrolled": true
   },
   "outputs": [
    {
     "data": {
      "image/png": "[encoded data removed]",
      "text/plain": [
       "<Figure size 864x360 with 1 Axes>"
      ]
     },
     "metadata": {
      "needs_background": "light"
     },
     "output_type": "display_data"
    }
   ],
   "source": [
    "data.query('box_office > 0 and budget > 0').pivot_table(\n",
    "    index='year_show_start', values ='box_office', aggfunc=['median','mean']).plot(\n",
    "    style='o-', grid=True, figsize=(12,5))\n",
    "plt.gca().xaxis.set_major_formatter(plt.FormatStrFormatter('%d'))\n",
    "plt.title('средняя и медианная суммы сборов для каждого года');\n",
    "plt.xlabel('год');\n",
    "plt.ylabel('сумма сборов')\n",
    "plt.legend(['медиана','средняя'])\n",
    "plt.show()"
   ]
  },
  {
   "cell_type": "markdown",
   "metadata": {},
   "source": [
    "В 2017 году были максимальные сборы. Если смотреть на среднюю и медиану, то можно увидеть насколько среднее значения больше медианного. Это может говорить нам о том что был фильм который получил самое большое количество сборов и за счет этого фильма сборы за год получились настолько высокие"
   ]
  },
  {
   "cell_type": "markdown",
   "metadata": {
    "id": "Ok89WFwJgFyZ"
   },
   "source": [
    "Определим, влияет ли возрастное ограничение аудитории («6+», «12+», «16+», «18+» и т. д.) на сборы фильма в прокате в период с 2015 по 2019 год? Фильмы с каким возрастным ограничением собрали больше всего денег в прокате? Меняется ли картина в зависимости от года? Если да, предположите, с чем это может быть связано."
   ]
  },
  {
   "cell_type": "code",
   "execution_count": 60,
   "metadata": {},
   "outputs": [
    {
     "data": {
      "image/png": "[encoded data removed]",
      "text/plain": [
       "<Figure size 864x360 with 1 Axes>"
      ]
     },
     "metadata": {
      "needs_background": "light"
     },
     "output_type": "display_data"
    }
   ],
   "source": [
    "data.query('year_show_start == [2015,2016,2017,2018,2019] and box_office > 0').pivot_table(\n",
    "    index='year_show_start', columns='age_category', values='box_office', aggfunc='mean').plot(\n",
    "    style ='-', grid=True, figsize=(12,5))\n",
    "plt.gca().xaxis.set_major_formatter(plt.FormatStrFormatter('%d'))\n",
    "plt.xticks(data.query('year_show_start == [2015,2016,2017,2018,2019] and box_office > 0')['year_show_start'].unique())\n",
    "plt.title('влияние возрастного ограничения на сборы фильма в прокате в период с 2015 по 2019 год, Среднее значение');\n",
    "plt.xlabel('год');\n",
    "plt.ylabel('сумма сборов')\n",
    "plt.show()"
   ]
  },
  {
   "cell_type": "code",
   "execution_count": 61,
   "metadata": {},
   "outputs": [
    {
     "data": {
      "image/png": "[encoded data removed]",
      "text/plain": [
       "<Figure size 864x360 with 1 Axes>"
      ]
     },
     "metadata": {
      "needs_background": "light"
     },
     "output_type": "display_data"
    }
   ],
   "source": [
    "data.query('year_show_start == [2015,2016,2017,2018,2019] and box_office > 0').pivot_table(\n",
    "    index='year_show_start', columns='age_category', values='box_office', aggfunc='median').plot(\n",
    "    style ='-', grid=True, figsize=(12,5))\n",
    "plt.gca().xaxis.set_major_formatter(plt.FormatStrFormatter('%d'))\n",
    "plt.xticks(data.query('year_show_start == [2015,2016,2017,2018,2019] and box_office > 0')['year_show_start'].unique())\n",
    "plt.title('влияние возрастного ограничения на сборы фильма в прокате в период с 2015 по 2019 год. Медианное значение');\n",
    "plt.xlabel('год');\n",
    "plt.ylabel('сумма сборов')\n",
    "plt.show()"
   ]
  },
  {
   "cell_type": "markdown",
   "metadata": {},
   "source": [
    "В 2017 году фильм с рейтингом 0+ получил самые большие сборы. Скорее всего за счет этого фильма в 2017 году самые большие сборы у кинотеатров.\n",
    "\n",
    "Если рассматривать все года, то на графике со средней видно что фильмы 12+ и 6+ пользуются большей популярностью и выигрывают по сборамм, чем фильмы 18+ и 0+"
   ]
  },
  {
   "cell_type": "markdown",
   "metadata": {
    "id": "l_Kg6Ku4gFya"
   },
   "source": [
    "## Исследуем фильмы, которые получили государственную поддержку\n",
    "\n"
   ]
  },
  {
   "cell_type": "code",
   "execution_count": 62,
   "metadata": {
    "id": "W9QKpjUdgFyb"
   },
   "outputs": [
    {
     "data": {
      "image/png": "[encoded data removed]",
      "text/plain": [
       "<Figure size 864x360 with 1 Axes>"
      ]
     },
     "metadata": {
      "needs_background": "light"
     },
     "output_type": "display_data"
    }
   ],
   "source": [
    "data.query('budget > 0').pivot_table(index='year_show_start',values='support',aggfunc='sum').plot(\n",
    "    grid=True, figsize=(12,5))\n",
    "plt.title('количество средств выделенных на поддержку кино по годам');\n",
    "plt.xlabel('год');\n",
    "plt.ylabel('количество средств')\n",
    "plt.show()"
   ]
  },
  {
   "cell_type": "markdown",
   "metadata": {},
   "source": [
    "Больше всего средст было выделено в 2016 и 2019 годах"
   ]
  },
  {
   "cell_type": "code",
   "execution_count": 63,
   "metadata": {
    "scrolled": true
   },
   "outputs": [
    {
     "data": {
      "image/png": "[encoded data removed]",
      "text/plain": [
       "<Figure size 864x360 with 1 Axes>"
      ]
     },
     "metadata": {
      "needs_background": "light"
     },
     "output_type": "display_data"
    }
   ],
   "source": [
    "data.query('budget > 0').pivot_table(index='age_category',values='support',aggfunc='sum').plot(\n",
    "    grid=True, figsize=(12,5))\n",
    "plt.title('количество средств выделенных на поддержку кино по возрастной категории');\n",
    "plt.xlabel('возрастная категория');\n",
    "plt.ylabel('количество средств')\n",
    "plt.show()"
   ]
  },
  {
   "cell_type": "markdown",
   "metadata": {},
   "source": [
    "Основное большенство средст выделяется на фильмы 6+"
   ]
  },
  {
   "cell_type": "code",
   "execution_count": 64,
   "metadata": {},
   "outputs": [
    {
     "data": {
      "image/png": "[encoded data removed]",
      "text/plain": [
       "<Figure size 864x360 with 1 Axes>"
      ]
     },
     "metadata": {
      "needs_background": "light"
     },
     "output_type": "display_data"
    }
   ],
   "source": [
    "data.query('budget > 0').pivot_table(index='type',values='support',aggfunc='sum').plot(\n",
    "    grid=True, figsize=(12,5))\n",
    "plt.title('количество средств выделенных на поддержку кино по типу фильма');\n",
    "plt.xlabel('тип фильма');\n",
    "plt.ylabel('количество средств')\n",
    "plt.show()"
   ]
  },
  {
   "cell_type": "markdown",
   "metadata": {},
   "source": [
    "Основное большенство средст выделяется на художественные фильмы"
   ]
  },
  {
   "cell_type": "markdown",
   "metadata": {},
   "source": [
    "Проверим как влияет гос поддержка на окупаемость фильмов:"
   ]
  },
  {
   "cell_type": "code",
   "execution_count": 65,
   "metadata": {},
   "outputs": [
    {
     "data": {
      "image/png": "[encoded data removed]",
      "text/plain": [
       "<Figure size 432x288 with 1 Axes>"
      ]
     },
     "metadata": {
      "needs_background": "light"
     },
     "output_type": "display_data"
    }
   ],
   "source": [
    "data.query('box_office > 0 and budget > 0').pivot_table(\n",
    "    index='puNumber',values=['box_office','support'],aggfunc='sum').plot(\n",
    "    x='box_office',y='support', kind='scatter')\n",
    "plt.title('влияние гос поддержка на окупаемость фильмов');\n",
    "plt.xlabel('сборы');\n",
    "plt.ylabel('количество средств')\n",
    "plt.show()"
   ]
  },
  {
   "cell_type": "code",
   "execution_count": 66,
   "metadata": {},
   "outputs": [
    {
     "data": {
      "text/plain": [
       "0.48897593177660037"
      ]
     },
     "execution_count": 66,
     "metadata": {},
     "output_type": "execute_result"
    }
   ],
   "source": [
    "data['box_office'].corr(data['support'])"
   ]
  },
  {
   "cell_type": "markdown",
   "metadata": {},
   "source": [
    "Корреляция в 0.48 говорит о наличии не слишком сильной связи. "
   ]
  },
  {
   "cell_type": "markdown",
   "metadata": {},
   "source": [
    "Проверим как влияет гос поддержка на рейтинг фильма:"
   ]
  },
  {
   "cell_type": "code",
   "execution_count": 67,
   "metadata": {},
   "outputs": [
    {
     "data": {
      "image/png": "[encoded data removed]",
      "text/plain": [
       "<Figure size 432x288 with 1 Axes>"
      ]
     },
     "metadata": {
      "needs_background": "light"
     },
     "output_type": "display_data"
    }
   ],
   "source": [
    "data.query('budget > 0').pivot_table(index='puNumber',values=['ratings','support'],aggfunc='sum').plot(\n",
    "    x='ratings',y='support', kind='scatter')\n",
    "plt.title('влияние гос поддержка на рейтинг');\n",
    "plt.xlabel('рейтинг');\n",
    "plt.ylabel('количество средств')\n",
    "plt.show()"
   ]
  },
  {
   "cell_type": "code",
   "execution_count": 68,
   "metadata": {},
   "outputs": [
    {
     "data": {
      "text/plain": [
       "0.1022221631984775"
      ]
     },
     "execution_count": 68,
     "metadata": {},
     "output_type": "execute_result"
    }
   ],
   "source": [
    "data['ratings'].corr(data['support'])"
   ]
  },
  {
   "cell_type": "markdown",
   "metadata": {},
   "source": [
    "Нет связи"
   ]
  },
  {
   "cell_type": "markdown",
   "metadata": {
    "id": "V2gYwMcPgFyd"
   },
   "source": [
    "## Общий вывод"
   ]
  },
  {
   "cell_type": "markdown",
   "metadata": {},
   "source": [
    "Изучили и обработали данные из таблиц.\n",
    "Посмотрели, сколько фильмов выходило в прокат каждый год и также посчитали, какую долю составляют фильмы с указанной информацией о прокате в кинотеатрах.\n",
    "\n",
    "Из этих данных сделали вывод, что:\n",
    "- наиболее полно были представленные данные с 2015 по 2019 год.\n",
    "\n",
    "При изучении данных по этим годам нашли, что:\n",
    "- самое большое количество фильмов выходило в прокат в 2016 и 2019 годах, минимальное в 2015.\n",
    "- максимальные сборы в прокате были в 2018 году, минимальные в 2015.\n",
    "\n",
    "Изучили влияние возрастного ограничения на сборы фильма в прокате. Фильмы с маркировкой 12+ и 6+ пользуются большей популярностью и выигрывают по сборам, чем фильмы 18+ и 0+.\n",
    "\n",
    "Изучили фильмы, которые получили государственную поддержку:\n",
    "- поддержка таких фильмов составляет 60-70% из общего бюджета. \n",
    "- это художественные фильны \n",
    "- категории 6+\n",
    "- самая большая поддержка была в 2016 и 2019 годах.\n",
    "\n",
    "Из исследования сделали вывод что гос поддержка не сильно влияет на окупаемость фильма и на рейтинг фильма не влияет совсем.\n",
    "\n"
   ]
  },
  {
   "cell_type": "code",
   "execution_count": null,
   "metadata": {},
   "outputs": [],
   "source": []
  }
 ],
 "metadata": {
  "ExecuteTimeLog": [
   {
    "duration": 537,
    "start_time": "2021-07-07T10:12:08.634Z"
   },
   {
    "duration": 206,
    "start_time": "2021-07-07T10:12:30.191Z"
   },
   {
    "duration": 227,
    "start_time": "2021-07-07T10:12:33.078Z"
   },
   {
    "duration": 153,
    "start_time": "2021-07-07T10:13:42.146Z"
   },
   {
    "duration": 233,
    "start_time": "2021-07-07T10:30:09.252Z"
   },
   {
    "duration": 19,
    "start_time": "2021-07-07T10:30:15.577Z"
   },
   {
    "duration": 18,
    "start_time": "2021-07-07T10:30:57.348Z"
   },
   {
    "duration": 19,
    "start_time": "2021-07-07T10:31:17.452Z"
   },
   {
    "duration": 21,
    "start_time": "2021-07-07T10:31:32.227Z"
   },
   {
    "duration": 27,
    "start_time": "2021-07-07T10:32:06.588Z"
   },
   {
    "duration": 23,
    "start_time": "2021-07-07T10:32:43.645Z"
   },
   {
    "duration": 24,
    "start_time": "2021-07-07T10:33:06.948Z"
   },
   {
    "duration": 7,
    "start_time": "2021-07-07T10:33:28.558Z"
   },
   {
    "duration": 23,
    "start_time": "2021-07-07T10:33:43.761Z"
   },
   {
    "duration": 28,
    "start_time": "2021-07-07T10:34:13.466Z"
   },
   {
    "duration": 23,
    "start_time": "2021-07-07T10:35:56.187Z"
   },
   {
    "duration": 6,
    "start_time": "2021-07-07T10:36:48.182Z"
   },
   {
    "duration": 14,
    "start_time": "2021-07-07T10:37:49.641Z"
   },
   {
    "duration": 6,
    "start_time": "2021-07-07T10:38:06.694Z"
   },
   {
    "duration": 6,
    "start_time": "2021-07-07T10:38:13.493Z"
   },
   {
    "duration": 19,
    "start_time": "2021-07-07T10:38:44.056Z"
   },
   {
    "duration": 186,
    "start_time": "2021-07-07T10:48:35.618Z"
   },
   {
    "duration": 24,
    "start_time": "2021-07-07T10:48:51.498Z"
   },
   {
    "duration": 20,
    "start_time": "2021-07-07T10:48:59.415Z"
   },
   {
    "duration": 20,
    "start_time": "2021-07-07T10:53:02.195Z"
   },
   {
    "duration": 188,
    "start_time": "2021-07-07T10:54:40.486Z"
   },
   {
    "duration": 115,
    "start_time": "2021-07-07T10:54:52.552Z"
   },
   {
    "duration": 214,
    "start_time": "2021-07-07T10:54:56.354Z"
   },
   {
    "duration": 47,
    "start_time": "2021-07-07T10:54:58.282Z"
   },
   {
    "duration": 217,
    "start_time": "2021-07-07T10:59:16.075Z"
   },
   {
    "duration": 51,
    "start_time": "2021-07-07T10:59:16.243Z"
   },
   {
    "duration": 578,
    "start_time": "2021-07-07T10:59:18.774Z"
   },
   {
    "duration": 161,
    "start_time": "2021-07-07T10:59:21.238Z"
   },
   {
    "duration": 59,
    "start_time": "2021-07-07T10:59:21.453Z"
   },
   {
    "duration": 3,
    "start_time": "2021-07-07T11:02:10.786Z"
   },
   {
    "duration": 13,
    "start_time": "2021-07-07T11:07:07.722Z"
   },
   {
    "duration": 26,
    "start_time": "2021-07-07T11:07:17.958Z"
   },
   {
    "duration": 22,
    "start_time": "2021-07-07T11:08:17.939Z"
   },
   {
    "duration": 212,
    "start_time": "2021-07-07T11:08:19.665Z"
   },
   {
    "duration": 21,
    "start_time": "2021-07-07T11:08:29.945Z"
   },
   {
    "duration": 31,
    "start_time": "2021-07-07T11:08:38.899Z"
   },
   {
    "duration": 23,
    "start_time": "2021-07-07T11:08:54.527Z"
   },
   {
    "duration": 8,
    "start_time": "2021-07-07T11:18:55.974Z"
   },
   {
    "duration": 7,
    "start_time": "2021-07-07T11:19:03.639Z"
   },
   {
    "duration": 7,
    "start_time": "2021-07-07T11:19:06.444Z"
   },
   {
    "duration": 578,
    "start_time": "2021-07-07T12:09:59.576Z"
   },
   {
    "duration": 195,
    "start_time": "2021-07-07T12:10:00.156Z"
   },
   {
    "duration": 115,
    "start_time": "2021-07-07T12:10:00.353Z"
   },
   {
    "duration": 3,
    "start_time": "2021-07-07T12:10:00.470Z"
   },
   {
    "duration": 32,
    "start_time": "2021-07-07T12:10:00.474Z"
   },
   {
    "duration": 23,
    "start_time": "2021-07-07T12:10:00.508Z"
   },
   {
    "duration": 19,
    "start_time": "2021-07-07T12:10:00.533Z"
   },
   {
    "duration": 44,
    "start_time": "2021-07-07T12:10:00.553Z"
   },
   {
    "duration": 7,
    "start_time": "2021-07-07T12:10:00.600Z"
   },
   {
    "duration": 7,
    "start_time": "2021-07-07T12:19:45.761Z"
   },
   {
    "duration": 21,
    "start_time": "2021-07-07T12:21:35.482Z"
   },
   {
    "duration": 21,
    "start_time": "2021-07-07T12:29:23.569Z"
   },
   {
    "duration": 525,
    "start_time": "2021-07-07T12:29:44.542Z"
   },
   {
    "duration": 214,
    "start_time": "2021-07-07T12:29:45.069Z"
   },
   {
    "duration": 92,
    "start_time": "2021-07-07T12:29:45.285Z"
   },
   {
    "duration": 3,
    "start_time": "2021-07-07T12:29:45.379Z"
   },
   {
    "duration": 28,
    "start_time": "2021-07-07T12:29:45.384Z"
   },
   {
    "duration": 23,
    "start_time": "2021-07-07T12:29:45.413Z"
   },
   {
    "duration": 21,
    "start_time": "2021-07-07T12:29:45.437Z"
   },
   {
    "duration": 41,
    "start_time": "2021-07-07T12:29:45.460Z"
   },
   {
    "duration": 7,
    "start_time": "2021-07-07T12:29:45.502Z"
   },
   {
    "duration": 20,
    "start_time": "2021-07-07T12:29:45.511Z"
   },
   {
    "duration": 12,
    "start_time": "2021-07-07T12:34:02.800Z"
   },
   {
    "duration": 7,
    "start_time": "2021-07-07T12:35:10.479Z"
   },
   {
    "duration": 8,
    "start_time": "2021-07-07T12:35:22.440Z"
   },
   {
    "duration": 6,
    "start_time": "2021-07-07T12:35:35.649Z"
   },
   {
    "duration": 6,
    "start_time": "2021-07-07T12:35:43.107Z"
   },
   {
    "duration": 22,
    "start_time": "2021-07-07T12:38:03.029Z"
   },
   {
    "duration": 10,
    "start_time": "2021-07-07T12:38:06.592Z"
   },
   {
    "duration": 563,
    "start_time": "2021-07-07T12:38:46.493Z"
   },
   {
    "duration": 265,
    "start_time": "2021-07-07T12:38:47.058Z"
   },
   {
    "duration": 94,
    "start_time": "2021-07-07T12:38:47.325Z"
   },
   {
    "duration": 3,
    "start_time": "2021-07-07T12:38:47.422Z"
   },
   {
    "duration": 30,
    "start_time": "2021-07-07T12:38:47.427Z"
   },
   {
    "duration": 16,
    "start_time": "2021-07-07T12:38:53.305Z"
   },
   {
    "duration": 10,
    "start_time": "2021-07-07T12:38:53.499Z"
   },
   {
    "duration": 8,
    "start_time": "2021-07-07T12:39:48.161Z"
   },
   {
    "duration": 27,
    "start_time": "2021-07-07T12:41:17.629Z"
   },
   {
    "duration": 17,
    "start_time": "2021-07-07T12:41:17.867Z"
   },
   {
    "duration": 21,
    "start_time": "2021-07-07T12:41:19.310Z"
   },
   {
    "duration": 7,
    "start_time": "2021-07-07T12:41:19.544Z"
   },
   {
    "duration": 20,
    "start_time": "2021-07-07T12:41:20.504Z"
   },
   {
    "duration": 554,
    "start_time": "2021-07-07T12:56:23.696Z"
   },
   {
    "duration": 200,
    "start_time": "2021-07-07T12:56:25.234Z"
   },
   {
    "duration": 119,
    "start_time": "2021-07-07T12:56:25.480Z"
   },
   {
    "duration": 4,
    "start_time": "2021-07-07T12:56:25.762Z"
   },
   {
    "duration": 26,
    "start_time": "2021-07-07T12:56:27.172Z"
   },
   {
    "duration": 12,
    "start_time": "2021-07-07T12:56:29.051Z"
   },
   {
    "duration": 10,
    "start_time": "2021-07-07T12:56:29.291Z"
   },
   {
    "duration": 8,
    "start_time": "2021-07-07T12:56:29.623Z"
   },
   {
    "duration": 28,
    "start_time": "2021-07-07T12:56:32.137Z"
   },
   {
    "duration": 19,
    "start_time": "2021-07-07T12:56:39.785Z"
   },
   {
    "duration": 20,
    "start_time": "2021-07-07T12:56:44.297Z"
   },
   {
    "duration": 7,
    "start_time": "2021-07-07T12:56:45.392Z"
   },
   {
    "duration": 23,
    "start_time": "2021-07-07T12:56:46.615Z"
   },
   {
    "duration": 4,
    "start_time": "2021-07-07T12:57:06.625Z"
   },
   {
    "duration": 32,
    "start_time": "2021-07-07T12:57:36.690Z"
   },
   {
    "duration": 18,
    "start_time": "2021-07-07T12:58:00.149Z"
   },
   {
    "duration": 15,
    "start_time": "2021-07-07T12:59:16.793Z"
   },
   {
    "duration": 7,
    "start_time": "2021-07-07T13:19:22.624Z"
   },
   {
    "duration": 6,
    "start_time": "2021-07-07T14:17:33.527Z"
   },
   {
    "duration": 9,
    "start_time": "2021-07-07T14:17:48.409Z"
   },
   {
    "duration": 8,
    "start_time": "2021-07-07T14:20:13.060Z"
   },
   {
    "duration": 8,
    "start_time": "2021-07-07T14:20:37.957Z"
   },
   {
    "duration": 8,
    "start_time": "2021-07-07T14:20:47.470Z"
   },
   {
    "duration": 9,
    "start_time": "2021-07-07T14:20:54.503Z"
   },
   {
    "duration": 10,
    "start_time": "2021-07-07T14:28:57.763Z"
   },
   {
    "duration": 3,
    "start_time": "2021-07-07T14:30:23.377Z"
   },
   {
    "duration": 3,
    "start_time": "2021-07-07T14:30:36.489Z"
   },
   {
    "duration": 103,
    "start_time": "2021-07-07T14:30:52.351Z"
   },
   {
    "duration": 8,
    "start_time": "2021-07-07T14:30:54.763Z"
   },
   {
    "duration": 8,
    "start_time": "2021-07-07T14:31:29.301Z"
   },
   {
    "duration": 13,
    "start_time": "2021-07-07T14:31:44.516Z"
   },
   {
    "duration": 7,
    "start_time": "2021-07-07T14:33:10.972Z"
   },
   {
    "duration": 11,
    "start_time": "2021-07-07T14:33:27.780Z"
   },
   {
    "duration": 8,
    "start_time": "2021-07-07T14:34:44.588Z"
   },
   {
    "duration": 57,
    "start_time": "2021-07-07T14:35:59.042Z"
   },
   {
    "duration": 3,
    "start_time": "2021-07-07T14:36:28.168Z"
   },
   {
    "duration": 5,
    "start_time": "2021-07-07T14:36:46.254Z"
   },
   {
    "duration": 4,
    "start_time": "2021-07-07T14:36:52.714Z"
   },
   {
    "duration": 3,
    "start_time": "2021-07-07T14:36:56.612Z"
   },
   {
    "duration": 4,
    "start_time": "2021-07-07T14:36:57.049Z"
   },
   {
    "duration": 3,
    "start_time": "2021-07-07T14:39:21.214Z"
   },
   {
    "duration": 7,
    "start_time": "2021-07-07T14:39:52.406Z"
   },
   {
    "duration": 11,
    "start_time": "2021-07-07T14:39:58.576Z"
   },
   {
    "duration": 9,
    "start_time": "2021-07-07T14:40:26.301Z"
   },
   {
    "duration": 10,
    "start_time": "2021-07-07T14:40:31.704Z"
   },
   {
    "duration": 11,
    "start_time": "2021-07-07T14:40:36.249Z"
   },
   {
    "duration": 10,
    "start_time": "2021-07-07T14:40:39.783Z"
   },
   {
    "duration": 9,
    "start_time": "2021-07-07T14:40:48.558Z"
   },
   {
    "duration": 10,
    "start_time": "2021-07-07T14:40:57.143Z"
   },
   {
    "duration": 9,
    "start_time": "2021-07-07T14:41:06.074Z"
   },
   {
    "duration": 4324,
    "start_time": "2021-07-07T14:41:22.004Z"
   },
   {
    "duration": 11,
    "start_time": "2021-07-07T14:41:33.392Z"
   },
   {
    "duration": 9,
    "start_time": "2021-07-07T14:41:39.288Z"
   },
   {
    "duration": 569,
    "start_time": "2021-07-07T14:42:14.387Z"
   },
   {
    "duration": 197,
    "start_time": "2021-07-07T14:42:14.959Z"
   },
   {
    "duration": 84,
    "start_time": "2021-07-07T14:42:16.052Z"
   },
   {
    "duration": 4,
    "start_time": "2021-07-07T14:42:16.900Z"
   },
   {
    "duration": 27,
    "start_time": "2021-07-07T14:42:19.898Z"
   },
   {
    "duration": 12,
    "start_time": "2021-07-07T14:42:21.577Z"
   },
   {
    "duration": 9,
    "start_time": "2021-07-07T14:42:21.813Z"
   },
   {
    "duration": 9,
    "start_time": "2021-07-07T14:42:22.569Z"
   },
   {
    "duration": 29,
    "start_time": "2021-07-07T14:42:25.837Z"
   },
   {
    "duration": 20,
    "start_time": "2021-07-07T14:42:27.003Z"
   },
   {
    "duration": 21,
    "start_time": "2021-07-07T14:42:28.767Z"
   },
   {
    "duration": 7,
    "start_time": "2021-07-07T14:42:29.838Z"
   },
   {
    "duration": 4,
    "start_time": "2021-07-07T14:43:25.493Z"
   },
   {
    "duration": 7,
    "start_time": "2021-07-07T14:43:26.573Z"
   },
   {
    "duration": 10,
    "start_time": "2021-07-07T14:43:31.639Z"
   },
   {
    "duration": 9,
    "start_time": "2021-07-07T14:43:32.046Z"
   },
   {
    "duration": 10,
    "start_time": "2021-07-07T14:43:33.301Z"
   },
   {
    "duration": 12,
    "start_time": "2021-07-07T14:43:33.658Z"
   },
   {
    "duration": 8,
    "start_time": "2021-07-07T14:43:34.552Z"
   },
   {
    "duration": 9,
    "start_time": "2021-07-07T14:43:35.058Z"
   },
   {
    "duration": 12,
    "start_time": "2021-07-07T14:43:35.914Z"
   },
   {
    "duration": 17,
    "start_time": "2021-07-07T14:45:34.368Z"
   },
   {
    "duration": 512,
    "start_time": "2021-07-07T14:51:58.236Z"
   },
   {
    "duration": 223,
    "start_time": "2021-07-07T14:51:58.750Z"
   },
   {
    "duration": 93,
    "start_time": "2021-07-07T14:51:58.977Z"
   },
   {
    "duration": 4,
    "start_time": "2021-07-07T14:51:59.071Z"
   },
   {
    "duration": 37,
    "start_time": "2021-07-07T14:51:59.077Z"
   },
   {
    "duration": 18,
    "start_time": "2021-07-07T14:51:59.116Z"
   },
   {
    "duration": 10,
    "start_time": "2021-07-07T14:51:59.137Z"
   },
   {
    "duration": 8,
    "start_time": "2021-07-07T14:51:59.149Z"
   },
   {
    "duration": 54,
    "start_time": "2021-07-07T14:51:59.158Z"
   },
   {
    "duration": 18,
    "start_time": "2021-07-07T14:51:59.213Z"
   },
   {
    "duration": 22,
    "start_time": "2021-07-07T14:51:59.232Z"
   },
   {
    "duration": 36,
    "start_time": "2021-07-07T14:51:59.255Z"
   },
   {
    "duration": 7,
    "start_time": "2021-07-07T14:51:59.293Z"
   },
   {
    "duration": 10,
    "start_time": "2021-07-07T14:51:59.302Z"
   },
   {
    "duration": 9,
    "start_time": "2021-07-07T14:51:59.313Z"
   },
   {
    "duration": 11,
    "start_time": "2021-07-07T14:51:59.324Z"
   },
   {
    "duration": 8,
    "start_time": "2021-07-07T14:51:59.337Z"
   },
   {
    "duration": 46,
    "start_time": "2021-07-07T14:51:59.347Z"
   },
   {
    "duration": 22,
    "start_time": "2021-07-07T14:51:59.395Z"
   },
   {
    "duration": 24,
    "start_time": "2021-07-07T14:57:32.911Z"
   },
   {
    "duration": 7,
    "start_time": "2021-07-07T14:58:22.070Z"
   },
   {
    "duration": 4,
    "start_time": "2021-07-07T14:59:11.239Z"
   },
   {
    "duration": 25,
    "start_time": "2021-07-07T15:07:22.208Z"
   },
   {
    "duration": 16,
    "start_time": "2021-07-07T15:08:25.560Z"
   },
   {
    "duration": 15,
    "start_time": "2021-07-07T15:08:40.647Z"
   },
   {
    "duration": 14,
    "start_time": "2021-07-07T15:08:46.669Z"
   },
   {
    "duration": 533,
    "start_time": "2021-07-07T15:18:07.440Z"
   },
   {
    "duration": 173,
    "start_time": "2021-07-07T15:18:07.974Z"
   },
   {
    "duration": 84,
    "start_time": "2021-07-07T15:18:08.149Z"
   },
   {
    "duration": 3,
    "start_time": "2021-07-07T15:18:08.235Z"
   },
   {
    "duration": 30,
    "start_time": "2021-07-07T15:18:08.240Z"
   },
   {
    "duration": 22,
    "start_time": "2021-07-07T15:18:08.272Z"
   },
   {
    "duration": 11,
    "start_time": "2021-07-07T15:18:08.295Z"
   },
   {
    "duration": 11,
    "start_time": "2021-07-07T15:18:08.309Z"
   },
   {
    "duration": 40,
    "start_time": "2021-07-07T15:18:08.322Z"
   },
   {
    "duration": 42,
    "start_time": "2021-07-07T15:18:08.364Z"
   },
   {
    "duration": 22,
    "start_time": "2021-07-07T15:18:08.408Z"
   },
   {
    "duration": 5,
    "start_time": "2021-07-07T15:18:08.432Z"
   },
   {
    "duration": 13,
    "start_time": "2021-07-07T15:18:08.439Z"
   },
   {
    "duration": 9,
    "start_time": "2021-07-07T15:18:08.454Z"
   },
   {
    "duration": 32,
    "start_time": "2021-07-07T15:18:08.465Z"
   },
   {
    "duration": 10,
    "start_time": "2021-07-07T15:18:08.501Z"
   },
   {
    "duration": 7,
    "start_time": "2021-07-07T15:18:08.513Z"
   },
   {
    "duration": 11,
    "start_time": "2021-07-07T15:18:08.521Z"
   },
   {
    "duration": 17,
    "start_time": "2021-07-07T15:18:08.534Z"
   },
   {
    "duration": 44,
    "start_time": "2021-07-07T15:18:08.553Z"
   },
   {
    "duration": 22,
    "start_time": "2021-07-07T15:18:08.599Z"
   },
   {
    "duration": 61,
    "start_time": "2021-07-07T15:18:08.622Z"
   },
   {
    "duration": 7,
    "start_time": "2021-07-07T15:18:39.457Z"
   },
   {
    "duration": 5,
    "start_time": "2021-07-07T16:05:17.020Z"
   },
   {
    "duration": 5,
    "start_time": "2021-07-07T16:51:28.794Z"
   },
   {
    "duration": 546,
    "start_time": "2021-07-07T16:52:26.306Z"
   },
   {
    "duration": 203,
    "start_time": "2021-07-07T16:52:27.523Z"
   },
   {
    "duration": 85,
    "start_time": "2021-07-07T16:52:27.736Z"
   },
   {
    "duration": 4,
    "start_time": "2021-07-07T16:52:27.899Z"
   },
   {
    "duration": 25,
    "start_time": "2021-07-07T16:52:28.674Z"
   },
   {
    "duration": 8,
    "start_time": "2021-07-07T16:52:32.956Z"
   },
   {
    "duration": 18,
    "start_time": "2021-07-07T16:52:35.616Z"
   },
   {
    "duration": 6,
    "start_time": "2021-07-07T16:52:36.913Z"
   },
   {
    "duration": 11,
    "start_time": "2021-07-07T16:52:40.258Z"
   },
   {
    "duration": 10,
    "start_time": "2021-07-07T16:52:46.251Z"
   },
   {
    "duration": 8,
    "start_time": "2021-07-07T16:52:47.182Z"
   },
   {
    "duration": 27,
    "start_time": "2021-07-07T16:53:20.391Z"
   },
   {
    "duration": 20,
    "start_time": "2021-07-07T16:53:22.022Z"
   },
   {
    "duration": 23,
    "start_time": "2021-07-07T16:53:23.690Z"
   },
   {
    "duration": 8,
    "start_time": "2021-07-07T16:53:24.261Z"
   },
   {
    "duration": 4,
    "start_time": "2021-07-07T16:53:38.733Z"
   },
   {
    "duration": 7,
    "start_time": "2021-07-07T16:53:40.445Z"
   },
   {
    "duration": 11,
    "start_time": "2021-07-07T16:53:41.348Z"
   },
   {
    "duration": 13,
    "start_time": "2021-07-07T16:53:45.250Z"
   },
   {
    "duration": 12,
    "start_time": "2021-07-07T16:53:45.467Z"
   },
   {
    "duration": 4,
    "start_time": "2021-07-07T16:55:32.704Z"
   },
   {
    "duration": 12,
    "start_time": "2021-07-07T16:55:49.012Z"
   },
   {
    "duration": 18,
    "start_time": "2021-07-07T16:55:49.547Z"
   },
   {
    "duration": 611,
    "start_time": "2021-07-07T16:58:35.156Z"
   },
   {
    "duration": 200,
    "start_time": "2021-07-07T16:58:35.770Z"
   },
   {
    "duration": 86,
    "start_time": "2021-07-07T16:58:35.972Z"
   },
   {
    "duration": 3,
    "start_time": "2021-07-07T16:58:36.060Z"
   },
   {
    "duration": 27,
    "start_time": "2021-07-07T16:58:36.065Z"
   },
   {
    "duration": 8,
    "start_time": "2021-07-07T16:58:36.094Z"
   },
   {
    "duration": 17,
    "start_time": "2021-07-07T16:58:36.103Z"
   },
   {
    "duration": 5,
    "start_time": "2021-07-07T16:58:36.123Z"
   },
   {
    "duration": 11,
    "start_time": "2021-07-07T16:58:36.130Z"
   },
   {
    "duration": 7,
    "start_time": "2021-07-07T16:58:36.143Z"
   },
   {
    "duration": 37,
    "start_time": "2021-07-07T16:58:36.152Z"
   },
   {
    "duration": 27,
    "start_time": "2021-07-07T16:58:36.191Z"
   },
   {
    "duration": 19,
    "start_time": "2021-07-07T16:58:36.219Z"
   },
   {
    "duration": 49,
    "start_time": "2021-07-07T16:58:36.240Z"
   },
   {
    "duration": 6,
    "start_time": "2021-07-07T16:58:36.291Z"
   },
   {
    "duration": 3,
    "start_time": "2021-07-07T16:58:36.299Z"
   },
   {
    "duration": 13,
    "start_time": "2021-07-07T16:58:36.304Z"
   },
   {
    "duration": 10,
    "start_time": "2021-07-07T16:58:36.319Z"
   },
   {
    "duration": 10,
    "start_time": "2021-07-07T16:58:36.331Z"
   },
   {
    "duration": 44,
    "start_time": "2021-07-07T16:58:36.343Z"
   },
   {
    "duration": 4,
    "start_time": "2021-07-07T16:58:36.388Z"
   },
   {
    "duration": 13,
    "start_time": "2021-07-07T16:58:36.394Z"
   },
   {
    "duration": 16,
    "start_time": "2021-07-07T16:58:36.410Z"
   },
   {
    "duration": 8,
    "start_time": "2021-07-07T17:02:31.629Z"
   },
   {
    "duration": 8,
    "start_time": "2021-07-07T17:02:34.308Z"
   },
   {
    "duration": 6,
    "start_time": "2021-07-07T17:05:13.483Z"
   },
   {
    "duration": 17,
    "start_time": "2021-07-07T17:05:20.606Z"
   },
   {
    "duration": 7,
    "start_time": "2021-07-07T17:05:34.638Z"
   },
   {
    "duration": 3,
    "start_time": "2021-07-07T17:06:31.883Z"
   },
   {
    "duration": 570,
    "start_time": "2021-07-07T17:06:37.165Z"
   },
   {
    "duration": 174,
    "start_time": "2021-07-07T17:06:37.737Z"
   },
   {
    "duration": 47,
    "start_time": "2021-07-07T17:06:37.913Z"
   },
   {
    "duration": 3,
    "start_time": "2021-07-07T17:06:37.962Z"
   },
   {
    "duration": 27,
    "start_time": "2021-07-07T17:06:37.967Z"
   },
   {
    "duration": 7,
    "start_time": "2021-07-07T17:06:37.996Z"
   },
   {
    "duration": 16,
    "start_time": "2021-07-07T17:06:38.005Z"
   },
   {
    "duration": 6,
    "start_time": "2021-07-07T17:06:38.024Z"
   },
   {
    "duration": 12,
    "start_time": "2021-07-07T17:06:38.031Z"
   },
   {
    "duration": 41,
    "start_time": "2021-07-07T17:06:38.045Z"
   },
   {
    "duration": 8,
    "start_time": "2021-07-07T17:06:38.088Z"
   },
   {
    "duration": 26,
    "start_time": "2021-07-07T17:06:38.098Z"
   },
   {
    "duration": 17,
    "start_time": "2021-07-07T17:06:38.126Z"
   },
   {
    "duration": 43,
    "start_time": "2021-07-07T17:06:38.144Z"
   },
   {
    "duration": 6,
    "start_time": "2021-07-07T17:06:38.188Z"
   },
   {
    "duration": 5,
    "start_time": "2021-07-07T17:06:38.195Z"
   },
   {
    "duration": 9,
    "start_time": "2021-07-07T17:06:38.201Z"
   },
   {
    "duration": 12,
    "start_time": "2021-07-07T17:06:38.212Z"
   },
   {
    "duration": 11,
    "start_time": "2021-07-07T17:06:38.226Z"
   },
   {
    "duration": 47,
    "start_time": "2021-07-07T17:06:38.239Z"
   },
   {
    "duration": 4,
    "start_time": "2021-07-07T17:06:38.288Z"
   },
   {
    "duration": 13,
    "start_time": "2021-07-07T17:06:38.293Z"
   },
   {
    "duration": 5,
    "start_time": "2021-07-07T17:06:38.309Z"
   },
   {
    "duration": 18,
    "start_time": "2021-07-07T17:06:38.325Z"
   },
   {
    "duration": 20,
    "start_time": "2021-07-07T17:07:02.805Z"
   },
   {
    "duration": 19,
    "start_time": "2021-07-07T17:07:08.527Z"
   },
   {
    "duration": 19,
    "start_time": "2021-07-07T17:07:12.758Z"
   },
   {
    "duration": 22,
    "start_time": "2021-07-07T17:07:17.497Z"
   },
   {
    "duration": 19,
    "start_time": "2021-07-07T17:07:19.645Z"
   },
   {
    "duration": 10,
    "start_time": "2021-07-07T17:07:34.239Z"
   },
   {
    "duration": 17,
    "start_time": "2021-07-07T17:07:54.144Z"
   },
   {
    "duration": 14,
    "start_time": "2021-07-07T17:08:14.357Z"
   },
   {
    "duration": 616,
    "start_time": "2021-07-07T17:08:45.254Z"
   },
   {
    "duration": 178,
    "start_time": "2021-07-07T17:08:45.872Z"
   },
   {
    "duration": 60,
    "start_time": "2021-07-07T17:08:46.054Z"
   },
   {
    "duration": 3,
    "start_time": "2021-07-07T17:08:46.116Z"
   },
   {
    "duration": 26,
    "start_time": "2021-07-07T17:08:46.121Z"
   },
   {
    "duration": 7,
    "start_time": "2021-07-07T17:08:46.149Z"
   },
   {
    "duration": 17,
    "start_time": "2021-07-07T17:08:46.158Z"
   },
   {
    "duration": 14,
    "start_time": "2021-07-07T17:08:46.176Z"
   },
   {
    "duration": 17,
    "start_time": "2021-07-07T17:08:46.193Z"
   },
   {
    "duration": 9,
    "start_time": "2021-07-07T17:08:46.211Z"
   },
   {
    "duration": 21,
    "start_time": "2021-07-07T17:08:46.221Z"
   },
   {
    "duration": 49,
    "start_time": "2021-07-07T17:08:46.244Z"
   },
   {
    "duration": 24,
    "start_time": "2021-07-07T17:08:46.295Z"
   },
   {
    "duration": 22,
    "start_time": "2021-07-07T17:08:46.321Z"
   },
   {
    "duration": 6,
    "start_time": "2021-07-07T17:08:46.345Z"
   },
   {
    "duration": 5,
    "start_time": "2021-07-07T17:08:46.353Z"
   },
   {
    "duration": 13,
    "start_time": "2021-07-07T17:08:46.386Z"
   },
   {
    "duration": 12,
    "start_time": "2021-07-07T17:08:46.402Z"
   },
   {
    "duration": 10,
    "start_time": "2021-07-07T17:08:46.415Z"
   },
   {
    "duration": 7,
    "start_time": "2021-07-07T17:08:46.427Z"
   },
   {
    "duration": 8,
    "start_time": "2021-07-07T17:08:46.435Z"
   },
   {
    "duration": 68,
    "start_time": "2021-07-07T17:08:46.446Z"
   },
   {
    "duration": 13,
    "start_time": "2021-07-07T17:08:46.516Z"
   },
   {
    "duration": 78,
    "start_time": "2021-07-07T17:08:46.530Z"
   },
   {
    "duration": 40,
    "start_time": "2021-07-07T17:09:08.185Z"
   },
   {
    "duration": 16,
    "start_time": "2021-07-07T17:09:19.324Z"
   },
   {
    "duration": 21,
    "start_time": "2021-07-07T17:09:23.290Z"
   },
   {
    "duration": 13,
    "start_time": "2021-07-07T17:09:54.812Z"
   },
   {
    "duration": 13,
    "start_time": "2021-07-07T17:10:02.039Z"
   },
   {
    "duration": 10,
    "start_time": "2021-07-07T17:10:29.632Z"
   },
   {
    "duration": 13,
    "start_time": "2021-07-07T17:10:52.372Z"
   },
   {
    "duration": 13,
    "start_time": "2021-07-07T17:11:17.270Z"
   },
   {
    "duration": 13,
    "start_time": "2021-07-07T17:14:59.284Z"
   },
   {
    "duration": 547,
    "start_time": "2021-07-07T17:18:52.403Z"
   },
   {
    "duration": 163,
    "start_time": "2021-07-07T17:18:52.952Z"
   },
   {
    "duration": 44,
    "start_time": "2021-07-07T17:18:53.117Z"
   },
   {
    "duration": 3,
    "start_time": "2021-07-07T17:18:53.162Z"
   },
   {
    "duration": 26,
    "start_time": "2021-07-07T17:18:53.167Z"
   },
   {
    "duration": 6,
    "start_time": "2021-07-07T17:18:53.195Z"
   },
   {
    "duration": 15,
    "start_time": "2021-07-07T17:18:53.203Z"
   },
   {
    "duration": 5,
    "start_time": "2021-07-07T17:18:53.220Z"
   },
   {
    "duration": 11,
    "start_time": "2021-07-07T17:18:53.228Z"
   },
   {
    "duration": 9,
    "start_time": "2021-07-07T17:18:53.241Z"
   },
   {
    "duration": 41,
    "start_time": "2021-07-07T17:18:53.252Z"
   },
   {
    "duration": 33,
    "start_time": "2021-07-07T17:18:53.295Z"
   },
   {
    "duration": 19,
    "start_time": "2021-07-07T17:18:53.330Z"
   },
   {
    "duration": 49,
    "start_time": "2021-07-07T17:18:53.350Z"
   },
   {
    "duration": 5,
    "start_time": "2021-07-07T17:18:53.401Z"
   },
   {
    "duration": 5,
    "start_time": "2021-07-07T17:18:53.408Z"
   },
   {
    "duration": 11,
    "start_time": "2021-07-07T17:18:53.414Z"
   },
   {
    "duration": 9,
    "start_time": "2021-07-07T17:18:53.427Z"
   },
   {
    "duration": 10,
    "start_time": "2021-07-07T17:18:53.437Z"
   },
   {
    "duration": 39,
    "start_time": "2021-07-07T17:18:53.448Z"
   },
   {
    "duration": 26,
    "start_time": "2021-07-07T17:18:55.799Z"
   },
   {
    "duration": 598,
    "start_time": "2021-07-07T17:20:17.862Z"
   },
   {
    "duration": 161,
    "start_time": "2021-07-07T17:20:18.462Z"
   },
   {
    "duration": 45,
    "start_time": "2021-07-07T17:20:18.626Z"
   },
   {
    "duration": 4,
    "start_time": "2021-07-07T17:20:18.673Z"
   },
   {
    "duration": 38,
    "start_time": "2021-07-07T17:20:26.877Z"
   },
   {
    "duration": 7,
    "start_time": "2021-07-07T17:20:37.405Z"
   },
   {
    "duration": 19,
    "start_time": "2021-07-07T17:20:51.534Z"
   },
   {
    "duration": 5,
    "start_time": "2021-07-07T17:20:57.228Z"
   },
   {
    "duration": 7,
    "start_time": "2021-07-07T17:21:08.235Z"
   },
   {
    "duration": 19,
    "start_time": "2021-07-07T17:21:42.158Z"
   },
   {
    "duration": 14,
    "start_time": "2021-07-07T17:21:50.225Z"
   },
   {
    "duration": 22,
    "start_time": "2021-07-07T17:22:54.104Z"
   },
   {
    "duration": 5,
    "start_time": "2021-07-07T17:22:56.371Z"
   },
   {
    "duration": 14,
    "start_time": "2021-07-07T17:22:58.316Z"
   },
   {
    "duration": 5,
    "start_time": "2021-07-07T17:22:58.493Z"
   },
   {
    "duration": 35,
    "start_time": "2021-07-07T17:22:59.666Z"
   },
   {
    "duration": 6,
    "start_time": "2021-07-07T17:23:02.410Z"
   },
   {
    "duration": 611,
    "start_time": "2021-07-07T17:24:59.664Z"
   },
   {
    "duration": 178,
    "start_time": "2021-07-07T17:25:01.945Z"
   },
   {
    "duration": 47,
    "start_time": "2021-07-07T17:25:02.125Z"
   },
   {
    "duration": 2,
    "start_time": "2021-07-07T17:25:07.903Z"
   },
   {
    "duration": 254,
    "start_time": "2021-07-07T17:25:08.232Z"
   },
   {
    "duration": 182,
    "start_time": "2021-07-07T17:25:08.671Z"
   },
   {
    "duration": 6,
    "start_time": "2021-07-07T17:25:13.104Z"
   },
   {
    "duration": 36,
    "start_time": "2021-07-07T17:25:13.662Z"
   },
   {
    "duration": 7,
    "start_time": "2021-07-07T17:25:14.528Z"
   },
   {
    "duration": 24,
    "start_time": "2021-07-07T17:25:27.982Z"
   },
   {
    "duration": 3,
    "start_time": "2021-07-07T17:25:48.982Z"
   },
   {
    "duration": 165,
    "start_time": "2021-07-07T17:25:48.987Z"
   },
   {
    "duration": 50,
    "start_time": "2021-07-07T17:25:49.154Z"
   },
   {
    "duration": 4,
    "start_time": "2021-07-07T17:25:49.206Z"
   },
   {
    "duration": 26,
    "start_time": "2021-07-07T17:25:49.212Z"
   },
   {
    "duration": 7,
    "start_time": "2021-07-07T17:25:49.240Z"
   },
   {
    "duration": 16,
    "start_time": "2021-07-07T17:25:49.249Z"
   },
   {
    "duration": 22,
    "start_time": "2021-07-07T17:25:49.266Z"
   },
   {
    "duration": 16,
    "start_time": "2021-07-07T17:25:49.291Z"
   },
   {
    "duration": 9,
    "start_time": "2021-07-07T17:25:49.309Z"
   },
   {
    "duration": 7,
    "start_time": "2021-07-07T17:25:49.319Z"
   },
   {
    "duration": 28,
    "start_time": "2021-07-07T17:25:49.328Z"
   },
   {
    "duration": 44,
    "start_time": "2021-07-07T17:25:49.357Z"
   },
   {
    "duration": 22,
    "start_time": "2021-07-07T17:25:49.403Z"
   },
   {
    "duration": 7,
    "start_time": "2021-07-07T17:25:49.427Z"
   },
   {
    "duration": 3,
    "start_time": "2021-07-07T17:25:49.436Z"
   },
   {
    "duration": 44,
    "start_time": "2021-07-07T17:25:49.441Z"
   },
   {
    "duration": 12,
    "start_time": "2021-07-07T17:25:49.488Z"
   },
   {
    "duration": 13,
    "start_time": "2021-07-07T17:25:49.502Z"
   },
   {
    "duration": 10,
    "start_time": "2021-07-07T17:25:49.516Z"
   },
   {
    "duration": 62,
    "start_time": "2021-07-07T17:25:49.527Z"
   },
   {
    "duration": 26,
    "start_time": "2021-07-07T17:26:51.809Z"
   },
   {
    "duration": 26,
    "start_time": "2021-07-07T17:26:55.759Z"
   },
   {
    "duration": 26,
    "start_time": "2021-07-07T17:27:04.501Z"
   },
   {
    "duration": 25,
    "start_time": "2021-07-07T17:28:24.859Z"
   },
   {
    "duration": 21,
    "start_time": "2021-07-07T17:28:55.250Z"
   },
   {
    "duration": 21,
    "start_time": "2021-07-07T17:28:58.885Z"
   },
   {
    "duration": 7,
    "start_time": "2021-07-07T17:45:40.972Z"
   },
   {
    "duration": 13,
    "start_time": "2021-07-07T17:45:42.529Z"
   },
   {
    "duration": 27,
    "start_time": "2021-07-07T17:45:51.026Z"
   },
   {
    "duration": 518,
    "start_time": "2021-07-07T17:46:15.532Z"
   },
   {
    "duration": 235,
    "start_time": "2021-07-07T17:46:16.053Z"
   },
   {
    "duration": 80,
    "start_time": "2021-07-07T17:46:16.292Z"
   },
   {
    "duration": 5,
    "start_time": "2021-07-07T17:46:16.373Z"
   },
   {
    "duration": 26,
    "start_time": "2021-07-07T17:46:16.380Z"
   },
   {
    "duration": 7,
    "start_time": "2021-07-07T17:46:16.408Z"
   },
   {
    "duration": 16,
    "start_time": "2021-07-07T17:46:16.418Z"
   },
   {
    "duration": 5,
    "start_time": "2021-07-07T17:46:16.436Z"
   },
   {
    "duration": 13,
    "start_time": "2021-07-07T17:46:16.442Z"
   },
   {
    "duration": 35,
    "start_time": "2021-07-07T17:46:16.456Z"
   },
   {
    "duration": 8,
    "start_time": "2021-07-07T17:46:16.493Z"
   },
   {
    "duration": 28,
    "start_time": "2021-07-07T17:46:16.502Z"
   },
   {
    "duration": 17,
    "start_time": "2021-07-07T17:46:16.532Z"
   },
   {
    "duration": 44,
    "start_time": "2021-07-07T17:46:16.551Z"
   },
   {
    "duration": 6,
    "start_time": "2021-07-07T17:46:16.597Z"
   },
   {
    "duration": 4,
    "start_time": "2021-07-07T17:46:16.605Z"
   },
   {
    "duration": 9,
    "start_time": "2021-07-07T17:46:16.610Z"
   },
   {
    "duration": 9,
    "start_time": "2021-07-07T17:46:16.621Z"
   },
   {
    "duration": 10,
    "start_time": "2021-07-07T17:46:16.632Z"
   },
   {
    "duration": 43,
    "start_time": "2021-07-07T17:46:16.644Z"
   },
   {
    "duration": 26,
    "start_time": "2021-07-07T17:46:16.689Z"
   },
   {
    "duration": 19,
    "start_time": "2021-07-07T17:46:16.718Z"
   },
   {
    "duration": 8,
    "start_time": "2021-07-07T17:46:16.738Z"
   },
   {
    "duration": 43,
    "start_time": "2021-07-07T17:46:16.747Z"
   },
   {
    "duration": 19,
    "start_time": "2021-07-07T17:46:16.791Z"
   },
   {
    "duration": 9,
    "start_time": "2021-07-07T17:46:16.812Z"
   },
   {
    "duration": 60,
    "start_time": "2021-07-07T17:46:16.822Z"
   },
   {
    "duration": -8,
    "start_time": "2021-07-07T17:46:16.892Z"
   },
   {
    "duration": 12,
    "start_time": "2021-07-07T17:48:47.707Z"
   },
   {
    "duration": 553,
    "start_time": "2021-07-07T18:10:09.350Z"
   },
   {
    "duration": 230,
    "start_time": "2021-07-07T18:10:09.905Z"
   },
   {
    "duration": 97,
    "start_time": "2021-07-07T18:10:10.137Z"
   },
   {
    "duration": 5,
    "start_time": "2021-07-07T18:10:10.236Z"
   },
   {
    "duration": 29,
    "start_time": "2021-07-07T18:10:10.242Z"
   },
   {
    "duration": 7,
    "start_time": "2021-07-07T18:10:10.272Z"
   },
   {
    "duration": 15,
    "start_time": "2021-07-07T18:10:10.281Z"
   },
   {
    "duration": 4,
    "start_time": "2021-07-07T18:10:10.299Z"
   },
   {
    "duration": 14,
    "start_time": "2021-07-07T18:10:10.305Z"
   },
   {
    "duration": 8,
    "start_time": "2021-07-07T18:10:10.321Z"
   },
   {
    "duration": 8,
    "start_time": "2021-07-07T18:10:10.331Z"
   },
   {
    "duration": 56,
    "start_time": "2021-07-07T18:10:10.341Z"
   },
   {
    "duration": 19,
    "start_time": "2021-07-07T18:10:10.399Z"
   },
   {
    "duration": 23,
    "start_time": "2021-07-07T18:10:10.419Z"
   },
   {
    "duration": 6,
    "start_time": "2021-07-07T18:10:10.444Z"
   },
   {
    "duration": 9,
    "start_time": "2021-07-07T18:10:10.451Z"
   },
   {
    "duration": 30,
    "start_time": "2021-07-07T18:10:10.462Z"
   },
   {
    "duration": 9,
    "start_time": "2021-07-07T18:10:10.494Z"
   },
   {
    "duration": 14,
    "start_time": "2021-07-07T18:10:10.505Z"
   },
   {
    "duration": 7,
    "start_time": "2021-07-07T18:10:10.521Z"
   },
   {
    "duration": 26,
    "start_time": "2021-07-07T18:10:10.530Z"
   },
   {
    "duration": 44,
    "start_time": "2021-07-07T18:10:10.558Z"
   },
   {
    "duration": 7,
    "start_time": "2021-07-07T18:10:10.605Z"
   },
   {
    "duration": 11,
    "start_time": "2021-07-07T18:10:10.614Z"
   },
   {
    "duration": 19,
    "start_time": "2021-07-07T18:10:10.626Z"
   },
   {
    "duration": 44,
    "start_time": "2021-07-07T18:10:10.646Z"
   },
   {
    "duration": 516,
    "start_time": "2021-07-07T18:14:00.826Z"
   },
   {
    "duration": 230,
    "start_time": "2021-07-07T18:14:01.344Z"
   },
   {
    "duration": 105,
    "start_time": "2021-07-07T18:14:01.576Z"
   },
   {
    "duration": 5,
    "start_time": "2021-07-07T18:14:01.683Z"
   },
   {
    "duration": 46,
    "start_time": "2021-07-07T18:14:01.690Z"
   },
   {
    "duration": 7,
    "start_time": "2021-07-07T18:14:01.738Z"
   },
   {
    "duration": 20,
    "start_time": "2021-07-07T18:14:01.747Z"
   },
   {
    "duration": 16,
    "start_time": "2021-07-07T18:14:01.769Z"
   },
   {
    "duration": 14,
    "start_time": "2021-07-07T18:14:01.787Z"
   },
   {
    "duration": 15,
    "start_time": "2021-07-07T18:14:01.803Z"
   },
   {
    "duration": 12,
    "start_time": "2021-07-07T18:14:01.820Z"
   },
   {
    "duration": 35,
    "start_time": "2021-07-07T18:14:01.833Z"
   },
   {
    "duration": 31,
    "start_time": "2021-07-07T18:14:01.869Z"
   },
   {
    "duration": 37,
    "start_time": "2021-07-07T18:14:01.902Z"
   },
   {
    "duration": 8,
    "start_time": "2021-07-07T18:14:01.942Z"
   },
   {
    "duration": 16,
    "start_time": "2021-07-07T18:14:01.952Z"
   },
   {
    "duration": 13,
    "start_time": "2021-07-07T18:14:01.970Z"
   },
   {
    "duration": 32,
    "start_time": "2021-07-07T18:14:01.985Z"
   },
   {
    "duration": 11,
    "start_time": "2021-07-07T18:14:02.019Z"
   },
   {
    "duration": 22,
    "start_time": "2021-07-07T18:14:02.031Z"
   },
   {
    "duration": 27,
    "start_time": "2021-07-07T18:14:02.055Z"
   },
   {
    "duration": 18,
    "start_time": "2021-07-07T18:14:02.084Z"
   },
   {
    "duration": 18,
    "start_time": "2021-07-07T18:14:02.106Z"
   },
   {
    "duration": 11,
    "start_time": "2021-07-07T18:14:02.126Z"
   },
   {
    "duration": 21,
    "start_time": "2021-07-07T18:14:02.138Z"
   },
   {
    "duration": 32,
    "start_time": "2021-07-07T18:14:02.161Z"
   },
   {
    "duration": 28,
    "start_time": "2021-07-07T18:14:44.295Z"
   },
   {
    "duration": 6,
    "start_time": "2021-07-07T18:15:05.834Z"
   },
   {
    "duration": 511,
    "start_time": "2021-07-07T18:15:41.541Z"
   },
   {
    "duration": 183,
    "start_time": "2021-07-07T18:15:42.054Z"
   },
   {
    "duration": 50,
    "start_time": "2021-07-07T18:15:42.239Z"
   },
   {
    "duration": 5,
    "start_time": "2021-07-07T18:15:42.291Z"
   },
   {
    "duration": 48,
    "start_time": "2021-07-07T18:15:42.297Z"
   },
   {
    "duration": 8,
    "start_time": "2021-07-07T18:15:42.346Z"
   },
   {
    "duration": 17,
    "start_time": "2021-07-07T18:15:42.356Z"
   },
   {
    "duration": 15,
    "start_time": "2021-07-07T18:15:42.375Z"
   },
   {
    "duration": 12,
    "start_time": "2021-07-07T18:15:42.392Z"
   },
   {
    "duration": 7,
    "start_time": "2021-07-07T18:15:42.406Z"
   },
   {
    "duration": 7,
    "start_time": "2021-07-07T18:15:42.415Z"
   },
   {
    "duration": 29,
    "start_time": "2021-07-07T18:15:42.423Z"
   },
   {
    "duration": 43,
    "start_time": "2021-07-07T18:15:42.453Z"
   },
   {
    "duration": 18,
    "start_time": "2021-07-07T18:15:42.497Z"
   },
   {
    "duration": 6,
    "start_time": "2021-07-07T18:15:42.516Z"
   },
   {
    "duration": 3,
    "start_time": "2021-07-07T18:15:42.523Z"
   },
   {
    "duration": 18,
    "start_time": "2021-07-07T18:15:42.528Z"
   },
   {
    "duration": 10,
    "start_time": "2021-07-07T18:15:42.547Z"
   },
   {
    "duration": 36,
    "start_time": "2021-07-07T18:15:42.559Z"
   },
   {
    "duration": 8,
    "start_time": "2021-07-07T18:15:42.597Z"
   },
   {
    "duration": 28,
    "start_time": "2021-07-07T18:15:42.606Z"
   },
   {
    "duration": 52,
    "start_time": "2021-07-07T18:15:42.635Z"
   },
   {
    "duration": 7,
    "start_time": "2021-07-07T18:15:42.690Z"
   },
   {
    "duration": 10,
    "start_time": "2021-07-07T18:15:42.699Z"
   },
   {
    "duration": 19,
    "start_time": "2021-07-07T18:15:42.711Z"
   },
   {
    "duration": 9,
    "start_time": "2021-07-07T18:15:42.732Z"
   },
   {
    "duration": 5,
    "start_time": "2021-07-07T18:15:42.743Z"
   },
   {
    "duration": 1450,
    "start_time": "2021-07-07T18:15:51.984Z"
   },
   {
    "duration": 161,
    "start_time": "2021-07-07T18:15:53.435Z"
   },
   {
    "duration": 124,
    "start_time": "2021-07-07T18:15:53.598Z"
   },
   {
    "duration": 5,
    "start_time": "2021-07-07T18:15:53.724Z"
   },
   {
    "duration": 34,
    "start_time": "2021-07-07T18:15:53.730Z"
   },
   {
    "duration": 7,
    "start_time": "2021-07-07T18:15:53.765Z"
   },
   {
    "duration": 15,
    "start_time": "2021-07-07T18:15:53.773Z"
   },
   {
    "duration": 5,
    "start_time": "2021-07-07T18:15:53.791Z"
   },
   {
    "duration": 19,
    "start_time": "2021-07-07T18:15:53.798Z"
   },
   {
    "duration": 9,
    "start_time": "2021-07-07T18:15:53.818Z"
   },
   {
    "duration": 19,
    "start_time": "2021-07-07T18:15:53.828Z"
   },
   {
    "duration": 27,
    "start_time": "2021-07-07T18:15:53.848Z"
   },
   {
    "duration": 16,
    "start_time": "2021-07-07T18:15:53.884Z"
   },
   {
    "duration": 29,
    "start_time": "2021-07-07T18:15:53.901Z"
   },
   {
    "duration": 5,
    "start_time": "2021-07-07T18:15:53.932Z"
   },
   {
    "duration": 15,
    "start_time": "2021-07-07T18:15:53.939Z"
   },
   {
    "duration": 13,
    "start_time": "2021-07-07T18:15:53.956Z"
   },
   {
    "duration": 20,
    "start_time": "2021-07-07T18:15:53.971Z"
   },
   {
    "duration": 14,
    "start_time": "2021-07-07T18:15:53.992Z"
   },
   {
    "duration": 9,
    "start_time": "2021-07-07T18:15:54.009Z"
   },
   {
    "duration": 28,
    "start_time": "2021-07-07T18:15:54.020Z"
   },
   {
    "duration": 50,
    "start_time": "2021-07-07T18:15:54.051Z"
   },
   {
    "duration": 8,
    "start_time": "2021-07-07T18:15:54.105Z"
   },
   {
    "duration": 11,
    "start_time": "2021-07-07T18:15:54.115Z"
   },
   {
    "duration": 20,
    "start_time": "2021-07-07T18:15:54.128Z"
   },
   {
    "duration": 13,
    "start_time": "2021-07-07T18:15:54.184Z"
   },
   {
    "duration": 7,
    "start_time": "2021-07-07T18:15:54.199Z"
   },
   {
    "duration": 7,
    "start_time": "2021-07-07T18:17:08.042Z"
   },
   {
    "duration": 8,
    "start_time": "2021-07-07T18:17:21.008Z"
   },
   {
    "duration": 7,
    "start_time": "2021-07-07T18:17:29.003Z"
   },
   {
    "duration": 8,
    "start_time": "2021-07-07T18:17:32.492Z"
   },
   {
    "duration": 9,
    "start_time": "2021-07-07T18:17:41.758Z"
   },
   {
    "duration": 255,
    "start_time": "2021-07-07T18:20:20.897Z"
   },
   {
    "duration": 173,
    "start_time": "2021-07-07T18:20:26.636Z"
   },
   {
    "duration": 7,
    "start_time": "2021-07-07T18:21:47.164Z"
   },
   {
    "duration": 254,
    "start_time": "2021-07-07T18:23:08.703Z"
   },
   {
    "duration": 21,
    "start_time": "2021-07-07T18:23:22.506Z"
   },
   {
    "duration": 315,
    "start_time": "2021-07-07T18:25:54.801Z"
   },
   {
    "duration": 34,
    "start_time": "2021-07-07T18:26:51.817Z"
   },
   {
    "duration": 327,
    "start_time": "2021-07-07T18:26:56.147Z"
   },
   {
    "duration": 342,
    "start_time": "2021-07-07T18:27:15.887Z"
   },
   {
    "duration": 302,
    "start_time": "2021-07-07T18:28:18.569Z"
   },
   {
    "duration": 226,
    "start_time": "2021-07-07T18:29:20.879Z"
   },
   {
    "duration": 207,
    "start_time": "2021-07-07T18:29:58.114Z"
   },
   {
    "duration": 140,
    "start_time": "2021-07-07T18:32:04.372Z"
   },
   {
    "duration": 158,
    "start_time": "2021-07-07T18:32:32.508Z"
   },
   {
    "duration": 145,
    "start_time": "2021-07-07T18:32:41.365Z"
   },
   {
    "duration": 132,
    "start_time": "2021-07-07T18:32:45.199Z"
   },
   {
    "duration": 11,
    "start_time": "2021-07-07T18:35:24.679Z"
   },
   {
    "duration": 268,
    "start_time": "2021-07-07T18:36:16.145Z"
   },
   {
    "duration": 227,
    "start_time": "2021-07-07T18:37:04.918Z"
   },
   {
    "duration": 3,
    "start_time": "2021-07-07T18:37:33.012Z"
   },
   {
    "duration": 671,
    "start_time": "2021-07-07T18:37:38.295Z"
   },
   {
    "duration": 54,
    "start_time": "2021-07-07T18:37:53.406Z"
   },
   {
    "duration": 631,
    "start_time": "2021-07-07T18:37:56.463Z"
   },
   {
    "duration": 19,
    "start_time": "2021-07-07T18:39:40.535Z"
   },
   {
    "duration": 20,
    "start_time": "2021-07-07T18:40:12.236Z"
   },
   {
    "duration": 633,
    "start_time": "2021-07-07T18:42:00.398Z"
   },
   {
    "duration": 218,
    "start_time": "2021-07-07T18:42:01.033Z"
   },
   {
    "duration": 49,
    "start_time": "2021-07-07T18:42:01.253Z"
   },
   {
    "duration": 5,
    "start_time": "2021-07-07T18:42:01.303Z"
   },
   {
    "duration": 27,
    "start_time": "2021-07-07T18:42:01.310Z"
   },
   {
    "duration": 8,
    "start_time": "2021-07-07T18:42:01.339Z"
   },
   {
    "duration": 20,
    "start_time": "2021-07-07T18:42:01.348Z"
   },
   {
    "duration": 6,
    "start_time": "2021-07-07T18:42:01.386Z"
   },
   {
    "duration": 16,
    "start_time": "2021-07-07T18:42:01.394Z"
   },
   {
    "duration": 9,
    "start_time": "2021-07-07T18:42:01.411Z"
   },
   {
    "duration": 11,
    "start_time": "2021-07-07T18:42:01.421Z"
   },
   {
    "duration": 31,
    "start_time": "2021-07-07T18:42:01.434Z"
   },
   {
    "duration": 18,
    "start_time": "2021-07-07T18:42:01.485Z"
   },
   {
    "duration": 23,
    "start_time": "2021-07-07T18:42:01.505Z"
   },
   {
    "duration": 6,
    "start_time": "2021-07-07T18:42:01.530Z"
   },
   {
    "duration": 10,
    "start_time": "2021-07-07T18:42:01.538Z"
   },
   {
    "duration": 13,
    "start_time": "2021-07-07T18:42:01.550Z"
   },
   {
    "duration": 24,
    "start_time": "2021-07-07T18:42:01.564Z"
   },
   {
    "duration": 20,
    "start_time": "2021-07-07T18:42:01.590Z"
   },
   {
    "duration": 8,
    "start_time": "2021-07-07T18:42:01.611Z"
   },
   {
    "duration": 31,
    "start_time": "2021-07-07T18:42:01.620Z"
   },
   {
    "duration": 39,
    "start_time": "2021-07-07T18:42:01.653Z"
   },
   {
    "duration": 8,
    "start_time": "2021-07-07T18:42:01.696Z"
   },
   {
    "duration": 13,
    "start_time": "2021-07-07T18:42:01.705Z"
   },
   {
    "duration": 20,
    "start_time": "2021-07-07T18:42:01.720Z"
   },
   {
    "duration": 12,
    "start_time": "2021-07-07T18:42:01.741Z"
   },
   {
    "duration": 35,
    "start_time": "2021-07-07T18:42:01.755Z"
   },
   {
    "duration": 14,
    "start_time": "2021-07-07T18:42:01.792Z"
   },
   {
    "duration": 188,
    "start_time": "2021-07-07T18:42:01.808Z"
   },
   {
    "duration": 19,
    "start_time": "2021-07-07T18:42:01.998Z"
   },
   {
    "duration": 175,
    "start_time": "2021-07-07T18:42:02.019Z"
   },
   {
    "duration": 134,
    "start_time": "2021-07-07T18:42:02.196Z"
   },
   {
    "duration": 10,
    "start_time": "2021-07-07T18:42:02.331Z"
   },
   {
    "duration": 19,
    "start_time": "2021-07-07T18:42:02.343Z"
   },
   {
    "duration": 628,
    "start_time": "2021-07-07T18:46:30.701Z"
   },
   {
    "duration": 183,
    "start_time": "2021-07-07T18:46:31.331Z"
   },
   {
    "duration": 48,
    "start_time": "2021-07-07T18:46:31.516Z"
   },
   {
    "duration": 5,
    "start_time": "2021-07-07T18:46:31.566Z"
   },
   {
    "duration": 28,
    "start_time": "2021-07-07T18:46:31.572Z"
   },
   {
    "duration": 8,
    "start_time": "2021-07-07T18:46:31.602Z"
   },
   {
    "duration": 19,
    "start_time": "2021-07-07T18:46:31.611Z"
   },
   {
    "duration": 6,
    "start_time": "2021-07-07T18:46:31.633Z"
   },
   {
    "duration": 17,
    "start_time": "2021-07-07T18:46:31.642Z"
   },
   {
    "duration": 10,
    "start_time": "2021-07-07T18:46:31.684Z"
   },
   {
    "duration": 9,
    "start_time": "2021-07-07T18:46:31.695Z"
   },
   {
    "duration": 28,
    "start_time": "2021-07-07T18:46:31.705Z"
   },
   {
    "duration": 18,
    "start_time": "2021-07-07T18:46:31.735Z"
   },
   {
    "duration": 48,
    "start_time": "2021-07-07T18:46:31.755Z"
   },
   {
    "duration": 6,
    "start_time": "2021-07-07T18:46:31.804Z"
   },
   {
    "duration": 4,
    "start_time": "2021-07-07T18:46:31.812Z"
   },
   {
    "duration": 9,
    "start_time": "2021-07-07T18:46:31.817Z"
   },
   {
    "duration": 10,
    "start_time": "2021-07-07T18:46:31.827Z"
   },
   {
    "duration": 12,
    "start_time": "2021-07-07T18:46:31.838Z"
   },
   {
    "duration": 39,
    "start_time": "2021-07-07T18:46:31.851Z"
   },
   {
    "duration": 24,
    "start_time": "2021-07-07T18:46:31.892Z"
   },
   {
    "duration": 15,
    "start_time": "2021-07-07T18:46:31.918Z"
   },
   {
    "duration": 7,
    "start_time": "2021-07-07T18:46:31.936Z"
   },
   {
    "duration": 8,
    "start_time": "2021-07-07T18:46:31.944Z"
   },
   {
    "duration": 19,
    "start_time": "2021-07-07T18:46:31.984Z"
   },
   {
    "duration": 10,
    "start_time": "2021-07-07T18:46:32.004Z"
   },
   {
    "duration": 5,
    "start_time": "2021-07-07T18:46:32.016Z"
   },
   {
    "duration": 9,
    "start_time": "2021-07-07T18:46:32.023Z"
   },
   {
    "duration": 199,
    "start_time": "2021-07-07T18:46:32.033Z"
   },
   {
    "duration": 19,
    "start_time": "2021-07-07T18:46:32.234Z"
   },
   {
    "duration": 159,
    "start_time": "2021-07-07T18:46:32.255Z"
   },
   {
    "duration": 134,
    "start_time": "2021-07-07T18:46:32.416Z"
   },
   {
    "duration": 10,
    "start_time": "2021-07-07T18:46:32.552Z"
   },
   {
    "duration": 34,
    "start_time": "2021-07-07T18:46:32.563Z"
   },
   {
    "duration": 1039,
    "start_time": "2021-07-08T08:41:09.419Z"
   },
   {
    "duration": 333,
    "start_time": "2021-07-08T08:41:10.459Z"
   },
   {
    "duration": 173,
    "start_time": "2021-07-08T08:41:10.794Z"
   },
   {
    "duration": 5,
    "start_time": "2021-07-08T08:41:10.968Z"
   },
   {
    "duration": 25,
    "start_time": "2021-07-08T08:41:10.975Z"
   },
   {
    "duration": 9,
    "start_time": "2021-07-08T08:41:11.002Z"
   },
   {
    "duration": 18,
    "start_time": "2021-07-08T08:41:11.013Z"
   },
   {
    "duration": 6,
    "start_time": "2021-07-08T08:41:11.033Z"
   },
   {
    "duration": 44,
    "start_time": "2021-07-08T08:41:11.042Z"
   },
   {
    "duration": 10,
    "start_time": "2021-07-08T08:41:11.088Z"
   },
   {
    "duration": 9,
    "start_time": "2021-07-08T08:41:11.100Z"
   },
   {
    "duration": 27,
    "start_time": "2021-07-08T08:41:11.111Z"
   },
   {
    "duration": 46,
    "start_time": "2021-07-08T08:41:11.140Z"
   },
   {
    "duration": 17,
    "start_time": "2021-07-08T08:41:11.187Z"
   },
   {
    "duration": 6,
    "start_time": "2021-07-08T08:41:11.206Z"
   },
   {
    "duration": 5,
    "start_time": "2021-07-08T08:41:11.213Z"
   },
   {
    "duration": 10,
    "start_time": "2021-07-08T08:41:11.219Z"
   },
   {
    "duration": 9,
    "start_time": "2021-07-08T08:41:11.230Z"
   },
   {
    "duration": 45,
    "start_time": "2021-07-08T08:41:11.241Z"
   },
   {
    "duration": 7,
    "start_time": "2021-07-08T08:41:11.287Z"
   },
   {
    "duration": 24,
    "start_time": "2021-07-08T08:41:11.296Z"
   },
   {
    "duration": 16,
    "start_time": "2021-07-08T08:41:11.322Z"
   },
   {
    "duration": 7,
    "start_time": "2021-07-08T08:41:11.341Z"
   },
   {
    "duration": 41,
    "start_time": "2021-07-08T08:41:11.349Z"
   },
   {
    "duration": 17,
    "start_time": "2021-07-08T08:41:11.391Z"
   },
   {
    "duration": 9,
    "start_time": "2021-07-08T08:41:11.410Z"
   },
   {
    "duration": 5,
    "start_time": "2021-07-08T08:41:11.421Z"
   },
   {
    "duration": 6,
    "start_time": "2021-07-08T08:41:11.428Z"
   },
   {
    "duration": 198,
    "start_time": "2021-07-08T08:41:11.435Z"
   },
   {
    "duration": 18,
    "start_time": "2021-07-08T08:41:11.635Z"
   },
   {
    "duration": 155,
    "start_time": "2021-07-08T08:41:11.655Z"
   },
   {
    "duration": 138,
    "start_time": "2021-07-08T08:41:11.811Z"
   },
   {
    "duration": 10,
    "start_time": "2021-07-08T08:41:11.950Z"
   },
   {
    "duration": 29,
    "start_time": "2021-07-08T08:41:11.961Z"
   },
   {
    "duration": 171,
    "start_time": "2021-07-08T08:47:44.522Z"
   },
   {
    "duration": 124,
    "start_time": "2021-07-08T08:47:46.872Z"
   },
   {
    "duration": 191,
    "start_time": "2021-07-08T08:47:58.148Z"
   },
   {
    "duration": 191,
    "start_time": "2021-07-08T08:48:07.412Z"
   },
   {
    "duration": 261,
    "start_time": "2021-07-08T08:48:10.385Z"
   },
   {
    "duration": 255,
    "start_time": "2021-07-08T08:48:14.494Z"
   },
   {
    "duration": 219,
    "start_time": "2021-07-08T08:48:22.752Z"
   },
   {
    "duration": 173,
    "start_time": "2021-07-08T08:49:06.395Z"
   },
   {
    "duration": 180,
    "start_time": "2021-07-08T08:49:21.011Z"
   },
   {
    "duration": 6,
    "start_time": "2021-07-08T08:50:31.697Z"
   },
   {
    "duration": 10,
    "start_time": "2021-07-08T08:50:47.394Z"
   },
   {
    "duration": 11,
    "start_time": "2021-07-08T08:53:49.332Z"
   },
   {
    "duration": 171,
    "start_time": "2021-07-08T08:54:28.408Z"
   },
   {
    "duration": 636,
    "start_time": "2021-07-08T09:02:48.385Z"
   },
   {
    "duration": 227,
    "start_time": "2021-07-08T09:02:49.023Z"
   },
   {
    "duration": 104,
    "start_time": "2021-07-08T09:02:49.252Z"
   },
   {
    "duration": 5,
    "start_time": "2021-07-08T09:02:49.358Z"
   },
   {
    "duration": 27,
    "start_time": "2021-07-08T09:02:49.365Z"
   },
   {
    "duration": 8,
    "start_time": "2021-07-08T09:02:49.394Z"
   },
   {
    "duration": 18,
    "start_time": "2021-07-08T09:02:49.404Z"
   },
   {
    "duration": 6,
    "start_time": "2021-07-08T09:02:49.424Z"
   },
   {
    "duration": 11,
    "start_time": "2021-07-08T09:02:49.433Z"
   },
   {
    "duration": 13,
    "start_time": "2021-07-08T09:02:49.485Z"
   },
   {
    "duration": 9,
    "start_time": "2021-07-08T09:02:49.500Z"
   },
   {
    "duration": 38,
    "start_time": "2021-07-08T09:02:49.511Z"
   },
   {
    "duration": 42,
    "start_time": "2021-07-08T09:02:49.551Z"
   },
   {
    "duration": 21,
    "start_time": "2021-07-08T09:02:49.594Z"
   },
   {
    "duration": 6,
    "start_time": "2021-07-08T09:02:49.616Z"
   },
   {
    "duration": 3,
    "start_time": "2021-07-08T09:02:49.623Z"
   },
   {
    "duration": 9,
    "start_time": "2021-07-08T09:02:49.628Z"
   },
   {
    "duration": 52,
    "start_time": "2021-07-08T09:02:49.638Z"
   },
   {
    "duration": 11,
    "start_time": "2021-07-08T09:02:49.692Z"
   },
   {
    "duration": 8,
    "start_time": "2021-07-08T09:02:49.704Z"
   },
   {
    "duration": 27,
    "start_time": "2021-07-08T09:02:49.713Z"
   },
   {
    "duration": 59,
    "start_time": "2021-07-08T09:02:49.741Z"
   },
   {
    "duration": 8,
    "start_time": "2021-07-08T09:02:49.803Z"
   },
   {
    "duration": 14,
    "start_time": "2021-07-08T09:02:49.813Z"
   },
   {
    "duration": 20,
    "start_time": "2021-07-08T09:02:49.829Z"
   },
   {
    "duration": 44,
    "start_time": "2021-07-08T09:02:49.851Z"
   },
   {
    "duration": 14,
    "start_time": "2021-07-08T09:02:49.896Z"
   },
   {
    "duration": 221,
    "start_time": "2021-07-08T09:02:49.912Z"
   },
   {
    "duration": 6,
    "start_time": "2021-07-08T09:02:50.134Z"
   },
   {
    "duration": 206,
    "start_time": "2021-07-08T09:02:50.142Z"
   },
   {
    "duration": 19,
    "start_time": "2021-07-08T09:02:50.350Z"
   },
   {
    "duration": 21,
    "start_time": "2021-07-08T09:02:50.370Z"
   },
   {
    "duration": 20,
    "start_time": "2021-07-08T09:02:50.393Z"
   },
   {
    "duration": 5,
    "start_time": "2021-07-08T09:02:50.414Z"
   },
   {
    "duration": 5,
    "start_time": "2021-07-08T09:03:34.173Z"
   },
   {
    "duration": 6,
    "start_time": "2021-07-08T09:04:49.062Z"
   },
   {
    "duration": 9,
    "start_time": "2021-07-08T09:04:50.118Z"
   },
   {
    "duration": 14,
    "start_time": "2021-07-08T09:04:58.512Z"
   },
   {
    "duration": 9,
    "start_time": "2021-07-08T09:05:10.988Z"
   },
   {
    "duration": 11,
    "start_time": "2021-07-08T09:05:11.743Z"
   },
   {
    "duration": 7,
    "start_time": "2021-07-08T09:05:25.677Z"
   },
   {
    "duration": 13,
    "start_time": "2021-07-08T09:05:47.189Z"
   },
   {
    "duration": 13,
    "start_time": "2021-07-08T09:05:54.755Z"
   },
   {
    "duration": 4,
    "start_time": "2021-07-08T09:06:29.189Z"
   },
   {
    "duration": 244,
    "start_time": "2021-07-08T09:06:29.195Z"
   },
   {
    "duration": 91,
    "start_time": "2021-07-08T09:06:29.441Z"
   },
   {
    "duration": 4,
    "start_time": "2021-07-08T09:06:29.534Z"
   },
   {
    "duration": 28,
    "start_time": "2021-07-08T09:06:29.540Z"
   },
   {
    "duration": 6,
    "start_time": "2021-07-08T09:06:29.570Z"
   },
   {
    "duration": 18,
    "start_time": "2021-07-08T09:06:29.578Z"
   },
   {
    "duration": 5,
    "start_time": "2021-07-08T09:06:29.597Z"
   },
   {
    "duration": 13,
    "start_time": "2021-07-08T09:06:29.605Z"
   },
   {
    "duration": 8,
    "start_time": "2021-07-08T09:06:29.620Z"
   },
   {
    "duration": 7,
    "start_time": "2021-07-08T09:06:29.630Z"
   },
   {
    "duration": 63,
    "start_time": "2021-07-08T09:06:29.639Z"
   },
   {
    "duration": 17,
    "start_time": "2021-07-08T09:06:29.704Z"
   },
   {
    "duration": 20,
    "start_time": "2021-07-08T09:06:29.723Z"
   },
   {
    "duration": 6,
    "start_time": "2021-07-08T09:06:29.745Z"
   },
   {
    "duration": 3,
    "start_time": "2021-07-08T09:06:29.752Z"
   },
   {
    "duration": 7,
    "start_time": "2021-07-08T09:06:29.785Z"
   },
   {
    "duration": 11,
    "start_time": "2021-07-08T09:06:29.794Z"
   },
   {
    "duration": 15,
    "start_time": "2021-07-08T09:06:29.807Z"
   },
   {
    "duration": 8,
    "start_time": "2021-07-08T09:06:29.823Z"
   },
   {
    "duration": 70,
    "start_time": "2021-07-08T09:06:29.832Z"
   },
   {
    "duration": 17,
    "start_time": "2021-07-08T09:06:29.903Z"
   },
   {
    "duration": 9,
    "start_time": "2021-07-08T09:06:29.921Z"
   },
   {
    "duration": 9,
    "start_time": "2021-07-08T09:06:29.932Z"
   },
   {
    "duration": 57,
    "start_time": "2021-07-08T09:06:29.942Z"
   },
   {
    "duration": 11,
    "start_time": "2021-07-08T09:06:30.001Z"
   },
   {
    "duration": 19,
    "start_time": "2021-07-08T09:06:30.016Z"
   },
   {
    "duration": 217,
    "start_time": "2021-07-08T09:06:30.037Z"
   },
   {
    "duration": 6,
    "start_time": "2021-07-08T09:06:30.255Z"
   },
   {
    "duration": 205,
    "start_time": "2021-07-08T09:06:30.263Z"
   },
   {
    "duration": 27,
    "start_time": "2021-07-08T09:06:30.470Z"
   },
   {
    "duration": 11,
    "start_time": "2021-07-08T09:06:30.500Z"
   },
   {
    "duration": 31,
    "start_time": "2021-07-08T09:06:30.513Z"
   },
   {
    "duration": 18,
    "start_time": "2021-07-08T09:06:30.546Z"
   },
   {
    "duration": 11,
    "start_time": "2021-07-08T09:06:30.566Z"
   },
   {
    "duration": 19,
    "start_time": "2021-07-08T09:06:30.579Z"
   },
   {
    "duration": 20,
    "start_time": "2021-07-08T09:06:49.466Z"
   },
   {
    "duration": 9,
    "start_time": "2021-07-08T09:06:51.994Z"
   },
   {
    "duration": 20,
    "start_time": "2021-07-08T09:06:52.273Z"
   },
   {
    "duration": 246,
    "start_time": "2021-07-08T09:10:21.272Z"
   },
   {
    "duration": 84,
    "start_time": "2021-07-08T09:10:21.436Z"
   },
   {
    "duration": 7,
    "start_time": "2021-07-08T09:10:37.608Z"
   },
   {
    "duration": 189,
    "start_time": "2021-07-08T09:10:38.573Z"
   },
   {
    "duration": 185,
    "start_time": "2021-07-08T09:10:53.181Z"
   },
   {
    "duration": 11,
    "start_time": "2021-07-08T09:10:59.549Z"
   },
   {
    "duration": 42,
    "start_time": "2021-07-08T09:10:59.709Z"
   },
   {
    "duration": 12,
    "start_time": "2021-07-08T09:11:02.857Z"
   },
   {
    "duration": 28,
    "start_time": "2021-07-08T09:11:10.062Z"
   },
   {
    "duration": 249,
    "start_time": "2021-07-08T09:11:37.388Z"
   },
   {
    "duration": 232,
    "start_time": "2021-07-08T09:11:49.485Z"
   },
   {
    "duration": 453,
    "start_time": "2021-07-08T09:12:01.546Z"
   },
   {
    "duration": 440,
    "start_time": "2021-07-08T09:12:12.347Z"
   },
   {
    "duration": 213,
    "start_time": "2021-07-08T09:13:32.196Z"
   },
   {
    "duration": 172,
    "start_time": "2021-07-08T09:14:07.400Z"
   },
   {
    "duration": 185,
    "start_time": "2021-07-08T09:14:14.905Z"
   },
   {
    "duration": 209,
    "start_time": "2021-07-08T09:14:40.109Z"
   },
   {
    "duration": 201,
    "start_time": "2021-07-08T09:14:54.506Z"
   },
   {
    "duration": 622,
    "start_time": "2021-07-08T09:18:14.497Z"
   },
   {
    "duration": 220,
    "start_time": "2021-07-08T09:18:15.121Z"
   },
   {
    "duration": 79,
    "start_time": "2021-07-08T09:18:15.343Z"
   },
   {
    "duration": 4,
    "start_time": "2021-07-08T09:18:15.425Z"
   },
   {
    "duration": 24,
    "start_time": "2021-07-08T09:18:15.431Z"
   },
   {
    "duration": 8,
    "start_time": "2021-07-08T09:18:15.457Z"
   },
   {
    "duration": 16,
    "start_time": "2021-07-08T09:18:15.466Z"
   },
   {
    "duration": 5,
    "start_time": "2021-07-08T09:18:15.484Z"
   },
   {
    "duration": 10,
    "start_time": "2021-07-08T09:18:15.493Z"
   },
   {
    "duration": 8,
    "start_time": "2021-07-08T09:18:15.504Z"
   },
   {
    "duration": 7,
    "start_time": "2021-07-08T09:18:15.513Z"
   },
   {
    "duration": 26,
    "start_time": "2021-07-08T09:18:15.522Z"
   },
   {
    "duration": 49,
    "start_time": "2021-07-08T09:18:15.550Z"
   },
   {
    "duration": 21,
    "start_time": "2021-07-08T09:18:15.601Z"
   },
   {
    "duration": 8,
    "start_time": "2021-07-08T09:18:15.624Z"
   },
   {
    "duration": 3,
    "start_time": "2021-07-08T09:18:15.634Z"
   },
   {
    "duration": 8,
    "start_time": "2021-07-08T09:18:15.639Z"
   },
   {
    "duration": 45,
    "start_time": "2021-07-08T09:18:15.649Z"
   },
   {
    "duration": 13,
    "start_time": "2021-07-08T09:18:15.696Z"
   },
   {
    "duration": 10,
    "start_time": "2021-07-08T09:18:15.711Z"
   },
   {
    "duration": 64,
    "start_time": "2021-07-08T09:18:15.722Z"
   },
   {
    "duration": 19,
    "start_time": "2021-07-08T09:18:15.788Z"
   },
   {
    "duration": 9,
    "start_time": "2021-07-08T09:18:15.809Z"
   },
   {
    "duration": 9,
    "start_time": "2021-07-08T09:18:15.820Z"
   },
   {
    "duration": 18,
    "start_time": "2021-07-08T09:18:15.831Z"
   },
   {
    "duration": 43,
    "start_time": "2021-07-08T09:18:15.851Z"
   },
   {
    "duration": 12,
    "start_time": "2021-07-08T09:18:15.897Z"
   },
   {
    "duration": 219,
    "start_time": "2021-07-08T09:18:15.911Z"
   },
   {
    "duration": 8,
    "start_time": "2021-07-08T09:18:16.132Z"
   },
   {
    "duration": 199,
    "start_time": "2021-07-08T09:18:16.141Z"
   },
   {
    "duration": 18,
    "start_time": "2021-07-08T09:18:16.341Z"
   },
   {
    "duration": 24,
    "start_time": "2021-07-08T09:18:16.361Z"
   },
   {
    "duration": 24,
    "start_time": "2021-07-08T09:18:16.387Z"
   },
   {
    "duration": 211,
    "start_time": "2021-07-08T09:18:16.413Z"
   },
   {
    "duration": 18,
    "start_time": "2021-07-08T09:18:16.626Z"
   },
   {
    "duration": 596,
    "start_time": "2021-07-08T10:06:33.623Z"
   },
   {
    "duration": 181,
    "start_time": "2021-07-08T10:06:34.221Z"
   },
   {
    "duration": 176,
    "start_time": "2021-07-08T10:06:34.635Z"
   },
   {
    "duration": 239,
    "start_time": "2021-07-08T10:06:55.572Z"
   },
   {
    "duration": 6,
    "start_time": "2021-07-08T10:06:57.687Z"
   },
   {
    "duration": 4,
    "start_time": "2021-07-08T10:07:03.956Z"
   },
   {
    "duration": 4,
    "start_time": "2021-07-08T10:07:10.376Z"
   },
   {
    "duration": 4,
    "start_time": "2021-07-08T10:17:19.889Z"
   },
   {
    "duration": 3,
    "start_time": "2021-07-08T10:19:19.407Z"
   },
   {
    "duration": 197,
    "start_time": "2021-07-08T10:19:19.412Z"
   },
   {
    "duration": 127,
    "start_time": "2021-07-08T10:19:19.611Z"
   },
   {
    "duration": 4,
    "start_time": "2021-07-08T10:19:19.740Z"
   },
   {
    "duration": 27,
    "start_time": "2021-07-08T10:19:19.746Z"
   },
   {
    "duration": 7,
    "start_time": "2021-07-08T10:19:19.775Z"
   },
   {
    "duration": 30,
    "start_time": "2021-07-08T10:19:19.784Z"
   },
   {
    "duration": 7,
    "start_time": "2021-07-08T10:19:19.817Z"
   },
   {
    "duration": 26,
    "start_time": "2021-07-08T10:19:19.826Z"
   },
   {
    "duration": 18,
    "start_time": "2021-07-08T10:19:19.854Z"
   },
   {
    "duration": 14,
    "start_time": "2021-07-08T10:19:19.874Z"
   },
   {
    "duration": 48,
    "start_time": "2021-07-08T10:19:19.890Z"
   },
   {
    "duration": 17,
    "start_time": "2021-07-08T10:19:19.940Z"
   },
   {
    "duration": 38,
    "start_time": "2021-07-08T10:19:19.959Z"
   },
   {
    "duration": 8,
    "start_time": "2021-07-08T10:19:19.999Z"
   },
   {
    "duration": 15,
    "start_time": "2021-07-08T10:19:20.009Z"
   },
   {
    "duration": 22,
    "start_time": "2021-07-08T10:19:20.026Z"
   },
   {
    "duration": 10,
    "start_time": "2021-07-08T10:19:20.050Z"
   },
   {
    "duration": 10,
    "start_time": "2021-07-08T10:19:20.062Z"
   },
   {
    "duration": 20,
    "start_time": "2021-07-08T10:19:20.073Z"
   },
   {
    "duration": 29,
    "start_time": "2021-07-08T10:19:20.095Z"
   },
   {
    "duration": 17,
    "start_time": "2021-07-08T10:19:20.126Z"
   },
   {
    "duration": 40,
    "start_time": "2021-07-08T10:19:20.146Z"
   },
   {
    "duration": 15,
    "start_time": "2021-07-08T10:19:20.189Z"
   },
   {
    "duration": 19,
    "start_time": "2021-07-08T10:19:20.206Z"
   },
   {
    "duration": 10,
    "start_time": "2021-07-08T10:19:20.226Z"
   },
   {
    "duration": 11,
    "start_time": "2021-07-08T10:19:20.238Z"
   },
   {
    "duration": 297,
    "start_time": "2021-07-08T10:19:20.250Z"
   },
   {
    "duration": 6,
    "start_time": "2021-07-08T10:19:20.549Z"
   },
   {
    "duration": 191,
    "start_time": "2021-07-08T10:19:20.557Z"
   },
   {
    "duration": 19,
    "start_time": "2021-07-08T10:19:20.750Z"
   },
   {
    "duration": 20,
    "start_time": "2021-07-08T10:19:20.771Z"
   },
   {
    "duration": 15,
    "start_time": "2021-07-08T10:19:20.793Z"
   },
   {
    "duration": 222,
    "start_time": "2021-07-08T10:19:20.809Z"
   },
   {
    "duration": 20,
    "start_time": "2021-07-08T10:19:21.033Z"
   },
   {
    "duration": 27,
    "start_time": "2021-07-08T10:45:04.055Z"
   },
   {
    "duration": 8,
    "start_time": "2021-07-08T10:45:08.478Z"
   },
   {
    "duration": 8,
    "start_time": "2021-07-08T10:45:31.982Z"
   },
   {
    "duration": 10,
    "start_time": "2021-07-08T10:46:01.221Z"
   },
   {
    "duration": 17,
    "start_time": "2021-07-08T10:46:40.011Z"
   },
   {
    "duration": 193,
    "start_time": "2021-07-08T10:48:19.471Z"
   },
   {
    "duration": 225,
    "start_time": "2021-07-08T10:49:26.480Z"
   },
   {
    "duration": 204,
    "start_time": "2021-07-08T10:49:59.992Z"
   },
   {
    "duration": 435,
    "start_time": "2021-07-08T10:50:06.779Z"
   },
   {
    "duration": 199,
    "start_time": "2021-07-08T10:50:14.891Z"
   },
   {
    "duration": 204,
    "start_time": "2021-07-08T10:50:18.501Z"
   },
   {
    "duration": 244,
    "start_time": "2021-07-08T10:50:23.359Z"
   },
   {
    "duration": 192,
    "start_time": "2021-07-08T10:50:29.135Z"
   },
   {
    "duration": 218,
    "start_time": "2021-07-08T10:50:33.092Z"
   },
   {
    "duration": 207,
    "start_time": "2021-07-08T10:52:45.381Z"
   },
   {
    "duration": 5,
    "start_time": "2021-07-08T10:53:34.641Z"
   },
   {
    "duration": 196,
    "start_time": "2021-07-08T10:53:41.478Z"
   },
   {
    "duration": 43,
    "start_time": "2021-07-08T10:53:50.335Z"
   },
   {
    "duration": 32,
    "start_time": "2021-07-08T10:53:55.294Z"
   },
   {
    "duration": 55,
    "start_time": "2021-07-08T10:54:09.675Z"
   },
   {
    "duration": 16,
    "start_time": "2021-07-08T10:54:12.260Z"
   },
   {
    "duration": 15,
    "start_time": "2021-07-08T10:54:49.150Z"
   },
   {
    "duration": 20,
    "start_time": "2021-07-08T10:56:07.596Z"
   },
   {
    "duration": 16,
    "start_time": "2021-07-08T10:58:26.276Z"
   },
   {
    "duration": 22,
    "start_time": "2021-07-08T10:59:00.486Z"
   },
   {
    "duration": 18,
    "start_time": "2021-07-08T11:02:09.653Z"
   },
   {
    "duration": 10,
    "start_time": "2021-07-08T11:03:44.331Z"
   },
   {
    "duration": 10,
    "start_time": "2021-07-08T11:03:54.055Z"
   },
   {
    "duration": 12,
    "start_time": "2021-07-08T11:04:41.967Z"
   },
   {
    "duration": 24,
    "start_time": "2021-07-08T11:07:30.732Z"
   },
   {
    "duration": 6,
    "start_time": "2021-07-08T11:07:37.364Z"
   },
   {
    "duration": 16,
    "start_time": "2021-07-08T11:08:01.819Z"
   },
   {
    "duration": 17,
    "start_time": "2021-07-08T11:09:47.488Z"
   },
   {
    "duration": 246,
    "start_time": "2021-07-08T11:10:00.830Z"
   },
   {
    "duration": 18,
    "start_time": "2021-07-08T11:13:55.195Z"
   },
   {
    "duration": 204,
    "start_time": "2021-07-08T11:14:04.951Z"
   },
   {
    "duration": 19,
    "start_time": "2021-07-08T11:15:10.613Z"
   },
   {
    "duration": 680,
    "start_time": "2021-07-08T11:16:25.793Z"
   },
   {
    "duration": 451,
    "start_time": "2021-07-08T11:16:40.313Z"
   },
   {
    "duration": 469,
    "start_time": "2021-07-08T11:17:21.286Z"
   },
   {
    "duration": 20,
    "start_time": "2021-07-08T11:19:12.554Z"
   },
   {
    "duration": 35,
    "start_time": "2021-07-08T11:20:05.484Z"
   },
   {
    "duration": 53,
    "start_time": "2021-07-08T11:21:40.050Z"
   },
   {
    "duration": 13,
    "start_time": "2021-07-08T11:22:26.059Z"
   },
   {
    "duration": 19,
    "start_time": "2021-07-08T11:22:47.419Z"
   },
   {
    "duration": 25,
    "start_time": "2021-07-08T11:23:19.958Z"
   },
   {
    "duration": 29,
    "start_time": "2021-07-08T11:23:25.415Z"
   },
   {
    "duration": 10,
    "start_time": "2021-07-08T11:24:45.138Z"
   },
   {
    "duration": 19,
    "start_time": "2021-07-08T11:24:54.498Z"
   },
   {
    "duration": 12,
    "start_time": "2021-07-08T11:25:32.225Z"
   },
   {
    "duration": 19,
    "start_time": "2021-07-08T11:25:37.092Z"
   },
   {
    "duration": 17,
    "start_time": "2021-07-08T11:25:58.116Z"
   },
   {
    "duration": 15,
    "start_time": "2021-07-08T11:26:02.258Z"
   },
   {
    "duration": 8,
    "start_time": "2021-07-08T11:26:59.682Z"
   },
   {
    "duration": 184,
    "start_time": "2021-07-08T11:27:21.894Z"
   },
   {
    "duration": 8,
    "start_time": "2021-07-08T11:27:23.824Z"
   },
   {
    "duration": 202,
    "start_time": "2021-07-08T11:27:23.962Z"
   },
   {
    "duration": 360,
    "start_time": "2021-07-08T11:28:33.215Z"
   },
   {
    "duration": 231,
    "start_time": "2021-07-08T11:32:05.542Z"
   },
   {
    "duration": 607,
    "start_time": "2021-07-08T11:36:27.854Z"
   },
   {
    "duration": 241,
    "start_time": "2021-07-08T11:36:28.463Z"
   },
   {
    "duration": 67,
    "start_time": "2021-07-08T11:36:28.709Z"
   },
   {
    "duration": 5,
    "start_time": "2021-07-08T11:36:28.778Z"
   },
   {
    "duration": 32,
    "start_time": "2021-07-08T11:36:28.784Z"
   },
   {
    "duration": 11,
    "start_time": "2021-07-08T11:36:28.819Z"
   },
   {
    "duration": 20,
    "start_time": "2021-07-08T11:36:28.834Z"
   },
   {
    "duration": 36,
    "start_time": "2021-07-08T11:36:28.857Z"
   },
   {
    "duration": 16,
    "start_time": "2021-07-08T11:36:28.895Z"
   },
   {
    "duration": 14,
    "start_time": "2021-07-08T11:36:28.913Z"
   },
   {
    "duration": 9,
    "start_time": "2021-07-08T11:36:28.930Z"
   },
   {
    "duration": 55,
    "start_time": "2021-07-08T11:36:28.941Z"
   },
   {
    "duration": 27,
    "start_time": "2021-07-08T11:36:28.999Z"
   },
   {
    "duration": 30,
    "start_time": "2021-07-08T11:36:29.028Z"
   },
   {
    "duration": 31,
    "start_time": "2021-07-08T11:36:29.060Z"
   },
   {
    "duration": 3,
    "start_time": "2021-07-08T11:36:29.093Z"
   },
   {
    "duration": 12,
    "start_time": "2021-07-08T11:36:29.099Z"
   },
   {
    "duration": 11,
    "start_time": "2021-07-08T11:36:29.112Z"
   },
   {
    "duration": 12,
    "start_time": "2021-07-08T11:36:29.125Z"
   },
   {
    "duration": 9,
    "start_time": "2021-07-08T11:36:29.139Z"
   },
   {
    "duration": 31,
    "start_time": "2021-07-08T11:36:29.191Z"
   },
   {
    "duration": 17,
    "start_time": "2021-07-08T11:36:29.226Z"
   },
   {
    "duration": 7,
    "start_time": "2021-07-08T11:36:29.245Z"
   },
   {
    "duration": 10,
    "start_time": "2021-07-08T11:36:29.254Z"
   },
   {
    "duration": 30,
    "start_time": "2021-07-08T11:36:29.292Z"
   },
   {
    "duration": 11,
    "start_time": "2021-07-08T11:36:29.324Z"
   },
   {
    "duration": 11,
    "start_time": "2021-07-08T11:36:29.337Z"
   },
   {
    "duration": 230,
    "start_time": "2021-07-08T11:36:29.349Z"
   },
   {
    "duration": 13,
    "start_time": "2021-07-08T11:36:29.588Z"
   },
   {
    "duration": 205,
    "start_time": "2021-07-08T11:36:29.603Z"
   },
   {
    "duration": 20,
    "start_time": "2021-07-08T11:36:29.810Z"
   },
   {
    "duration": 9,
    "start_time": "2021-07-08T11:36:29.832Z"
   },
   {
    "duration": 16,
    "start_time": "2021-07-08T11:36:29.843Z"
   },
   {
    "duration": 283,
    "start_time": "2021-07-08T11:36:29.861Z"
   },
   {
    "duration": 50,
    "start_time": "2021-07-08T11:36:30.146Z"
   },
   {
    "duration": 14,
    "start_time": "2021-07-08T11:36:30.198Z"
   },
   {
    "duration": 11,
    "start_time": "2021-07-08T11:36:30.214Z"
   },
   {
    "duration": 245,
    "start_time": "2021-07-08T11:36:30.227Z"
   },
   {
    "duration": 439,
    "start_time": "2021-07-08T11:36:30.474Z"
   },
   {
    "duration": 210,
    "start_time": "2021-07-08T11:36:30.915Z"
   },
   {
    "duration": 15,
    "start_time": "2021-07-08T11:36:31.127Z"
   },
   {
    "duration": 17,
    "start_time": "2021-07-08T11:38:20.451Z"
   },
   {
    "duration": 642,
    "start_time": "2021-07-08T11:46:17.881Z"
   },
   {
    "duration": 210,
    "start_time": "2021-07-08T11:46:18.525Z"
   },
   {
    "duration": 104,
    "start_time": "2021-07-08T11:46:18.741Z"
   },
   {
    "duration": 8,
    "start_time": "2021-07-08T11:46:18.847Z"
   },
   {
    "duration": 25,
    "start_time": "2021-07-08T11:46:18.857Z"
   },
   {
    "duration": 14,
    "start_time": "2021-07-08T11:46:18.884Z"
   },
   {
    "duration": 22,
    "start_time": "2021-07-08T11:46:18.900Z"
   },
   {
    "duration": 5,
    "start_time": "2021-07-08T11:46:18.924Z"
   },
   {
    "duration": 13,
    "start_time": "2021-07-08T11:46:18.931Z"
   },
   {
    "duration": 45,
    "start_time": "2021-07-08T11:46:18.946Z"
   },
   {
    "duration": 12,
    "start_time": "2021-07-08T11:46:18.993Z"
   },
   {
    "duration": 38,
    "start_time": "2021-07-08T11:46:19.006Z"
   },
   {
    "duration": 50,
    "start_time": "2021-07-08T11:46:19.046Z"
   },
   {
    "duration": 29,
    "start_time": "2021-07-08T11:46:19.099Z"
   },
   {
    "duration": 7,
    "start_time": "2021-07-08T11:46:19.130Z"
   },
   {
    "duration": 3,
    "start_time": "2021-07-08T11:46:19.139Z"
   },
   {
    "duration": 11,
    "start_time": "2021-07-08T11:46:19.144Z"
   },
   {
    "duration": 40,
    "start_time": "2021-07-08T11:46:19.157Z"
   },
   {
    "duration": 15,
    "start_time": "2021-07-08T11:46:19.199Z"
   },
   {
    "duration": 10,
    "start_time": "2021-07-08T11:46:19.217Z"
   },
   {
    "duration": 68,
    "start_time": "2021-07-08T11:46:19.230Z"
   },
   {
    "duration": 17,
    "start_time": "2021-07-08T11:46:19.301Z"
   },
   {
    "duration": 7,
    "start_time": "2021-07-08T11:46:19.321Z"
   },
   {
    "duration": 11,
    "start_time": "2021-07-08T11:46:19.330Z"
   },
   {
    "duration": 59,
    "start_time": "2021-07-08T11:46:19.343Z"
   },
   {
    "duration": 17,
    "start_time": "2021-07-08T11:46:19.405Z"
   },
   {
    "duration": 16,
    "start_time": "2021-07-08T11:46:19.424Z"
   },
   {
    "duration": 252,
    "start_time": "2021-07-08T11:46:19.443Z"
   },
   {
    "duration": 9,
    "start_time": "2021-07-08T11:46:19.697Z"
   },
   {
    "duration": 224,
    "start_time": "2021-07-08T11:46:19.708Z"
   },
   {
    "duration": 21,
    "start_time": "2021-07-08T11:46:19.934Z"
   },
   {
    "duration": 9,
    "start_time": "2021-07-08T11:46:19.956Z"
   },
   {
    "duration": 32,
    "start_time": "2021-07-08T11:46:19.967Z"
   },
   {
    "duration": 288,
    "start_time": "2021-07-08T11:46:20.004Z"
   },
   {
    "duration": 23,
    "start_time": "2021-07-08T11:46:20.300Z"
   },
   {
    "duration": 11,
    "start_time": "2021-07-08T11:46:20.325Z"
   },
   {
    "duration": 11,
    "start_time": "2021-07-08T11:46:20.339Z"
   },
   {
    "duration": 259,
    "start_time": "2021-07-08T11:46:20.352Z"
   },
   {
    "duration": 438,
    "start_time": "2021-07-08T11:46:20.613Z"
   },
   {
    "duration": 207,
    "start_time": "2021-07-08T11:46:21.054Z"
   },
   {
    "duration": 27,
    "start_time": "2021-07-08T11:46:21.262Z"
   },
   {
    "duration": 19,
    "start_time": "2021-07-08T11:46:21.291Z"
   },
   {
    "duration": 820,
    "start_time": "2021-07-08T11:49:01.655Z"
   },
   {
    "duration": 372,
    "start_time": "2021-07-08T11:49:02.478Z"
   },
   {
    "duration": 98,
    "start_time": "2021-07-08T11:49:02.853Z"
   },
   {
    "duration": 6,
    "start_time": "2021-07-08T11:49:02.953Z"
   },
   {
    "duration": 39,
    "start_time": "2021-07-08T11:49:02.960Z"
   },
   {
    "duration": 9,
    "start_time": "2021-07-08T11:49:03.003Z"
   },
   {
    "duration": 23,
    "start_time": "2021-07-08T11:49:03.014Z"
   },
   {
    "duration": 6,
    "start_time": "2021-07-08T11:49:03.041Z"
   },
   {
    "duration": 20,
    "start_time": "2021-07-08T11:49:03.049Z"
   },
   {
    "duration": 18,
    "start_time": "2021-07-08T11:49:03.084Z"
   },
   {
    "duration": 14,
    "start_time": "2021-07-08T11:49:03.104Z"
   },
   {
    "duration": 39,
    "start_time": "2021-07-08T11:49:03.119Z"
   },
   {
    "duration": 38,
    "start_time": "2021-07-08T11:49:03.160Z"
   },
   {
    "duration": 26,
    "start_time": "2021-07-08T11:49:03.200Z"
   },
   {
    "duration": 7,
    "start_time": "2021-07-08T11:49:03.227Z"
   },
   {
    "duration": 4,
    "start_time": "2021-07-08T11:49:03.236Z"
   },
   {
    "duration": 15,
    "start_time": "2021-07-08T11:49:03.243Z"
   },
   {
    "duration": 21,
    "start_time": "2021-07-08T11:49:03.285Z"
   },
   {
    "duration": 17,
    "start_time": "2021-07-08T11:49:03.309Z"
   },
   {
    "duration": 10,
    "start_time": "2021-07-08T11:49:03.328Z"
   },
   {
    "duration": 65,
    "start_time": "2021-07-08T11:49:03.340Z"
   },
   {
    "duration": 18,
    "start_time": "2021-07-08T11:49:03.407Z"
   },
   {
    "duration": 8,
    "start_time": "2021-07-08T11:49:03.428Z"
   },
   {
    "duration": 15,
    "start_time": "2021-07-08T11:49:03.438Z"
   },
   {
    "duration": 40,
    "start_time": "2021-07-08T11:49:03.455Z"
   },
   {
    "duration": 12,
    "start_time": "2021-07-08T11:49:03.497Z"
   },
   {
    "duration": 29,
    "start_time": "2021-07-08T11:49:03.511Z"
   },
   {
    "duration": 285,
    "start_time": "2021-07-08T11:49:03.542Z"
   },
   {
    "duration": 8,
    "start_time": "2021-07-08T11:49:03.829Z"
   },
   {
    "duration": 227,
    "start_time": "2021-07-08T11:49:03.838Z"
   },
   {
    "duration": 40,
    "start_time": "2021-07-08T11:49:04.066Z"
   },
   {
    "duration": 10,
    "start_time": "2021-07-08T11:49:04.108Z"
   },
   {
    "duration": 26,
    "start_time": "2021-07-08T11:49:04.121Z"
   },
   {
    "duration": 290,
    "start_time": "2021-07-08T11:49:04.149Z"
   },
   {
    "duration": 26,
    "start_time": "2021-07-08T11:49:04.441Z"
   },
   {
    "duration": 31,
    "start_time": "2021-07-08T11:49:04.470Z"
   },
   {
    "duration": 14,
    "start_time": "2021-07-08T11:49:04.503Z"
   },
   {
    "duration": 259,
    "start_time": "2021-07-08T11:49:04.521Z"
   },
   {
    "duration": 480,
    "start_time": "2021-07-08T11:49:04.782Z"
   },
   {
    "duration": 225,
    "start_time": "2021-07-08T11:49:05.264Z"
   },
   {
    "duration": 22,
    "start_time": "2021-07-08T11:49:05.491Z"
   },
   {
    "duration": 24,
    "start_time": "2021-07-08T11:49:05.515Z"
   },
   {
    "duration": 634,
    "start_time": "2021-07-08T11:52:24.960Z"
   },
   {
    "duration": 199,
    "start_time": "2021-07-08T11:52:25.599Z"
   },
   {
    "duration": 106,
    "start_time": "2021-07-08T11:52:25.803Z"
   },
   {
    "duration": 7,
    "start_time": "2021-07-08T11:52:25.911Z"
   },
   {
    "duration": 29,
    "start_time": "2021-07-08T11:52:25.920Z"
   },
   {
    "duration": 7,
    "start_time": "2021-07-08T11:52:25.951Z"
   },
   {
    "duration": 26,
    "start_time": "2021-07-08T11:52:25.961Z"
   },
   {
    "duration": 11,
    "start_time": "2021-07-08T11:52:25.990Z"
   },
   {
    "duration": 29,
    "start_time": "2021-07-08T11:52:26.005Z"
   },
   {
    "duration": 9,
    "start_time": "2021-07-08T11:52:26.036Z"
   },
   {
    "duration": 8,
    "start_time": "2021-07-08T11:52:26.047Z"
   },
   {
    "duration": 63,
    "start_time": "2021-07-08T11:52:26.057Z"
   },
   {
    "duration": 17,
    "start_time": "2021-07-08T11:52:26.122Z"
   },
   {
    "duration": 43,
    "start_time": "2021-07-08T11:52:26.142Z"
   },
   {
    "duration": 17,
    "start_time": "2021-07-08T11:52:26.187Z"
   },
   {
    "duration": 5,
    "start_time": "2021-07-08T11:52:26.206Z"
   },
   {
    "duration": 12,
    "start_time": "2021-07-08T11:52:26.212Z"
   },
   {
    "duration": 11,
    "start_time": "2021-07-08T11:52:26.226Z"
   },
   {
    "duration": 12,
    "start_time": "2021-07-08T11:52:26.238Z"
   },
   {
    "duration": 38,
    "start_time": "2021-07-08T11:52:26.252Z"
   },
   {
    "duration": 40,
    "start_time": "2021-07-08T11:52:26.292Z"
   },
   {
    "duration": 17,
    "start_time": "2021-07-08T11:52:26.336Z"
   },
   {
    "duration": 39,
    "start_time": "2021-07-08T11:52:26.355Z"
   },
   {
    "duration": 11,
    "start_time": "2021-07-08T11:52:26.395Z"
   },
   {
    "duration": 23,
    "start_time": "2021-07-08T11:52:26.408Z"
   },
   {
    "duration": 12,
    "start_time": "2021-07-08T11:52:26.432Z"
   },
   {
    "duration": 41,
    "start_time": "2021-07-08T11:52:26.446Z"
   },
   {
    "duration": 215,
    "start_time": "2021-07-08T11:52:26.493Z"
   },
   {
    "duration": 8,
    "start_time": "2021-07-08T11:52:26.710Z"
   },
   {
    "duration": 228,
    "start_time": "2021-07-08T11:52:26.720Z"
   },
   {
    "duration": 18,
    "start_time": "2021-07-08T11:52:26.950Z"
   },
   {
    "duration": 35,
    "start_time": "2021-07-08T11:52:26.969Z"
   },
   {
    "duration": 23,
    "start_time": "2021-07-08T11:52:27.006Z"
   },
   {
    "duration": 258,
    "start_time": "2021-07-08T11:52:27.030Z"
   },
   {
    "duration": 24,
    "start_time": "2021-07-08T11:52:27.290Z"
   },
   {
    "duration": 12,
    "start_time": "2021-07-08T11:52:27.316Z"
   },
   {
    "duration": 10,
    "start_time": "2021-07-08T11:52:27.329Z"
   },
   {
    "duration": 298,
    "start_time": "2021-07-08T11:52:27.341Z"
   },
   {
    "duration": 436,
    "start_time": "2021-07-08T11:52:27.641Z"
   },
   {
    "duration": 216,
    "start_time": "2021-07-08T11:52:28.079Z"
   },
   {
    "duration": 20,
    "start_time": "2021-07-08T11:52:28.297Z"
   },
   {
    "duration": 17,
    "start_time": "2021-07-08T11:52:28.319Z"
   },
   {
    "duration": 928,
    "start_time": "2024-06-27T16:55:59.559Z"
   },
   {
    "duration": 332,
    "start_time": "2024-06-27T16:56:00.489Z"
   },
   {
    "duration": 187,
    "start_time": "2024-06-27T16:56:49.140Z"
   },
   {
    "duration": 53,
    "start_time": "2024-06-27T16:56:55.337Z"
   },
   {
    "duration": 19,
    "start_time": "2024-06-27T16:57:32.047Z"
   },
   {
    "duration": 54,
    "start_time": "2024-06-27T16:57:35.269Z"
   },
   {
    "duration": 11,
    "start_time": "2024-06-27T16:57:51.846Z"
   },
   {
    "duration": 51,
    "start_time": "2024-06-29T06:16:35.820Z"
   },
   {
    "duration": 855,
    "start_time": "2024-06-29T06:16:47.265Z"
   },
   {
    "duration": 178,
    "start_time": "2024-06-29T06:16:48.122Z"
   },
   {
    "duration": 21,
    "start_time": "2024-06-29T06:16:48.554Z"
   },
   {
    "duration": 94,
    "start_time": "2024-06-29T06:16:49.247Z"
   },
   {
    "duration": 10,
    "start_time": "2024-06-29T06:16:49.837Z"
   },
   {
    "duration": 318,
    "start_time": "2024-06-29T06:16:51.038Z"
   },
   {
    "duration": 281,
    "start_time": "2024-06-29T06:18:37.823Z"
   },
   {
    "duration": 4,
    "start_time": "2024-06-29T06:28:38.314Z"
   },
   {
    "duration": 1008,
    "start_time": "2024-06-29T06:28:52.436Z"
   },
   {
    "duration": 17,
    "start_time": "2024-06-29T06:29:52.057Z"
   },
   {
    "duration": 39,
    "start_time": "2024-06-29T06:33:28.661Z"
   },
   {
    "duration": 24,
    "start_time": "2024-06-29T06:34:33.971Z"
   },
   {
    "duration": 15,
    "start_time": "2024-06-29T06:36:21.505Z"
   },
   {
    "duration": 22,
    "start_time": "2024-06-29T06:36:31.519Z"
   },
   {
    "duration": 23,
    "start_time": "2024-06-29T06:36:50.480Z"
   },
   {
    "duration": 18,
    "start_time": "2024-06-29T06:37:30.337Z"
   },
   {
    "duration": 20,
    "start_time": "2024-06-29T06:41:47.086Z"
   },
   {
    "duration": 28,
    "start_time": "2024-06-29T06:41:47.628Z"
   },
   {
    "duration": 251,
    "start_time": "2024-06-29T06:43:30.951Z"
   },
   {
    "duration": 13,
    "start_time": "2024-06-29T06:47:25.179Z"
   },
   {
    "duration": 3,
    "start_time": "2024-06-29T06:47:52.576Z"
   },
   {
    "duration": 104,
    "start_time": "2024-06-29T06:47:53.253Z"
   },
   {
    "duration": 15,
    "start_time": "2024-06-29T06:47:53.618Z"
   },
   {
    "duration": 42,
    "start_time": "2024-06-29T06:47:53.912Z"
   },
   {
    "duration": 11,
    "start_time": "2024-06-29T06:47:54.183Z"
   },
   {
    "duration": 13,
    "start_time": "2024-06-29T06:47:55.279Z"
   },
   {
    "duration": 13,
    "start_time": "2024-06-29T06:48:11.071Z"
   },
   {
    "duration": 16,
    "start_time": "2024-06-29T06:48:11.627Z"
   },
   {
    "duration": 12,
    "start_time": "2024-06-29T06:48:30.143Z"
   },
   {
    "duration": 14,
    "start_time": "2024-06-29T06:48:35.139Z"
   },
   {
    "duration": 13,
    "start_time": "2024-06-29T06:48:41.281Z"
   },
   {
    "duration": 249,
    "start_time": "2024-06-29T06:49:51.776Z"
   },
   {
    "duration": 6,
    "start_time": "2024-06-29T06:50:38.945Z"
   },
   {
    "duration": 4,
    "start_time": "2024-06-29T06:50:53.221Z"
   },
   {
    "duration": 324,
    "start_time": "2024-06-29T06:51:19.902Z"
   },
   {
    "duration": 6,
    "start_time": "2024-06-29T06:51:52.443Z"
   },
   {
    "duration": 31,
    "start_time": "2024-06-29T06:51:55.161Z"
   },
   {
    "duration": 15,
    "start_time": "2024-06-29T06:52:48.505Z"
   },
   {
    "duration": 12,
    "start_time": "2024-06-29T06:55:14.155Z"
   },
   {
    "duration": 31,
    "start_time": "2024-06-29T06:55:20.408Z"
   },
   {
    "duration": 14,
    "start_time": "2024-06-29T06:55:38.143Z"
   },
   {
    "duration": 14,
    "start_time": "2024-06-29T06:55:50.350Z"
   },
   {
    "duration": 19,
    "start_time": "2024-06-29T07:34:27.121Z"
   },
   {
    "duration": 12,
    "start_time": "2024-06-29T07:35:23.861Z"
   },
   {
    "duration": 672,
    "start_time": "2024-06-29T07:35:37.794Z"
   },
   {
    "duration": 114,
    "start_time": "2024-06-29T07:35:38.467Z"
   },
   {
    "duration": 16,
    "start_time": "2024-06-29T07:35:38.582Z"
   },
   {
    "duration": 43,
    "start_time": "2024-06-29T07:35:38.600Z"
   },
   {
    "duration": 10,
    "start_time": "2024-06-29T07:35:38.644Z"
   },
   {
    "duration": 17,
    "start_time": "2024-06-29T07:35:38.655Z"
   },
   {
    "duration": 31,
    "start_time": "2024-06-29T07:35:38.674Z"
   },
   {
    "duration": 15,
    "start_time": "2024-06-29T07:35:38.707Z"
   },
   {
    "duration": 81,
    "start_time": "2024-06-29T07:35:38.723Z"
   },
   {
    "duration": 12,
    "start_time": "2024-06-29T07:38:45.859Z"
   },
   {
    "duration": 40,
    "start_time": "2024-06-29T07:41:23.285Z"
   },
   {
    "duration": 17,
    "start_time": "2024-06-29T07:43:52.092Z"
   },
   {
    "duration": 40,
    "start_time": "2024-06-29T07:44:53.886Z"
   },
   {
    "duration": 16,
    "start_time": "2024-06-29T07:44:56.186Z"
   },
   {
    "duration": 13,
    "start_time": "2024-06-29T07:44:56.479Z"
   },
   {
    "duration": 12,
    "start_time": "2024-06-29T07:44:57.027Z"
   },
   {
    "duration": 8,
    "start_time": "2024-06-29T07:44:58.131Z"
   },
   {
    "duration": 12,
    "start_time": "2024-06-29T07:44:58.162Z"
   },
   {
    "duration": 479,
    "start_time": "2024-06-29T07:46:38.771Z"
   },
   {
    "duration": 641,
    "start_time": "2024-06-29T07:47:44.908Z"
   },
   {
    "duration": 112,
    "start_time": "2024-06-29T07:47:45.551Z"
   },
   {
    "duration": 17,
    "start_time": "2024-06-29T07:47:45.664Z"
   },
   {
    "duration": 125,
    "start_time": "2024-06-29T07:47:45.684Z"
   },
   {
    "duration": 16,
    "start_time": "2024-06-29T07:47:45.811Z"
   },
   {
    "duration": 28,
    "start_time": "2024-06-29T07:47:45.829Z"
   },
   {
    "duration": 34,
    "start_time": "2024-06-29T07:47:45.859Z"
   },
   {
    "duration": 16,
    "start_time": "2024-06-29T07:47:45.895Z"
   },
   {
    "duration": 586,
    "start_time": "2024-06-29T07:47:45.913Z"
   },
   {
    "duration": 0,
    "start_time": "2024-06-29T07:47:46.501Z"
   },
   {
    "duration": 0,
    "start_time": "2024-06-29T07:47:46.502Z"
   },
   {
    "duration": 0,
    "start_time": "2024-06-29T07:47:46.504Z"
   },
   {
    "duration": 5,
    "start_time": "2024-06-29T07:49:12.183Z"
   },
   {
    "duration": 275,
    "start_time": "2024-06-29T07:50:41.760Z"
   },
   {
    "duration": 12,
    "start_time": "2024-06-29T07:51:24.170Z"
   },
   {
    "duration": 11,
    "start_time": "2024-06-29T07:53:33.927Z"
   },
   {
    "duration": 13,
    "start_time": "2024-06-29T07:54:04.391Z"
   },
   {
    "duration": 705,
    "start_time": "2024-06-29T07:54:11.436Z"
   },
   {
    "duration": 115,
    "start_time": "2024-06-29T07:54:12.144Z"
   },
   {
    "duration": 17,
    "start_time": "2024-06-29T07:54:12.260Z"
   },
   {
    "duration": 49,
    "start_time": "2024-06-29T07:54:12.279Z"
   },
   {
    "duration": 11,
    "start_time": "2024-06-29T07:54:12.330Z"
   },
   {
    "duration": 34,
    "start_time": "2024-06-29T07:54:12.343Z"
   },
   {
    "duration": 43,
    "start_time": "2024-06-29T07:54:12.378Z"
   },
   {
    "duration": 17,
    "start_time": "2024-06-29T07:54:12.422Z"
   },
   {
    "duration": 76,
    "start_time": "2024-06-29T07:54:12.441Z"
   },
   {
    "duration": 0,
    "start_time": "2024-06-29T07:54:12.519Z"
   },
   {
    "duration": 0,
    "start_time": "2024-06-29T07:54:12.520Z"
   },
   {
    "duration": 0,
    "start_time": "2024-06-29T07:54:12.522Z"
   },
   {
    "duration": 0,
    "start_time": "2024-06-29T07:54:12.523Z"
   },
   {
    "duration": 712,
    "start_time": "2024-06-29T13:37:50.042Z"
   },
   {
    "duration": 312,
    "start_time": "2024-06-29T13:37:50.756Z"
   },
   {
    "duration": 13,
    "start_time": "2024-06-29T13:37:51.070Z"
   },
   {
    "duration": 98,
    "start_time": "2024-06-29T13:37:51.085Z"
   },
   {
    "duration": 9,
    "start_time": "2024-06-29T13:37:51.184Z"
   },
   {
    "duration": 6,
    "start_time": "2024-06-29T13:37:51.195Z"
   },
   {
    "duration": 42,
    "start_time": "2024-06-29T13:37:51.202Z"
   },
   {
    "duration": 12,
    "start_time": "2024-06-29T13:37:51.245Z"
   },
   {
    "duration": 76,
    "start_time": "2024-06-29T13:37:51.259Z"
   },
   {
    "duration": 0,
    "start_time": "2024-06-29T13:37:51.337Z"
   },
   {
    "duration": 0,
    "start_time": "2024-06-29T13:37:51.338Z"
   },
   {
    "duration": 0,
    "start_time": "2024-06-29T13:37:51.339Z"
   },
   {
    "duration": 0,
    "start_time": "2024-06-29T13:37:51.340Z"
   },
   {
    "duration": 12,
    "start_time": "2024-06-29T13:39:15.748Z"
   },
   {
    "duration": 13,
    "start_time": "2024-06-29T13:40:00.426Z"
   },
   {
    "duration": 9,
    "start_time": "2024-06-29T13:40:27.660Z"
   },
   {
    "duration": 444,
    "start_time": "2024-06-29T13:41:41.695Z"
   },
   {
    "duration": 18,
    "start_time": "2024-06-29T13:42:07.498Z"
   },
   {
    "duration": 19,
    "start_time": "2024-06-29T13:42:11.414Z"
   },
   {
    "duration": 469,
    "start_time": "2024-06-29T13:42:33.551Z"
   },
   {
    "duration": 21,
    "start_time": "2024-06-29T13:43:09.539Z"
   },
   {
    "duration": 5,
    "start_time": "2024-06-29T13:43:39.166Z"
   },
   {
    "duration": 3,
    "start_time": "2024-06-29T13:59:26.114Z"
   },
   {
    "duration": 7,
    "start_time": "2024-06-29T13:59:27.361Z"
   },
   {
    "duration": 2,
    "start_time": "2024-06-29T14:00:27.500Z"
   },
   {
    "duration": 8,
    "start_time": "2024-06-29T14:00:28.164Z"
   },
   {
    "duration": 2,
    "start_time": "2024-06-29T14:00:46.340Z"
   },
   {
    "duration": 7,
    "start_time": "2024-06-29T14:00:47.037Z"
   },
   {
    "duration": 9,
    "start_time": "2024-06-29T14:04:16.331Z"
   },
   {
    "duration": 14,
    "start_time": "2024-06-29T14:07:20.443Z"
   },
   {
    "duration": 877,
    "start_time": "2024-06-29T16:50:22.446Z"
   },
   {
    "duration": 343,
    "start_time": "2024-06-29T16:50:23.325Z"
   },
   {
    "duration": 18,
    "start_time": "2024-06-29T16:50:23.670Z"
   },
   {
    "duration": 94,
    "start_time": "2024-06-29T16:50:23.690Z"
   },
   {
    "duration": 10,
    "start_time": "2024-06-29T16:50:23.786Z"
   },
   {
    "duration": 9,
    "start_time": "2024-06-29T16:50:23.798Z"
   },
   {
    "duration": 30,
    "start_time": "2024-06-29T16:50:23.808Z"
   },
   {
    "duration": 11,
    "start_time": "2024-06-29T16:50:23.840Z"
   },
   {
    "duration": 22,
    "start_time": "2024-06-29T16:50:23.852Z"
   },
   {
    "duration": 105,
    "start_time": "2024-06-29T16:50:23.878Z"
   },
   {
    "duration": 0,
    "start_time": "2024-06-29T16:50:23.985Z"
   },
   {
    "duration": 0,
    "start_time": "2024-06-29T16:50:23.986Z"
   },
   {
    "duration": 0,
    "start_time": "2024-06-29T16:50:23.987Z"
   },
   {
    "duration": 0,
    "start_time": "2024-06-29T16:50:23.988Z"
   },
   {
    "duration": 0,
    "start_time": "2024-06-29T16:50:23.989Z"
   },
   {
    "duration": 0,
    "start_time": "2024-06-29T16:50:23.990Z"
   },
   {
    "duration": 0,
    "start_time": "2024-06-29T16:50:23.991Z"
   },
   {
    "duration": 10,
    "start_time": "2024-06-29T16:50:37.394Z"
   },
   {
    "duration": 5,
    "start_time": "2024-06-29T16:50:38.656Z"
   },
   {
    "duration": 10,
    "start_time": "2024-06-29T16:50:49.804Z"
   },
   {
    "duration": 9,
    "start_time": "2024-06-29T16:51:11.537Z"
   },
   {
    "duration": 13,
    "start_time": "2024-06-29T16:51:22.351Z"
   },
   {
    "duration": 9,
    "start_time": "2024-06-29T16:51:47.486Z"
   },
   {
    "duration": 12,
    "start_time": "2024-06-29T16:51:53.653Z"
   },
   {
    "duration": 3,
    "start_time": "2024-06-29T16:52:28.593Z"
   },
   {
    "duration": 9,
    "start_time": "2024-06-29T16:52:29.077Z"
   },
   {
    "duration": 291,
    "start_time": "2024-06-29T16:53:11.806Z"
   },
   {
    "duration": 10,
    "start_time": "2024-06-29T17:02:45.991Z"
   },
   {
    "duration": 8,
    "start_time": "2024-06-29T17:02:58.292Z"
   },
   {
    "duration": 12,
    "start_time": "2024-06-29T17:03:05.879Z"
   },
   {
    "duration": 12,
    "start_time": "2024-06-29T17:03:11.958Z"
   },
   {
    "duration": 10,
    "start_time": "2024-06-29T17:03:29.234Z"
   },
   {
    "duration": 4,
    "start_time": "2024-06-29T17:04:54.160Z"
   },
   {
    "duration": 8,
    "start_time": "2024-06-29T17:05:06.176Z"
   },
   {
    "duration": 6,
    "start_time": "2024-06-29T17:05:27.034Z"
   },
   {
    "duration": 3,
    "start_time": "2024-06-29T17:12:52.396Z"
   },
   {
    "duration": 19,
    "start_time": "2024-06-29T17:13:07.088Z"
   },
   {
    "duration": 6,
    "start_time": "2024-06-29T17:13:53.306Z"
   },
   {
    "duration": 5,
    "start_time": "2024-06-29T17:14:05.106Z"
   },
   {
    "duration": 5,
    "start_time": "2024-06-29T17:14:15.533Z"
   },
   {
    "duration": 43,
    "start_time": "2024-06-29T17:14:37.080Z"
   },
   {
    "duration": 8,
    "start_time": "2024-06-29T17:14:43.484Z"
   },
   {
    "duration": 14,
    "start_time": "2024-06-29T17:17:16.114Z"
   },
   {
    "duration": 14,
    "start_time": "2024-06-29T17:17:46.631Z"
   },
   {
    "duration": 9,
    "start_time": "2024-06-29T17:25:15.872Z"
   },
   {
    "duration": 52,
    "start_time": "2024-06-29T17:26:06.059Z"
   },
   {
    "duration": 7,
    "start_time": "2024-06-29T17:26:11.814Z"
   },
   {
    "duration": 5,
    "start_time": "2024-06-29T17:27:34.768Z"
   },
   {
    "duration": 6,
    "start_time": "2024-06-29T17:27:35.482Z"
   },
   {
    "duration": 6,
    "start_time": "2024-06-29T17:27:51.623Z"
   },
   {
    "duration": 5,
    "start_time": "2024-06-29T17:28:28.435Z"
   },
   {
    "duration": 63,
    "start_time": "2024-06-29T18:56:59.832Z"
   },
   {
    "duration": 881,
    "start_time": "2024-06-29T18:57:03.929Z"
   },
   {
    "duration": 188,
    "start_time": "2024-06-29T18:57:04.812Z"
   },
   {
    "duration": 17,
    "start_time": "2024-06-29T18:57:05.002Z"
   },
   {
    "duration": 90,
    "start_time": "2024-06-29T18:57:05.021Z"
   },
   {
    "duration": 10,
    "start_time": "2024-06-29T18:57:05.112Z"
   },
   {
    "duration": 14,
    "start_time": "2024-06-29T18:57:05.124Z"
   },
   {
    "duration": 35,
    "start_time": "2024-06-29T18:57:05.140Z"
   },
   {
    "duration": 11,
    "start_time": "2024-06-29T18:57:05.176Z"
   },
   {
    "duration": 24,
    "start_time": "2024-06-29T18:57:05.189Z"
   },
   {
    "duration": 11,
    "start_time": "2024-06-29T18:57:05.216Z"
   },
   {
    "duration": 36,
    "start_time": "2024-06-29T18:57:05.229Z"
   },
   {
    "duration": 24,
    "start_time": "2024-06-29T18:57:05.266Z"
   },
   {
    "duration": 12,
    "start_time": "2024-06-29T18:57:05.291Z"
   },
   {
    "duration": 8,
    "start_time": "2024-06-29T18:57:05.305Z"
   },
   {
    "duration": 15,
    "start_time": "2024-06-29T18:57:05.315Z"
   },
   {
    "duration": 75,
    "start_time": "2024-06-29T18:57:05.332Z"
   },
   {
    "duration": 0,
    "start_time": "2024-06-29T18:57:05.408Z"
   },
   {
    "duration": 0,
    "start_time": "2024-06-29T18:57:05.410Z"
   },
   {
    "duration": 0,
    "start_time": "2024-06-29T18:57:05.411Z"
   },
   {
    "duration": 0,
    "start_time": "2024-06-29T18:57:05.412Z"
   },
   {
    "duration": 8,
    "start_time": "2024-06-29T18:57:23.062Z"
   },
   {
    "duration": 11,
    "start_time": "2024-06-29T18:57:27.798Z"
   },
   {
    "duration": 13,
    "start_time": "2024-06-29T18:57:29.019Z"
   },
   {
    "duration": 22,
    "start_time": "2024-06-29T18:57:32.729Z"
   },
   {
    "duration": 5,
    "start_time": "2024-06-29T19:00:29.497Z"
   },
   {
    "duration": 5,
    "start_time": "2024-06-29T19:00:41.596Z"
   },
   {
    "duration": 9,
    "start_time": "2024-06-29T19:01:38.118Z"
   },
   {
    "duration": 5,
    "start_time": "2024-06-29T19:01:57.474Z"
   },
   {
    "duration": 8,
    "start_time": "2024-06-29T19:01:57.885Z"
   },
   {
    "duration": 9,
    "start_time": "2024-06-29T19:03:09.972Z"
   },
   {
    "duration": 9,
    "start_time": "2024-06-29T19:03:54.764Z"
   },
   {
    "duration": 4,
    "start_time": "2024-06-29T19:04:06.625Z"
   },
   {
    "duration": 695,
    "start_time": "2024-06-29T19:04:11.483Z"
   },
   {
    "duration": 120,
    "start_time": "2024-06-29T19:04:12.180Z"
   },
   {
    "duration": 16,
    "start_time": "2024-06-29T19:04:12.302Z"
   },
   {
    "duration": 74,
    "start_time": "2024-06-29T19:04:12.320Z"
   },
   {
    "duration": 14,
    "start_time": "2024-06-29T19:04:12.396Z"
   },
   {
    "duration": 36,
    "start_time": "2024-06-29T19:04:12.412Z"
   },
   {
    "duration": 103,
    "start_time": "2024-06-29T19:04:12.450Z"
   },
   {
    "duration": 10,
    "start_time": "2024-06-29T19:04:12.555Z"
   },
   {
    "duration": 15,
    "start_time": "2024-06-29T19:04:12.567Z"
   },
   {
    "duration": 15,
    "start_time": "2024-06-29T19:04:12.585Z"
   },
   {
    "duration": 32,
    "start_time": "2024-06-29T19:04:12.601Z"
   },
   {
    "duration": 11,
    "start_time": "2024-06-29T19:04:12.634Z"
   },
   {
    "duration": 22,
    "start_time": "2024-06-29T19:04:12.647Z"
   },
   {
    "duration": 10,
    "start_time": "2024-06-29T19:04:12.671Z"
   },
   {
    "duration": 11,
    "start_time": "2024-06-29T19:04:12.682Z"
   },
   {
    "duration": 69,
    "start_time": "2024-06-29T19:04:12.695Z"
   },
   {
    "duration": 0,
    "start_time": "2024-06-29T19:04:12.766Z"
   },
   {
    "duration": 0,
    "start_time": "2024-06-29T19:04:12.768Z"
   },
   {
    "duration": 0,
    "start_time": "2024-06-29T19:04:12.769Z"
   },
   {
    "duration": 0,
    "start_time": "2024-06-29T19:04:12.771Z"
   },
   {
    "duration": 0,
    "start_time": "2024-06-29T19:04:12.772Z"
   },
   {
    "duration": 0,
    "start_time": "2024-06-29T19:04:12.774Z"
   },
   {
    "duration": 0,
    "start_time": "2024-06-29T19:04:12.775Z"
   },
   {
    "duration": 0,
    "start_time": "2024-06-29T19:04:12.777Z"
   },
   {
    "duration": 4,
    "start_time": "2024-06-29T19:04:22.118Z"
   },
   {
    "duration": 9,
    "start_time": "2024-06-29T19:04:22.645Z"
   },
   {
    "duration": 6,
    "start_time": "2024-06-29T19:04:37.750Z"
   },
   {
    "duration": 10,
    "start_time": "2024-06-29T19:05:20.337Z"
   },
   {
    "duration": 8,
    "start_time": "2024-06-29T19:05:20.839Z"
   },
   {
    "duration": 9,
    "start_time": "2024-06-29T19:07:47.033Z"
   },
   {
    "duration": 13,
    "start_time": "2024-06-29T19:08:55.565Z"
   },
   {
    "duration": 6,
    "start_time": "2024-06-29T19:10:35.623Z"
   },
   {
    "duration": 12,
    "start_time": "2024-06-29T19:11:22.672Z"
   },
   {
    "duration": 7,
    "start_time": "2024-06-29T19:13:24.952Z"
   },
   {
    "duration": 657,
    "start_time": "2024-06-29T19:14:17.722Z"
   },
   {
    "duration": 108,
    "start_time": "2024-06-29T19:14:18.381Z"
   },
   {
    "duration": 16,
    "start_time": "2024-06-29T19:14:18.491Z"
   },
   {
    "duration": 82,
    "start_time": "2024-06-29T19:14:18.509Z"
   },
   {
    "duration": 9,
    "start_time": "2024-06-29T19:14:18.593Z"
   },
   {
    "duration": 12,
    "start_time": "2024-06-29T19:14:18.604Z"
   },
   {
    "duration": 35,
    "start_time": "2024-06-29T19:14:18.617Z"
   },
   {
    "duration": 11,
    "start_time": "2024-06-29T19:14:18.653Z"
   },
   {
    "duration": 16,
    "start_time": "2024-06-29T19:14:18.665Z"
   },
   {
    "duration": 18,
    "start_time": "2024-06-29T19:14:18.684Z"
   },
   {
    "duration": 9,
    "start_time": "2024-06-29T19:14:18.704Z"
   },
   {
    "duration": 3,
    "start_time": "2024-06-29T19:14:18.714Z"
   },
   {
    "duration": 12,
    "start_time": "2024-06-29T19:14:18.719Z"
   },
   {
    "duration": 5,
    "start_time": "2024-06-29T19:14:18.732Z"
   },
   {
    "duration": 9,
    "start_time": "2024-06-29T19:14:18.762Z"
   },
   {
    "duration": 12,
    "start_time": "2024-06-29T19:14:18.773Z"
   },
   {
    "duration": 12,
    "start_time": "2024-06-29T19:14:18.786Z"
   },
   {
    "duration": 13,
    "start_time": "2024-06-29T19:14:18.799Z"
   },
   {
    "duration": 6,
    "start_time": "2024-06-29T19:14:18.813Z"
   },
   {
    "duration": 5,
    "start_time": "2024-06-29T19:14:18.821Z"
   },
   {
    "duration": 8,
    "start_time": "2024-06-29T19:14:18.860Z"
   },
   {
    "duration": 16,
    "start_time": "2024-06-29T19:14:18.870Z"
   },
   {
    "duration": 17,
    "start_time": "2024-06-29T19:14:18.888Z"
   },
   {
    "duration": 7,
    "start_time": "2024-06-29T19:14:18.907Z"
   },
   {
    "duration": 5,
    "start_time": "2024-06-29T19:16:03.945Z"
   },
   {
    "duration": 23,
    "start_time": "2024-06-29T19:19:10.665Z"
   },
   {
    "duration": 34,
    "start_time": "2024-06-29T19:19:19.094Z"
   },
   {
    "duration": 22,
    "start_time": "2024-06-29T19:19:32.184Z"
   },
   {
    "duration": 7,
    "start_time": "2024-06-29T19:20:01.340Z"
   },
   {
    "duration": 6,
    "start_time": "2024-06-29T19:20:18.363Z"
   },
   {
    "duration": 7,
    "start_time": "2024-06-29T19:22:27.295Z"
   },
   {
    "duration": 7,
    "start_time": "2024-06-29T19:22:40.399Z"
   },
   {
    "duration": 5,
    "start_time": "2024-06-29T19:22:41.299Z"
   },
   {
    "duration": 7,
    "start_time": "2024-06-29T19:23:18.973Z"
   },
   {
    "duration": 9,
    "start_time": "2024-06-29T19:31:08.704Z"
   },
   {
    "duration": 12,
    "start_time": "2024-06-29T19:31:22.009Z"
   },
   {
    "duration": 10,
    "start_time": "2024-06-29T19:32:45.259Z"
   },
   {
    "duration": 10,
    "start_time": "2024-06-29T19:32:52.324Z"
   },
   {
    "duration": 10,
    "start_time": "2024-06-29T19:33:59.077Z"
   },
   {
    "duration": 5,
    "start_time": "2024-06-29T19:35:48.107Z"
   },
   {
    "duration": 1039,
    "start_time": "2024-06-29T19:36:06.841Z"
   },
   {
    "duration": 697,
    "start_time": "2024-06-29T19:36:55.067Z"
   },
   {
    "duration": 112,
    "start_time": "2024-06-29T19:36:55.766Z"
   },
   {
    "duration": 23,
    "start_time": "2024-06-29T19:36:55.881Z"
   },
   {
    "duration": 43,
    "start_time": "2024-06-29T19:36:55.906Z"
   },
   {
    "duration": 11,
    "start_time": "2024-06-29T19:36:55.951Z"
   },
   {
    "duration": 26,
    "start_time": "2024-06-29T19:36:55.963Z"
   },
   {
    "duration": 32,
    "start_time": "2024-06-29T19:36:55.991Z"
   },
   {
    "duration": 15,
    "start_time": "2024-06-29T19:36:56.024Z"
   },
   {
    "duration": 25,
    "start_time": "2024-06-29T19:36:56.041Z"
   },
   {
    "duration": 11,
    "start_time": "2024-06-29T19:36:56.068Z"
   },
   {
    "duration": 14,
    "start_time": "2024-06-29T19:36:56.081Z"
   },
   {
    "duration": 5,
    "start_time": "2024-06-29T19:36:56.097Z"
   },
   {
    "duration": 13,
    "start_time": "2024-06-29T19:36:56.104Z"
   },
   {
    "duration": 3,
    "start_time": "2024-06-29T19:36:56.120Z"
   },
   {
    "duration": 40,
    "start_time": "2024-06-29T19:36:56.125Z"
   },
   {
    "duration": 14,
    "start_time": "2024-06-29T19:36:56.166Z"
   },
   {
    "duration": 13,
    "start_time": "2024-06-29T19:36:56.182Z"
   },
   {
    "duration": 15,
    "start_time": "2024-06-29T19:36:56.197Z"
   },
   {
    "duration": 6,
    "start_time": "2024-06-29T19:36:56.214Z"
   },
   {
    "duration": 9,
    "start_time": "2024-06-29T19:36:56.222Z"
   },
   {
    "duration": 13,
    "start_time": "2024-06-29T19:36:56.262Z"
   },
   {
    "duration": 7,
    "start_time": "2024-06-29T19:36:56.277Z"
   },
   {
    "duration": 1054,
    "start_time": "2024-06-29T19:36:56.287Z"
   },
   {
    "duration": 0,
    "start_time": "2024-06-29T19:36:57.342Z"
   },
   {
    "duration": 0,
    "start_time": "2024-06-29T19:36:57.344Z"
   },
   {
    "duration": 0,
    "start_time": "2024-06-29T19:36:57.346Z"
   },
   {
    "duration": 0,
    "start_time": "2024-06-29T19:36:57.347Z"
   },
   {
    "duration": 1,
    "start_time": "2024-06-29T19:36:57.348Z"
   },
   {
    "duration": 0,
    "start_time": "2024-06-29T19:36:57.350Z"
   },
   {
    "duration": 0,
    "start_time": "2024-06-29T19:36:57.352Z"
   },
   {
    "duration": 0,
    "start_time": "2024-06-29T19:36:57.354Z"
   },
   {
    "duration": 843,
    "start_time": "2024-06-29T19:37:08.920Z"
   },
   {
    "duration": 718,
    "start_time": "2024-06-29T19:37:20.188Z"
   },
   {
    "duration": 0,
    "start_time": "2024-06-29T19:37:20.907Z"
   },
   {
    "duration": 680,
    "start_time": "2024-06-29T19:37:27.930Z"
   },
   {
    "duration": 122,
    "start_time": "2024-06-29T19:37:28.611Z"
   },
   {
    "duration": 33,
    "start_time": "2024-06-29T19:37:28.735Z"
   },
   {
    "duration": 44,
    "start_time": "2024-06-29T19:37:28.770Z"
   },
   {
    "duration": 12,
    "start_time": "2024-06-29T19:37:28.815Z"
   },
   {
    "duration": 17,
    "start_time": "2024-06-29T19:37:28.829Z"
   },
   {
    "duration": 42,
    "start_time": "2024-06-29T19:37:28.848Z"
   },
   {
    "duration": 19,
    "start_time": "2024-06-29T19:37:28.892Z"
   },
   {
    "duration": 23,
    "start_time": "2024-06-29T19:37:28.913Z"
   },
   {
    "duration": 14,
    "start_time": "2024-06-29T19:37:28.962Z"
   },
   {
    "duration": 12,
    "start_time": "2024-06-29T19:37:28.978Z"
   },
   {
    "duration": 12,
    "start_time": "2024-06-29T19:37:28.992Z"
   },
   {
    "duration": 11,
    "start_time": "2024-06-29T19:37:29.007Z"
   },
   {
    "duration": 51,
    "start_time": "2024-06-29T19:37:29.020Z"
   },
   {
    "duration": 13,
    "start_time": "2024-06-29T19:37:29.074Z"
   },
   {
    "duration": 8,
    "start_time": "2024-06-29T19:37:29.089Z"
   },
   {
    "duration": 17,
    "start_time": "2024-06-29T19:37:29.099Z"
   },
   {
    "duration": 27,
    "start_time": "2024-06-29T19:37:29.118Z"
   },
   {
    "duration": 19,
    "start_time": "2024-06-29T19:37:29.147Z"
   },
   {
    "duration": 8,
    "start_time": "2024-06-29T19:37:29.167Z"
   },
   {
    "duration": 10,
    "start_time": "2024-06-29T19:37:29.177Z"
   },
   {
    "duration": 943,
    "start_time": "2024-06-29T19:37:29.189Z"
   },
   {
    "duration": 0,
    "start_time": "2024-06-29T19:37:30.134Z"
   },
   {
    "duration": 0,
    "start_time": "2024-06-29T19:37:30.136Z"
   },
   {
    "duration": 0,
    "start_time": "2024-06-29T19:37:30.136Z"
   },
   {
    "duration": 0,
    "start_time": "2024-06-29T19:37:30.138Z"
   },
   {
    "duration": 0,
    "start_time": "2024-06-29T19:37:30.139Z"
   },
   {
    "duration": 0,
    "start_time": "2024-06-29T19:37:30.141Z"
   },
   {
    "duration": 0,
    "start_time": "2024-06-29T19:37:30.142Z"
   },
   {
    "duration": 0,
    "start_time": "2024-06-29T19:37:30.143Z"
   },
   {
    "duration": 787,
    "start_time": "2024-06-29T19:37:51.005Z"
   },
   {
    "duration": 9,
    "start_time": "2024-06-29T19:43:57.472Z"
   },
   {
    "duration": 10,
    "start_time": "2024-06-29T19:44:29.925Z"
   },
   {
    "duration": 8,
    "start_time": "2024-06-29T19:56:18.766Z"
   },
   {
    "duration": 8,
    "start_time": "2024-06-29T19:59:21.243Z"
   },
   {
    "duration": 759,
    "start_time": "2024-06-29T20:12:09.241Z"
   },
   {
    "duration": 648,
    "start_time": "2024-06-29T20:12:20.219Z"
   },
   {
    "duration": 117,
    "start_time": "2024-06-29T20:12:20.869Z"
   },
   {
    "duration": 24,
    "start_time": "2024-06-29T20:12:20.989Z"
   },
   {
    "duration": 65,
    "start_time": "2024-06-29T20:12:21.016Z"
   },
   {
    "duration": 11,
    "start_time": "2024-06-29T20:12:21.083Z"
   },
   {
    "duration": 35,
    "start_time": "2024-06-29T20:12:21.096Z"
   },
   {
    "duration": 68,
    "start_time": "2024-06-29T20:12:21.134Z"
   },
   {
    "duration": 12,
    "start_time": "2024-06-29T20:12:21.204Z"
   },
   {
    "duration": 38,
    "start_time": "2024-06-29T20:12:21.217Z"
   },
   {
    "duration": 11,
    "start_time": "2024-06-29T20:12:21.258Z"
   },
   {
    "duration": 10,
    "start_time": "2024-06-29T20:12:21.271Z"
   },
   {
    "duration": 4,
    "start_time": "2024-06-29T20:12:21.283Z"
   },
   {
    "duration": 10,
    "start_time": "2024-06-29T20:12:21.289Z"
   },
   {
    "duration": 6,
    "start_time": "2024-06-29T20:12:21.301Z"
   },
   {
    "duration": 19,
    "start_time": "2024-06-29T20:12:21.309Z"
   },
   {
    "duration": 36,
    "start_time": "2024-06-29T20:12:21.330Z"
   },
   {
    "duration": 17,
    "start_time": "2024-06-29T20:12:21.368Z"
   },
   {
    "duration": 6,
    "start_time": "2024-06-29T20:12:21.386Z"
   },
   {
    "duration": 15,
    "start_time": "2024-06-29T20:12:21.394Z"
   },
   {
    "duration": 34,
    "start_time": "2024-06-29T20:12:21.410Z"
   },
   {
    "duration": 26,
    "start_time": "2024-06-29T20:12:21.446Z"
   },
   {
    "duration": 35,
    "start_time": "2024-06-29T20:12:21.474Z"
   },
   {
    "duration": 9,
    "start_time": "2024-06-29T20:12:21.510Z"
   },
   {
    "duration": 18,
    "start_time": "2024-06-29T20:12:21.521Z"
   },
   {
    "duration": 47,
    "start_time": "2024-06-29T20:12:21.541Z"
   },
   {
    "duration": 47,
    "start_time": "2024-06-29T20:12:21.590Z"
   },
   {
    "duration": 12,
    "start_time": "2024-06-29T20:12:21.639Z"
   },
   {
    "duration": 50,
    "start_time": "2024-06-29T20:12:21.654Z"
   },
   {
    "duration": 61,
    "start_time": "2024-06-29T20:12:21.706Z"
   },
   {
    "duration": 24,
    "start_time": "2024-06-29T20:12:21.768Z"
   },
   {
    "duration": 24,
    "start_time": "2024-06-29T20:12:21.794Z"
   },
   {
    "duration": 11,
    "start_time": "2024-06-29T20:13:44.380Z"
   },
   {
    "duration": 10,
    "start_time": "2024-06-29T20:13:53.367Z"
   },
   {
    "duration": 6,
    "start_time": "2024-06-29T20:13:57.927Z"
   },
   {
    "duration": 12,
    "start_time": "2024-06-29T20:13:58.476Z"
   },
   {
    "duration": 693,
    "start_time": "2024-06-29T20:14:06.256Z"
   },
   {
    "duration": 127,
    "start_time": "2024-06-29T20:14:06.951Z"
   },
   {
    "duration": 21,
    "start_time": "2024-06-29T20:14:07.080Z"
   },
   {
    "duration": 47,
    "start_time": "2024-06-29T20:14:07.104Z"
   },
   {
    "duration": 13,
    "start_time": "2024-06-29T20:14:07.157Z"
   },
   {
    "duration": 53,
    "start_time": "2024-06-29T20:14:07.172Z"
   },
   {
    "duration": 49,
    "start_time": "2024-06-29T20:14:07.227Z"
   },
   {
    "duration": 11,
    "start_time": "2024-06-29T20:14:07.277Z"
   },
   {
    "duration": 17,
    "start_time": "2024-06-29T20:14:07.289Z"
   },
   {
    "duration": 14,
    "start_time": "2024-06-29T20:14:07.309Z"
   },
   {
    "duration": 41,
    "start_time": "2024-06-29T20:14:07.325Z"
   },
   {
    "duration": 5,
    "start_time": "2024-06-29T20:14:07.368Z"
   },
   {
    "duration": 12,
    "start_time": "2024-06-29T20:14:07.375Z"
   },
   {
    "duration": 5,
    "start_time": "2024-06-29T20:14:07.389Z"
   },
   {
    "duration": 15,
    "start_time": "2024-06-29T20:14:07.396Z"
   },
   {
    "duration": 14,
    "start_time": "2024-06-29T20:14:07.413Z"
   },
   {
    "duration": 42,
    "start_time": "2024-06-29T20:14:07.429Z"
   },
   {
    "duration": 6,
    "start_time": "2024-06-29T20:14:07.473Z"
   },
   {
    "duration": 11,
    "start_time": "2024-06-29T20:14:07.480Z"
   },
   {
    "duration": 8,
    "start_time": "2024-06-29T20:14:07.492Z"
   },
   {
    "duration": 14,
    "start_time": "2024-06-29T20:14:07.501Z"
   },
   {
    "duration": 55,
    "start_time": "2024-06-29T20:14:07.517Z"
   },
   {
    "duration": 23,
    "start_time": "2024-06-29T20:14:07.574Z"
   },
   {
    "duration": 10,
    "start_time": "2024-06-29T20:14:07.599Z"
   },
   {
    "duration": 7,
    "start_time": "2024-06-29T20:14:07.611Z"
   },
   {
    "duration": 15,
    "start_time": "2024-06-29T20:14:07.621Z"
   },
   {
    "duration": 13,
    "start_time": "2024-06-29T20:14:07.637Z"
   },
   {
    "duration": 9,
    "start_time": "2024-06-29T20:14:07.661Z"
   },
   {
    "duration": 94,
    "start_time": "2024-06-29T20:14:07.671Z"
   },
   {
    "duration": 12,
    "start_time": "2024-06-29T20:14:07.767Z"
   },
   {
    "duration": 6,
    "start_time": "2024-06-29T20:14:07.780Z"
   },
   {
    "duration": 88,
    "start_time": "2024-06-29T20:15:01.622Z"
   },
   {
    "duration": 10,
    "start_time": "2024-06-29T20:15:33.943Z"
   },
   {
    "duration": 10,
    "start_time": "2024-06-29T20:15:43.735Z"
   },
   {
    "duration": 14,
    "start_time": "2024-06-29T20:15:56.978Z"
   },
   {
    "duration": 732,
    "start_time": "2024-06-29T20:16:08.241Z"
   },
   {
    "duration": 133,
    "start_time": "2024-06-29T20:16:08.975Z"
   },
   {
    "duration": 16,
    "start_time": "2024-06-29T20:16:09.109Z"
   },
   {
    "duration": 43,
    "start_time": "2024-06-29T20:16:09.127Z"
   },
   {
    "duration": 12,
    "start_time": "2024-06-29T20:16:09.172Z"
   },
   {
    "duration": 36,
    "start_time": "2024-06-29T20:16:09.185Z"
   },
   {
    "duration": 34,
    "start_time": "2024-06-29T20:16:09.223Z"
   },
   {
    "duration": 12,
    "start_time": "2024-06-29T20:16:09.258Z"
   },
   {
    "duration": 19,
    "start_time": "2024-06-29T20:16:09.272Z"
   },
   {
    "duration": 14,
    "start_time": "2024-06-29T20:16:09.294Z"
   },
   {
    "duration": 20,
    "start_time": "2024-06-29T20:16:09.310Z"
   },
   {
    "duration": 30,
    "start_time": "2024-06-29T20:16:09.331Z"
   },
   {
    "duration": 12,
    "start_time": "2024-06-29T20:16:09.363Z"
   },
   {
    "duration": 3,
    "start_time": "2024-06-29T20:16:09.377Z"
   },
   {
    "duration": 14,
    "start_time": "2024-06-29T20:16:09.382Z"
   },
   {
    "duration": 12,
    "start_time": "2024-06-29T20:16:09.398Z"
   },
   {
    "duration": 19,
    "start_time": "2024-06-29T20:16:09.412Z"
   },
   {
    "duration": 34,
    "start_time": "2024-06-29T20:16:09.432Z"
   },
   {
    "duration": 100,
    "start_time": "2024-06-29T20:16:09.468Z"
   },
   {
    "duration": 0,
    "start_time": "2024-06-29T20:16:09.570Z"
   },
   {
    "duration": 0,
    "start_time": "2024-06-29T20:16:09.571Z"
   },
   {
    "duration": 0,
    "start_time": "2024-06-29T20:16:09.572Z"
   },
   {
    "duration": 0,
    "start_time": "2024-06-29T20:16:09.573Z"
   },
   {
    "duration": 0,
    "start_time": "2024-06-29T20:16:09.574Z"
   },
   {
    "duration": 0,
    "start_time": "2024-06-29T20:16:09.576Z"
   },
   {
    "duration": 0,
    "start_time": "2024-06-29T20:16:09.577Z"
   },
   {
    "duration": 0,
    "start_time": "2024-06-29T20:16:09.578Z"
   },
   {
    "duration": 0,
    "start_time": "2024-06-29T20:16:09.579Z"
   },
   {
    "duration": 0,
    "start_time": "2024-06-29T20:16:09.580Z"
   },
   {
    "duration": 0,
    "start_time": "2024-06-29T20:16:09.581Z"
   },
   {
    "duration": 0,
    "start_time": "2024-06-29T20:16:09.582Z"
   },
   {
    "duration": 0,
    "start_time": "2024-06-29T20:16:09.583Z"
   },
   {
    "duration": 15,
    "start_time": "2024-06-29T20:22:17.924Z"
   },
   {
    "duration": 12,
    "start_time": "2024-06-29T20:22:41.986Z"
   },
   {
    "duration": 8,
    "start_time": "2024-06-29T20:26:26.502Z"
   },
   {
    "duration": 15,
    "start_time": "2024-06-29T20:26:35.312Z"
   },
   {
    "duration": 13,
    "start_time": "2024-06-29T20:27:27.918Z"
   },
   {
    "duration": 7,
    "start_time": "2024-06-29T20:27:31.650Z"
   },
   {
    "duration": 693,
    "start_time": "2024-06-29T20:27:59.158Z"
   },
   {
    "duration": 124,
    "start_time": "2024-06-29T20:27:59.854Z"
   },
   {
    "duration": 19,
    "start_time": "2024-06-29T20:27:59.979Z"
   },
   {
    "duration": 66,
    "start_time": "2024-06-29T20:28:00.000Z"
   },
   {
    "duration": 11,
    "start_time": "2024-06-29T20:28:00.068Z"
   },
   {
    "duration": 48,
    "start_time": "2024-06-29T20:28:00.081Z"
   },
   {
    "duration": 62,
    "start_time": "2024-06-29T20:28:00.131Z"
   },
   {
    "duration": 17,
    "start_time": "2024-06-29T20:28:00.196Z"
   },
   {
    "duration": 59,
    "start_time": "2024-06-29T20:28:00.215Z"
   },
   {
    "duration": 58,
    "start_time": "2024-06-29T20:28:00.277Z"
   },
   {
    "duration": 64,
    "start_time": "2024-06-29T20:28:00.337Z"
   },
   {
    "duration": 45,
    "start_time": "2024-06-29T20:28:00.403Z"
   },
   {
    "duration": 74,
    "start_time": "2024-06-29T20:28:00.450Z"
   },
   {
    "duration": 75,
    "start_time": "2024-06-29T20:28:00.526Z"
   },
   {
    "duration": 161,
    "start_time": "2024-06-29T20:28:00.603Z"
   },
   {
    "duration": 73,
    "start_time": "2024-06-29T20:28:00.766Z"
   },
   {
    "duration": 47,
    "start_time": "2024-06-29T20:28:00.841Z"
   },
   {
    "duration": 41,
    "start_time": "2024-06-29T20:28:00.890Z"
   },
   {
    "duration": 39,
    "start_time": "2024-06-29T20:28:00.933Z"
   },
   {
    "duration": 88,
    "start_time": "2024-06-29T20:28:00.973Z"
   },
   {
    "duration": 50,
    "start_time": "2024-06-29T20:28:01.062Z"
   },
   {
    "duration": 60,
    "start_time": "2024-06-29T20:28:01.114Z"
   },
   {
    "duration": 122,
    "start_time": "2024-06-29T20:28:01.176Z"
   },
   {
    "duration": 70,
    "start_time": "2024-06-29T20:28:01.301Z"
   },
   {
    "duration": 29,
    "start_time": "2024-06-29T20:28:01.373Z"
   },
   {
    "duration": 25,
    "start_time": "2024-06-29T20:28:01.404Z"
   },
   {
    "duration": 52,
    "start_time": "2024-06-29T20:28:01.431Z"
   },
   {
    "duration": 30,
    "start_time": "2024-06-29T20:28:01.486Z"
   },
   {
    "duration": 22,
    "start_time": "2024-06-29T20:28:01.518Z"
   },
   {
    "duration": 38,
    "start_time": "2024-06-29T20:28:01.542Z"
   },
   {
    "duration": 28,
    "start_time": "2024-06-29T20:28:01.581Z"
   },
   {
    "duration": 12,
    "start_time": "2024-06-29T20:28:01.611Z"
   },
   {
    "duration": 8,
    "start_time": "2024-06-29T20:28:01.624Z"
   },
   {
    "duration": 75,
    "start_time": "2024-06-29T20:31:15.152Z"
   },
   {
    "duration": 708,
    "start_time": "2024-06-29T20:31:21.243Z"
   },
   {
    "duration": 115,
    "start_time": "2024-06-29T20:31:21.953Z"
   },
   {
    "duration": 18,
    "start_time": "2024-06-29T20:31:22.072Z"
   },
   {
    "duration": 43,
    "start_time": "2024-06-29T20:31:22.092Z"
   },
   {
    "duration": 12,
    "start_time": "2024-06-29T20:31:22.136Z"
   },
   {
    "duration": 5,
    "start_time": "2024-06-29T20:31:22.150Z"
   },
   {
    "duration": 34,
    "start_time": "2024-06-29T20:31:22.157Z"
   },
   {
    "duration": 12,
    "start_time": "2024-06-29T20:31:22.192Z"
   },
   {
    "duration": 24,
    "start_time": "2024-06-29T20:31:22.207Z"
   },
   {
    "duration": 36,
    "start_time": "2024-06-29T20:31:22.233Z"
   },
   {
    "duration": 9,
    "start_time": "2024-06-29T20:31:22.271Z"
   },
   {
    "duration": 3,
    "start_time": "2024-06-29T20:31:22.282Z"
   },
   {
    "duration": 10,
    "start_time": "2024-06-29T20:31:22.287Z"
   },
   {
    "duration": 6,
    "start_time": "2024-06-29T20:31:22.299Z"
   },
   {
    "duration": 10,
    "start_time": "2024-06-29T20:31:22.307Z"
   },
   {
    "duration": 45,
    "start_time": "2024-06-29T20:31:22.319Z"
   },
   {
    "duration": 19,
    "start_time": "2024-06-29T20:31:22.366Z"
   },
   {
    "duration": 21,
    "start_time": "2024-06-29T20:31:22.387Z"
   },
   {
    "duration": 5,
    "start_time": "2024-06-29T20:31:22.410Z"
   },
   {
    "duration": 45,
    "start_time": "2024-06-29T20:31:22.417Z"
   },
   {
    "duration": 12,
    "start_time": "2024-06-29T20:31:22.463Z"
   },
   {
    "duration": 85,
    "start_time": "2024-06-29T20:31:22.477Z"
   },
   {
    "duration": 0,
    "start_time": "2024-06-29T20:31:22.564Z"
   },
   {
    "duration": 0,
    "start_time": "2024-06-29T20:31:22.565Z"
   },
   {
    "duration": 0,
    "start_time": "2024-06-29T20:31:22.566Z"
   },
   {
    "duration": 0,
    "start_time": "2024-06-29T20:31:22.568Z"
   },
   {
    "duration": 0,
    "start_time": "2024-06-29T20:31:22.569Z"
   },
   {
    "duration": 0,
    "start_time": "2024-06-29T20:31:22.571Z"
   },
   {
    "duration": 0,
    "start_time": "2024-06-29T20:31:22.573Z"
   },
   {
    "duration": 0,
    "start_time": "2024-06-29T20:31:22.574Z"
   },
   {
    "duration": 0,
    "start_time": "2024-06-29T20:31:22.576Z"
   },
   {
    "duration": 0,
    "start_time": "2024-06-29T20:31:22.578Z"
   },
   {
    "duration": 0,
    "start_time": "2024-06-29T20:31:22.579Z"
   },
   {
    "duration": 10,
    "start_time": "2024-06-29T20:31:39.734Z"
   },
   {
    "duration": 15,
    "start_time": "2024-06-29T20:32:06.036Z"
   },
   {
    "duration": 5,
    "start_time": "2024-06-29T20:32:07.435Z"
   },
   {
    "duration": 5,
    "start_time": "2024-06-29T20:32:54.376Z"
   },
   {
    "duration": 6,
    "start_time": "2024-06-29T20:32:55.252Z"
   },
   {
    "duration": 6,
    "start_time": "2024-06-29T20:34:27.659Z"
   },
   {
    "duration": 9,
    "start_time": "2024-06-29T20:34:29.813Z"
   },
   {
    "duration": 20,
    "start_time": "2024-06-29T20:34:32.708Z"
   },
   {
    "duration": 12,
    "start_time": "2024-06-29T20:34:42.709Z"
   },
   {
    "duration": 8,
    "start_time": "2024-06-29T20:34:49.748Z"
   },
   {
    "duration": 42,
    "start_time": "2024-06-30T07:15:29.482Z"
   },
   {
    "duration": 634,
    "start_time": "2024-06-30T07:15:33.917Z"
   },
   {
    "duration": 282,
    "start_time": "2024-06-30T07:15:34.553Z"
   },
   {
    "duration": 11,
    "start_time": "2024-06-30T07:15:34.836Z"
   },
   {
    "duration": 153,
    "start_time": "2024-06-30T07:15:34.849Z"
   },
   {
    "duration": 8,
    "start_time": "2024-06-30T07:15:35.003Z"
   },
   {
    "duration": 13,
    "start_time": "2024-06-30T07:15:35.012Z"
   },
   {
    "duration": 45,
    "start_time": "2024-06-30T07:15:35.026Z"
   },
   {
    "duration": 11,
    "start_time": "2024-06-30T07:15:35.072Z"
   },
   {
    "duration": 34,
    "start_time": "2024-06-30T07:15:35.084Z"
   },
   {
    "duration": 11,
    "start_time": "2024-06-30T07:15:35.119Z"
   },
   {
    "duration": 14,
    "start_time": "2024-06-30T07:15:35.131Z"
   },
   {
    "duration": 26,
    "start_time": "2024-06-30T07:15:35.146Z"
   },
   {
    "duration": 35,
    "start_time": "2024-06-30T07:15:35.173Z"
   },
   {
    "duration": 11,
    "start_time": "2024-06-30T07:15:35.209Z"
   },
   {
    "duration": 37,
    "start_time": "2024-06-30T07:15:35.221Z"
   },
   {
    "duration": 41,
    "start_time": "2024-06-30T07:15:35.260Z"
   },
   {
    "duration": 28,
    "start_time": "2024-06-30T07:15:35.302Z"
   },
   {
    "duration": 116,
    "start_time": "2024-06-30T07:15:35.331Z"
   },
   {
    "duration": 66,
    "start_time": "2024-06-30T07:15:35.448Z"
   },
   {
    "duration": 28,
    "start_time": "2024-06-30T07:15:35.515Z"
   },
   {
    "duration": 27,
    "start_time": "2024-06-30T07:15:35.544Z"
   },
   {
    "duration": 32,
    "start_time": "2024-06-30T07:15:35.572Z"
   },
   {
    "duration": 5,
    "start_time": "2024-06-30T07:15:35.605Z"
   },
   {
    "duration": 23,
    "start_time": "2024-06-30T07:15:35.611Z"
   },
   {
    "duration": 26,
    "start_time": "2024-06-30T07:15:35.635Z"
   },
   {
    "duration": 43,
    "start_time": "2024-06-30T07:15:35.662Z"
   },
   {
    "duration": 18,
    "start_time": "2024-06-30T07:15:35.706Z"
   },
   {
    "duration": 26,
    "start_time": "2024-06-30T07:15:35.726Z"
   },
   {
    "duration": 32,
    "start_time": "2024-06-30T07:15:35.753Z"
   },
   {
    "duration": 173,
    "start_time": "2024-06-30T07:15:35.786Z"
   },
   {
    "duration": 0,
    "start_time": "2024-06-30T07:15:35.960Z"
   },
   {
    "duration": 0,
    "start_time": "2024-06-30T07:15:35.961Z"
   },
   {
    "duration": 7,
    "start_time": "2024-06-30T07:16:59.719Z"
   },
   {
    "duration": 11,
    "start_time": "2024-06-30T07:24:58.546Z"
   },
   {
    "duration": 4,
    "start_time": "2024-06-30T07:29:11.641Z"
   },
   {
    "duration": 2,
    "start_time": "2024-06-30T07:29:15.716Z"
   },
   {
    "duration": 7,
    "start_time": "2024-06-30T07:29:21.210Z"
   },
   {
    "duration": 529,
    "start_time": "2024-06-30T07:29:27.999Z"
   },
   {
    "duration": 86,
    "start_time": "2024-06-30T07:29:28.529Z"
   },
   {
    "duration": 11,
    "start_time": "2024-06-30T07:29:28.617Z"
   },
   {
    "duration": 38,
    "start_time": "2024-06-30T07:29:28.629Z"
   },
   {
    "duration": 7,
    "start_time": "2024-06-30T07:29:28.668Z"
   },
   {
    "duration": 6,
    "start_time": "2024-06-30T07:29:28.676Z"
   },
   {
    "duration": 23,
    "start_time": "2024-06-30T07:29:28.683Z"
   },
   {
    "duration": 9,
    "start_time": "2024-06-30T07:29:28.707Z"
   },
   {
    "duration": 9,
    "start_time": "2024-06-30T07:29:28.717Z"
   },
   {
    "duration": 6,
    "start_time": "2024-06-30T07:29:28.727Z"
   },
   {
    "duration": 32,
    "start_time": "2024-06-30T07:29:28.734Z"
   },
   {
    "duration": 43,
    "start_time": "2024-06-30T07:29:28.767Z"
   },
   {
    "duration": 8,
    "start_time": "2024-06-30T07:29:28.811Z"
   },
   {
    "duration": 3,
    "start_time": "2024-06-30T07:29:28.820Z"
   },
   {
    "duration": 7,
    "start_time": "2024-06-30T07:29:28.824Z"
   },
   {
    "duration": 7,
    "start_time": "2024-06-30T07:29:28.832Z"
   },
   {
    "duration": 8,
    "start_time": "2024-06-30T07:29:28.840Z"
   },
   {
    "duration": 8,
    "start_time": "2024-06-30T07:29:28.849Z"
   },
   {
    "duration": 6,
    "start_time": "2024-06-30T07:29:28.858Z"
   },
   {
    "duration": 23,
    "start_time": "2024-06-30T07:29:28.865Z"
   },
   {
    "duration": 76,
    "start_time": "2024-06-30T07:29:28.889Z"
   },
   {
    "duration": 15,
    "start_time": "2024-06-30T07:29:28.966Z"
   },
   {
    "duration": 15,
    "start_time": "2024-06-30T07:29:28.982Z"
   },
   {
    "duration": 46,
    "start_time": "2024-06-30T07:29:28.998Z"
   },
   {
    "duration": 26,
    "start_time": "2024-06-30T07:29:29.045Z"
   },
   {
    "duration": 31,
    "start_time": "2024-06-30T07:29:29.072Z"
   },
   {
    "duration": 23,
    "start_time": "2024-06-30T07:29:29.105Z"
   },
   {
    "duration": 5,
    "start_time": "2024-06-30T07:29:29.130Z"
   },
   {
    "duration": 12,
    "start_time": "2024-06-30T07:29:29.136Z"
   },
   {
    "duration": 8,
    "start_time": "2024-06-30T07:29:29.149Z"
   },
   {
    "duration": 18,
    "start_time": "2024-06-30T07:29:29.158Z"
   },
   {
    "duration": 43,
    "start_time": "2024-06-30T07:29:29.177Z"
   },
   {
    "duration": 0,
    "start_time": "2024-06-30T07:29:29.221Z"
   },
   {
    "duration": 0,
    "start_time": "2024-06-30T07:29:29.222Z"
   },
   {
    "duration": 550,
    "start_time": "2024-06-30T08:44:17.589Z"
   },
   {
    "duration": 86,
    "start_time": "2024-06-30T08:44:18.140Z"
   },
   {
    "duration": 12,
    "start_time": "2024-06-30T08:44:18.227Z"
   },
   {
    "duration": 99,
    "start_time": "2024-06-30T08:44:18.240Z"
   },
   {
    "duration": 9,
    "start_time": "2024-06-30T08:44:18.340Z"
   },
   {
    "duration": 5,
    "start_time": "2024-06-30T08:44:18.350Z"
   },
   {
    "duration": 26,
    "start_time": "2024-06-30T08:44:18.356Z"
   },
   {
    "duration": 12,
    "start_time": "2024-06-30T08:44:18.383Z"
   },
   {
    "duration": 7,
    "start_time": "2024-06-30T08:44:18.396Z"
   },
   {
    "duration": 12,
    "start_time": "2024-06-30T08:44:18.405Z"
   },
   {
    "duration": 39,
    "start_time": "2024-06-30T08:44:18.418Z"
   },
   {
    "duration": 3,
    "start_time": "2024-06-30T08:44:18.458Z"
   },
   {
    "duration": 16,
    "start_time": "2024-06-30T08:44:18.462Z"
   },
   {
    "duration": 15,
    "start_time": "2024-06-30T08:44:18.479Z"
   },
   {
    "duration": 13,
    "start_time": "2024-06-30T08:44:18.496Z"
   },
   {
    "duration": 17,
    "start_time": "2024-06-30T08:44:18.510Z"
   },
   {
    "duration": 11,
    "start_time": "2024-06-30T08:44:18.528Z"
   },
   {
    "duration": 31,
    "start_time": "2024-06-30T08:44:18.540Z"
   },
   {
    "duration": 13,
    "start_time": "2024-06-30T08:44:18.572Z"
   },
   {
    "duration": 19,
    "start_time": "2024-06-30T08:44:18.586Z"
   },
   {
    "duration": 7,
    "start_time": "2024-06-30T08:44:18.606Z"
   },
   {
    "duration": 25,
    "start_time": "2024-06-30T08:44:18.614Z"
   },
   {
    "duration": 9,
    "start_time": "2024-06-30T08:44:18.641Z"
   },
   {
    "duration": 19,
    "start_time": "2024-06-30T08:44:18.650Z"
   },
   {
    "duration": 23,
    "start_time": "2024-06-30T08:44:18.670Z"
   },
   {
    "duration": 26,
    "start_time": "2024-06-30T08:44:18.694Z"
   },
   {
    "duration": 15,
    "start_time": "2024-06-30T08:44:18.721Z"
   },
   {
    "duration": 6,
    "start_time": "2024-06-30T08:44:18.739Z"
   },
   {
    "duration": 5,
    "start_time": "2024-06-30T08:44:18.746Z"
   },
   {
    "duration": 4,
    "start_time": "2024-06-30T08:44:18.752Z"
   },
   {
    "duration": 6,
    "start_time": "2024-06-30T08:44:18.758Z"
   },
   {
    "duration": 73,
    "start_time": "2024-06-30T08:44:18.765Z"
   },
   {
    "duration": 8,
    "start_time": "2024-06-30T08:44:18.839Z"
   },
   {
    "duration": 4,
    "start_time": "2024-06-30T08:44:18.849Z"
   },
   {
    "duration": 8,
    "start_time": "2024-06-30T08:47:16.522Z"
   },
   {
    "duration": 6,
    "start_time": "2024-06-30T08:47:49.647Z"
   },
   {
    "duration": 5,
    "start_time": "2024-06-30T08:48:08.663Z"
   },
   {
    "duration": 62,
    "start_time": "2024-06-30T08:48:28.623Z"
   },
   {
    "duration": 4,
    "start_time": "2024-06-30T08:48:44.187Z"
   },
   {
    "duration": 9,
    "start_time": "2024-06-30T08:48:51.904Z"
   },
   {
    "duration": 12,
    "start_time": "2024-06-30T08:49:12.795Z"
   },
   {
    "duration": 8,
    "start_time": "2024-06-30T08:49:39.019Z"
   },
   {
    "duration": 15,
    "start_time": "2024-06-30T08:50:01.295Z"
   },
   {
    "duration": 524,
    "start_time": "2024-06-30T08:51:35.410Z"
   },
   {
    "duration": 92,
    "start_time": "2024-06-30T08:51:35.935Z"
   },
   {
    "duration": 10,
    "start_time": "2024-06-30T08:51:36.029Z"
   },
   {
    "duration": 49,
    "start_time": "2024-06-30T08:51:36.040Z"
   },
   {
    "duration": 10,
    "start_time": "2024-06-30T08:51:36.090Z"
   },
   {
    "duration": 69,
    "start_time": "2024-06-30T08:51:36.101Z"
   },
   {
    "duration": 36,
    "start_time": "2024-06-30T08:51:36.172Z"
   },
   {
    "duration": 9,
    "start_time": "2024-06-30T08:51:36.210Z"
   },
   {
    "duration": 23,
    "start_time": "2024-06-30T08:51:36.220Z"
   },
   {
    "duration": 6,
    "start_time": "2024-06-30T08:51:36.244Z"
   },
   {
    "duration": 61,
    "start_time": "2024-06-30T08:51:36.251Z"
   },
   {
    "duration": 16,
    "start_time": "2024-06-30T08:51:36.313Z"
   },
   {
    "duration": 14,
    "start_time": "2024-06-30T08:51:36.330Z"
   },
   {
    "duration": 18,
    "start_time": "2024-06-30T08:51:36.345Z"
   },
   {
    "duration": 55,
    "start_time": "2024-06-30T08:51:36.364Z"
   },
   {
    "duration": 10,
    "start_time": "2024-06-30T08:51:36.420Z"
   },
   {
    "duration": 15,
    "start_time": "2024-06-30T08:51:36.431Z"
   },
   {
    "duration": 8,
    "start_time": "2024-06-30T08:51:36.447Z"
   },
   {
    "duration": 41,
    "start_time": "2024-06-30T08:51:36.456Z"
   },
   {
    "duration": 32,
    "start_time": "2024-06-30T08:51:36.498Z"
   },
   {
    "duration": 4,
    "start_time": "2024-06-30T08:51:36.531Z"
   },
   {
    "duration": 9,
    "start_time": "2024-06-30T08:51:36.536Z"
   },
   {
    "duration": 24,
    "start_time": "2024-06-30T08:51:36.546Z"
   },
   {
    "duration": 39,
    "start_time": "2024-06-30T08:51:36.571Z"
   },
   {
    "duration": 14,
    "start_time": "2024-06-30T08:51:36.611Z"
   },
   {
    "duration": 3,
    "start_time": "2024-06-30T08:51:36.627Z"
   },
   {
    "duration": 11,
    "start_time": "2024-06-30T08:51:36.631Z"
   },
   {
    "duration": 6,
    "start_time": "2024-06-30T08:51:36.644Z"
   },
   {
    "duration": 29,
    "start_time": "2024-06-30T08:51:36.651Z"
   },
   {
    "duration": 16,
    "start_time": "2024-06-30T08:51:36.681Z"
   },
   {
    "duration": 14,
    "start_time": "2024-06-30T08:51:36.698Z"
   },
   {
    "duration": 16,
    "start_time": "2024-06-30T08:51:36.713Z"
   },
   {
    "duration": 12,
    "start_time": "2024-06-30T08:51:36.730Z"
   },
   {
    "duration": 10,
    "start_time": "2024-06-30T08:51:36.743Z"
   },
   {
    "duration": 28,
    "start_time": "2024-06-30T08:51:36.754Z"
   },
   {
    "duration": 44,
    "start_time": "2024-06-30T08:51:36.783Z"
   },
   {
    "duration": 59,
    "start_time": "2024-06-30T08:53:09.491Z"
   },
   {
    "duration": 49,
    "start_time": "2024-06-30T08:57:56.974Z"
   },
   {
    "duration": 44,
    "start_time": "2024-06-30T08:58:10.911Z"
   },
   {
    "duration": 51,
    "start_time": "2024-06-30T08:58:30.471Z"
   },
   {
    "duration": 58,
    "start_time": "2024-06-30T08:59:20.960Z"
   },
   {
    "duration": 8,
    "start_time": "2024-06-30T08:59:32.979Z"
   },
   {
    "duration": 6,
    "start_time": "2024-06-30T09:00:06.980Z"
   },
   {
    "duration": 9,
    "start_time": "2024-06-30T09:19:44.218Z"
   },
   {
    "duration": 7,
    "start_time": "2024-06-30T09:20:07.223Z"
   },
   {
    "duration": 4,
    "start_time": "2024-06-30T09:20:31.066Z"
   },
   {
    "duration": 7,
    "start_time": "2024-06-30T09:20:31.634Z"
   },
   {
    "duration": 555,
    "start_time": "2024-06-30T09:23:43.486Z"
   },
   {
    "duration": 87,
    "start_time": "2024-06-30T09:23:44.042Z"
   },
   {
    "duration": 13,
    "start_time": "2024-06-30T09:23:44.130Z"
   },
   {
    "duration": 42,
    "start_time": "2024-06-30T09:23:44.145Z"
   },
   {
    "duration": 8,
    "start_time": "2024-06-30T09:23:44.188Z"
   },
   {
    "duration": 53,
    "start_time": "2024-06-30T09:23:44.197Z"
   },
   {
    "duration": 24,
    "start_time": "2024-06-30T09:23:44.251Z"
   },
   {
    "duration": 9,
    "start_time": "2024-06-30T09:23:44.277Z"
   },
   {
    "duration": 12,
    "start_time": "2024-06-30T09:23:44.287Z"
   },
   {
    "duration": 9,
    "start_time": "2024-06-30T09:23:44.300Z"
   },
   {
    "duration": 12,
    "start_time": "2024-06-30T09:23:44.310Z"
   },
   {
    "duration": 22,
    "start_time": "2024-06-30T09:23:44.323Z"
   },
   {
    "duration": 71,
    "start_time": "2024-06-30T09:23:44.346Z"
   },
   {
    "duration": 11,
    "start_time": "2024-06-30T09:23:44.418Z"
   },
   {
    "duration": 9,
    "start_time": "2024-06-30T09:23:44.430Z"
   },
   {
    "duration": 19,
    "start_time": "2024-06-30T09:23:44.441Z"
   },
   {
    "duration": 38,
    "start_time": "2024-06-30T09:23:44.461Z"
   },
   {
    "duration": 10,
    "start_time": "2024-06-30T09:23:44.500Z"
   },
   {
    "duration": 13,
    "start_time": "2024-06-30T09:23:44.511Z"
   },
   {
    "duration": 18,
    "start_time": "2024-06-30T09:23:44.525Z"
   },
   {
    "duration": 10,
    "start_time": "2024-06-30T09:23:44.544Z"
   },
   {
    "duration": 26,
    "start_time": "2024-06-30T09:23:44.555Z"
   },
   {
    "duration": 6,
    "start_time": "2024-06-30T09:23:44.582Z"
   },
   {
    "duration": 21,
    "start_time": "2024-06-30T09:23:44.589Z"
   },
   {
    "duration": 13,
    "start_time": "2024-06-30T09:23:44.611Z"
   },
   {
    "duration": 3,
    "start_time": "2024-06-30T09:23:44.625Z"
   },
   {
    "duration": 7,
    "start_time": "2024-06-30T09:23:44.629Z"
   },
   {
    "duration": 9,
    "start_time": "2024-06-30T09:23:44.638Z"
   },
   {
    "duration": 8,
    "start_time": "2024-06-30T09:23:44.648Z"
   },
   {
    "duration": 10,
    "start_time": "2024-06-30T09:23:44.658Z"
   },
   {
    "duration": 15,
    "start_time": "2024-06-30T09:23:44.669Z"
   },
   {
    "duration": 8,
    "start_time": "2024-06-30T09:23:44.689Z"
   },
   {
    "duration": 5,
    "start_time": "2024-06-30T09:23:44.698Z"
   },
   {
    "duration": 270,
    "start_time": "2024-06-30T09:28:15.221Z"
   },
   {
    "duration": 4,
    "start_time": "2024-06-30T09:30:33.548Z"
   },
   {
    "duration": 544,
    "start_time": "2024-06-30T09:30:39.696Z"
   },
   {
    "duration": 87,
    "start_time": "2024-06-30T09:30:40.242Z"
   },
   {
    "duration": 10,
    "start_time": "2024-06-30T09:30:40.330Z"
   },
   {
    "duration": 48,
    "start_time": "2024-06-30T09:30:40.342Z"
   },
   {
    "duration": 48,
    "start_time": "2024-06-30T09:30:40.391Z"
   },
   {
    "duration": 20,
    "start_time": "2024-06-30T09:30:40.440Z"
   },
   {
    "duration": 32,
    "start_time": "2024-06-30T09:30:40.461Z"
   },
   {
    "duration": 10,
    "start_time": "2024-06-30T09:30:40.494Z"
   },
   {
    "duration": 7,
    "start_time": "2024-06-30T09:30:40.505Z"
   },
   {
    "duration": 6,
    "start_time": "2024-06-30T09:30:40.514Z"
   },
   {
    "duration": 4,
    "start_time": "2024-06-30T09:30:40.520Z"
   },
   {
    "duration": 19,
    "start_time": "2024-06-30T09:30:40.525Z"
   },
   {
    "duration": 7,
    "start_time": "2024-06-30T09:30:40.545Z"
   },
   {
    "duration": 2,
    "start_time": "2024-06-30T09:30:40.553Z"
   },
   {
    "duration": 12,
    "start_time": "2024-06-30T09:30:40.556Z"
   },
   {
    "duration": 7,
    "start_time": "2024-06-30T09:30:40.570Z"
   },
   {
    "duration": 25,
    "start_time": "2024-06-30T09:30:40.578Z"
   },
   {
    "duration": 28,
    "start_time": "2024-06-30T09:30:40.604Z"
   },
   {
    "duration": 23,
    "start_time": "2024-06-30T09:30:40.633Z"
   },
   {
    "duration": 9,
    "start_time": "2024-06-30T09:30:40.657Z"
   },
   {
    "duration": 26,
    "start_time": "2024-06-30T09:30:40.667Z"
   },
   {
    "duration": 8,
    "start_time": "2024-06-30T09:30:40.694Z"
   },
   {
    "duration": 25,
    "start_time": "2024-06-30T09:30:40.703Z"
   },
   {
    "duration": 8,
    "start_time": "2024-06-30T09:30:40.729Z"
   },
   {
    "duration": 4,
    "start_time": "2024-06-30T09:30:40.739Z"
   },
   {
    "duration": 11,
    "start_time": "2024-06-30T09:30:40.744Z"
   },
   {
    "duration": 6,
    "start_time": "2024-06-30T09:30:40.757Z"
   },
   {
    "duration": 3,
    "start_time": "2024-06-30T09:30:40.766Z"
   },
   {
    "duration": 19,
    "start_time": "2024-06-30T09:30:40.770Z"
   },
   {
    "duration": 6,
    "start_time": "2024-06-30T09:30:40.790Z"
   },
   {
    "duration": 28,
    "start_time": "2024-06-30T09:30:40.797Z"
   },
   {
    "duration": 13,
    "start_time": "2024-06-30T09:30:40.826Z"
   },
   {
    "duration": 10,
    "start_time": "2024-06-30T09:30:40.840Z"
   },
   {
    "duration": 8,
    "start_time": "2024-06-30T09:30:40.851Z"
   },
   {
    "duration": 11,
    "start_time": "2024-06-30T09:30:40.860Z"
   },
   {
    "duration": 3,
    "start_time": "2024-06-30T09:40:02.891Z"
   },
   {
    "duration": 5,
    "start_time": "2024-06-30T09:40:14.612Z"
   },
   {
    "duration": 62,
    "start_time": "2024-06-30T09:41:27.166Z"
   },
   {
    "duration": 6,
    "start_time": "2024-06-30T09:41:52.190Z"
   },
   {
    "duration": 9,
    "start_time": "2024-06-30T09:42:13.283Z"
   },
   {
    "duration": 8,
    "start_time": "2024-06-30T09:42:24.710Z"
   },
   {
    "duration": 9,
    "start_time": "2024-06-30T09:42:57.992Z"
   },
   {
    "duration": 495,
    "start_time": "2024-06-30T09:43:04.837Z"
   },
   {
    "duration": 86,
    "start_time": "2024-06-30T09:43:05.333Z"
   },
   {
    "duration": 10,
    "start_time": "2024-06-30T09:43:05.420Z"
   },
   {
    "duration": 39,
    "start_time": "2024-06-30T09:43:05.432Z"
   },
   {
    "duration": 7,
    "start_time": "2024-06-30T09:43:05.472Z"
   },
   {
    "duration": 113,
    "start_time": "2024-06-30T09:43:05.480Z"
   },
   {
    "duration": 63,
    "start_time": "2024-06-30T09:43:05.594Z"
   },
   {
    "duration": 10,
    "start_time": "2024-06-30T09:43:05.658Z"
   },
   {
    "duration": 8,
    "start_time": "2024-06-30T09:43:05.669Z"
   },
   {
    "duration": 26,
    "start_time": "2024-06-30T09:43:05.678Z"
   },
   {
    "duration": 16,
    "start_time": "2024-06-30T09:43:05.705Z"
   },
   {
    "duration": 53,
    "start_time": "2024-06-30T09:43:05.722Z"
   },
   {
    "duration": 167,
    "start_time": "2024-06-30T09:43:05.776Z"
   },
   {
    "duration": 157,
    "start_time": "2024-06-30T09:43:05.944Z"
   },
   {
    "duration": 0,
    "start_time": "2024-06-30T09:43:06.103Z"
   },
   {
    "duration": 0,
    "start_time": "2024-06-30T09:43:06.103Z"
   },
   {
    "duration": 0,
    "start_time": "2024-06-30T09:43:06.104Z"
   },
   {
    "duration": 0,
    "start_time": "2024-06-30T09:43:06.105Z"
   },
   {
    "duration": 0,
    "start_time": "2024-06-30T09:43:06.105Z"
   },
   {
    "duration": 0,
    "start_time": "2024-06-30T09:43:06.106Z"
   },
   {
    "duration": 0,
    "start_time": "2024-06-30T09:43:06.107Z"
   },
   {
    "duration": 0,
    "start_time": "2024-06-30T09:43:06.107Z"
   },
   {
    "duration": 0,
    "start_time": "2024-06-30T09:43:06.108Z"
   },
   {
    "duration": 0,
    "start_time": "2024-06-30T09:43:06.108Z"
   },
   {
    "duration": 0,
    "start_time": "2024-06-30T09:43:06.109Z"
   },
   {
    "duration": 0,
    "start_time": "2024-06-30T09:43:06.110Z"
   },
   {
    "duration": 0,
    "start_time": "2024-06-30T09:43:06.110Z"
   },
   {
    "duration": 0,
    "start_time": "2024-06-30T09:43:06.111Z"
   },
   {
    "duration": 0,
    "start_time": "2024-06-30T09:43:06.111Z"
   },
   {
    "duration": 0,
    "start_time": "2024-06-30T09:43:06.112Z"
   },
   {
    "duration": 0,
    "start_time": "2024-06-30T09:43:06.113Z"
   },
   {
    "duration": 0,
    "start_time": "2024-06-30T09:43:06.113Z"
   },
   {
    "duration": 0,
    "start_time": "2024-06-30T09:43:06.114Z"
   },
   {
    "duration": 1,
    "start_time": "2024-06-30T09:43:06.114Z"
   },
   {
    "duration": 0,
    "start_time": "2024-06-30T09:43:06.115Z"
   },
   {
    "duration": 0,
    "start_time": "2024-06-30T09:43:06.116Z"
   },
   {
    "duration": 0,
    "start_time": "2024-06-30T09:43:06.116Z"
   },
   {
    "duration": 9,
    "start_time": "2024-06-30T09:43:32.398Z"
   },
   {
    "duration": 473,
    "start_time": "2024-06-30T09:43:37.449Z"
   },
   {
    "duration": 96,
    "start_time": "2024-06-30T09:43:37.923Z"
   },
   {
    "duration": 10,
    "start_time": "2024-06-30T09:43:38.020Z"
   },
   {
    "duration": 44,
    "start_time": "2024-06-30T09:43:38.031Z"
   },
   {
    "duration": 7,
    "start_time": "2024-06-30T09:43:38.076Z"
   },
   {
    "duration": 6,
    "start_time": "2024-06-30T09:43:38.084Z"
   },
   {
    "duration": 21,
    "start_time": "2024-06-30T09:43:38.091Z"
   },
   {
    "duration": 20,
    "start_time": "2024-06-30T09:43:38.113Z"
   },
   {
    "duration": 18,
    "start_time": "2024-06-30T09:43:38.134Z"
   },
   {
    "duration": 17,
    "start_time": "2024-06-30T09:43:38.154Z"
   },
   {
    "duration": 16,
    "start_time": "2024-06-30T09:43:38.172Z"
   },
   {
    "duration": 6,
    "start_time": "2024-06-30T09:43:38.189Z"
   },
   {
    "duration": 12,
    "start_time": "2024-06-30T09:43:38.196Z"
   },
   {
    "duration": 58,
    "start_time": "2024-06-30T09:43:38.209Z"
   },
   {
    "duration": 0,
    "start_time": "2024-06-30T09:43:38.268Z"
   },
   {
    "duration": 0,
    "start_time": "2024-06-30T09:43:38.269Z"
   },
   {
    "duration": 0,
    "start_time": "2024-06-30T09:43:38.269Z"
   },
   {
    "duration": 0,
    "start_time": "2024-06-30T09:43:38.270Z"
   },
   {
    "duration": 0,
    "start_time": "2024-06-30T09:43:38.271Z"
   },
   {
    "duration": 0,
    "start_time": "2024-06-30T09:43:38.271Z"
   },
   {
    "duration": 0,
    "start_time": "2024-06-30T09:43:38.272Z"
   },
   {
    "duration": 0,
    "start_time": "2024-06-30T09:43:38.273Z"
   },
   {
    "duration": 0,
    "start_time": "2024-06-30T09:43:38.273Z"
   },
   {
    "duration": 0,
    "start_time": "2024-06-30T09:43:38.274Z"
   },
   {
    "duration": 0,
    "start_time": "2024-06-30T09:43:38.274Z"
   },
   {
    "duration": 0,
    "start_time": "2024-06-30T09:43:38.275Z"
   },
   {
    "duration": 0,
    "start_time": "2024-06-30T09:43:38.276Z"
   },
   {
    "duration": 0,
    "start_time": "2024-06-30T09:43:38.276Z"
   },
   {
    "duration": 0,
    "start_time": "2024-06-30T09:43:38.277Z"
   },
   {
    "duration": 0,
    "start_time": "2024-06-30T09:43:38.289Z"
   },
   {
    "duration": 0,
    "start_time": "2024-06-30T09:43:38.290Z"
   },
   {
    "duration": 0,
    "start_time": "2024-06-30T09:43:38.291Z"
   },
   {
    "duration": 0,
    "start_time": "2024-06-30T09:43:38.292Z"
   },
   {
    "duration": 0,
    "start_time": "2024-06-30T09:43:38.293Z"
   },
   {
    "duration": 0,
    "start_time": "2024-06-30T09:43:38.294Z"
   },
   {
    "duration": 0,
    "start_time": "2024-06-30T09:43:38.294Z"
   },
   {
    "duration": 0,
    "start_time": "2024-06-30T09:43:38.295Z"
   },
   {
    "duration": 3,
    "start_time": "2024-06-30T09:44:22.610Z"
   },
   {
    "duration": 6,
    "start_time": "2024-06-30T09:44:34.687Z"
   },
   {
    "duration": 2,
    "start_time": "2024-06-30T09:45:35.769Z"
   },
   {
    "duration": 6,
    "start_time": "2024-06-30T09:45:36.273Z"
   },
   {
    "duration": 3,
    "start_time": "2024-06-30T09:47:25.202Z"
   },
   {
    "duration": 6,
    "start_time": "2024-06-30T09:47:25.573Z"
   },
   {
    "duration": 3,
    "start_time": "2024-06-30T09:48:06.432Z"
   },
   {
    "duration": 4,
    "start_time": "2024-06-30T09:48:06.981Z"
   },
   {
    "duration": 3,
    "start_time": "2024-06-30T09:48:19.973Z"
   },
   {
    "duration": 4,
    "start_time": "2024-06-30T09:48:20.767Z"
   },
   {
    "duration": 547,
    "start_time": "2024-06-30T09:48:29.683Z"
   },
   {
    "duration": 90,
    "start_time": "2024-06-30T09:48:30.232Z"
   },
   {
    "duration": 167,
    "start_time": "2024-06-30T09:48:30.323Z"
   },
   {
    "duration": 469,
    "start_time": "2024-06-30T09:48:30.492Z"
   },
   {
    "duration": 258,
    "start_time": "2024-06-30T09:48:30.962Z"
   },
   {
    "duration": 342,
    "start_time": "2024-06-30T09:48:31.221Z"
   },
   {
    "duration": 86,
    "start_time": "2024-06-30T09:48:31.564Z"
   },
   {
    "duration": 37,
    "start_time": "2024-06-30T09:48:31.651Z"
   },
   {
    "duration": 62,
    "start_time": "2024-06-30T09:48:31.689Z"
   },
   {
    "duration": 84,
    "start_time": "2024-06-30T09:48:31.753Z"
   },
   {
    "duration": 131,
    "start_time": "2024-06-30T09:48:31.838Z"
   },
   {
    "duration": 58,
    "start_time": "2024-06-30T09:48:31.971Z"
   },
   {
    "duration": 34,
    "start_time": "2024-06-30T09:48:32.030Z"
   },
   {
    "duration": 28,
    "start_time": "2024-06-30T09:48:32.066Z"
   },
   {
    "duration": 44,
    "start_time": "2024-06-30T09:48:32.095Z"
   },
   {
    "duration": 23,
    "start_time": "2024-06-30T09:48:32.140Z"
   },
   {
    "duration": 28,
    "start_time": "2024-06-30T09:48:32.164Z"
   },
   {
    "duration": 31,
    "start_time": "2024-06-30T09:48:32.193Z"
   },
   {
    "duration": 34,
    "start_time": "2024-06-30T09:48:32.225Z"
   },
   {
    "duration": 48,
    "start_time": "2024-06-30T09:48:32.260Z"
   },
   {
    "duration": 195,
    "start_time": "2024-06-30T09:48:32.309Z"
   },
   {
    "duration": 29,
    "start_time": "2024-06-30T09:48:32.506Z"
   },
   {
    "duration": 12,
    "start_time": "2024-06-30T09:48:32.537Z"
   },
   {
    "duration": 25,
    "start_time": "2024-06-30T09:48:32.550Z"
   },
   {
    "duration": 13,
    "start_time": "2024-06-30T09:48:32.576Z"
   },
   {
    "duration": 19,
    "start_time": "2024-06-30T09:48:32.590Z"
   },
   {
    "duration": 68,
    "start_time": "2024-06-30T09:48:32.610Z"
   },
   {
    "duration": 45,
    "start_time": "2024-06-30T09:48:32.680Z"
   },
   {
    "duration": 18,
    "start_time": "2024-06-30T09:48:32.727Z"
   },
   {
    "duration": 13,
    "start_time": "2024-06-30T09:48:32.746Z"
   },
   {
    "duration": 4,
    "start_time": "2024-06-30T09:48:32.760Z"
   },
   {
    "duration": 13,
    "start_time": "2024-06-30T09:48:32.765Z"
   },
   {
    "duration": 11,
    "start_time": "2024-06-30T09:48:32.779Z"
   },
   {
    "duration": 8,
    "start_time": "2024-06-30T09:48:32.791Z"
   },
   {
    "duration": 14,
    "start_time": "2024-06-30T09:48:32.800Z"
   },
   {
    "duration": 13,
    "start_time": "2024-06-30T09:48:32.815Z"
   },
   {
    "duration": 9,
    "start_time": "2024-06-30T09:48:32.829Z"
   },
   {
    "duration": 19,
    "start_time": "2024-06-30T09:48:32.840Z"
   },
   {
    "duration": 3,
    "start_time": "2024-06-30T09:49:33.912Z"
   },
   {
    "duration": 4,
    "start_time": "2024-06-30T09:49:39.036Z"
   },
   {
    "duration": 5,
    "start_time": "2024-06-30T09:49:42.275Z"
   },
   {
    "duration": 511,
    "start_time": "2024-06-30T09:49:47.524Z"
   },
   {
    "duration": 88,
    "start_time": "2024-06-30T09:49:48.037Z"
   },
   {
    "duration": 12,
    "start_time": "2024-06-30T09:49:48.126Z"
   },
   {
    "duration": 40,
    "start_time": "2024-06-30T09:49:48.140Z"
   },
   {
    "duration": 8,
    "start_time": "2024-06-30T09:49:48.181Z"
   },
   {
    "duration": 14,
    "start_time": "2024-06-30T09:49:48.190Z"
   },
   {
    "duration": 26,
    "start_time": "2024-06-30T09:49:48.205Z"
   },
   {
    "duration": 20,
    "start_time": "2024-06-30T09:49:48.233Z"
   },
   {
    "duration": 12,
    "start_time": "2024-06-30T09:49:48.255Z"
   },
   {
    "duration": 27,
    "start_time": "2024-06-30T09:49:48.270Z"
   },
   {
    "duration": 42,
    "start_time": "2024-06-30T09:49:48.298Z"
   },
   {
    "duration": 12,
    "start_time": "2024-06-30T09:49:48.342Z"
   },
   {
    "duration": 4,
    "start_time": "2024-06-30T09:49:48.356Z"
   },
   {
    "duration": 7,
    "start_time": "2024-06-30T09:49:48.362Z"
   },
   {
    "duration": 72,
    "start_time": "2024-06-30T09:49:48.370Z"
   },
   {
    "duration": 0,
    "start_time": "2024-06-30T09:49:48.443Z"
   },
   {
    "duration": 0,
    "start_time": "2024-06-30T09:49:48.444Z"
   },
   {
    "duration": 0,
    "start_time": "2024-06-30T09:49:48.445Z"
   },
   {
    "duration": 0,
    "start_time": "2024-06-30T09:49:48.446Z"
   },
   {
    "duration": 0,
    "start_time": "2024-06-30T09:49:48.447Z"
   },
   {
    "duration": 0,
    "start_time": "2024-06-30T09:49:48.448Z"
   },
   {
    "duration": 0,
    "start_time": "2024-06-30T09:49:48.449Z"
   },
   {
    "duration": 0,
    "start_time": "2024-06-30T09:49:48.450Z"
   },
   {
    "duration": 0,
    "start_time": "2024-06-30T09:49:48.451Z"
   },
   {
    "duration": 0,
    "start_time": "2024-06-30T09:49:48.451Z"
   },
   {
    "duration": 0,
    "start_time": "2024-06-30T09:49:48.452Z"
   },
   {
    "duration": 0,
    "start_time": "2024-06-30T09:49:48.453Z"
   },
   {
    "duration": 0,
    "start_time": "2024-06-30T09:49:48.454Z"
   },
   {
    "duration": 0,
    "start_time": "2024-06-30T09:49:48.455Z"
   },
   {
    "duration": 0,
    "start_time": "2024-06-30T09:49:48.456Z"
   },
   {
    "duration": 0,
    "start_time": "2024-06-30T09:49:48.457Z"
   },
   {
    "duration": 0,
    "start_time": "2024-06-30T09:49:48.458Z"
   },
   {
    "duration": 0,
    "start_time": "2024-06-30T09:49:48.459Z"
   },
   {
    "duration": 0,
    "start_time": "2024-06-30T09:49:48.461Z"
   },
   {
    "duration": 0,
    "start_time": "2024-06-30T09:49:48.462Z"
   },
   {
    "duration": 0,
    "start_time": "2024-06-30T09:49:48.489Z"
   },
   {
    "duration": 0,
    "start_time": "2024-06-30T09:49:48.491Z"
   },
   {
    "duration": 4,
    "start_time": "2024-06-30T09:50:11.532Z"
   },
   {
    "duration": 3,
    "start_time": "2024-06-30T09:50:15.672Z"
   },
   {
    "duration": 5,
    "start_time": "2024-06-30T09:50:16.736Z"
   },
   {
    "duration": 553,
    "start_time": "2024-06-30T09:50:38.179Z"
   },
   {
    "duration": 95,
    "start_time": "2024-06-30T09:50:38.734Z"
   },
   {
    "duration": 12,
    "start_time": "2024-06-30T09:50:38.831Z"
   },
   {
    "duration": 38,
    "start_time": "2024-06-30T09:50:38.844Z"
   },
   {
    "duration": 9,
    "start_time": "2024-06-30T09:50:38.883Z"
   },
   {
    "duration": 14,
    "start_time": "2024-06-30T09:50:38.893Z"
   },
   {
    "duration": 36,
    "start_time": "2024-06-30T09:50:38.908Z"
   },
   {
    "duration": 10,
    "start_time": "2024-06-30T09:50:38.945Z"
   },
   {
    "duration": 42,
    "start_time": "2024-06-30T09:50:38.956Z"
   },
   {
    "duration": 7,
    "start_time": "2024-06-30T09:50:39.000Z"
   },
   {
    "duration": 28,
    "start_time": "2024-06-30T09:50:39.008Z"
   },
   {
    "duration": 8,
    "start_time": "2024-06-30T09:50:39.037Z"
   },
   {
    "duration": 3,
    "start_time": "2024-06-30T09:50:39.046Z"
   },
   {
    "duration": 15,
    "start_time": "2024-06-30T09:50:39.050Z"
   },
   {
    "duration": 14,
    "start_time": "2024-06-30T09:50:39.066Z"
   },
   {
    "duration": 8,
    "start_time": "2024-06-30T09:50:39.081Z"
   },
   {
    "duration": 10,
    "start_time": "2024-06-30T09:50:39.090Z"
   },
   {
    "duration": 45,
    "start_time": "2024-06-30T09:50:39.101Z"
   },
   {
    "duration": 11,
    "start_time": "2024-06-30T09:50:39.148Z"
   },
   {
    "duration": 39,
    "start_time": "2024-06-30T09:50:39.160Z"
   },
   {
    "duration": 77,
    "start_time": "2024-06-30T09:50:39.200Z"
   },
   {
    "duration": 10,
    "start_time": "2024-06-30T09:50:39.278Z"
   },
   {
    "duration": 23,
    "start_time": "2024-06-30T09:50:39.289Z"
   },
   {
    "duration": 4,
    "start_time": "2024-06-30T09:50:39.313Z"
   },
   {
    "duration": 36,
    "start_time": "2024-06-30T09:50:39.318Z"
   },
   {
    "duration": 22,
    "start_time": "2024-06-30T09:50:39.355Z"
   },
   {
    "duration": 11,
    "start_time": "2024-06-30T09:50:39.378Z"
   },
   {
    "duration": 27,
    "start_time": "2024-06-30T09:50:39.392Z"
   },
   {
    "duration": 27,
    "start_time": "2024-06-30T09:50:39.420Z"
   },
   {
    "duration": 23,
    "start_time": "2024-06-30T09:50:39.449Z"
   },
   {
    "duration": 7,
    "start_time": "2024-06-30T09:50:39.474Z"
   },
   {
    "duration": 61,
    "start_time": "2024-06-30T09:50:39.482Z"
   },
   {
    "duration": 22,
    "start_time": "2024-06-30T09:50:39.545Z"
   },
   {
    "duration": 31,
    "start_time": "2024-06-30T09:50:39.568Z"
   },
   {
    "duration": 20,
    "start_time": "2024-06-30T09:50:39.600Z"
   },
   {
    "duration": 29,
    "start_time": "2024-06-30T09:50:39.621Z"
   },
   {
    "duration": 19,
    "start_time": "2024-06-30T09:50:39.650Z"
   },
   {
    "duration": 26,
    "start_time": "2024-06-30T09:50:39.669Z"
   },
   {
    "duration": 7,
    "start_time": "2024-06-30T09:50:39.696Z"
   },
   {
    "duration": 3,
    "start_time": "2024-06-30T09:51:28.742Z"
   },
   {
    "duration": 5,
    "start_time": "2024-06-30T09:51:29.235Z"
   },
   {
    "duration": 3,
    "start_time": "2024-06-30T09:52:21.619Z"
   },
   {
    "duration": 524,
    "start_time": "2024-06-30T09:52:28.031Z"
   },
   {
    "duration": 86,
    "start_time": "2024-06-30T09:52:28.556Z"
   },
   {
    "duration": 11,
    "start_time": "2024-06-30T09:52:28.643Z"
   },
   {
    "duration": 41,
    "start_time": "2024-06-30T09:52:28.655Z"
   },
   {
    "duration": 8,
    "start_time": "2024-06-30T09:52:28.697Z"
   },
   {
    "duration": 8,
    "start_time": "2024-06-30T09:52:28.705Z"
   },
   {
    "duration": 32,
    "start_time": "2024-06-30T09:52:28.714Z"
   },
   {
    "duration": 10,
    "start_time": "2024-06-30T09:52:28.747Z"
   },
   {
    "duration": 9,
    "start_time": "2024-06-30T09:52:28.758Z"
   },
   {
    "duration": 9,
    "start_time": "2024-06-30T09:52:28.768Z"
   },
   {
    "duration": 5,
    "start_time": "2024-06-30T09:52:28.778Z"
   },
   {
    "duration": 6,
    "start_time": "2024-06-30T09:52:28.789Z"
   },
   {
    "duration": 3,
    "start_time": "2024-06-30T09:52:28.796Z"
   },
   {
    "duration": 9,
    "start_time": "2024-06-30T09:52:28.800Z"
   },
   {
    "duration": 72,
    "start_time": "2024-06-30T09:52:28.810Z"
   },
   {
    "duration": 0,
    "start_time": "2024-06-30T09:52:28.884Z"
   },
   {
    "duration": 0,
    "start_time": "2024-06-30T09:52:28.884Z"
   },
   {
    "duration": 0,
    "start_time": "2024-06-30T09:52:28.885Z"
   },
   {
    "duration": 0,
    "start_time": "2024-06-30T09:52:28.886Z"
   },
   {
    "duration": 0,
    "start_time": "2024-06-30T09:52:28.887Z"
   },
   {
    "duration": 0,
    "start_time": "2024-06-30T09:52:28.887Z"
   },
   {
    "duration": 0,
    "start_time": "2024-06-30T09:52:28.888Z"
   },
   {
    "duration": 0,
    "start_time": "2024-06-30T09:52:28.889Z"
   },
   {
    "duration": 0,
    "start_time": "2024-06-30T09:52:28.890Z"
   },
   {
    "duration": 0,
    "start_time": "2024-06-30T09:52:28.890Z"
   },
   {
    "duration": 0,
    "start_time": "2024-06-30T09:52:28.891Z"
   },
   {
    "duration": 0,
    "start_time": "2024-06-30T09:52:28.892Z"
   },
   {
    "duration": 0,
    "start_time": "2024-06-30T09:52:28.893Z"
   },
   {
    "duration": 0,
    "start_time": "2024-06-30T09:52:28.893Z"
   },
   {
    "duration": 0,
    "start_time": "2024-06-30T09:52:28.894Z"
   },
   {
    "duration": 0,
    "start_time": "2024-06-30T09:52:28.895Z"
   },
   {
    "duration": 0,
    "start_time": "2024-06-30T09:52:28.895Z"
   },
   {
    "duration": 0,
    "start_time": "2024-06-30T09:52:28.896Z"
   },
   {
    "duration": 0,
    "start_time": "2024-06-30T09:52:28.897Z"
   },
   {
    "duration": 0,
    "start_time": "2024-06-30T09:52:28.897Z"
   },
   {
    "duration": 0,
    "start_time": "2024-06-30T09:52:28.898Z"
   },
   {
    "duration": 0,
    "start_time": "2024-06-30T09:52:28.899Z"
   },
   {
    "duration": 0,
    "start_time": "2024-06-30T09:52:28.899Z"
   },
   {
    "duration": 0,
    "start_time": "2024-06-30T09:52:28.900Z"
   },
   {
    "duration": 0,
    "start_time": "2024-06-30T09:52:28.901Z"
   },
   {
    "duration": 205,
    "start_time": "2024-06-30T09:52:51.261Z"
   },
   {
    "duration": 3,
    "start_time": "2024-06-30T09:53:06.344Z"
   },
   {
    "duration": 6,
    "start_time": "2024-06-30T09:53:13.422Z"
   },
   {
    "duration": 5,
    "start_time": "2024-06-30T09:53:51.945Z"
   },
   {
    "duration": 3,
    "start_time": "2024-06-30T09:54:04.008Z"
   },
   {
    "duration": 5,
    "start_time": "2024-06-30T09:54:04.505Z"
   },
   {
    "duration": 4,
    "start_time": "2024-06-30T10:05:18.886Z"
   },
   {
    "duration": 3,
    "start_time": "2024-06-30T10:05:21.334Z"
   },
   {
    "duration": 3,
    "start_time": "2024-06-30T10:05:21.793Z"
   },
   {
    "duration": 6,
    "start_time": "2024-06-30T10:05:22.556Z"
   },
   {
    "duration": 56,
    "start_time": "2024-06-30T10:11:11.907Z"
   },
   {
    "duration": 4,
    "start_time": "2024-06-30T10:11:12.568Z"
   },
   {
    "duration": 14,
    "start_time": "2024-06-30T10:11:34.347Z"
   },
   {
    "duration": 5,
    "start_time": "2024-06-30T10:12:26.930Z"
   },
   {
    "duration": 502,
    "start_time": "2024-06-30T10:12:30.620Z"
   },
   {
    "duration": 86,
    "start_time": "2024-06-30T10:12:31.123Z"
   },
   {
    "duration": 29,
    "start_time": "2024-06-30T10:12:31.210Z"
   },
   {
    "duration": 58,
    "start_time": "2024-06-30T10:12:31.240Z"
   },
   {
    "duration": 6,
    "start_time": "2024-06-30T10:12:31.300Z"
   },
   {
    "duration": 35,
    "start_time": "2024-06-30T10:12:31.308Z"
   },
   {
    "duration": 41,
    "start_time": "2024-06-30T10:12:31.344Z"
   },
   {
    "duration": 13,
    "start_time": "2024-06-30T10:12:31.386Z"
   },
   {
    "duration": 24,
    "start_time": "2024-06-30T10:12:31.401Z"
   },
   {
    "duration": 41,
    "start_time": "2024-06-30T10:12:31.427Z"
   },
   {
    "duration": 16,
    "start_time": "2024-06-30T10:12:31.469Z"
   },
   {
    "duration": 18,
    "start_time": "2024-06-30T10:12:31.486Z"
   },
   {
    "duration": 5,
    "start_time": "2024-06-30T10:12:31.505Z"
   },
   {
    "duration": 92,
    "start_time": "2024-06-30T10:12:31.511Z"
   },
   {
    "duration": 0,
    "start_time": "2024-06-30T10:12:31.604Z"
   },
   {
    "duration": 0,
    "start_time": "2024-06-30T10:12:31.605Z"
   },
   {
    "duration": 0,
    "start_time": "2024-06-30T10:12:31.606Z"
   },
   {
    "duration": 0,
    "start_time": "2024-06-30T10:12:31.606Z"
   },
   {
    "duration": 0,
    "start_time": "2024-06-30T10:12:31.607Z"
   },
   {
    "duration": 0,
    "start_time": "2024-06-30T10:12:31.608Z"
   },
   {
    "duration": 0,
    "start_time": "2024-06-30T10:12:31.608Z"
   },
   {
    "duration": 0,
    "start_time": "2024-06-30T10:12:31.609Z"
   },
   {
    "duration": 0,
    "start_time": "2024-06-30T10:12:31.610Z"
   },
   {
    "duration": 0,
    "start_time": "2024-06-30T10:12:31.610Z"
   },
   {
    "duration": 0,
    "start_time": "2024-06-30T10:12:31.611Z"
   },
   {
    "duration": 0,
    "start_time": "2024-06-30T10:12:31.612Z"
   },
   {
    "duration": 0,
    "start_time": "2024-06-30T10:12:31.612Z"
   },
   {
    "duration": 0,
    "start_time": "2024-06-30T10:12:31.613Z"
   },
   {
    "duration": 0,
    "start_time": "2024-06-30T10:12:31.614Z"
   },
   {
    "duration": 0,
    "start_time": "2024-06-30T10:12:31.615Z"
   },
   {
    "duration": 0,
    "start_time": "2024-06-30T10:12:31.615Z"
   },
   {
    "duration": 0,
    "start_time": "2024-06-30T10:12:31.616Z"
   },
   {
    "duration": 0,
    "start_time": "2024-06-30T10:12:31.617Z"
   },
   {
    "duration": 0,
    "start_time": "2024-06-30T10:12:31.617Z"
   },
   {
    "duration": 0,
    "start_time": "2024-06-30T10:12:31.618Z"
   },
   {
    "duration": 0,
    "start_time": "2024-06-30T10:12:31.619Z"
   },
   {
    "duration": 0,
    "start_time": "2024-06-30T10:12:31.619Z"
   },
   {
    "duration": 0,
    "start_time": "2024-06-30T10:12:31.620Z"
   },
   {
    "duration": 1,
    "start_time": "2024-06-30T10:12:31.620Z"
   },
   {
    "duration": 4,
    "start_time": "2024-06-30T10:16:35.244Z"
   },
   {
    "duration": 6,
    "start_time": "2024-06-30T10:16:38.111Z"
   },
   {
    "duration": 7,
    "start_time": "2024-06-30T10:21:20.024Z"
   },
   {
    "duration": 8,
    "start_time": "2024-06-30T10:21:23.249Z"
   },
   {
    "duration": 9,
    "start_time": "2024-06-30T10:21:30.360Z"
   },
   {
    "duration": 4,
    "start_time": "2024-06-30T10:21:38.407Z"
   },
   {
    "duration": 8,
    "start_time": "2024-06-30T10:26:18.660Z"
   },
   {
    "duration": 574,
    "start_time": "2024-06-30T10:28:02.522Z"
   },
   {
    "duration": 95,
    "start_time": "2024-06-30T10:28:03.097Z"
   },
   {
    "duration": 12,
    "start_time": "2024-06-30T10:28:03.193Z"
   },
   {
    "duration": 95,
    "start_time": "2024-06-30T10:28:03.206Z"
   },
   {
    "duration": 7,
    "start_time": "2024-06-30T10:28:03.303Z"
   },
   {
    "duration": 12,
    "start_time": "2024-06-30T10:28:03.311Z"
   },
   {
    "duration": 78,
    "start_time": "2024-06-30T10:28:03.325Z"
   },
   {
    "duration": 10,
    "start_time": "2024-06-30T10:28:03.404Z"
   },
   {
    "duration": 8,
    "start_time": "2024-06-30T10:28:03.416Z"
   },
   {
    "duration": 7,
    "start_time": "2024-06-30T10:28:03.426Z"
   },
   {
    "duration": 4,
    "start_time": "2024-06-30T10:28:03.434Z"
   },
   {
    "duration": 15,
    "start_time": "2024-06-30T10:28:03.439Z"
   },
   {
    "duration": 21,
    "start_time": "2024-06-30T10:28:03.455Z"
   },
   {
    "duration": 26,
    "start_time": "2024-06-30T10:28:03.477Z"
   },
   {
    "duration": 6,
    "start_time": "2024-06-30T10:28:03.504Z"
   },
   {
    "duration": 7,
    "start_time": "2024-06-30T10:28:03.512Z"
   },
   {
    "duration": 10,
    "start_time": "2024-06-30T10:28:03.521Z"
   },
   {
    "duration": 5,
    "start_time": "2024-06-30T10:28:03.533Z"
   },
   {
    "duration": 23,
    "start_time": "2024-06-30T10:28:03.539Z"
   },
   {
    "duration": 5,
    "start_time": "2024-06-30T10:28:03.563Z"
   },
   {
    "duration": 28,
    "start_time": "2024-06-30T10:28:03.569Z"
   },
   {
    "duration": 20,
    "start_time": "2024-06-30T10:28:03.598Z"
   },
   {
    "duration": 7,
    "start_time": "2024-06-30T10:28:03.619Z"
   },
   {
    "duration": 76,
    "start_time": "2024-06-30T10:28:03.627Z"
   },
   {
    "duration": 3,
    "start_time": "2024-06-30T10:28:03.704Z"
   },
   {
    "duration": 12,
    "start_time": "2024-06-30T10:28:03.708Z"
   },
   {
    "duration": 7,
    "start_time": "2024-06-30T10:28:03.721Z"
   },
   {
    "duration": 15,
    "start_time": "2024-06-30T10:28:03.730Z"
   },
   {
    "duration": 4,
    "start_time": "2024-06-30T10:28:03.746Z"
   },
   {
    "duration": 6,
    "start_time": "2024-06-30T10:28:03.751Z"
   },
   {
    "duration": 18,
    "start_time": "2024-06-30T10:28:03.758Z"
   },
   {
    "duration": 18,
    "start_time": "2024-06-30T10:28:03.777Z"
   },
   {
    "duration": 5,
    "start_time": "2024-06-30T10:28:03.796Z"
   },
   {
    "duration": 16,
    "start_time": "2024-06-30T10:28:03.802Z"
   },
   {
    "duration": 5,
    "start_time": "2024-06-30T10:28:03.819Z"
   },
   {
    "duration": 6,
    "start_time": "2024-06-30T10:48:55.283Z"
   },
   {
    "duration": 10,
    "start_time": "2024-06-30T10:49:08.661Z"
   },
   {
    "duration": 8,
    "start_time": "2024-06-30T10:51:00.672Z"
   },
   {
    "duration": 10,
    "start_time": "2024-06-30T10:52:58.400Z"
   },
   {
    "duration": 10,
    "start_time": "2024-06-30T10:52:59.060Z"
   },
   {
    "duration": 485,
    "start_time": "2024-06-30T10:53:08.455Z"
   },
   {
    "duration": 85,
    "start_time": "2024-06-30T10:53:08.941Z"
   },
   {
    "duration": 11,
    "start_time": "2024-06-30T10:53:09.027Z"
   },
   {
    "duration": 37,
    "start_time": "2024-06-30T10:53:09.039Z"
   },
   {
    "duration": 7,
    "start_time": "2024-06-30T10:53:09.078Z"
   },
   {
    "duration": 23,
    "start_time": "2024-06-30T10:53:09.086Z"
   },
   {
    "duration": 23,
    "start_time": "2024-06-30T10:53:09.110Z"
   },
   {
    "duration": 26,
    "start_time": "2024-06-30T10:53:09.134Z"
   },
   {
    "duration": 7,
    "start_time": "2024-06-30T10:53:09.161Z"
   },
   {
    "duration": 6,
    "start_time": "2024-06-30T10:53:09.169Z"
   },
   {
    "duration": 4,
    "start_time": "2024-06-30T10:53:09.176Z"
   },
   {
    "duration": 7,
    "start_time": "2024-06-30T10:53:09.181Z"
   },
   {
    "duration": 4,
    "start_time": "2024-06-30T10:53:09.189Z"
   },
   {
    "duration": 4,
    "start_time": "2024-06-30T10:53:09.195Z"
   },
   {
    "duration": 4,
    "start_time": "2024-06-30T10:53:09.200Z"
   },
   {
    "duration": 7,
    "start_time": "2024-06-30T10:53:09.205Z"
   },
   {
    "duration": 20,
    "start_time": "2024-06-30T10:53:09.213Z"
   },
   {
    "duration": 12,
    "start_time": "2024-06-30T10:53:09.234Z"
   },
   {
    "duration": 15,
    "start_time": "2024-06-30T10:53:09.247Z"
   },
   {
    "duration": 3,
    "start_time": "2024-06-30T10:53:09.264Z"
   },
   {
    "duration": 7,
    "start_time": "2024-06-30T10:53:09.268Z"
   },
   {
    "duration": 11,
    "start_time": "2024-06-30T10:53:09.289Z"
   },
   {
    "duration": 7,
    "start_time": "2024-06-30T10:53:09.301Z"
   },
   {
    "duration": 70,
    "start_time": "2024-06-30T10:53:09.309Z"
   },
   {
    "duration": 4,
    "start_time": "2024-06-30T10:53:09.380Z"
   },
   {
    "duration": 78,
    "start_time": "2024-06-30T10:53:09.385Z"
   },
   {
    "duration": 6,
    "start_time": "2024-06-30T10:53:09.465Z"
   },
   {
    "duration": 6,
    "start_time": "2024-06-30T10:53:09.472Z"
   },
   {
    "duration": 4,
    "start_time": "2024-06-30T10:53:09.480Z"
   },
   {
    "duration": 6,
    "start_time": "2024-06-30T10:53:09.485Z"
   },
   {
    "duration": 7,
    "start_time": "2024-06-30T10:53:09.492Z"
   },
   {
    "duration": 10,
    "start_time": "2024-06-30T10:53:09.500Z"
   },
   {
    "duration": 9,
    "start_time": "2024-06-30T10:53:09.512Z"
   },
   {
    "duration": 4,
    "start_time": "2024-06-30T10:53:09.522Z"
   },
   {
    "duration": 17,
    "start_time": "2024-06-30T10:53:09.527Z"
   },
   {
    "duration": 8,
    "start_time": "2024-06-30T10:53:09.546Z"
   },
   {
    "duration": 47,
    "start_time": "2024-06-30T10:53:09.555Z"
   },
   {
    "duration": 9,
    "start_time": "2024-06-30T10:53:09.603Z"
   },
   {
    "duration": 4,
    "start_time": "2024-06-30T10:53:09.613Z"
   },
   {
    "duration": 6,
    "start_time": "2024-06-30T10:54:35.609Z"
   },
   {
    "duration": 12,
    "start_time": "2024-06-30T10:54:47.128Z"
   },
   {
    "duration": 16,
    "start_time": "2024-06-30T10:54:57.839Z"
   },
   {
    "duration": 493,
    "start_time": "2024-06-30T10:55:23.922Z"
   },
   {
    "duration": 106,
    "start_time": "2024-06-30T10:55:24.417Z"
   },
   {
    "duration": 11,
    "start_time": "2024-06-30T10:55:24.525Z"
   },
   {
    "duration": 56,
    "start_time": "2024-06-30T10:55:24.537Z"
   },
   {
    "duration": 20,
    "start_time": "2024-06-30T10:55:24.594Z"
   },
   {
    "duration": 27,
    "start_time": "2024-06-30T10:55:24.615Z"
   },
   {
    "duration": 29,
    "start_time": "2024-06-30T10:55:24.643Z"
   },
   {
    "duration": 35,
    "start_time": "2024-06-30T10:55:24.673Z"
   },
   {
    "duration": 18,
    "start_time": "2024-06-30T10:55:24.710Z"
   },
   {
    "duration": 7,
    "start_time": "2024-06-30T10:55:24.730Z"
   },
   {
    "duration": 4,
    "start_time": "2024-06-30T10:55:24.738Z"
   },
   {
    "duration": 8,
    "start_time": "2024-06-30T10:55:24.744Z"
   },
   {
    "duration": 6,
    "start_time": "2024-06-30T10:55:24.754Z"
   },
   {
    "duration": 21,
    "start_time": "2024-06-30T10:55:24.761Z"
   },
   {
    "duration": 13,
    "start_time": "2024-06-30T10:55:24.783Z"
   },
   {
    "duration": 25,
    "start_time": "2024-06-30T10:55:24.797Z"
   },
   {
    "duration": 28,
    "start_time": "2024-06-30T10:55:24.823Z"
   },
   {
    "duration": 24,
    "start_time": "2024-06-30T10:55:24.852Z"
   },
   {
    "duration": 26,
    "start_time": "2024-06-30T10:55:24.877Z"
   },
   {
    "duration": 19,
    "start_time": "2024-06-30T10:55:24.904Z"
   },
   {
    "duration": 20,
    "start_time": "2024-06-30T10:55:24.924Z"
   },
   {
    "duration": 33,
    "start_time": "2024-06-30T10:55:24.945Z"
   },
   {
    "duration": 18,
    "start_time": "2024-06-30T10:55:24.979Z"
   },
   {
    "duration": 19,
    "start_time": "2024-06-30T10:55:24.998Z"
   },
   {
    "duration": 19,
    "start_time": "2024-06-30T10:55:25.018Z"
   },
   {
    "duration": 29,
    "start_time": "2024-06-30T10:55:25.038Z"
   },
   {
    "duration": 13,
    "start_time": "2024-06-30T10:55:25.069Z"
   },
   {
    "duration": 9,
    "start_time": "2024-06-30T10:55:25.085Z"
   },
   {
    "duration": 7,
    "start_time": "2024-06-30T10:55:25.095Z"
   },
   {
    "duration": 13,
    "start_time": "2024-06-30T10:55:25.103Z"
   },
   {
    "duration": 9,
    "start_time": "2024-06-30T10:55:25.118Z"
   },
   {
    "duration": 46,
    "start_time": "2024-06-30T10:55:25.128Z"
   },
   {
    "duration": 16,
    "start_time": "2024-06-30T10:55:25.175Z"
   },
   {
    "duration": 23,
    "start_time": "2024-06-30T10:55:25.192Z"
   },
   {
    "duration": 10,
    "start_time": "2024-06-30T10:55:25.216Z"
   },
   {
    "duration": 36,
    "start_time": "2024-06-30T10:55:25.228Z"
   },
   {
    "duration": 5,
    "start_time": "2024-06-30T10:55:25.266Z"
   },
   {
    "duration": 14,
    "start_time": "2024-06-30T10:55:25.272Z"
   },
   {
    "duration": 19,
    "start_time": "2024-06-30T10:55:25.287Z"
   },
   {
    "duration": 66,
    "start_time": "2024-06-30T10:55:25.307Z"
   },
   {
    "duration": 8,
    "start_time": "2024-06-30T10:57:57.752Z"
   },
   {
    "duration": 11,
    "start_time": "2024-06-30T10:57:58.952Z"
   },
   {
    "duration": 10,
    "start_time": "2024-06-30T11:02:52.162Z"
   },
   {
    "duration": 14,
    "start_time": "2024-06-30T11:03:05.094Z"
   },
   {
    "duration": 14,
    "start_time": "2024-06-30T11:03:52.385Z"
   },
   {
    "duration": 28,
    "start_time": "2024-06-30T11:04:07.544Z"
   },
   {
    "duration": 12,
    "start_time": "2024-06-30T11:04:14.790Z"
   },
   {
    "duration": 13,
    "start_time": "2024-06-30T11:05:33.824Z"
   },
   {
    "duration": 6,
    "start_time": "2024-06-30T11:09:41.177Z"
   },
   {
    "duration": 6,
    "start_time": "2024-06-30T11:18:01.770Z"
   },
   {
    "duration": 3,
    "start_time": "2024-06-30T11:18:03.926Z"
   },
   {
    "duration": 4,
    "start_time": "2024-06-30T11:18:04.723Z"
   },
   {
    "duration": 7,
    "start_time": "2024-06-30T11:18:16.542Z"
   },
   {
    "duration": 852,
    "start_time": "2024-06-30T20:00:36.978Z"
   },
   {
    "duration": 191,
    "start_time": "2024-06-30T20:00:37.833Z"
   },
   {
    "duration": 19,
    "start_time": "2024-06-30T20:00:38.026Z"
   },
   {
    "duration": 87,
    "start_time": "2024-06-30T20:00:38.047Z"
   },
   {
    "duration": 12,
    "start_time": "2024-06-30T20:00:38.136Z"
   },
   {
    "duration": 7,
    "start_time": "2024-06-30T20:00:38.150Z"
   },
   {
    "duration": 35,
    "start_time": "2024-06-30T20:00:38.158Z"
   },
   {
    "duration": 20,
    "start_time": "2024-06-30T20:00:38.196Z"
   },
   {
    "duration": 15,
    "start_time": "2024-06-30T20:00:38.218Z"
   },
   {
    "duration": 10,
    "start_time": "2024-06-30T20:00:38.260Z"
   },
   {
    "duration": 6,
    "start_time": "2024-06-30T20:00:38.272Z"
   },
   {
    "duration": 13,
    "start_time": "2024-06-30T20:00:38.280Z"
   },
   {
    "duration": 9,
    "start_time": "2024-06-30T20:00:38.295Z"
   },
   {
    "duration": 9,
    "start_time": "2024-06-30T20:00:38.306Z"
   },
   {
    "duration": 9,
    "start_time": "2024-06-30T20:00:38.322Z"
   },
   {
    "duration": 38,
    "start_time": "2024-06-30T20:00:38.333Z"
   },
   {
    "duration": 28,
    "start_time": "2024-06-30T20:00:38.373Z"
   },
   {
    "duration": 6,
    "start_time": "2024-06-30T20:00:38.403Z"
   },
   {
    "duration": 23,
    "start_time": "2024-06-30T20:00:38.411Z"
   },
   {
    "duration": 5,
    "start_time": "2024-06-30T20:00:38.436Z"
   },
   {
    "duration": 10,
    "start_time": "2024-06-30T20:00:38.461Z"
   },
   {
    "duration": 26,
    "start_time": "2024-06-30T20:00:38.472Z"
   },
   {
    "duration": 31,
    "start_time": "2024-06-30T20:00:38.499Z"
   },
   {
    "duration": 17,
    "start_time": "2024-06-30T20:00:38.532Z"
   },
   {
    "duration": 15,
    "start_time": "2024-06-30T20:00:38.550Z"
   },
   {
    "duration": 17,
    "start_time": "2024-06-30T20:00:38.567Z"
   },
   {
    "duration": 5,
    "start_time": "2024-06-30T20:00:38.585Z"
   },
   {
    "duration": 4,
    "start_time": "2024-06-30T20:00:38.594Z"
   },
   {
    "duration": 22,
    "start_time": "2024-06-30T20:00:38.600Z"
   },
   {
    "duration": 13,
    "start_time": "2024-06-30T20:00:38.625Z"
   },
   {
    "duration": 35,
    "start_time": "2024-06-30T20:00:38.661Z"
   },
   {
    "duration": 64,
    "start_time": "2024-06-30T20:00:38.698Z"
   },
   {
    "duration": 14,
    "start_time": "2024-06-30T20:00:38.764Z"
   },
   {
    "duration": 18,
    "start_time": "2024-06-30T20:00:38.779Z"
   },
   {
    "duration": 7,
    "start_time": "2024-06-30T20:00:38.799Z"
   },
   {
    "duration": 6,
    "start_time": "2024-06-30T20:00:38.808Z"
   },
   {
    "duration": 19,
    "start_time": "2024-06-30T20:00:38.815Z"
   },
   {
    "duration": 35,
    "start_time": "2024-06-30T20:00:38.836Z"
   },
   {
    "duration": 16,
    "start_time": "2024-06-30T20:00:38.872Z"
   },
   {
    "duration": 307,
    "start_time": "2024-06-30T20:10:04.232Z"
   },
   {
    "duration": 8,
    "start_time": "2024-06-30T20:11:13.888Z"
   },
   {
    "duration": 681,
    "start_time": "2024-06-30T20:11:19.275Z"
   },
   {
    "duration": 116,
    "start_time": "2024-06-30T20:11:19.958Z"
   },
   {
    "duration": 17,
    "start_time": "2024-06-30T20:11:20.076Z"
   },
   {
    "duration": 50,
    "start_time": "2024-06-30T20:11:20.095Z"
   },
   {
    "duration": 11,
    "start_time": "2024-06-30T20:11:20.146Z"
   },
   {
    "duration": 7,
    "start_time": "2024-06-30T20:11:20.159Z"
   },
   {
    "duration": 31,
    "start_time": "2024-06-30T20:11:20.167Z"
   },
   {
    "duration": 18,
    "start_time": "2024-06-30T20:11:20.200Z"
   },
   {
    "duration": 11,
    "start_time": "2024-06-30T20:11:20.220Z"
   },
   {
    "duration": 19,
    "start_time": "2024-06-30T20:11:20.260Z"
   },
   {
    "duration": 32,
    "start_time": "2024-06-30T20:11:20.281Z"
   },
   {
    "duration": 21,
    "start_time": "2024-06-30T20:11:20.315Z"
   },
   {
    "duration": 18,
    "start_time": "2024-06-30T20:11:20.338Z"
   },
   {
    "duration": 7,
    "start_time": "2024-06-30T20:11:20.358Z"
   },
   {
    "duration": 6,
    "start_time": "2024-06-30T20:11:20.366Z"
   },
   {
    "duration": 11,
    "start_time": "2024-06-30T20:11:20.374Z"
   },
   {
    "duration": 12,
    "start_time": "2024-06-30T20:11:20.387Z"
   },
   {
    "duration": 8,
    "start_time": "2024-06-30T20:11:20.400Z"
   },
   {
    "duration": 53,
    "start_time": "2024-06-30T20:11:20.410Z"
   },
   {
    "duration": 6,
    "start_time": "2024-06-30T20:11:20.465Z"
   },
   {
    "duration": 15,
    "start_time": "2024-06-30T20:11:20.472Z"
   },
   {
    "duration": 12,
    "start_time": "2024-06-30T20:11:20.489Z"
   },
   {
    "duration": 16,
    "start_time": "2024-06-30T20:11:20.503Z"
   },
   {
    "duration": 12,
    "start_time": "2024-06-30T20:11:20.521Z"
   },
   {
    "duration": 29,
    "start_time": "2024-06-30T20:11:20.534Z"
   },
   {
    "duration": 36,
    "start_time": "2024-06-30T20:11:20.565Z"
   },
   {
    "duration": 11,
    "start_time": "2024-06-30T20:11:20.603Z"
   },
   {
    "duration": 12,
    "start_time": "2024-06-30T20:11:20.617Z"
   },
   {
    "duration": 9,
    "start_time": "2024-06-30T20:11:20.631Z"
   },
   {
    "duration": 11,
    "start_time": "2024-06-30T20:11:20.642Z"
   },
   {
    "duration": 13,
    "start_time": "2024-06-30T20:11:20.661Z"
   },
   {
    "duration": 10,
    "start_time": "2024-06-30T20:11:20.676Z"
   },
   {
    "duration": 35,
    "start_time": "2024-06-30T20:11:20.687Z"
   },
   {
    "duration": 30,
    "start_time": "2024-06-30T20:11:20.724Z"
   },
   {
    "duration": 8,
    "start_time": "2024-06-30T20:11:20.755Z"
   },
   {
    "duration": 13,
    "start_time": "2024-06-30T20:11:20.765Z"
   },
   {
    "duration": 15,
    "start_time": "2024-06-30T20:11:20.780Z"
   },
   {
    "duration": 355,
    "start_time": "2024-06-30T20:11:20.796Z"
   },
   {
    "duration": 0,
    "start_time": "2024-06-30T20:11:21.153Z"
   },
   {
    "duration": 0,
    "start_time": "2024-06-30T20:11:21.154Z"
   },
   {
    "duration": 12,
    "start_time": "2024-06-30T20:12:24.283Z"
   },
   {
    "duration": 5,
    "start_time": "2024-06-30T20:12:47.025Z"
   },
   {
    "duration": 16,
    "start_time": "2024-06-30T20:13:03.735Z"
   },
   {
    "duration": 6,
    "start_time": "2024-06-30T20:13:10.568Z"
   },
   {
    "duration": 8,
    "start_time": "2024-06-30T20:18:09.237Z"
   },
   {
    "duration": 779,
    "start_time": "2024-06-30T20:18:14.560Z"
   },
   {
    "duration": 127,
    "start_time": "2024-06-30T20:18:15.341Z"
   },
   {
    "duration": 17,
    "start_time": "2024-06-30T20:18:15.470Z"
   },
   {
    "duration": 42,
    "start_time": "2024-06-30T20:18:15.488Z"
   },
   {
    "duration": 12,
    "start_time": "2024-06-30T20:18:15.532Z"
   },
   {
    "duration": 14,
    "start_time": "2024-06-30T20:18:15.546Z"
   },
   {
    "duration": 51,
    "start_time": "2024-06-30T20:18:15.561Z"
   },
   {
    "duration": 17,
    "start_time": "2024-06-30T20:18:15.614Z"
   },
   {
    "duration": 159,
    "start_time": "2024-06-30T20:18:15.633Z"
   },
   {
    "duration": 9,
    "start_time": "2024-06-30T20:18:15.795Z"
   },
   {
    "duration": 12,
    "start_time": "2024-06-30T20:18:15.806Z"
   },
   {
    "duration": 12,
    "start_time": "2024-06-30T20:18:15.820Z"
   },
   {
    "duration": 9,
    "start_time": "2024-06-30T20:18:15.834Z"
   },
   {
    "duration": 14,
    "start_time": "2024-06-30T20:18:15.847Z"
   },
   {
    "duration": 13,
    "start_time": "2024-06-30T20:18:15.863Z"
   },
   {
    "duration": 18,
    "start_time": "2024-06-30T20:18:15.878Z"
   },
   {
    "duration": 106,
    "start_time": "2024-06-30T20:18:15.898Z"
   },
   {
    "duration": 12,
    "start_time": "2024-06-30T20:18:16.007Z"
   },
   {
    "duration": 8,
    "start_time": "2024-06-30T20:18:16.021Z"
   },
   {
    "duration": 23,
    "start_time": "2024-06-30T20:18:16.031Z"
   },
   {
    "duration": 6,
    "start_time": "2024-06-30T20:18:16.056Z"
   },
   {
    "duration": 18,
    "start_time": "2024-06-30T20:18:16.063Z"
   },
   {
    "duration": 21,
    "start_time": "2024-06-30T20:18:16.082Z"
   },
   {
    "duration": 20,
    "start_time": "2024-06-30T20:18:16.106Z"
   },
   {
    "duration": 25,
    "start_time": "2024-06-30T20:18:16.127Z"
   },
   {
    "duration": 14,
    "start_time": "2024-06-30T20:18:16.154Z"
   },
   {
    "duration": 20,
    "start_time": "2024-06-30T20:18:16.170Z"
   },
   {
    "duration": 6,
    "start_time": "2024-06-30T20:18:16.192Z"
   },
   {
    "duration": 10,
    "start_time": "2024-06-30T20:18:16.199Z"
   },
   {
    "duration": 10,
    "start_time": "2024-06-30T20:18:16.211Z"
   },
   {
    "duration": 22,
    "start_time": "2024-06-30T20:18:16.223Z"
   },
   {
    "duration": 26,
    "start_time": "2024-06-30T20:18:16.247Z"
   },
   {
    "duration": 16,
    "start_time": "2024-06-30T20:18:16.276Z"
   },
   {
    "duration": 17,
    "start_time": "2024-06-30T20:18:16.294Z"
   },
   {
    "duration": 50,
    "start_time": "2024-06-30T20:18:16.313Z"
   },
   {
    "duration": 11,
    "start_time": "2024-06-30T20:18:16.365Z"
   },
   {
    "duration": 21,
    "start_time": "2024-06-30T20:18:16.378Z"
   },
   {
    "duration": 24,
    "start_time": "2024-06-30T20:18:16.400Z"
   },
   {
    "duration": 10,
    "start_time": "2024-06-30T20:18:16.426Z"
   },
   {
    "duration": 22,
    "start_time": "2024-06-30T20:18:16.438Z"
   },
   {
    "duration": 7,
    "start_time": "2024-06-30T20:18:16.463Z"
   },
   {
    "duration": 7,
    "start_time": "2024-06-30T20:18:54.822Z"
   },
   {
    "duration": 693,
    "start_time": "2024-06-30T20:19:00.254Z"
   },
   {
    "duration": 116,
    "start_time": "2024-06-30T20:19:00.949Z"
   },
   {
    "duration": 28,
    "start_time": "2024-06-30T20:19:01.067Z"
   },
   {
    "duration": 96,
    "start_time": "2024-06-30T20:19:01.097Z"
   },
   {
    "duration": 11,
    "start_time": "2024-06-30T20:19:01.195Z"
   },
   {
    "duration": 107,
    "start_time": "2024-06-30T20:19:01.208Z"
   },
   {
    "duration": 73,
    "start_time": "2024-06-30T20:19:01.317Z"
   },
   {
    "duration": 50,
    "start_time": "2024-06-30T20:19:01.392Z"
   },
   {
    "duration": 104,
    "start_time": "2024-06-30T20:19:01.444Z"
   },
   {
    "duration": 106,
    "start_time": "2024-06-30T20:19:01.552Z"
   },
   {
    "duration": 138,
    "start_time": "2024-06-30T20:19:01.660Z"
   },
   {
    "duration": 42,
    "start_time": "2024-06-30T20:19:01.800Z"
   },
   {
    "duration": 32,
    "start_time": "2024-06-30T20:19:01.844Z"
   },
   {
    "duration": 133,
    "start_time": "2024-06-30T20:19:01.878Z"
   },
   {
    "duration": 58,
    "start_time": "2024-06-30T20:19:02.013Z"
   },
   {
    "duration": 28,
    "start_time": "2024-06-30T20:19:02.073Z"
   },
   {
    "duration": 32,
    "start_time": "2024-06-30T20:19:02.103Z"
   },
   {
    "duration": 13,
    "start_time": "2024-06-30T20:19:02.137Z"
   },
   {
    "duration": 15,
    "start_time": "2024-06-30T20:19:02.152Z"
   },
   {
    "duration": 35,
    "start_time": "2024-06-30T20:19:02.169Z"
   },
   {
    "duration": 6,
    "start_time": "2024-06-30T20:19:02.207Z"
   },
   {
    "duration": 36,
    "start_time": "2024-06-30T20:19:02.215Z"
   },
   {
    "duration": 25,
    "start_time": "2024-06-30T20:19:02.253Z"
   },
   {
    "duration": 36,
    "start_time": "2024-06-30T20:19:02.280Z"
   },
   {
    "duration": 35,
    "start_time": "2024-06-30T20:19:02.319Z"
   },
   {
    "duration": 9,
    "start_time": "2024-06-30T20:19:02.356Z"
   },
   {
    "duration": 27,
    "start_time": "2024-06-30T20:19:02.367Z"
   },
   {
    "duration": 17,
    "start_time": "2024-06-30T20:19:02.399Z"
   },
   {
    "duration": 27,
    "start_time": "2024-06-30T20:19:02.418Z"
   },
   {
    "duration": 22,
    "start_time": "2024-06-30T20:19:02.447Z"
   },
   {
    "duration": 40,
    "start_time": "2024-06-30T20:19:02.471Z"
   },
   {
    "duration": 32,
    "start_time": "2024-06-30T20:19:02.513Z"
   },
   {
    "duration": 13,
    "start_time": "2024-06-30T20:19:02.547Z"
   },
   {
    "duration": 25,
    "start_time": "2024-06-30T20:19:02.562Z"
   },
   {
    "duration": 31,
    "start_time": "2024-06-30T20:19:02.589Z"
   },
   {
    "duration": 9,
    "start_time": "2024-06-30T20:19:02.622Z"
   },
   {
    "duration": 7,
    "start_time": "2024-06-30T20:19:02.633Z"
   },
   {
    "duration": 23,
    "start_time": "2024-06-30T20:19:02.642Z"
   },
   {
    "duration": 23,
    "start_time": "2024-06-30T20:19:02.668Z"
   },
   {
    "duration": 26,
    "start_time": "2024-06-30T20:19:02.693Z"
   },
   {
    "duration": 16,
    "start_time": "2024-06-30T20:19:02.721Z"
   },
   {
    "duration": 10,
    "start_time": "2024-06-30T20:20:33.801Z"
   },
   {
    "duration": 6,
    "start_time": "2024-06-30T20:21:30.947Z"
   },
   {
    "duration": 1110,
    "start_time": "2024-06-30T20:22:41.705Z"
   },
   {
    "duration": 8,
    "start_time": "2024-06-30T20:24:34.466Z"
   },
   {
    "duration": 7,
    "start_time": "2024-06-30T20:25:48.803Z"
   },
   {
    "duration": 32,
    "start_time": "2024-06-30T20:26:22.818Z"
   },
   {
    "duration": 31,
    "start_time": "2024-06-30T20:26:51.960Z"
   },
   {
    "duration": 32,
    "start_time": "2024-06-30T20:27:04.753Z"
   },
   {
    "duration": 36,
    "start_time": "2024-06-30T20:27:39.443Z"
   },
   {
    "duration": 666,
    "start_time": "2024-06-30T20:28:43.561Z"
   },
   {
    "duration": 106,
    "start_time": "2024-06-30T20:28:44.228Z"
   },
   {
    "duration": 26,
    "start_time": "2024-06-30T20:28:44.335Z"
   },
   {
    "duration": 57,
    "start_time": "2024-06-30T20:28:44.363Z"
   },
   {
    "duration": 10,
    "start_time": "2024-06-30T20:28:44.421Z"
   },
   {
    "duration": 20,
    "start_time": "2024-06-30T20:28:44.432Z"
   },
   {
    "duration": 60,
    "start_time": "2024-06-30T20:28:44.454Z"
   },
   {
    "duration": 16,
    "start_time": "2024-06-30T20:28:44.515Z"
   },
   {
    "duration": 13,
    "start_time": "2024-06-30T20:28:44.532Z"
   },
   {
    "duration": 9,
    "start_time": "2024-06-30T20:28:44.548Z"
   },
   {
    "duration": 6,
    "start_time": "2024-06-30T20:28:44.559Z"
   },
   {
    "duration": 11,
    "start_time": "2024-06-30T20:28:44.567Z"
   },
   {
    "duration": 10,
    "start_time": "2024-06-30T20:28:44.580Z"
   },
   {
    "duration": 7,
    "start_time": "2024-06-30T20:28:44.592Z"
   },
   {
    "duration": 9,
    "start_time": "2024-06-30T20:28:44.600Z"
   },
   {
    "duration": 16,
    "start_time": "2024-06-30T20:28:44.610Z"
   },
   {
    "duration": 38,
    "start_time": "2024-06-30T20:28:44.627Z"
   },
   {
    "duration": 6,
    "start_time": "2024-06-30T20:28:44.667Z"
   },
   {
    "duration": 10,
    "start_time": "2024-06-30T20:28:44.675Z"
   },
   {
    "duration": 22,
    "start_time": "2024-06-30T20:28:44.686Z"
   },
   {
    "duration": 6,
    "start_time": "2024-06-30T20:28:44.709Z"
   },
   {
    "duration": 17,
    "start_time": "2024-06-30T20:28:44.717Z"
   },
   {
    "duration": 35,
    "start_time": "2024-06-30T20:28:44.735Z"
   },
   {
    "duration": 14,
    "start_time": "2024-06-30T20:28:44.771Z"
   },
   {
    "duration": 12,
    "start_time": "2024-06-30T20:28:44.786Z"
   },
   {
    "duration": 6,
    "start_time": "2024-06-30T20:28:44.800Z"
   },
   {
    "duration": 19,
    "start_time": "2024-06-30T20:28:44.808Z"
   },
   {
    "duration": 31,
    "start_time": "2024-06-30T20:28:44.831Z"
   },
   {
    "duration": 6,
    "start_time": "2024-06-30T20:28:44.864Z"
   },
   {
    "duration": 10,
    "start_time": "2024-06-30T20:28:44.872Z"
   },
   {
    "duration": 11,
    "start_time": "2024-06-30T20:28:44.883Z"
   },
   {
    "duration": 12,
    "start_time": "2024-06-30T20:28:44.896Z"
   },
   {
    "duration": 14,
    "start_time": "2024-06-30T20:28:44.910Z"
   },
   {
    "duration": 13,
    "start_time": "2024-06-30T20:28:44.960Z"
   },
   {
    "duration": 18,
    "start_time": "2024-06-30T20:28:44.975Z"
   },
   {
    "duration": 8,
    "start_time": "2024-06-30T20:28:44.995Z"
   },
   {
    "duration": 98,
    "start_time": "2024-06-30T20:28:45.005Z"
   },
   {
    "duration": 51,
    "start_time": "2024-06-30T20:28:45.105Z"
   },
   {
    "duration": 36,
    "start_time": "2024-06-30T20:28:45.158Z"
   },
   {
    "duration": 35,
    "start_time": "2024-06-30T20:28:45.196Z"
   },
   {
    "duration": 27,
    "start_time": "2024-06-30T20:28:45.233Z"
   },
   {
    "duration": 44,
    "start_time": "2024-06-30T20:28:45.262Z"
   },
   {
    "duration": 34,
    "start_time": "2024-06-30T20:29:42.785Z"
   },
   {
    "duration": 31,
    "start_time": "2024-06-30T20:30:10.593Z"
   },
   {
    "duration": 30,
    "start_time": "2024-06-30T20:31:23.069Z"
   },
   {
    "duration": 6,
    "start_time": "2024-06-30T20:32:02.777Z"
   },
   {
    "duration": 7,
    "start_time": "2024-06-30T20:32:26.273Z"
   },
   {
    "duration": 26,
    "start_time": "2024-06-30T20:33:21.356Z"
   },
   {
    "duration": 668,
    "start_time": "2024-06-30T20:34:36.590Z"
   },
   {
    "duration": 106,
    "start_time": "2024-06-30T20:34:37.259Z"
   },
   {
    "duration": 16,
    "start_time": "2024-06-30T20:34:37.367Z"
   },
   {
    "duration": 44,
    "start_time": "2024-06-30T20:34:37.385Z"
   },
   {
    "duration": 11,
    "start_time": "2024-06-30T20:34:37.430Z"
   },
   {
    "duration": 12,
    "start_time": "2024-06-30T20:34:37.443Z"
   },
   {
    "duration": 32,
    "start_time": "2024-06-30T20:34:37.457Z"
   },
   {
    "duration": 17,
    "start_time": "2024-06-30T20:34:37.490Z"
   },
   {
    "duration": 11,
    "start_time": "2024-06-30T20:34:37.508Z"
   },
   {
    "duration": 20,
    "start_time": "2024-06-30T20:34:37.521Z"
   },
   {
    "duration": 26,
    "start_time": "2024-06-30T20:34:37.543Z"
   },
   {
    "duration": 21,
    "start_time": "2024-06-30T20:34:37.571Z"
   },
   {
    "duration": 5,
    "start_time": "2024-06-30T20:34:37.593Z"
   },
   {
    "duration": 17,
    "start_time": "2024-06-30T20:34:37.599Z"
   },
   {
    "duration": 6,
    "start_time": "2024-06-30T20:34:37.618Z"
   },
   {
    "duration": 19,
    "start_time": "2024-06-30T20:34:37.626Z"
   },
   {
    "duration": 35,
    "start_time": "2024-06-30T20:34:37.646Z"
   },
   {
    "duration": 66,
    "start_time": "2024-06-30T20:34:37.682Z"
   },
   {
    "duration": 8,
    "start_time": "2024-06-30T20:34:37.750Z"
   },
   {
    "duration": 96,
    "start_time": "2024-06-30T20:34:37.759Z"
   },
   {
    "duration": 5,
    "start_time": "2024-06-30T20:34:37.858Z"
   },
   {
    "duration": 10,
    "start_time": "2024-06-30T20:34:37.865Z"
   },
   {
    "duration": 13,
    "start_time": "2024-06-30T20:34:37.877Z"
   },
   {
    "duration": 16,
    "start_time": "2024-06-30T20:34:37.891Z"
   },
   {
    "duration": 77,
    "start_time": "2024-06-30T20:34:37.908Z"
   },
   {
    "duration": 65,
    "start_time": "2024-06-30T20:34:37.987Z"
   },
   {
    "duration": 15,
    "start_time": "2024-06-30T20:34:38.054Z"
   },
   {
    "duration": 5,
    "start_time": "2024-06-30T20:34:38.072Z"
   },
   {
    "duration": 8,
    "start_time": "2024-06-30T20:34:38.078Z"
   },
   {
    "duration": 10,
    "start_time": "2024-06-30T20:34:38.087Z"
   },
   {
    "duration": 16,
    "start_time": "2024-06-30T20:34:38.100Z"
   },
   {
    "duration": 44,
    "start_time": "2024-06-30T20:34:38.118Z"
   },
   {
    "duration": 11,
    "start_time": "2024-06-30T20:34:38.164Z"
   },
   {
    "duration": 15,
    "start_time": "2024-06-30T20:34:38.177Z"
   },
   {
    "duration": 16,
    "start_time": "2024-06-30T20:34:38.194Z"
   },
   {
    "duration": 9,
    "start_time": "2024-06-30T20:34:38.212Z"
   },
   {
    "duration": 4,
    "start_time": "2024-06-30T20:34:38.222Z"
   },
   {
    "duration": 9,
    "start_time": "2024-06-30T20:34:38.261Z"
   },
   {
    "duration": 5,
    "start_time": "2024-06-30T20:34:38.271Z"
   },
   {
    "duration": 13,
    "start_time": "2024-06-30T20:34:38.277Z"
   },
   {
    "duration": 6,
    "start_time": "2024-06-30T20:34:38.292Z"
   },
   {
    "duration": 25,
    "start_time": "2024-06-30T20:34:38.299Z"
   },
   {
    "duration": 28,
    "start_time": "2024-06-30T20:36:52.901Z"
   },
   {
    "duration": 27,
    "start_time": "2024-06-30T20:37:08.313Z"
   },
   {
    "duration": 30,
    "start_time": "2024-06-30T20:37:39.750Z"
   },
   {
    "duration": 1054,
    "start_time": "2024-06-30T20:38:38.904Z"
   },
   {
    "duration": 1066,
    "start_time": "2024-06-30T20:38:55.392Z"
   },
   {
    "duration": 1078,
    "start_time": "2024-06-30T20:39:49.497Z"
   },
   {
    "duration": 747,
    "start_time": "2024-06-30T20:42:01.675Z"
   },
   {
    "duration": 115,
    "start_time": "2024-06-30T20:42:02.424Z"
   },
   {
    "duration": 70,
    "start_time": "2024-06-30T20:42:02.541Z"
   },
   {
    "duration": 42,
    "start_time": "2024-06-30T20:42:02.615Z"
   },
   {
    "duration": 10,
    "start_time": "2024-06-30T20:42:02.658Z"
   },
   {
    "duration": 8,
    "start_time": "2024-06-30T20:42:02.670Z"
   },
   {
    "duration": 34,
    "start_time": "2024-06-30T20:42:02.680Z"
   },
   {
    "duration": 18,
    "start_time": "2024-06-30T20:42:02.716Z"
   },
   {
    "duration": 33,
    "start_time": "2024-06-30T20:42:02.736Z"
   },
   {
    "duration": 10,
    "start_time": "2024-06-30T20:42:02.773Z"
   },
   {
    "duration": 10,
    "start_time": "2024-06-30T20:42:02.785Z"
   },
   {
    "duration": 19,
    "start_time": "2024-06-30T20:42:02.797Z"
   },
   {
    "duration": 44,
    "start_time": "2024-06-30T20:42:02.818Z"
   },
   {
    "duration": 42,
    "start_time": "2024-06-30T20:42:02.865Z"
   },
   {
    "duration": 9,
    "start_time": "2024-06-30T20:42:02.909Z"
   },
   {
    "duration": 39,
    "start_time": "2024-06-30T20:42:02.920Z"
   },
   {
    "duration": 34,
    "start_time": "2024-06-30T20:42:02.961Z"
   },
   {
    "duration": 9,
    "start_time": "2024-06-30T20:42:02.997Z"
   },
   {
    "duration": 12,
    "start_time": "2024-06-30T20:42:03.008Z"
   },
   {
    "duration": 42,
    "start_time": "2024-06-30T20:42:03.022Z"
   },
   {
    "duration": 7,
    "start_time": "2024-06-30T20:42:03.066Z"
   },
   {
    "duration": 29,
    "start_time": "2024-06-30T20:42:03.075Z"
   },
   {
    "duration": 21,
    "start_time": "2024-06-30T20:42:03.106Z"
   },
   {
    "duration": 34,
    "start_time": "2024-06-30T20:42:03.129Z"
   },
   {
    "duration": 27,
    "start_time": "2024-06-30T20:42:03.164Z"
   },
   {
    "duration": 5,
    "start_time": "2024-06-30T20:42:03.193Z"
   },
   {
    "duration": 41,
    "start_time": "2024-06-30T20:42:03.200Z"
   },
   {
    "duration": 5,
    "start_time": "2024-06-30T20:42:03.245Z"
   },
   {
    "duration": 5,
    "start_time": "2024-06-30T20:42:03.252Z"
   },
   {
    "duration": 15,
    "start_time": "2024-06-30T20:42:03.258Z"
   },
   {
    "duration": 33,
    "start_time": "2024-06-30T20:42:03.274Z"
   },
   {
    "duration": 13,
    "start_time": "2024-06-30T20:42:03.309Z"
   },
   {
    "duration": 10,
    "start_time": "2024-06-30T20:42:03.324Z"
   },
   {
    "duration": 31,
    "start_time": "2024-06-30T20:42:03.336Z"
   },
   {
    "duration": 17,
    "start_time": "2024-06-30T20:42:03.369Z"
   },
   {
    "duration": 29,
    "start_time": "2024-06-30T20:42:03.388Z"
   },
   {
    "duration": 4,
    "start_time": "2024-06-30T20:42:03.419Z"
   },
   {
    "duration": 24,
    "start_time": "2024-06-30T20:42:03.424Z"
   },
   {
    "duration": 39,
    "start_time": "2024-06-30T20:42:03.461Z"
   },
   {
    "duration": 14,
    "start_time": "2024-06-30T20:42:03.502Z"
   },
   {
    "duration": 7,
    "start_time": "2024-06-30T20:42:03.518Z"
   },
   {
    "duration": 835,
    "start_time": "2024-07-04T08:16:02.277Z"
   },
   {
    "duration": 182,
    "start_time": "2024-07-04T08:16:03.115Z"
   },
   {
    "duration": 23,
    "start_time": "2024-07-04T08:16:03.298Z"
   },
   {
    "duration": 240,
    "start_time": "2024-07-04T08:16:03.324Z"
   },
   {
    "duration": 11,
    "start_time": "2024-07-04T08:16:03.566Z"
   },
   {
    "duration": 8,
    "start_time": "2024-07-04T08:16:03.578Z"
   },
   {
    "duration": 33,
    "start_time": "2024-07-04T08:16:03.587Z"
   },
   {
    "duration": 27,
    "start_time": "2024-07-04T08:16:03.622Z"
   },
   {
    "duration": 26,
    "start_time": "2024-07-04T08:16:03.650Z"
   },
   {
    "duration": 11,
    "start_time": "2024-07-04T08:16:03.678Z"
   },
   {
    "duration": 8,
    "start_time": "2024-07-04T08:16:03.691Z"
   },
   {
    "duration": 17,
    "start_time": "2024-07-04T08:16:03.701Z"
   },
   {
    "duration": 28,
    "start_time": "2024-07-04T08:16:03.720Z"
   },
   {
    "duration": 34,
    "start_time": "2024-07-04T08:16:03.751Z"
   },
   {
    "duration": 29,
    "start_time": "2024-07-04T08:16:03.787Z"
   },
   {
    "duration": 26,
    "start_time": "2024-07-04T08:16:03.818Z"
   },
   {
    "duration": 32,
    "start_time": "2024-07-04T08:16:03.845Z"
   },
   {
    "duration": 8,
    "start_time": "2024-07-04T08:16:03.879Z"
   },
   {
    "duration": 10,
    "start_time": "2024-07-04T08:16:03.889Z"
   },
   {
    "duration": 32,
    "start_time": "2024-07-04T08:16:03.900Z"
   },
   {
    "duration": 7,
    "start_time": "2024-07-04T08:16:03.934Z"
   },
   {
    "duration": 34,
    "start_time": "2024-07-04T08:16:03.946Z"
   },
   {
    "duration": 12,
    "start_time": "2024-07-04T08:16:03.982Z"
   },
   {
    "duration": 11,
    "start_time": "2024-07-04T08:16:03.995Z"
   },
   {
    "duration": 10,
    "start_time": "2024-07-04T08:16:04.008Z"
   },
   {
    "duration": 17,
    "start_time": "2024-07-04T08:16:04.020Z"
   },
   {
    "duration": 22,
    "start_time": "2024-07-04T08:16:04.039Z"
   },
   {
    "duration": 25,
    "start_time": "2024-07-04T08:16:04.063Z"
   },
   {
    "duration": 17,
    "start_time": "2024-07-04T08:16:04.090Z"
   },
   {
    "duration": 23,
    "start_time": "2024-07-04T08:16:04.109Z"
   },
   {
    "duration": 32,
    "start_time": "2024-07-04T08:16:04.134Z"
   },
   {
    "duration": 13,
    "start_time": "2024-07-04T08:16:04.168Z"
   },
   {
    "duration": 15,
    "start_time": "2024-07-04T08:16:04.183Z"
   },
   {
    "duration": 14,
    "start_time": "2024-07-04T08:16:04.200Z"
   },
   {
    "duration": 23,
    "start_time": "2024-07-04T08:16:04.216Z"
   },
   {
    "duration": 25,
    "start_time": "2024-07-04T08:16:04.241Z"
   },
   {
    "duration": 20,
    "start_time": "2024-07-04T08:16:04.268Z"
   },
   {
    "duration": 46,
    "start_time": "2024-07-04T08:16:04.290Z"
   },
   {
    "duration": 35,
    "start_time": "2024-07-04T08:16:04.337Z"
   },
   {
    "duration": 18,
    "start_time": "2024-07-04T08:16:04.373Z"
   },
   {
    "duration": 5,
    "start_time": "2024-07-04T08:16:04.395Z"
   },
   {
    "duration": 644,
    "start_time": "2024-07-04T08:16:32.056Z"
   },
   {
    "duration": 107,
    "start_time": "2024-07-04T08:16:32.702Z"
   },
   {
    "duration": 16,
    "start_time": "2024-07-04T08:16:32.810Z"
   },
   {
    "duration": 48,
    "start_time": "2024-07-04T08:16:32.828Z"
   },
   {
    "duration": 11,
    "start_time": "2024-07-04T08:16:32.879Z"
   },
   {
    "duration": 13,
    "start_time": "2024-07-04T08:16:32.892Z"
   },
   {
    "duration": 57,
    "start_time": "2024-07-04T08:16:32.906Z"
   },
   {
    "duration": 15,
    "start_time": "2024-07-04T08:16:32.964Z"
   },
   {
    "duration": 10,
    "start_time": "2024-07-04T08:16:32.981Z"
   },
   {
    "duration": 19,
    "start_time": "2024-07-04T08:16:32.992Z"
   },
   {
    "duration": 13,
    "start_time": "2024-07-04T08:16:33.013Z"
   },
   {
    "duration": 30,
    "start_time": "2024-07-04T08:16:33.028Z"
   },
   {
    "duration": 26,
    "start_time": "2024-07-04T08:16:33.059Z"
   },
   {
    "duration": 65,
    "start_time": "2024-07-04T08:16:33.089Z"
   },
   {
    "duration": 6,
    "start_time": "2024-07-04T08:16:33.156Z"
   },
   {
    "duration": 20,
    "start_time": "2024-07-04T08:16:33.164Z"
   },
   {
    "duration": 12,
    "start_time": "2024-07-04T08:16:33.186Z"
   },
   {
    "duration": 9,
    "start_time": "2024-07-04T08:16:33.200Z"
   },
   {
    "duration": 36,
    "start_time": "2024-07-04T08:16:33.211Z"
   },
   {
    "duration": 24,
    "start_time": "2024-07-04T08:16:33.251Z"
   },
   {
    "duration": 7,
    "start_time": "2024-07-04T08:16:33.277Z"
   },
   {
    "duration": 18,
    "start_time": "2024-07-04T08:16:33.286Z"
   },
   {
    "duration": 12,
    "start_time": "2024-07-04T08:16:33.306Z"
   },
   {
    "duration": 11,
    "start_time": "2024-07-04T08:16:33.345Z"
   },
   {
    "duration": 16,
    "start_time": "2024-07-04T08:16:33.359Z"
   },
   {
    "duration": 10,
    "start_time": "2024-07-04T08:16:33.377Z"
   },
   {
    "duration": 21,
    "start_time": "2024-07-04T08:16:33.389Z"
   },
   {
    "duration": 8,
    "start_time": "2024-07-04T08:16:33.412Z"
   },
   {
    "duration": 6,
    "start_time": "2024-07-04T08:16:33.446Z"
   },
   {
    "duration": 14,
    "start_time": "2024-07-04T08:16:33.453Z"
   },
   {
    "duration": 12,
    "start_time": "2024-07-04T08:16:33.468Z"
   },
   {
    "duration": 14,
    "start_time": "2024-07-04T08:16:33.481Z"
   },
   {
    "duration": 53,
    "start_time": "2024-07-04T08:16:33.497Z"
   },
   {
    "duration": 18,
    "start_time": "2024-07-04T08:16:33.551Z"
   },
   {
    "duration": 23,
    "start_time": "2024-07-04T08:16:33.571Z"
   },
   {
    "duration": 9,
    "start_time": "2024-07-04T08:16:33.595Z"
   },
   {
    "duration": 6,
    "start_time": "2024-07-04T08:16:33.647Z"
   },
   {
    "duration": 10,
    "start_time": "2024-07-04T08:16:33.655Z"
   },
   {
    "duration": 9,
    "start_time": "2024-07-04T08:16:33.667Z"
   },
   {
    "duration": 17,
    "start_time": "2024-07-04T08:16:33.678Z"
   },
   {
    "duration": 49,
    "start_time": "2024-07-04T08:16:33.698Z"
   },
   {
    "duration": 8,
    "start_time": "2024-07-04T08:25:16.080Z"
   },
   {
    "duration": 7,
    "start_time": "2024-07-04T08:25:28.437Z"
   },
   {
    "duration": 7,
    "start_time": "2024-07-04T08:25:35.600Z"
   },
   {
    "duration": 608,
    "start_time": "2024-07-04T08:25:50.881Z"
   },
   {
    "duration": 108,
    "start_time": "2024-07-04T08:25:51.490Z"
   },
   {
    "duration": 16,
    "start_time": "2024-07-04T08:25:51.599Z"
   },
   {
    "duration": 55,
    "start_time": "2024-07-04T08:25:51.617Z"
   },
   {
    "duration": 12,
    "start_time": "2024-07-04T08:25:51.675Z"
   },
   {
    "duration": 12,
    "start_time": "2024-07-04T08:25:51.688Z"
   },
   {
    "duration": 36,
    "start_time": "2024-07-04T08:25:51.702Z"
   },
   {
    "duration": 18,
    "start_time": "2024-07-04T08:25:51.739Z"
   },
   {
    "duration": 13,
    "start_time": "2024-07-04T08:25:51.759Z"
   },
   {
    "duration": 33,
    "start_time": "2024-07-04T08:25:51.773Z"
   },
   {
    "duration": 9,
    "start_time": "2024-07-04T08:25:51.808Z"
   },
   {
    "duration": 34,
    "start_time": "2024-07-04T08:25:51.819Z"
   },
   {
    "duration": 12,
    "start_time": "2024-07-04T08:25:51.855Z"
   },
   {
    "duration": 8,
    "start_time": "2024-07-04T08:25:51.872Z"
   },
   {
    "duration": 26,
    "start_time": "2024-07-04T08:25:51.883Z"
   },
   {
    "duration": 39,
    "start_time": "2024-07-04T08:25:51.911Z"
   },
   {
    "duration": 17,
    "start_time": "2024-07-04T08:25:51.952Z"
   },
   {
    "duration": 25,
    "start_time": "2024-07-04T08:25:51.970Z"
   },
   {
    "duration": 37,
    "start_time": "2024-07-04T08:25:51.997Z"
   },
   {
    "duration": 14,
    "start_time": "2024-07-04T08:25:52.036Z"
   },
   {
    "duration": 43,
    "start_time": "2024-07-04T08:25:52.052Z"
   },
   {
    "duration": 7,
    "start_time": "2024-07-04T08:25:52.097Z"
   },
   {
    "duration": 39,
    "start_time": "2024-07-04T08:25:52.106Z"
   },
   {
    "duration": 16,
    "start_time": "2024-07-04T08:25:52.147Z"
   },
   {
    "duration": 11,
    "start_time": "2024-07-04T08:25:52.164Z"
   },
   {
    "duration": 11,
    "start_time": "2024-07-04T08:25:52.177Z"
   },
   {
    "duration": 11,
    "start_time": "2024-07-04T08:25:52.190Z"
   },
   {
    "duration": 18,
    "start_time": "2024-07-04T08:25:52.203Z"
   },
   {
    "duration": 7,
    "start_time": "2024-07-04T08:25:52.245Z"
   },
   {
    "duration": 17,
    "start_time": "2024-07-04T08:25:52.254Z"
   },
   {
    "duration": 11,
    "start_time": "2024-07-04T08:25:52.273Z"
   },
   {
    "duration": 12,
    "start_time": "2024-07-04T08:25:52.286Z"
   },
   {
    "duration": 17,
    "start_time": "2024-07-04T08:25:52.300Z"
   },
   {
    "duration": 41,
    "start_time": "2024-07-04T08:25:52.319Z"
   },
   {
    "duration": 20,
    "start_time": "2024-07-04T08:25:52.363Z"
   },
   {
    "duration": 18,
    "start_time": "2024-07-04T08:25:52.385Z"
   },
   {
    "duration": 9,
    "start_time": "2024-07-04T08:25:52.405Z"
   },
   {
    "duration": 4,
    "start_time": "2024-07-04T08:25:52.446Z"
   },
   {
    "duration": 10,
    "start_time": "2024-07-04T08:25:52.452Z"
   },
   {
    "duration": 15,
    "start_time": "2024-07-04T08:25:52.464Z"
   },
   {
    "duration": 18,
    "start_time": "2024-07-04T08:25:52.483Z"
   },
   {
    "duration": 7,
    "start_time": "2024-07-04T08:25:52.503Z"
   },
   {
    "duration": 680,
    "start_time": "2024-07-04T08:28:05.841Z"
   },
   {
    "duration": 110,
    "start_time": "2024-07-04T08:28:06.523Z"
   },
   {
    "duration": 29,
    "start_time": "2024-07-04T08:28:06.635Z"
   },
   {
    "duration": 41,
    "start_time": "2024-07-04T08:28:06.667Z"
   },
   {
    "duration": 11,
    "start_time": "2024-07-04T08:28:06.710Z"
   },
   {
    "duration": 9,
    "start_time": "2024-07-04T08:28:06.722Z"
   },
   {
    "duration": 32,
    "start_time": "2024-07-04T08:28:06.733Z"
   },
   {
    "duration": 15,
    "start_time": "2024-07-04T08:28:06.766Z"
   },
   {
    "duration": 10,
    "start_time": "2024-07-04T08:28:06.782Z"
   },
   {
    "duration": 10,
    "start_time": "2024-07-04T08:28:06.794Z"
   },
   {
    "duration": 6,
    "start_time": "2024-07-04T08:28:06.805Z"
   },
   {
    "duration": 14,
    "start_time": "2024-07-04T08:28:06.813Z"
   },
   {
    "duration": 5,
    "start_time": "2024-07-04T08:28:06.846Z"
   },
   {
    "duration": 6,
    "start_time": "2024-07-04T08:28:06.855Z"
   },
   {
    "duration": 8,
    "start_time": "2024-07-04T08:28:06.863Z"
   },
   {
    "duration": 22,
    "start_time": "2024-07-04T08:28:06.873Z"
   },
   {
    "duration": 16,
    "start_time": "2024-07-04T08:28:06.897Z"
   },
   {
    "duration": 32,
    "start_time": "2024-07-04T08:28:06.915Z"
   },
   {
    "duration": 7,
    "start_time": "2024-07-04T08:28:06.949Z"
   },
   {
    "duration": 47,
    "start_time": "2024-07-04T08:28:06.958Z"
   },
   {
    "duration": 11,
    "start_time": "2024-07-04T08:28:07.007Z"
   },
   {
    "duration": 9,
    "start_time": "2024-07-04T08:28:07.020Z"
   },
   {
    "duration": 7,
    "start_time": "2024-07-04T08:28:07.031Z"
   },
   {
    "duration": 40,
    "start_time": "2024-07-04T08:28:07.040Z"
   },
   {
    "duration": 7,
    "start_time": "2024-07-04T08:28:07.082Z"
   },
   {
    "duration": 15,
    "start_time": "2024-07-04T08:28:07.091Z"
   },
   {
    "duration": 12,
    "start_time": "2024-07-04T08:28:07.108Z"
   },
   {
    "duration": 25,
    "start_time": "2024-07-04T08:28:07.122Z"
   },
   {
    "duration": 18,
    "start_time": "2024-07-04T08:28:07.148Z"
   },
   {
    "duration": 6,
    "start_time": "2024-07-04T08:28:07.168Z"
   },
   {
    "duration": 49,
    "start_time": "2024-07-04T08:28:07.177Z"
   },
   {
    "duration": 6,
    "start_time": "2024-07-04T08:28:07.228Z"
   },
   {
    "duration": 7,
    "start_time": "2024-07-04T08:28:07.245Z"
   },
   {
    "duration": 11,
    "start_time": "2024-07-04T08:28:07.253Z"
   },
   {
    "duration": 14,
    "start_time": "2024-07-04T08:28:07.265Z"
   },
   {
    "duration": 18,
    "start_time": "2024-07-04T08:28:07.281Z"
   },
   {
    "duration": 12,
    "start_time": "2024-07-04T08:28:07.301Z"
   },
   {
    "duration": 42,
    "start_time": "2024-07-04T08:28:07.315Z"
   },
   {
    "duration": 41,
    "start_time": "2024-07-04T08:28:07.359Z"
   },
   {
    "duration": 193,
    "start_time": "2024-07-04T08:28:07.401Z"
   },
   {
    "duration": 5,
    "start_time": "2024-07-04T08:28:07.598Z"
   },
   {
    "duration": 19,
    "start_time": "2024-07-04T08:28:07.604Z"
   },
   {
    "duration": 5,
    "start_time": "2024-07-04T08:28:07.625Z"
   },
   {
    "duration": 18,
    "start_time": "2024-07-04T08:28:07.631Z"
   },
   {
    "duration": 73,
    "start_time": "2024-07-04T08:28:07.651Z"
   },
   {
    "duration": 7,
    "start_time": "2024-07-04T08:29:11.818Z"
   },
   {
    "duration": 681,
    "start_time": "2024-07-04T08:29:17.322Z"
   },
   {
    "duration": 117,
    "start_time": "2024-07-04T08:29:18.006Z"
   },
   {
    "duration": 23,
    "start_time": "2024-07-04T08:29:18.125Z"
   },
   {
    "duration": 42,
    "start_time": "2024-07-04T08:29:18.149Z"
   },
   {
    "duration": 11,
    "start_time": "2024-07-04T08:29:18.193Z"
   },
   {
    "duration": 34,
    "start_time": "2024-07-04T08:29:18.205Z"
   },
   {
    "duration": 36,
    "start_time": "2024-07-04T08:29:18.241Z"
   },
   {
    "duration": 15,
    "start_time": "2024-07-04T08:29:18.279Z"
   },
   {
    "duration": 10,
    "start_time": "2024-07-04T08:29:18.296Z"
   },
   {
    "duration": 12,
    "start_time": "2024-07-04T08:29:18.308Z"
   },
   {
    "duration": 24,
    "start_time": "2024-07-04T08:29:18.322Z"
   },
   {
    "duration": 14,
    "start_time": "2024-07-04T08:29:18.347Z"
   },
   {
    "duration": 4,
    "start_time": "2024-07-04T08:29:18.363Z"
   },
   {
    "duration": 12,
    "start_time": "2024-07-04T08:29:18.371Z"
   },
   {
    "duration": 13,
    "start_time": "2024-07-04T08:29:18.385Z"
   },
   {
    "duration": 12,
    "start_time": "2024-07-04T08:29:18.400Z"
   },
   {
    "duration": 34,
    "start_time": "2024-07-04T08:29:18.413Z"
   },
   {
    "duration": 7,
    "start_time": "2024-07-04T08:29:18.448Z"
   },
   {
    "duration": 10,
    "start_time": "2024-07-04T08:29:18.457Z"
   },
   {
    "duration": 19,
    "start_time": "2024-07-04T08:29:18.468Z"
   },
   {
    "duration": 11,
    "start_time": "2024-07-04T08:29:18.488Z"
   },
   {
    "duration": 15,
    "start_time": "2024-07-04T08:29:18.501Z"
   },
   {
    "duration": 33,
    "start_time": "2024-07-04T08:29:18.518Z"
   },
   {
    "duration": 25,
    "start_time": "2024-07-04T08:29:18.553Z"
   },
   {
    "duration": 6,
    "start_time": "2024-07-04T08:29:18.580Z"
   },
   {
    "duration": 27,
    "start_time": "2024-07-04T08:29:18.588Z"
   },
   {
    "duration": 37,
    "start_time": "2024-07-04T08:29:18.617Z"
   },
   {
    "duration": 10,
    "start_time": "2024-07-04T08:29:18.655Z"
   },
   {
    "duration": 30,
    "start_time": "2024-07-04T08:29:18.666Z"
   },
   {
    "duration": 99,
    "start_time": "2024-07-04T08:29:18.698Z"
   },
   {
    "duration": 24,
    "start_time": "2024-07-04T08:29:18.799Z"
   },
   {
    "duration": 18,
    "start_time": "2024-07-04T08:29:18.826Z"
   },
   {
    "duration": 8,
    "start_time": "2024-07-04T08:29:18.846Z"
   },
   {
    "duration": 47,
    "start_time": "2024-07-04T08:29:18.856Z"
   },
   {
    "duration": 19,
    "start_time": "2024-07-04T08:29:18.906Z"
   },
   {
    "duration": 16,
    "start_time": "2024-07-04T08:29:18.926Z"
   },
   {
    "duration": 13,
    "start_time": "2024-07-04T08:29:18.944Z"
   },
   {
    "duration": 16,
    "start_time": "2024-07-04T08:29:18.959Z"
   },
   {
    "duration": 17,
    "start_time": "2024-07-04T08:29:18.977Z"
   },
   {
    "duration": 10,
    "start_time": "2024-07-04T08:29:18.995Z"
   },
   {
    "duration": 23,
    "start_time": "2024-07-04T08:29:19.008Z"
   },
   {
    "duration": 20,
    "start_time": "2024-07-04T08:29:19.033Z"
   },
   {
    "duration": 37,
    "start_time": "2024-07-04T08:29:19.055Z"
   },
   {
    "duration": 17,
    "start_time": "2024-07-04T08:29:19.094Z"
   },
   {
    "duration": 114,
    "start_time": "2024-07-04T08:29:19.112Z"
   },
   {
    "duration": 687,
    "start_time": "2024-07-04T08:31:57.829Z"
   },
   {
    "duration": 113,
    "start_time": "2024-07-04T08:31:58.517Z"
   },
   {
    "duration": 20,
    "start_time": "2024-07-04T08:31:58.632Z"
   },
   {
    "duration": 52,
    "start_time": "2024-07-04T08:31:58.653Z"
   },
   {
    "duration": 10,
    "start_time": "2024-07-04T08:31:58.707Z"
   },
   {
    "duration": 37,
    "start_time": "2024-07-04T08:31:58.719Z"
   },
   {
    "duration": 43,
    "start_time": "2024-07-04T08:31:58.758Z"
   },
   {
    "duration": 16,
    "start_time": "2024-07-04T08:31:58.802Z"
   },
   {
    "duration": 25,
    "start_time": "2024-07-04T08:31:58.820Z"
   },
   {
    "duration": 10,
    "start_time": "2024-07-04T08:31:58.846Z"
   },
   {
    "duration": 9,
    "start_time": "2024-07-04T08:31:58.858Z"
   },
   {
    "duration": 10,
    "start_time": "2024-07-04T08:31:58.868Z"
   },
   {
    "duration": 6,
    "start_time": "2024-07-04T08:31:58.880Z"
   },
   {
    "duration": 5,
    "start_time": "2024-07-04T08:31:58.889Z"
   },
   {
    "duration": 6,
    "start_time": "2024-07-04T08:31:58.896Z"
   },
   {
    "duration": 55,
    "start_time": "2024-07-04T08:31:58.903Z"
   },
   {
    "duration": 13,
    "start_time": "2024-07-04T08:31:58.960Z"
   },
   {
    "duration": 7,
    "start_time": "2024-07-04T08:31:58.975Z"
   },
   {
    "duration": 7,
    "start_time": "2024-07-04T08:31:58.984Z"
   },
   {
    "duration": 8,
    "start_time": "2024-07-04T08:31:58.993Z"
   },
   {
    "duration": 50,
    "start_time": "2024-07-04T08:31:59.002Z"
   },
   {
    "duration": 20,
    "start_time": "2024-07-04T08:31:59.053Z"
   },
   {
    "duration": 16,
    "start_time": "2024-07-04T08:31:59.074Z"
   },
   {
    "duration": 21,
    "start_time": "2024-07-04T08:31:59.092Z"
   },
   {
    "duration": 5,
    "start_time": "2024-07-04T08:31:59.115Z"
   },
   {
    "duration": 44,
    "start_time": "2024-07-04T08:31:59.121Z"
   },
   {
    "duration": 21,
    "start_time": "2024-07-04T08:31:59.167Z"
   },
   {
    "duration": 13,
    "start_time": "2024-07-04T08:31:59.190Z"
   },
   {
    "duration": 10,
    "start_time": "2024-07-04T08:31:59.205Z"
   },
   {
    "duration": 14,
    "start_time": "2024-07-04T08:31:59.216Z"
   },
   {
    "duration": 5,
    "start_time": "2024-07-04T08:31:59.231Z"
   },
   {
    "duration": 22,
    "start_time": "2024-07-04T08:31:59.238Z"
   },
   {
    "duration": 4,
    "start_time": "2024-07-04T08:31:59.262Z"
   },
   {
    "duration": 11,
    "start_time": "2024-07-04T08:31:59.268Z"
   },
   {
    "duration": 8,
    "start_time": "2024-07-04T08:31:59.281Z"
   },
   {
    "duration": 14,
    "start_time": "2024-07-04T08:31:59.291Z"
   },
   {
    "duration": 23,
    "start_time": "2024-07-04T08:31:59.306Z"
   },
   {
    "duration": 33,
    "start_time": "2024-07-04T08:31:59.330Z"
   },
   {
    "duration": 30,
    "start_time": "2024-07-04T08:31:59.365Z"
   },
   {
    "duration": 49,
    "start_time": "2024-07-04T08:31:59.397Z"
   },
   {
    "duration": 14,
    "start_time": "2024-07-04T08:31:59.452Z"
   },
   {
    "duration": 7,
    "start_time": "2024-07-04T08:31:59.468Z"
   },
   {
    "duration": 14,
    "start_time": "2024-07-04T08:31:59.477Z"
   },
   {
    "duration": 6,
    "start_time": "2024-07-04T08:31:59.494Z"
   },
   {
    "duration": 52,
    "start_time": "2024-07-04T08:31:59.502Z"
   },
   {
    "duration": 102,
    "start_time": "2024-07-04T08:31:59.556Z"
   },
   {
    "duration": 655,
    "start_time": "2024-07-04T08:32:25.678Z"
   },
   {
    "duration": 110,
    "start_time": "2024-07-04T08:32:26.335Z"
   },
   {
    "duration": 24,
    "start_time": "2024-07-04T08:32:26.447Z"
   },
   {
    "duration": 45,
    "start_time": "2024-07-04T08:32:26.474Z"
   },
   {
    "duration": 10,
    "start_time": "2024-07-04T08:32:26.522Z"
   },
   {
    "duration": 13,
    "start_time": "2024-07-04T08:32:26.534Z"
   },
   {
    "duration": 50,
    "start_time": "2024-07-04T08:32:26.549Z"
   },
   {
    "duration": 27,
    "start_time": "2024-07-04T08:32:26.601Z"
   },
   {
    "duration": 25,
    "start_time": "2024-07-04T08:32:26.631Z"
   },
   {
    "duration": 12,
    "start_time": "2024-07-04T08:32:26.659Z"
   },
   {
    "duration": 6,
    "start_time": "2024-07-04T08:32:26.674Z"
   },
   {
    "duration": 12,
    "start_time": "2024-07-04T08:32:26.682Z"
   },
   {
    "duration": 20,
    "start_time": "2024-07-04T08:32:26.696Z"
   },
   {
    "duration": 28,
    "start_time": "2024-07-04T08:32:26.720Z"
   },
   {
    "duration": 15,
    "start_time": "2024-07-04T08:32:26.750Z"
   },
   {
    "duration": 11,
    "start_time": "2024-07-04T08:32:26.767Z"
   },
   {
    "duration": 13,
    "start_time": "2024-07-04T08:32:26.780Z"
   },
   {
    "duration": 7,
    "start_time": "2024-07-04T08:32:26.794Z"
   },
   {
    "duration": 7,
    "start_time": "2024-07-04T08:32:26.803Z"
   },
   {
    "duration": 39,
    "start_time": "2024-07-04T08:32:26.811Z"
   },
   {
    "duration": 7,
    "start_time": "2024-07-04T08:32:26.852Z"
   },
   {
    "duration": 11,
    "start_time": "2024-07-04T08:32:26.861Z"
   },
   {
    "duration": 31,
    "start_time": "2024-07-04T08:32:26.874Z"
   },
   {
    "duration": 42,
    "start_time": "2024-07-04T08:32:26.907Z"
   },
   {
    "duration": 5,
    "start_time": "2024-07-04T08:32:26.951Z"
   },
   {
    "duration": 15,
    "start_time": "2024-07-04T08:32:26.958Z"
   },
   {
    "duration": 11,
    "start_time": "2024-07-04T08:32:26.974Z"
   },
   {
    "duration": 24,
    "start_time": "2024-07-04T08:32:26.986Z"
   },
   {
    "duration": 9,
    "start_time": "2024-07-04T08:32:27.011Z"
   },
   {
    "duration": 31,
    "start_time": "2024-07-04T08:32:27.021Z"
   },
   {
    "duration": 41,
    "start_time": "2024-07-04T08:32:27.053Z"
   },
   {
    "duration": 17,
    "start_time": "2024-07-04T08:32:27.096Z"
   },
   {
    "duration": 20,
    "start_time": "2024-07-04T08:32:27.114Z"
   },
   {
    "duration": 14,
    "start_time": "2024-07-04T08:32:27.135Z"
   },
   {
    "duration": 9,
    "start_time": "2024-07-04T08:32:27.150Z"
   },
   {
    "duration": 11,
    "start_time": "2024-07-04T08:32:27.160Z"
   },
   {
    "duration": 16,
    "start_time": "2024-07-04T08:32:27.173Z"
   },
   {
    "duration": 11,
    "start_time": "2024-07-04T08:32:27.190Z"
   },
   {
    "duration": 45,
    "start_time": "2024-07-04T08:32:27.203Z"
   },
   {
    "duration": 19,
    "start_time": "2024-07-04T08:32:27.250Z"
   },
   {
    "duration": 9,
    "start_time": "2024-07-04T08:32:27.275Z"
   },
   {
    "duration": 19,
    "start_time": "2024-07-04T08:32:27.286Z"
   },
   {
    "duration": 23,
    "start_time": "2024-07-04T08:32:27.307Z"
   },
   {
    "duration": 21,
    "start_time": "2024-07-04T08:32:27.332Z"
   },
   {
    "duration": 24,
    "start_time": "2024-07-04T08:32:27.355Z"
   },
   {
    "duration": 87,
    "start_time": "2024-07-04T08:32:27.381Z"
   },
   {
    "duration": 1035,
    "start_time": "2024-07-04T09:04:34.878Z"
   },
   {
    "duration": 952,
    "start_time": "2024-07-04T09:04:52.493Z"
   },
   {
    "duration": 1115,
    "start_time": "2024-07-04T09:05:08.653Z"
   },
   {
    "duration": 22,
    "start_time": "2024-07-04T09:05:52.109Z"
   },
   {
    "duration": 71,
    "start_time": "2024-07-04T09:06:52.424Z"
   },
   {
    "duration": 12,
    "start_time": "2024-07-04T09:06:59.958Z"
   },
   {
    "duration": 19,
    "start_time": "2024-07-04T09:07:12.903Z"
   },
   {
    "duration": 19,
    "start_time": "2024-07-04T09:07:16.005Z"
   },
   {
    "duration": 1011,
    "start_time": "2024-07-04T09:07:31.934Z"
   },
   {
    "duration": 998,
    "start_time": "2024-07-04T09:07:38.182Z"
   },
   {
    "duration": 1113,
    "start_time": "2024-07-04T09:07:51.443Z"
   },
   {
    "duration": 949,
    "start_time": "2024-07-04T09:08:23.773Z"
   },
   {
    "duration": 1132,
    "start_time": "2024-07-04T09:08:29.713Z"
   },
   {
    "duration": 8,
    "start_time": "2024-07-04T09:08:56.217Z"
   },
   {
    "duration": 12,
    "start_time": "2024-07-04T09:09:03.735Z"
   },
   {
    "duration": 1027,
    "start_time": "2024-07-04T09:09:16.614Z"
   },
   {
    "duration": 949,
    "start_time": "2024-07-04T09:09:31.176Z"
   },
   {
    "duration": 698,
    "start_time": "2024-07-04T09:10:57.686Z"
   },
   {
    "duration": 129,
    "start_time": "2024-07-04T09:10:58.386Z"
   },
   {
    "duration": 17,
    "start_time": "2024-07-04T09:10:58.517Z"
   },
   {
    "duration": 49,
    "start_time": "2024-07-04T09:10:58.535Z"
   },
   {
    "duration": 12,
    "start_time": "2024-07-04T09:10:58.587Z"
   },
   {
    "duration": 15,
    "start_time": "2024-07-04T09:10:58.601Z"
   },
   {
    "duration": 36,
    "start_time": "2024-07-04T09:10:58.617Z"
   },
   {
    "duration": 21,
    "start_time": "2024-07-04T09:10:58.656Z"
   },
   {
    "duration": 12,
    "start_time": "2024-07-04T09:10:58.679Z"
   },
   {
    "duration": 13,
    "start_time": "2024-07-04T09:10:58.692Z"
   },
   {
    "duration": 16,
    "start_time": "2024-07-04T09:10:58.706Z"
   },
   {
    "duration": 32,
    "start_time": "2024-07-04T09:10:58.724Z"
   },
   {
    "duration": 20,
    "start_time": "2024-07-04T09:10:58.758Z"
   },
   {
    "duration": 8,
    "start_time": "2024-07-04T09:10:58.782Z"
   },
   {
    "duration": 15,
    "start_time": "2024-07-04T09:10:58.792Z"
   },
   {
    "duration": 27,
    "start_time": "2024-07-04T09:10:58.809Z"
   },
   {
    "duration": 26,
    "start_time": "2024-07-04T09:10:58.838Z"
   },
   {
    "duration": 8,
    "start_time": "2024-07-04T09:10:58.867Z"
   },
   {
    "duration": 12,
    "start_time": "2024-07-04T09:10:58.877Z"
   },
   {
    "duration": 8,
    "start_time": "2024-07-04T09:10:58.891Z"
   },
   {
    "duration": 9,
    "start_time": "2024-07-04T09:10:58.900Z"
   },
   {
    "duration": 8,
    "start_time": "2024-07-04T09:10:58.910Z"
   },
   {
    "duration": 44,
    "start_time": "2024-07-04T09:10:58.920Z"
   },
   {
    "duration": 8,
    "start_time": "2024-07-04T09:10:58.966Z"
   },
   {
    "duration": 33,
    "start_time": "2024-07-04T09:10:58.975Z"
   },
   {
    "duration": 15,
    "start_time": "2024-07-04T09:10:59.009Z"
   },
   {
    "duration": 18,
    "start_time": "2024-07-04T09:10:59.026Z"
   },
   {
    "duration": 13,
    "start_time": "2024-07-04T09:10:59.048Z"
   },
   {
    "duration": 31,
    "start_time": "2024-07-04T09:10:59.062Z"
   },
   {
    "duration": 10,
    "start_time": "2024-07-04T09:10:59.095Z"
   },
   {
    "duration": 29,
    "start_time": "2024-07-04T09:10:59.106Z"
   },
   {
    "duration": 7,
    "start_time": "2024-07-04T09:10:59.137Z"
   },
   {
    "duration": 18,
    "start_time": "2024-07-04T09:10:59.146Z"
   },
   {
    "duration": 12,
    "start_time": "2024-07-04T09:10:59.167Z"
   },
   {
    "duration": 14,
    "start_time": "2024-07-04T09:10:59.181Z"
   },
   {
    "duration": 20,
    "start_time": "2024-07-04T09:10:59.196Z"
   },
   {
    "duration": 12,
    "start_time": "2024-07-04T09:10:59.217Z"
   },
   {
    "duration": 22,
    "start_time": "2024-07-04T09:10:59.246Z"
   },
   {
    "duration": 18,
    "start_time": "2024-07-04T09:10:59.270Z"
   },
   {
    "duration": 10,
    "start_time": "2024-07-04T09:10:59.289Z"
   },
   {
    "duration": 4,
    "start_time": "2024-07-04T09:10:59.302Z"
   },
   {
    "duration": 12,
    "start_time": "2024-07-04T09:10:59.348Z"
   },
   {
    "duration": 23,
    "start_time": "2024-07-04T09:10:59.361Z"
   },
   {
    "duration": 17,
    "start_time": "2024-07-04T09:10:59.387Z"
   },
   {
    "duration": 6,
    "start_time": "2024-07-04T09:10:59.407Z"
   },
   {
    "duration": 3223,
    "start_time": "2024-07-04T09:10:59.415Z"
   },
   {
    "duration": 1132,
    "start_time": "2024-07-04T09:12:57.183Z"
   },
   {
    "duration": 5,
    "start_time": "2024-07-04T09:19:53.725Z"
   },
   {
    "duration": 4,
    "start_time": "2024-07-04T09:20:10.275Z"
   },
   {
    "duration": 8,
    "start_time": "2024-07-04T09:20:35.594Z"
   },
   {
    "duration": 7,
    "start_time": "2024-07-04T09:20:48.696Z"
   },
   {
    "duration": 738,
    "start_time": "2024-07-04T09:20:59.541Z"
   },
   {
    "duration": 124,
    "start_time": "2024-07-04T09:21:00.281Z"
   },
   {
    "duration": 36,
    "start_time": "2024-07-04T09:21:00.407Z"
   },
   {
    "duration": 97,
    "start_time": "2024-07-04T09:21:00.444Z"
   },
   {
    "duration": 13,
    "start_time": "2024-07-04T09:21:00.543Z"
   },
   {
    "duration": 54,
    "start_time": "2024-07-04T09:21:00.558Z"
   },
   {
    "duration": 119,
    "start_time": "2024-07-04T09:21:00.614Z"
   },
   {
    "duration": 70,
    "start_time": "2024-07-04T09:21:00.735Z"
   },
   {
    "duration": 67,
    "start_time": "2024-07-04T09:21:00.806Z"
   },
   {
    "duration": 163,
    "start_time": "2024-07-04T09:21:00.874Z"
   },
   {
    "duration": 72,
    "start_time": "2024-07-04T09:21:01.038Z"
   },
   {
    "duration": 49,
    "start_time": "2024-07-04T09:21:01.112Z"
   },
   {
    "duration": 36,
    "start_time": "2024-07-04T09:21:01.163Z"
   },
   {
    "duration": 55,
    "start_time": "2024-07-04T09:21:01.204Z"
   },
   {
    "duration": 51,
    "start_time": "2024-07-04T09:21:01.261Z"
   },
   {
    "duration": 66,
    "start_time": "2024-07-04T09:21:01.314Z"
   },
   {
    "duration": 51,
    "start_time": "2024-07-04T09:21:01.382Z"
   },
   {
    "duration": 87,
    "start_time": "2024-07-04T09:21:01.435Z"
   },
   {
    "duration": 95,
    "start_time": "2024-07-04T09:21:01.524Z"
   },
   {
    "duration": 352,
    "start_time": "2024-07-04T09:21:01.621Z"
   },
   {
    "duration": 357,
    "start_time": "2024-07-04T09:21:01.975Z"
   },
   {
    "duration": 60,
    "start_time": "2024-07-04T09:21:02.333Z"
   },
   {
    "duration": 80,
    "start_time": "2024-07-04T09:21:02.395Z"
   },
   {
    "duration": 8,
    "start_time": "2024-07-04T09:21:02.477Z"
   },
   {
    "duration": 46,
    "start_time": "2024-07-04T09:21:02.487Z"
   },
   {
    "duration": 51,
    "start_time": "2024-07-04T09:21:02.535Z"
   },
   {
    "duration": 218,
    "start_time": "2024-07-04T09:21:02.588Z"
   },
   {
    "duration": 83,
    "start_time": "2024-07-04T09:21:02.807Z"
   },
   {
    "duration": 31,
    "start_time": "2024-07-04T09:21:02.891Z"
   },
   {
    "duration": 37,
    "start_time": "2024-07-04T09:21:02.924Z"
   },
   {
    "duration": 21,
    "start_time": "2024-07-04T09:21:02.962Z"
   },
   {
    "duration": 5,
    "start_time": "2024-07-04T09:21:02.985Z"
   },
   {
    "duration": 36,
    "start_time": "2024-07-04T09:21:02.992Z"
   },
   {
    "duration": 36,
    "start_time": "2024-07-04T09:21:03.030Z"
   },
   {
    "duration": 15,
    "start_time": "2024-07-04T09:21:03.068Z"
   },
   {
    "duration": 30,
    "start_time": "2024-07-04T09:21:03.085Z"
   },
   {
    "duration": 14,
    "start_time": "2024-07-04T09:21:03.116Z"
   },
   {
    "duration": 19,
    "start_time": "2024-07-04T09:21:03.133Z"
   },
   {
    "duration": 18,
    "start_time": "2024-07-04T09:21:03.154Z"
   },
   {
    "duration": 12,
    "start_time": "2024-07-04T09:21:03.174Z"
   },
   {
    "duration": 15,
    "start_time": "2024-07-04T09:21:03.190Z"
   },
   {
    "duration": 11,
    "start_time": "2024-07-04T09:21:03.206Z"
   },
   {
    "duration": 5,
    "start_time": "2024-07-04T09:21:03.219Z"
   },
   {
    "duration": 41,
    "start_time": "2024-07-04T09:21:03.226Z"
   },
   {
    "duration": 12,
    "start_time": "2024-07-04T09:21:03.268Z"
   },
   {
    "duration": 24,
    "start_time": "2024-07-04T09:21:03.281Z"
   },
   {
    "duration": 5,
    "start_time": "2024-07-04T09:21:03.307Z"
   },
   {
    "duration": 8,
    "start_time": "2024-07-04T09:23:27.243Z"
   },
   {
    "duration": 39,
    "start_time": "2024-07-04T09:23:32.341Z"
   },
   {
    "duration": 30,
    "start_time": "2024-07-04T09:24:33.503Z"
   },
   {
    "duration": 8,
    "start_time": "2024-07-04T10:04:37.804Z"
   },
   {
    "duration": 7,
    "start_time": "2024-07-04T10:04:47.071Z"
   },
   {
    "duration": 8,
    "start_time": "2024-07-04T10:04:50.624Z"
   },
   {
    "duration": 7,
    "start_time": "2024-07-04T10:06:32.052Z"
   },
   {
    "duration": 7,
    "start_time": "2024-07-04T10:14:34.172Z"
   },
   {
    "duration": 13,
    "start_time": "2024-07-04T10:14:42.022Z"
   },
   {
    "duration": 33,
    "start_time": "2024-07-04T10:16:21.876Z"
   },
   {
    "duration": 6,
    "start_time": "2024-07-04T10:16:24.892Z"
   },
   {
    "duration": 12,
    "start_time": "2024-07-04T10:16:25.738Z"
   },
   {
    "duration": 12,
    "start_time": "2024-07-04T10:17:05.613Z"
   },
   {
    "duration": 10,
    "start_time": "2024-07-04T10:17:42.144Z"
   },
   {
    "duration": 7,
    "start_time": "2024-07-04T10:18:29.636Z"
   },
   {
    "duration": 13,
    "start_time": "2024-07-04T10:18:30.737Z"
   },
   {
    "duration": 12,
    "start_time": "2024-07-04T10:18:49.811Z"
   },
   {
    "duration": 13,
    "start_time": "2024-07-04T10:19:50.994Z"
   },
   {
    "duration": 690,
    "start_time": "2024-07-04T10:20:27.340Z"
   },
   {
    "duration": 115,
    "start_time": "2024-07-04T10:20:28.032Z"
   },
   {
    "duration": 16,
    "start_time": "2024-07-04T10:20:28.149Z"
   },
   {
    "duration": 116,
    "start_time": "2024-07-04T10:20:28.167Z"
   },
   {
    "duration": 9,
    "start_time": "2024-07-04T10:20:28.285Z"
   },
   {
    "duration": 38,
    "start_time": "2024-07-04T10:20:28.296Z"
   },
   {
    "duration": 47,
    "start_time": "2024-07-04T10:20:28.336Z"
   },
   {
    "duration": 14,
    "start_time": "2024-07-04T10:20:28.385Z"
   },
   {
    "duration": 23,
    "start_time": "2024-07-04T10:20:28.401Z"
   },
   {
    "duration": 8,
    "start_time": "2024-07-04T10:20:28.427Z"
   },
   {
    "duration": 10,
    "start_time": "2024-07-04T10:20:28.437Z"
   },
   {
    "duration": 20,
    "start_time": "2024-07-04T10:20:28.448Z"
   },
   {
    "duration": 6,
    "start_time": "2024-07-04T10:20:28.470Z"
   },
   {
    "duration": 15,
    "start_time": "2024-07-04T10:20:28.477Z"
   },
   {
    "duration": 7,
    "start_time": "2024-07-04T10:20:28.494Z"
   },
   {
    "duration": 12,
    "start_time": "2024-07-04T10:20:28.503Z"
   },
   {
    "duration": 35,
    "start_time": "2024-07-04T10:20:28.517Z"
   },
   {
    "duration": 6,
    "start_time": "2024-07-04T10:20:28.554Z"
   },
   {
    "duration": 10,
    "start_time": "2024-07-04T10:20:28.561Z"
   },
   {
    "duration": 7,
    "start_time": "2024-07-04T10:20:28.573Z"
   },
   {
    "duration": 8,
    "start_time": "2024-07-04T10:20:28.583Z"
   },
   {
    "duration": 8,
    "start_time": "2024-07-04T10:20:28.593Z"
   },
   {
    "duration": 48,
    "start_time": "2024-07-04T10:20:28.617Z"
   },
   {
    "duration": 6,
    "start_time": "2024-07-04T10:20:28.666Z"
   },
   {
    "duration": 29,
    "start_time": "2024-07-04T10:20:28.673Z"
   },
   {
    "duration": 20,
    "start_time": "2024-07-04T10:20:28.703Z"
   },
   {
    "duration": 17,
    "start_time": "2024-07-04T10:20:28.724Z"
   },
   {
    "duration": 8,
    "start_time": "2024-07-04T10:20:28.747Z"
   },
   {
    "duration": 10,
    "start_time": "2024-07-04T10:20:28.756Z"
   },
   {
    "duration": 5,
    "start_time": "2024-07-04T10:20:28.768Z"
   },
   {
    "duration": 31,
    "start_time": "2024-07-04T10:20:28.775Z"
   },
   {
    "duration": 6,
    "start_time": "2024-07-04T10:20:28.808Z"
   },
   {
    "duration": 31,
    "start_time": "2024-07-04T10:20:28.816Z"
   },
   {
    "duration": 10,
    "start_time": "2024-07-04T10:20:28.848Z"
   },
   {
    "duration": 23,
    "start_time": "2024-07-04T10:20:28.859Z"
   },
   {
    "duration": 23,
    "start_time": "2024-07-04T10:20:28.884Z"
   },
   {
    "duration": 13,
    "start_time": "2024-07-04T10:20:28.908Z"
   },
   {
    "duration": 28,
    "start_time": "2024-07-04T10:20:28.923Z"
   },
   {
    "duration": 27,
    "start_time": "2024-07-04T10:20:28.954Z"
   },
   {
    "duration": 12,
    "start_time": "2024-07-04T10:20:28.983Z"
   },
   {
    "duration": 4,
    "start_time": "2024-07-04T10:20:28.997Z"
   },
   {
    "duration": 46,
    "start_time": "2024-07-04T10:20:29.003Z"
   },
   {
    "duration": 4,
    "start_time": "2024-07-04T10:20:29.051Z"
   },
   {
    "duration": 16,
    "start_time": "2024-07-04T10:20:29.057Z"
   },
   {
    "duration": 6,
    "start_time": "2024-07-04T10:20:29.075Z"
   },
   {
    "duration": 4,
    "start_time": "2024-07-04T10:20:29.083Z"
   },
   {
    "duration": 4,
    "start_time": "2024-07-04T10:20:29.089Z"
   },
   {
    "duration": 75,
    "start_time": "2024-07-04T10:20:29.095Z"
   },
   {
    "duration": 8,
    "start_time": "2024-07-04T10:20:29.172Z"
   },
   {
    "duration": 34,
    "start_time": "2024-07-04T10:20:29.181Z"
   },
   {
    "duration": 16,
    "start_time": "2024-07-04T10:21:45.231Z"
   },
   {
    "duration": 12,
    "start_time": "2024-07-04T10:22:06.924Z"
   },
   {
    "duration": 13,
    "start_time": "2024-07-04T10:22:14.604Z"
   },
   {
    "duration": 628,
    "start_time": "2024-07-04T10:22:29.702Z"
   },
   {
    "duration": 127,
    "start_time": "2024-07-04T10:22:30.332Z"
   },
   {
    "duration": 38,
    "start_time": "2024-07-04T10:22:30.461Z"
   },
   {
    "duration": 203,
    "start_time": "2024-07-04T10:22:30.502Z"
   },
   {
    "duration": 12,
    "start_time": "2024-07-04T10:22:30.706Z"
   },
   {
    "duration": 31,
    "start_time": "2024-07-04T10:22:30.720Z"
   },
   {
    "duration": 47,
    "start_time": "2024-07-04T10:22:30.753Z"
   },
   {
    "duration": 16,
    "start_time": "2024-07-04T10:22:30.801Z"
   },
   {
    "duration": 38,
    "start_time": "2024-07-04T10:22:30.818Z"
   },
   {
    "duration": 67,
    "start_time": "2024-07-04T10:22:30.859Z"
   },
   {
    "duration": 36,
    "start_time": "2024-07-04T10:22:30.927Z"
   },
   {
    "duration": 52,
    "start_time": "2024-07-04T10:22:30.965Z"
   },
   {
    "duration": 184,
    "start_time": "2024-07-04T10:22:31.019Z"
   },
   {
    "duration": 115,
    "start_time": "2024-07-04T10:22:31.205Z"
   },
   {
    "duration": 206,
    "start_time": "2024-07-04T10:22:31.322Z"
   },
   {
    "duration": 49,
    "start_time": "2024-07-04T10:22:31.529Z"
   },
   {
    "duration": 88,
    "start_time": "2024-07-04T10:22:31.579Z"
   },
   {
    "duration": 100,
    "start_time": "2024-07-04T10:22:31.669Z"
   },
   {
    "duration": 85,
    "start_time": "2024-07-04T10:22:31.772Z"
   },
   {
    "duration": 99,
    "start_time": "2024-07-04T10:22:31.859Z"
   },
   {
    "duration": 54,
    "start_time": "2024-07-04T10:22:31.960Z"
   },
   {
    "duration": 103,
    "start_time": "2024-07-04T10:22:32.015Z"
   },
   {
    "duration": 258,
    "start_time": "2024-07-04T10:22:32.119Z"
   },
   {
    "duration": 49,
    "start_time": "2024-07-04T10:22:32.379Z"
   },
   {
    "duration": 27,
    "start_time": "2024-07-04T10:22:32.429Z"
   },
   {
    "duration": 25,
    "start_time": "2024-07-04T10:22:32.457Z"
   },
   {
    "duration": 37,
    "start_time": "2024-07-04T10:22:32.484Z"
   },
   {
    "duration": 43,
    "start_time": "2024-07-04T10:22:32.524Z"
   },
   {
    "duration": 72,
    "start_time": "2024-07-04T10:22:32.569Z"
   },
   {
    "duration": 42,
    "start_time": "2024-07-04T10:22:32.642Z"
   },
   {
    "duration": 23,
    "start_time": "2024-07-04T10:22:32.686Z"
   },
   {
    "duration": 5,
    "start_time": "2024-07-04T10:22:32.711Z"
   },
   {
    "duration": 9,
    "start_time": "2024-07-04T10:22:32.717Z"
   },
   {
    "duration": 9,
    "start_time": "2024-07-04T10:22:32.728Z"
   },
   {
    "duration": 14,
    "start_time": "2024-07-04T10:22:32.738Z"
   },
   {
    "duration": 14,
    "start_time": "2024-07-04T10:22:32.753Z"
   },
   {
    "duration": 12,
    "start_time": "2024-07-04T10:22:32.769Z"
   },
   {
    "duration": 33,
    "start_time": "2024-07-04T10:22:32.783Z"
   },
   {
    "duration": 17,
    "start_time": "2024-07-04T10:22:32.817Z"
   },
   {
    "duration": 20,
    "start_time": "2024-07-04T10:22:32.835Z"
   },
   {
    "duration": 24,
    "start_time": "2024-07-04T10:22:32.857Z"
   },
   {
    "duration": 32,
    "start_time": "2024-07-04T10:22:32.882Z"
   },
   {
    "duration": 6,
    "start_time": "2024-07-04T10:22:32.916Z"
   },
   {
    "duration": 24,
    "start_time": "2024-07-04T10:22:32.924Z"
   },
   {
    "duration": 40,
    "start_time": "2024-07-04T10:22:32.949Z"
   },
   {
    "duration": 27,
    "start_time": "2024-07-04T10:22:32.990Z"
   },
   {
    "duration": 26,
    "start_time": "2024-07-04T10:22:33.019Z"
   },
   {
    "duration": 34,
    "start_time": "2024-07-04T10:22:33.046Z"
   },
   {
    "duration": 7,
    "start_time": "2024-07-04T10:22:33.081Z"
   },
   {
    "duration": 29,
    "start_time": "2024-07-04T10:22:33.090Z"
   },
   {
    "duration": 710,
    "start_time": "2024-07-04T10:23:33.750Z"
   },
   {
    "duration": 118,
    "start_time": "2024-07-04T10:23:34.462Z"
   },
   {
    "duration": 23,
    "start_time": "2024-07-04T10:23:34.585Z"
   },
   {
    "duration": 42,
    "start_time": "2024-07-04T10:23:34.611Z"
   },
   {
    "duration": 15,
    "start_time": "2024-07-04T10:23:34.656Z"
   },
   {
    "duration": 28,
    "start_time": "2024-07-04T10:23:34.673Z"
   },
   {
    "duration": 44,
    "start_time": "2024-07-04T10:23:34.702Z"
   },
   {
    "duration": 15,
    "start_time": "2024-07-04T10:23:34.747Z"
   },
   {
    "duration": 16,
    "start_time": "2024-07-04T10:23:34.764Z"
   },
   {
    "duration": 16,
    "start_time": "2024-07-04T10:23:34.783Z"
   },
   {
    "duration": 28,
    "start_time": "2024-07-04T10:23:34.801Z"
   },
   {
    "duration": 14,
    "start_time": "2024-07-04T10:23:34.831Z"
   },
   {
    "duration": 16,
    "start_time": "2024-07-04T10:23:34.847Z"
   },
   {
    "duration": 25,
    "start_time": "2024-07-04T10:23:34.864Z"
   },
   {
    "duration": 24,
    "start_time": "2024-07-04T10:23:34.890Z"
   },
   {
    "duration": 20,
    "start_time": "2024-07-04T10:23:34.915Z"
   },
   {
    "duration": 28,
    "start_time": "2024-07-04T10:23:34.937Z"
   },
   {
    "duration": 23,
    "start_time": "2024-07-04T10:23:34.966Z"
   },
   {
    "duration": 14,
    "start_time": "2024-07-04T10:23:34.990Z"
   },
   {
    "duration": 19,
    "start_time": "2024-07-04T10:23:35.006Z"
   },
   {
    "duration": 26,
    "start_time": "2024-07-04T10:23:35.027Z"
   },
   {
    "duration": 18,
    "start_time": "2024-07-04T10:23:35.055Z"
   },
   {
    "duration": 27,
    "start_time": "2024-07-04T10:23:35.074Z"
   },
   {
    "duration": 7,
    "start_time": "2024-07-04T10:23:35.103Z"
   },
   {
    "duration": 12,
    "start_time": "2024-07-04T10:23:35.111Z"
   },
   {
    "duration": 13,
    "start_time": "2024-07-04T10:23:35.124Z"
   },
   {
    "duration": 23,
    "start_time": "2024-07-04T10:23:35.138Z"
   },
   {
    "duration": 16,
    "start_time": "2024-07-04T10:23:35.164Z"
   },
   {
    "duration": 22,
    "start_time": "2024-07-04T10:23:35.182Z"
   },
   {
    "duration": 5,
    "start_time": "2024-07-04T10:23:35.206Z"
   },
   {
    "duration": 19,
    "start_time": "2024-07-04T10:23:35.212Z"
   },
   {
    "duration": 14,
    "start_time": "2024-07-04T10:23:35.232Z"
   },
   {
    "duration": 5,
    "start_time": "2024-07-04T10:23:35.247Z"
   },
   {
    "duration": 9,
    "start_time": "2024-07-04T10:23:35.253Z"
   },
   {
    "duration": 15,
    "start_time": "2024-07-04T10:23:35.264Z"
   },
   {
    "duration": 31,
    "start_time": "2024-07-04T10:23:35.281Z"
   },
   {
    "duration": 10,
    "start_time": "2024-07-04T10:23:35.314Z"
   },
   {
    "duration": 29,
    "start_time": "2024-07-04T10:23:35.326Z"
   },
   {
    "duration": 28,
    "start_time": "2024-07-04T10:23:35.357Z"
   },
   {
    "duration": 9,
    "start_time": "2024-07-04T10:23:35.387Z"
   },
   {
    "duration": 4,
    "start_time": "2024-07-04T10:23:35.398Z"
   },
   {
    "duration": 19,
    "start_time": "2024-07-04T10:23:35.403Z"
   },
   {
    "duration": 24,
    "start_time": "2024-07-04T10:23:35.424Z"
   },
   {
    "duration": 31,
    "start_time": "2024-07-04T10:23:35.450Z"
   },
   {
    "duration": 18,
    "start_time": "2024-07-04T10:23:35.483Z"
   },
   {
    "duration": 5,
    "start_time": "2024-07-04T10:23:35.503Z"
   },
   {
    "duration": 12,
    "start_time": "2024-07-04T10:23:35.509Z"
   },
   {
    "duration": 35,
    "start_time": "2024-07-04T10:23:35.522Z"
   },
   {
    "duration": 7,
    "start_time": "2024-07-04T10:23:35.558Z"
   },
   {
    "duration": 44,
    "start_time": "2024-07-04T10:23:35.567Z"
   },
   {
    "duration": 7,
    "start_time": "2024-07-04T10:24:26.632Z"
   },
   {
    "duration": 13,
    "start_time": "2024-07-04T10:24:28.304Z"
   },
   {
    "duration": 12,
    "start_time": "2024-07-04T10:24:49.780Z"
   },
   {
    "duration": 15,
    "start_time": "2024-07-04T10:25:00.043Z"
   },
   {
    "duration": 28,
    "start_time": "2024-07-04T10:25:14.695Z"
   },
   {
    "duration": 647,
    "start_time": "2024-07-04T10:28:26.772Z"
   },
   {
    "duration": 108,
    "start_time": "2024-07-04T10:28:27.421Z"
   },
   {
    "duration": 18,
    "start_time": "2024-07-04T10:28:27.531Z"
   },
   {
    "duration": 44,
    "start_time": "2024-07-04T10:28:27.551Z"
   },
   {
    "duration": 14,
    "start_time": "2024-07-04T10:28:27.596Z"
   },
   {
    "duration": 7,
    "start_time": "2024-07-04T10:28:27.612Z"
   },
   {
    "duration": 48,
    "start_time": "2024-07-04T10:28:27.621Z"
   },
   {
    "duration": 14,
    "start_time": "2024-07-04T10:28:27.671Z"
   },
   {
    "duration": 10,
    "start_time": "2024-07-04T10:28:27.687Z"
   },
   {
    "duration": 9,
    "start_time": "2024-07-04T10:28:27.699Z"
   },
   {
    "duration": 6,
    "start_time": "2024-07-04T10:28:27.709Z"
   },
   {
    "duration": 32,
    "start_time": "2024-07-04T10:28:27.717Z"
   },
   {
    "duration": 5,
    "start_time": "2024-07-04T10:28:27.751Z"
   },
   {
    "duration": 8,
    "start_time": "2024-07-04T10:28:27.757Z"
   },
   {
    "duration": 8,
    "start_time": "2024-07-04T10:28:27.766Z"
   },
   {
    "duration": 11,
    "start_time": "2024-07-04T10:28:27.776Z"
   },
   {
    "duration": 12,
    "start_time": "2024-07-04T10:28:27.789Z"
   },
   {
    "duration": 45,
    "start_time": "2024-07-04T10:28:27.803Z"
   },
   {
    "duration": 6,
    "start_time": "2024-07-04T10:28:27.849Z"
   },
   {
    "duration": 8,
    "start_time": "2024-07-04T10:28:27.857Z"
   },
   {
    "duration": 8,
    "start_time": "2024-07-04T10:28:27.867Z"
   },
   {
    "duration": 10,
    "start_time": "2024-07-04T10:28:27.876Z"
   },
   {
    "duration": 23,
    "start_time": "2024-07-04T10:28:27.888Z"
   },
   {
    "duration": 7,
    "start_time": "2024-07-04T10:28:27.946Z"
   },
   {
    "duration": 15,
    "start_time": "2024-07-04T10:28:27.955Z"
   },
   {
    "duration": 23,
    "start_time": "2024-07-04T10:28:27.972Z"
   },
   {
    "duration": 40,
    "start_time": "2024-07-04T10:28:27.996Z"
   },
   {
    "duration": 11,
    "start_time": "2024-07-04T10:28:28.040Z"
   },
   {
    "duration": 12,
    "start_time": "2024-07-04T10:28:28.052Z"
   },
   {
    "duration": 5,
    "start_time": "2024-07-04T10:28:28.066Z"
   },
   {
    "duration": 26,
    "start_time": "2024-07-04T10:28:28.073Z"
   },
   {
    "duration": 5,
    "start_time": "2024-07-04T10:28:28.100Z"
   },
   {
    "duration": 17,
    "start_time": "2024-07-04T10:28:28.106Z"
   },
   {
    "duration": 10,
    "start_time": "2024-07-04T10:28:28.124Z"
   },
   {
    "duration": 19,
    "start_time": "2024-07-04T10:28:28.135Z"
   },
   {
    "duration": 14,
    "start_time": "2024-07-04T10:28:28.156Z"
   },
   {
    "duration": 10,
    "start_time": "2024-07-04T10:28:28.172Z"
   },
   {
    "duration": 15,
    "start_time": "2024-07-04T10:28:28.184Z"
   },
   {
    "duration": 47,
    "start_time": "2024-07-04T10:28:28.201Z"
   },
   {
    "duration": 9,
    "start_time": "2024-07-04T10:28:28.250Z"
   },
   {
    "duration": 3,
    "start_time": "2024-07-04T10:28:28.261Z"
   },
   {
    "duration": 10,
    "start_time": "2024-07-04T10:28:28.265Z"
   },
   {
    "duration": 5,
    "start_time": "2024-07-04T10:28:28.276Z"
   },
   {
    "duration": 12,
    "start_time": "2024-07-04T10:28:28.283Z"
   },
   {
    "duration": 6,
    "start_time": "2024-07-04T10:28:28.297Z"
   },
   {
    "duration": 45,
    "start_time": "2024-07-04T10:28:28.305Z"
   },
   {
    "duration": 30,
    "start_time": "2024-07-04T10:28:28.352Z"
   },
   {
    "duration": 4,
    "start_time": "2024-07-04T10:28:42.715Z"
   },
   {
    "duration": 29,
    "start_time": "2024-07-04T10:28:43.395Z"
   },
   {
    "duration": 8,
    "start_time": "2024-07-04T10:32:41.485Z"
   },
   {
    "duration": 40,
    "start_time": "2024-07-04T10:36:58.236Z"
   },
   {
    "duration": 32,
    "start_time": "2024-07-04T10:37:30.055Z"
   },
   {
    "duration": 676,
    "start_time": "2024-07-04T10:45:20.243Z"
   },
   {
    "duration": 110,
    "start_time": "2024-07-04T10:45:20.921Z"
   },
   {
    "duration": 17,
    "start_time": "2024-07-04T10:45:21.033Z"
   },
   {
    "duration": 60,
    "start_time": "2024-07-04T10:45:21.052Z"
   },
   {
    "duration": 10,
    "start_time": "2024-07-04T10:45:21.115Z"
   },
   {
    "duration": 13,
    "start_time": "2024-07-04T10:45:21.127Z"
   },
   {
    "duration": 33,
    "start_time": "2024-07-04T10:45:21.142Z"
   },
   {
    "duration": 15,
    "start_time": "2024-07-04T10:45:21.177Z"
   },
   {
    "duration": 17,
    "start_time": "2024-07-04T10:45:21.193Z"
   },
   {
    "duration": 9,
    "start_time": "2024-07-04T10:45:21.211Z"
   },
   {
    "duration": 27,
    "start_time": "2024-07-04T10:45:21.222Z"
   },
   {
    "duration": 13,
    "start_time": "2024-07-04T10:45:21.251Z"
   },
   {
    "duration": 6,
    "start_time": "2024-07-04T10:45:21.265Z"
   },
   {
    "duration": 6,
    "start_time": "2024-07-04T10:45:21.274Z"
   },
   {
    "duration": 7,
    "start_time": "2024-07-04T10:45:21.282Z"
   },
   {
    "duration": 12,
    "start_time": "2024-07-04T10:45:21.291Z"
   },
   {
    "duration": 46,
    "start_time": "2024-07-04T10:45:21.304Z"
   },
   {
    "duration": 7,
    "start_time": "2024-07-04T10:45:21.353Z"
   },
   {
    "duration": 8,
    "start_time": "2024-07-04T10:45:21.362Z"
   },
   {
    "duration": 14,
    "start_time": "2024-07-04T10:45:21.372Z"
   },
   {
    "duration": 9,
    "start_time": "2024-07-04T10:45:21.388Z"
   },
   {
    "duration": 9,
    "start_time": "2024-07-04T10:45:21.398Z"
   },
   {
    "duration": 57,
    "start_time": "2024-07-04T10:45:21.409Z"
   },
   {
    "duration": 6,
    "start_time": "2024-07-04T10:45:21.468Z"
   },
   {
    "duration": 31,
    "start_time": "2024-07-04T10:45:21.476Z"
   },
   {
    "duration": 11,
    "start_time": "2024-07-04T10:45:21.509Z"
   },
   {
    "duration": 28,
    "start_time": "2024-07-04T10:45:21.521Z"
   },
   {
    "duration": 9,
    "start_time": "2024-07-04T10:45:21.551Z"
   },
   {
    "duration": 11,
    "start_time": "2024-07-04T10:45:21.561Z"
   },
   {
    "duration": 8,
    "start_time": "2024-07-04T10:45:21.574Z"
   },
   {
    "duration": 22,
    "start_time": "2024-07-04T10:45:21.584Z"
   },
   {
    "duration": 5,
    "start_time": "2024-07-04T10:45:21.607Z"
   },
   {
    "duration": 34,
    "start_time": "2024-07-04T10:45:21.613Z"
   },
   {
    "duration": 9,
    "start_time": "2024-07-04T10:45:21.648Z"
   },
   {
    "duration": 17,
    "start_time": "2024-07-04T10:45:21.658Z"
   },
   {
    "duration": 32,
    "start_time": "2024-07-04T10:45:21.677Z"
   },
   {
    "duration": 35,
    "start_time": "2024-07-04T10:45:21.711Z"
   },
   {
    "duration": 16,
    "start_time": "2024-07-04T10:45:21.748Z"
   },
   {
    "duration": 24,
    "start_time": "2024-07-04T10:45:21.766Z"
   },
   {
    "duration": 10,
    "start_time": "2024-07-04T10:45:21.791Z"
   },
   {
    "duration": 5,
    "start_time": "2024-07-04T10:45:21.804Z"
   },
   {
    "duration": 43,
    "start_time": "2024-07-04T10:45:21.810Z"
   },
   {
    "duration": 16,
    "start_time": "2024-07-04T10:45:21.854Z"
   },
   {
    "duration": 12,
    "start_time": "2024-07-04T10:45:21.872Z"
   },
   {
    "duration": 5,
    "start_time": "2024-07-04T10:45:21.886Z"
   },
   {
    "duration": 10,
    "start_time": "2024-07-04T10:45:21.893Z"
   },
   {
    "duration": 6,
    "start_time": "2024-07-04T10:45:21.904Z"
   },
   {
    "duration": 62,
    "start_time": "2024-07-04T10:45:21.911Z"
   },
   {
    "duration": 67,
    "start_time": "2024-07-04T10:45:21.974Z"
   },
   {
    "duration": 0,
    "start_time": "2024-07-04T10:45:22.043Z"
   },
   {
    "duration": 8,
    "start_time": "2024-07-04T10:45:45.594Z"
   },
   {
    "duration": 33,
    "start_time": "2024-07-04T10:46:28.694Z"
   },
   {
    "duration": 12,
    "start_time": "2024-07-04T10:59:35.433Z"
   },
   {
    "duration": 11,
    "start_time": "2024-07-04T10:59:43.515Z"
   },
   {
    "duration": 636,
    "start_time": "2024-07-04T10:59:50.096Z"
   },
   {
    "duration": 110,
    "start_time": "2024-07-04T10:59:50.734Z"
   },
   {
    "duration": 15,
    "start_time": "2024-07-04T10:59:50.846Z"
   },
   {
    "duration": 58,
    "start_time": "2024-07-04T10:59:50.863Z"
   },
   {
    "duration": 10,
    "start_time": "2024-07-04T10:59:50.923Z"
   },
   {
    "duration": 6,
    "start_time": "2024-07-04T10:59:50.935Z"
   },
   {
    "duration": 32,
    "start_time": "2024-07-04T10:59:50.942Z"
   },
   {
    "duration": 17,
    "start_time": "2024-07-04T10:59:50.976Z"
   },
   {
    "duration": 10,
    "start_time": "2024-07-04T10:59:50.995Z"
   },
   {
    "duration": 30,
    "start_time": "2024-07-04T10:59:51.007Z"
   },
   {
    "duration": 6,
    "start_time": "2024-07-04T10:59:51.046Z"
   },
   {
    "duration": 17,
    "start_time": "2024-07-04T10:59:51.053Z"
   },
   {
    "duration": 8,
    "start_time": "2024-07-04T10:59:51.072Z"
   },
   {
    "duration": 16,
    "start_time": "2024-07-04T10:59:51.082Z"
   },
   {
    "duration": 11,
    "start_time": "2024-07-04T10:59:51.100Z"
   },
   {
    "duration": 12,
    "start_time": "2024-07-04T10:59:51.112Z"
   },
   {
    "duration": 33,
    "start_time": "2024-07-04T10:59:51.126Z"
   },
   {
    "duration": 68,
    "start_time": "2024-07-04T10:59:51.161Z"
   },
   {
    "duration": 36,
    "start_time": "2024-07-04T10:59:51.230Z"
   },
   {
    "duration": 33,
    "start_time": "2024-07-04T10:59:51.267Z"
   },
   {
    "duration": 20,
    "start_time": "2024-07-04T10:59:51.301Z"
   },
   {
    "duration": 20,
    "start_time": "2024-07-04T10:59:51.323Z"
   },
   {
    "duration": 32,
    "start_time": "2024-07-04T10:59:51.344Z"
   },
   {
    "duration": 6,
    "start_time": "2024-07-04T10:59:51.377Z"
   },
   {
    "duration": 11,
    "start_time": "2024-07-04T10:59:51.384Z"
   },
   {
    "duration": 11,
    "start_time": "2024-07-04T10:59:51.396Z"
   },
   {
    "duration": 15,
    "start_time": "2024-07-04T10:59:51.409Z"
   },
   {
    "duration": 24,
    "start_time": "2024-07-04T10:59:51.428Z"
   },
   {
    "duration": 14,
    "start_time": "2024-07-04T10:59:51.454Z"
   },
   {
    "duration": 21,
    "start_time": "2024-07-04T10:59:51.470Z"
   },
   {
    "duration": 26,
    "start_time": "2024-07-04T10:59:51.493Z"
   },
   {
    "duration": 7,
    "start_time": "2024-07-04T10:59:51.521Z"
   },
   {
    "duration": 10,
    "start_time": "2024-07-04T10:59:51.530Z"
   },
   {
    "duration": 24,
    "start_time": "2024-07-04T10:59:51.542Z"
   },
   {
    "duration": 22,
    "start_time": "2024-07-04T10:59:51.567Z"
   },
   {
    "duration": 37,
    "start_time": "2024-07-04T10:59:51.590Z"
   },
   {
    "duration": 34,
    "start_time": "2024-07-04T10:59:51.629Z"
   },
   {
    "duration": 54,
    "start_time": "2024-07-04T10:59:51.664Z"
   },
   {
    "duration": 17,
    "start_time": "2024-07-04T10:59:51.720Z"
   },
   {
    "duration": 11,
    "start_time": "2024-07-04T10:59:51.739Z"
   },
   {
    "duration": 5,
    "start_time": "2024-07-04T10:59:51.752Z"
   },
   {
    "duration": 32,
    "start_time": "2024-07-04T10:59:51.759Z"
   },
   {
    "duration": 18,
    "start_time": "2024-07-04T10:59:51.793Z"
   },
   {
    "duration": 29,
    "start_time": "2024-07-04T10:59:51.813Z"
   },
   {
    "duration": 14,
    "start_time": "2024-07-04T10:59:51.843Z"
   },
   {
    "duration": 47,
    "start_time": "2024-07-04T10:59:51.859Z"
   },
   {
    "duration": 3,
    "start_time": "2024-07-04T10:59:51.908Z"
   },
   {
    "duration": 35,
    "start_time": "2024-07-04T10:59:51.913Z"
   },
   {
    "duration": 6,
    "start_time": "2024-07-04T10:59:51.950Z"
   },
   {
    "duration": 10,
    "start_time": "2024-07-04T11:16:27.964Z"
   },
   {
    "duration": 6,
    "start_time": "2024-07-04T11:17:18.621Z"
   },
   {
    "duration": 647,
    "start_time": "2024-07-04T11:19:13.293Z"
   },
   {
    "duration": 111,
    "start_time": "2024-07-04T11:19:13.942Z"
   },
   {
    "duration": 19,
    "start_time": "2024-07-04T11:19:14.055Z"
   },
   {
    "duration": 64,
    "start_time": "2024-07-04T11:19:14.076Z"
   },
   {
    "duration": 16,
    "start_time": "2024-07-04T11:19:14.142Z"
   },
   {
    "duration": 23,
    "start_time": "2024-07-04T11:19:14.160Z"
   },
   {
    "duration": 33,
    "start_time": "2024-07-04T11:19:14.185Z"
   },
   {
    "duration": 16,
    "start_time": "2024-07-04T11:19:14.220Z"
   },
   {
    "duration": 15,
    "start_time": "2024-07-04T11:19:14.238Z"
   },
   {
    "duration": 10,
    "start_time": "2024-07-04T11:19:14.257Z"
   },
   {
    "duration": 5,
    "start_time": "2024-07-04T11:19:14.269Z"
   },
   {
    "duration": 9,
    "start_time": "2024-07-04T11:19:14.276Z"
   },
   {
    "duration": 18,
    "start_time": "2024-07-04T11:19:14.286Z"
   },
   {
    "duration": 21,
    "start_time": "2024-07-04T11:19:14.305Z"
   },
   {
    "duration": 35,
    "start_time": "2024-07-04T11:19:14.328Z"
   },
   {
    "duration": 19,
    "start_time": "2024-07-04T11:19:14.364Z"
   },
   {
    "duration": 11,
    "start_time": "2024-07-04T11:19:14.385Z"
   },
   {
    "duration": 11,
    "start_time": "2024-07-04T11:19:14.398Z"
   },
   {
    "duration": 31,
    "start_time": "2024-07-04T11:19:14.411Z"
   },
   {
    "duration": 152,
    "start_time": "2024-07-04T11:19:14.444Z"
   },
   {
    "duration": 14,
    "start_time": "2024-07-04T11:19:14.598Z"
   },
   {
    "duration": 10,
    "start_time": "2024-07-04T11:19:14.614Z"
   },
   {
    "duration": 6,
    "start_time": "2024-07-04T11:19:14.626Z"
   },
   {
    "duration": 6,
    "start_time": "2024-07-04T11:19:14.634Z"
   },
   {
    "duration": 45,
    "start_time": "2024-07-04T11:19:14.642Z"
   },
   {
    "duration": 7,
    "start_time": "2024-07-04T11:19:14.690Z"
   },
   {
    "duration": 15,
    "start_time": "2024-07-04T11:19:14.699Z"
   },
   {
    "duration": 28,
    "start_time": "2024-07-04T11:19:14.719Z"
   },
   {
    "duration": 30,
    "start_time": "2024-07-04T11:19:14.750Z"
   },
   {
    "duration": 14,
    "start_time": "2024-07-04T11:19:14.782Z"
   },
   {
    "duration": 16,
    "start_time": "2024-07-04T11:19:14.799Z"
   },
   {
    "duration": 30,
    "start_time": "2024-07-04T11:19:14.817Z"
   },
   {
    "duration": 17,
    "start_time": "2024-07-04T11:19:14.849Z"
   },
   {
    "duration": 7,
    "start_time": "2024-07-04T11:19:14.868Z"
   },
   {
    "duration": 14,
    "start_time": "2024-07-04T11:19:14.877Z"
   },
   {
    "duration": 18,
    "start_time": "2024-07-04T11:19:14.893Z"
   },
   {
    "duration": 42,
    "start_time": "2024-07-04T11:19:14.913Z"
   },
   {
    "duration": 60,
    "start_time": "2024-07-04T11:19:14.957Z"
   },
   {
    "duration": 102,
    "start_time": "2024-07-04T11:19:15.019Z"
   },
   {
    "duration": 34,
    "start_time": "2024-07-04T11:19:15.123Z"
   },
   {
    "duration": 41,
    "start_time": "2024-07-04T11:19:15.159Z"
   },
   {
    "duration": 12,
    "start_time": "2024-07-04T11:19:15.203Z"
   },
   {
    "duration": 27,
    "start_time": "2024-07-04T11:19:15.218Z"
   },
   {
    "duration": 50,
    "start_time": "2024-07-04T11:19:15.247Z"
   },
   {
    "duration": 32,
    "start_time": "2024-07-04T11:19:15.299Z"
   },
   {
    "duration": 46,
    "start_time": "2024-07-04T11:19:15.333Z"
   },
   {
    "duration": 26,
    "start_time": "2024-07-04T11:19:15.381Z"
   },
   {
    "duration": 52,
    "start_time": "2024-07-04T11:19:15.409Z"
   },
   {
    "duration": 5,
    "start_time": "2024-07-04T11:19:15.463Z"
   },
   {
    "duration": 35,
    "start_time": "2024-07-04T11:19:15.470Z"
   },
   {
    "duration": 7,
    "start_time": "2024-07-04T11:19:15.506Z"
   },
   {
    "duration": 20,
    "start_time": "2024-07-04T11:20:39.854Z"
   },
   {
    "duration": 698,
    "start_time": "2024-07-04T11:20:45.772Z"
   },
   {
    "duration": 116,
    "start_time": "2024-07-04T11:20:46.472Z"
   },
   {
    "duration": 17,
    "start_time": "2024-07-04T11:20:46.589Z"
   },
   {
    "duration": 50,
    "start_time": "2024-07-04T11:20:46.608Z"
   },
   {
    "duration": 11,
    "start_time": "2024-07-04T11:20:46.660Z"
   },
   {
    "duration": 26,
    "start_time": "2024-07-04T11:20:46.672Z"
   },
   {
    "duration": 37,
    "start_time": "2024-07-04T11:20:46.700Z"
   },
   {
    "duration": 16,
    "start_time": "2024-07-04T11:20:46.738Z"
   },
   {
    "duration": 16,
    "start_time": "2024-07-04T11:20:46.755Z"
   },
   {
    "duration": 9,
    "start_time": "2024-07-04T11:20:46.774Z"
   },
   {
    "duration": 17,
    "start_time": "2024-07-04T11:20:46.784Z"
   },
   {
    "duration": 26,
    "start_time": "2024-07-04T11:20:46.803Z"
   },
   {
    "duration": 14,
    "start_time": "2024-07-04T11:20:46.830Z"
   },
   {
    "duration": 24,
    "start_time": "2024-07-04T11:20:46.845Z"
   },
   {
    "duration": 21,
    "start_time": "2024-07-04T11:20:46.870Z"
   },
   {
    "duration": 19,
    "start_time": "2024-07-04T11:20:46.893Z"
   },
   {
    "duration": 47,
    "start_time": "2024-07-04T11:20:46.914Z"
   },
   {
    "duration": 15,
    "start_time": "2024-07-04T11:20:46.963Z"
   },
   {
    "duration": 29,
    "start_time": "2024-07-04T11:20:46.981Z"
   },
   {
    "duration": 16,
    "start_time": "2024-07-04T11:20:47.012Z"
   },
   {
    "duration": 19,
    "start_time": "2024-07-04T11:20:47.031Z"
   },
   {
    "duration": 19,
    "start_time": "2024-07-04T11:20:47.052Z"
   },
   {
    "duration": 11,
    "start_time": "2024-07-04T11:20:47.073Z"
   },
   {
    "duration": 11,
    "start_time": "2024-07-04T11:20:47.086Z"
   },
   {
    "duration": 62,
    "start_time": "2024-07-04T11:20:47.099Z"
   },
   {
    "duration": 7,
    "start_time": "2024-07-04T11:20:47.162Z"
   },
   {
    "duration": 21,
    "start_time": "2024-07-04T11:20:47.171Z"
   },
   {
    "duration": 18,
    "start_time": "2024-07-04T11:20:47.196Z"
   },
   {
    "duration": 36,
    "start_time": "2024-07-04T11:20:47.216Z"
   },
   {
    "duration": 18,
    "start_time": "2024-07-04T11:20:47.254Z"
   },
   {
    "duration": 30,
    "start_time": "2024-07-04T11:20:47.275Z"
   },
   {
    "duration": 7,
    "start_time": "2024-07-04T11:20:47.307Z"
   },
   {
    "duration": 47,
    "start_time": "2024-07-04T11:20:47.316Z"
   },
   {
    "duration": 7,
    "start_time": "2024-07-04T11:20:47.365Z"
   },
   {
    "duration": 15,
    "start_time": "2024-07-04T11:20:47.374Z"
   },
   {
    "duration": 15,
    "start_time": "2024-07-04T11:20:47.392Z"
   },
   {
    "duration": 29,
    "start_time": "2024-07-04T11:20:47.410Z"
   },
   {
    "duration": 31,
    "start_time": "2024-07-04T11:20:47.446Z"
   },
   {
    "duration": 16,
    "start_time": "2024-07-04T11:20:47.479Z"
   },
   {
    "duration": 23,
    "start_time": "2024-07-04T11:20:47.497Z"
   },
   {
    "duration": 30,
    "start_time": "2024-07-04T11:20:47.522Z"
   },
   {
    "duration": 10,
    "start_time": "2024-07-04T11:20:47.554Z"
   },
   {
    "duration": 19,
    "start_time": "2024-07-04T11:20:47.566Z"
   },
   {
    "duration": 33,
    "start_time": "2024-07-04T11:20:47.587Z"
   },
   {
    "duration": 49,
    "start_time": "2024-07-04T11:20:47.623Z"
   },
   {
    "duration": 40,
    "start_time": "2024-07-04T11:20:47.674Z"
   },
   {
    "duration": 8,
    "start_time": "2024-07-04T11:20:47.716Z"
   },
   {
    "duration": 68,
    "start_time": "2024-07-04T11:20:47.726Z"
   },
   {
    "duration": 5,
    "start_time": "2024-07-04T11:20:47.795Z"
   },
   {
    "duration": 31,
    "start_time": "2024-07-04T11:20:47.803Z"
   },
   {
    "duration": 14,
    "start_time": "2024-07-04T11:20:47.846Z"
   },
   {
    "duration": 23,
    "start_time": "2024-07-04T11:22:07.412Z"
   },
   {
    "duration": 695,
    "start_time": "2024-07-04T11:22:15.044Z"
   },
   {
    "duration": 112,
    "start_time": "2024-07-04T11:22:15.741Z"
   },
   {
    "duration": 18,
    "start_time": "2024-07-04T11:22:15.855Z"
   },
   {
    "duration": 46,
    "start_time": "2024-07-04T11:22:15.876Z"
   },
   {
    "duration": 15,
    "start_time": "2024-07-04T11:22:15.925Z"
   },
   {
    "duration": 5,
    "start_time": "2024-07-04T11:22:15.942Z"
   },
   {
    "duration": 33,
    "start_time": "2024-07-04T11:22:15.948Z"
   },
   {
    "duration": 15,
    "start_time": "2024-07-04T11:22:15.982Z"
   },
   {
    "duration": 10,
    "start_time": "2024-07-04T11:22:15.999Z"
   },
   {
    "duration": 42,
    "start_time": "2024-07-04T11:22:16.011Z"
   },
   {
    "duration": 6,
    "start_time": "2024-07-04T11:22:16.054Z"
   },
   {
    "duration": 10,
    "start_time": "2024-07-04T11:22:16.062Z"
   },
   {
    "duration": 5,
    "start_time": "2024-07-04T11:22:16.073Z"
   },
   {
    "duration": 6,
    "start_time": "2024-07-04T11:22:16.081Z"
   },
   {
    "duration": 7,
    "start_time": "2024-07-04T11:22:16.089Z"
   },
   {
    "duration": 49,
    "start_time": "2024-07-04T11:22:16.098Z"
   },
   {
    "duration": 14,
    "start_time": "2024-07-04T11:22:16.150Z"
   },
   {
    "duration": 7,
    "start_time": "2024-07-04T11:22:16.166Z"
   },
   {
    "duration": 12,
    "start_time": "2024-07-04T11:22:16.175Z"
   },
   {
    "duration": 4,
    "start_time": "2024-07-04T11:22:16.189Z"
   },
   {
    "duration": 7,
    "start_time": "2024-07-04T11:22:16.195Z"
   },
   {
    "duration": 17,
    "start_time": "2024-07-04T11:22:16.204Z"
   },
   {
    "duration": 25,
    "start_time": "2024-07-04T11:22:16.223Z"
   },
   {
    "duration": 6,
    "start_time": "2024-07-04T11:22:16.250Z"
   },
   {
    "duration": 30,
    "start_time": "2024-07-04T11:22:16.257Z"
   },
   {
    "duration": 6,
    "start_time": "2024-07-04T11:22:16.289Z"
   },
   {
    "duration": 10,
    "start_time": "2024-07-04T11:22:16.297Z"
   },
   {
    "duration": 43,
    "start_time": "2024-07-04T11:22:16.309Z"
   },
   {
    "duration": 23,
    "start_time": "2024-07-04T11:22:16.354Z"
   },
   {
    "duration": 9,
    "start_time": "2024-07-04T11:22:16.378Z"
   },
   {
    "duration": 11,
    "start_time": "2024-07-04T11:22:16.388Z"
   },
   {
    "duration": 5,
    "start_time": "2024-07-04T11:22:16.401Z"
   },
   {
    "duration": 21,
    "start_time": "2024-07-04T11:22:16.447Z"
   },
   {
    "duration": 7,
    "start_time": "2024-07-04T11:22:16.470Z"
   },
   {
    "duration": 6,
    "start_time": "2024-07-04T11:22:16.479Z"
   },
   {
    "duration": 16,
    "start_time": "2024-07-04T11:22:16.487Z"
   },
   {
    "duration": 46,
    "start_time": "2024-07-04T11:22:16.506Z"
   },
   {
    "duration": 16,
    "start_time": "2024-07-04T11:22:16.554Z"
   },
   {
    "duration": 14,
    "start_time": "2024-07-04T11:22:16.572Z"
   },
   {
    "duration": 28,
    "start_time": "2024-07-04T11:22:16.588Z"
   },
   {
    "duration": 22,
    "start_time": "2024-07-04T11:22:16.645Z"
   },
   {
    "duration": 10,
    "start_time": "2024-07-04T11:22:16.668Z"
   },
   {
    "duration": 11,
    "start_time": "2024-07-04T11:22:16.681Z"
   },
   {
    "duration": 11,
    "start_time": "2024-07-04T11:22:16.694Z"
   },
   {
    "duration": 6,
    "start_time": "2024-07-04T11:22:16.707Z"
   },
   {
    "duration": 41,
    "start_time": "2024-07-04T11:22:16.715Z"
   },
   {
    "duration": 9,
    "start_time": "2024-07-04T11:22:16.758Z"
   },
   {
    "duration": 35,
    "start_time": "2024-07-04T11:22:16.768Z"
   },
   {
    "duration": 5,
    "start_time": "2024-07-04T11:22:16.804Z"
   },
   {
    "duration": 62,
    "start_time": "2024-07-04T11:22:16.810Z"
   },
   {
    "duration": 8,
    "start_time": "2024-07-04T11:22:16.874Z"
   },
   {
    "duration": 11,
    "start_time": "2024-07-04T11:23:49.843Z"
   },
   {
    "duration": 19,
    "start_time": "2024-07-04T11:23:53.076Z"
   },
   {
    "duration": 714,
    "start_time": "2024-07-04T11:32:32.154Z"
   },
   {
    "duration": 122,
    "start_time": "2024-07-04T11:32:32.870Z"
   },
   {
    "duration": 16,
    "start_time": "2024-07-04T11:32:32.994Z"
   },
   {
    "duration": 53,
    "start_time": "2024-07-04T11:32:33.012Z"
   },
   {
    "duration": 10,
    "start_time": "2024-07-04T11:32:33.067Z"
   },
   {
    "duration": 21,
    "start_time": "2024-07-04T11:32:33.079Z"
   },
   {
    "duration": 29,
    "start_time": "2024-07-04T11:32:33.102Z"
   },
   {
    "duration": 18,
    "start_time": "2024-07-04T11:32:33.133Z"
   },
   {
    "duration": 18,
    "start_time": "2024-07-04T11:32:33.153Z"
   },
   {
    "duration": 9,
    "start_time": "2024-07-04T11:32:33.173Z"
   },
   {
    "duration": 6,
    "start_time": "2024-07-04T11:32:33.184Z"
   },
   {
    "duration": 10,
    "start_time": "2024-07-04T11:32:33.192Z"
   },
   {
    "duration": 5,
    "start_time": "2024-07-04T11:32:33.205Z"
   },
   {
    "duration": 40,
    "start_time": "2024-07-04T11:32:33.213Z"
   },
   {
    "duration": 33,
    "start_time": "2024-07-04T11:32:33.255Z"
   },
   {
    "duration": 13,
    "start_time": "2024-07-04T11:32:33.290Z"
   },
   {
    "duration": 11,
    "start_time": "2024-07-04T11:32:33.305Z"
   },
   {
    "duration": 8,
    "start_time": "2024-07-04T11:32:33.318Z"
   },
   {
    "duration": 31,
    "start_time": "2024-07-04T11:32:33.327Z"
   },
   {
    "duration": 6,
    "start_time": "2024-07-04T11:32:33.362Z"
   },
   {
    "duration": 6,
    "start_time": "2024-07-04T11:32:33.370Z"
   },
   {
    "duration": 13,
    "start_time": "2024-07-04T11:32:33.378Z"
   },
   {
    "duration": 8,
    "start_time": "2024-07-04T11:32:33.393Z"
   },
   {
    "duration": 4,
    "start_time": "2024-07-04T11:32:33.402Z"
   },
   {
    "duration": 54,
    "start_time": "2024-07-04T11:32:33.408Z"
   },
   {
    "duration": 5,
    "start_time": "2024-07-04T11:32:33.464Z"
   },
   {
    "duration": 18,
    "start_time": "2024-07-04T11:32:33.471Z"
   },
   {
    "duration": 17,
    "start_time": "2024-07-04T11:32:33.491Z"
   },
   {
    "duration": 38,
    "start_time": "2024-07-04T11:32:33.509Z"
   },
   {
    "duration": 15,
    "start_time": "2024-07-04T11:32:33.549Z"
   },
   {
    "duration": 14,
    "start_time": "2024-07-04T11:32:33.567Z"
   },
   {
    "duration": 8,
    "start_time": "2024-07-04T11:32:33.583Z"
   },
   {
    "duration": 14,
    "start_time": "2024-07-04T11:32:33.593Z"
   },
   {
    "duration": 5,
    "start_time": "2024-07-04T11:32:33.609Z"
   },
   {
    "duration": 6,
    "start_time": "2024-07-04T11:32:33.649Z"
   },
   {
    "duration": 14,
    "start_time": "2024-07-04T11:32:33.658Z"
   },
   {
    "duration": 17,
    "start_time": "2024-07-04T11:32:33.673Z"
   },
   {
    "duration": 25,
    "start_time": "2024-07-04T11:32:33.692Z"
   },
   {
    "duration": 24,
    "start_time": "2024-07-04T11:32:33.747Z"
   },
   {
    "duration": 12,
    "start_time": "2024-07-04T11:32:33.773Z"
   },
   {
    "duration": 28,
    "start_time": "2024-07-04T11:32:33.789Z"
   },
   {
    "duration": 44,
    "start_time": "2024-07-04T11:32:33.819Z"
   },
   {
    "duration": 4,
    "start_time": "2024-07-04T11:32:33.865Z"
   },
   {
    "duration": 12,
    "start_time": "2024-07-04T11:32:33.870Z"
   },
   {
    "duration": 5,
    "start_time": "2024-07-04T11:32:33.884Z"
   },
   {
    "duration": 14,
    "start_time": "2024-07-04T11:32:33.890Z"
   },
   {
    "duration": 7,
    "start_time": "2024-07-04T11:32:33.905Z"
   },
   {
    "duration": 69,
    "start_time": "2024-07-04T11:32:33.913Z"
   },
   {
    "duration": 5,
    "start_time": "2024-07-04T11:32:33.984Z"
   },
   {
    "duration": 30,
    "start_time": "2024-07-04T11:32:33.990Z"
   },
   {
    "duration": 32,
    "start_time": "2024-07-04T11:32:34.022Z"
   },
   {
    "duration": 39,
    "start_time": "2024-07-04T11:35:09.695Z"
   },
   {
    "duration": 18,
    "start_time": "2024-07-04T11:35:20.756Z"
   },
   {
    "duration": 704,
    "start_time": "2024-07-04T11:35:26.441Z"
   },
   {
    "duration": 119,
    "start_time": "2024-07-04T11:35:27.148Z"
   },
   {
    "duration": 24,
    "start_time": "2024-07-04T11:35:27.269Z"
   },
   {
    "duration": 42,
    "start_time": "2024-07-04T11:35:27.295Z"
   },
   {
    "duration": 11,
    "start_time": "2024-07-04T11:35:27.338Z"
   },
   {
    "duration": 6,
    "start_time": "2024-07-04T11:35:27.351Z"
   },
   {
    "duration": 48,
    "start_time": "2024-07-04T11:35:27.359Z"
   },
   {
    "duration": 42,
    "start_time": "2024-07-04T11:35:27.409Z"
   },
   {
    "duration": 11,
    "start_time": "2024-07-04T11:35:27.454Z"
   },
   {
    "duration": 13,
    "start_time": "2024-07-04T11:35:27.467Z"
   },
   {
    "duration": 6,
    "start_time": "2024-07-04T11:35:27.481Z"
   },
   {
    "duration": 10,
    "start_time": "2024-07-04T11:35:27.489Z"
   },
   {
    "duration": 9,
    "start_time": "2024-07-04T11:35:27.501Z"
   },
   {
    "duration": 18,
    "start_time": "2024-07-04T11:35:27.512Z"
   },
   {
    "duration": 22,
    "start_time": "2024-07-04T11:35:27.532Z"
   },
   {
    "duration": 10,
    "start_time": "2024-07-04T11:35:27.556Z"
   },
   {
    "duration": 13,
    "start_time": "2024-07-04T11:35:27.568Z"
   },
   {
    "duration": 7,
    "start_time": "2024-07-04T11:35:27.583Z"
   },
   {
    "duration": 8,
    "start_time": "2024-07-04T11:35:27.592Z"
   },
   {
    "duration": 4,
    "start_time": "2024-07-04T11:35:27.601Z"
   },
   {
    "duration": 5,
    "start_time": "2024-07-04T11:35:27.647Z"
   },
   {
    "duration": 14,
    "start_time": "2024-07-04T11:35:27.654Z"
   },
   {
    "duration": 5,
    "start_time": "2024-07-04T11:35:27.670Z"
   },
   {
    "duration": 8,
    "start_time": "2024-07-04T11:35:27.677Z"
   },
   {
    "duration": 28,
    "start_time": "2024-07-04T11:35:27.687Z"
   },
   {
    "duration": 6,
    "start_time": "2024-07-04T11:35:27.716Z"
   },
   {
    "duration": 30,
    "start_time": "2024-07-04T11:35:27.723Z"
   },
   {
    "duration": 11,
    "start_time": "2024-07-04T11:35:27.756Z"
   },
   {
    "duration": 21,
    "start_time": "2024-07-04T11:35:27.769Z"
   },
   {
    "duration": 8,
    "start_time": "2024-07-04T11:35:27.791Z"
   },
   {
    "duration": 48,
    "start_time": "2024-07-04T11:35:27.801Z"
   },
   {
    "duration": 5,
    "start_time": "2024-07-04T11:35:27.851Z"
   },
   {
    "duration": 21,
    "start_time": "2024-07-04T11:35:27.858Z"
   },
   {
    "duration": 5,
    "start_time": "2024-07-04T11:35:27.881Z"
   },
   {
    "duration": 4,
    "start_time": "2024-07-04T11:35:27.888Z"
   },
   {
    "duration": 9,
    "start_time": "2024-07-04T11:35:27.893Z"
   },
   {
    "duration": 44,
    "start_time": "2024-07-04T11:35:27.903Z"
   },
   {
    "duration": 34,
    "start_time": "2024-07-04T11:35:27.949Z"
   },
   {
    "duration": 13,
    "start_time": "2024-07-04T11:35:27.985Z"
   },
   {
    "duration": 13,
    "start_time": "2024-07-04T11:35:28.000Z"
   },
   {
    "duration": 45,
    "start_time": "2024-07-04T11:35:28.014Z"
   },
   {
    "duration": 8,
    "start_time": "2024-07-04T11:35:28.061Z"
   },
   {
    "duration": 13,
    "start_time": "2024-07-04T11:35:28.071Z"
   },
   {
    "duration": 22,
    "start_time": "2024-07-04T11:35:28.086Z"
   },
   {
    "duration": 13,
    "start_time": "2024-07-04T11:35:28.110Z"
   },
   {
    "duration": 22,
    "start_time": "2024-07-04T11:35:28.125Z"
   },
   {
    "duration": 12,
    "start_time": "2024-07-04T11:35:28.149Z"
   },
   {
    "duration": 42,
    "start_time": "2024-07-04T11:35:28.163Z"
   },
   {
    "duration": 13,
    "start_time": "2024-07-04T11:35:28.207Z"
   },
   {
    "duration": 43,
    "start_time": "2024-07-04T11:35:28.222Z"
   },
   {
    "duration": 6,
    "start_time": "2024-07-04T11:35:28.268Z"
   },
   {
    "duration": 714,
    "start_time": "2024-07-04T11:36:03.532Z"
   },
   {
    "duration": 113,
    "start_time": "2024-07-04T11:36:04.248Z"
   },
   {
    "duration": 17,
    "start_time": "2024-07-04T11:36:04.363Z"
   },
   {
    "duration": 49,
    "start_time": "2024-07-04T11:36:04.382Z"
   },
   {
    "duration": 10,
    "start_time": "2024-07-04T11:36:04.433Z"
   },
   {
    "duration": 11,
    "start_time": "2024-07-04T11:36:04.444Z"
   },
   {
    "duration": 34,
    "start_time": "2024-07-04T11:36:04.456Z"
   },
   {
    "duration": 16,
    "start_time": "2024-07-04T11:36:04.492Z"
   },
   {
    "duration": 10,
    "start_time": "2024-07-04T11:36:04.510Z"
   },
   {
    "duration": 236,
    "start_time": "2024-07-04T11:36:04.522Z"
   },
   {
    "duration": 14,
    "start_time": "2024-07-04T11:36:04.759Z"
   },
   {
    "duration": 25,
    "start_time": "2024-07-04T11:36:04.775Z"
   },
   {
    "duration": 4,
    "start_time": "2024-07-04T11:36:04.801Z"
   },
   {
    "duration": 10,
    "start_time": "2024-07-04T11:36:04.807Z"
   },
   {
    "duration": 14,
    "start_time": "2024-07-04T11:36:04.818Z"
   },
   {
    "duration": 11,
    "start_time": "2024-07-04T11:36:04.833Z"
   },
   {
    "duration": 12,
    "start_time": "2024-07-04T11:36:04.846Z"
   },
   {
    "duration": 11,
    "start_time": "2024-07-04T11:36:04.860Z"
   },
   {
    "duration": 16,
    "start_time": "2024-07-04T11:36:04.872Z"
   },
   {
    "duration": 4,
    "start_time": "2024-07-04T11:36:04.890Z"
   },
   {
    "duration": 7,
    "start_time": "2024-07-04T11:36:04.895Z"
   },
   {
    "duration": 6,
    "start_time": "2024-07-04T11:36:04.903Z"
   },
   {
    "duration": 9,
    "start_time": "2024-07-04T11:36:04.911Z"
   },
   {
    "duration": 28,
    "start_time": "2024-07-04T11:36:04.921Z"
   },
   {
    "duration": 78,
    "start_time": "2024-07-04T11:36:04.951Z"
   },
   {
    "duration": 6,
    "start_time": "2024-07-04T11:36:05.030Z"
   },
   {
    "duration": 29,
    "start_time": "2024-07-04T11:36:05.037Z"
   },
   {
    "duration": 44,
    "start_time": "2024-07-04T11:36:05.069Z"
   },
   {
    "duration": 38,
    "start_time": "2024-07-04T11:36:05.114Z"
   },
   {
    "duration": 29,
    "start_time": "2024-07-04T11:36:05.153Z"
   },
   {
    "duration": 25,
    "start_time": "2024-07-04T11:36:05.184Z"
   },
   {
    "duration": 28,
    "start_time": "2024-07-04T11:36:05.211Z"
   },
   {
    "duration": 15,
    "start_time": "2024-07-04T11:36:05.241Z"
   },
   {
    "duration": 5,
    "start_time": "2024-07-04T11:36:05.258Z"
   },
   {
    "duration": 17,
    "start_time": "2024-07-04T11:36:05.264Z"
   },
   {
    "duration": 17,
    "start_time": "2024-07-04T11:36:05.283Z"
   },
   {
    "duration": 13,
    "start_time": "2024-07-04T11:36:05.302Z"
   },
   {
    "duration": 36,
    "start_time": "2024-07-04T11:36:05.317Z"
   },
   {
    "duration": 13,
    "start_time": "2024-07-04T11:36:05.355Z"
   },
   {
    "duration": 21,
    "start_time": "2024-07-04T11:36:05.370Z"
   },
   {
    "duration": 56,
    "start_time": "2024-07-04T11:36:05.392Z"
   },
   {
    "duration": 8,
    "start_time": "2024-07-04T11:36:05.450Z"
   },
   {
    "duration": 19,
    "start_time": "2024-07-04T11:36:05.460Z"
   },
   {
    "duration": 10,
    "start_time": "2024-07-04T11:36:05.481Z"
   },
   {
    "duration": 28,
    "start_time": "2024-07-04T11:36:05.493Z"
   },
   {
    "duration": 21,
    "start_time": "2024-07-04T11:36:05.523Z"
   },
   {
    "duration": 11,
    "start_time": "2024-07-04T11:36:05.545Z"
   },
   {
    "duration": 43,
    "start_time": "2024-07-04T11:36:05.558Z"
   },
   {
    "duration": 6,
    "start_time": "2024-07-04T11:36:05.603Z"
   },
   {
    "duration": 55,
    "start_time": "2024-07-04T11:36:05.611Z"
   },
   {
    "duration": 7,
    "start_time": "2024-07-04T11:36:05.668Z"
   },
   {
    "duration": 11,
    "start_time": "2024-07-04T11:53:33.201Z"
   },
   {
    "duration": 697,
    "start_time": "2024-07-04T11:53:39.378Z"
   },
   {
    "duration": 122,
    "start_time": "2024-07-04T11:53:40.077Z"
   },
   {
    "duration": 16,
    "start_time": "2024-07-04T11:53:40.201Z"
   },
   {
    "duration": 63,
    "start_time": "2024-07-04T11:53:40.219Z"
   },
   {
    "duration": 11,
    "start_time": "2024-07-04T11:53:40.284Z"
   },
   {
    "duration": 14,
    "start_time": "2024-07-04T11:53:40.296Z"
   },
   {
    "duration": 34,
    "start_time": "2024-07-04T11:53:40.311Z"
   },
   {
    "duration": 22,
    "start_time": "2024-07-04T11:53:40.352Z"
   },
   {
    "duration": 14,
    "start_time": "2024-07-04T11:53:40.376Z"
   },
   {
    "duration": 13,
    "start_time": "2024-07-04T11:53:40.392Z"
   },
   {
    "duration": 14,
    "start_time": "2024-07-04T11:53:40.407Z"
   },
   {
    "duration": 32,
    "start_time": "2024-07-04T11:53:40.423Z"
   },
   {
    "duration": 6,
    "start_time": "2024-07-04T11:53:40.457Z"
   },
   {
    "duration": 8,
    "start_time": "2024-07-04T11:53:40.466Z"
   },
   {
    "duration": 7,
    "start_time": "2024-07-04T11:53:40.476Z"
   },
   {
    "duration": 13,
    "start_time": "2024-07-04T11:53:40.484Z"
   },
   {
    "duration": 60,
    "start_time": "2024-07-04T11:53:40.498Z"
   },
   {
    "duration": 12,
    "start_time": "2024-07-04T11:53:40.559Z"
   },
   {
    "duration": 8,
    "start_time": "2024-07-04T11:53:40.573Z"
   },
   {
    "duration": 6,
    "start_time": "2024-07-04T11:53:40.583Z"
   },
   {
    "duration": 6,
    "start_time": "2024-07-04T11:53:40.591Z"
   },
   {
    "duration": 7,
    "start_time": "2024-07-04T11:53:40.598Z"
   },
   {
    "duration": 5,
    "start_time": "2024-07-04T11:53:40.607Z"
   },
   {
    "duration": 32,
    "start_time": "2024-07-04T11:53:40.614Z"
   },
   {
    "duration": 45,
    "start_time": "2024-07-04T11:53:40.648Z"
   },
   {
    "duration": 7,
    "start_time": "2024-07-04T11:53:40.695Z"
   },
   {
    "duration": 13,
    "start_time": "2024-07-04T11:53:40.704Z"
   },
   {
    "duration": 42,
    "start_time": "2024-07-04T11:53:40.719Z"
   },
   {
    "duration": 26,
    "start_time": "2024-07-04T11:53:40.763Z"
   },
   {
    "duration": 11,
    "start_time": "2024-07-04T11:53:40.791Z"
   },
   {
    "duration": 13,
    "start_time": "2024-07-04T11:53:40.804Z"
   },
   {
    "duration": 27,
    "start_time": "2024-07-04T11:53:40.819Z"
   },
   {
    "duration": 22,
    "start_time": "2024-07-04T11:53:40.848Z"
   },
   {
    "duration": 7,
    "start_time": "2024-07-04T11:53:40.872Z"
   },
   {
    "duration": 5,
    "start_time": "2024-07-04T11:53:40.880Z"
   },
   {
    "duration": 9,
    "start_time": "2024-07-04T11:53:40.887Z"
   },
   {
    "duration": 12,
    "start_time": "2024-07-04T11:53:40.898Z"
   },
   {
    "duration": 25,
    "start_time": "2024-07-04T11:53:40.948Z"
   },
   {
    "duration": 36,
    "start_time": "2024-07-04T11:53:40.975Z"
   },
   {
    "duration": 53,
    "start_time": "2024-07-04T11:53:41.013Z"
   },
   {
    "duration": 10,
    "start_time": "2024-07-04T11:53:41.072Z"
   },
   {
    "duration": 27,
    "start_time": "2024-07-04T11:53:41.084Z"
   },
   {
    "duration": 9,
    "start_time": "2024-07-04T11:53:41.112Z"
   },
   {
    "duration": 25,
    "start_time": "2024-07-04T11:53:41.123Z"
   },
   {
    "duration": 13,
    "start_time": "2024-07-04T11:53:41.151Z"
   },
   {
    "duration": 11,
    "start_time": "2024-07-04T11:53:41.166Z"
   },
   {
    "duration": 16,
    "start_time": "2024-07-04T11:53:41.179Z"
   },
   {
    "duration": 5,
    "start_time": "2024-07-04T11:53:41.197Z"
   },
   {
    "duration": 60,
    "start_time": "2024-07-04T11:53:41.203Z"
   },
   {
    "duration": 5,
    "start_time": "2024-07-04T11:53:41.268Z"
   },
   {
    "duration": 45,
    "start_time": "2024-07-04T11:53:41.275Z"
   },
   {
    "duration": 35,
    "start_time": "2024-07-04T11:53:41.322Z"
   },
   {
    "duration": 17,
    "start_time": "2024-07-04T11:56:25.592Z"
   },
   {
    "duration": 11,
    "start_time": "2024-07-04T11:56:26.303Z"
   },
   {
    "duration": 750,
    "start_time": "2024-07-04T11:56:42.437Z"
   },
   {
    "duration": 122,
    "start_time": "2024-07-04T11:56:43.189Z"
   },
   {
    "duration": 16,
    "start_time": "2024-07-04T11:56:43.312Z"
   },
   {
    "duration": 44,
    "start_time": "2024-07-04T11:56:43.330Z"
   },
   {
    "duration": 9,
    "start_time": "2024-07-04T11:56:43.377Z"
   },
   {
    "duration": 7,
    "start_time": "2024-07-04T11:56:43.388Z"
   },
   {
    "duration": 31,
    "start_time": "2024-07-04T11:56:43.396Z"
   },
   {
    "duration": 32,
    "start_time": "2024-07-04T11:56:43.429Z"
   },
   {
    "duration": 13,
    "start_time": "2024-07-04T11:56:43.464Z"
   },
   {
    "duration": 8,
    "start_time": "2024-07-04T11:56:43.479Z"
   },
   {
    "duration": 6,
    "start_time": "2024-07-04T11:56:43.489Z"
   },
   {
    "duration": 13,
    "start_time": "2024-07-04T11:56:43.496Z"
   },
   {
    "duration": 5,
    "start_time": "2024-07-04T11:56:43.510Z"
   },
   {
    "duration": 34,
    "start_time": "2024-07-04T11:56:43.517Z"
   },
   {
    "duration": 11,
    "start_time": "2024-07-04T11:56:43.553Z"
   },
   {
    "duration": 16,
    "start_time": "2024-07-04T11:56:43.566Z"
   },
   {
    "duration": 17,
    "start_time": "2024-07-04T11:56:43.584Z"
   },
   {
    "duration": 6,
    "start_time": "2024-07-04T11:56:43.603Z"
   },
   {
    "duration": 42,
    "start_time": "2024-07-04T11:56:43.611Z"
   },
   {
    "duration": 7,
    "start_time": "2024-07-04T11:56:43.655Z"
   },
   {
    "duration": 5,
    "start_time": "2024-07-04T11:56:43.664Z"
   },
   {
    "duration": 10,
    "start_time": "2024-07-04T11:56:43.671Z"
   },
   {
    "duration": 9,
    "start_time": "2024-07-04T11:56:43.683Z"
   },
   {
    "duration": 5,
    "start_time": "2024-07-04T11:56:43.694Z"
   },
   {
    "duration": 70,
    "start_time": "2024-07-04T11:56:43.701Z"
   },
   {
    "duration": 8,
    "start_time": "2024-07-04T11:56:43.774Z"
   },
   {
    "duration": 13,
    "start_time": "2024-07-04T11:56:43.784Z"
   },
   {
    "duration": 11,
    "start_time": "2024-07-04T11:56:43.799Z"
   },
   {
    "duration": 66,
    "start_time": "2024-07-04T11:56:43.812Z"
   },
   {
    "duration": 10,
    "start_time": "2024-07-04T11:56:43.880Z"
   },
   {
    "duration": 16,
    "start_time": "2024-07-04T11:56:43.893Z"
   },
   {
    "duration": 34,
    "start_time": "2024-07-04T11:56:43.911Z"
   },
   {
    "duration": 24,
    "start_time": "2024-07-04T11:56:43.947Z"
   },
   {
    "duration": 11,
    "start_time": "2024-07-04T11:56:43.974Z"
   },
   {
    "duration": 6,
    "start_time": "2024-07-04T11:56:43.988Z"
   },
   {
    "duration": 26,
    "start_time": "2024-07-04T11:56:43.996Z"
   },
   {
    "duration": 53,
    "start_time": "2024-07-04T11:56:44.024Z"
   },
   {
    "duration": 15,
    "start_time": "2024-07-04T11:56:44.080Z"
   },
   {
    "duration": 13,
    "start_time": "2024-07-04T11:56:44.097Z"
   },
   {
    "duration": 48,
    "start_time": "2024-07-04T11:56:44.112Z"
   },
   {
    "duration": 33,
    "start_time": "2024-07-04T11:56:44.165Z"
   },
   {
    "duration": 13,
    "start_time": "2024-07-04T11:56:44.200Z"
   },
   {
    "duration": 10,
    "start_time": "2024-07-04T11:56:44.214Z"
   },
   {
    "duration": 14,
    "start_time": "2024-07-04T11:56:44.225Z"
   },
   {
    "duration": 6,
    "start_time": "2024-07-04T11:56:44.246Z"
   },
   {
    "duration": 22,
    "start_time": "2024-07-04T11:56:44.259Z"
   },
   {
    "duration": 8,
    "start_time": "2024-07-04T11:56:44.283Z"
   },
   {
    "duration": 72,
    "start_time": "2024-07-04T11:56:44.292Z"
   },
   {
    "duration": 5,
    "start_time": "2024-07-04T11:56:44.366Z"
   },
   {
    "duration": 41,
    "start_time": "2024-07-04T11:56:44.373Z"
   },
   {
    "duration": 9,
    "start_time": "2024-07-04T11:56:44.416Z"
   },
   {
    "duration": 98,
    "start_time": "2024-07-04T11:57:52.496Z"
   },
   {
    "duration": 12,
    "start_time": "2024-07-04T11:58:04.420Z"
   },
   {
    "duration": 682,
    "start_time": "2024-07-04T11:58:11.546Z"
   },
   {
    "duration": 112,
    "start_time": "2024-07-04T11:58:12.230Z"
   },
   {
    "duration": 20,
    "start_time": "2024-07-04T11:58:12.343Z"
   },
   {
    "duration": 58,
    "start_time": "2024-07-04T11:58:12.365Z"
   },
   {
    "duration": 10,
    "start_time": "2024-07-04T11:58:12.426Z"
   },
   {
    "duration": 17,
    "start_time": "2024-07-04T11:58:12.437Z"
   },
   {
    "duration": 32,
    "start_time": "2024-07-04T11:58:12.456Z"
   },
   {
    "duration": 17,
    "start_time": "2024-07-04T11:58:12.490Z"
   },
   {
    "duration": 35,
    "start_time": "2024-07-04T11:58:12.509Z"
   },
   {
    "duration": 19,
    "start_time": "2024-07-04T11:58:12.546Z"
   },
   {
    "duration": 18,
    "start_time": "2024-07-04T11:58:12.567Z"
   },
   {
    "duration": 12,
    "start_time": "2024-07-04T11:58:12.586Z"
   },
   {
    "duration": 5,
    "start_time": "2024-07-04T11:58:12.600Z"
   },
   {
    "duration": 6,
    "start_time": "2024-07-04T11:58:12.608Z"
   },
   {
    "duration": 5,
    "start_time": "2024-07-04T11:58:12.615Z"
   },
   {
    "duration": 40,
    "start_time": "2024-07-04T11:58:12.621Z"
   },
   {
    "duration": 17,
    "start_time": "2024-07-04T11:58:12.663Z"
   },
   {
    "duration": 17,
    "start_time": "2024-07-04T11:58:12.682Z"
   },
   {
    "duration": 29,
    "start_time": "2024-07-04T11:58:12.701Z"
   },
   {
    "duration": 20,
    "start_time": "2024-07-04T11:58:12.731Z"
   },
   {
    "duration": 14,
    "start_time": "2024-07-04T11:58:12.753Z"
   },
   {
    "duration": 6,
    "start_time": "2024-07-04T11:58:12.768Z"
   },
   {
    "duration": 14,
    "start_time": "2024-07-04T11:58:12.776Z"
   },
   {
    "duration": 6,
    "start_time": "2024-07-04T11:58:12.791Z"
   },
   {
    "duration": 28,
    "start_time": "2024-07-04T11:58:12.799Z"
   },
   {
    "duration": 6,
    "start_time": "2024-07-04T11:58:12.828Z"
   },
   {
    "duration": 22,
    "start_time": "2024-07-04T11:58:12.845Z"
   },
   {
    "duration": 12,
    "start_time": "2024-07-04T11:58:12.869Z"
   },
   {
    "duration": 21,
    "start_time": "2024-07-04T11:58:12.883Z"
   },
   {
    "duration": 12,
    "start_time": "2024-07-04T11:58:12.905Z"
   },
   {
    "duration": 14,
    "start_time": "2024-07-04T11:58:12.949Z"
   },
   {
    "duration": 8,
    "start_time": "2024-07-04T11:58:12.965Z"
   },
   {
    "duration": 23,
    "start_time": "2024-07-04T11:58:12.975Z"
   },
   {
    "duration": 6,
    "start_time": "2024-07-04T11:58:13.000Z"
   },
   {
    "duration": 8,
    "start_time": "2024-07-04T11:58:13.008Z"
   },
   {
    "duration": 41,
    "start_time": "2024-07-04T11:58:13.017Z"
   },
   {
    "duration": 20,
    "start_time": "2024-07-04T11:58:13.059Z"
   },
   {
    "duration": 16,
    "start_time": "2024-07-04T11:58:13.081Z"
   },
   {
    "duration": 25,
    "start_time": "2024-07-04T11:58:13.099Z"
   },
   {
    "duration": 36,
    "start_time": "2024-07-04T11:58:13.126Z"
   },
   {
    "duration": 22,
    "start_time": "2024-07-04T11:58:13.168Z"
   },
   {
    "duration": 13,
    "start_time": "2024-07-04T11:58:13.191Z"
   },
   {
    "duration": 5,
    "start_time": "2024-07-04T11:58:13.206Z"
   },
   {
    "duration": 39,
    "start_time": "2024-07-04T11:58:13.213Z"
   },
   {
    "duration": 9,
    "start_time": "2024-07-04T11:58:13.255Z"
   },
   {
    "duration": 19,
    "start_time": "2024-07-04T11:58:13.266Z"
   },
   {
    "duration": 9,
    "start_time": "2024-07-04T11:58:13.287Z"
   },
   {
    "duration": 60,
    "start_time": "2024-07-04T11:58:13.297Z"
   },
   {
    "duration": 7,
    "start_time": "2024-07-04T11:58:13.359Z"
   },
   {
    "duration": 33,
    "start_time": "2024-07-04T11:58:13.367Z"
   },
   {
    "duration": 7,
    "start_time": "2024-07-04T11:58:13.401Z"
   },
   {
    "duration": 81,
    "start_time": "2024-07-04T11:59:49.393Z"
   },
   {
    "duration": 15,
    "start_time": "2024-07-04T11:59:54.821Z"
   },
   {
    "duration": 13,
    "start_time": "2024-07-04T12:18:03.920Z"
   },
   {
    "duration": 18,
    "start_time": "2024-07-04T12:18:07.404Z"
   },
   {
    "duration": 15,
    "start_time": "2024-07-04T12:27:40.020Z"
   },
   {
    "duration": 6,
    "start_time": "2024-07-04T12:27:40.881Z"
   },
   {
    "duration": 660,
    "start_time": "2024-07-04T12:27:45.694Z"
   },
   {
    "duration": 113,
    "start_time": "2024-07-04T12:27:46.356Z"
   },
   {
    "duration": 16,
    "start_time": "2024-07-04T12:27:46.471Z"
   },
   {
    "duration": 52,
    "start_time": "2024-07-04T12:27:46.489Z"
   },
   {
    "duration": 11,
    "start_time": "2024-07-04T12:27:46.544Z"
   },
   {
    "duration": 8,
    "start_time": "2024-07-04T12:27:46.557Z"
   },
   {
    "duration": 67,
    "start_time": "2024-07-04T12:27:46.567Z"
   },
   {
    "duration": 29,
    "start_time": "2024-07-04T12:27:46.636Z"
   },
   {
    "duration": 16,
    "start_time": "2024-07-04T12:27:46.668Z"
   },
   {
    "duration": 15,
    "start_time": "2024-07-04T12:27:46.686Z"
   },
   {
    "duration": 9,
    "start_time": "2024-07-04T12:27:46.703Z"
   },
   {
    "duration": 46,
    "start_time": "2024-07-04T12:27:46.746Z"
   },
   {
    "duration": 29,
    "start_time": "2024-07-04T12:27:46.794Z"
   },
   {
    "duration": 7,
    "start_time": "2024-07-04T12:27:46.826Z"
   },
   {
    "duration": 13,
    "start_time": "2024-07-04T12:27:46.835Z"
   },
   {
    "duration": 18,
    "start_time": "2024-07-04T12:27:46.850Z"
   },
   {
    "duration": 20,
    "start_time": "2024-07-04T12:27:46.871Z"
   },
   {
    "duration": 25,
    "start_time": "2024-07-04T12:27:46.892Z"
   },
   {
    "duration": 19,
    "start_time": "2024-07-04T12:27:46.919Z"
   },
   {
    "duration": 8,
    "start_time": "2024-07-04T12:27:46.941Z"
   },
   {
    "duration": 7,
    "start_time": "2024-07-04T12:27:46.951Z"
   },
   {
    "duration": 7,
    "start_time": "2024-07-04T12:27:46.960Z"
   },
   {
    "duration": 8,
    "start_time": "2024-07-04T12:27:46.969Z"
   },
   {
    "duration": 28,
    "start_time": "2024-07-04T12:27:46.979Z"
   },
   {
    "duration": 38,
    "start_time": "2024-07-04T12:27:47.010Z"
   },
   {
    "duration": 6,
    "start_time": "2024-07-04T12:27:47.050Z"
   },
   {
    "duration": 18,
    "start_time": "2024-07-04T12:27:47.058Z"
   },
   {
    "duration": 22,
    "start_time": "2024-07-04T12:27:47.078Z"
   },
   {
    "duration": 53,
    "start_time": "2024-07-04T12:27:47.102Z"
   },
   {
    "duration": 10,
    "start_time": "2024-07-04T12:27:47.157Z"
   },
   {
    "duration": 22,
    "start_time": "2024-07-04T12:27:47.169Z"
   },
   {
    "duration": 5,
    "start_time": "2024-07-04T12:27:47.193Z"
   },
   {
    "duration": 16,
    "start_time": "2024-07-04T12:27:47.199Z"
   },
   {
    "duration": 6,
    "start_time": "2024-07-04T12:27:47.247Z"
   },
   {
    "duration": 7,
    "start_time": "2024-07-04T12:27:47.254Z"
   },
   {
    "duration": 11,
    "start_time": "2024-07-04T12:27:47.263Z"
   },
   {
    "duration": 19,
    "start_time": "2024-07-04T12:27:47.276Z"
   },
   {
    "duration": 54,
    "start_time": "2024-07-04T12:27:47.297Z"
   },
   {
    "duration": 19,
    "start_time": "2024-07-04T12:27:47.353Z"
   },
   {
    "duration": 18,
    "start_time": "2024-07-04T12:27:47.374Z"
   },
   {
    "duration": 47,
    "start_time": "2024-07-04T12:27:47.400Z"
   },
   {
    "duration": 9,
    "start_time": "2024-07-04T12:27:47.449Z"
   },
   {
    "duration": 3,
    "start_time": "2024-07-04T12:27:47.460Z"
   },
   {
    "duration": 8,
    "start_time": "2024-07-04T12:27:47.465Z"
   },
   {
    "duration": 4,
    "start_time": "2024-07-04T12:27:47.477Z"
   },
   {
    "duration": 15,
    "start_time": "2024-07-04T12:27:47.483Z"
   },
   {
    "duration": 22,
    "start_time": "2024-07-04T12:27:47.500Z"
   },
   {
    "duration": 32,
    "start_time": "2024-07-04T12:27:47.547Z"
   },
   {
    "duration": 6,
    "start_time": "2024-07-04T12:27:47.583Z"
   },
   {
    "duration": 57,
    "start_time": "2024-07-04T12:27:47.591Z"
   },
   {
    "duration": 7,
    "start_time": "2024-07-04T12:27:47.650Z"
   },
   {
    "duration": 13,
    "start_time": "2024-07-04T12:27:47.659Z"
   },
   {
    "duration": 100,
    "start_time": "2024-07-04T12:27:47.673Z"
   },
   {
    "duration": 20,
    "start_time": "2024-07-04T12:43:39.803Z"
   },
   {
    "duration": 707,
    "start_time": "2024-07-04T12:43:46.281Z"
   },
   {
    "duration": 134,
    "start_time": "2024-07-04T12:43:46.991Z"
   },
   {
    "duration": 24,
    "start_time": "2024-07-04T12:43:47.127Z"
   },
   {
    "duration": 53,
    "start_time": "2024-07-04T12:43:47.153Z"
   },
   {
    "duration": 12,
    "start_time": "2024-07-04T12:43:47.208Z"
   },
   {
    "duration": 29,
    "start_time": "2024-07-04T12:43:47.221Z"
   },
   {
    "duration": 46,
    "start_time": "2024-07-04T12:43:47.252Z"
   },
   {
    "duration": 17,
    "start_time": "2024-07-04T12:43:47.300Z"
   },
   {
    "duration": 10,
    "start_time": "2024-07-04T12:43:47.318Z"
   },
   {
    "duration": 24,
    "start_time": "2024-07-04T12:43:47.330Z"
   },
   {
    "duration": 12,
    "start_time": "2024-07-04T12:43:47.357Z"
   },
   {
    "duration": 15,
    "start_time": "2024-07-04T12:43:47.371Z"
   },
   {
    "duration": 22,
    "start_time": "2024-07-04T12:43:47.388Z"
   },
   {
    "duration": 7,
    "start_time": "2024-07-04T12:43:47.413Z"
   },
   {
    "duration": 8,
    "start_time": "2024-07-04T12:43:47.422Z"
   },
   {
    "duration": 21,
    "start_time": "2024-07-04T12:43:47.432Z"
   },
   {
    "duration": 42,
    "start_time": "2024-07-04T12:43:47.455Z"
   },
   {
    "duration": 9,
    "start_time": "2024-07-04T12:43:47.499Z"
   },
   {
    "duration": 8,
    "start_time": "2024-07-04T12:43:47.510Z"
   },
   {
    "duration": 5,
    "start_time": "2024-07-04T12:43:47.521Z"
   },
   {
    "duration": 17,
    "start_time": "2024-07-04T12:43:47.528Z"
   },
   {
    "duration": 8,
    "start_time": "2024-07-04T12:43:47.547Z"
   },
   {
    "duration": 6,
    "start_time": "2024-07-04T12:43:47.556Z"
   },
   {
    "duration": 6,
    "start_time": "2024-07-04T12:43:47.564Z"
   },
   {
    "duration": 24,
    "start_time": "2024-07-04T12:43:47.572Z"
   },
   {
    "duration": 48,
    "start_time": "2024-07-04T12:43:47.598Z"
   },
   {
    "duration": 8,
    "start_time": "2024-07-04T12:43:47.648Z"
   },
   {
    "duration": 16,
    "start_time": "2024-07-04T12:43:47.658Z"
   },
   {
    "duration": 14,
    "start_time": "2024-07-04T12:43:47.676Z"
   },
   {
    "duration": 35,
    "start_time": "2024-07-04T12:43:47.692Z"
   },
   {
    "duration": 71,
    "start_time": "2024-07-04T12:43:47.746Z"
   },
   {
    "duration": 85,
    "start_time": "2024-07-04T12:43:47.819Z"
   },
   {
    "duration": 6,
    "start_time": "2024-07-04T12:43:47.906Z"
   },
   {
    "duration": 18,
    "start_time": "2024-07-04T12:43:47.914Z"
   },
   {
    "duration": 6,
    "start_time": "2024-07-04T12:43:47.934Z"
   },
   {
    "duration": 5,
    "start_time": "2024-07-04T12:43:47.942Z"
   },
   {
    "duration": 8,
    "start_time": "2024-07-04T12:43:47.949Z"
   },
   {
    "duration": 12,
    "start_time": "2024-07-04T12:43:47.959Z"
   },
   {
    "duration": 11,
    "start_time": "2024-07-04T12:43:47.973Z"
   },
   {
    "duration": 15,
    "start_time": "2024-07-04T12:43:47.985Z"
   },
   {
    "duration": 59,
    "start_time": "2024-07-04T12:43:48.003Z"
   },
   {
    "duration": 20,
    "start_time": "2024-07-04T12:43:48.063Z"
   },
   {
    "duration": 8,
    "start_time": "2024-07-04T12:43:48.085Z"
   },
   {
    "duration": 26,
    "start_time": "2024-07-04T12:43:48.094Z"
   },
   {
    "duration": 20,
    "start_time": "2024-07-04T12:43:48.122Z"
   },
   {
    "duration": 4,
    "start_time": "2024-07-04T12:43:48.144Z"
   },
   {
    "duration": 19,
    "start_time": "2024-07-04T12:43:48.150Z"
   },
   {
    "duration": 6,
    "start_time": "2024-07-04T12:43:48.171Z"
   },
   {
    "duration": 30,
    "start_time": "2024-07-04T12:43:48.179Z"
   },
   {
    "duration": 5,
    "start_time": "2024-07-04T12:43:48.212Z"
   },
   {
    "duration": 70,
    "start_time": "2024-07-04T12:43:48.220Z"
   },
   {
    "duration": 9,
    "start_time": "2024-07-04T12:43:48.292Z"
   },
   {
    "duration": 20,
    "start_time": "2024-07-04T12:43:48.303Z"
   },
   {
    "duration": 122,
    "start_time": "2024-07-04T12:43:48.325Z"
   },
   {
    "duration": 16,
    "start_time": "2024-07-04T12:55:55.756Z"
   },
   {
    "duration": 1084,
    "start_time": "2024-07-04T16:16:55.717Z"
   },
   {
    "duration": 61,
    "start_time": "2024-07-04T16:17:14.078Z"
   },
   {
    "duration": 952,
    "start_time": "2024-07-04T16:22:14.964Z"
   },
   {
    "duration": 745,
    "start_time": "2024-07-04T16:22:38.431Z"
   },
   {
    "duration": 111,
    "start_time": "2024-07-04T16:22:39.178Z"
   },
   {
    "duration": 18,
    "start_time": "2024-07-04T16:22:39.291Z"
   },
   {
    "duration": 44,
    "start_time": "2024-07-04T16:22:39.311Z"
   },
   {
    "duration": 10,
    "start_time": "2024-07-04T16:22:39.358Z"
   },
   {
    "duration": 15,
    "start_time": "2024-07-04T16:22:39.370Z"
   },
   {
    "duration": 32,
    "start_time": "2024-07-04T16:22:39.387Z"
   },
   {
    "duration": 34,
    "start_time": "2024-07-04T16:22:39.421Z"
   },
   {
    "duration": 10,
    "start_time": "2024-07-04T16:22:39.457Z"
   },
   {
    "duration": 10,
    "start_time": "2024-07-04T16:22:39.468Z"
   },
   {
    "duration": 8,
    "start_time": "2024-07-04T16:22:39.480Z"
   },
   {
    "duration": 10,
    "start_time": "2024-07-04T16:22:39.490Z"
   },
   {
    "duration": 4,
    "start_time": "2024-07-04T16:22:39.501Z"
   },
   {
    "duration": 41,
    "start_time": "2024-07-04T16:22:39.508Z"
   },
   {
    "duration": 14,
    "start_time": "2024-07-04T16:22:39.551Z"
   },
   {
    "duration": 12,
    "start_time": "2024-07-04T16:22:39.568Z"
   },
   {
    "duration": 14,
    "start_time": "2024-07-04T16:22:39.581Z"
   },
   {
    "duration": 7,
    "start_time": "2024-07-04T16:22:39.596Z"
   },
   {
    "duration": 42,
    "start_time": "2024-07-04T16:22:39.605Z"
   },
   {
    "duration": 4,
    "start_time": "2024-07-04T16:22:39.649Z"
   },
   {
    "duration": 30,
    "start_time": "2024-07-04T16:22:39.654Z"
   },
   {
    "duration": 5,
    "start_time": "2024-07-04T16:22:39.686Z"
   },
   {
    "duration": 5,
    "start_time": "2024-07-04T16:22:39.693Z"
   },
   {
    "duration": 6,
    "start_time": "2024-07-04T16:22:39.699Z"
   },
   {
    "duration": 14,
    "start_time": "2024-07-04T16:22:39.706Z"
   },
   {
    "duration": 29,
    "start_time": "2024-07-04T16:22:39.721Z"
   },
   {
    "duration": 5,
    "start_time": "2024-07-04T16:22:39.752Z"
   },
   {
    "duration": 9,
    "start_time": "2024-07-04T16:22:39.759Z"
   },
   {
    "duration": 17,
    "start_time": "2024-07-04T16:22:39.770Z"
   },
   {
    "duration": 22,
    "start_time": "2024-07-04T16:22:39.788Z"
   },
   {
    "duration": 38,
    "start_time": "2024-07-04T16:22:39.812Z"
   },
   {
    "duration": 13,
    "start_time": "2024-07-04T16:22:39.851Z"
   },
   {
    "duration": 5,
    "start_time": "2024-07-04T16:22:39.866Z"
   },
   {
    "duration": 14,
    "start_time": "2024-07-04T16:22:39.872Z"
   },
   {
    "duration": 5,
    "start_time": "2024-07-04T16:22:39.888Z"
   },
   {
    "duration": 4,
    "start_time": "2024-07-04T16:22:39.894Z"
   },
   {
    "duration": 7,
    "start_time": "2024-07-04T16:22:39.900Z"
   },
   {
    "duration": 13,
    "start_time": "2024-07-04T16:22:39.945Z"
   },
   {
    "duration": 10,
    "start_time": "2024-07-04T16:22:39.959Z"
   },
   {
    "duration": 15,
    "start_time": "2024-07-04T16:22:39.970Z"
   },
   {
    "duration": 9,
    "start_time": "2024-07-04T16:22:39.989Z"
   },
   {
    "duration": 47,
    "start_time": "2024-07-04T16:22:40.000Z"
   },
   {
    "duration": 21,
    "start_time": "2024-07-04T16:22:40.049Z"
   },
   {
    "duration": 14,
    "start_time": "2024-07-04T16:22:40.072Z"
   },
   {
    "duration": 26,
    "start_time": "2024-07-04T16:22:40.088Z"
   },
   {
    "duration": 5,
    "start_time": "2024-07-04T16:22:40.116Z"
   },
   {
    "duration": 45,
    "start_time": "2024-07-04T16:22:40.123Z"
   },
   {
    "duration": 7,
    "start_time": "2024-07-04T16:22:40.170Z"
   },
   {
    "duration": 33,
    "start_time": "2024-07-04T16:22:40.179Z"
   },
   {
    "duration": 7,
    "start_time": "2024-07-04T16:22:40.213Z"
   },
   {
    "duration": 53,
    "start_time": "2024-07-04T16:22:40.221Z"
   },
   {
    "duration": 7,
    "start_time": "2024-07-04T16:22:40.276Z"
   },
   {
    "duration": 15,
    "start_time": "2024-07-04T16:22:40.284Z"
   },
   {
    "duration": 1079,
    "start_time": "2024-07-04T16:22:40.300Z"
   },
   {
    "duration": 0,
    "start_time": "2024-07-04T16:22:41.381Z"
   },
   {
    "duration": 1156,
    "start_time": "2024-07-04T16:22:56.465Z"
   },
   {
    "duration": 45,
    "start_time": "2024-07-04T16:23:00.029Z"
   },
   {
    "duration": 1253,
    "start_time": "2024-07-04T16:24:17.220Z"
   },
   {
    "duration": 42,
    "start_time": "2024-07-04T16:24:21.109Z"
   },
   {
    "duration": 14,
    "start_time": "2024-07-04T16:27:26.126Z"
   },
   {
    "duration": 12,
    "start_time": "2024-07-04T16:29:18.080Z"
   },
   {
    "duration": 12,
    "start_time": "2024-07-04T16:29:36.581Z"
   },
   {
    "duration": 17,
    "start_time": "2024-07-04T16:29:45.147Z"
   },
   {
    "duration": 1427,
    "start_time": "2024-07-04T16:29:49.059Z"
   },
   {
    "duration": 680,
    "start_time": "2024-07-04T16:30:21.735Z"
   },
   {
    "duration": 110,
    "start_time": "2024-07-04T16:30:22.417Z"
   },
   {
    "duration": 21,
    "start_time": "2024-07-04T16:30:22.528Z"
   },
   {
    "duration": 62,
    "start_time": "2024-07-04T16:30:22.551Z"
   },
   {
    "duration": 9,
    "start_time": "2024-07-04T16:30:22.615Z"
   },
   {
    "duration": 9,
    "start_time": "2024-07-04T16:30:22.626Z"
   },
   {
    "duration": 53,
    "start_time": "2024-07-04T16:30:22.637Z"
   },
   {
    "duration": 16,
    "start_time": "2024-07-04T16:30:22.692Z"
   },
   {
    "duration": 11,
    "start_time": "2024-07-04T16:30:22.710Z"
   },
   {
    "duration": 27,
    "start_time": "2024-07-04T16:30:22.722Z"
   },
   {
    "duration": 10,
    "start_time": "2024-07-04T16:30:22.750Z"
   },
   {
    "duration": 31,
    "start_time": "2024-07-04T16:30:22.761Z"
   },
   {
    "duration": 9,
    "start_time": "2024-07-04T16:30:22.794Z"
   },
   {
    "duration": 19,
    "start_time": "2024-07-04T16:30:22.806Z"
   },
   {
    "duration": 25,
    "start_time": "2024-07-04T16:30:22.827Z"
   },
   {
    "duration": 22,
    "start_time": "2024-07-04T16:30:22.854Z"
   },
   {
    "duration": 13,
    "start_time": "2024-07-04T16:30:22.878Z"
   },
   {
    "duration": 40,
    "start_time": "2024-07-04T16:30:22.893Z"
   },
   {
    "duration": 10,
    "start_time": "2024-07-04T16:30:22.935Z"
   },
   {
    "duration": 14,
    "start_time": "2024-07-04T16:30:22.946Z"
   },
   {
    "duration": 17,
    "start_time": "2024-07-04T16:30:22.961Z"
   },
   {
    "duration": 17,
    "start_time": "2024-07-04T16:30:22.980Z"
   },
   {
    "duration": 12,
    "start_time": "2024-07-04T16:30:22.999Z"
   },
   {
    "duration": 39,
    "start_time": "2024-07-04T16:30:23.013Z"
   },
   {
    "duration": 25,
    "start_time": "2024-07-04T16:30:23.054Z"
   },
   {
    "duration": 31,
    "start_time": "2024-07-04T16:30:23.080Z"
   },
   {
    "duration": 5,
    "start_time": "2024-07-04T16:30:23.113Z"
   },
   {
    "duration": 35,
    "start_time": "2024-07-04T16:30:23.120Z"
   },
   {
    "duration": 30,
    "start_time": "2024-07-04T16:30:23.156Z"
   },
   {
    "duration": 46,
    "start_time": "2024-07-04T16:30:23.188Z"
   },
   {
    "duration": 24,
    "start_time": "2024-07-04T16:30:23.235Z"
   },
   {
    "duration": 38,
    "start_time": "2024-07-04T16:30:23.261Z"
   },
   {
    "duration": 37,
    "start_time": "2024-07-04T16:30:23.301Z"
   },
   {
    "duration": 51,
    "start_time": "2024-07-04T16:30:23.340Z"
   },
   {
    "duration": 81,
    "start_time": "2024-07-04T16:30:23.392Z"
   },
   {
    "duration": 43,
    "start_time": "2024-07-04T16:30:23.475Z"
   },
   {
    "duration": 52,
    "start_time": "2024-07-04T16:30:23.520Z"
   },
   {
    "duration": 34,
    "start_time": "2024-07-04T16:30:23.573Z"
   },
   {
    "duration": 24,
    "start_time": "2024-07-04T16:30:23.608Z"
   },
   {
    "duration": 24,
    "start_time": "2024-07-04T16:30:23.634Z"
   },
   {
    "duration": 26,
    "start_time": "2024-07-04T16:30:23.663Z"
   },
   {
    "duration": 27,
    "start_time": "2024-07-04T16:30:23.691Z"
   },
   {
    "duration": 15,
    "start_time": "2024-07-04T16:30:23.719Z"
   },
   {
    "duration": 24,
    "start_time": "2024-07-04T16:30:23.735Z"
   },
   {
    "duration": 24,
    "start_time": "2024-07-04T16:30:23.761Z"
   },
   {
    "duration": 42,
    "start_time": "2024-07-04T16:30:23.787Z"
   },
   {
    "duration": 34,
    "start_time": "2024-07-04T16:30:23.831Z"
   },
   {
    "duration": 29,
    "start_time": "2024-07-04T16:30:23.867Z"
   },
   {
    "duration": 58,
    "start_time": "2024-07-04T16:30:23.898Z"
   },
   {
    "duration": 11,
    "start_time": "2024-07-04T16:30:23.958Z"
   },
   {
    "duration": 76,
    "start_time": "2024-07-04T16:30:23.970Z"
   },
   {
    "duration": 6,
    "start_time": "2024-07-04T16:30:24.048Z"
   },
   {
    "duration": 38,
    "start_time": "2024-07-04T16:30:24.055Z"
   },
   {
    "duration": 1239,
    "start_time": "2024-07-04T16:30:24.094Z"
   },
   {
    "duration": 16,
    "start_time": "2024-07-04T16:30:25.334Z"
   },
   {
    "duration": 1167,
    "start_time": "2024-07-04T16:30:25.352Z"
   },
   {
    "duration": 48,
    "start_time": "2024-07-04T16:30:26.521Z"
   },
   {
    "duration": 33,
    "start_time": "2024-07-04T16:30:55.409Z"
   },
   {
    "duration": 27,
    "start_time": "2024-07-04T16:31:30.209Z"
   },
   {
    "duration": 64,
    "start_time": "2024-07-04T16:36:25.858Z"
   },
   {
    "duration": 11,
    "start_time": "2024-07-04T16:40:39.297Z"
   },
   {
    "duration": 9,
    "start_time": "2024-07-04T16:41:52.320Z"
   },
   {
    "duration": 41,
    "start_time": "2024-07-04T16:42:03.469Z"
   },
   {
    "duration": 41,
    "start_time": "2024-07-04T16:42:54.821Z"
   },
   {
    "duration": 41,
    "start_time": "2024-07-04T16:43:45.237Z"
   },
   {
    "duration": 194,
    "start_time": "2024-07-04T16:44:24.831Z"
   },
   {
    "duration": 160,
    "start_time": "2024-07-04T16:45:18.721Z"
   },
   {
    "duration": 224,
    "start_time": "2024-07-04T17:29:07.166Z"
   },
   {
    "duration": 769,
    "start_time": "2024-07-07T11:37:09.403Z"
   },
   {
    "duration": 167,
    "start_time": "2024-07-07T11:37:10.174Z"
   },
   {
    "duration": 17,
    "start_time": "2024-07-07T11:37:10.342Z"
   },
   {
    "duration": 135,
    "start_time": "2024-07-07T11:37:10.361Z"
   },
   {
    "duration": 10,
    "start_time": "2024-07-07T11:37:10.497Z"
   },
   {
    "duration": 14,
    "start_time": "2024-07-07T11:37:10.508Z"
   },
   {
    "duration": 36,
    "start_time": "2024-07-07T11:37:10.524Z"
   },
   {
    "duration": 20,
    "start_time": "2024-07-07T11:37:10.562Z"
   },
   {
    "duration": 35,
    "start_time": "2024-07-07T11:37:10.585Z"
   },
   {
    "duration": 12,
    "start_time": "2024-07-07T11:37:10.623Z"
   },
   {
    "duration": 9,
    "start_time": "2024-07-07T11:37:10.636Z"
   },
   {
    "duration": 19,
    "start_time": "2024-07-07T11:37:10.647Z"
   },
   {
    "duration": 6,
    "start_time": "2024-07-07T11:37:10.667Z"
   },
   {
    "duration": 8,
    "start_time": "2024-07-07T11:37:10.674Z"
   },
   {
    "duration": 6,
    "start_time": "2024-07-07T11:37:10.684Z"
   },
   {
    "duration": 12,
    "start_time": "2024-07-07T11:37:10.692Z"
   },
   {
    "duration": 10,
    "start_time": "2024-07-07T11:37:10.706Z"
   },
   {
    "duration": 6,
    "start_time": "2024-07-07T11:37:10.718Z"
   },
   {
    "duration": 41,
    "start_time": "2024-07-07T11:37:10.725Z"
   },
   {
    "duration": 5,
    "start_time": "2024-07-07T11:37:10.768Z"
   },
   {
    "duration": 5,
    "start_time": "2024-07-07T11:37:10.775Z"
   },
   {
    "duration": 6,
    "start_time": "2024-07-07T11:37:10.782Z"
   },
   {
    "duration": 4,
    "start_time": "2024-07-07T11:37:10.790Z"
   },
   {
    "duration": 5,
    "start_time": "2024-07-07T11:37:10.795Z"
   },
   {
    "duration": 23,
    "start_time": "2024-07-07T11:37:10.802Z"
   },
   {
    "duration": 61,
    "start_time": "2024-07-07T11:37:10.827Z"
   },
   {
    "duration": 6,
    "start_time": "2024-07-07T11:37:10.890Z"
   },
   {
    "duration": 10,
    "start_time": "2024-07-07T11:37:10.899Z"
   },
   {
    "duration": 12,
    "start_time": "2024-07-07T11:37:10.910Z"
   },
   {
    "duration": 58,
    "start_time": "2024-07-07T11:37:10.923Z"
   },
   {
    "duration": 10,
    "start_time": "2024-07-07T11:37:10.983Z"
   },
   {
    "duration": 14,
    "start_time": "2024-07-07T11:37:10.995Z"
   },
   {
    "duration": 7,
    "start_time": "2024-07-07T11:37:11.011Z"
   },
   {
    "duration": 52,
    "start_time": "2024-07-07T11:37:11.020Z"
   },
   {
    "duration": 5,
    "start_time": "2024-07-07T11:37:11.073Z"
   },
   {
    "duration": 8,
    "start_time": "2024-07-07T11:37:11.079Z"
   },
   {
    "duration": 13,
    "start_time": "2024-07-07T11:37:11.088Z"
   },
   {
    "duration": 16,
    "start_time": "2024-07-07T11:37:11.103Z"
   },
   {
    "duration": 66,
    "start_time": "2024-07-07T11:37:11.120Z"
   },
   {
    "duration": 24,
    "start_time": "2024-07-07T11:37:11.188Z"
   },
   {
    "duration": 9,
    "start_time": "2024-07-07T11:37:11.214Z"
   },
   {
    "duration": 23,
    "start_time": "2024-07-07T11:37:11.225Z"
   },
   {
    "duration": 14,
    "start_time": "2024-07-07T11:37:11.250Z"
   },
   {
    "duration": 3,
    "start_time": "2024-07-07T11:37:11.266Z"
   },
   {
    "duration": 9,
    "start_time": "2024-07-07T11:37:11.271Z"
   },
   {
    "duration": 4,
    "start_time": "2024-07-07T11:37:11.282Z"
   },
   {
    "duration": 12,
    "start_time": "2024-07-07T11:37:11.288Z"
   },
   {
    "duration": 6,
    "start_time": "2024-07-07T11:37:11.303Z"
   },
   {
    "duration": 73,
    "start_time": "2024-07-07T11:37:11.311Z"
   },
   {
    "duration": 30,
    "start_time": "2024-07-07T11:37:11.386Z"
   },
   {
    "duration": 29,
    "start_time": "2024-07-07T11:37:11.417Z"
   },
   {
    "duration": 6,
    "start_time": "2024-07-07T11:37:11.447Z"
   },
   {
    "duration": 15,
    "start_time": "2024-07-07T11:37:11.455Z"
   },
   {
    "duration": 1165,
    "start_time": "2024-07-07T11:37:11.471Z"
   },
   {
    "duration": 23,
    "start_time": "2024-07-07T11:37:12.638Z"
   },
   {
    "duration": 1164,
    "start_time": "2024-07-07T11:37:12.662Z"
   },
   {
    "duration": 34,
    "start_time": "2024-07-07T11:37:13.828Z"
   },
   {
    "duration": 46,
    "start_time": "2024-07-07T11:37:13.864Z"
   },
   {
    "duration": 166,
    "start_time": "2024-07-07T11:37:13.912Z"
   },
   {
    "duration": 679,
    "start_time": "2024-07-07T11:38:14.571Z"
   },
   {
    "duration": 101,
    "start_time": "2024-07-07T11:38:15.252Z"
   },
   {
    "duration": 15,
    "start_time": "2024-07-07T11:38:15.354Z"
   },
   {
    "duration": 53,
    "start_time": "2024-07-07T11:38:15.371Z"
   },
   {
    "duration": 9,
    "start_time": "2024-07-07T11:38:15.426Z"
   },
   {
    "duration": 8,
    "start_time": "2024-07-07T11:38:15.436Z"
   },
   {
    "duration": 30,
    "start_time": "2024-07-07T11:38:15.446Z"
   },
   {
    "duration": 15,
    "start_time": "2024-07-07T11:38:15.477Z"
   },
   {
    "duration": 79,
    "start_time": "2024-07-07T11:38:15.493Z"
   },
   {
    "duration": 8,
    "start_time": "2024-07-07T11:38:15.575Z"
   },
   {
    "duration": 5,
    "start_time": "2024-07-07T11:38:15.585Z"
   },
   {
    "duration": 17,
    "start_time": "2024-07-07T11:38:15.591Z"
   },
   {
    "duration": 60,
    "start_time": "2024-07-07T11:38:15.609Z"
   },
   {
    "duration": 26,
    "start_time": "2024-07-07T11:38:15.670Z"
   },
   {
    "duration": 5,
    "start_time": "2024-07-07T11:38:15.698Z"
   },
   {
    "duration": 9,
    "start_time": "2024-07-07T11:38:15.705Z"
   },
   {
    "duration": 16,
    "start_time": "2024-07-07T11:38:15.715Z"
   },
   {
    "duration": 6,
    "start_time": "2024-07-07T11:38:15.732Z"
   },
   {
    "duration": 8,
    "start_time": "2024-07-07T11:38:15.739Z"
   },
   {
    "duration": 6,
    "start_time": "2024-07-07T11:38:15.749Z"
   },
   {
    "duration": 8,
    "start_time": "2024-07-07T11:38:15.756Z"
   },
   {
    "duration": 5,
    "start_time": "2024-07-07T11:38:15.765Z"
   },
   {
    "duration": 21,
    "start_time": "2024-07-07T11:38:15.771Z"
   },
   {
    "duration": 10,
    "start_time": "2024-07-07T11:38:15.794Z"
   },
   {
    "duration": 18,
    "start_time": "2024-07-07T11:38:15.805Z"
   },
   {
    "duration": 26,
    "start_time": "2024-07-07T11:38:15.824Z"
   },
   {
    "duration": 5,
    "start_time": "2024-07-07T11:38:15.852Z"
   },
   {
    "duration": 8,
    "start_time": "2024-07-07T11:38:15.860Z"
   },
   {
    "duration": 11,
    "start_time": "2024-07-07T11:38:15.870Z"
   },
   {
    "duration": 20,
    "start_time": "2024-07-07T11:38:15.882Z"
   },
   {
    "duration": 25,
    "start_time": "2024-07-07T11:38:15.903Z"
   },
   {
    "duration": 36,
    "start_time": "2024-07-07T11:38:15.930Z"
   },
   {
    "duration": 5,
    "start_time": "2024-07-07T11:38:15.968Z"
   },
   {
    "duration": 15,
    "start_time": "2024-07-07T11:38:15.975Z"
   },
   {
    "duration": 6,
    "start_time": "2024-07-07T11:38:15.991Z"
   },
   {
    "duration": 6,
    "start_time": "2024-07-07T11:38:15.999Z"
   },
   {
    "duration": 14,
    "start_time": "2024-07-07T11:38:16.006Z"
   },
   {
    "duration": 46,
    "start_time": "2024-07-07T11:38:16.022Z"
   },
   {
    "duration": 13,
    "start_time": "2024-07-07T11:38:16.070Z"
   },
   {
    "duration": 19,
    "start_time": "2024-07-07T11:38:16.086Z"
   },
   {
    "duration": 11,
    "start_time": "2024-07-07T11:38:16.106Z"
   },
   {
    "duration": 50,
    "start_time": "2024-07-07T11:38:16.119Z"
   },
   {
    "duration": 12,
    "start_time": "2024-07-07T11:38:16.171Z"
   },
   {
    "duration": 4,
    "start_time": "2024-07-07T11:38:16.185Z"
   },
   {
    "duration": 11,
    "start_time": "2024-07-07T11:38:16.191Z"
   },
   {
    "duration": 13,
    "start_time": "2024-07-07T11:38:16.204Z"
   },
   {
    "duration": 14,
    "start_time": "2024-07-07T11:38:16.219Z"
   },
   {
    "duration": 27,
    "start_time": "2024-07-07T11:38:16.235Z"
   },
   {
    "duration": 30,
    "start_time": "2024-07-07T11:38:16.264Z"
   },
   {
    "duration": 4,
    "start_time": "2024-07-07T11:38:16.295Z"
   },
   {
    "duration": 59,
    "start_time": "2024-07-07T11:38:16.301Z"
   },
   {
    "duration": 7,
    "start_time": "2024-07-07T11:38:16.362Z"
   },
   {
    "duration": 66,
    "start_time": "2024-07-07T11:38:16.371Z"
   },
   {
    "duration": 1178,
    "start_time": "2024-07-07T11:38:16.440Z"
   },
   {
    "duration": 13,
    "start_time": "2024-07-07T11:38:17.619Z"
   },
   {
    "duration": 1163,
    "start_time": "2024-07-07T11:38:17.633Z"
   },
   {
    "duration": 26,
    "start_time": "2024-07-07T11:38:18.798Z"
   },
   {
    "duration": 53,
    "start_time": "2024-07-07T11:38:18.826Z"
   },
   {
    "duration": 164,
    "start_time": "2024-07-07T11:38:18.881Z"
   },
   {
    "duration": 54,
    "start_time": "2024-07-07T16:33:37.356Z"
   },
   {
    "duration": 706,
    "start_time": "2024-07-07T16:33:45.418Z"
   },
   {
    "duration": 293,
    "start_time": "2024-07-07T16:33:46.126Z"
   },
   {
    "duration": 12,
    "start_time": "2024-07-07T16:33:46.421Z"
   },
   {
    "duration": 95,
    "start_time": "2024-07-07T16:33:46.435Z"
   },
   {
    "duration": 9,
    "start_time": "2024-07-07T16:33:46.531Z"
   },
   {
    "duration": 7,
    "start_time": "2024-07-07T16:33:46.541Z"
   },
   {
    "duration": 37,
    "start_time": "2024-07-07T16:33:46.549Z"
   },
   {
    "duration": 12,
    "start_time": "2024-07-07T16:33:46.587Z"
   },
   {
    "duration": 9,
    "start_time": "2024-07-07T16:33:46.600Z"
   },
   {
    "duration": 7,
    "start_time": "2024-07-07T16:33:46.611Z"
   },
   {
    "duration": 5,
    "start_time": "2024-07-07T16:33:46.619Z"
   },
   {
    "duration": 7,
    "start_time": "2024-07-07T16:33:46.625Z"
   },
   {
    "duration": 3,
    "start_time": "2024-07-07T16:33:46.633Z"
   },
   {
    "duration": 13,
    "start_time": "2024-07-07T16:33:46.638Z"
   },
   {
    "duration": 33,
    "start_time": "2024-07-07T16:33:46.654Z"
   },
   {
    "duration": 46,
    "start_time": "2024-07-07T16:33:46.688Z"
   },
   {
    "duration": 8,
    "start_time": "2024-07-07T16:33:46.735Z"
   },
   {
    "duration": 4,
    "start_time": "2024-07-07T16:33:46.745Z"
   },
   {
    "duration": 5,
    "start_time": "2024-07-07T16:33:46.750Z"
   },
   {
    "duration": 3,
    "start_time": "2024-07-07T16:33:46.756Z"
   },
   {
    "duration": 4,
    "start_time": "2024-07-07T16:33:46.760Z"
   },
   {
    "duration": 5,
    "start_time": "2024-07-07T16:33:46.765Z"
   },
   {
    "duration": 4,
    "start_time": "2024-07-07T16:33:46.775Z"
   },
   {
    "duration": 10,
    "start_time": "2024-07-07T16:33:46.780Z"
   },
   {
    "duration": 10,
    "start_time": "2024-07-07T16:33:46.791Z"
   },
   {
    "duration": 22,
    "start_time": "2024-07-07T16:33:46.803Z"
   },
   {
    "duration": 4,
    "start_time": "2024-07-07T16:33:46.826Z"
   },
   {
    "duration": 10,
    "start_time": "2024-07-07T16:33:46.833Z"
   },
   {
    "duration": 10,
    "start_time": "2024-07-07T16:33:46.844Z"
   },
   {
    "duration": 36,
    "start_time": "2024-07-07T16:33:46.855Z"
   },
   {
    "duration": 7,
    "start_time": "2024-07-07T16:33:46.892Z"
   },
   {
    "duration": 10,
    "start_time": "2024-07-07T16:33:46.900Z"
   },
   {
    "duration": 7,
    "start_time": "2024-07-07T16:33:46.911Z"
   },
   {
    "duration": 12,
    "start_time": "2024-07-07T16:33:46.919Z"
   },
   {
    "duration": 4,
    "start_time": "2024-07-07T16:33:46.932Z"
   },
   {
    "duration": 3,
    "start_time": "2024-07-07T16:33:46.937Z"
   },
   {
    "duration": 8,
    "start_time": "2024-07-07T16:33:46.941Z"
   },
   {
    "duration": 12,
    "start_time": "2024-07-07T16:33:46.975Z"
   },
   {
    "duration": 8,
    "start_time": "2024-07-07T16:33:46.988Z"
   },
   {
    "duration": 11,
    "start_time": "2024-07-07T16:33:46.997Z"
   },
   {
    "duration": 8,
    "start_time": "2024-07-07T16:33:47.009Z"
   },
   {
    "duration": 12,
    "start_time": "2024-07-07T16:33:47.018Z"
   },
   {
    "duration": 6,
    "start_time": "2024-07-07T16:33:47.031Z"
   },
   {
    "duration": 47,
    "start_time": "2024-07-07T16:33:47.038Z"
   },
   {
    "duration": 6,
    "start_time": "2024-07-07T16:33:47.086Z"
   },
   {
    "duration": 3,
    "start_time": "2024-07-07T16:33:47.094Z"
   },
   {
    "duration": 11,
    "start_time": "2024-07-07T16:33:47.098Z"
   },
   {
    "duration": 5,
    "start_time": "2024-07-07T16:33:47.110Z"
   },
   {
    "duration": 25,
    "start_time": "2024-07-07T16:33:47.116Z"
   },
   {
    "duration": 3,
    "start_time": "2024-07-07T16:33:47.142Z"
   },
   {
    "duration": 52,
    "start_time": "2024-07-07T16:33:47.146Z"
   },
   {
    "duration": 3,
    "start_time": "2024-07-07T16:33:47.200Z"
   },
   {
    "duration": 6,
    "start_time": "2024-07-07T16:33:47.204Z"
   },
   {
    "duration": 19,
    "start_time": "2024-07-07T16:33:47.211Z"
   },
   {
    "duration": 52,
    "start_time": "2024-07-07T16:33:47.231Z"
   },
   {
    "duration": 7,
    "start_time": "2024-07-07T16:33:47.284Z"
   },
   {
    "duration": 37,
    "start_time": "2024-07-07T16:33:47.292Z"
   },
   {
    "duration": 21,
    "start_time": "2024-07-07T16:33:47.331Z"
   },
   {
    "duration": 46,
    "start_time": "2024-07-07T16:33:47.353Z"
   },
   {
    "duration": 139,
    "start_time": "2024-07-07T16:33:47.401Z"
   },
   {
    "duration": 88,
    "start_time": "2024-07-07T16:38:25.514Z"
   },
   {
    "duration": 4,
    "start_time": "2024-07-07T16:38:32.436Z"
   },
   {
    "duration": 38,
    "start_time": "2024-07-07T16:39:23.601Z"
   },
   {
    "duration": 14,
    "start_time": "2024-07-07T16:44:05.629Z"
   },
   {
    "duration": 12,
    "start_time": "2024-07-07T16:48:58.362Z"
   },
   {
    "duration": 551,
    "start_time": "2024-07-07T16:49:04.134Z"
   },
   {
    "duration": 102,
    "start_time": "2024-07-07T16:49:04.688Z"
   },
   {
    "duration": 12,
    "start_time": "2024-07-07T16:49:04.791Z"
   },
   {
    "duration": 37,
    "start_time": "2024-07-07T16:49:04.805Z"
   },
   {
    "duration": 8,
    "start_time": "2024-07-07T16:49:04.844Z"
   },
   {
    "duration": 5,
    "start_time": "2024-07-07T16:49:04.853Z"
   },
   {
    "duration": 27,
    "start_time": "2024-07-07T16:49:04.859Z"
   },
   {
    "duration": 12,
    "start_time": "2024-07-07T16:49:04.887Z"
   },
   {
    "duration": 8,
    "start_time": "2024-07-07T16:49:04.900Z"
   },
   {
    "duration": 8,
    "start_time": "2024-07-07T16:49:04.910Z"
   },
   {
    "duration": 4,
    "start_time": "2024-07-07T16:49:04.919Z"
   },
   {
    "duration": 7,
    "start_time": "2024-07-07T16:49:04.925Z"
   },
   {
    "duration": 3,
    "start_time": "2024-07-07T16:49:04.933Z"
   },
   {
    "duration": 37,
    "start_time": "2024-07-07T16:49:04.938Z"
   },
   {
    "duration": 5,
    "start_time": "2024-07-07T16:49:04.977Z"
   },
   {
    "duration": 8,
    "start_time": "2024-07-07T16:49:04.983Z"
   },
   {
    "duration": 8,
    "start_time": "2024-07-07T16:49:04.992Z"
   },
   {
    "duration": 5,
    "start_time": "2024-07-07T16:49:05.001Z"
   },
   {
    "duration": 6,
    "start_time": "2024-07-07T16:49:05.007Z"
   },
   {
    "duration": 3,
    "start_time": "2024-07-07T16:49:05.014Z"
   },
   {
    "duration": 7,
    "start_time": "2024-07-07T16:49:05.018Z"
   },
   {
    "duration": 4,
    "start_time": "2024-07-07T16:49:05.026Z"
   },
   {
    "duration": 40,
    "start_time": "2024-07-07T16:49:05.031Z"
   },
   {
    "duration": 4,
    "start_time": "2024-07-07T16:49:05.072Z"
   },
   {
    "duration": 11,
    "start_time": "2024-07-07T16:49:05.077Z"
   },
   {
    "duration": 33,
    "start_time": "2024-07-07T16:49:05.089Z"
   },
   {
    "duration": 5,
    "start_time": "2024-07-07T16:49:05.123Z"
   },
   {
    "duration": 10,
    "start_time": "2024-07-07T16:49:05.132Z"
   },
   {
    "duration": 32,
    "start_time": "2024-07-07T16:49:05.143Z"
   },
   {
    "duration": 26,
    "start_time": "2024-07-07T16:49:05.177Z"
   },
   {
    "duration": 10,
    "start_time": "2024-07-07T16:49:05.204Z"
   },
   {
    "duration": 10,
    "start_time": "2024-07-07T16:49:05.215Z"
   },
   {
    "duration": 4,
    "start_time": "2024-07-07T16:49:05.227Z"
   },
   {
    "duration": 44,
    "start_time": "2024-07-07T16:49:05.233Z"
   },
   {
    "duration": 3,
    "start_time": "2024-07-07T16:49:05.278Z"
   },
   {
    "duration": 4,
    "start_time": "2024-07-07T16:49:05.283Z"
   },
   {
    "duration": 13,
    "start_time": "2024-07-07T16:49:05.288Z"
   },
   {
    "duration": 28,
    "start_time": "2024-07-07T16:49:05.302Z"
   },
   {
    "duration": 8,
    "start_time": "2024-07-07T16:49:05.331Z"
   },
   {
    "duration": 10,
    "start_time": "2024-07-07T16:49:05.340Z"
   },
   {
    "duration": 7,
    "start_time": "2024-07-07T16:49:05.352Z"
   },
   {
    "duration": 20,
    "start_time": "2024-07-07T16:49:05.360Z"
   },
   {
    "duration": 7,
    "start_time": "2024-07-07T16:49:05.381Z"
   },
   {
    "duration": 2,
    "start_time": "2024-07-07T16:49:05.389Z"
   },
   {
    "duration": 6,
    "start_time": "2024-07-07T16:49:05.393Z"
   },
   {
    "duration": 3,
    "start_time": "2024-07-07T16:49:05.400Z"
   },
   {
    "duration": 26,
    "start_time": "2024-07-07T16:49:05.405Z"
   },
   {
    "duration": 4,
    "start_time": "2024-07-07T16:49:05.432Z"
   },
   {
    "duration": 39,
    "start_time": "2024-07-07T16:49:05.437Z"
   },
   {
    "duration": 2,
    "start_time": "2024-07-07T16:49:05.478Z"
   },
   {
    "duration": 26,
    "start_time": "2024-07-07T16:49:05.481Z"
   },
   {
    "duration": 22,
    "start_time": "2024-07-07T16:49:05.508Z"
   },
   {
    "duration": 5,
    "start_time": "2024-07-07T16:49:05.532Z"
   },
   {
    "duration": 15,
    "start_time": "2024-07-07T16:49:05.538Z"
   },
   {
    "duration": 53,
    "start_time": "2024-07-07T16:49:05.554Z"
   },
   {
    "duration": 7,
    "start_time": "2024-07-07T16:49:05.608Z"
   },
   {
    "duration": 57,
    "start_time": "2024-07-07T16:49:05.616Z"
   },
   {
    "duration": 31,
    "start_time": "2024-07-07T16:49:05.674Z"
   },
   {
    "duration": 31,
    "start_time": "2024-07-07T16:49:05.706Z"
   },
   {
    "duration": 133,
    "start_time": "2024-07-07T16:49:05.738Z"
   },
   {
    "duration": 27,
    "start_time": "2024-07-07T16:49:05.872Z"
   },
   {
    "duration": 537,
    "start_time": "2024-07-07T16:53:12.019Z"
   },
   {
    "duration": 31,
    "start_time": "2024-07-07T16:54:23.902Z"
   },
   {
    "duration": 542,
    "start_time": "2024-07-07T16:54:30.204Z"
   },
   {
    "duration": 105,
    "start_time": "2024-07-07T16:54:30.747Z"
   },
   {
    "duration": 15,
    "start_time": "2024-07-07T16:54:30.854Z"
   },
   {
    "duration": 77,
    "start_time": "2024-07-07T16:54:30.871Z"
   },
   {
    "duration": 8,
    "start_time": "2024-07-07T16:54:30.949Z"
   },
   {
    "duration": 38,
    "start_time": "2024-07-07T16:54:30.959Z"
   },
   {
    "duration": 59,
    "start_time": "2024-07-07T16:54:30.999Z"
   },
   {
    "duration": 35,
    "start_time": "2024-07-07T16:54:31.060Z"
   },
   {
    "duration": 53,
    "start_time": "2024-07-07T16:54:31.096Z"
   },
   {
    "duration": 27,
    "start_time": "2024-07-07T16:54:31.152Z"
   },
   {
    "duration": 43,
    "start_time": "2024-07-07T16:54:31.180Z"
   },
   {
    "duration": 38,
    "start_time": "2024-07-07T16:54:31.225Z"
   },
   {
    "duration": 40,
    "start_time": "2024-07-07T16:54:31.265Z"
   },
   {
    "duration": 42,
    "start_time": "2024-07-07T16:54:31.306Z"
   },
   {
    "duration": 34,
    "start_time": "2024-07-07T16:54:31.349Z"
   },
   {
    "duration": 28,
    "start_time": "2024-07-07T16:54:31.384Z"
   },
   {
    "duration": 27,
    "start_time": "2024-07-07T16:54:31.414Z"
   },
   {
    "duration": 32,
    "start_time": "2024-07-07T16:54:31.443Z"
   },
   {
    "duration": 17,
    "start_time": "2024-07-07T16:54:31.476Z"
   },
   {
    "duration": 43,
    "start_time": "2024-07-07T16:54:31.494Z"
   },
   {
    "duration": 23,
    "start_time": "2024-07-07T16:54:31.538Z"
   },
   {
    "duration": 21,
    "start_time": "2024-07-07T16:54:31.562Z"
   },
   {
    "duration": 27,
    "start_time": "2024-07-07T16:54:31.584Z"
   },
   {
    "duration": 20,
    "start_time": "2024-07-07T16:54:31.612Z"
   },
   {
    "duration": 19,
    "start_time": "2024-07-07T16:54:31.634Z"
   },
   {
    "duration": 44,
    "start_time": "2024-07-07T16:54:31.654Z"
   },
   {
    "duration": 4,
    "start_time": "2024-07-07T16:54:31.700Z"
   },
   {
    "duration": 18,
    "start_time": "2024-07-07T16:54:31.707Z"
   },
   {
    "duration": 15,
    "start_time": "2024-07-07T16:54:31.726Z"
   },
   {
    "duration": 28,
    "start_time": "2024-07-07T16:54:31.742Z"
   },
   {
    "duration": 6,
    "start_time": "2024-07-07T16:54:31.771Z"
   },
   {
    "duration": 17,
    "start_time": "2024-07-07T16:54:31.778Z"
   },
   {
    "duration": 11,
    "start_time": "2024-07-07T16:54:31.796Z"
   },
   {
    "duration": 22,
    "start_time": "2024-07-07T16:54:31.808Z"
   },
   {
    "duration": 5,
    "start_time": "2024-07-07T16:54:31.832Z"
   },
   {
    "duration": 18,
    "start_time": "2024-07-07T16:54:31.838Z"
   },
   {
    "duration": 13,
    "start_time": "2024-07-07T16:54:31.857Z"
   },
   {
    "duration": 17,
    "start_time": "2024-07-07T16:54:31.871Z"
   },
   {
    "duration": 30,
    "start_time": "2024-07-07T16:54:31.890Z"
   },
   {
    "duration": 19,
    "start_time": "2024-07-07T16:54:31.921Z"
   },
   {
    "duration": 16,
    "start_time": "2024-07-07T16:54:31.942Z"
   },
   {
    "duration": 21,
    "start_time": "2024-07-07T16:54:31.960Z"
   },
   {
    "duration": 7,
    "start_time": "2024-07-07T16:54:31.982Z"
   },
   {
    "duration": 3,
    "start_time": "2024-07-07T16:54:31.990Z"
   },
   {
    "duration": 15,
    "start_time": "2024-07-07T16:54:31.994Z"
   },
   {
    "duration": 7,
    "start_time": "2024-07-07T16:54:32.010Z"
   },
   {
    "duration": 12,
    "start_time": "2024-07-07T16:54:32.018Z"
   },
   {
    "duration": 5,
    "start_time": "2024-07-07T16:54:32.031Z"
   },
   {
    "duration": 520,
    "start_time": "2024-07-07T16:54:32.037Z"
   },
   {
    "duration": 0,
    "start_time": "2024-07-07T16:54:32.559Z"
   },
   {
    "duration": 0,
    "start_time": "2024-07-07T16:54:32.560Z"
   },
   {
    "duration": 0,
    "start_time": "2024-07-07T16:54:32.561Z"
   },
   {
    "duration": 0,
    "start_time": "2024-07-07T16:54:32.561Z"
   },
   {
    "duration": 0,
    "start_time": "2024-07-07T16:54:32.562Z"
   },
   {
    "duration": 0,
    "start_time": "2024-07-07T16:54:32.563Z"
   },
   {
    "duration": 0,
    "start_time": "2024-07-07T16:54:32.564Z"
   },
   {
    "duration": 0,
    "start_time": "2024-07-07T16:54:32.565Z"
   },
   {
    "duration": 0,
    "start_time": "2024-07-07T16:54:32.566Z"
   },
   {
    "duration": 0,
    "start_time": "2024-07-07T16:54:32.567Z"
   },
   {
    "duration": 0,
    "start_time": "2024-07-07T16:54:32.567Z"
   },
   {
    "duration": 0,
    "start_time": "2024-07-07T16:54:32.568Z"
   },
   {
    "duration": 0,
    "start_time": "2024-07-07T16:54:32.569Z"
   },
   {
    "duration": 3,
    "start_time": "2024-07-07T16:55:51.235Z"
   },
   {
    "duration": 25,
    "start_time": "2024-07-07T16:55:53.072Z"
   },
   {
    "duration": 28,
    "start_time": "2024-07-07T16:56:22.835Z"
   },
   {
    "duration": 25,
    "start_time": "2024-07-07T16:56:58.582Z"
   },
   {
    "duration": 26,
    "start_time": "2024-07-07T16:58:31.303Z"
   },
   {
    "duration": 7,
    "start_time": "2024-07-07T16:59:51.370Z"
   },
   {
    "duration": 8,
    "start_time": "2024-07-07T16:59:54.688Z"
   },
   {
    "duration": 42,
    "start_time": "2024-07-07T16:59:58.914Z"
   },
   {
    "duration": 9,
    "start_time": "2024-07-07T16:59:59.374Z"
   },
   {
    "duration": 46,
    "start_time": "2024-07-07T17:00:01.824Z"
   },
   {
    "duration": 23,
    "start_time": "2024-07-07T17:00:02.237Z"
   },
   {
    "duration": 11,
    "start_time": "2024-07-07T17:00:56.183Z"
   },
   {
    "duration": 10,
    "start_time": "2024-07-07T17:01:40.293Z"
   },
   {
    "duration": 14,
    "start_time": "2024-07-07T17:02:07.035Z"
   },
   {
    "duration": 14,
    "start_time": "2024-07-07T17:02:24.606Z"
   },
   {
    "duration": 588,
    "start_time": "2024-07-07T17:02:41.577Z"
   },
   {
    "duration": 106,
    "start_time": "2024-07-07T17:02:42.167Z"
   },
   {
    "duration": 19,
    "start_time": "2024-07-07T17:02:42.275Z"
   },
   {
    "duration": 42,
    "start_time": "2024-07-07T17:02:42.297Z"
   },
   {
    "duration": 12,
    "start_time": "2024-07-07T17:02:42.340Z"
   },
   {
    "duration": 9,
    "start_time": "2024-07-07T17:02:42.353Z"
   },
   {
    "duration": 40,
    "start_time": "2024-07-07T17:02:42.364Z"
   },
   {
    "duration": 16,
    "start_time": "2024-07-07T17:02:42.406Z"
   },
   {
    "duration": 8,
    "start_time": "2024-07-07T17:02:42.424Z"
   },
   {
    "duration": 105,
    "start_time": "2024-07-07T17:02:42.434Z"
   },
   {
    "duration": 5,
    "start_time": "2024-07-07T17:02:42.540Z"
   },
   {
    "duration": 6,
    "start_time": "2024-07-07T17:02:42.547Z"
   },
   {
    "duration": 3,
    "start_time": "2024-07-07T17:02:42.555Z"
   },
   {
    "duration": 5,
    "start_time": "2024-07-07T17:02:42.559Z"
   },
   {
    "duration": 4,
    "start_time": "2024-07-07T17:02:42.565Z"
   },
   {
    "duration": 8,
    "start_time": "2024-07-07T17:02:42.570Z"
   },
   {
    "duration": 8,
    "start_time": "2024-07-07T17:02:42.579Z"
   },
   {
    "duration": 5,
    "start_time": "2024-07-07T17:02:42.589Z"
   },
   {
    "duration": 6,
    "start_time": "2024-07-07T17:02:42.595Z"
   },
   {
    "duration": 3,
    "start_time": "2024-07-07T17:02:42.602Z"
   },
   {
    "duration": 6,
    "start_time": "2024-07-07T17:02:42.606Z"
   },
   {
    "duration": 23,
    "start_time": "2024-07-07T17:02:42.613Z"
   },
   {
    "duration": 4,
    "start_time": "2024-07-07T17:02:42.637Z"
   },
   {
    "duration": 4,
    "start_time": "2024-07-07T17:02:42.642Z"
   },
   {
    "duration": 9,
    "start_time": "2024-07-07T17:02:42.647Z"
   },
   {
    "duration": 23,
    "start_time": "2024-07-07T17:02:42.671Z"
   },
   {
    "duration": 5,
    "start_time": "2024-07-07T17:02:42.695Z"
   },
   {
    "duration": 11,
    "start_time": "2024-07-07T17:02:42.705Z"
   },
   {
    "duration": 9,
    "start_time": "2024-07-07T17:02:42.717Z"
   },
   {
    "duration": 18,
    "start_time": "2024-07-07T17:02:42.727Z"
   },
   {
    "duration": 27,
    "start_time": "2024-07-07T17:02:42.747Z"
   },
   {
    "duration": 14,
    "start_time": "2024-07-07T17:02:42.775Z"
   },
   {
    "duration": 11,
    "start_time": "2024-07-07T17:02:42.790Z"
   },
   {
    "duration": 58,
    "start_time": "2024-07-07T17:02:42.802Z"
   },
   {
    "duration": 12,
    "start_time": "2024-07-07T17:02:42.861Z"
   },
   {
    "duration": 4,
    "start_time": "2024-07-07T17:02:42.874Z"
   },
   {
    "duration": 10,
    "start_time": "2024-07-07T17:02:42.879Z"
   },
   {
    "duration": 4,
    "start_time": "2024-07-07T17:02:42.890Z"
   },
   {
    "duration": 6,
    "start_time": "2024-07-07T17:02:42.895Z"
   },
   {
    "duration": 21,
    "start_time": "2024-07-07T17:02:42.902Z"
   },
   {
    "duration": 9,
    "start_time": "2024-07-07T17:02:42.925Z"
   },
   {
    "duration": 11,
    "start_time": "2024-07-07T17:02:42.935Z"
   },
   {
    "duration": 27,
    "start_time": "2024-07-07T17:02:42.947Z"
   },
   {
    "duration": 13,
    "start_time": "2024-07-07T17:02:42.975Z"
   },
   {
    "duration": 7,
    "start_time": "2024-07-07T17:02:42.989Z"
   },
   {
    "duration": 4,
    "start_time": "2024-07-07T17:02:42.997Z"
   },
   {
    "duration": 18,
    "start_time": "2024-07-07T17:02:43.002Z"
   },
   {
    "duration": 6,
    "start_time": "2024-07-07T17:02:43.021Z"
   },
   {
    "duration": 17,
    "start_time": "2024-07-07T17:02:43.029Z"
   },
   {
    "duration": 26,
    "start_time": "2024-07-07T17:02:43.047Z"
   },
   {
    "duration": 27,
    "start_time": "2024-07-07T17:02:43.075Z"
   },
   {
    "duration": 47,
    "start_time": "2024-07-07T17:02:43.103Z"
   },
   {
    "duration": 16,
    "start_time": "2024-07-07T17:02:43.152Z"
   },
   {
    "duration": 7,
    "start_time": "2024-07-07T17:02:43.169Z"
   },
   {
    "duration": 16,
    "start_time": "2024-07-07T17:02:43.178Z"
   },
   {
    "duration": 1039,
    "start_time": "2024-07-07T17:02:43.196Z"
   },
   {
    "duration": 10,
    "start_time": "2024-07-07T17:02:44.237Z"
   },
   {
    "duration": 1009,
    "start_time": "2024-07-07T17:02:44.248Z"
   },
   {
    "duration": 29,
    "start_time": "2024-07-07T17:02:45.259Z"
   },
   {
    "duration": 41,
    "start_time": "2024-07-07T17:02:45.289Z"
   },
   {
    "duration": 161,
    "start_time": "2024-07-07T17:02:45.332Z"
   },
   {
    "duration": 36,
    "start_time": "2024-07-07T17:02:45.494Z"
   },
   {
    "duration": 13,
    "start_time": "2024-07-07T17:03:54.303Z"
   },
   {
    "duration": 542,
    "start_time": "2024-07-07T17:04:58.034Z"
   },
   {
    "duration": 93,
    "start_time": "2024-07-07T17:04:58.577Z"
   },
   {
    "duration": 12,
    "start_time": "2024-07-07T17:04:58.671Z"
   },
   {
    "duration": 38,
    "start_time": "2024-07-07T17:04:58.684Z"
   },
   {
    "duration": 8,
    "start_time": "2024-07-07T17:04:58.723Z"
   },
   {
    "duration": 4,
    "start_time": "2024-07-07T17:04:58.732Z"
   },
   {
    "duration": 25,
    "start_time": "2024-07-07T17:04:58.737Z"
   },
   {
    "duration": 11,
    "start_time": "2024-07-07T17:04:58.763Z"
   },
   {
    "duration": 8,
    "start_time": "2024-07-07T17:04:58.775Z"
   },
   {
    "duration": 7,
    "start_time": "2024-07-07T17:04:58.785Z"
   },
   {
    "duration": 4,
    "start_time": "2024-07-07T17:04:58.793Z"
   },
   {
    "duration": 13,
    "start_time": "2024-07-07T17:04:58.798Z"
   },
   {
    "duration": 3,
    "start_time": "2024-07-07T17:04:58.812Z"
   },
   {
    "duration": 4,
    "start_time": "2024-07-07T17:04:58.817Z"
   },
   {
    "duration": 4,
    "start_time": "2024-07-07T17:04:58.822Z"
   },
   {
    "duration": 7,
    "start_time": "2024-07-07T17:04:58.828Z"
   },
   {
    "duration": 35,
    "start_time": "2024-07-07T17:04:58.836Z"
   },
   {
    "duration": 5,
    "start_time": "2024-07-07T17:04:58.872Z"
   },
   {
    "duration": 5,
    "start_time": "2024-07-07T17:04:58.878Z"
   },
   {
    "duration": 3,
    "start_time": "2024-07-07T17:04:58.884Z"
   },
   {
    "duration": 3,
    "start_time": "2024-07-07T17:04:58.888Z"
   },
   {
    "duration": 3,
    "start_time": "2024-07-07T17:04:58.892Z"
   },
   {
    "duration": 9,
    "start_time": "2024-07-07T17:04:58.896Z"
   },
   {
    "duration": 4,
    "start_time": "2024-07-07T17:04:58.906Z"
   },
   {
    "duration": 13,
    "start_time": "2024-07-07T17:04:58.911Z"
   },
   {
    "duration": 25,
    "start_time": "2024-07-07T17:04:58.925Z"
   },
   {
    "duration": 21,
    "start_time": "2024-07-07T17:04:58.951Z"
   },
   {
    "duration": 8,
    "start_time": "2024-07-07T17:04:58.975Z"
   },
   {
    "duration": 8,
    "start_time": "2024-07-07T17:04:58.984Z"
   },
   {
    "duration": 17,
    "start_time": "2024-07-07T17:04:58.993Z"
   },
   {
    "duration": 7,
    "start_time": "2024-07-07T17:04:59.011Z"
   },
   {
    "duration": 9,
    "start_time": "2024-07-07T17:04:59.019Z"
   },
   {
    "duration": 4,
    "start_time": "2024-07-07T17:04:59.030Z"
   },
   {
    "duration": 40,
    "start_time": "2024-07-07T17:04:59.035Z"
   },
   {
    "duration": 5,
    "start_time": "2024-07-07T17:04:59.076Z"
   },
   {
    "duration": 10,
    "start_time": "2024-07-07T17:04:59.082Z"
   },
   {
    "duration": 6,
    "start_time": "2024-07-07T17:04:59.093Z"
   },
   {
    "duration": 11,
    "start_time": "2024-07-07T17:04:59.101Z"
   },
   {
    "duration": 9,
    "start_time": "2024-07-07T17:04:59.113Z"
   },
   {
    "duration": 12,
    "start_time": "2024-07-07T17:04:59.123Z"
   },
   {
    "duration": 10,
    "start_time": "2024-07-07T17:04:59.172Z"
   },
   {
    "duration": 12,
    "start_time": "2024-07-07T17:04:59.183Z"
   },
   {
    "duration": 6,
    "start_time": "2024-07-07T17:04:59.197Z"
   },
   {
    "duration": 4,
    "start_time": "2024-07-07T17:04:59.205Z"
   },
   {
    "duration": 6,
    "start_time": "2024-07-07T17:04:59.211Z"
   },
   {
    "duration": 3,
    "start_time": "2024-07-07T17:04:59.219Z"
   },
   {
    "duration": 11,
    "start_time": "2024-07-07T17:04:59.223Z"
   },
   {
    "duration": 4,
    "start_time": "2024-07-07T17:04:59.271Z"
   },
   {
    "duration": 3,
    "start_time": "2024-07-07T17:04:59.277Z"
   },
   {
    "duration": 24,
    "start_time": "2024-07-07T17:04:59.281Z"
   },
   {
    "duration": 85,
    "start_time": "2024-07-07T17:04:59.307Z"
   },
   {
    "duration": 0,
    "start_time": "2024-07-07T17:04:59.393Z"
   },
   {
    "duration": 0,
    "start_time": "2024-07-07T17:04:59.394Z"
   },
   {
    "duration": 0,
    "start_time": "2024-07-07T17:04:59.395Z"
   },
   {
    "duration": 0,
    "start_time": "2024-07-07T17:04:59.396Z"
   },
   {
    "duration": 0,
    "start_time": "2024-07-07T17:04:59.397Z"
   },
   {
    "duration": 0,
    "start_time": "2024-07-07T17:04:59.398Z"
   },
   {
    "duration": 0,
    "start_time": "2024-07-07T17:04:59.400Z"
   },
   {
    "duration": 0,
    "start_time": "2024-07-07T17:04:59.401Z"
   },
   {
    "duration": 0,
    "start_time": "2024-07-07T17:04:59.402Z"
   },
   {
    "duration": 592,
    "start_time": "2024-07-07T17:06:31.553Z"
   },
   {
    "duration": 94,
    "start_time": "2024-07-07T17:06:32.147Z"
   },
   {
    "duration": 13,
    "start_time": "2024-07-07T17:06:32.243Z"
   },
   {
    "duration": 37,
    "start_time": "2024-07-07T17:06:32.258Z"
   },
   {
    "duration": 8,
    "start_time": "2024-07-07T17:06:32.296Z"
   },
   {
    "duration": 5,
    "start_time": "2024-07-07T17:06:32.305Z"
   },
   {
    "duration": 24,
    "start_time": "2024-07-07T17:06:32.312Z"
   },
   {
    "duration": 11,
    "start_time": "2024-07-07T17:06:32.337Z"
   },
   {
    "duration": 9,
    "start_time": "2024-07-07T17:06:32.349Z"
   },
   {
    "duration": 19,
    "start_time": "2024-07-07T17:06:32.360Z"
   },
   {
    "duration": 5,
    "start_time": "2024-07-07T17:06:32.381Z"
   },
   {
    "duration": 26,
    "start_time": "2024-07-07T17:06:32.387Z"
   },
   {
    "duration": 3,
    "start_time": "2024-07-07T17:06:32.414Z"
   },
   {
    "duration": 9,
    "start_time": "2024-07-07T17:06:32.418Z"
   },
   {
    "duration": 5,
    "start_time": "2024-07-07T17:06:32.428Z"
   },
   {
    "duration": 7,
    "start_time": "2024-07-07T17:06:32.434Z"
   },
   {
    "duration": 50,
    "start_time": "2024-07-07T17:06:32.442Z"
   },
   {
    "duration": 39,
    "start_time": "2024-07-07T17:06:32.493Z"
   },
   {
    "duration": 5,
    "start_time": "2024-07-07T17:06:32.533Z"
   },
   {
    "duration": 3,
    "start_time": "2024-07-07T17:06:32.539Z"
   },
   {
    "duration": 7,
    "start_time": "2024-07-07T17:06:32.544Z"
   },
   {
    "duration": 5,
    "start_time": "2024-07-07T17:06:32.552Z"
   },
   {
    "duration": 4,
    "start_time": "2024-07-07T17:06:32.558Z"
   },
   {
    "duration": 3,
    "start_time": "2024-07-07T17:06:32.564Z"
   },
   {
    "duration": 10,
    "start_time": "2024-07-07T17:06:32.568Z"
   },
   {
    "duration": 23,
    "start_time": "2024-07-07T17:06:32.579Z"
   },
   {
    "duration": 4,
    "start_time": "2024-07-07T17:06:32.603Z"
   },
   {
    "duration": 7,
    "start_time": "2024-07-07T17:06:32.611Z"
   },
   {
    "duration": 9,
    "start_time": "2024-07-07T17:06:32.619Z"
   },
   {
    "duration": 17,
    "start_time": "2024-07-07T17:06:32.629Z"
   },
   {
    "duration": 27,
    "start_time": "2024-07-07T17:06:32.647Z"
   },
   {
    "duration": 13,
    "start_time": "2024-07-07T17:06:32.675Z"
   },
   {
    "duration": 3,
    "start_time": "2024-07-07T17:06:32.689Z"
   },
   {
    "duration": 14,
    "start_time": "2024-07-07T17:06:32.693Z"
   },
   {
    "duration": 4,
    "start_time": "2024-07-07T17:06:32.708Z"
   },
   {
    "duration": 4,
    "start_time": "2024-07-07T17:06:32.713Z"
   },
   {
    "duration": 6,
    "start_time": "2024-07-07T17:06:32.718Z"
   },
   {
    "duration": 15,
    "start_time": "2024-07-07T17:06:32.726Z"
   },
   {
    "duration": 36,
    "start_time": "2024-07-07T17:06:32.742Z"
   },
   {
    "duration": 10,
    "start_time": "2024-07-07T17:06:32.779Z"
   },
   {
    "duration": 83,
    "start_time": "2024-07-07T17:06:32.790Z"
   },
   {
    "duration": 29,
    "start_time": "2024-07-07T17:06:32.875Z"
   },
   {
    "duration": 6,
    "start_time": "2024-07-07T17:06:32.906Z"
   },
   {
    "duration": 3,
    "start_time": "2024-07-07T17:06:32.913Z"
   },
   {
    "duration": 7,
    "start_time": "2024-07-07T17:06:32.918Z"
   },
   {
    "duration": 8,
    "start_time": "2024-07-07T17:06:32.926Z"
   },
   {
    "duration": 12,
    "start_time": "2024-07-07T17:06:32.935Z"
   },
   {
    "duration": 5,
    "start_time": "2024-07-07T17:06:32.948Z"
   },
   {
    "duration": 4,
    "start_time": "2024-07-07T17:06:32.954Z"
   },
   {
    "duration": 26,
    "start_time": "2024-07-07T17:06:32.959Z"
   },
   {
    "duration": 5,
    "start_time": "2024-07-07T17:06:32.986Z"
   },
   {
    "duration": 13,
    "start_time": "2024-07-07T17:06:32.992Z"
   },
   {
    "duration": 942,
    "start_time": "2024-07-07T17:06:33.006Z"
   },
   {
    "duration": 10,
    "start_time": "2024-07-07T17:06:33.949Z"
   },
   {
    "duration": 1007,
    "start_time": "2024-07-07T17:06:33.960Z"
   },
   {
    "duration": 20,
    "start_time": "2024-07-07T17:06:34.969Z"
   },
   {
    "duration": 42,
    "start_time": "2024-07-07T17:06:34.990Z"
   },
   {
    "duration": 162,
    "start_time": "2024-07-07T17:06:35.033Z"
   },
   {
    "duration": 18,
    "start_time": "2024-07-07T17:06:35.197Z"
   },
   {
    "duration": 20,
    "start_time": "2024-07-07T17:07:44.117Z"
   },
   {
    "duration": 5,
    "start_time": "2024-07-07T17:10:00.918Z"
   },
   {
    "duration": 106,
    "start_time": "2024-07-07T17:13:01.077Z"
   },
   {
    "duration": 118,
    "start_time": "2024-07-07T17:13:53.271Z"
   },
   {
    "duration": 106,
    "start_time": "2024-07-07T17:14:13.124Z"
   },
   {
    "duration": 121,
    "start_time": "2024-07-07T17:14:29.204Z"
   },
   {
    "duration": 4,
    "start_time": "2024-07-07T17:15:02.130Z"
   },
   {
    "duration": 89,
    "start_time": "2024-07-07T17:15:02.560Z"
   },
   {
    "duration": 20,
    "start_time": "2024-07-07T17:24:01.365Z"
   },
   {
    "duration": 92,
    "start_time": "2024-07-07T17:24:58.009Z"
   },
   {
    "duration": 19,
    "start_time": "2024-07-07T17:24:59.816Z"
   },
   {
    "duration": 57,
    "start_time": "2024-07-09T17:56:46.273Z"
   },
   {
    "duration": 777,
    "start_time": "2024-07-09T17:57:04.059Z"
   },
   {
    "duration": 299,
    "start_time": "2024-07-09T17:57:04.838Z"
   },
   {
    "duration": 13,
    "start_time": "2024-07-09T17:57:05.138Z"
   },
   {
    "duration": 90,
    "start_time": "2024-07-09T17:57:05.153Z"
   },
   {
    "duration": 8,
    "start_time": "2024-07-09T17:57:05.245Z"
   },
   {
    "duration": 6,
    "start_time": "2024-07-09T17:57:05.254Z"
   },
   {
    "duration": 24,
    "start_time": "2024-07-09T17:57:05.262Z"
   },
   {
    "duration": 12,
    "start_time": "2024-07-09T17:57:05.288Z"
   },
   {
    "duration": 8,
    "start_time": "2024-07-09T17:57:05.301Z"
   },
   {
    "duration": 7,
    "start_time": "2024-07-09T17:57:05.312Z"
   },
   {
    "duration": 7,
    "start_time": "2024-07-09T17:57:05.320Z"
   },
   {
    "duration": 12,
    "start_time": "2024-07-09T17:57:05.328Z"
   },
   {
    "duration": 3,
    "start_time": "2024-07-09T17:57:05.341Z"
   },
   {
    "duration": 26,
    "start_time": "2024-07-09T17:57:05.345Z"
   },
   {
    "duration": 5,
    "start_time": "2024-07-09T17:57:05.373Z"
   },
   {
    "duration": 25,
    "start_time": "2024-07-09T17:57:05.379Z"
   },
   {
    "duration": 13,
    "start_time": "2024-07-09T17:57:05.405Z"
   },
   {
    "duration": 5,
    "start_time": "2024-07-09T17:57:05.419Z"
   },
   {
    "duration": 5,
    "start_time": "2024-07-09T17:57:05.425Z"
   },
   {
    "duration": 3,
    "start_time": "2024-07-09T17:57:05.432Z"
   },
   {
    "duration": 3,
    "start_time": "2024-07-09T17:57:05.437Z"
   },
   {
    "duration": 3,
    "start_time": "2024-07-09T17:57:05.441Z"
   },
   {
    "duration": 6,
    "start_time": "2024-07-09T17:57:05.446Z"
   },
   {
    "duration": 18,
    "start_time": "2024-07-09T17:57:05.453Z"
   },
   {
    "duration": 12,
    "start_time": "2024-07-09T17:57:05.472Z"
   },
   {
    "duration": 23,
    "start_time": "2024-07-09T17:57:05.486Z"
   },
   {
    "duration": 4,
    "start_time": "2024-07-09T17:57:05.510Z"
   },
   {
    "duration": 15,
    "start_time": "2024-07-09T17:57:05.517Z"
   },
   {
    "duration": 9,
    "start_time": "2024-07-09T17:57:05.533Z"
   },
   {
    "duration": 34,
    "start_time": "2024-07-09T17:57:05.543Z"
   },
   {
    "duration": 7,
    "start_time": "2024-07-09T17:57:05.578Z"
   },
   {
    "duration": 16,
    "start_time": "2024-07-09T17:57:05.586Z"
   },
   {
    "duration": 4,
    "start_time": "2024-07-09T17:57:05.603Z"
   },
   {
    "duration": 31,
    "start_time": "2024-07-09T17:57:05.608Z"
   },
   {
    "duration": 3,
    "start_time": "2024-07-09T17:57:05.641Z"
   },
   {
    "duration": 40,
    "start_time": "2024-07-09T17:57:05.646Z"
   },
   {
    "duration": 10,
    "start_time": "2024-07-09T17:57:05.688Z"
   },
   {
    "duration": 16,
    "start_time": "2024-07-09T17:57:05.700Z"
   },
   {
    "duration": 12,
    "start_time": "2024-07-09T17:57:05.717Z"
   },
   {
    "duration": 13,
    "start_time": "2024-07-09T17:57:05.730Z"
   },
   {
    "duration": 7,
    "start_time": "2024-07-09T17:57:05.745Z"
   },
   {
    "duration": 26,
    "start_time": "2024-07-09T17:57:05.753Z"
   },
   {
    "duration": 7,
    "start_time": "2024-07-09T17:57:05.780Z"
   },
   {
    "duration": 6,
    "start_time": "2024-07-09T17:57:05.788Z"
   },
   {
    "duration": 7,
    "start_time": "2024-07-09T17:57:05.796Z"
   },
   {
    "duration": 4,
    "start_time": "2024-07-09T17:57:05.804Z"
   },
   {
    "duration": 18,
    "start_time": "2024-07-09T17:57:05.809Z"
   },
   {
    "duration": 8,
    "start_time": "2024-07-09T17:57:05.828Z"
   },
   {
    "duration": 9,
    "start_time": "2024-07-09T17:57:05.837Z"
   },
   {
    "duration": 48,
    "start_time": "2024-07-09T17:57:05.848Z"
   },
   {
    "duration": 6,
    "start_time": "2024-07-09T17:57:05.897Z"
   },
   {
    "duration": 12,
    "start_time": "2024-07-09T17:57:05.904Z"
   },
   {
    "duration": 873,
    "start_time": "2024-07-09T17:57:05.918Z"
   },
   {
    "duration": 12,
    "start_time": "2024-07-09T17:57:06.793Z"
   },
   {
    "duration": 857,
    "start_time": "2024-07-09T17:57:06.806Z"
   },
   {
    "duration": 25,
    "start_time": "2024-07-09T17:57:07.664Z"
   },
   {
    "duration": 69,
    "start_time": "2024-07-09T17:57:07.690Z"
   },
   {
    "duration": 149,
    "start_time": "2024-07-09T17:57:07.760Z"
   },
   {
    "duration": 5,
    "start_time": "2024-07-09T17:57:07.910Z"
   },
   {
    "duration": 138,
    "start_time": "2024-07-09T17:57:07.916Z"
   },
   {
    "duration": 27,
    "start_time": "2024-07-09T17:57:08.055Z"
   },
   {
    "duration": 147,
    "start_time": "2024-07-09T17:57:08.084Z"
   },
   {
    "duration": 835,
    "start_time": "2024-07-10T09:32:23.681Z"
   },
   {
    "duration": 341,
    "start_time": "2024-07-10T09:32:24.518Z"
   },
   {
    "duration": 18,
    "start_time": "2024-07-10T09:32:24.860Z"
   },
   {
    "duration": 91,
    "start_time": "2024-07-10T09:32:24.880Z"
   },
   {
    "duration": 9,
    "start_time": "2024-07-10T09:32:24.973Z"
   },
   {
    "duration": 53,
    "start_time": "2024-07-10T09:32:24.984Z"
   },
   {
    "duration": 41,
    "start_time": "2024-07-10T09:32:25.038Z"
   },
   {
    "duration": 47,
    "start_time": "2024-07-10T09:32:25.081Z"
   },
   {
    "duration": 67,
    "start_time": "2024-07-10T09:32:25.129Z"
   },
   {
    "duration": 49,
    "start_time": "2024-07-10T09:32:25.203Z"
   },
   {
    "duration": 13,
    "start_time": "2024-07-10T09:32:25.254Z"
   },
   {
    "duration": 23,
    "start_time": "2024-07-10T09:32:25.269Z"
   },
   {
    "duration": 5,
    "start_time": "2024-07-10T09:32:25.294Z"
   },
   {
    "duration": 13,
    "start_time": "2024-07-10T09:32:25.300Z"
   },
   {
    "duration": 22,
    "start_time": "2024-07-10T09:32:25.314Z"
   },
   {
    "duration": 12,
    "start_time": "2024-07-10T09:32:25.338Z"
   },
   {
    "duration": 17,
    "start_time": "2024-07-10T09:32:25.351Z"
   },
   {
    "duration": 33,
    "start_time": "2024-07-10T09:32:25.369Z"
   },
   {
    "duration": 6,
    "start_time": "2024-07-10T09:32:25.404Z"
   },
   {
    "duration": 8,
    "start_time": "2024-07-10T09:32:25.411Z"
   },
   {
    "duration": 12,
    "start_time": "2024-07-10T09:32:25.420Z"
   },
   {
    "duration": 5,
    "start_time": "2024-07-10T09:32:25.433Z"
   },
   {
    "duration": 8,
    "start_time": "2024-07-10T09:32:25.439Z"
   },
   {
    "duration": 22,
    "start_time": "2024-07-10T09:32:25.448Z"
   },
   {
    "duration": 17,
    "start_time": "2024-07-10T09:32:25.471Z"
   },
   {
    "duration": 38,
    "start_time": "2024-07-10T09:32:25.493Z"
   },
   {
    "duration": 5,
    "start_time": "2024-07-10T09:32:25.533Z"
   },
   {
    "duration": 20,
    "start_time": "2024-07-10T09:32:25.542Z"
   },
   {
    "duration": 25,
    "start_time": "2024-07-10T09:32:25.563Z"
   },
   {
    "duration": 27,
    "start_time": "2024-07-10T09:32:25.593Z"
   },
   {
    "duration": 88,
    "start_time": "2024-07-10T09:32:25.621Z"
   },
   {
    "duration": 28,
    "start_time": "2024-07-10T09:32:25.710Z"
   },
   {
    "duration": 7,
    "start_time": "2024-07-10T09:32:25.739Z"
   },
   {
    "duration": 19,
    "start_time": "2024-07-10T09:32:25.748Z"
   },
   {
    "duration": 5,
    "start_time": "2024-07-10T09:32:25.768Z"
   },
   {
    "duration": 13,
    "start_time": "2024-07-10T09:32:25.775Z"
   },
   {
    "duration": 19,
    "start_time": "2024-07-10T09:32:25.789Z"
   },
   {
    "duration": 37,
    "start_time": "2024-07-10T09:32:25.810Z"
   },
   {
    "duration": 9,
    "start_time": "2024-07-10T09:32:25.848Z"
   },
   {
    "duration": 12,
    "start_time": "2024-07-10T09:32:25.859Z"
   },
   {
    "duration": 32,
    "start_time": "2024-07-10T09:32:25.872Z"
   },
   {
    "duration": 19,
    "start_time": "2024-07-10T09:32:25.906Z"
   },
   {
    "duration": 17,
    "start_time": "2024-07-10T09:32:25.926Z"
   },
   {
    "duration": 92,
    "start_time": "2024-07-10T09:32:25.944Z"
   },
   {
    "duration": 7,
    "start_time": "2024-07-10T09:32:26.038Z"
   },
   {
    "duration": 8,
    "start_time": "2024-07-10T09:32:26.047Z"
   },
   {
    "duration": 20,
    "start_time": "2024-07-10T09:32:26.057Z"
   },
   {
    "duration": 7,
    "start_time": "2024-07-10T09:32:26.078Z"
   },
   {
    "duration": 9,
    "start_time": "2024-07-10T09:32:26.087Z"
   },
   {
    "duration": 34,
    "start_time": "2024-07-10T09:32:26.097Z"
   },
   {
    "duration": 20,
    "start_time": "2024-07-10T09:32:26.132Z"
   },
   {
    "duration": 23,
    "start_time": "2024-07-10T09:32:26.153Z"
   },
   {
    "duration": 923,
    "start_time": "2024-07-10T09:32:26.178Z"
   },
   {
    "duration": 12,
    "start_time": "2024-07-10T09:32:27.103Z"
   },
   {
    "duration": 933,
    "start_time": "2024-07-10T09:32:27.116Z"
   },
   {
    "duration": 23,
    "start_time": "2024-07-10T09:32:28.050Z"
   },
   {
    "duration": 64,
    "start_time": "2024-07-10T09:32:28.075Z"
   },
   {
    "duration": 141,
    "start_time": "2024-07-10T09:32:28.141Z"
   },
   {
    "duration": 19,
    "start_time": "2024-07-10T09:32:28.283Z"
   },
   {
    "duration": 108,
    "start_time": "2024-07-10T09:32:28.304Z"
   },
   {
    "duration": 25,
    "start_time": "2024-07-10T09:32:28.414Z"
   },
   {
    "duration": 224,
    "start_time": "2024-07-10T09:32:28.440Z"
   },
   {
    "duration": 5,
    "start_time": "2024-07-10T09:32:51.918Z"
   },
   {
    "duration": 131,
    "start_time": "2024-07-10T09:33:08.495Z"
   },
   {
    "duration": 161,
    "start_time": "2024-07-10T09:34:49.965Z"
   },
   {
    "duration": 612,
    "start_time": "2024-07-10T09:35:08.954Z"
   },
   {
    "duration": 104,
    "start_time": "2024-07-10T09:35:09.567Z"
   },
   {
    "duration": 18,
    "start_time": "2024-07-10T09:35:09.672Z"
   },
   {
    "duration": 80,
    "start_time": "2024-07-10T09:35:09.693Z"
   },
   {
    "duration": 10,
    "start_time": "2024-07-10T09:35:09.774Z"
   },
   {
    "duration": 19,
    "start_time": "2024-07-10T09:35:09.785Z"
   },
   {
    "duration": 54,
    "start_time": "2024-07-10T09:35:09.806Z"
   },
   {
    "duration": 14,
    "start_time": "2024-07-10T09:35:09.861Z"
   },
   {
    "duration": 13,
    "start_time": "2024-07-10T09:35:09.876Z"
   },
   {
    "duration": 35,
    "start_time": "2024-07-10T09:35:09.892Z"
   },
   {
    "duration": 15,
    "start_time": "2024-07-10T09:35:09.929Z"
   },
   {
    "duration": 83,
    "start_time": "2024-07-10T09:35:09.946Z"
   },
   {
    "duration": 30,
    "start_time": "2024-07-10T09:35:10.030Z"
   },
   {
    "duration": 51,
    "start_time": "2024-07-10T09:35:10.062Z"
   },
   {
    "duration": 22,
    "start_time": "2024-07-10T09:35:10.114Z"
   },
   {
    "duration": 25,
    "start_time": "2024-07-10T09:35:10.138Z"
   },
   {
    "duration": 11,
    "start_time": "2024-07-10T09:35:10.165Z"
   },
   {
    "duration": 31,
    "start_time": "2024-07-10T09:35:10.177Z"
   },
   {
    "duration": 15,
    "start_time": "2024-07-10T09:35:10.209Z"
   },
   {
    "duration": 56,
    "start_time": "2024-07-10T09:35:10.226Z"
   },
   {
    "duration": 28,
    "start_time": "2024-07-10T09:35:10.284Z"
   },
   {
    "duration": 16,
    "start_time": "2024-07-10T09:35:10.313Z"
   },
   {
    "duration": 23,
    "start_time": "2024-07-10T09:35:10.330Z"
   },
   {
    "duration": 25,
    "start_time": "2024-07-10T09:35:10.354Z"
   },
   {
    "duration": 14,
    "start_time": "2024-07-10T09:35:10.381Z"
   },
   {
    "duration": 42,
    "start_time": "2024-07-10T09:35:10.400Z"
   },
   {
    "duration": 5,
    "start_time": "2024-07-10T09:35:10.444Z"
   },
   {
    "duration": 29,
    "start_time": "2024-07-10T09:35:10.453Z"
   },
   {
    "duration": 36,
    "start_time": "2024-07-10T09:35:10.484Z"
   },
   {
    "duration": 35,
    "start_time": "2024-07-10T09:35:10.521Z"
   },
   {
    "duration": 7,
    "start_time": "2024-07-10T09:35:10.557Z"
   },
   {
    "duration": 95,
    "start_time": "2024-07-10T09:35:10.566Z"
   },
   {
    "duration": 5,
    "start_time": "2024-07-10T09:35:10.662Z"
   },
   {
    "duration": 13,
    "start_time": "2024-07-10T09:35:10.668Z"
   },
   {
    "duration": 7,
    "start_time": "2024-07-10T09:35:10.683Z"
   },
   {
    "duration": 6,
    "start_time": "2024-07-10T09:35:10.691Z"
   },
   {
    "duration": 20,
    "start_time": "2024-07-10T09:35:10.699Z"
   },
   {
    "duration": 20,
    "start_time": "2024-07-10T09:35:10.721Z"
   },
   {
    "duration": 10,
    "start_time": "2024-07-10T09:35:10.743Z"
   },
   {
    "duration": 15,
    "start_time": "2024-07-10T09:35:10.755Z"
   },
   {
    "duration": 26,
    "start_time": "2024-07-10T09:35:10.772Z"
   },
   {
    "duration": 21,
    "start_time": "2024-07-10T09:35:10.800Z"
   },
   {
    "duration": 8,
    "start_time": "2024-07-10T09:35:10.823Z"
   },
   {
    "duration": 4,
    "start_time": "2024-07-10T09:35:10.832Z"
   },
   {
    "duration": 8,
    "start_time": "2024-07-10T09:35:10.837Z"
   },
   {
    "duration": 12,
    "start_time": "2024-07-10T09:35:10.847Z"
   },
   {
    "duration": 16,
    "start_time": "2024-07-10T09:35:10.860Z"
   },
   {
    "duration": 8,
    "start_time": "2024-07-10T09:35:10.890Z"
   },
   {
    "duration": 18,
    "start_time": "2024-07-10T09:35:10.900Z"
   },
   {
    "duration": 39,
    "start_time": "2024-07-10T09:35:10.919Z"
   },
   {
    "duration": 6,
    "start_time": "2024-07-10T09:35:10.959Z"
   },
   {
    "duration": 21,
    "start_time": "2024-07-10T09:35:10.966Z"
   },
   {
    "duration": 1017,
    "start_time": "2024-07-10T09:35:10.988Z"
   },
   {
    "duration": 11,
    "start_time": "2024-07-10T09:35:12.006Z"
   },
   {
    "duration": 954,
    "start_time": "2024-07-10T09:35:12.019Z"
   },
   {
    "duration": 37,
    "start_time": "2024-07-10T09:35:12.975Z"
   },
   {
    "duration": 91,
    "start_time": "2024-07-10T09:35:13.013Z"
   },
   {
    "duration": 158,
    "start_time": "2024-07-10T09:35:13.106Z"
   },
   {
    "duration": 6,
    "start_time": "2024-07-10T09:35:13.265Z"
   },
   {
    "duration": 119,
    "start_time": "2024-07-10T09:35:13.272Z"
   },
   {
    "duration": 21,
    "start_time": "2024-07-10T09:35:13.392Z"
   },
   {
    "duration": 209,
    "start_time": "2024-07-10T09:35:13.414Z"
   },
   {
    "duration": 185,
    "start_time": "2024-07-10T09:47:36.512Z"
   },
   {
    "duration": 154,
    "start_time": "2024-07-10T09:47:55.558Z"
   },
   {
    "duration": 201,
    "start_time": "2024-07-10T09:50:20.122Z"
   },
   {
    "duration": 133,
    "start_time": "2024-07-10T09:50:48.135Z"
   },
   {
    "duration": 167,
    "start_time": "2024-07-10T09:51:08.808Z"
   },
   {
    "duration": 667,
    "start_time": "2024-07-10T09:51:15.234Z"
   },
   {
    "duration": 127,
    "start_time": "2024-07-10T09:51:15.903Z"
   },
   {
    "duration": 15,
    "start_time": "2024-07-10T09:51:16.033Z"
   },
   {
    "duration": 42,
    "start_time": "2024-07-10T09:51:16.050Z"
   },
   {
    "duration": 10,
    "start_time": "2024-07-10T09:51:16.094Z"
   },
   {
    "duration": 14,
    "start_time": "2024-07-10T09:51:16.106Z"
   },
   {
    "duration": 31,
    "start_time": "2024-07-10T09:51:16.121Z"
   },
   {
    "duration": 29,
    "start_time": "2024-07-10T09:51:16.153Z"
   },
   {
    "duration": 12,
    "start_time": "2024-07-10T09:51:16.189Z"
   },
   {
    "duration": 9,
    "start_time": "2024-07-10T09:51:16.203Z"
   },
   {
    "duration": 9,
    "start_time": "2024-07-10T09:51:16.213Z"
   },
   {
    "duration": 12,
    "start_time": "2024-07-10T09:51:16.224Z"
   },
   {
    "duration": 5,
    "start_time": "2024-07-10T09:51:16.238Z"
   },
   {
    "duration": 7,
    "start_time": "2024-07-10T09:51:16.246Z"
   },
   {
    "duration": 7,
    "start_time": "2024-07-10T09:51:16.290Z"
   },
   {
    "duration": 15,
    "start_time": "2024-07-10T09:51:16.298Z"
   },
   {
    "duration": 15,
    "start_time": "2024-07-10T09:51:16.314Z"
   },
   {
    "duration": 14,
    "start_time": "2024-07-10T09:51:16.331Z"
   },
   {
    "duration": 7,
    "start_time": "2024-07-10T09:51:16.347Z"
   },
   {
    "duration": 35,
    "start_time": "2024-07-10T09:51:16.355Z"
   },
   {
    "duration": 5,
    "start_time": "2024-07-10T09:51:16.392Z"
   },
   {
    "duration": 20,
    "start_time": "2024-07-10T09:51:16.399Z"
   },
   {
    "duration": 9,
    "start_time": "2024-07-10T09:51:16.421Z"
   },
   {
    "duration": 5,
    "start_time": "2024-07-10T09:51:16.432Z"
   },
   {
    "duration": 15,
    "start_time": "2024-07-10T09:51:16.441Z"
   },
   {
    "duration": 49,
    "start_time": "2024-07-10T09:51:16.457Z"
   },
   {
    "duration": 6,
    "start_time": "2024-07-10T09:51:16.508Z"
   },
   {
    "duration": 17,
    "start_time": "2024-07-10T09:51:16.519Z"
   },
   {
    "duration": 28,
    "start_time": "2024-07-10T09:51:16.538Z"
   },
   {
    "duration": 41,
    "start_time": "2024-07-10T09:51:16.568Z"
   },
   {
    "duration": 11,
    "start_time": "2024-07-10T09:51:16.611Z"
   },
   {
    "duration": 16,
    "start_time": "2024-07-10T09:51:16.624Z"
   },
   {
    "duration": 70,
    "start_time": "2024-07-10T09:51:16.641Z"
   },
   {
    "duration": 13,
    "start_time": "2024-07-10T09:51:16.713Z"
   },
   {
    "duration": 5,
    "start_time": "2024-07-10T09:51:16.728Z"
   },
   {
    "duration": 18,
    "start_time": "2024-07-10T09:51:16.735Z"
   },
   {
    "duration": 85,
    "start_time": "2024-07-10T09:51:16.755Z"
   },
   {
    "duration": 36,
    "start_time": "2024-07-10T09:51:16.842Z"
   },
   {
    "duration": 12,
    "start_time": "2024-07-10T09:51:16.879Z"
   },
   {
    "duration": 27,
    "start_time": "2024-07-10T09:51:16.893Z"
   },
   {
    "duration": 14,
    "start_time": "2024-07-10T09:51:16.922Z"
   },
   {
    "duration": 36,
    "start_time": "2024-07-10T09:51:16.937Z"
   },
   {
    "duration": 15,
    "start_time": "2024-07-10T09:51:16.975Z"
   },
   {
    "duration": 9,
    "start_time": "2024-07-10T09:51:16.992Z"
   },
   {
    "duration": 16,
    "start_time": "2024-07-10T09:51:17.002Z"
   },
   {
    "duration": 9,
    "start_time": "2024-07-10T09:51:17.020Z"
   },
   {
    "duration": 101,
    "start_time": "2024-07-10T09:51:17.031Z"
   },
   {
    "duration": 32,
    "start_time": "2024-07-10T09:51:17.134Z"
   },
   {
    "duration": 31,
    "start_time": "2024-07-10T09:51:17.170Z"
   },
   {
    "duration": 40,
    "start_time": "2024-07-10T09:51:17.204Z"
   },
   {
    "duration": 30,
    "start_time": "2024-07-10T09:51:17.246Z"
   },
   {
    "duration": 35,
    "start_time": "2024-07-10T09:51:17.278Z"
   },
   {
    "duration": 1052,
    "start_time": "2024-07-10T09:51:17.314Z"
   },
   {
    "duration": 12,
    "start_time": "2024-07-10T09:51:18.367Z"
   },
   {
    "duration": 958,
    "start_time": "2024-07-10T09:51:18.381Z"
   },
   {
    "duration": 26,
    "start_time": "2024-07-10T09:51:19.341Z"
   },
   {
    "duration": 55,
    "start_time": "2024-07-10T09:51:19.368Z"
   },
   {
    "duration": 209,
    "start_time": "2024-07-10T09:51:19.425Z"
   },
   {
    "duration": 6,
    "start_time": "2024-07-10T09:51:19.636Z"
   },
   {
    "duration": 169,
    "start_time": "2024-07-10T09:51:19.644Z"
   },
   {
    "duration": 20,
    "start_time": "2024-07-10T09:51:19.815Z"
   },
   {
    "duration": 255,
    "start_time": "2024-07-10T09:51:19.837Z"
   },
   {
    "duration": 180,
    "start_time": "2024-07-10T09:54:26.733Z"
   },
   {
    "duration": 632,
    "start_time": "2024-07-10T09:59:43.261Z"
   },
   {
    "duration": 101,
    "start_time": "2024-07-10T09:59:43.895Z"
   },
   {
    "duration": 15,
    "start_time": "2024-07-10T09:59:43.997Z"
   },
   {
    "duration": 87,
    "start_time": "2024-07-10T09:59:44.014Z"
   },
   {
    "duration": 9,
    "start_time": "2024-07-10T09:59:44.102Z"
   },
   {
    "duration": 8,
    "start_time": "2024-07-10T09:59:44.113Z"
   },
   {
    "duration": 32,
    "start_time": "2024-07-10T09:59:44.123Z"
   },
   {
    "duration": 13,
    "start_time": "2024-07-10T09:59:44.156Z"
   },
   {
    "duration": 32,
    "start_time": "2024-07-10T09:59:44.171Z"
   },
   {
    "duration": 7,
    "start_time": "2024-07-10T09:59:44.206Z"
   },
   {
    "duration": 5,
    "start_time": "2024-07-10T09:59:44.214Z"
   },
   {
    "duration": 9,
    "start_time": "2024-07-10T09:59:44.220Z"
   },
   {
    "duration": 4,
    "start_time": "2024-07-10T09:59:44.230Z"
   },
   {
    "duration": 8,
    "start_time": "2024-07-10T09:59:44.235Z"
   },
   {
    "duration": 4,
    "start_time": "2024-07-10T09:59:44.245Z"
   },
   {
    "duration": 43,
    "start_time": "2024-07-10T09:59:44.251Z"
   },
   {
    "duration": 11,
    "start_time": "2024-07-10T09:59:44.295Z"
   },
   {
    "duration": 5,
    "start_time": "2024-07-10T09:59:44.307Z"
   },
   {
    "duration": 6,
    "start_time": "2024-07-10T09:59:44.313Z"
   },
   {
    "duration": 3,
    "start_time": "2024-07-10T09:59:44.320Z"
   },
   {
    "duration": 7,
    "start_time": "2024-07-10T09:59:44.325Z"
   },
   {
    "duration": 7,
    "start_time": "2024-07-10T09:59:44.333Z"
   },
   {
    "duration": 8,
    "start_time": "2024-07-10T09:59:44.341Z"
   },
   {
    "duration": 4,
    "start_time": "2024-07-10T09:59:44.350Z"
   },
   {
    "duration": 8,
    "start_time": "2024-07-10T09:59:44.356Z"
   },
   {
    "duration": 47,
    "start_time": "2024-07-10T09:59:44.366Z"
   },
   {
    "duration": 5,
    "start_time": "2024-07-10T09:59:44.415Z"
   },
   {
    "duration": 20,
    "start_time": "2024-07-10T09:59:44.424Z"
   },
   {
    "duration": 20,
    "start_time": "2024-07-10T09:59:44.446Z"
   },
   {
    "duration": 34,
    "start_time": "2024-07-10T09:59:44.468Z"
   },
   {
    "duration": 11,
    "start_time": "2024-07-10T09:59:44.504Z"
   },
   {
    "duration": 17,
    "start_time": "2024-07-10T09:59:44.516Z"
   },
   {
    "duration": 5,
    "start_time": "2024-07-10T09:59:44.534Z"
   },
   {
    "duration": 34,
    "start_time": "2024-07-10T09:59:44.541Z"
   },
   {
    "duration": 5,
    "start_time": "2024-07-10T09:59:44.577Z"
   },
   {
    "duration": 11,
    "start_time": "2024-07-10T09:59:44.583Z"
   },
   {
    "duration": 14,
    "start_time": "2024-07-10T09:59:44.595Z"
   },
   {
    "duration": 14,
    "start_time": "2024-07-10T09:59:44.610Z"
   },
   {
    "duration": 10,
    "start_time": "2024-07-10T09:59:44.626Z"
   },
   {
    "duration": 16,
    "start_time": "2024-07-10T09:59:44.638Z"
   },
   {
    "duration": 9,
    "start_time": "2024-07-10T09:59:44.655Z"
   },
   {
    "duration": 27,
    "start_time": "2024-07-10T09:59:44.665Z"
   },
   {
    "duration": 62,
    "start_time": "2024-07-10T09:59:44.694Z"
   },
   {
    "duration": 33,
    "start_time": "2024-07-10T09:59:44.757Z"
   },
   {
    "duration": 15,
    "start_time": "2024-07-10T09:59:44.791Z"
   },
   {
    "duration": 8,
    "start_time": "2024-07-10T09:59:44.808Z"
   },
   {
    "duration": 25,
    "start_time": "2024-07-10T09:59:44.818Z"
   },
   {
    "duration": 7,
    "start_time": "2024-07-10T09:59:44.845Z"
   },
   {
    "duration": 5,
    "start_time": "2024-07-10T09:59:44.854Z"
   },
   {
    "duration": 36,
    "start_time": "2024-07-10T09:59:44.861Z"
   },
   {
    "duration": 12,
    "start_time": "2024-07-10T09:59:44.898Z"
   },
   {
    "duration": 15,
    "start_time": "2024-07-10T09:59:44.912Z"
   },
   {
    "duration": 924,
    "start_time": "2024-07-10T09:59:44.929Z"
   },
   {
    "duration": 12,
    "start_time": "2024-07-10T09:59:45.854Z"
   },
   {
    "duration": 969,
    "start_time": "2024-07-10T09:59:45.867Z"
   },
   {
    "duration": 25,
    "start_time": "2024-07-10T09:59:46.838Z"
   },
   {
    "duration": 52,
    "start_time": "2024-07-10T09:59:46.865Z"
   },
   {
    "duration": 186,
    "start_time": "2024-07-10T09:59:46.919Z"
   },
   {
    "duration": 5,
    "start_time": "2024-07-10T09:59:47.107Z"
   },
   {
    "duration": 164,
    "start_time": "2024-07-10T09:59:47.114Z"
   },
   {
    "duration": 19,
    "start_time": "2024-07-10T09:59:47.280Z"
   },
   {
    "duration": 252,
    "start_time": "2024-07-10T09:59:47.300Z"
   },
   {
    "duration": 190,
    "start_time": "2024-07-10T10:00:00.004Z"
   },
   {
    "duration": 190,
    "start_time": "2024-07-10T10:00:10.969Z"
   },
   {
    "duration": 189,
    "start_time": "2024-07-10T10:00:18.520Z"
   },
   {
    "duration": 167,
    "start_time": "2024-07-10T10:00:26.212Z"
   },
   {
    "duration": 183,
    "start_time": "2024-07-10T10:00:45.985Z"
   },
   {
    "duration": 595,
    "start_time": "2024-07-10T10:01:19.432Z"
   },
   {
    "duration": 103,
    "start_time": "2024-07-10T10:01:20.029Z"
   },
   {
    "duration": 15,
    "start_time": "2024-07-10T10:01:20.134Z"
   },
   {
    "duration": 41,
    "start_time": "2024-07-10T10:01:20.151Z"
   },
   {
    "duration": 15,
    "start_time": "2024-07-10T10:01:20.195Z"
   },
   {
    "duration": 12,
    "start_time": "2024-07-10T10:01:20.212Z"
   },
   {
    "duration": 30,
    "start_time": "2024-07-10T10:01:20.226Z"
   },
   {
    "duration": 14,
    "start_time": "2024-07-10T10:01:20.257Z"
   },
   {
    "duration": 24,
    "start_time": "2024-07-10T10:01:20.272Z"
   },
   {
    "duration": 28,
    "start_time": "2024-07-10T10:01:20.297Z"
   },
   {
    "duration": 8,
    "start_time": "2024-07-10T10:01:20.326Z"
   },
   {
    "duration": 35,
    "start_time": "2024-07-10T10:01:20.335Z"
   },
   {
    "duration": 33,
    "start_time": "2024-07-10T10:01:20.371Z"
   },
   {
    "duration": 7,
    "start_time": "2024-07-10T10:01:20.407Z"
   },
   {
    "duration": 13,
    "start_time": "2024-07-10T10:01:20.416Z"
   },
   {
    "duration": 11,
    "start_time": "2024-07-10T10:01:20.431Z"
   },
   {
    "duration": 13,
    "start_time": "2024-07-10T10:01:20.444Z"
   },
   {
    "duration": 22,
    "start_time": "2024-07-10T10:01:20.458Z"
   },
   {
    "duration": 12,
    "start_time": "2024-07-10T10:01:20.481Z"
   },
   {
    "duration": 6,
    "start_time": "2024-07-10T10:01:20.494Z"
   },
   {
    "duration": 8,
    "start_time": "2024-07-10T10:01:20.501Z"
   },
   {
    "duration": 7,
    "start_time": "2024-07-10T10:01:20.510Z"
   },
   {
    "duration": 21,
    "start_time": "2024-07-10T10:01:20.519Z"
   },
   {
    "duration": 9,
    "start_time": "2024-07-10T10:01:20.542Z"
   },
   {
    "duration": 23,
    "start_time": "2024-07-10T10:01:20.553Z"
   },
   {
    "duration": 83,
    "start_time": "2024-07-10T10:01:20.577Z"
   },
   {
    "duration": 6,
    "start_time": "2024-07-10T10:01:20.662Z"
   },
   {
    "duration": 68,
    "start_time": "2024-07-10T10:01:20.669Z"
   },
   {
    "duration": 52,
    "start_time": "2024-07-10T10:01:20.739Z"
   },
   {
    "duration": 33,
    "start_time": "2024-07-10T10:01:20.793Z"
   },
   {
    "duration": 30,
    "start_time": "2024-07-10T10:01:20.827Z"
   },
   {
    "duration": 25,
    "start_time": "2024-07-10T10:01:20.859Z"
   },
   {
    "duration": 9,
    "start_time": "2024-07-10T10:01:20.886Z"
   },
   {
    "duration": 35,
    "start_time": "2024-07-10T10:01:20.896Z"
   },
   {
    "duration": 7,
    "start_time": "2024-07-10T10:01:20.933Z"
   },
   {
    "duration": 9,
    "start_time": "2024-07-10T10:01:20.942Z"
   },
   {
    "duration": 16,
    "start_time": "2024-07-10T10:01:20.952Z"
   },
   {
    "duration": 15,
    "start_time": "2024-07-10T10:01:20.969Z"
   },
   {
    "duration": 10,
    "start_time": "2024-07-10T10:01:20.986Z"
   },
   {
    "duration": 28,
    "start_time": "2024-07-10T10:01:20.998Z"
   },
   {
    "duration": 11,
    "start_time": "2024-07-10T10:01:21.030Z"
   },
   {
    "duration": 58,
    "start_time": "2024-07-10T10:01:21.042Z"
   },
   {
    "duration": 55,
    "start_time": "2024-07-10T10:01:21.102Z"
   },
   {
    "duration": 7,
    "start_time": "2024-07-10T10:01:21.158Z"
   },
   {
    "duration": 19,
    "start_time": "2024-07-10T10:01:21.167Z"
   },
   {
    "duration": 9,
    "start_time": "2024-07-10T10:01:21.187Z"
   },
   {
    "duration": 21,
    "start_time": "2024-07-10T10:01:21.198Z"
   },
   {
    "duration": 6,
    "start_time": "2024-07-10T10:01:21.221Z"
   },
   {
    "duration": 5,
    "start_time": "2024-07-10T10:01:21.228Z"
   },
   {
    "duration": 30,
    "start_time": "2024-07-10T10:01:21.235Z"
   },
   {
    "duration": 23,
    "start_time": "2024-07-10T10:01:21.267Z"
   },
   {
    "duration": 20,
    "start_time": "2024-07-10T10:01:21.292Z"
   },
   {
    "duration": 950,
    "start_time": "2024-07-10T10:01:21.314Z"
   },
   {
    "duration": 11,
    "start_time": "2024-07-10T10:01:22.265Z"
   },
   {
    "duration": 1015,
    "start_time": "2024-07-10T10:01:22.278Z"
   },
   {
    "duration": 26,
    "start_time": "2024-07-10T10:01:23.294Z"
   },
   {
    "duration": 37,
    "start_time": "2024-07-10T10:01:23.322Z"
   },
   {
    "duration": 202,
    "start_time": "2024-07-10T10:01:23.361Z"
   },
   {
    "duration": 6,
    "start_time": "2024-07-10T10:01:23.565Z"
   },
   {
    "duration": 165,
    "start_time": "2024-07-10T10:01:23.572Z"
   },
   {
    "duration": 19,
    "start_time": "2024-07-10T10:01:23.739Z"
   },
   {
    "duration": 247,
    "start_time": "2024-07-10T10:01:23.759Z"
   },
   {
    "duration": 169,
    "start_time": "2024-07-10T10:01:47.489Z"
   },
   {
    "duration": 36,
    "start_time": "2024-07-10T10:03:44.197Z"
   },
   {
    "duration": 119,
    "start_time": "2024-07-10T10:05:08.570Z"
   },
   {
    "duration": 166,
    "start_time": "2024-07-10T10:05:16.440Z"
   },
   {
    "duration": 42,
    "start_time": "2024-07-10T10:08:46.581Z"
   },
   {
    "duration": 233,
    "start_time": "2024-07-10T10:09:15.456Z"
   },
   {
    "duration": 49,
    "start_time": "2024-07-10T10:10:10.915Z"
   },
   {
    "duration": 204,
    "start_time": "2024-07-10T10:10:17.437Z"
   },
   {
    "duration": 213,
    "start_time": "2024-07-10T10:10:48.375Z"
   },
   {
    "duration": 210,
    "start_time": "2024-07-10T10:11:35.427Z"
   },
   {
    "duration": 211,
    "start_time": "2024-07-10T10:12:25.343Z"
   },
   {
    "duration": 222,
    "start_time": "2024-07-10T10:13:19.986Z"
   },
   {
    "duration": 128,
    "start_time": "2024-07-10T10:13:37.351Z"
   },
   {
    "duration": 288,
    "start_time": "2024-07-10T10:15:30.074Z"
   },
   {
    "duration": 220,
    "start_time": "2024-07-10T10:15:50.450Z"
   },
   {
    "duration": 214,
    "start_time": "2024-07-10T10:16:07.470Z"
   },
   {
    "duration": 261,
    "start_time": "2024-07-10T10:17:45.445Z"
   },
   {
    "duration": 537,
    "start_time": "2024-07-10T10:18:22.915Z"
   },
   {
    "duration": 588,
    "start_time": "2024-07-10T10:19:13.531Z"
   },
   {
    "duration": 402,
    "start_time": "2024-07-10T10:19:21.909Z"
   },
   {
    "duration": 134,
    "start_time": "2024-07-10T10:20:21.908Z"
   },
   {
    "duration": 128,
    "start_time": "2024-07-10T10:20:58.210Z"
   },
   {
    "duration": 239,
    "start_time": "2024-07-10T10:21:39.092Z"
   },
   {
    "duration": 207,
    "start_time": "2024-07-10T10:22:26.694Z"
   },
   {
    "duration": 215,
    "start_time": "2024-07-10T10:23:25.512Z"
   },
   {
    "duration": 231,
    "start_time": "2024-07-10T10:25:18.166Z"
   },
   {
    "duration": 298,
    "start_time": "2024-07-10T10:25:35.089Z"
   },
   {
    "duration": 241,
    "start_time": "2024-07-10T10:27:31.024Z"
   },
   {
    "duration": 247,
    "start_time": "2024-07-10T10:29:07.305Z"
   },
   {
    "duration": 60,
    "start_time": "2024-07-10T10:31:49.367Z"
   },
   {
    "duration": 13,
    "start_time": "2024-07-10T10:33:45.626Z"
   },
   {
    "duration": 28,
    "start_time": "2024-07-10T10:34:12.784Z"
   },
   {
    "duration": 21,
    "start_time": "2024-07-10T10:35:08.512Z"
   },
   {
    "duration": 31,
    "start_time": "2024-07-10T10:35:14.891Z"
   },
   {
    "duration": 34,
    "start_time": "2024-07-10T10:36:43.879Z"
   },
   {
    "duration": 29,
    "start_time": "2024-07-10T10:37:12.573Z"
   },
   {
    "duration": 674,
    "start_time": "2024-07-10T10:45:35.609Z"
   },
   {
    "duration": 114,
    "start_time": "2024-07-10T10:45:36.286Z"
   },
   {
    "duration": 22,
    "start_time": "2024-07-10T10:45:36.402Z"
   },
   {
    "duration": 42,
    "start_time": "2024-07-10T10:45:36.426Z"
   },
   {
    "duration": 9,
    "start_time": "2024-07-10T10:45:36.470Z"
   },
   {
    "duration": 32,
    "start_time": "2024-07-10T10:45:36.481Z"
   },
   {
    "duration": 33,
    "start_time": "2024-07-10T10:45:36.515Z"
   },
   {
    "duration": 13,
    "start_time": "2024-07-10T10:45:36.550Z"
   },
   {
    "duration": 9,
    "start_time": "2024-07-10T10:45:36.564Z"
   },
   {
    "duration": 37,
    "start_time": "2024-07-10T10:45:36.574Z"
   },
   {
    "duration": 6,
    "start_time": "2024-07-10T10:45:36.613Z"
   },
   {
    "duration": 21,
    "start_time": "2024-07-10T10:45:36.620Z"
   },
   {
    "duration": 7,
    "start_time": "2024-07-10T10:45:36.642Z"
   },
   {
    "duration": 6,
    "start_time": "2024-07-10T10:45:36.652Z"
   },
   {
    "duration": 22,
    "start_time": "2024-07-10T10:45:36.659Z"
   },
   {
    "duration": 27,
    "start_time": "2024-07-10T10:45:36.683Z"
   },
   {
    "duration": 15,
    "start_time": "2024-07-10T10:45:36.712Z"
   },
   {
    "duration": 5,
    "start_time": "2024-07-10T10:45:36.729Z"
   },
   {
    "duration": 6,
    "start_time": "2024-07-10T10:45:36.735Z"
   },
   {
    "duration": 4,
    "start_time": "2024-07-10T10:45:36.742Z"
   },
   {
    "duration": 3,
    "start_time": "2024-07-10T10:45:36.747Z"
   },
   {
    "duration": 5,
    "start_time": "2024-07-10T10:45:36.752Z"
   },
   {
    "duration": 3,
    "start_time": "2024-07-10T10:45:36.758Z"
   },
   {
    "duration": 4,
    "start_time": "2024-07-10T10:45:36.763Z"
   },
   {
    "duration": 14,
    "start_time": "2024-07-10T10:45:36.801Z"
   },
   {
    "duration": 27,
    "start_time": "2024-07-10T10:45:36.816Z"
   },
   {
    "duration": 5,
    "start_time": "2024-07-10T10:45:36.844Z"
   },
   {
    "duration": 21,
    "start_time": "2024-07-10T10:45:36.851Z"
   },
   {
    "duration": 11,
    "start_time": "2024-07-10T10:45:36.874Z"
   },
   {
    "duration": 30,
    "start_time": "2024-07-10T10:45:36.893Z"
   },
   {
    "duration": 83,
    "start_time": "2024-07-10T10:45:36.925Z"
   },
   {
    "duration": 19,
    "start_time": "2024-07-10T10:45:37.010Z"
   },
   {
    "duration": 5,
    "start_time": "2024-07-10T10:45:37.030Z"
   },
   {
    "duration": 12,
    "start_time": "2024-07-10T10:45:37.036Z"
   },
   {
    "duration": 4,
    "start_time": "2024-07-10T10:45:37.049Z"
   },
   {
    "duration": 4,
    "start_time": "2024-07-10T10:45:37.055Z"
   },
   {
    "duration": 11,
    "start_time": "2024-07-10T10:45:37.060Z"
   },
   {
    "duration": 35,
    "start_time": "2024-07-10T10:45:37.073Z"
   },
   {
    "duration": 22,
    "start_time": "2024-07-10T10:45:37.111Z"
   },
   {
    "duration": 11,
    "start_time": "2024-07-10T10:45:37.135Z"
   },
   {
    "duration": 8,
    "start_time": "2024-07-10T10:45:37.150Z"
   },
   {
    "duration": 17,
    "start_time": "2024-07-10T10:45:37.160Z"
   },
   {
    "duration": 23,
    "start_time": "2024-07-10T10:45:37.178Z"
   },
   {
    "duration": 4,
    "start_time": "2024-07-10T10:45:37.206Z"
   },
   {
    "duration": 19,
    "start_time": "2024-07-10T10:45:37.211Z"
   },
   {
    "duration": 13,
    "start_time": "2024-07-10T10:45:37.232Z"
   },
   {
    "duration": 12,
    "start_time": "2024-07-10T10:45:37.247Z"
   },
   {
    "duration": 64,
    "start_time": "2024-07-10T10:45:37.260Z"
   },
   {
    "duration": 3,
    "start_time": "2024-07-10T10:45:37.326Z"
   },
   {
    "duration": 31,
    "start_time": "2024-07-10T10:45:37.331Z"
   },
   {
    "duration": 7,
    "start_time": "2024-07-10T10:45:37.363Z"
   },
   {
    "duration": 12,
    "start_time": "2024-07-10T10:45:37.372Z"
   },
   {
    "duration": 959,
    "start_time": "2024-07-10T10:45:37.385Z"
   },
   {
    "duration": 11,
    "start_time": "2024-07-10T10:45:38.346Z"
   },
   {
    "duration": 924,
    "start_time": "2024-07-10T10:45:38.359Z"
   },
   {
    "duration": 42,
    "start_time": "2024-07-10T10:45:39.285Z"
   },
   {
    "duration": 40,
    "start_time": "2024-07-10T10:45:39.329Z"
   },
   {
    "duration": 202,
    "start_time": "2024-07-10T10:45:39.371Z"
   },
   {
    "duration": 7,
    "start_time": "2024-07-10T10:45:39.575Z"
   },
   {
    "duration": 151,
    "start_time": "2024-07-10T10:45:39.585Z"
   },
   {
    "duration": 18,
    "start_time": "2024-07-10T10:45:39.737Z"
   },
   {
    "duration": 222,
    "start_time": "2024-07-10T10:45:39.756Z"
   },
   {
    "duration": 228,
    "start_time": "2024-07-10T10:45:39.980Z"
   },
   {
    "duration": 213,
    "start_time": "2024-07-10T10:45:40.212Z"
   },
   {
    "duration": 21,
    "start_time": "2024-07-10T10:45:40.427Z"
   },
   {
    "duration": 22,
    "start_time": "2024-07-10T10:45:40.450Z"
   },
   {
    "duration": 14,
    "start_time": "2024-07-10T10:45:40.492Z"
   },
   {
    "duration": 51,
    "start_time": "2024-07-10T10:46:06.757Z"
   },
   {
    "duration": 185,
    "start_time": "2024-07-10T10:46:11.834Z"
   },
   {
    "duration": 183,
    "start_time": "2024-07-10T10:46:47.548Z"
   },
   {
    "duration": 180,
    "start_time": "2024-07-10T10:46:54.024Z"
   },
   {
    "duration": 91,
    "start_time": "2024-07-10T10:47:17.128Z"
   },
   {
    "duration": 213,
    "start_time": "2024-07-10T10:47:22.914Z"
   },
   {
    "duration": 175,
    "start_time": "2024-07-10T10:47:36.662Z"
   },
   {
    "duration": 183,
    "start_time": "2024-07-10T10:48:13.968Z"
   },
   {
    "duration": 53,
    "start_time": "2024-07-10T10:48:42.660Z"
   },
   {
    "duration": 179,
    "start_time": "2024-07-10T10:48:47.466Z"
   },
   {
    "duration": 243,
    "start_time": "2024-07-10T10:48:55.377Z"
   },
   {
    "duration": 202,
    "start_time": "2024-07-10T10:49:24.157Z"
   },
   {
    "duration": 162,
    "start_time": "2024-07-10T10:49:51.818Z"
   },
   {
    "duration": 14,
    "start_time": "2024-07-10T10:51:16.193Z"
   },
   {
    "duration": 20,
    "start_time": "2024-07-10T10:51:46.735Z"
   },
   {
    "duration": 175,
    "start_time": "2024-07-10T10:51:56.782Z"
   },
   {
    "duration": 156,
    "start_time": "2024-07-10T10:52:06.572Z"
   },
   {
    "duration": 14,
    "start_time": "2024-07-10T10:53:41.839Z"
   },
   {
    "duration": 199,
    "start_time": "2024-07-10T10:54:02.861Z"
   },
   {
    "duration": 113,
    "start_time": "2024-07-10T10:54:38.878Z"
   },
   {
    "duration": 15,
    "start_time": "2024-07-10T10:54:58.770Z"
   },
   {
    "duration": 136,
    "start_time": "2024-07-10T10:55:42.086Z"
   },
   {
    "duration": 14,
    "start_time": "2024-07-10T10:56:24.459Z"
   },
   {
    "duration": 16,
    "start_time": "2024-07-10T10:57:22.351Z"
   },
   {
    "duration": 14,
    "start_time": "2024-07-10T10:57:51.412Z"
   },
   {
    "duration": 14,
    "start_time": "2024-07-10T10:58:08.474Z"
   },
   {
    "duration": 14,
    "start_time": "2024-07-10T10:58:49.257Z"
   },
   {
    "duration": 12,
    "start_time": "2024-07-10T10:59:10.632Z"
   },
   {
    "duration": 15,
    "start_time": "2024-07-10T10:59:27.842Z"
   },
   {
    "duration": 135,
    "start_time": "2024-07-10T10:59:40.507Z"
   },
   {
    "duration": 116,
    "start_time": "2024-07-10T10:59:50.159Z"
   },
   {
    "duration": 121,
    "start_time": "2024-07-10T11:00:07.206Z"
   },
   {
    "duration": 14,
    "start_time": "2024-07-10T11:05:27.538Z"
   },
   {
    "duration": 229,
    "start_time": "2024-07-10T11:05:43.440Z"
   },
   {
    "duration": 201,
    "start_time": "2024-07-10T11:10:30.118Z"
   },
   {
    "duration": 164,
    "start_time": "2024-07-10T11:10:46.989Z"
   },
   {
    "duration": 21,
    "start_time": "2024-07-10T11:11:51.497Z"
   },
   {
    "duration": 38,
    "start_time": "2024-07-10T11:12:45.375Z"
   },
   {
    "duration": 14,
    "start_time": "2024-07-10T11:15:56.213Z"
   },
   {
    "duration": 15,
    "start_time": "2024-07-10T11:16:13.826Z"
   },
   {
    "duration": 16,
    "start_time": "2024-07-10T11:17:14.534Z"
   },
   {
    "duration": 201,
    "start_time": "2024-07-10T11:17:27.074Z"
   },
   {
    "duration": 34,
    "start_time": "2024-07-10T11:18:39.077Z"
   },
   {
    "duration": 995,
    "start_time": "2024-07-10T11:20:16.236Z"
   },
   {
    "duration": 12,
    "start_time": "2024-07-10T11:22:31.262Z"
   },
   {
    "duration": 12,
    "start_time": "2024-07-10T11:22:47.383Z"
   },
   {
    "duration": 20,
    "start_time": "2024-07-10T11:23:06.217Z"
   },
   {
    "duration": 149,
    "start_time": "2024-07-10T11:23:15.151Z"
   },
   {
    "duration": 147,
    "start_time": "2024-07-10T11:25:05.321Z"
   },
   {
    "duration": 5,
    "start_time": "2024-07-10T11:26:44.258Z"
   },
   {
    "duration": 128,
    "start_time": "2024-07-10T11:31:57.517Z"
   },
   {
    "duration": 4,
    "start_time": "2024-07-10T11:32:16.666Z"
   },
   {
    "duration": 622,
    "start_time": "2024-07-10T12:06:00.946Z"
   },
   {
    "duration": 108,
    "start_time": "2024-07-10T12:06:01.570Z"
   },
   {
    "duration": 13,
    "start_time": "2024-07-10T12:06:01.679Z"
   },
   {
    "duration": 64,
    "start_time": "2024-07-10T12:06:01.695Z"
   },
   {
    "duration": 9,
    "start_time": "2024-07-10T12:06:01.761Z"
   },
   {
    "duration": 35,
    "start_time": "2024-07-10T12:06:01.771Z"
   },
   {
    "duration": 76,
    "start_time": "2024-07-10T12:06:01.808Z"
   },
   {
    "duration": 37,
    "start_time": "2024-07-10T12:06:01.885Z"
   },
   {
    "duration": 26,
    "start_time": "2024-07-10T12:06:01.923Z"
   },
   {
    "duration": 36,
    "start_time": "2024-07-10T12:06:01.951Z"
   },
   {
    "duration": 50,
    "start_time": "2024-07-10T12:06:01.988Z"
   },
   {
    "duration": 82,
    "start_time": "2024-07-10T12:06:02.039Z"
   },
   {
    "duration": 27,
    "start_time": "2024-07-10T12:06:02.123Z"
   },
   {
    "duration": 28,
    "start_time": "2024-07-10T12:06:02.151Z"
   },
   {
    "duration": 28,
    "start_time": "2024-07-10T12:06:02.180Z"
   },
   {
    "duration": 40,
    "start_time": "2024-07-10T12:06:02.209Z"
   },
   {
    "duration": 100,
    "start_time": "2024-07-10T12:06:02.250Z"
   },
   {
    "duration": 100,
    "start_time": "2024-07-10T12:06:02.352Z"
   },
   {
    "duration": 112,
    "start_time": "2024-07-10T12:06:02.453Z"
   },
   {
    "duration": 236,
    "start_time": "2024-07-10T12:06:02.566Z"
   },
   {
    "duration": 28,
    "start_time": "2024-07-10T12:06:02.804Z"
   },
   {
    "duration": 5,
    "start_time": "2024-07-10T12:06:02.834Z"
   },
   {
    "duration": 6,
    "start_time": "2024-07-10T12:06:02.841Z"
   },
   {
    "duration": 5,
    "start_time": "2024-07-10T12:06:02.849Z"
   },
   {
    "duration": 15,
    "start_time": "2024-07-10T12:06:02.855Z"
   },
   {
    "duration": 49,
    "start_time": "2024-07-10T12:06:02.871Z"
   },
   {
    "duration": 5,
    "start_time": "2024-07-10T12:06:02.921Z"
   },
   {
    "duration": 34,
    "start_time": "2024-07-10T12:06:02.929Z"
   },
   {
    "duration": 21,
    "start_time": "2024-07-10T12:06:02.965Z"
   },
   {
    "duration": 35,
    "start_time": "2024-07-10T12:06:02.988Z"
   },
   {
    "duration": 20,
    "start_time": "2024-07-10T12:06:03.024Z"
   },
   {
    "duration": 13,
    "start_time": "2024-07-10T12:06:03.046Z"
   },
   {
    "duration": 5,
    "start_time": "2024-07-10T12:06:03.062Z"
   },
   {
    "duration": 45,
    "start_time": "2024-07-10T12:06:03.069Z"
   },
   {
    "duration": 29,
    "start_time": "2024-07-10T12:06:03.115Z"
   },
   {
    "duration": 39,
    "start_time": "2024-07-10T12:06:03.145Z"
   },
   {
    "duration": 11,
    "start_time": "2024-07-10T12:06:03.185Z"
   },
   {
    "duration": 23,
    "start_time": "2024-07-10T12:06:03.198Z"
   },
   {
    "duration": 36,
    "start_time": "2024-07-10T12:06:03.223Z"
   },
   {
    "duration": 17,
    "start_time": "2024-07-10T12:06:03.261Z"
   },
   {
    "duration": 9,
    "start_time": "2024-07-10T12:06:03.279Z"
   },
   {
    "duration": 88,
    "start_time": "2024-07-10T12:06:03.291Z"
   },
   {
    "duration": 8,
    "start_time": "2024-07-10T12:06:03.380Z"
   },
   {
    "duration": 4,
    "start_time": "2024-07-10T12:06:03.389Z"
   },
   {
    "duration": 17,
    "start_time": "2024-07-10T12:06:03.394Z"
   },
   {
    "duration": 4,
    "start_time": "2024-07-10T12:06:03.413Z"
   },
   {
    "duration": 26,
    "start_time": "2024-07-10T12:06:03.419Z"
   },
   {
    "duration": 11,
    "start_time": "2024-07-10T12:06:03.446Z"
   },
   {
    "duration": 20,
    "start_time": "2024-07-10T12:06:03.458Z"
   },
   {
    "duration": 96,
    "start_time": "2024-07-10T12:06:03.480Z"
   },
   {
    "duration": 47,
    "start_time": "2024-07-10T12:06:03.577Z"
   },
   {
    "duration": 12,
    "start_time": "2024-07-10T12:06:03.626Z"
   },
   {
    "duration": 1002,
    "start_time": "2024-07-10T12:06:03.639Z"
   },
   {
    "duration": 14,
    "start_time": "2024-07-10T12:06:04.643Z"
   },
   {
    "duration": 916,
    "start_time": "2024-07-10T12:06:04.659Z"
   },
   {
    "duration": 32,
    "start_time": "2024-07-10T12:06:05.576Z"
   },
   {
    "duration": 40,
    "start_time": "2024-07-10T12:06:05.609Z"
   },
   {
    "duration": 188,
    "start_time": "2024-07-10T12:06:05.650Z"
   },
   {
    "duration": 6,
    "start_time": "2024-07-10T12:06:05.839Z"
   },
   {
    "duration": 140,
    "start_time": "2024-07-10T12:06:05.846Z"
   },
   {
    "duration": 23,
    "start_time": "2024-07-10T12:06:05.987Z"
   },
   {
    "duration": 245,
    "start_time": "2024-07-10T12:06:06.011Z"
   },
   {
    "duration": 219,
    "start_time": "2024-07-10T12:06:06.258Z"
   },
   {
    "duration": 227,
    "start_time": "2024-07-10T12:06:06.479Z"
   },
   {
    "duration": 174,
    "start_time": "2024-07-10T12:06:06.708Z"
   },
   {
    "duration": 163,
    "start_time": "2024-07-10T12:06:06.883Z"
   },
   {
    "duration": 170,
    "start_time": "2024-07-10T12:06:07.048Z"
   },
   {
    "duration": 142,
    "start_time": "2024-07-10T12:06:07.219Z"
   },
   {
    "duration": 4,
    "start_time": "2024-07-10T12:06:07.362Z"
   },
   {
    "duration": 126,
    "start_time": "2024-07-10T12:06:07.368Z"
   },
   {
    "duration": 6,
    "start_time": "2024-07-10T12:06:07.496Z"
   },
   {
    "duration": 13,
    "start_time": "2024-07-10T12:11:30.086Z"
   },
   {
    "duration": 10,
    "start_time": "2024-07-10T12:11:37.724Z"
   },
   {
    "duration": 14,
    "start_time": "2024-07-10T12:12:08.788Z"
   },
   {
    "duration": 149,
    "start_time": "2024-07-10T12:12:19.784Z"
   },
   {
    "duration": 189,
    "start_time": "2024-07-10T12:15:04.454Z"
   },
   {
    "duration": 141,
    "start_time": "2024-07-10T12:25:42.900Z"
   },
   {
    "duration": 4,
    "start_time": "2024-07-10T12:25:56.661Z"
   },
   {
    "duration": 213,
    "start_time": "2024-07-10T12:27:40.843Z"
   },
   {
    "duration": 19,
    "start_time": "2024-07-10T12:29:53.760Z"
   },
   {
    "duration": 183,
    "start_time": "2024-07-10T12:29:56.736Z"
   },
   {
    "duration": 205,
    "start_time": "2024-07-10T12:31:03.450Z"
   },
   {
    "duration": 205,
    "start_time": "2024-07-10T12:31:31.817Z"
   },
   {
    "duration": 215,
    "start_time": "2024-07-10T12:31:45.311Z"
   },
   {
    "duration": 621,
    "start_time": "2024-07-10T12:32:32.877Z"
   },
   {
    "duration": 103,
    "start_time": "2024-07-10T12:32:33.499Z"
   },
   {
    "duration": 13,
    "start_time": "2024-07-10T12:32:33.604Z"
   },
   {
    "duration": 57,
    "start_time": "2024-07-10T12:32:33.618Z"
   },
   {
    "duration": 10,
    "start_time": "2024-07-10T12:32:33.676Z"
   },
   {
    "duration": 5,
    "start_time": "2024-07-10T12:32:33.687Z"
   },
   {
    "duration": 27,
    "start_time": "2024-07-10T12:32:33.694Z"
   },
   {
    "duration": 14,
    "start_time": "2024-07-10T12:32:33.722Z"
   },
   {
    "duration": 9,
    "start_time": "2024-07-10T12:32:33.737Z"
   },
   {
    "duration": 7,
    "start_time": "2024-07-10T12:32:33.748Z"
   },
   {
    "duration": 37,
    "start_time": "2024-07-10T12:32:33.756Z"
   },
   {
    "duration": 9,
    "start_time": "2024-07-10T12:32:33.794Z"
   },
   {
    "duration": 4,
    "start_time": "2024-07-10T12:32:33.804Z"
   },
   {
    "duration": 7,
    "start_time": "2024-07-10T12:32:33.809Z"
   },
   {
    "duration": 5,
    "start_time": "2024-07-10T12:32:33.818Z"
   },
   {
    "duration": 25,
    "start_time": "2024-07-10T12:32:33.824Z"
   },
   {
    "duration": 22,
    "start_time": "2024-07-10T12:32:33.850Z"
   },
   {
    "duration": 24,
    "start_time": "2024-07-10T12:32:33.874Z"
   },
   {
    "duration": 15,
    "start_time": "2024-07-10T12:32:33.899Z"
   },
   {
    "duration": 13,
    "start_time": "2024-07-10T12:32:33.915Z"
   },
   {
    "duration": 20,
    "start_time": "2024-07-10T12:32:33.929Z"
   },
   {
    "duration": 19,
    "start_time": "2024-07-10T12:32:33.951Z"
   },
   {
    "duration": 15,
    "start_time": "2024-07-10T12:32:33.972Z"
   },
   {
    "duration": 16,
    "start_time": "2024-07-10T12:32:33.988Z"
   },
   {
    "duration": 24,
    "start_time": "2024-07-10T12:32:34.005Z"
   },
   {
    "duration": 38,
    "start_time": "2024-07-10T12:32:34.030Z"
   },
   {
    "duration": 5,
    "start_time": "2024-07-10T12:32:34.070Z"
   },
   {
    "duration": 16,
    "start_time": "2024-07-10T12:32:34.079Z"
   },
   {
    "duration": 10,
    "start_time": "2024-07-10T12:32:34.096Z"
   },
   {
    "duration": 20,
    "start_time": "2024-07-10T12:32:34.109Z"
   },
   {
    "duration": 9,
    "start_time": "2024-07-10T12:32:34.131Z"
   },
   {
    "duration": 12,
    "start_time": "2024-07-10T12:32:34.142Z"
   },
   {
    "duration": 34,
    "start_time": "2024-07-10T12:32:34.156Z"
   },
   {
    "duration": 13,
    "start_time": "2024-07-10T12:32:34.192Z"
   },
   {
    "duration": 8,
    "start_time": "2024-07-10T12:32:34.207Z"
   },
   {
    "duration": 17,
    "start_time": "2024-07-10T12:32:34.216Z"
   },
   {
    "duration": 18,
    "start_time": "2024-07-10T12:32:34.235Z"
   },
   {
    "duration": 16,
    "start_time": "2024-07-10T12:32:34.254Z"
   },
   {
    "duration": 28,
    "start_time": "2024-07-10T12:32:34.271Z"
   },
   {
    "duration": 12,
    "start_time": "2024-07-10T12:32:34.301Z"
   },
   {
    "duration": 11,
    "start_time": "2024-07-10T12:32:34.315Z"
   },
   {
    "duration": 15,
    "start_time": "2024-07-10T12:32:34.327Z"
   },
   {
    "duration": 11,
    "start_time": "2024-07-10T12:32:34.343Z"
   },
   {
    "duration": 4,
    "start_time": "2024-07-10T12:32:34.392Z"
   },
   {
    "duration": 9,
    "start_time": "2024-07-10T12:32:34.399Z"
   },
   {
    "duration": 4,
    "start_time": "2024-07-10T12:32:34.410Z"
   },
   {
    "duration": 12,
    "start_time": "2024-07-10T12:32:34.415Z"
   },
   {
    "duration": 7,
    "start_time": "2024-07-10T12:32:34.429Z"
   },
   {
    "duration": 7,
    "start_time": "2024-07-10T12:32:34.442Z"
   },
   {
    "duration": 57,
    "start_time": "2024-07-10T12:32:34.454Z"
   },
   {
    "duration": 42,
    "start_time": "2024-07-10T12:32:34.513Z"
   },
   {
    "duration": 12,
    "start_time": "2024-07-10T12:32:34.557Z"
   },
   {
    "duration": 979,
    "start_time": "2024-07-10T12:32:34.570Z"
   },
   {
    "duration": 17,
    "start_time": "2024-07-10T12:32:35.551Z"
   },
   {
    "duration": 938,
    "start_time": "2024-07-10T12:32:35.570Z"
   },
   {
    "duration": 25,
    "start_time": "2024-07-10T12:32:36.509Z"
   },
   {
    "duration": 64,
    "start_time": "2024-07-10T12:32:36.536Z"
   },
   {
    "duration": 161,
    "start_time": "2024-07-10T12:32:36.602Z"
   },
   {
    "duration": 5,
    "start_time": "2024-07-10T12:32:36.765Z"
   },
   {
    "duration": 136,
    "start_time": "2024-07-10T12:32:36.772Z"
   },
   {
    "duration": 214,
    "start_time": "2024-07-10T12:32:36.909Z"
   },
   {
    "duration": 24,
    "start_time": "2024-07-10T12:32:37.125Z"
   },
   {
    "duration": 203,
    "start_time": "2024-07-10T12:32:37.152Z"
   },
   {
    "duration": 218,
    "start_time": "2024-07-10T12:32:37.356Z"
   },
   {
    "duration": 216,
    "start_time": "2024-07-10T12:32:37.575Z"
   },
   {
    "duration": 178,
    "start_time": "2024-07-10T12:32:37.793Z"
   },
   {
    "duration": 166,
    "start_time": "2024-07-10T12:32:37.972Z"
   },
   {
    "duration": 169,
    "start_time": "2024-07-10T12:32:38.140Z"
   },
   {
    "duration": 137,
    "start_time": "2024-07-10T12:32:38.311Z"
   },
   {
    "duration": 5,
    "start_time": "2024-07-10T12:32:38.450Z"
   },
   {
    "duration": 135,
    "start_time": "2024-07-10T12:32:38.457Z"
   },
   {
    "duration": 5,
    "start_time": "2024-07-10T12:32:38.594Z"
   },
   {
    "duration": 618,
    "start_time": "2024-07-10T18:17:22.877Z"
   },
   {
    "duration": 104,
    "start_time": "2024-07-10T18:17:23.497Z"
   },
   {
    "duration": 15,
    "start_time": "2024-07-10T18:17:23.602Z"
   },
   {
    "duration": 43,
    "start_time": "2024-07-10T18:17:23.618Z"
   },
   {
    "duration": 9,
    "start_time": "2024-07-10T18:17:23.663Z"
   },
   {
    "duration": 39,
    "start_time": "2024-07-10T18:17:23.674Z"
   },
   {
    "duration": 33,
    "start_time": "2024-07-10T18:17:23.714Z"
   },
   {
    "duration": 14,
    "start_time": "2024-07-10T18:17:23.749Z"
   },
   {
    "duration": 10,
    "start_time": "2024-07-10T18:17:23.765Z"
   },
   {
    "duration": 9,
    "start_time": "2024-07-10T18:17:23.777Z"
   },
   {
    "duration": 6,
    "start_time": "2024-07-10T18:17:23.787Z"
   },
   {
    "duration": 18,
    "start_time": "2024-07-10T18:17:23.795Z"
   },
   {
    "duration": 11,
    "start_time": "2024-07-10T18:17:23.815Z"
   },
   {
    "duration": 15,
    "start_time": "2024-07-10T18:17:23.829Z"
   },
   {
    "duration": 6,
    "start_time": "2024-07-10T18:17:23.845Z"
   },
   {
    "duration": 10,
    "start_time": "2024-07-10T18:17:23.852Z"
   },
   {
    "duration": 22,
    "start_time": "2024-07-10T18:17:23.864Z"
   },
   {
    "duration": 14,
    "start_time": "2024-07-10T18:17:23.888Z"
   },
   {
    "duration": 38,
    "start_time": "2024-07-10T18:17:23.904Z"
   },
   {
    "duration": 6,
    "start_time": "2024-07-10T18:17:23.943Z"
   },
   {
    "duration": 4,
    "start_time": "2024-07-10T18:17:23.950Z"
   },
   {
    "duration": 12,
    "start_time": "2024-07-10T18:17:23.955Z"
   },
   {
    "duration": 14,
    "start_time": "2024-07-10T18:17:23.968Z"
   },
   {
    "duration": 15,
    "start_time": "2024-07-10T18:17:23.983Z"
   },
   {
    "duration": 13,
    "start_time": "2024-07-10T18:17:24.000Z"
   },
   {
    "duration": 25,
    "start_time": "2024-07-10T18:17:24.014Z"
   },
   {
    "duration": 5,
    "start_time": "2024-07-10T18:17:24.040Z"
   },
   {
    "duration": 20,
    "start_time": "2024-07-10T18:17:24.046Z"
   },
   {
    "duration": 15,
    "start_time": "2024-07-10T18:17:24.068Z"
   },
   {
    "duration": 51,
    "start_time": "2024-07-10T18:17:24.087Z"
   },
   {
    "duration": 14,
    "start_time": "2024-07-10T18:17:24.139Z"
   },
   {
    "duration": 19,
    "start_time": "2024-07-10T18:17:24.155Z"
   },
   {
    "duration": 6,
    "start_time": "2024-07-10T18:17:24.176Z"
   },
   {
    "duration": 25,
    "start_time": "2024-07-10T18:17:24.183Z"
   },
   {
    "duration": 18,
    "start_time": "2024-07-10T18:17:24.210Z"
   },
   {
    "duration": 9,
    "start_time": "2024-07-10T18:17:24.230Z"
   },
   {
    "duration": 7,
    "start_time": "2024-07-10T18:17:24.240Z"
   },
   {
    "duration": 15,
    "start_time": "2024-07-10T18:17:24.248Z"
   },
   {
    "duration": 10,
    "start_time": "2024-07-10T18:17:24.264Z"
   },
   {
    "duration": 24,
    "start_time": "2024-07-10T18:17:24.275Z"
   },
   {
    "duration": 13,
    "start_time": "2024-07-10T18:17:24.303Z"
   },
   {
    "duration": 14,
    "start_time": "2024-07-10T18:17:24.318Z"
   },
   {
    "duration": 8,
    "start_time": "2024-07-10T18:17:24.333Z"
   },
   {
    "duration": 3,
    "start_time": "2024-07-10T18:17:24.342Z"
   },
   {
    "duration": 8,
    "start_time": "2024-07-10T18:17:24.346Z"
   },
   {
    "duration": 8,
    "start_time": "2024-07-10T18:17:24.355Z"
   },
   {
    "duration": 30,
    "start_time": "2024-07-10T18:17:24.364Z"
   },
   {
    "duration": 5,
    "start_time": "2024-07-10T18:17:24.395Z"
   },
   {
    "duration": 27,
    "start_time": "2024-07-10T18:17:24.401Z"
   },
   {
    "duration": 62,
    "start_time": "2024-07-10T18:17:24.429Z"
   },
   {
    "duration": 5,
    "start_time": "2024-07-10T18:17:24.493Z"
   },
   {
    "duration": 14,
    "start_time": "2024-07-10T18:17:24.500Z"
   },
   {
    "duration": 1164,
    "start_time": "2024-07-10T18:17:24.517Z"
   },
   {
    "duration": 12,
    "start_time": "2024-07-10T18:17:25.683Z"
   },
   {
    "duration": 1098,
    "start_time": "2024-07-10T18:17:25.697Z"
   },
   {
    "duration": 24,
    "start_time": "2024-07-10T18:17:26.797Z"
   },
   {
    "duration": 39,
    "start_time": "2024-07-10T18:17:26.822Z"
   },
   {
    "duration": 184,
    "start_time": "2024-07-10T18:17:26.863Z"
   },
   {
    "duration": 5,
    "start_time": "2024-07-10T18:17:27.049Z"
   },
   {
    "duration": 132,
    "start_time": "2024-07-10T18:17:27.056Z"
   },
   {
    "duration": 220,
    "start_time": "2024-07-10T18:17:27.189Z"
   },
   {
    "duration": 21,
    "start_time": "2024-07-10T18:17:27.411Z"
   },
   {
    "duration": 195,
    "start_time": "2024-07-10T18:17:27.433Z"
   },
   {
    "duration": 214,
    "start_time": "2024-07-10T18:17:27.630Z"
   },
   {
    "duration": 222,
    "start_time": "2024-07-10T18:17:27.845Z"
   },
   {
    "duration": 185,
    "start_time": "2024-07-10T18:17:28.069Z"
   },
   {
    "duration": 163,
    "start_time": "2024-07-10T18:17:28.256Z"
   },
   {
    "duration": 171,
    "start_time": "2024-07-10T18:17:28.420Z"
   },
   {
    "duration": 142,
    "start_time": "2024-07-10T18:17:28.592Z"
   },
   {
    "duration": 4,
    "start_time": "2024-07-10T18:17:28.736Z"
   },
   {
    "duration": 153,
    "start_time": "2024-07-10T18:17:28.742Z"
   },
   {
    "duration": 5,
    "start_time": "2024-07-10T18:17:28.897Z"
   },
   {
    "duration": 2,
    "start_time": "2024-07-10T18:18:41.843Z"
   },
   {
    "duration": 506,
    "start_time": "2024-07-10T18:30:05.386Z"
   },
   {
    "duration": 812,
    "start_time": "2024-07-11T09:04:10.220Z"
   },
   {
    "duration": 337,
    "start_time": "2024-07-11T09:04:11.034Z"
   },
   {
    "duration": 16,
    "start_time": "2024-07-11T09:04:11.373Z"
   },
   {
    "duration": 96,
    "start_time": "2024-07-11T09:04:11.391Z"
   },
   {
    "duration": 9,
    "start_time": "2024-07-11T09:04:11.489Z"
   },
   {
    "duration": 6,
    "start_time": "2024-07-11T09:04:11.500Z"
   },
   {
    "duration": 34,
    "start_time": "2024-07-11T09:04:11.507Z"
   },
   {
    "duration": 15,
    "start_time": "2024-07-11T09:04:11.542Z"
   },
   {
    "duration": 35,
    "start_time": "2024-07-11T09:04:11.559Z"
   },
   {
    "duration": 24,
    "start_time": "2024-07-11T09:04:11.597Z"
   },
   {
    "duration": 13,
    "start_time": "2024-07-11T09:04:11.623Z"
   },
   {
    "duration": 12,
    "start_time": "2024-07-11T09:04:11.637Z"
   },
   {
    "duration": 7,
    "start_time": "2024-07-11T09:04:11.650Z"
   },
   {
    "duration": 9,
    "start_time": "2024-07-11T09:04:11.658Z"
   },
   {
    "duration": 7,
    "start_time": "2024-07-11T09:04:11.668Z"
   },
   {
    "duration": 16,
    "start_time": "2024-07-11T09:04:11.685Z"
   },
   {
    "duration": 11,
    "start_time": "2024-07-11T09:04:11.703Z"
   },
   {
    "duration": 33,
    "start_time": "2024-07-11T09:04:11.715Z"
   },
   {
    "duration": 7,
    "start_time": "2024-07-11T09:04:11.749Z"
   },
   {
    "duration": 4,
    "start_time": "2024-07-11T09:04:11.758Z"
   },
   {
    "duration": 7,
    "start_time": "2024-07-11T09:04:11.764Z"
   },
   {
    "duration": 4,
    "start_time": "2024-07-11T09:04:11.773Z"
   },
   {
    "duration": 9,
    "start_time": "2024-07-11T09:04:11.778Z"
   },
   {
    "duration": 4,
    "start_time": "2024-07-11T09:04:11.789Z"
   },
   {
    "duration": 12,
    "start_time": "2024-07-11T09:04:11.795Z"
   },
   {
    "duration": 27,
    "start_time": "2024-07-11T09:04:11.808Z"
   },
   {
    "duration": 6,
    "start_time": "2024-07-11T09:04:11.837Z"
   },
   {
    "duration": 42,
    "start_time": "2024-07-11T09:04:11.847Z"
   },
   {
    "duration": 11,
    "start_time": "2024-07-11T09:04:11.891Z"
   },
   {
    "duration": 50,
    "start_time": "2024-07-11T09:04:11.904Z"
   },
   {
    "duration": 40,
    "start_time": "2024-07-11T09:04:11.956Z"
   },
   {
    "duration": 37,
    "start_time": "2024-07-11T09:04:11.997Z"
   },
   {
    "duration": 9,
    "start_time": "2024-07-11T09:04:12.036Z"
   },
   {
    "duration": 19,
    "start_time": "2024-07-11T09:04:12.047Z"
   },
   {
    "duration": 5,
    "start_time": "2024-07-11T09:04:12.067Z"
   },
   {
    "duration": 15,
    "start_time": "2024-07-11T09:04:12.074Z"
   },
   {
    "duration": 15,
    "start_time": "2024-07-11T09:04:12.091Z"
   },
   {
    "duration": 25,
    "start_time": "2024-07-11T09:04:12.107Z"
   },
   {
    "duration": 10,
    "start_time": "2024-07-11T09:04:12.134Z"
   },
   {
    "duration": 15,
    "start_time": "2024-07-11T09:04:12.146Z"
   },
   {
    "duration": 22,
    "start_time": "2024-07-11T09:04:12.163Z"
   },
   {
    "duration": 15,
    "start_time": "2024-07-11T09:04:12.187Z"
   },
   {
    "duration": 9,
    "start_time": "2024-07-11T09:04:12.203Z"
   },
   {
    "duration": 4,
    "start_time": "2024-07-11T09:04:12.213Z"
   },
   {
    "duration": 9,
    "start_time": "2024-07-11T09:04:12.219Z"
   },
   {
    "duration": 4,
    "start_time": "2024-07-11T09:04:12.229Z"
   },
   {
    "duration": 14,
    "start_time": "2024-07-11T09:04:12.235Z"
   },
   {
    "duration": 38,
    "start_time": "2024-07-11T09:04:12.250Z"
   },
   {
    "duration": 19,
    "start_time": "2024-07-11T09:04:12.289Z"
   },
   {
    "duration": 42,
    "start_time": "2024-07-11T09:04:12.310Z"
   },
   {
    "duration": 6,
    "start_time": "2024-07-11T09:04:12.354Z"
   },
   {
    "duration": 18,
    "start_time": "2024-07-11T09:04:12.361Z"
   },
   {
    "duration": 1253,
    "start_time": "2024-07-11T09:04:12.380Z"
   },
   {
    "duration": 12,
    "start_time": "2024-07-11T09:04:13.634Z"
   },
   {
    "duration": 1113,
    "start_time": "2024-07-11T09:04:13.647Z"
   },
   {
    "duration": 28,
    "start_time": "2024-07-11T09:04:14.762Z"
   },
   {
    "duration": 44,
    "start_time": "2024-07-11T09:04:14.791Z"
   },
   {
    "duration": 198,
    "start_time": "2024-07-11T09:04:14.836Z"
   },
   {
    "duration": 6,
    "start_time": "2024-07-11T09:04:15.036Z"
   },
   {
    "duration": 248,
    "start_time": "2024-07-11T09:04:15.044Z"
   },
   {
    "duration": 206,
    "start_time": "2024-07-11T09:04:15.293Z"
   },
   {
    "duration": 23,
    "start_time": "2024-07-11T09:04:15.501Z"
   },
   {
    "duration": 210,
    "start_time": "2024-07-11T09:04:15.526Z"
   },
   {
    "duration": 254,
    "start_time": "2024-07-11T09:04:15.738Z"
   },
   {
    "duration": 243,
    "start_time": "2024-07-11T09:04:15.993Z"
   },
   {
    "duration": 204,
    "start_time": "2024-07-11T09:04:16.238Z"
   },
   {
    "duration": 188,
    "start_time": "2024-07-11T09:04:16.445Z"
   },
   {
    "duration": 188,
    "start_time": "2024-07-11T09:04:16.635Z"
   },
   {
    "duration": 202,
    "start_time": "2024-07-11T09:04:16.825Z"
   },
   {
    "duration": 5,
    "start_time": "2024-07-11T09:04:17.084Z"
   },
   {
    "duration": 226,
    "start_time": "2024-07-11T09:04:17.091Z"
   },
   {
    "duration": 5,
    "start_time": "2024-07-11T09:04:17.318Z"
   },
   {
    "duration": 624,
    "start_time": "2024-07-11T09:26:58.101Z"
   },
   {
    "duration": 109,
    "start_time": "2024-07-11T09:26:58.727Z"
   },
   {
    "duration": 16,
    "start_time": "2024-07-11T09:26:58.838Z"
   },
   {
    "duration": 46,
    "start_time": "2024-07-11T09:26:58.856Z"
   },
   {
    "duration": 10,
    "start_time": "2024-07-11T09:26:58.903Z"
   },
   {
    "duration": 12,
    "start_time": "2024-07-11T09:26:58.915Z"
   },
   {
    "duration": 29,
    "start_time": "2024-07-11T09:26:58.929Z"
   },
   {
    "duration": 14,
    "start_time": "2024-07-11T09:26:58.959Z"
   },
   {
    "duration": 22,
    "start_time": "2024-07-11T09:26:58.975Z"
   },
   {
    "duration": 8,
    "start_time": "2024-07-11T09:26:58.999Z"
   },
   {
    "duration": 6,
    "start_time": "2024-07-11T09:26:59.009Z"
   },
   {
    "duration": 11,
    "start_time": "2024-07-11T09:26:59.017Z"
   },
   {
    "duration": 4,
    "start_time": "2024-07-11T09:26:59.029Z"
   },
   {
    "duration": 7,
    "start_time": "2024-07-11T09:26:59.034Z"
   },
   {
    "duration": 6,
    "start_time": "2024-07-11T09:26:59.042Z"
   },
   {
    "duration": 37,
    "start_time": "2024-07-11T09:26:59.049Z"
   },
   {
    "duration": 25,
    "start_time": "2024-07-11T09:26:59.088Z"
   },
   {
    "duration": 64,
    "start_time": "2024-07-11T09:26:59.114Z"
   },
   {
    "duration": 11,
    "start_time": "2024-07-11T09:26:59.180Z"
   },
   {
    "duration": 7,
    "start_time": "2024-07-11T09:26:59.193Z"
   },
   {
    "duration": 17,
    "start_time": "2024-07-11T09:26:59.201Z"
   },
   {
    "duration": 7,
    "start_time": "2024-07-11T09:26:59.220Z"
   },
   {
    "duration": 9,
    "start_time": "2024-07-11T09:26:59.228Z"
   },
   {
    "duration": 10,
    "start_time": "2024-07-11T09:26:59.239Z"
   },
   {
    "duration": 12,
    "start_time": "2024-07-11T09:26:59.250Z"
   },
   {
    "duration": 26,
    "start_time": "2024-07-11T09:26:59.263Z"
   },
   {
    "duration": 4,
    "start_time": "2024-07-11T09:26:59.291Z"
   },
   {
    "duration": 8,
    "start_time": "2024-07-11T09:26:59.299Z"
   },
   {
    "duration": 12,
    "start_time": "2024-07-11T09:26:59.309Z"
   },
   {
    "duration": 22,
    "start_time": "2024-07-11T09:26:59.323Z"
   },
   {
    "duration": 43,
    "start_time": "2024-07-11T09:26:59.346Z"
   },
   {
    "duration": 17,
    "start_time": "2024-07-11T09:26:59.391Z"
   },
   {
    "duration": 5,
    "start_time": "2024-07-11T09:26:59.409Z"
   },
   {
    "duration": 14,
    "start_time": "2024-07-11T09:26:59.416Z"
   },
   {
    "duration": 5,
    "start_time": "2024-07-11T09:26:59.431Z"
   },
   {
    "duration": 6,
    "start_time": "2024-07-11T09:26:59.438Z"
   },
   {
    "duration": 42,
    "start_time": "2024-07-11T09:26:59.445Z"
   },
   {
    "duration": 15,
    "start_time": "2024-07-11T09:26:59.488Z"
   },
   {
    "duration": 11,
    "start_time": "2024-07-11T09:26:59.506Z"
   },
   {
    "duration": 22,
    "start_time": "2024-07-11T09:26:59.518Z"
   },
   {
    "duration": 10,
    "start_time": "2024-07-11T09:26:59.541Z"
   },
   {
    "duration": 43,
    "start_time": "2024-07-11T09:26:59.552Z"
   },
   {
    "duration": 9,
    "start_time": "2024-07-11T09:26:59.596Z"
   },
   {
    "duration": 4,
    "start_time": "2024-07-11T09:26:59.607Z"
   },
   {
    "duration": 15,
    "start_time": "2024-07-11T09:26:59.613Z"
   },
   {
    "duration": 4,
    "start_time": "2024-07-11T09:26:59.630Z"
   },
   {
    "duration": 17,
    "start_time": "2024-07-11T09:26:59.636Z"
   },
   {
    "duration": 31,
    "start_time": "2024-07-11T09:26:59.655Z"
   },
   {
    "duration": 4,
    "start_time": "2024-07-11T09:26:59.688Z"
   },
   {
    "duration": 26,
    "start_time": "2024-07-11T09:26:59.693Z"
   },
   {
    "duration": 6,
    "start_time": "2024-07-11T09:26:59.720Z"
   },
   {
    "duration": 14,
    "start_time": "2024-07-11T09:26:59.727Z"
   },
   {
    "duration": 1256,
    "start_time": "2024-07-11T09:26:59.743Z"
   },
   {
    "duration": 13,
    "start_time": "2024-07-11T09:27:01.000Z"
   },
   {
    "duration": 1300,
    "start_time": "2024-07-11T09:27:01.015Z"
   },
   {
    "duration": 26,
    "start_time": "2024-07-11T09:27:02.317Z"
   },
   {
    "duration": 67,
    "start_time": "2024-07-11T09:27:02.344Z"
   },
   {
    "duration": 194,
    "start_time": "2024-07-11T09:27:02.412Z"
   },
   {
    "duration": 7,
    "start_time": "2024-07-11T09:27:02.607Z"
   },
   {
    "duration": 152,
    "start_time": "2024-07-11T09:27:02.616Z"
   },
   {
    "duration": 254,
    "start_time": "2024-07-11T09:27:02.770Z"
   },
   {
    "duration": 22,
    "start_time": "2024-07-11T09:27:03.026Z"
   },
   {
    "duration": 213,
    "start_time": "2024-07-11T09:27:03.050Z"
   },
   {
    "duration": 240,
    "start_time": "2024-07-11T09:27:03.264Z"
   },
   {
    "duration": 314,
    "start_time": "2024-07-11T09:27:03.506Z"
   },
   {
    "duration": 464,
    "start_time": "2024-07-11T09:27:03.821Z"
   },
   {
    "duration": 332,
    "start_time": "2024-07-11T09:27:04.287Z"
   },
   {
    "duration": 381,
    "start_time": "2024-07-11T09:27:04.620Z"
   },
   {
    "duration": 259,
    "start_time": "2024-07-11T09:27:05.003Z"
   },
   {
    "duration": 5,
    "start_time": "2024-07-11T09:27:05.264Z"
   },
   {
    "duration": 148,
    "start_time": "2024-07-11T09:27:05.270Z"
   },
   {
    "duration": 5,
    "start_time": "2024-07-11T09:27:05.419Z"
   },
   {
    "duration": 619,
    "start_time": "2024-07-11T09:29:56.430Z"
   },
   {
    "duration": 111,
    "start_time": "2024-07-11T09:29:57.051Z"
   },
   {
    "duration": 16,
    "start_time": "2024-07-11T09:29:57.164Z"
   },
   {
    "duration": 57,
    "start_time": "2024-07-11T09:29:57.185Z"
   },
   {
    "duration": 11,
    "start_time": "2024-07-11T09:29:57.244Z"
   },
   {
    "duration": 33,
    "start_time": "2024-07-11T09:29:57.257Z"
   },
   {
    "duration": 42,
    "start_time": "2024-07-11T09:29:57.291Z"
   },
   {
    "duration": 15,
    "start_time": "2024-07-11T09:29:57.335Z"
   },
   {
    "duration": 13,
    "start_time": "2024-07-11T09:29:57.352Z"
   },
   {
    "duration": 19,
    "start_time": "2024-07-11T09:29:57.367Z"
   },
   {
    "duration": 6,
    "start_time": "2024-07-11T09:29:57.387Z"
   },
   {
    "duration": 19,
    "start_time": "2024-07-11T09:29:57.395Z"
   },
   {
    "duration": 15,
    "start_time": "2024-07-11T09:29:57.415Z"
   },
   {
    "duration": 21,
    "start_time": "2024-07-11T09:29:57.432Z"
   },
   {
    "duration": 11,
    "start_time": "2024-07-11T09:29:57.454Z"
   },
   {
    "duration": 30,
    "start_time": "2024-07-11T09:29:57.467Z"
   },
   {
    "duration": 15,
    "start_time": "2024-07-11T09:29:57.498Z"
   },
   {
    "duration": 12,
    "start_time": "2024-07-11T09:29:57.515Z"
   },
   {
    "duration": 20,
    "start_time": "2024-07-11T09:29:57.529Z"
   },
   {
    "duration": 4,
    "start_time": "2024-07-11T09:29:57.551Z"
   },
   {
    "duration": 11,
    "start_time": "2024-07-11T09:29:57.556Z"
   },
   {
    "duration": 5,
    "start_time": "2024-07-11T09:29:57.568Z"
   },
   {
    "duration": 16,
    "start_time": "2024-07-11T09:29:57.575Z"
   },
   {
    "duration": 28,
    "start_time": "2024-07-11T09:29:57.593Z"
   },
   {
    "duration": 23,
    "start_time": "2024-07-11T09:29:57.622Z"
   },
   {
    "duration": 34,
    "start_time": "2024-07-11T09:29:57.647Z"
   },
   {
    "duration": 6,
    "start_time": "2024-07-11T09:29:57.682Z"
   },
   {
    "duration": 18,
    "start_time": "2024-07-11T09:29:57.692Z"
   },
   {
    "duration": 23,
    "start_time": "2024-07-11T09:29:57.712Z"
   },
   {
    "duration": 34,
    "start_time": "2024-07-11T09:29:57.737Z"
   },
   {
    "duration": 9,
    "start_time": "2024-07-11T09:29:57.773Z"
   },
   {
    "duration": 28,
    "start_time": "2024-07-11T09:29:57.784Z"
   },
   {
    "duration": 11,
    "start_time": "2024-07-11T09:29:57.814Z"
   },
   {
    "duration": 26,
    "start_time": "2024-07-11T09:29:57.827Z"
   },
   {
    "duration": 7,
    "start_time": "2024-07-11T09:29:57.855Z"
   },
   {
    "duration": 14,
    "start_time": "2024-07-11T09:29:57.864Z"
   },
   {
    "duration": 17,
    "start_time": "2024-07-11T09:29:57.880Z"
   },
   {
    "duration": 25,
    "start_time": "2024-07-11T09:29:57.899Z"
   },
   {
    "duration": 14,
    "start_time": "2024-07-11T09:29:57.925Z"
   },
   {
    "duration": 30,
    "start_time": "2024-07-11T09:29:57.941Z"
   },
   {
    "duration": 14,
    "start_time": "2024-07-11T09:29:57.973Z"
   },
   {
    "duration": 36,
    "start_time": "2024-07-11T09:29:57.989Z"
   },
   {
    "duration": 33,
    "start_time": "2024-07-11T09:29:58.027Z"
   },
   {
    "duration": 24,
    "start_time": "2024-07-11T09:29:58.062Z"
   },
   {
    "duration": 26,
    "start_time": "2024-07-11T09:29:58.088Z"
   },
   {
    "duration": 22,
    "start_time": "2024-07-11T09:29:58.116Z"
   },
   {
    "duration": 18,
    "start_time": "2024-07-11T09:29:58.140Z"
   },
   {
    "duration": 28,
    "start_time": "2024-07-11T09:29:58.160Z"
   },
   {
    "duration": 41,
    "start_time": "2024-07-11T09:29:58.190Z"
   },
   {
    "duration": 54,
    "start_time": "2024-07-11T09:29:58.233Z"
   },
   {
    "duration": 43,
    "start_time": "2024-07-11T09:29:58.289Z"
   },
   {
    "duration": 32,
    "start_time": "2024-07-11T09:29:58.333Z"
   },
   {
    "duration": 1229,
    "start_time": "2024-07-11T09:29:58.367Z"
   },
   {
    "duration": 12,
    "start_time": "2024-07-11T09:29:59.598Z"
   },
   {
    "duration": 1929,
    "start_time": "2024-07-11T09:29:59.612Z"
   },
   {
    "duration": 26,
    "start_time": "2024-07-11T09:30:01.542Z"
   },
   {
    "duration": 67,
    "start_time": "2024-07-11T09:30:01.569Z"
   },
   {
    "duration": 181,
    "start_time": "2024-07-11T09:30:01.638Z"
   },
   {
    "duration": 5,
    "start_time": "2024-07-11T09:30:01.821Z"
   },
   {
    "duration": 151,
    "start_time": "2024-07-11T09:30:01.828Z"
   },
   {
    "duration": 245,
    "start_time": "2024-07-11T09:30:01.984Z"
   },
   {
    "duration": 22,
    "start_time": "2024-07-11T09:30:02.230Z"
   },
   {
    "duration": 239,
    "start_time": "2024-07-11T09:30:02.253Z"
   },
   {
    "duration": 233,
    "start_time": "2024-07-11T09:30:02.494Z"
   },
   {
    "duration": 239,
    "start_time": "2024-07-11T09:30:02.728Z"
   },
   {
    "duration": 200,
    "start_time": "2024-07-11T09:30:02.969Z"
   },
   {
    "duration": 185,
    "start_time": "2024-07-11T09:30:03.170Z"
   },
   {
    "duration": 190,
    "start_time": "2024-07-11T09:30:03.357Z"
   },
   {
    "duration": 157,
    "start_time": "2024-07-11T09:30:03.549Z"
   },
   {
    "duration": 7,
    "start_time": "2024-07-11T09:30:03.707Z"
   },
   {
    "duration": 150,
    "start_time": "2024-07-11T09:30:03.715Z"
   },
   {
    "duration": 6,
    "start_time": "2024-07-11T09:30:03.867Z"
   },
   {
    "duration": 666,
    "start_time": "2024-07-11T09:36:48.695Z"
   },
   {
    "duration": 112,
    "start_time": "2024-07-11T09:36:49.363Z"
   },
   {
    "duration": 17,
    "start_time": "2024-07-11T09:36:49.477Z"
   },
   {
    "duration": 43,
    "start_time": "2024-07-11T09:36:49.497Z"
   },
   {
    "duration": 10,
    "start_time": "2024-07-11T09:36:49.541Z"
   },
   {
    "duration": 17,
    "start_time": "2024-07-11T09:36:49.553Z"
   },
   {
    "duration": 49,
    "start_time": "2024-07-11T09:36:49.571Z"
   },
   {
    "duration": 15,
    "start_time": "2024-07-11T09:36:49.622Z"
   },
   {
    "duration": 10,
    "start_time": "2024-07-11T09:36:49.638Z"
   },
   {
    "duration": 25,
    "start_time": "2024-07-11T09:36:49.651Z"
   },
   {
    "duration": 7,
    "start_time": "2024-07-11T09:36:49.678Z"
   },
   {
    "duration": 12,
    "start_time": "2024-07-11T09:36:49.686Z"
   },
   {
    "duration": 6,
    "start_time": "2024-07-11T09:36:49.700Z"
   },
   {
    "duration": 6,
    "start_time": "2024-07-11T09:36:49.708Z"
   },
   {
    "duration": 5,
    "start_time": "2024-07-11T09:36:49.716Z"
   },
   {
    "duration": 16,
    "start_time": "2024-07-11T09:36:49.723Z"
   },
   {
    "duration": 10,
    "start_time": "2024-07-11T09:36:49.741Z"
   },
   {
    "duration": 47,
    "start_time": "2024-07-11T09:36:49.753Z"
   },
   {
    "duration": 15,
    "start_time": "2024-07-11T09:36:49.801Z"
   },
   {
    "duration": 15,
    "start_time": "2024-07-11T09:36:49.817Z"
   },
   {
    "duration": 6,
    "start_time": "2024-07-11T09:36:49.833Z"
   },
   {
    "duration": 7,
    "start_time": "2024-07-11T09:36:49.841Z"
   },
   {
    "duration": 24,
    "start_time": "2024-07-11T09:36:49.849Z"
   },
   {
    "duration": 27,
    "start_time": "2024-07-11T09:36:49.875Z"
   },
   {
    "duration": 5,
    "start_time": "2024-07-11T09:36:49.903Z"
   },
   {
    "duration": 10,
    "start_time": "2024-07-11T09:36:49.910Z"
   },
   {
    "duration": 11,
    "start_time": "2024-07-11T09:36:49.921Z"
   },
   {
    "duration": 28,
    "start_time": "2024-07-11T09:36:49.935Z"
   },
   {
    "duration": 25,
    "start_time": "2024-07-11T09:36:49.964Z"
   },
   {
    "duration": 13,
    "start_time": "2024-07-11T09:36:49.991Z"
   },
   {
    "duration": 16,
    "start_time": "2024-07-11T09:36:50.006Z"
   },
   {
    "duration": 24,
    "start_time": "2024-07-11T09:36:50.024Z"
   },
   {
    "duration": 75,
    "start_time": "2024-07-11T09:36:50.050Z"
   },
   {
    "duration": 5,
    "start_time": "2024-07-11T09:36:50.127Z"
   },
   {
    "duration": 12,
    "start_time": "2024-07-11T09:36:50.133Z"
   },
   {
    "duration": 13,
    "start_time": "2024-07-11T09:36:50.146Z"
   },
   {
    "duration": 11,
    "start_time": "2024-07-11T09:36:50.163Z"
   },
   {
    "duration": 15,
    "start_time": "2024-07-11T09:36:50.176Z"
   },
   {
    "duration": 10,
    "start_time": "2024-07-11T09:36:50.192Z"
   },
   {
    "duration": 26,
    "start_time": "2024-07-11T09:36:50.203Z"
   },
   {
    "duration": 8,
    "start_time": "2024-07-11T09:36:50.231Z"
   },
   {
    "duration": 5,
    "start_time": "2024-07-11T09:36:50.240Z"
   },
   {
    "duration": 9,
    "start_time": "2024-07-11T09:36:50.246Z"
   },
   {
    "duration": 4,
    "start_time": "2024-07-11T09:36:50.257Z"
   },
   {
    "duration": 33,
    "start_time": "2024-07-11T09:36:50.262Z"
   },
   {
    "duration": 5,
    "start_time": "2024-07-11T09:36:50.297Z"
   },
   {
    "duration": 7,
    "start_time": "2024-07-11T09:36:50.304Z"
   },
   {
    "duration": 42,
    "start_time": "2024-07-11T09:36:50.313Z"
   },
   {
    "duration": 6,
    "start_time": "2024-07-11T09:36:50.357Z"
   },
   {
    "duration": 36,
    "start_time": "2024-07-11T09:36:50.365Z"
   },
   {
    "duration": 1183,
    "start_time": "2024-07-11T09:36:50.402Z"
   },
   {
    "duration": 13,
    "start_time": "2024-07-11T09:36:51.586Z"
   },
   {
    "duration": 1107,
    "start_time": "2024-07-11T09:36:51.600Z"
   },
   {
    "duration": 24,
    "start_time": "2024-07-11T09:36:52.708Z"
   },
   {
    "duration": 56,
    "start_time": "2024-07-11T09:36:52.733Z"
   },
   {
    "duration": 187,
    "start_time": "2024-07-11T09:36:52.790Z"
   },
   {
    "duration": 10,
    "start_time": "2024-07-11T09:36:52.979Z"
   },
   {
    "duration": 144,
    "start_time": "2024-07-11T09:36:52.991Z"
   },
   {
    "duration": 254,
    "start_time": "2024-07-11T09:36:53.137Z"
   },
   {
    "duration": 21,
    "start_time": "2024-07-11T09:36:53.393Z"
   },
   {
    "duration": 215,
    "start_time": "2024-07-11T09:36:53.416Z"
   },
   {
    "duration": 232,
    "start_time": "2024-07-11T09:36:53.633Z"
   },
   {
    "duration": 253,
    "start_time": "2024-07-11T09:36:53.867Z"
   },
   {
    "duration": 203,
    "start_time": "2024-07-11T09:36:54.123Z"
   },
   {
    "duration": 180,
    "start_time": "2024-07-11T09:36:54.328Z"
   },
   {
    "duration": 192,
    "start_time": "2024-07-11T09:36:54.510Z"
   },
   {
    "duration": 156,
    "start_time": "2024-07-11T09:36:54.703Z"
   },
   {
    "duration": 5,
    "start_time": "2024-07-11T09:36:54.861Z"
   },
   {
    "duration": 150,
    "start_time": "2024-07-11T09:36:54.867Z"
   },
   {
    "duration": 5,
    "start_time": "2024-07-11T09:36:55.019Z"
   },
   {
    "duration": 142,
    "start_time": "2024-07-11T10:57:13.256Z"
   },
   {
    "duration": 28,
    "start_time": "2024-07-11T11:02:14.356Z"
   },
   {
    "duration": 29,
    "start_time": "2024-07-11T11:02:42.673Z"
   },
   {
    "duration": 6,
    "start_time": "2024-07-11T11:03:16.666Z"
   },
   {
    "duration": 28,
    "start_time": "2024-07-11T11:03:19.952Z"
   },
   {
    "duration": 27,
    "start_time": "2024-07-11T11:04:00.475Z"
   },
   {
    "duration": 144,
    "start_time": "2024-07-11T11:06:34.949Z"
   },
   {
    "duration": 77,
    "start_time": "2024-07-11T11:16:30.067Z"
   },
   {
    "duration": 4,
    "start_time": "2024-07-11T11:16:37.477Z"
   },
   {
    "duration": 4,
    "start_time": "2024-07-11T11:16:38.097Z"
   },
   {
    "duration": 3,
    "start_time": "2024-07-11T11:16:38.638Z"
   },
   {
    "duration": 200,
    "start_time": "2024-07-11T11:16:42.149Z"
   },
   {
    "duration": 6,
    "start_time": "2024-07-11T11:17:09.722Z"
   },
   {
    "duration": 6,
    "start_time": "2024-07-11T11:17:10.132Z"
   },
   {
    "duration": 5,
    "start_time": "2024-07-11T11:17:10.669Z"
   },
   {
    "duration": 6,
    "start_time": "2024-07-11T11:17:24.423Z"
   },
   {
    "duration": 150,
    "start_time": "2024-07-11T11:17:58.220Z"
   },
   {
    "duration": 172,
    "start_time": "2024-07-11T11:23:08.517Z"
   },
   {
    "duration": 9,
    "start_time": "2024-07-11T11:24:02.344Z"
   },
   {
    "duration": 8,
    "start_time": "2024-07-11T11:24:13.848Z"
   },
   {
    "duration": 8,
    "start_time": "2024-07-11T11:24:20.756Z"
   },
   {
    "duration": 119,
    "start_time": "2024-07-11T11:24:42.804Z"
   },
   {
    "duration": 123,
    "start_time": "2024-07-11T11:24:59.960Z"
   },
   {
    "duration": 51,
    "start_time": "2024-07-11T11:31:57.692Z"
   },
   {
    "duration": 157,
    "start_time": "2024-07-11T11:32:09.971Z"
   },
   {
    "duration": 172,
    "start_time": "2024-07-11T11:34:02.594Z"
   },
   {
    "duration": 184,
    "start_time": "2024-07-11T11:35:12.157Z"
   },
   {
    "duration": 164,
    "start_time": "2024-07-11T11:35:30.365Z"
   },
   {
    "duration": 12,
    "start_time": "2024-07-11T11:38:18.685Z"
   },
   {
    "duration": 9,
    "start_time": "2024-07-11T11:38:28.654Z"
   },
   {
    "duration": 12,
    "start_time": "2024-07-11T11:38:36.023Z"
   },
   {
    "duration": 9,
    "start_time": "2024-07-11T11:38:57.204Z"
   },
   {
    "duration": 9,
    "start_time": "2024-07-11T11:39:05.294Z"
   },
   {
    "duration": 6,
    "start_time": "2024-07-11T11:39:15.660Z"
   },
   {
    "duration": 166,
    "start_time": "2024-07-11T11:45:40.466Z"
   },
   {
    "duration": 153,
    "start_time": "2024-07-11T11:45:52.599Z"
   },
   {
    "duration": 183,
    "start_time": "2024-07-11T11:47:40.682Z"
   },
   {
    "duration": 49,
    "start_time": "2024-07-11T11:48:04.121Z"
   },
   {
    "duration": 256,
    "start_time": "2024-07-11T11:48:13.136Z"
   },
   {
    "duration": 683,
    "start_time": "2024-07-11T11:49:47.777Z"
   },
   {
    "duration": 111,
    "start_time": "2024-07-11T11:49:48.462Z"
   },
   {
    "duration": 18,
    "start_time": "2024-07-11T11:49:48.575Z"
   },
   {
    "duration": 43,
    "start_time": "2024-07-11T11:49:48.595Z"
   },
   {
    "duration": 11,
    "start_time": "2024-07-11T11:49:48.639Z"
   },
   {
    "duration": 32,
    "start_time": "2024-07-11T11:49:48.652Z"
   },
   {
    "duration": 30,
    "start_time": "2024-07-11T11:49:48.686Z"
   },
   {
    "duration": 18,
    "start_time": "2024-07-11T11:49:48.717Z"
   },
   {
    "duration": 11,
    "start_time": "2024-07-11T11:49:48.737Z"
   },
   {
    "duration": 8,
    "start_time": "2024-07-11T11:49:48.751Z"
   },
   {
    "duration": 28,
    "start_time": "2024-07-11T11:49:48.761Z"
   },
   {
    "duration": 14,
    "start_time": "2024-07-11T11:49:48.791Z"
   },
   {
    "duration": 14,
    "start_time": "2024-07-11T11:49:48.806Z"
   },
   {
    "duration": 23,
    "start_time": "2024-07-11T11:49:48.822Z"
   },
   {
    "duration": 18,
    "start_time": "2024-07-11T11:49:48.847Z"
   },
   {
    "duration": 12,
    "start_time": "2024-07-11T11:49:48.867Z"
   },
   {
    "duration": 12,
    "start_time": "2024-07-11T11:49:48.880Z"
   },
   {
    "duration": 4,
    "start_time": "2024-07-11T11:49:48.893Z"
   },
   {
    "duration": 18,
    "start_time": "2024-07-11T11:49:48.898Z"
   },
   {
    "duration": 5,
    "start_time": "2024-07-11T11:49:48.918Z"
   },
   {
    "duration": 6,
    "start_time": "2024-07-11T11:49:48.924Z"
   },
   {
    "duration": 25,
    "start_time": "2024-07-11T11:49:48.931Z"
   },
   {
    "duration": 12,
    "start_time": "2024-07-11T11:49:48.957Z"
   },
   {
    "duration": 27,
    "start_time": "2024-07-11T11:49:48.970Z"
   },
   {
    "duration": 5,
    "start_time": "2024-07-11T11:49:48.999Z"
   },
   {
    "duration": 10,
    "start_time": "2024-07-11T11:49:49.006Z"
   },
   {
    "duration": 11,
    "start_time": "2024-07-11T11:49:49.018Z"
   },
   {
    "duration": 29,
    "start_time": "2024-07-11T11:49:49.034Z"
   },
   {
    "duration": 10,
    "start_time": "2024-07-11T11:49:49.084Z"
   },
   {
    "duration": 13,
    "start_time": "2024-07-11T11:49:49.096Z"
   },
   {
    "duration": 6,
    "start_time": "2024-07-11T11:49:49.111Z"
   },
   {
    "duration": 14,
    "start_time": "2024-07-11T11:49:49.119Z"
   },
   {
    "duration": 6,
    "start_time": "2024-07-11T11:49:49.135Z"
   },
   {
    "duration": 45,
    "start_time": "2024-07-11T11:49:49.143Z"
   },
   {
    "duration": 11,
    "start_time": "2024-07-11T11:49:49.190Z"
   },
   {
    "duration": 13,
    "start_time": "2024-07-11T11:49:49.203Z"
   },
   {
    "duration": 13,
    "start_time": "2024-07-11T11:49:49.218Z"
   },
   {
    "duration": 15,
    "start_time": "2024-07-11T11:49:49.233Z"
   },
   {
    "duration": 35,
    "start_time": "2024-07-11T11:49:49.250Z"
   },
   {
    "duration": 20,
    "start_time": "2024-07-11T11:49:49.287Z"
   },
   {
    "duration": 10,
    "start_time": "2024-07-11T11:49:49.309Z"
   },
   {
    "duration": 6,
    "start_time": "2024-07-11T11:49:49.321Z"
   },
   {
    "duration": 9,
    "start_time": "2024-07-11T11:49:49.328Z"
   },
   {
    "duration": 5,
    "start_time": "2024-07-11T11:49:49.339Z"
   },
   {
    "duration": 46,
    "start_time": "2024-07-11T11:49:49.345Z"
   },
   {
    "duration": 6,
    "start_time": "2024-07-11T11:49:49.392Z"
   },
   {
    "duration": 4,
    "start_time": "2024-07-11T11:49:49.399Z"
   },
   {
    "duration": 27,
    "start_time": "2024-07-11T11:49:49.404Z"
   },
   {
    "duration": 6,
    "start_time": "2024-07-11T11:49:49.432Z"
   },
   {
    "duration": 17,
    "start_time": "2024-07-11T11:49:49.440Z"
   },
   {
    "duration": 1394,
    "start_time": "2024-07-11T11:49:49.458Z"
   },
   {
    "duration": 13,
    "start_time": "2024-07-11T11:49:50.853Z"
   },
   {
    "duration": 1188,
    "start_time": "2024-07-11T11:49:50.867Z"
   },
   {
    "duration": 33,
    "start_time": "2024-07-11T11:49:52.056Z"
   },
   {
    "duration": 40,
    "start_time": "2024-07-11T11:49:52.090Z"
   },
   {
    "duration": 202,
    "start_time": "2024-07-11T11:49:52.132Z"
   },
   {
    "duration": 6,
    "start_time": "2024-07-11T11:49:52.336Z"
   },
   {
    "duration": 16,
    "start_time": "2024-07-11T11:49:52.343Z"
   },
   {
    "duration": 30,
    "start_time": "2024-07-11T11:49:52.361Z"
   },
   {
    "duration": 194,
    "start_time": "2024-07-11T11:49:52.392Z"
   },
   {
    "duration": 236,
    "start_time": "2024-07-11T11:49:52.588Z"
   },
   {
    "duration": 210,
    "start_time": "2024-07-11T11:49:52.825Z"
   },
   {
    "duration": 22,
    "start_time": "2024-07-11T11:49:53.037Z"
   },
   {
    "duration": 226,
    "start_time": "2024-07-11T11:49:53.061Z"
   },
   {
    "duration": 230,
    "start_time": "2024-07-11T11:49:53.288Z"
   },
   {
    "duration": 246,
    "start_time": "2024-07-11T11:49:53.520Z"
   },
   {
    "duration": 209,
    "start_time": "2024-07-11T11:49:53.767Z"
   },
   {
    "duration": 219,
    "start_time": "2024-07-11T11:49:53.978Z"
   },
   {
    "duration": 189,
    "start_time": "2024-07-11T11:49:54.198Z"
   },
   {
    "duration": 160,
    "start_time": "2024-07-11T11:49:54.389Z"
   },
   {
    "duration": 5,
    "start_time": "2024-07-11T11:49:54.551Z"
   },
   {
    "duration": 162,
    "start_time": "2024-07-11T11:49:54.557Z"
   },
   {
    "duration": 5,
    "start_time": "2024-07-11T11:49:54.721Z"
   },
   {
    "duration": 68,
    "start_time": "2024-07-11T12:02:37.802Z"
   },
   {
    "duration": 61,
    "start_time": "2024-07-11T12:03:56.163Z"
   },
   {
    "duration": 223,
    "start_time": "2024-07-11T12:04:33.492Z"
   },
   {
    "duration": 232,
    "start_time": "2024-07-11T12:05:01.623Z"
   },
   {
    "duration": 183,
    "start_time": "2024-07-11T12:05:08.887Z"
   },
   {
    "duration": 176,
    "start_time": "2024-07-11T12:05:37.700Z"
   },
   {
    "duration": 183,
    "start_time": "2024-07-11T12:06:03.644Z"
   },
   {
    "duration": 185,
    "start_time": "2024-07-11T12:06:23.464Z"
   },
   {
    "duration": 27,
    "start_time": "2024-07-11T12:06:35.782Z"
   },
   {
    "duration": 196,
    "start_time": "2024-07-11T12:07:09.270Z"
   },
   {
    "duration": 213,
    "start_time": "2024-07-11T12:07:24.931Z"
   },
   {
    "duration": 227,
    "start_time": "2024-07-11T12:07:48.733Z"
   },
   {
    "duration": 175,
    "start_time": "2024-07-11T12:08:05.427Z"
   },
   {
    "duration": 168,
    "start_time": "2024-07-11T12:08:19.142Z"
   },
   {
    "duration": 176,
    "start_time": "2024-07-11T12:08:33.598Z"
   },
   {
    "duration": 233,
    "start_time": "2024-07-11T12:08:43.349Z"
   },
   {
    "duration": 136,
    "start_time": "2024-07-11T12:08:54.527Z"
   },
   {
    "duration": 132,
    "start_time": "2024-07-11T12:08:59.479Z"
   },
   {
    "duration": 148,
    "start_time": "2024-07-11T12:09:04.932Z"
   },
   {
    "duration": 173,
    "start_time": "2024-07-11T12:23:23.375Z"
   },
   {
    "duration": 172,
    "start_time": "2024-07-11T12:24:59.256Z"
   },
   {
    "duration": 200,
    "start_time": "2024-07-11T12:26:35.522Z"
   },
   {
    "duration": 189,
    "start_time": "2024-07-11T12:29:03.069Z"
   },
   {
    "duration": 182,
    "start_time": "2024-07-11T12:30:56.597Z"
   },
   {
    "duration": 205,
    "start_time": "2024-07-11T12:31:13.183Z"
   },
   {
    "duration": 203,
    "start_time": "2024-07-11T12:31:36.465Z"
   },
   {
    "duration": 203,
    "start_time": "2024-07-11T12:31:50.170Z"
   },
   {
    "duration": 314,
    "start_time": "2024-07-11T12:33:56.534Z"
   },
   {
    "duration": 230,
    "start_time": "2024-07-11T12:34:03.470Z"
   },
   {
    "duration": 240,
    "start_time": "2024-07-11T12:34:15.453Z"
   },
   {
    "duration": 242,
    "start_time": "2024-07-11T12:35:59.655Z"
   },
   {
    "duration": 244,
    "start_time": "2024-07-11T12:36:14.890Z"
   },
   {
    "duration": 252,
    "start_time": "2024-07-11T12:36:43.546Z"
   },
   {
    "duration": 652,
    "start_time": "2024-07-11T12:37:10.545Z"
   },
   {
    "duration": 116,
    "start_time": "2024-07-11T12:37:11.199Z"
   },
   {
    "duration": 18,
    "start_time": "2024-07-11T12:37:11.317Z"
   },
   {
    "duration": 43,
    "start_time": "2024-07-11T12:37:11.337Z"
   },
   {
    "duration": 12,
    "start_time": "2024-07-11T12:37:11.382Z"
   },
   {
    "duration": 21,
    "start_time": "2024-07-11T12:37:11.395Z"
   },
   {
    "duration": 55,
    "start_time": "2024-07-11T12:37:11.418Z"
   },
   {
    "duration": 16,
    "start_time": "2024-07-11T12:37:11.475Z"
   },
   {
    "duration": 10,
    "start_time": "2024-07-11T12:37:11.493Z"
   },
   {
    "duration": 16,
    "start_time": "2024-07-11T12:37:11.506Z"
   },
   {
    "duration": 11,
    "start_time": "2024-07-11T12:37:11.524Z"
   },
   {
    "duration": 17,
    "start_time": "2024-07-11T12:37:11.536Z"
   },
   {
    "duration": 6,
    "start_time": "2024-07-11T12:37:11.555Z"
   },
   {
    "duration": 7,
    "start_time": "2024-07-11T12:37:11.563Z"
   },
   {
    "duration": 6,
    "start_time": "2024-07-11T12:37:11.584Z"
   },
   {
    "duration": 22,
    "start_time": "2024-07-11T12:37:11.592Z"
   },
   {
    "duration": 15,
    "start_time": "2024-07-11T12:37:11.616Z"
   },
   {
    "duration": 15,
    "start_time": "2024-07-11T12:37:11.633Z"
   },
   {
    "duration": 19,
    "start_time": "2024-07-11T12:37:11.650Z"
   },
   {
    "duration": 32,
    "start_time": "2024-07-11T12:37:11.670Z"
   },
   {
    "duration": 21,
    "start_time": "2024-07-11T12:37:11.704Z"
   },
   {
    "duration": 16,
    "start_time": "2024-07-11T12:37:11.727Z"
   },
   {
    "duration": 23,
    "start_time": "2024-07-11T12:37:11.744Z"
   },
   {
    "duration": 27,
    "start_time": "2024-07-11T12:37:11.769Z"
   },
   {
    "duration": 5,
    "start_time": "2024-07-11T12:37:11.798Z"
   },
   {
    "duration": 65,
    "start_time": "2024-07-11T12:37:11.805Z"
   },
   {
    "duration": 25,
    "start_time": "2024-07-11T12:37:11.872Z"
   },
   {
    "duration": 26,
    "start_time": "2024-07-11T12:37:11.901Z"
   },
   {
    "duration": 9,
    "start_time": "2024-07-11T12:37:11.928Z"
   },
   {
    "duration": 12,
    "start_time": "2024-07-11T12:37:11.939Z"
   },
   {
    "duration": 5,
    "start_time": "2024-07-11T12:37:11.953Z"
   },
   {
    "duration": 36,
    "start_time": "2024-07-11T12:37:11.959Z"
   },
   {
    "duration": 4,
    "start_time": "2024-07-11T12:37:11.997Z"
   },
   {
    "duration": 17,
    "start_time": "2024-07-11T12:37:12.003Z"
   },
   {
    "duration": 9,
    "start_time": "2024-07-11T12:37:12.021Z"
   },
   {
    "duration": 12,
    "start_time": "2024-07-11T12:37:12.031Z"
   },
   {
    "duration": 21,
    "start_time": "2024-07-11T12:37:12.045Z"
   },
   {
    "duration": 25,
    "start_time": "2024-07-11T12:37:12.067Z"
   },
   {
    "duration": 10,
    "start_time": "2024-07-11T12:37:12.094Z"
   },
   {
    "duration": 23,
    "start_time": "2024-07-11T12:37:12.106Z"
   },
   {
    "duration": 9,
    "start_time": "2024-07-11T12:37:12.131Z"
   },
   {
    "duration": 4,
    "start_time": "2024-07-11T12:37:12.141Z"
   },
   {
    "duration": 16,
    "start_time": "2024-07-11T12:37:12.146Z"
   },
   {
    "duration": 5,
    "start_time": "2024-07-11T12:37:12.185Z"
   },
   {
    "duration": 16,
    "start_time": "2024-07-11T12:37:12.192Z"
   },
   {
    "duration": 7,
    "start_time": "2024-07-11T12:37:12.210Z"
   },
   {
    "duration": 5,
    "start_time": "2024-07-11T12:37:12.219Z"
   },
   {
    "duration": 25,
    "start_time": "2024-07-11T12:37:12.226Z"
   },
   {
    "duration": 35,
    "start_time": "2024-07-11T12:37:12.253Z"
   },
   {
    "duration": 14,
    "start_time": "2024-07-11T12:37:12.289Z"
   },
   {
    "duration": 1310,
    "start_time": "2024-07-11T12:37:12.305Z"
   },
   {
    "duration": 12,
    "start_time": "2024-07-11T12:37:13.617Z"
   },
   {
    "duration": 1189,
    "start_time": "2024-07-11T12:37:13.630Z"
   },
   {
    "duration": 25,
    "start_time": "2024-07-11T12:37:14.821Z"
   },
   {
    "duration": 61,
    "start_time": "2024-07-11T12:37:14.848Z"
   },
   {
    "duration": 186,
    "start_time": "2024-07-11T12:37:14.910Z"
   },
   {
    "duration": 6,
    "start_time": "2024-07-11T12:37:15.097Z"
   },
   {
    "duration": 46,
    "start_time": "2024-07-11T12:37:15.105Z"
   },
   {
    "duration": 26,
    "start_time": "2024-07-11T12:37:15.152Z"
   },
   {
    "duration": 188,
    "start_time": "2024-07-11T12:37:15.179Z"
   },
   {
    "duration": 242,
    "start_time": "2024-07-11T12:37:15.369Z"
   },
   {
    "duration": 231,
    "start_time": "2024-07-11T12:37:15.612Z"
   },
   {
    "duration": 22,
    "start_time": "2024-07-11T12:37:15.845Z"
   },
   {
    "duration": 230,
    "start_time": "2024-07-11T12:37:15.869Z"
   },
   {
    "duration": 241,
    "start_time": "2024-07-11T12:37:16.101Z"
   },
   {
    "duration": 253,
    "start_time": "2024-07-11T12:37:16.344Z"
   },
   {
    "duration": 190,
    "start_time": "2024-07-11T12:37:16.599Z"
   },
   {
    "duration": 185,
    "start_time": "2024-07-11T12:37:16.791Z"
   },
   {
    "duration": 180,
    "start_time": "2024-07-11T12:37:16.978Z"
   },
   {
    "duration": 164,
    "start_time": "2024-07-11T12:37:17.160Z"
   },
   {
    "duration": 6,
    "start_time": "2024-07-11T12:37:17.326Z"
   },
   {
    "duration": 145,
    "start_time": "2024-07-11T12:37:17.334Z"
   },
   {
    "duration": 8,
    "start_time": "2024-07-11T12:37:17.480Z"
   },
   {
    "duration": 44,
    "start_time": "2024-07-11T12:44:31.368Z"
   },
   {
    "duration": 52,
    "start_time": "2024-07-11T12:44:55.887Z"
   },
   {
    "duration": 66,
    "start_time": "2024-07-11T12:45:00.934Z"
   },
   {
    "duration": 52,
    "start_time": "2024-07-11T12:45:22.645Z"
   },
   {
    "duration": 58,
    "start_time": "2024-07-11T12:45:44.861Z"
   },
   {
    "duration": 0,
    "start_time": "2024-07-11T12:45:44.921Z"
   },
   {
    "duration": 0,
    "start_time": "2024-07-11T12:45:44.922Z"
   },
   {
    "duration": 0,
    "start_time": "2024-07-11T12:45:44.923Z"
   },
   {
    "duration": 0,
    "start_time": "2024-07-11T12:45:44.924Z"
   },
   {
    "duration": 0,
    "start_time": "2024-07-11T12:45:44.925Z"
   },
   {
    "duration": 0,
    "start_time": "2024-07-11T12:45:44.926Z"
   },
   {
    "duration": 0,
    "start_time": "2024-07-11T12:45:44.927Z"
   },
   {
    "duration": 0,
    "start_time": "2024-07-11T12:45:44.929Z"
   },
   {
    "duration": 0,
    "start_time": "2024-07-11T12:45:44.930Z"
   },
   {
    "duration": 0,
    "start_time": "2024-07-11T12:45:44.931Z"
   },
   {
    "duration": 0,
    "start_time": "2024-07-11T12:45:44.932Z"
   },
   {
    "duration": 0,
    "start_time": "2024-07-11T12:45:44.933Z"
   },
   {
    "duration": 0,
    "start_time": "2024-07-11T12:45:44.934Z"
   },
   {
    "duration": 0,
    "start_time": "2024-07-11T12:45:44.935Z"
   },
   {
    "duration": 0,
    "start_time": "2024-07-11T12:45:44.936Z"
   },
   {
    "duration": 0,
    "start_time": "2024-07-11T12:45:44.937Z"
   },
   {
    "duration": 0,
    "start_time": "2024-07-11T12:45:44.938Z"
   },
   {
    "duration": 0,
    "start_time": "2024-07-11T12:45:44.939Z"
   },
   {
    "duration": 0,
    "start_time": "2024-07-11T12:45:44.940Z"
   },
   {
    "duration": 0,
    "start_time": "2024-07-11T12:45:44.941Z"
   },
   {
    "duration": 0,
    "start_time": "2024-07-11T12:45:44.941Z"
   },
   {
    "duration": 0,
    "start_time": "2024-07-11T12:45:44.942Z"
   },
   {
    "duration": 0,
    "start_time": "2024-07-11T12:45:44.943Z"
   },
   {
    "duration": 0,
    "start_time": "2024-07-11T12:45:44.945Z"
   },
   {
    "duration": 0,
    "start_time": "2024-07-11T12:45:44.946Z"
   },
   {
    "duration": 0,
    "start_time": "2024-07-11T12:45:44.947Z"
   },
   {
    "duration": 0,
    "start_time": "2024-07-11T12:45:44.948Z"
   },
   {
    "duration": 0,
    "start_time": "2024-07-11T12:45:44.949Z"
   },
   {
    "duration": 0,
    "start_time": "2024-07-11T12:45:44.950Z"
   },
   {
    "duration": 0,
    "start_time": "2024-07-11T12:45:44.952Z"
   },
   {
    "duration": 0,
    "start_time": "2024-07-11T12:45:44.985Z"
   },
   {
    "duration": 0,
    "start_time": "2024-07-11T12:45:44.986Z"
   },
   {
    "duration": 99,
    "start_time": "2024-07-11T12:45:44.990Z"
   },
   {
    "duration": 0,
    "start_time": "2024-07-11T12:45:45.091Z"
   },
   {
    "duration": 0,
    "start_time": "2024-07-11T12:45:45.093Z"
   },
   {
    "duration": 0,
    "start_time": "2024-07-11T12:45:45.094Z"
   },
   {
    "duration": 0,
    "start_time": "2024-07-11T12:45:45.095Z"
   },
   {
    "duration": 0,
    "start_time": "2024-07-11T12:45:45.096Z"
   },
   {
    "duration": 0,
    "start_time": "2024-07-11T12:45:45.097Z"
   },
   {
    "duration": 0,
    "start_time": "2024-07-11T12:45:45.099Z"
   },
   {
    "duration": 0,
    "start_time": "2024-07-11T12:45:45.100Z"
   },
   {
    "duration": 0,
    "start_time": "2024-07-11T12:45:45.101Z"
   },
   {
    "duration": 0,
    "start_time": "2024-07-11T12:45:45.102Z"
   },
   {
    "duration": 0,
    "start_time": "2024-07-11T12:45:45.103Z"
   },
   {
    "duration": 0,
    "start_time": "2024-07-11T12:45:45.104Z"
   },
   {
    "duration": 0,
    "start_time": "2024-07-11T12:45:45.105Z"
   },
   {
    "duration": 0,
    "start_time": "2024-07-11T12:45:45.106Z"
   },
   {
    "duration": 0,
    "start_time": "2024-07-11T12:45:45.107Z"
   },
   {
    "duration": 0,
    "start_time": "2024-07-11T12:45:45.108Z"
   },
   {
    "duration": 0,
    "start_time": "2024-07-11T12:45:45.109Z"
   },
   {
    "duration": 0,
    "start_time": "2024-07-11T12:45:45.110Z"
   },
   {
    "duration": 0,
    "start_time": "2024-07-11T12:45:45.111Z"
   },
   {
    "duration": 0,
    "start_time": "2024-07-11T12:45:45.112Z"
   },
   {
    "duration": 0,
    "start_time": "2024-07-11T12:45:45.113Z"
   },
   {
    "duration": 0,
    "start_time": "2024-07-11T12:45:45.114Z"
   },
   {
    "duration": 0,
    "start_time": "2024-07-11T12:45:45.115Z"
   },
   {
    "duration": 0,
    "start_time": "2024-07-11T12:45:45.116Z"
   },
   {
    "duration": 0,
    "start_time": "2024-07-11T12:45:45.117Z"
   },
   {
    "duration": 0,
    "start_time": "2024-07-11T12:45:45.118Z"
   },
   {
    "duration": 0,
    "start_time": "2024-07-11T12:45:45.119Z"
   },
   {
    "duration": 0,
    "start_time": "2024-07-11T12:45:45.121Z"
   },
   {
    "duration": 0,
    "start_time": "2024-07-11T12:45:45.121Z"
   },
   {
    "duration": 0,
    "start_time": "2024-07-11T12:45:45.122Z"
   },
   {
    "duration": 0,
    "start_time": "2024-07-11T12:45:45.123Z"
   },
   {
    "duration": 0,
    "start_time": "2024-07-11T12:45:45.124Z"
   },
   {
    "duration": 0,
    "start_time": "2024-07-11T12:45:45.185Z"
   },
   {
    "duration": 0,
    "start_time": "2024-07-11T12:45:45.186Z"
   },
   {
    "duration": 0,
    "start_time": "2024-07-11T12:45:45.188Z"
   },
   {
    "duration": 0,
    "start_time": "2024-07-11T12:45:45.189Z"
   },
   {
    "duration": 0,
    "start_time": "2024-07-11T12:45:45.190Z"
   },
   {
    "duration": 0,
    "start_time": "2024-07-11T12:45:45.191Z"
   },
   {
    "duration": 0,
    "start_time": "2024-07-11T12:45:45.193Z"
   },
   {
    "duration": 0,
    "start_time": "2024-07-11T12:45:45.193Z"
   },
   {
    "duration": 54,
    "start_time": "2024-07-11T12:47:15.372Z"
   },
   {
    "duration": 681,
    "start_time": "2024-07-11T12:50:41.565Z"
   },
   {
    "duration": 111,
    "start_time": "2024-07-11T12:50:42.247Z"
   },
   {
    "duration": 15,
    "start_time": "2024-07-11T12:50:42.360Z"
   },
   {
    "duration": 43,
    "start_time": "2024-07-11T12:50:42.377Z"
   },
   {
    "duration": 10,
    "start_time": "2024-07-11T12:50:42.421Z"
   },
   {
    "duration": 7,
    "start_time": "2024-07-11T12:50:42.433Z"
   },
   {
    "duration": 34,
    "start_time": "2024-07-11T12:50:42.442Z"
   },
   {
    "duration": 14,
    "start_time": "2024-07-11T12:50:42.478Z"
   },
   {
    "duration": 9,
    "start_time": "2024-07-11T12:50:42.494Z"
   },
   {
    "duration": 9,
    "start_time": "2024-07-11T12:50:42.506Z"
   },
   {
    "duration": 6,
    "start_time": "2024-07-11T12:50:42.516Z"
   },
   {
    "duration": 10,
    "start_time": "2024-07-11T12:50:42.523Z"
   },
   {
    "duration": 6,
    "start_time": "2024-07-11T12:50:42.534Z"
   },
   {
    "duration": 8,
    "start_time": "2024-07-11T12:50:42.542Z"
   },
   {
    "duration": 35,
    "start_time": "2024-07-11T12:50:42.551Z"
   },
   {
    "duration": 16,
    "start_time": "2024-07-11T12:50:42.588Z"
   },
   {
    "duration": 12,
    "start_time": "2024-07-11T12:50:42.605Z"
   },
   {
    "duration": 4,
    "start_time": "2024-07-11T12:50:42.619Z"
   },
   {
    "duration": 17,
    "start_time": "2024-07-11T12:50:42.624Z"
   },
   {
    "duration": 6,
    "start_time": "2024-07-11T12:50:42.642Z"
   },
   {
    "duration": 4,
    "start_time": "2024-07-11T12:50:42.650Z"
   },
   {
    "duration": 5,
    "start_time": "2024-07-11T12:50:42.656Z"
   },
   {
    "duration": 28,
    "start_time": "2024-07-11T12:50:42.662Z"
   },
   {
    "duration": 27,
    "start_time": "2024-07-11T12:50:42.691Z"
   },
   {
    "duration": 5,
    "start_time": "2024-07-11T12:50:42.719Z"
   },
   {
    "duration": 10,
    "start_time": "2024-07-11T12:50:42.726Z"
   },
   {
    "duration": 11,
    "start_time": "2024-07-11T12:50:42.738Z"
   },
   {
    "duration": 53,
    "start_time": "2024-07-11T12:50:42.754Z"
   },
   {
    "duration": 11,
    "start_time": "2024-07-11T12:50:42.809Z"
   },
   {
    "duration": 18,
    "start_time": "2024-07-11T12:50:42.821Z"
   },
   {
    "duration": 6,
    "start_time": "2024-07-11T12:50:42.841Z"
   },
   {
    "duration": 65,
    "start_time": "2024-07-11T12:50:42.848Z"
   },
   {
    "duration": 5,
    "start_time": "2024-07-11T12:50:42.915Z"
   },
   {
    "duration": 10,
    "start_time": "2024-07-11T12:50:42.922Z"
   },
   {
    "duration": 9,
    "start_time": "2024-07-11T12:50:42.934Z"
   },
   {
    "duration": 33,
    "start_time": "2024-07-11T12:50:42.945Z"
   },
   {
    "duration": 11,
    "start_time": "2024-07-11T12:50:42.980Z"
   },
   {
    "duration": 19,
    "start_time": "2024-07-11T12:50:42.992Z"
   },
   {
    "duration": 10,
    "start_time": "2024-07-11T12:50:43.013Z"
   },
   {
    "duration": 17,
    "start_time": "2024-07-11T12:50:43.025Z"
   },
   {
    "duration": 12,
    "start_time": "2024-07-11T12:50:43.044Z"
   },
   {
    "duration": 5,
    "start_time": "2024-07-11T12:50:43.058Z"
   },
   {
    "duration": 9,
    "start_time": "2024-07-11T12:50:43.086Z"
   },
   {
    "duration": 4,
    "start_time": "2024-07-11T12:50:43.096Z"
   },
   {
    "duration": 12,
    "start_time": "2024-07-11T12:50:43.102Z"
   },
   {
    "duration": 6,
    "start_time": "2024-07-11T12:50:43.116Z"
   },
   {
    "duration": 5,
    "start_time": "2024-07-11T12:50:43.123Z"
   },
   {
    "duration": 25,
    "start_time": "2024-07-11T12:50:43.129Z"
   },
   {
    "duration": 30,
    "start_time": "2024-07-11T12:50:43.156Z"
   },
   {
    "duration": 22,
    "start_time": "2024-07-11T12:50:43.188Z"
   },
   {
    "duration": 1245,
    "start_time": "2024-07-11T12:50:43.212Z"
   },
   {
    "duration": 13,
    "start_time": "2024-07-11T12:50:44.458Z"
   },
   {
    "duration": 1243,
    "start_time": "2024-07-11T12:50:44.473Z"
   },
   {
    "duration": 87,
    "start_time": "2024-07-11T12:50:45.718Z"
   },
   {
    "duration": 95,
    "start_time": "2024-07-11T12:50:45.806Z"
   },
   {
    "duration": 357,
    "start_time": "2024-07-11T12:50:45.903Z"
   },
   {
    "duration": 6,
    "start_time": "2024-07-11T12:50:46.285Z"
   },
   {
    "duration": 17,
    "start_time": "2024-07-11T12:50:46.292Z"
   },
   {
    "duration": 5,
    "start_time": "2024-07-11T12:50:46.310Z"
   },
   {
    "duration": 243,
    "start_time": "2024-07-11T12:50:46.317Z"
   },
   {
    "duration": 247,
    "start_time": "2024-07-11T12:50:46.562Z"
   },
   {
    "duration": 204,
    "start_time": "2024-07-11T12:50:46.810Z"
   },
   {
    "duration": 21,
    "start_time": "2024-07-11T12:50:47.016Z"
   },
   {
    "duration": 220,
    "start_time": "2024-07-11T12:50:47.038Z"
   },
   {
    "duration": 245,
    "start_time": "2024-07-11T12:50:47.260Z"
   },
   {
    "duration": 257,
    "start_time": "2024-07-11T12:50:47.507Z"
   },
   {
    "duration": 192,
    "start_time": "2024-07-11T12:50:47.766Z"
   },
   {
    "duration": 180,
    "start_time": "2024-07-11T12:50:47.960Z"
   },
   {
    "duration": 184,
    "start_time": "2024-07-11T12:50:48.142Z"
   },
   {
    "duration": 146,
    "start_time": "2024-07-11T12:50:48.328Z"
   },
   {
    "duration": 16,
    "start_time": "2024-07-11T12:50:48.476Z"
   },
   {
    "duration": 138,
    "start_time": "2024-07-11T12:50:48.493Z"
   },
   {
    "duration": 5,
    "start_time": "2024-07-11T12:50:48.632Z"
   },
   {
    "duration": 5,
    "start_time": "2024-07-11T12:53:10.966Z"
   },
   {
    "duration": 6,
    "start_time": "2024-07-11T12:53:25.598Z"
   },
   {
    "duration": 5,
    "start_time": "2024-07-11T12:53:30.530Z"
   },
   {
    "duration": 658,
    "start_time": "2024-07-11T12:53:46.348Z"
   },
   {
    "duration": 110,
    "start_time": "2024-07-11T12:53:47.008Z"
   },
   {
    "duration": 16,
    "start_time": "2024-07-11T12:53:47.119Z"
   },
   {
    "duration": 50,
    "start_time": "2024-07-11T12:53:47.137Z"
   },
   {
    "duration": 10,
    "start_time": "2024-07-11T12:53:47.188Z"
   },
   {
    "duration": 5,
    "start_time": "2024-07-11T12:53:47.200Z"
   },
   {
    "duration": 32,
    "start_time": "2024-07-11T12:53:47.206Z"
   },
   {
    "duration": 15,
    "start_time": "2024-07-11T12:53:47.239Z"
   },
   {
    "duration": 30,
    "start_time": "2024-07-11T12:53:47.256Z"
   },
   {
    "duration": 8,
    "start_time": "2024-07-11T12:53:47.289Z"
   },
   {
    "duration": 9,
    "start_time": "2024-07-11T12:53:47.299Z"
   },
   {
    "duration": 8,
    "start_time": "2024-07-11T12:53:47.310Z"
   },
   {
    "duration": 9,
    "start_time": "2024-07-11T12:53:47.320Z"
   },
   {
    "duration": 7,
    "start_time": "2024-07-11T12:53:47.331Z"
   },
   {
    "duration": 6,
    "start_time": "2024-07-11T12:53:47.340Z"
   },
   {
    "duration": 40,
    "start_time": "2024-07-11T12:53:47.347Z"
   },
   {
    "duration": 11,
    "start_time": "2024-07-11T12:53:47.389Z"
   },
   {
    "duration": 5,
    "start_time": "2024-07-11T12:53:47.401Z"
   },
   {
    "duration": 15,
    "start_time": "2024-07-11T12:53:47.407Z"
   },
   {
    "duration": 6,
    "start_time": "2024-07-11T12:53:47.423Z"
   },
   {
    "duration": 5,
    "start_time": "2024-07-11T12:53:47.430Z"
   },
   {
    "duration": 4,
    "start_time": "2024-07-11T12:53:47.436Z"
   },
   {
    "duration": 11,
    "start_time": "2024-07-11T12:53:47.442Z"
   },
   {
    "duration": 46,
    "start_time": "2024-07-11T12:53:47.455Z"
   },
   {
    "duration": 5,
    "start_time": "2024-07-11T12:53:47.503Z"
   },
   {
    "duration": 18,
    "start_time": "2024-07-11T12:53:47.510Z"
   },
   {
    "duration": 20,
    "start_time": "2024-07-11T12:53:47.529Z"
   },
   {
    "duration": 35,
    "start_time": "2024-07-11T12:53:47.553Z"
   },
   {
    "duration": 13,
    "start_time": "2024-07-11T12:53:47.589Z"
   },
   {
    "duration": 13,
    "start_time": "2024-07-11T12:53:47.603Z"
   },
   {
    "duration": 5,
    "start_time": "2024-07-11T12:53:47.618Z"
   },
   {
    "duration": 28,
    "start_time": "2024-07-11T12:53:47.625Z"
   },
   {
    "duration": 4,
    "start_time": "2024-07-11T12:53:47.657Z"
   },
   {
    "duration": 4,
    "start_time": "2024-07-11T12:53:47.663Z"
   },
   {
    "duration": 22,
    "start_time": "2024-07-11T12:53:47.669Z"
   },
   {
    "duration": 13,
    "start_time": "2024-07-11T12:53:47.693Z"
   },
   {
    "duration": 11,
    "start_time": "2024-07-11T12:53:47.707Z"
   },
   {
    "duration": 13,
    "start_time": "2024-07-11T12:53:47.720Z"
   },
   {
    "duration": 10,
    "start_time": "2024-07-11T12:53:47.735Z"
   },
   {
    "duration": 53,
    "start_time": "2024-07-11T12:53:47.747Z"
   },
   {
    "duration": 8,
    "start_time": "2024-07-11T12:53:47.802Z"
   },
   {
    "duration": 5,
    "start_time": "2024-07-11T12:53:47.812Z"
   },
   {
    "duration": 8,
    "start_time": "2024-07-11T12:53:47.818Z"
   },
   {
    "duration": 5,
    "start_time": "2024-07-11T12:53:47.827Z"
   },
   {
    "duration": 16,
    "start_time": "2024-07-11T12:53:47.834Z"
   },
   {
    "duration": 35,
    "start_time": "2024-07-11T12:53:47.851Z"
   },
   {
    "duration": 4,
    "start_time": "2024-07-11T12:53:47.888Z"
   },
   {
    "duration": 27,
    "start_time": "2024-07-11T12:53:47.893Z"
   },
   {
    "duration": 5,
    "start_time": "2024-07-11T12:53:47.922Z"
   },
   {
    "duration": 14,
    "start_time": "2024-07-11T12:53:47.929Z"
   },
   {
    "duration": 1274,
    "start_time": "2024-07-11T12:53:47.944Z"
   },
   {
    "duration": 12,
    "start_time": "2024-07-11T12:53:49.220Z"
   },
   {
    "duration": 2480,
    "start_time": "2024-07-11T12:53:49.233Z"
   },
   {
    "duration": 76,
    "start_time": "2024-07-11T12:53:51.715Z"
   },
   {
    "duration": 93,
    "start_time": "2024-07-11T12:53:51.793Z"
   },
   {
    "duration": 399,
    "start_time": "2024-07-11T12:53:51.888Z"
   },
   {
    "duration": 7,
    "start_time": "2024-07-11T12:53:52.288Z"
   },
   {
    "duration": 12,
    "start_time": "2024-07-11T12:53:52.296Z"
   },
   {
    "duration": 23,
    "start_time": "2024-07-11T12:53:52.310Z"
   },
   {
    "duration": 331,
    "start_time": "2024-07-11T12:53:52.335Z"
   },
   {
    "duration": 455,
    "start_time": "2024-07-11T12:53:52.668Z"
   },
   {
    "duration": 398,
    "start_time": "2024-07-11T12:53:53.125Z"
   },
   {
    "duration": 76,
    "start_time": "2024-07-11T12:53:53.525Z"
   },
   {
    "duration": 414,
    "start_time": "2024-07-11T12:53:53.602Z"
   },
   {
    "duration": 352,
    "start_time": "2024-07-11T12:53:54.017Z"
   },
   {
    "duration": 259,
    "start_time": "2024-07-11T12:53:54.371Z"
   },
   {
    "duration": 176,
    "start_time": "2024-07-11T12:53:54.631Z"
   },
   {
    "duration": 178,
    "start_time": "2024-07-11T12:53:54.809Z"
   },
   {
    "duration": 177,
    "start_time": "2024-07-11T12:53:54.988Z"
   },
   {
    "duration": 150,
    "start_time": "2024-07-11T12:53:55.166Z"
   },
   {
    "duration": 4,
    "start_time": "2024-07-11T12:53:55.318Z"
   },
   {
    "duration": 141,
    "start_time": "2024-07-11T12:53:55.323Z"
   },
   {
    "duration": 5,
    "start_time": "2024-07-11T12:53:55.465Z"
   },
   {
    "duration": 5,
    "start_time": "2024-07-11T12:55:29.298Z"
   },
   {
    "duration": 690,
    "start_time": "2024-07-11T12:55:33.581Z"
   },
   {
    "duration": 110,
    "start_time": "2024-07-11T12:55:34.273Z"
   },
   {
    "duration": 16,
    "start_time": "2024-07-11T12:55:34.384Z"
   },
   {
    "duration": 43,
    "start_time": "2024-07-11T12:55:34.402Z"
   },
   {
    "duration": 10,
    "start_time": "2024-07-11T12:55:34.446Z"
   },
   {
    "duration": 22,
    "start_time": "2024-07-11T12:55:34.457Z"
   },
   {
    "duration": 33,
    "start_time": "2024-07-11T12:55:34.481Z"
   },
   {
    "duration": 15,
    "start_time": "2024-07-11T12:55:34.516Z"
   },
   {
    "duration": 11,
    "start_time": "2024-07-11T12:55:34.533Z"
   },
   {
    "duration": 9,
    "start_time": "2024-07-11T12:55:34.547Z"
   },
   {
    "duration": 28,
    "start_time": "2024-07-11T12:55:34.557Z"
   },
   {
    "duration": 10,
    "start_time": "2024-07-11T12:55:34.586Z"
   },
   {
    "duration": 8,
    "start_time": "2024-07-11T12:55:34.597Z"
   },
   {
    "duration": 7,
    "start_time": "2024-07-11T12:55:34.606Z"
   },
   {
    "duration": 6,
    "start_time": "2024-07-11T12:55:34.614Z"
   },
   {
    "duration": 11,
    "start_time": "2024-07-11T12:55:34.621Z"
   },
   {
    "duration": 11,
    "start_time": "2024-07-11T12:55:34.633Z"
   },
   {
    "duration": 44,
    "start_time": "2024-07-11T12:55:34.645Z"
   },
   {
    "duration": 4,
    "start_time": "2024-07-11T12:55:34.690Z"
   },
   {
    "duration": 9,
    "start_time": "2024-07-11T12:55:34.696Z"
   },
   {
    "duration": 8,
    "start_time": "2024-07-11T12:55:34.707Z"
   },
   {
    "duration": 11,
    "start_time": "2024-07-11T12:55:34.717Z"
   },
   {
    "duration": 14,
    "start_time": "2024-07-11T12:55:34.730Z"
   },
   {
    "duration": 27,
    "start_time": "2024-07-11T12:55:34.746Z"
   },
   {
    "duration": 5,
    "start_time": "2024-07-11T12:55:34.785Z"
   },
   {
    "duration": 10,
    "start_time": "2024-07-11T12:55:34.792Z"
   },
   {
    "duration": 17,
    "start_time": "2024-07-11T12:55:34.804Z"
   },
   {
    "duration": 27,
    "start_time": "2024-07-11T12:55:34.825Z"
   },
   {
    "duration": 32,
    "start_time": "2024-07-11T12:55:34.854Z"
   },
   {
    "duration": 5,
    "start_time": "2024-07-11T12:55:34.887Z"
   },
   {
    "duration": 41,
    "start_time": "2024-07-11T12:55:34.894Z"
   },
   {
    "duration": 12,
    "start_time": "2024-07-11T12:55:34.937Z"
   },
   {
    "duration": 19,
    "start_time": "2024-07-11T12:55:34.950Z"
   },
   {
    "duration": 4,
    "start_time": "2024-07-11T12:55:34.971Z"
   },
   {
    "duration": 5,
    "start_time": "2024-07-11T12:55:34.977Z"
   },
   {
    "duration": 12,
    "start_time": "2024-07-11T12:55:34.983Z"
   },
   {
    "duration": 13,
    "start_time": "2024-07-11T12:55:34.996Z"
   },
   {
    "duration": 10,
    "start_time": "2024-07-11T12:55:35.010Z"
   },
   {
    "duration": 13,
    "start_time": "2024-07-11T12:55:35.022Z"
   },
   {
    "duration": 10,
    "start_time": "2024-07-11T12:55:35.037Z"
   },
   {
    "duration": 48,
    "start_time": "2024-07-11T12:55:35.049Z"
   },
   {
    "duration": 9,
    "start_time": "2024-07-11T12:55:35.098Z"
   },
   {
    "duration": 13,
    "start_time": "2024-07-11T12:55:35.109Z"
   },
   {
    "duration": 10,
    "start_time": "2024-07-11T12:55:35.124Z"
   },
   {
    "duration": 4,
    "start_time": "2024-07-11T12:55:35.136Z"
   },
   {
    "duration": 16,
    "start_time": "2024-07-11T12:55:35.141Z"
   },
   {
    "duration": 30,
    "start_time": "2024-07-11T12:55:35.158Z"
   },
   {
    "duration": 4,
    "start_time": "2024-07-11T12:55:35.189Z"
   },
   {
    "duration": 31,
    "start_time": "2024-07-11T12:55:35.194Z"
   },
   {
    "duration": 7,
    "start_time": "2024-07-11T12:55:35.226Z"
   },
   {
    "duration": 29,
    "start_time": "2024-07-11T12:55:35.234Z"
   },
   {
    "duration": 1380,
    "start_time": "2024-07-11T12:55:35.264Z"
   },
   {
    "duration": 14,
    "start_time": "2024-07-11T12:55:36.645Z"
   },
   {
    "duration": 1981,
    "start_time": "2024-07-11T12:55:36.660Z"
   },
   {
    "duration": 24,
    "start_time": "2024-07-11T12:55:38.642Z"
   },
   {
    "duration": 51,
    "start_time": "2024-07-11T12:55:38.668Z"
   },
   {
    "duration": 185,
    "start_time": "2024-07-11T12:55:38.720Z"
   },
   {
    "duration": 6,
    "start_time": "2024-07-11T12:55:38.907Z"
   },
   {
    "duration": 10,
    "start_time": "2024-07-11T12:55:38.915Z"
   },
   {
    "duration": 5,
    "start_time": "2024-07-11T12:55:38.926Z"
   },
   {
    "duration": 202,
    "start_time": "2024-07-11T12:55:38.933Z"
   },
   {
    "duration": 239,
    "start_time": "2024-07-11T12:55:39.137Z"
   },
   {
    "duration": 190,
    "start_time": "2024-07-11T12:55:39.385Z"
   },
   {
    "duration": 21,
    "start_time": "2024-07-11T12:55:39.584Z"
   },
   {
    "duration": 214,
    "start_time": "2024-07-11T12:55:39.606Z"
   },
   {
    "duration": 241,
    "start_time": "2024-07-11T12:55:39.821Z"
   },
   {
    "duration": 266,
    "start_time": "2024-07-11T12:55:40.064Z"
   },
   {
    "duration": 172,
    "start_time": "2024-07-11T12:55:40.331Z"
   },
   {
    "duration": 185,
    "start_time": "2024-07-11T12:55:40.505Z"
   },
   {
    "duration": 186,
    "start_time": "2024-07-11T12:55:40.692Z"
   },
   {
    "duration": 148,
    "start_time": "2024-07-11T12:55:40.879Z"
   },
   {
    "duration": 4,
    "start_time": "2024-07-11T12:55:41.029Z"
   },
   {
    "duration": 140,
    "start_time": "2024-07-11T12:55:41.035Z"
   },
   {
    "duration": 9,
    "start_time": "2024-07-11T12:55:41.177Z"
   },
   {
    "duration": 13,
    "start_time": "2024-07-11T12:59:53.709Z"
   },
   {
    "duration": 625,
    "start_time": "2024-07-11T12:59:59.007Z"
   },
   {
    "duration": 115,
    "start_time": "2024-07-11T12:59:59.634Z"
   },
   {
    "duration": 16,
    "start_time": "2024-07-11T12:59:59.750Z"
   },
   {
    "duration": 56,
    "start_time": "2024-07-11T12:59:59.769Z"
   },
   {
    "duration": 10,
    "start_time": "2024-07-11T12:59:59.827Z"
   },
   {
    "duration": 34,
    "start_time": "2024-07-11T12:59:59.839Z"
   },
   {
    "duration": 58,
    "start_time": "2024-07-11T12:59:59.874Z"
   },
   {
    "duration": 47,
    "start_time": "2024-07-11T12:59:59.933Z"
   },
   {
    "duration": 15,
    "start_time": "2024-07-11T12:59:59.982Z"
   },
   {
    "duration": 48,
    "start_time": "2024-07-11T13:00:00.000Z"
   },
   {
    "duration": 45,
    "start_time": "2024-07-11T13:00:00.050Z"
   },
   {
    "duration": 48,
    "start_time": "2024-07-11T13:00:00.096Z"
   },
   {
    "duration": 49,
    "start_time": "2024-07-11T13:00:00.146Z"
   },
   {
    "duration": 47,
    "start_time": "2024-07-11T13:00:00.197Z"
   },
   {
    "duration": 155,
    "start_time": "2024-07-11T13:00:00.246Z"
   },
   {
    "duration": 54,
    "start_time": "2024-07-11T13:00:00.403Z"
   },
   {
    "duration": 111,
    "start_time": "2024-07-11T13:00:00.458Z"
   },
   {
    "duration": 53,
    "start_time": "2024-07-11T13:00:00.571Z"
   },
   {
    "duration": 52,
    "start_time": "2024-07-11T13:00:00.626Z"
   },
   {
    "duration": 48,
    "start_time": "2024-07-11T13:00:00.680Z"
   },
   {
    "duration": 81,
    "start_time": "2024-07-11T13:00:00.730Z"
   },
   {
    "duration": 87,
    "start_time": "2024-07-11T13:00:00.813Z"
   },
   {
    "duration": 207,
    "start_time": "2024-07-11T13:00:00.902Z"
   },
   {
    "duration": 110,
    "start_time": "2024-07-11T13:00:01.110Z"
   },
   {
    "duration": 29,
    "start_time": "2024-07-11T13:00:01.221Z"
   },
   {
    "duration": 45,
    "start_time": "2024-07-11T13:00:01.251Z"
   },
   {
    "duration": 38,
    "start_time": "2024-07-11T13:00:01.298Z"
   },
   {
    "duration": 51,
    "start_time": "2024-07-11T13:00:01.340Z"
   },
   {
    "duration": 24,
    "start_time": "2024-07-11T13:00:01.392Z"
   },
   {
    "duration": 56,
    "start_time": "2024-07-11T13:00:01.418Z"
   },
   {
    "duration": 52,
    "start_time": "2024-07-11T13:00:01.475Z"
   },
   {
    "duration": 22,
    "start_time": "2024-07-11T13:00:01.528Z"
   },
   {
    "duration": 50,
    "start_time": "2024-07-11T13:00:01.552Z"
   },
   {
    "duration": 79,
    "start_time": "2024-07-11T13:00:01.604Z"
   },
   {
    "duration": 78,
    "start_time": "2024-07-11T13:00:01.685Z"
   },
   {
    "duration": 35,
    "start_time": "2024-07-11T13:00:01.765Z"
   },
   {
    "duration": 14,
    "start_time": "2024-07-11T13:00:01.801Z"
   },
   {
    "duration": 29,
    "start_time": "2024-07-11T13:00:01.817Z"
   },
   {
    "duration": 33,
    "start_time": "2024-07-11T13:00:01.847Z"
   },
   {
    "duration": 96,
    "start_time": "2024-07-11T13:00:01.882Z"
   },
   {
    "duration": 40,
    "start_time": "2024-07-11T13:00:01.980Z"
   },
   {
    "duration": 37,
    "start_time": "2024-07-11T13:00:02.021Z"
   },
   {
    "duration": 38,
    "start_time": "2024-07-11T13:00:02.060Z"
   },
   {
    "duration": 32,
    "start_time": "2024-07-11T13:00:02.099Z"
   },
   {
    "duration": 23,
    "start_time": "2024-07-11T13:00:02.133Z"
   },
   {
    "duration": 33,
    "start_time": "2024-07-11T13:00:02.157Z"
   },
   {
    "duration": 6,
    "start_time": "2024-07-11T13:00:02.192Z"
   },
   {
    "duration": 25,
    "start_time": "2024-07-11T13:00:02.200Z"
   },
   {
    "duration": 1270,
    "start_time": "2024-07-11T13:00:02.227Z"
   },
   {
    "duration": 13,
    "start_time": "2024-07-11T13:00:03.498Z"
   },
   {
    "duration": 1350,
    "start_time": "2024-07-11T13:00:03.513Z"
   },
   {
    "duration": 32,
    "start_time": "2024-07-11T13:00:04.865Z"
   },
   {
    "duration": 105,
    "start_time": "2024-07-11T13:00:04.899Z"
   },
   {
    "duration": 181,
    "start_time": "2024-07-11T13:00:05.006Z"
   },
   {
    "duration": 6,
    "start_time": "2024-07-11T13:00:05.189Z"
   },
   {
    "duration": 12,
    "start_time": "2024-07-11T13:00:05.196Z"
   },
   {
    "duration": 5,
    "start_time": "2024-07-11T13:00:05.210Z"
   },
   {
    "duration": 198,
    "start_time": "2024-07-11T13:00:05.216Z"
   },
   {
    "duration": 234,
    "start_time": "2024-07-11T13:00:05.415Z"
   },
   {
    "duration": 215,
    "start_time": "2024-07-11T13:00:05.651Z"
   },
   {
    "duration": 25,
    "start_time": "2024-07-11T13:00:05.867Z"
   },
   {
    "duration": 216,
    "start_time": "2024-07-11T13:00:05.894Z"
   },
   {
    "duration": 243,
    "start_time": "2024-07-11T13:00:06.112Z"
   },
   {
    "duration": 253,
    "start_time": "2024-07-11T13:00:06.356Z"
   },
   {
    "duration": 171,
    "start_time": "2024-07-11T13:00:06.610Z"
   },
   {
    "duration": 171,
    "start_time": "2024-07-11T13:00:06.782Z"
   },
   {
    "duration": 184,
    "start_time": "2024-07-11T13:00:06.955Z"
   },
   {
    "duration": 149,
    "start_time": "2024-07-11T13:00:07.141Z"
   },
   {
    "duration": 5,
    "start_time": "2024-07-11T13:00:07.292Z"
   },
   {
    "duration": 143,
    "start_time": "2024-07-11T13:00:07.298Z"
   },
   {
    "duration": 4,
    "start_time": "2024-07-11T13:00:07.443Z"
   },
   {
    "duration": 362,
    "start_time": "2024-07-11T13:03:28.071Z"
   },
   {
    "duration": 179,
    "start_time": "2024-07-11T13:03:49.289Z"
   },
   {
    "duration": 204,
    "start_time": "2024-07-11T13:06:06.684Z"
   },
   {
    "duration": 237,
    "start_time": "2024-07-11T13:06:19.241Z"
   },
   {
    "duration": 239,
    "start_time": "2024-07-11T13:09:36.858Z"
   },
   {
    "duration": 174,
    "start_time": "2024-07-11T13:13:15.294Z"
   },
   {
    "duration": 192,
    "start_time": "2024-07-11T13:14:42.407Z"
   },
   {
    "duration": 188,
    "start_time": "2024-07-11T13:15:35.968Z"
   },
   {
    "duration": 147,
    "start_time": "2024-07-11T13:17:57.638Z"
   },
   {
    "duration": 137,
    "start_time": "2024-07-11T13:18:28.459Z"
   },
   {
    "duration": 249,
    "start_time": "2024-07-11T13:18:59.563Z"
   },
   {
    "duration": 1198,
    "start_time": "2024-07-11T13:19:30.657Z"
   },
   {
    "duration": 1197,
    "start_time": "2024-07-11T13:20:08.119Z"
   },
   {
    "duration": 182,
    "start_time": "2024-07-11T13:20:14.983Z"
   },
   {
    "duration": 175,
    "start_time": "2024-07-11T13:21:13.038Z"
   },
   {
    "duration": 1297,
    "start_time": "2024-07-11T13:21:58.225Z"
   },
   {
    "duration": 178,
    "start_time": "2024-07-11T13:22:18.822Z"
   },
   {
    "duration": 176,
    "start_time": "2024-07-11T13:23:07.029Z"
   },
   {
    "duration": 179,
    "start_time": "2024-07-11T13:23:20.771Z"
   },
   {
    "duration": 183,
    "start_time": "2024-07-11T13:23:31.675Z"
   },
   {
    "duration": 168,
    "start_time": "2024-07-11T13:24:02.926Z"
   },
   {
    "duration": 215,
    "start_time": "2024-07-11T13:25:11.509Z"
   },
   {
    "duration": 296,
    "start_time": "2024-07-11T13:25:22.958Z"
   },
   {
    "duration": 678,
    "start_time": "2024-07-11T13:25:47.051Z"
   },
   {
    "duration": 111,
    "start_time": "2024-07-11T13:25:47.731Z"
   },
   {
    "duration": 17,
    "start_time": "2024-07-11T13:25:47.843Z"
   },
   {
    "duration": 45,
    "start_time": "2024-07-11T13:25:47.862Z"
   },
   {
    "duration": 10,
    "start_time": "2024-07-11T13:25:47.909Z"
   },
   {
    "duration": 7,
    "start_time": "2024-07-11T13:25:47.920Z"
   },
   {
    "duration": 30,
    "start_time": "2024-07-11T13:25:47.928Z"
   },
   {
    "duration": 15,
    "start_time": "2024-07-11T13:25:47.960Z"
   },
   {
    "duration": 10,
    "start_time": "2024-07-11T13:25:47.985Z"
   },
   {
    "duration": 37,
    "start_time": "2024-07-11T13:25:47.997Z"
   },
   {
    "duration": 39,
    "start_time": "2024-07-11T13:25:48.036Z"
   },
   {
    "duration": 10,
    "start_time": "2024-07-11T13:25:48.077Z"
   },
   {
    "duration": 6,
    "start_time": "2024-07-11T13:25:48.088Z"
   },
   {
    "duration": 6,
    "start_time": "2024-07-11T13:25:48.096Z"
   },
   {
    "duration": 5,
    "start_time": "2024-07-11T13:25:48.104Z"
   },
   {
    "duration": 11,
    "start_time": "2024-07-11T13:25:48.110Z"
   },
   {
    "duration": 11,
    "start_time": "2024-07-11T13:25:48.122Z"
   },
   {
    "duration": 4,
    "start_time": "2024-07-11T13:25:48.135Z"
   },
   {
    "duration": 5,
    "start_time": "2024-07-11T13:25:48.140Z"
   },
   {
    "duration": 41,
    "start_time": "2024-07-11T13:25:48.146Z"
   },
   {
    "duration": 7,
    "start_time": "2024-07-11T13:25:48.189Z"
   },
   {
    "duration": 5,
    "start_time": "2024-07-11T13:25:48.197Z"
   },
   {
    "duration": 12,
    "start_time": "2024-07-11T13:25:48.203Z"
   },
   {
    "duration": 27,
    "start_time": "2024-07-11T13:25:48.216Z"
   },
   {
    "duration": 5,
    "start_time": "2024-07-11T13:25:48.245Z"
   },
   {
    "duration": 34,
    "start_time": "2024-07-11T13:25:48.252Z"
   },
   {
    "duration": 11,
    "start_time": "2024-07-11T13:25:48.288Z"
   },
   {
    "duration": 23,
    "start_time": "2024-07-11T13:25:48.303Z"
   },
   {
    "duration": 9,
    "start_time": "2024-07-11T13:25:48.327Z"
   },
   {
    "duration": 5,
    "start_time": "2024-07-11T13:25:48.337Z"
   },
   {
    "duration": 48,
    "start_time": "2024-07-11T13:25:48.344Z"
   },
   {
    "duration": 5,
    "start_time": "2024-07-11T13:25:48.393Z"
   },
   {
    "duration": 9,
    "start_time": "2024-07-11T13:25:48.399Z"
   },
   {
    "duration": 13,
    "start_time": "2024-07-11T13:25:48.409Z"
   },
   {
    "duration": 10,
    "start_time": "2024-07-11T13:25:48.423Z"
   },
   {
    "duration": 18,
    "start_time": "2024-07-11T13:25:48.434Z"
   },
   {
    "duration": 39,
    "start_time": "2024-07-11T13:25:48.453Z"
   },
   {
    "duration": 17,
    "start_time": "2024-07-11T13:25:48.494Z"
   },
   {
    "duration": 10,
    "start_time": "2024-07-11T13:25:48.513Z"
   },
   {
    "duration": 4,
    "start_time": "2024-07-11T13:25:48.525Z"
   },
   {
    "duration": 11,
    "start_time": "2024-07-11T13:25:48.531Z"
   },
   {
    "duration": 4,
    "start_time": "2024-07-11T13:25:48.544Z"
   },
   {
    "duration": 46,
    "start_time": "2024-07-11T13:25:48.550Z"
   },
   {
    "duration": 5,
    "start_time": "2024-07-11T13:25:48.598Z"
   },
   {
    "duration": 3,
    "start_time": "2024-07-11T13:25:48.605Z"
   },
   {
    "duration": 26,
    "start_time": "2024-07-11T13:25:48.609Z"
   },
   {
    "duration": 6,
    "start_time": "2024-07-11T13:25:48.636Z"
   },
   {
    "duration": 45,
    "start_time": "2024-07-11T13:25:48.643Z"
   },
   {
    "duration": 1457,
    "start_time": "2024-07-11T13:25:48.689Z"
   },
   {
    "duration": 13,
    "start_time": "2024-07-11T13:25:50.148Z"
   },
   {
    "duration": 1345,
    "start_time": "2024-07-11T13:25:50.163Z"
   },
   {
    "duration": 24,
    "start_time": "2024-07-11T13:25:51.510Z"
   },
   {
    "duration": 56,
    "start_time": "2024-07-11T13:25:51.535Z"
   },
   {
    "duration": 185,
    "start_time": "2024-07-11T13:25:51.592Z"
   },
   {
    "duration": 10,
    "start_time": "2024-07-11T13:25:51.779Z"
   },
   {
    "duration": 14,
    "start_time": "2024-07-11T13:25:51.790Z"
   },
   {
    "duration": 6,
    "start_time": "2024-07-11T13:25:51.805Z"
   },
   {
    "duration": 192,
    "start_time": "2024-07-11T13:25:51.813Z"
   },
   {
    "duration": 234,
    "start_time": "2024-07-11T13:25:52.006Z"
   },
   {
    "duration": 183,
    "start_time": "2024-07-11T13:25:52.241Z"
   },
   {
    "duration": 24,
    "start_time": "2024-07-11T13:25:52.425Z"
   },
   {
    "duration": 212,
    "start_time": "2024-07-11T13:25:52.450Z"
   },
   {
    "duration": 224,
    "start_time": "2024-07-11T13:25:52.663Z"
   },
   {
    "duration": 235,
    "start_time": "2024-07-11T13:25:52.889Z"
   },
   {
    "duration": 194,
    "start_time": "2024-07-11T13:25:53.126Z"
   },
   {
    "duration": 194,
    "start_time": "2024-07-11T13:25:53.322Z"
   },
   {
    "duration": 195,
    "start_time": "2024-07-11T13:25:53.518Z"
   },
   {
    "duration": 155,
    "start_time": "2024-07-11T13:25:53.715Z"
   },
   {
    "duration": 14,
    "start_time": "2024-07-11T13:25:53.871Z"
   },
   {
    "duration": 145,
    "start_time": "2024-07-11T13:25:53.886Z"
   },
   {
    "duration": 5,
    "start_time": "2024-07-11T13:25:54.032Z"
   },
   {
    "duration": 642,
    "start_time": "2024-07-11T14:39:53.748Z"
   },
   {
    "duration": 109,
    "start_time": "2024-07-11T14:39:54.391Z"
   },
   {
    "duration": 16,
    "start_time": "2024-07-11T14:39:54.501Z"
   },
   {
    "duration": 79,
    "start_time": "2024-07-11T14:39:54.518Z"
   },
   {
    "duration": 10,
    "start_time": "2024-07-11T14:39:54.598Z"
   },
   {
    "duration": 7,
    "start_time": "2024-07-11T14:39:54.609Z"
   },
   {
    "duration": 29,
    "start_time": "2024-07-11T14:39:54.618Z"
   },
   {
    "duration": 14,
    "start_time": "2024-07-11T14:39:54.649Z"
   },
   {
    "duration": 26,
    "start_time": "2024-07-11T14:39:54.665Z"
   },
   {
    "duration": 9,
    "start_time": "2024-07-11T14:39:54.695Z"
   },
   {
    "duration": 7,
    "start_time": "2024-07-11T14:39:54.706Z"
   },
   {
    "duration": 12,
    "start_time": "2024-07-11T14:39:54.715Z"
   },
   {
    "duration": 5,
    "start_time": "2024-07-11T14:39:54.728Z"
   },
   {
    "duration": 7,
    "start_time": "2024-07-11T14:39:54.734Z"
   },
   {
    "duration": 44,
    "start_time": "2024-07-11T14:39:54.742Z"
   },
   {
    "duration": 10,
    "start_time": "2024-07-11T14:39:54.787Z"
   },
   {
    "duration": 12,
    "start_time": "2024-07-11T14:39:54.799Z"
   },
   {
    "duration": 9,
    "start_time": "2024-07-11T14:39:54.812Z"
   },
   {
    "duration": 5,
    "start_time": "2024-07-11T14:39:54.823Z"
   },
   {
    "duration": 12,
    "start_time": "2024-07-11T14:39:54.829Z"
   },
   {
    "duration": 5,
    "start_time": "2024-07-11T14:39:54.842Z"
   },
   {
    "duration": 9,
    "start_time": "2024-07-11T14:39:54.848Z"
   },
   {
    "duration": 31,
    "start_time": "2024-07-11T14:39:54.858Z"
   },
   {
    "duration": 27,
    "start_time": "2024-07-11T14:39:54.890Z"
   },
   {
    "duration": 6,
    "start_time": "2024-07-11T14:39:54.918Z"
   },
   {
    "duration": 22,
    "start_time": "2024-07-11T14:39:54.925Z"
   },
   {
    "duration": 17,
    "start_time": "2024-07-11T14:39:54.949Z"
   },
   {
    "duration": 31,
    "start_time": "2024-07-11T14:39:54.969Z"
   },
   {
    "duration": 9,
    "start_time": "2024-07-11T14:39:55.001Z"
   },
   {
    "duration": 5,
    "start_time": "2024-07-11T14:39:55.011Z"
   },
   {
    "duration": 15,
    "start_time": "2024-07-11T14:39:55.018Z"
   },
   {
    "duration": 5,
    "start_time": "2024-07-11T14:39:55.035Z"
   },
   {
    "duration": 10,
    "start_time": "2024-07-11T14:39:55.042Z"
   },
   {
    "duration": 42,
    "start_time": "2024-07-11T14:39:55.054Z"
   },
   {
    "duration": 16,
    "start_time": "2024-07-11T14:39:55.097Z"
   },
   {
    "duration": 13,
    "start_time": "2024-07-11T14:39:55.114Z"
   },
   {
    "duration": 10,
    "start_time": "2024-07-11T14:39:55.128Z"
   },
   {
    "duration": 15,
    "start_time": "2024-07-11T14:39:55.140Z"
   },
   {
    "duration": 9,
    "start_time": "2024-07-11T14:39:55.184Z"
   },
   {
    "duration": 10,
    "start_time": "2024-07-11T14:39:55.195Z"
   },
   {
    "duration": 11,
    "start_time": "2024-07-11T14:39:55.206Z"
   },
   {
    "duration": 5,
    "start_time": "2024-07-11T14:39:55.218Z"
   },
   {
    "duration": 22,
    "start_time": "2024-07-11T14:39:55.225Z"
   },
   {
    "duration": 9,
    "start_time": "2024-07-11T14:39:55.249Z"
   },
   {
    "duration": 4,
    "start_time": "2024-07-11T14:39:55.259Z"
   },
   {
    "duration": 37,
    "start_time": "2024-07-11T14:39:55.264Z"
   },
   {
    "duration": 6,
    "start_time": "2024-07-11T14:39:55.302Z"
   },
   {
    "duration": 14,
    "start_time": "2024-07-11T14:39:55.310Z"
   },
   {
    "duration": 1430,
    "start_time": "2024-07-11T14:39:55.326Z"
   },
   {
    "duration": 12,
    "start_time": "2024-07-11T14:39:56.758Z"
   },
   {
    "duration": 1343,
    "start_time": "2024-07-11T14:39:56.771Z"
   },
   {
    "duration": 24,
    "start_time": "2024-07-11T14:39:58.116Z"
   },
   {
    "duration": 50,
    "start_time": "2024-07-11T14:39:58.142Z"
   },
   {
    "duration": 187,
    "start_time": "2024-07-11T14:39:58.194Z"
   },
   {
    "duration": 6,
    "start_time": "2024-07-11T14:39:58.382Z"
   },
   {
    "duration": 8,
    "start_time": "2024-07-11T14:39:58.390Z"
   },
   {
    "duration": 29,
    "start_time": "2024-07-11T14:39:58.400Z"
   },
   {
    "duration": 172,
    "start_time": "2024-07-11T14:39:58.431Z"
   },
   {
    "duration": 219,
    "start_time": "2024-07-11T14:39:58.604Z"
   },
   {
    "duration": 172,
    "start_time": "2024-07-11T14:39:58.824Z"
   },
   {
    "duration": 21,
    "start_time": "2024-07-11T14:39:58.998Z"
   },
   {
    "duration": 209,
    "start_time": "2024-07-11T14:39:59.020Z"
   },
   {
    "duration": 217,
    "start_time": "2024-07-11T14:39:59.231Z"
   },
   {
    "duration": 235,
    "start_time": "2024-07-11T14:39:59.450Z"
   },
   {
    "duration": 180,
    "start_time": "2024-07-11T14:39:59.686Z"
   },
   {
    "duration": 200,
    "start_time": "2024-07-11T14:39:59.868Z"
   },
   {
    "duration": 190,
    "start_time": "2024-07-11T14:40:00.070Z"
   },
   {
    "duration": 160,
    "start_time": "2024-07-11T14:40:00.262Z"
   },
   {
    "duration": 5,
    "start_time": "2024-07-11T14:40:00.424Z"
   },
   {
    "duration": 162,
    "start_time": "2024-07-11T14:40:00.431Z"
   },
   {
    "duration": 5,
    "start_time": "2024-07-11T14:40:00.595Z"
   },
   {
    "duration": 623,
    "start_time": "2024-07-11T14:42:59.708Z"
   },
   {
    "duration": 117,
    "start_time": "2024-07-11T14:43:00.332Z"
   },
   {
    "duration": 16,
    "start_time": "2024-07-11T14:43:00.450Z"
   },
   {
    "duration": 106,
    "start_time": "2024-07-11T14:43:00.468Z"
   },
   {
    "duration": 15,
    "start_time": "2024-07-11T14:43:00.575Z"
   },
   {
    "duration": 59,
    "start_time": "2024-07-11T14:43:00.591Z"
   },
   {
    "duration": 72,
    "start_time": "2024-07-11T14:43:00.652Z"
   },
   {
    "duration": 43,
    "start_time": "2024-07-11T14:43:00.726Z"
   },
   {
    "duration": 43,
    "start_time": "2024-07-11T14:43:00.771Z"
   },
   {
    "duration": 69,
    "start_time": "2024-07-11T14:43:00.818Z"
   },
   {
    "duration": 53,
    "start_time": "2024-07-11T14:43:00.889Z"
   },
   {
    "duration": 52,
    "start_time": "2024-07-11T14:43:00.944Z"
   },
   {
    "duration": 52,
    "start_time": "2024-07-11T14:43:00.997Z"
   },
   {
    "duration": 75,
    "start_time": "2024-07-11T14:43:01.050Z"
   },
   {
    "duration": 54,
    "start_time": "2024-07-11T14:43:01.126Z"
   },
   {
    "duration": 51,
    "start_time": "2024-07-11T14:43:01.182Z"
   },
   {
    "duration": 67,
    "start_time": "2024-07-11T14:43:01.235Z"
   },
   {
    "duration": 100,
    "start_time": "2024-07-11T14:43:01.303Z"
   },
   {
    "duration": 37,
    "start_time": "2024-07-11T14:43:01.405Z"
   },
   {
    "duration": 29,
    "start_time": "2024-07-11T14:43:01.444Z"
   },
   {
    "duration": 26,
    "start_time": "2024-07-11T14:43:01.475Z"
   },
   {
    "duration": 23,
    "start_time": "2024-07-11T14:43:01.502Z"
   },
   {
    "duration": 17,
    "start_time": "2024-07-11T14:43:01.527Z"
   },
   {
    "duration": 30,
    "start_time": "2024-07-11T14:43:01.546Z"
   },
   {
    "duration": 4,
    "start_time": "2024-07-11T14:43:01.578Z"
   },
   {
    "duration": 19,
    "start_time": "2024-07-11T14:43:01.584Z"
   },
   {
    "duration": 47,
    "start_time": "2024-07-11T14:43:01.604Z"
   },
   {
    "duration": 41,
    "start_time": "2024-07-11T14:43:01.655Z"
   },
   {
    "duration": 18,
    "start_time": "2024-07-11T14:43:01.698Z"
   },
   {
    "duration": 33,
    "start_time": "2024-07-11T14:43:01.717Z"
   },
   {
    "duration": 21,
    "start_time": "2024-07-11T14:43:01.751Z"
   },
   {
    "duration": 5,
    "start_time": "2024-07-11T14:43:01.773Z"
   },
   {
    "duration": 20,
    "start_time": "2024-07-11T14:43:01.779Z"
   },
   {
    "duration": 16,
    "start_time": "2024-07-11T14:43:01.800Z"
   },
   {
    "duration": 11,
    "start_time": "2024-07-11T14:43:01.817Z"
   },
   {
    "duration": 13,
    "start_time": "2024-07-11T14:43:01.830Z"
   },
   {
    "duration": 10,
    "start_time": "2024-07-11T14:43:01.844Z"
   },
   {
    "duration": 36,
    "start_time": "2024-07-11T14:43:01.856Z"
   },
   {
    "duration": 11,
    "start_time": "2024-07-11T14:43:01.894Z"
   },
   {
    "duration": 7,
    "start_time": "2024-07-11T14:43:01.907Z"
   },
   {
    "duration": 75,
    "start_time": "2024-07-11T14:43:01.916Z"
   },
   {
    "duration": 10,
    "start_time": "2024-07-11T14:43:01.993Z"
   },
   {
    "duration": 15,
    "start_time": "2024-07-11T14:43:02.005Z"
   },
   {
    "duration": 6,
    "start_time": "2024-07-11T14:43:02.022Z"
   },
   {
    "duration": 4,
    "start_time": "2024-07-11T14:43:02.030Z"
   },
   {
    "duration": 25,
    "start_time": "2024-07-11T14:43:02.035Z"
   },
   {
    "duration": 27,
    "start_time": "2024-07-11T14:43:02.062Z"
   },
   {
    "duration": 27,
    "start_time": "2024-07-11T14:43:02.090Z"
   },
   {
    "duration": 1232,
    "start_time": "2024-07-11T14:43:02.118Z"
   },
   {
    "duration": 13,
    "start_time": "2024-07-11T14:43:03.352Z"
   },
   {
    "duration": 1386,
    "start_time": "2024-07-11T14:43:03.367Z"
   },
   {
    "duration": 33,
    "start_time": "2024-07-11T14:43:04.755Z"
   },
   {
    "duration": 39,
    "start_time": "2024-07-11T14:43:04.789Z"
   },
   {
    "duration": 193,
    "start_time": "2024-07-11T14:43:04.829Z"
   },
   {
    "duration": 6,
    "start_time": "2024-07-11T14:43:05.023Z"
   },
   {
    "duration": 14,
    "start_time": "2024-07-11T14:43:05.030Z"
   },
   {
    "duration": 10,
    "start_time": "2024-07-11T14:43:05.046Z"
   },
   {
    "duration": 220,
    "start_time": "2024-07-11T14:43:05.057Z"
   },
   {
    "duration": 226,
    "start_time": "2024-07-11T14:43:05.279Z"
   },
   {
    "duration": 173,
    "start_time": "2024-07-11T14:43:05.507Z"
   },
   {
    "duration": 20,
    "start_time": "2024-07-11T14:43:05.684Z"
   },
   {
    "duration": 233,
    "start_time": "2024-07-11T14:43:05.706Z"
   },
   {
    "duration": 230,
    "start_time": "2024-07-11T14:43:05.941Z"
   },
   {
    "duration": 238,
    "start_time": "2024-07-11T14:43:06.173Z"
   },
   {
    "duration": 192,
    "start_time": "2024-07-11T14:43:06.413Z"
   },
   {
    "duration": 198,
    "start_time": "2024-07-11T14:43:06.607Z"
   },
   {
    "duration": 191,
    "start_time": "2024-07-11T14:43:06.807Z"
   },
   {
    "duration": 163,
    "start_time": "2024-07-11T14:43:07.000Z"
   },
   {
    "duration": 5,
    "start_time": "2024-07-11T14:43:07.165Z"
   },
   {
    "duration": 153,
    "start_time": "2024-07-11T14:43:07.171Z"
   },
   {
    "duration": 5,
    "start_time": "2024-07-11T14:43:07.325Z"
   },
   {
    "duration": 668,
    "start_time": "2024-07-11T18:05:28.374Z"
   },
   {
    "duration": 114,
    "start_time": "2024-07-11T18:05:29.044Z"
   },
   {
    "duration": 16,
    "start_time": "2024-07-11T18:05:29.160Z"
   },
   {
    "duration": 42,
    "start_time": "2024-07-11T18:05:29.178Z"
   },
   {
    "duration": 11,
    "start_time": "2024-07-11T18:05:29.221Z"
   },
   {
    "duration": 6,
    "start_time": "2024-07-11T18:05:29.234Z"
   },
   {
    "duration": 37,
    "start_time": "2024-07-11T18:05:29.242Z"
   },
   {
    "duration": 17,
    "start_time": "2024-07-11T18:05:29.281Z"
   },
   {
    "duration": 10,
    "start_time": "2024-07-11T18:05:29.299Z"
   },
   {
    "duration": 8,
    "start_time": "2024-07-11T18:05:29.312Z"
   },
   {
    "duration": 29,
    "start_time": "2024-07-11T18:05:29.322Z"
   },
   {
    "duration": 11,
    "start_time": "2024-07-11T18:05:29.352Z"
   },
   {
    "duration": 4,
    "start_time": "2024-07-11T18:05:29.365Z"
   },
   {
    "duration": 10,
    "start_time": "2024-07-11T18:05:29.370Z"
   },
   {
    "duration": 7,
    "start_time": "2024-07-11T18:05:29.381Z"
   },
   {
    "duration": 40,
    "start_time": "2024-07-11T18:05:29.390Z"
   },
   {
    "duration": 17,
    "start_time": "2024-07-11T18:05:29.431Z"
   },
   {
    "duration": 4,
    "start_time": "2024-07-11T18:05:29.450Z"
   },
   {
    "duration": 6,
    "start_time": "2024-07-11T18:05:29.455Z"
   },
   {
    "duration": 5,
    "start_time": "2024-07-11T18:05:29.463Z"
   },
   {
    "duration": 13,
    "start_time": "2024-07-11T18:05:29.469Z"
   },
   {
    "duration": 18,
    "start_time": "2024-07-11T18:05:29.483Z"
   },
   {
    "duration": 16,
    "start_time": "2024-07-11T18:05:29.504Z"
   },
   {
    "duration": 49,
    "start_time": "2024-07-11T18:05:29.522Z"
   },
   {
    "duration": 6,
    "start_time": "2024-07-11T18:05:29.572Z"
   },
   {
    "duration": 25,
    "start_time": "2024-07-11T18:05:29.579Z"
   },
   {
    "duration": 14,
    "start_time": "2024-07-11T18:05:29.606Z"
   },
   {
    "duration": 33,
    "start_time": "2024-07-11T18:05:29.624Z"
   },
   {
    "duration": 10,
    "start_time": "2024-07-11T18:05:29.659Z"
   },
   {
    "duration": 8,
    "start_time": "2024-07-11T18:05:29.671Z"
   },
   {
    "duration": 17,
    "start_time": "2024-07-11T18:05:29.681Z"
   },
   {
    "duration": 5,
    "start_time": "2024-07-11T18:05:29.700Z"
   },
   {
    "duration": 40,
    "start_time": "2024-07-11T18:05:29.707Z"
   },
   {
    "duration": 14,
    "start_time": "2024-07-11T18:05:29.748Z"
   },
   {
    "duration": 11,
    "start_time": "2024-07-11T18:05:29.763Z"
   },
   {
    "duration": 14,
    "start_time": "2024-07-11T18:05:29.776Z"
   },
   {
    "duration": 10,
    "start_time": "2024-07-11T18:05:29.792Z"
   },
   {
    "duration": 49,
    "start_time": "2024-07-11T18:05:29.804Z"
   },
   {
    "duration": 9,
    "start_time": "2024-07-11T18:05:29.854Z"
   },
   {
    "duration": 3,
    "start_time": "2024-07-11T18:05:29.865Z"
   },
   {
    "duration": 12,
    "start_time": "2024-07-11T18:05:29.869Z"
   },
   {
    "duration": 8,
    "start_time": "2024-07-11T18:05:29.882Z"
   },
   {
    "duration": 17,
    "start_time": "2024-07-11T18:05:29.891Z"
   },
   {
    "duration": 7,
    "start_time": "2024-07-11T18:05:29.910Z"
   },
   {
    "duration": 5,
    "start_time": "2024-07-11T18:05:29.946Z"
   },
   {
    "duration": 25,
    "start_time": "2024-07-11T18:05:29.953Z"
   },
   {
    "duration": 6,
    "start_time": "2024-07-11T18:05:29.980Z"
   },
   {
    "duration": 14,
    "start_time": "2024-07-11T18:05:29.988Z"
   },
   {
    "duration": 1842,
    "start_time": "2024-07-11T18:05:30.004Z"
   },
   {
    "duration": 13,
    "start_time": "2024-07-11T18:05:31.848Z"
   },
   {
    "duration": 1851,
    "start_time": "2024-07-11T18:05:31.863Z"
   },
   {
    "duration": 31,
    "start_time": "2024-07-11T18:05:33.715Z"
   },
   {
    "duration": 50,
    "start_time": "2024-07-11T18:05:33.748Z"
   },
   {
    "duration": 178,
    "start_time": "2024-07-11T18:05:33.800Z"
   },
   {
    "duration": 6,
    "start_time": "2024-07-11T18:05:33.979Z"
   },
   {
    "duration": 7,
    "start_time": "2024-07-11T18:05:33.987Z"
   },
   {
    "duration": 5,
    "start_time": "2024-07-11T18:05:33.996Z"
   },
   {
    "duration": 210,
    "start_time": "2024-07-11T18:05:34.003Z"
   },
   {
    "duration": 235,
    "start_time": "2024-07-11T18:05:34.215Z"
   },
   {
    "duration": 192,
    "start_time": "2024-07-11T18:05:34.451Z"
   },
   {
    "duration": 28,
    "start_time": "2024-07-11T18:05:34.645Z"
   },
   {
    "duration": 218,
    "start_time": "2024-07-11T18:05:34.679Z"
   },
   {
    "duration": 226,
    "start_time": "2024-07-11T18:05:34.898Z"
   },
   {
    "duration": 241,
    "start_time": "2024-07-11T18:05:35.126Z"
   },
   {
    "duration": 182,
    "start_time": "2024-07-11T18:05:35.369Z"
   },
   {
    "duration": 201,
    "start_time": "2024-07-11T18:05:35.553Z"
   },
   {
    "duration": 195,
    "start_time": "2024-07-11T18:05:35.756Z"
   },
   {
    "duration": 163,
    "start_time": "2024-07-11T18:05:35.953Z"
   },
   {
    "duration": 5,
    "start_time": "2024-07-11T18:05:36.118Z"
   },
   {
    "duration": 156,
    "start_time": "2024-07-11T18:05:36.125Z"
   },
   {
    "duration": 6,
    "start_time": "2024-07-11T18:05:36.282Z"
   },
   {
    "duration": 53,
    "start_time": "2025-09-09T09:07:00.457Z"
   },
   {
    "duration": 917,
    "start_time": "2025-09-09T09:08:07.088Z"
   },
   {
    "duration": 119,
    "start_time": "2025-09-09T09:08:08.735Z"
   },
   {
    "duration": 71,
    "start_time": "2025-09-09T09:13:31.669Z"
   },
   {
    "duration": 102,
    "start_time": "2025-09-09T09:13:44.818Z"
   },
   {
    "duration": 18,
    "start_time": "2025-09-09T09:13:45.948Z"
   },
   {
    "duration": 44,
    "start_time": "2025-09-09T09:13:46.211Z"
   },
   {
    "duration": 11,
    "start_time": "2025-09-09T09:13:46.517Z"
   },
   {
    "duration": 6,
    "start_time": "2025-09-09T09:13:47.069Z"
   },
   {
    "duration": 33,
    "start_time": "2025-09-09T09:13:47.458Z"
   },
   {
    "duration": 18,
    "start_time": "2025-09-09T09:13:49.628Z"
   },
   {
    "duration": 13,
    "start_time": "2025-09-09T09:13:50.477Z"
   },
   {
    "duration": 11,
    "start_time": "2025-09-09T09:13:50.955Z"
   },
   {
    "duration": 16,
    "start_time": "2025-09-09T09:15:12.051Z"
   },
   {
    "duration": 11,
    "start_time": "2025-09-09T09:15:12.819Z"
   },
   {
    "duration": 9,
    "start_time": "2025-09-09T09:15:13.385Z"
   },
   {
    "duration": 7,
    "start_time": "2025-09-09T09:15:14.449Z"
   },
   {
    "duration": 10,
    "start_time": "2025-09-09T09:15:16.486Z"
   },
   {
    "duration": 5,
    "start_time": "2025-09-09T09:15:16.893Z"
   },
   {
    "duration": 6,
    "start_time": "2025-09-09T09:15:20.138Z"
   },
   {
    "duration": 6,
    "start_time": "2025-09-09T09:15:20.762Z"
   },
   {
    "duration": 13,
    "start_time": "2025-09-09T09:15:24.891Z"
   },
   {
    "duration": 17,
    "start_time": "2025-09-09T09:15:33.147Z"
   },
   {
    "duration": 12,
    "start_time": "2025-09-09T09:16:32.735Z"
   },
   {
    "duration": 4,
    "start_time": "2025-09-09T09:16:33.328Z"
   },
   {
    "duration": 5,
    "start_time": "2025-09-09T09:16:33.841Z"
   },
   {
    "duration": 4,
    "start_time": "2025-09-09T09:16:34.267Z"
   },
   {
    "duration": 5,
    "start_time": "2025-09-09T09:16:34.787Z"
   },
   {
    "duration": 13,
    "start_time": "2025-09-09T09:16:35.878Z"
   },
   {
    "duration": 29,
    "start_time": "2025-09-09T09:16:37.780Z"
   },
   {
    "duration": 5,
    "start_time": "2025-09-09T09:16:39.660Z"
   },
   {
    "duration": 30,
    "start_time": "2025-09-09T09:17:08.102Z"
   },
   {
    "duration": 6,
    "start_time": "2025-09-09T09:17:14.743Z"
   },
   {
    "duration": 9,
    "start_time": "2025-09-09T09:17:16.276Z"
   },
   {
    "duration": 12,
    "start_time": "2025-09-09T09:17:18.503Z"
   },
   {
    "duration": 10,
    "start_time": "2025-09-09T09:17:43.617Z"
   },
   {
    "duration": 6,
    "start_time": "2025-09-09T09:19:07.880Z"
   },
   {
    "duration": 13,
    "start_time": "2025-09-09T09:19:08.964Z"
   },
   {
    "duration": 5,
    "start_time": "2025-09-09T09:19:10.967Z"
   },
   {
    "duration": 9,
    "start_time": "2025-09-09T09:20:03.505Z"
   },
   {
    "duration": 11,
    "start_time": "2025-09-09T09:20:48.136Z"
   },
   {
    "duration": 3,
    "start_time": "2025-09-09T09:22:23.642Z"
   },
   {
    "duration": 13,
    "start_time": "2025-09-09T09:22:36.287Z"
   },
   {
    "duration": 19,
    "start_time": "2025-09-09T09:22:36.628Z"
   },
   {
    "duration": 21,
    "start_time": "2025-09-09T09:22:36.933Z"
   },
   {
    "duration": 10,
    "start_time": "2025-09-09T09:22:37.497Z"
   },
   {
    "duration": 17,
    "start_time": "2025-09-09T09:22:38.081Z"
   },
   {
    "duration": 10,
    "start_time": "2025-09-09T09:22:45.309Z"
   },
   {
    "duration": 5,
    "start_time": "2025-09-09T09:22:46.296Z"
   },
   {
    "duration": 8,
    "start_time": "2025-09-09T09:22:46.813Z"
   },
   {
    "duration": 9,
    "start_time": "2025-09-09T09:24:06.335Z"
   },
   {
    "duration": 13,
    "start_time": "2025-09-09T09:24:08.398Z"
   },
   {
    "duration": 6,
    "start_time": "2025-09-09T09:24:08.854Z"
   },
   {
    "duration": 5,
    "start_time": "2025-09-09T09:24:16.978Z"
   },
   {
    "duration": 26,
    "start_time": "2025-09-09T09:26:11.943Z"
   },
   {
    "duration": 647,
    "start_time": "2025-09-09T09:38:25.034Z"
   },
   {
    "duration": 104,
    "start_time": "2025-09-09T09:38:25.683Z"
   },
   {
    "duration": 21,
    "start_time": "2025-09-09T09:38:25.789Z"
   },
   {
    "duration": 73,
    "start_time": "2025-09-09T09:38:25.814Z"
   },
   {
    "duration": 10,
    "start_time": "2025-09-09T09:38:25.889Z"
   },
   {
    "duration": 6,
    "start_time": "2025-09-09T09:38:25.901Z"
   },
   {
    "duration": 30,
    "start_time": "2025-09-09T09:38:25.908Z"
   },
   {
    "duration": 15,
    "start_time": "2025-09-09T09:38:25.939Z"
   },
   {
    "duration": 10,
    "start_time": "2025-09-09T09:38:25.956Z"
   },
   {
    "duration": 10,
    "start_time": "2025-09-09T09:38:25.970Z"
   },
   {
    "duration": 6,
    "start_time": "2025-09-09T09:38:25.982Z"
   },
   {
    "duration": 46,
    "start_time": "2025-09-09T09:38:25.990Z"
   },
   {
    "duration": 47,
    "start_time": "2025-09-09T09:38:26.038Z"
   },
   {
    "duration": 18,
    "start_time": "2025-09-09T09:38:26.087Z"
   },
   {
    "duration": 6,
    "start_time": "2025-09-09T09:38:26.107Z"
   },
   {
    "duration": 11,
    "start_time": "2025-09-09T09:38:26.114Z"
   },
   {
    "duration": 11,
    "start_time": "2025-09-09T09:38:26.126Z"
   },
   {
    "duration": 4,
    "start_time": "2025-09-09T09:38:26.139Z"
   },
   {
    "duration": 5,
    "start_time": "2025-09-09T09:38:26.144Z"
   },
   {
    "duration": 5,
    "start_time": "2025-09-09T09:38:26.150Z"
   },
   {
    "duration": 7,
    "start_time": "2025-09-09T09:38:26.157Z"
   },
   {
    "duration": 10,
    "start_time": "2025-09-09T09:38:26.165Z"
   },
   {
    "duration": 11,
    "start_time": "2025-09-09T09:38:26.177Z"
   },
   {
    "duration": 54,
    "start_time": "2025-09-09T09:38:26.190Z"
   },
   {
    "duration": 5,
    "start_time": "2025-09-09T09:38:26.246Z"
   },
   {
    "duration": 11,
    "start_time": "2025-09-09T09:38:26.252Z"
   },
   {
    "duration": 13,
    "start_time": "2025-09-09T09:38:26.265Z"
   },
   {
    "duration": 35,
    "start_time": "2025-09-09T09:38:26.282Z"
   },
   {
    "duration": 24,
    "start_time": "2025-09-09T09:38:26.318Z"
   },
   {
    "duration": 10,
    "start_time": "2025-09-09T09:38:26.343Z"
   },
   {
    "duration": 17,
    "start_time": "2025-09-09T09:38:26.354Z"
   },
   {
    "duration": 4,
    "start_time": "2025-09-09T09:38:26.374Z"
   },
   {
    "duration": 16,
    "start_time": "2025-09-09T09:38:26.380Z"
   },
   {
    "duration": 47,
    "start_time": "2025-09-09T09:38:26.397Z"
   },
   {
    "duration": 14,
    "start_time": "2025-09-09T09:38:26.446Z"
   },
   {
    "duration": 24,
    "start_time": "2025-09-09T09:38:26.461Z"
   },
   {
    "duration": 21,
    "start_time": "2025-09-09T09:38:26.487Z"
   },
   {
    "duration": 25,
    "start_time": "2025-09-09T09:38:26.510Z"
   },
   {
    "duration": 11,
    "start_time": "2025-09-09T09:38:26.537Z"
   },
   {
    "duration": 6,
    "start_time": "2025-09-09T09:38:26.549Z"
   },
   {
    "duration": 10,
    "start_time": "2025-09-09T09:38:26.557Z"
   },
   {
    "duration": 19,
    "start_time": "2025-09-09T09:38:26.569Z"
   },
   {
    "duration": 29,
    "start_time": "2025-09-09T09:38:26.589Z"
   },
   {
    "duration": 5,
    "start_time": "2025-09-09T09:38:26.619Z"
   },
   {
    "duration": 8,
    "start_time": "2025-09-09T09:38:26.626Z"
   },
   {
    "duration": 27,
    "start_time": "2025-09-09T09:38:26.635Z"
   },
   {
    "duration": 7,
    "start_time": "2025-09-09T09:38:26.663Z"
   },
   {
    "duration": 32,
    "start_time": "2025-09-09T09:38:26.671Z"
   },
   {
    "duration": 1402,
    "start_time": "2025-09-09T09:38:26.704Z"
   },
   {
    "duration": 12,
    "start_time": "2025-09-09T09:38:28.107Z"
   },
   {
    "duration": 1428,
    "start_time": "2025-09-09T09:38:28.120Z"
   },
   {
    "duration": 23,
    "start_time": "2025-09-09T09:38:29.550Z"
   },
   {
    "duration": 37,
    "start_time": "2025-09-09T09:38:29.575Z"
   },
   {
    "duration": 198,
    "start_time": "2025-09-09T09:38:29.614Z"
   },
   {
    "duration": 6,
    "start_time": "2025-09-09T09:38:29.814Z"
   },
   {
    "duration": 25,
    "start_time": "2025-09-09T09:38:29.834Z"
   },
   {
    "duration": 15,
    "start_time": "2025-09-09T09:38:29.860Z"
   },
   {
    "duration": 174,
    "start_time": "2025-09-09T09:38:29.876Z"
   },
   {
    "duration": 219,
    "start_time": "2025-09-09T09:38:30.052Z"
   },
   {
    "duration": 166,
    "start_time": "2025-09-09T09:38:30.273Z"
   },
   {
    "duration": 21,
    "start_time": "2025-09-09T09:38:30.441Z"
   },
   {
    "duration": 202,
    "start_time": "2025-09-09T09:38:30.463Z"
   },
   {
    "duration": 226,
    "start_time": "2025-09-09T09:38:30.667Z"
   },
   {
    "duration": 231,
    "start_time": "2025-09-09T09:38:30.895Z"
   },
   {
    "duration": 173,
    "start_time": "2025-09-09T09:38:31.128Z"
   },
   {
    "duration": 191,
    "start_time": "2025-09-09T09:38:31.303Z"
   },
   {
    "duration": 200,
    "start_time": "2025-09-09T09:38:31.496Z"
   },
   {
    "duration": 159,
    "start_time": "2025-09-09T09:38:31.699Z"
   },
   {
    "duration": 5,
    "start_time": "2025-09-09T09:38:31.860Z"
   },
   {
    "duration": 146,
    "start_time": "2025-09-09T09:38:31.867Z"
   },
   {
    "duration": 5,
    "start_time": "2025-09-09T09:38:32.015Z"
   },
   {
    "duration": 741,
    "start_time": "2025-09-15T09:21:05.416Z"
   },
   {
    "duration": 80,
    "start_time": "2025-09-15T09:21:06.160Z"
   },
   {
    "duration": 39,
    "start_time": "2025-09-15T09:21:20.468Z"
   },
   {
    "duration": 78,
    "start_time": "2025-09-15T09:21:42.094Z"
   },
   {
    "duration": 40,
    "start_time": "2025-09-15T09:21:54.722Z"
   },
   {
    "duration": 11,
    "start_time": "2025-09-15T09:21:54.764Z"
   },
   {
    "duration": 3,
    "start_time": "2025-09-15T09:22:05.631Z"
   },
   {
    "duration": 104,
    "start_time": "2025-09-15T09:22:05.636Z"
   },
   {
    "duration": 16,
    "start_time": "2025-09-15T09:22:05.742Z"
   },
   {
    "duration": 52,
    "start_time": "2025-09-15T09:22:05.760Z"
   },
   {
    "duration": 12,
    "start_time": "2025-09-15T09:22:05.815Z"
   },
   {
    "duration": 6,
    "start_time": "2025-09-15T09:22:10.874Z"
   },
   {
    "duration": 13,
    "start_time": "2025-09-15T09:22:14.776Z"
   },
   {
    "duration": 18,
    "start_time": "2025-09-15T09:22:35.851Z"
   },
   {
    "duration": 8,
    "start_time": "2025-09-15T09:22:35.872Z"
   },
   {
    "duration": 9,
    "start_time": "2025-09-15T09:22:50.944Z"
   },
   {
    "duration": 7,
    "start_time": "2025-09-15T09:22:56.700Z"
   },
   {
    "duration": 12,
    "start_time": "2025-09-15T09:22:58.089Z"
   },
   {
    "duration": 6,
    "start_time": "2025-09-15T09:23:00.095Z"
   },
   {
    "duration": 7,
    "start_time": "2025-09-15T09:23:07.173Z"
   },
   {
    "duration": 6,
    "start_time": "2025-09-15T09:23:08.267Z"
   },
   {
    "duration": 11,
    "start_time": "2025-09-15T09:23:17.639Z"
   },
   {
    "duration": 42,
    "start_time": "2025-09-15T09:23:17.652Z"
   },
   {
    "duration": 4,
    "start_time": "2025-09-15T09:23:34.967Z"
   },
   {
    "duration": 524,
    "start_time": "2025-09-15T09:23:35.254Z"
   },
   {
    "duration": 16,
    "start_time": "2025-09-15T09:23:36.136Z"
   },
   {
    "duration": 29,
    "start_time": "2025-09-15T09:23:36.154Z"
   },
   {
    "duration": 68,
    "start_time": "2025-09-15T09:23:36.202Z"
   },
   {
    "duration": 11,
    "start_time": "2025-09-15T09:23:37.317Z"
   },
   {
    "duration": 25,
    "start_time": "2025-09-15T09:23:42.371Z"
   },
   {
    "duration": 6,
    "start_time": "2025-09-15T09:23:47.307Z"
   },
   {
    "duration": 9,
    "start_time": "2025-09-15T09:23:52.902Z"
   },
   {
    "duration": 97,
    "start_time": "2025-09-15T09:23:52.913Z"
   },
   {
    "duration": 21,
    "start_time": "2025-09-15T09:23:55.237Z"
   },
   {
    "duration": 9,
    "start_time": "2025-09-15T09:25:18.737Z"
   },
   {
    "duration": 8,
    "start_time": "2025-09-15T09:25:18.748Z"
   },
   {
    "duration": 13,
    "start_time": "2025-09-15T09:25:22.298Z"
   },
   {
    "duration": 5,
    "start_time": "2025-09-15T09:25:24.080Z"
   },
   {
    "duration": 24,
    "start_time": "2025-09-15T09:25:24.086Z"
   },
   {
    "duration": 12,
    "start_time": "2025-09-15T09:25:27.541Z"
   },
   {
    "duration": 10,
    "start_time": "2025-09-15T09:25:27.555Z"
   },
   {
    "duration": 12,
    "start_time": "2025-09-15T09:25:29.427Z"
   },
   {
    "duration": 10,
    "start_time": "2025-09-15T09:25:29.441Z"
   },
   {
    "duration": 16,
    "start_time": "2025-09-15T09:25:29.452Z"
   },
   {
    "duration": 9,
    "start_time": "2025-09-15T09:25:32.789Z"
   },
   {
    "duration": 17,
    "start_time": "2025-09-15T09:25:32.799Z"
   },
   {
    "duration": 204,
    "start_time": "2025-09-15T09:25:32.817Z"
   },
   {
    "duration": 4,
    "start_time": "2025-09-15T09:25:35.748Z"
   },
   {
    "duration": 16,
    "start_time": "2025-09-15T09:25:35.754Z"
   },
   {
    "duration": 6,
    "start_time": "2025-09-15T09:25:38.009Z"
   },
   {
    "duration": 4,
    "start_time": "2025-09-15T09:25:41.690Z"
   },
   {
    "duration": 6,
    "start_time": "2025-09-15T09:25:55.414Z"
   },
   {
    "duration": 6,
    "start_time": "2025-09-15T09:26:20.571Z"
   },
   {
    "duration": 12,
    "start_time": "2025-09-15T09:26:21.360Z"
   },
   {
    "duration": 1341,
    "start_time": "2025-09-15T09:26:21.421Z"
   },
   {
    "duration": 15,
    "start_time": "2025-09-15T09:26:25.819Z"
   },
   {
    "duration": 1207,
    "start_time": "2025-09-15T09:26:25.836Z"
   },
   {
    "duration": 32,
    "start_time": "2025-09-15T09:26:27.045Z"
   },
   {
    "duration": 20,
    "start_time": "2025-09-15T09:26:53.189Z"
   },
   {
    "duration": 18,
    "start_time": "2025-09-15T09:27:33.067Z"
   },
   {
    "duration": 12,
    "start_time": "2025-09-15T09:27:43.550Z"
   },
   {
    "duration": 1355,
    "start_time": "2025-09-15T09:27:43.564Z"
   },
   {
    "duration": 37,
    "start_time": "2025-09-15T09:27:53.275Z"
   },
   {
    "duration": 9,
    "start_time": "2025-09-15T09:28:02.665Z"
   },
   {
    "duration": 155,
    "start_time": "2025-09-15T09:28:08.533Z"
   },
   {
    "duration": 6,
    "start_time": "2025-09-15T09:28:25.416Z"
   },
   {
    "duration": 6,
    "start_time": "2025-09-15T09:28:32.072Z"
   },
   {
    "duration": 5,
    "start_time": "2025-09-15T09:28:35.506Z"
   },
   {
    "duration": 205,
    "start_time": "2025-09-15T09:28:37.310Z"
   },
   {
    "duration": 152,
    "start_time": "2025-09-15T09:28:42.424Z"
   },
   {
    "duration": 148,
    "start_time": "2025-09-15T09:28:42.578Z"
   },
   {
    "duration": 20,
    "start_time": "2025-09-15T09:28:46.235Z"
   },
   {
    "duration": 239,
    "start_time": "2025-09-15T09:28:46.257Z"
   },
   {
    "duration": 183,
    "start_time": "2025-09-15T09:28:53.685Z"
   },
   {
    "duration": 201,
    "start_time": "2025-09-15T09:28:58.225Z"
   },
   {
    "duration": 161,
    "start_time": "2025-09-15T09:29:09.176Z"
   },
   {
    "duration": 175,
    "start_time": "2025-09-15T09:29:14.390Z"
   },
   {
    "duration": 182,
    "start_time": "2025-09-15T09:29:14.567Z"
   },
   {
    "duration": 152,
    "start_time": "2025-09-15T09:29:14.750Z"
   },
   {
    "duration": 6,
    "start_time": "2025-09-15T09:29:14.904Z"
   },
   {
    "duration": 128,
    "start_time": "2025-09-15T09:29:18.181Z"
   },
   {
    "duration": 5,
    "start_time": "2025-09-15T09:29:18.312Z"
   },
   {
    "duration": 648,
    "start_time": "2025-09-15T09:29:54.451Z"
   },
   {
    "duration": 80,
    "start_time": "2025-09-15T09:29:55.101Z"
   },
   {
    "duration": 16,
    "start_time": "2025-09-15T09:29:55.183Z"
   },
   {
    "duration": 49,
    "start_time": "2025-09-15T09:29:55.201Z"
   },
   {
    "duration": 10,
    "start_time": "2025-09-15T09:29:55.252Z"
   },
   {
    "duration": 18,
    "start_time": "2025-09-15T09:29:55.263Z"
   },
   {
    "duration": 28,
    "start_time": "2025-09-15T09:29:55.283Z"
   },
   {
    "duration": 16,
    "start_time": "2025-09-15T09:29:55.313Z"
   },
   {
    "duration": 19,
    "start_time": "2025-09-15T09:29:55.330Z"
   },
   {
    "duration": 24,
    "start_time": "2025-09-15T09:29:55.351Z"
   },
   {
    "duration": 21,
    "start_time": "2025-09-15T09:29:55.377Z"
   },
   {
    "duration": 15,
    "start_time": "2025-09-15T09:29:55.400Z"
   },
   {
    "duration": 4,
    "start_time": "2025-09-15T09:29:55.417Z"
   },
   {
    "duration": 18,
    "start_time": "2025-09-15T09:29:55.423Z"
   },
   {
    "duration": 13,
    "start_time": "2025-09-15T09:29:55.442Z"
   },
   {
    "duration": 16,
    "start_time": "2025-09-15T09:29:55.456Z"
   },
   {
    "duration": 19,
    "start_time": "2025-09-15T09:29:55.473Z"
   },
   {
    "duration": 16,
    "start_time": "2025-09-15T09:29:55.494Z"
   },
   {
    "duration": 18,
    "start_time": "2025-09-15T09:29:55.511Z"
   },
   {
    "duration": 4,
    "start_time": "2025-09-15T09:29:55.531Z"
   },
   {
    "duration": 6,
    "start_time": "2025-09-15T09:29:55.537Z"
   },
   {
    "duration": 16,
    "start_time": "2025-09-15T09:29:55.544Z"
   },
   {
    "duration": 20,
    "start_time": "2025-09-15T09:29:55.561Z"
   },
   {
    "duration": 33,
    "start_time": "2025-09-15T09:29:55.582Z"
   },
   {
    "duration": 5,
    "start_time": "2025-09-15T09:29:55.617Z"
   },
   {
    "duration": 10,
    "start_time": "2025-09-15T09:29:55.623Z"
   },
   {
    "duration": 24,
    "start_time": "2025-09-15T09:29:55.634Z"
   },
   {
    "duration": 30,
    "start_time": "2025-09-15T09:29:55.660Z"
   },
   {
    "duration": 8,
    "start_time": "2025-09-15T09:29:55.691Z"
   },
   {
    "duration": 13,
    "start_time": "2025-09-15T09:29:55.701Z"
   },
   {
    "duration": 21,
    "start_time": "2025-09-15T09:29:55.715Z"
   },
   {
    "duration": 4,
    "start_time": "2025-09-15T09:29:55.737Z"
   },
   {
    "duration": 19,
    "start_time": "2025-09-15T09:29:55.743Z"
   },
   {
    "duration": 21,
    "start_time": "2025-09-15T09:29:55.764Z"
   },
   {
    "duration": 9,
    "start_time": "2025-09-15T09:29:55.787Z"
   },
   {
    "duration": 18,
    "start_time": "2025-09-15T09:29:55.798Z"
   },
   {
    "duration": 13,
    "start_time": "2025-09-15T09:29:55.822Z"
   },
   {
    "duration": 54,
    "start_time": "2025-09-15T09:29:55.837Z"
   },
   {
    "duration": 10,
    "start_time": "2025-09-15T09:29:55.893Z"
   },
   {
    "duration": 7,
    "start_time": "2025-09-15T09:29:55.905Z"
   },
   {
    "duration": 10,
    "start_time": "2025-09-15T09:29:55.916Z"
   },
   {
    "duration": 9,
    "start_time": "2025-09-15T09:29:55.927Z"
   },
   {
    "duration": 17,
    "start_time": "2025-09-15T09:29:55.937Z"
   },
   {
    "duration": 21,
    "start_time": "2025-09-15T09:29:55.956Z"
   },
   {
    "duration": 4,
    "start_time": "2025-09-15T09:29:55.979Z"
   },
   {
    "duration": 12,
    "start_time": "2025-09-15T09:29:55.984Z"
   },
   {
    "duration": 6,
    "start_time": "2025-09-15T09:29:55.998Z"
   },
   {
    "duration": 14,
    "start_time": "2025-09-15T09:29:56.006Z"
   },
   {
    "duration": 1357,
    "start_time": "2025-09-15T09:29:56.021Z"
   },
   {
    "duration": 12,
    "start_time": "2025-09-15T09:29:57.380Z"
   },
   {
    "duration": 1301,
    "start_time": "2025-09-15T09:29:57.393Z"
   },
   {
    "duration": 11,
    "start_time": "2025-09-15T09:29:58.696Z"
   },
   {
    "duration": 175,
    "start_time": "2025-09-15T09:29:58.708Z"
   },
   {
    "duration": 6,
    "start_time": "2025-09-15T09:29:58.885Z"
   },
   {
    "duration": 185,
    "start_time": "2025-09-15T09:29:58.892Z"
   },
   {
    "duration": 10,
    "start_time": "2025-09-15T09:29:59.078Z"
   },
   {
    "duration": 169,
    "start_time": "2025-09-15T09:29:59.089Z"
   },
   {
    "duration": 232,
    "start_time": "2025-09-15T09:29:59.259Z"
   },
   {
    "duration": 174,
    "start_time": "2025-09-15T09:29:59.492Z"
   },
   {
    "duration": 26,
    "start_time": "2025-09-15T09:29:59.668Z"
   },
   {
    "duration": 196,
    "start_time": "2025-09-15T09:29:59.696Z"
   },
   {
    "duration": 212,
    "start_time": "2025-09-15T09:29:59.894Z"
   },
   {
    "duration": 228,
    "start_time": "2025-09-15T09:30:00.108Z"
   },
   {
    "duration": 178,
    "start_time": "2025-09-15T09:30:00.338Z"
   },
   {
    "duration": 194,
    "start_time": "2025-09-15T09:30:00.518Z"
   },
   {
    "duration": 193,
    "start_time": "2025-09-15T09:30:00.713Z"
   },
   {
    "duration": 141,
    "start_time": "2025-09-15T09:30:00.908Z"
   },
   {
    "duration": 26,
    "start_time": "2025-09-15T09:30:01.050Z"
   },
   {
    "duration": 132,
    "start_time": "2025-09-15T09:30:01.078Z"
   },
   {
    "duration": 5,
    "start_time": "2025-09-15T09:30:01.212Z"
   },
   {
    "duration": 591,
    "start_time": "2025-09-15T09:36:53.227Z"
   },
   {
    "duration": 82,
    "start_time": "2025-09-15T09:36:53.820Z"
   },
   {
    "duration": 17,
    "start_time": "2025-09-15T09:36:53.904Z"
   },
   {
    "duration": 58,
    "start_time": "2025-09-15T09:36:53.922Z"
   },
   {
    "duration": 10,
    "start_time": "2025-09-15T09:36:53.983Z"
   },
   {
    "duration": 31,
    "start_time": "2025-09-15T09:36:53.994Z"
   },
   {
    "duration": 16,
    "start_time": "2025-09-15T09:36:54.027Z"
   },
   {
    "duration": 23,
    "start_time": "2025-09-15T09:36:54.044Z"
   },
   {
    "duration": 44,
    "start_time": "2025-09-15T09:36:54.068Z"
   },
   {
    "duration": 42,
    "start_time": "2025-09-15T09:36:54.114Z"
   },
   {
    "duration": 8,
    "start_time": "2025-09-15T09:36:54.157Z"
   },
   {
    "duration": 14,
    "start_time": "2025-09-15T09:36:54.166Z"
   },
   {
    "duration": 18,
    "start_time": "2025-09-15T09:36:54.182Z"
   },
   {
    "duration": 8,
    "start_time": "2025-09-15T09:36:54.203Z"
   },
   {
    "duration": 11,
    "start_time": "2025-09-15T09:36:54.212Z"
   },
   {
    "duration": 12,
    "start_time": "2025-09-15T09:36:54.224Z"
   },
   {
    "duration": 15,
    "start_time": "2025-09-15T09:36:54.237Z"
   },
   {
    "duration": 13,
    "start_time": "2025-09-15T09:36:54.254Z"
   },
   {
    "duration": 62,
    "start_time": "2025-09-15T09:36:54.269Z"
   },
   {
    "duration": 11,
    "start_time": "2025-09-15T09:36:54.333Z"
   },
   {
    "duration": 14,
    "start_time": "2025-09-15T09:36:54.346Z"
   },
   {
    "duration": 12,
    "start_time": "2025-09-15T09:36:54.362Z"
   },
   {
    "duration": 13,
    "start_time": "2025-09-15T09:36:54.376Z"
   },
   {
    "duration": 38,
    "start_time": "2025-09-15T09:36:54.391Z"
   },
   {
    "duration": 6,
    "start_time": "2025-09-15T09:36:54.431Z"
   },
   {
    "duration": 11,
    "start_time": "2025-09-15T09:36:54.440Z"
   },
   {
    "duration": 96,
    "start_time": "2025-09-15T09:36:54.453Z"
   },
   {
    "duration": 25,
    "start_time": "2025-09-15T09:36:54.550Z"
   },
   {
    "duration": 8,
    "start_time": "2025-09-15T09:36:54.576Z"
   },
   {
    "duration": 5,
    "start_time": "2025-09-15T09:36:54.586Z"
   },
   {
    "duration": 19,
    "start_time": "2025-09-15T09:36:54.592Z"
   },
   {
    "duration": 4,
    "start_time": "2025-09-15T09:36:54.613Z"
   },
   {
    "duration": 29,
    "start_time": "2025-09-15T09:36:54.618Z"
   },
   {
    "duration": 101,
    "start_time": "2025-09-15T09:36:54.648Z"
   },
   {
    "duration": 14,
    "start_time": "2025-09-15T09:36:54.751Z"
   },
   {
    "duration": 13,
    "start_time": "2025-09-15T09:36:54.766Z"
   },
   {
    "duration": 9,
    "start_time": "2025-09-15T09:36:54.780Z"
   },
   {
    "duration": 19,
    "start_time": "2025-09-15T09:36:54.791Z"
   },
   {
    "duration": 7,
    "start_time": "2025-09-15T09:36:54.812Z"
   },
   {
    "duration": 9,
    "start_time": "2025-09-15T09:36:54.821Z"
   },
   {
    "duration": 19,
    "start_time": "2025-09-15T09:36:54.834Z"
   },
   {
    "duration": 4,
    "start_time": "2025-09-15T09:36:54.855Z"
   },
   {
    "duration": 25,
    "start_time": "2025-09-15T09:36:54.860Z"
   },
   {
    "duration": 5,
    "start_time": "2025-09-15T09:36:54.887Z"
   },
   {
    "duration": 183,
    "start_time": "2025-09-15T09:36:54.894Z"
   },
   {
    "duration": 14,
    "start_time": "2025-09-15T09:36:55.079Z"
   },
   {
    "duration": 12,
    "start_time": "2025-09-15T09:36:55.095Z"
   },
   {
    "duration": 13,
    "start_time": "2025-09-15T09:36:55.109Z"
   },
   {
    "duration": 1294,
    "start_time": "2025-09-15T09:36:55.124Z"
   },
   {
    "duration": 12,
    "start_time": "2025-09-15T09:36:56.420Z"
   },
   {
    "duration": 1309,
    "start_time": "2025-09-15T09:36:56.433Z"
   },
   {
    "duration": 10,
    "start_time": "2025-09-15T09:36:57.744Z"
   },
   {
    "duration": 165,
    "start_time": "2025-09-15T09:36:57.755Z"
   },
   {
    "duration": 6,
    "start_time": "2025-09-15T09:36:57.922Z"
   },
   {
    "duration": 29,
    "start_time": "2025-09-15T09:36:57.930Z"
   },
   {
    "duration": 9,
    "start_time": "2025-09-15T09:36:57.961Z"
   },
   {
    "duration": 168,
    "start_time": "2025-09-15T09:36:57.972Z"
   },
   {
    "duration": 225,
    "start_time": "2025-09-15T09:36:58.142Z"
   },
   {
    "duration": 165,
    "start_time": "2025-09-15T09:36:58.368Z"
   },
   {
    "duration": 22,
    "start_time": "2025-09-15T09:36:58.534Z"
   },
   {
    "duration": 191,
    "start_time": "2025-09-15T09:36:58.557Z"
   },
   {
    "duration": 205,
    "start_time": "2025-09-15T09:36:58.749Z"
   },
   {
    "duration": 228,
    "start_time": "2025-09-15T09:36:58.955Z"
   },
   {
    "duration": 170,
    "start_time": "2025-09-15T09:36:59.185Z"
   },
   {
    "duration": 202,
    "start_time": "2025-09-15T09:36:59.357Z"
   },
   {
    "duration": 187,
    "start_time": "2025-09-15T09:36:59.561Z"
   },
   {
    "duration": 153,
    "start_time": "2025-09-15T09:36:59.749Z"
   },
   {
    "duration": 5,
    "start_time": "2025-09-15T09:36:59.904Z"
   },
   {
    "duration": 145,
    "start_time": "2025-09-15T09:36:59.910Z"
   },
   {
    "duration": 5,
    "start_time": "2025-09-15T09:37:00.056Z"
   },
   {
    "duration": 79,
    "start_time": "2025-09-15T09:42:21.507Z"
   },
   {
    "duration": 17,
    "start_time": "2025-09-15T09:42:38.669Z"
   },
   {
    "duration": 10,
    "start_time": "2025-09-15T09:42:58.699Z"
   },
   {
    "duration": 8,
    "start_time": "2025-09-15T09:43:22.465Z"
   },
   {
    "duration": 14,
    "start_time": "2025-09-15T09:43:30.508Z"
   },
   {
    "duration": 13,
    "start_time": "2025-09-15T09:44:32.481Z"
   },
   {
    "duration": 14,
    "start_time": "2025-09-15T09:44:41.211Z"
   },
   {
    "duration": 6,
    "start_time": "2025-09-15T09:45:36.138Z"
   },
   {
    "duration": 28,
    "start_time": "2025-09-15T09:46:55.797Z"
   },
   {
    "duration": 701,
    "start_time": "2025-09-15T09:47:55.881Z"
   },
   {
    "duration": 91,
    "start_time": "2025-09-15T09:47:56.584Z"
   },
   {
    "duration": 40,
    "start_time": "2025-09-15T09:47:56.677Z"
   },
   {
    "duration": 7,
    "start_time": "2025-09-15T09:47:56.718Z"
   },
   {
    "duration": 45,
    "start_time": "2025-09-15T09:47:56.727Z"
   },
   {
    "duration": 17,
    "start_time": "2025-09-15T09:47:56.774Z"
   },
   {
    "duration": 7,
    "start_time": "2025-09-15T09:47:56.793Z"
   },
   {
    "duration": 24,
    "start_time": "2025-09-15T09:47:56.802Z"
   },
   {
    "duration": 37,
    "start_time": "2025-09-15T09:47:56.828Z"
   },
   {
    "duration": 17,
    "start_time": "2025-09-15T09:47:56.867Z"
   },
   {
    "duration": 24,
    "start_time": "2025-09-15T09:47:56.886Z"
   },
   {
    "duration": 6,
    "start_time": "2025-09-15T09:47:56.912Z"
   },
   {
    "duration": 6,
    "start_time": "2025-09-15T09:47:56.920Z"
   },
   {
    "duration": 27,
    "start_time": "2025-09-15T09:47:56.929Z"
   },
   {
    "duration": 18,
    "start_time": "2025-09-15T09:47:56.958Z"
   },
   {
    "duration": 50,
    "start_time": "2025-09-15T09:47:56.978Z"
   },
   {
    "duration": 117,
    "start_time": "2025-09-15T09:47:57.030Z"
   },
   {
    "duration": 7,
    "start_time": "2025-09-15T09:47:57.149Z"
   },
   {
    "duration": 6,
    "start_time": "2025-09-15T09:47:57.157Z"
   },
   {
    "duration": 50,
    "start_time": "2025-09-15T09:47:57.164Z"
   },
   {
    "duration": 15,
    "start_time": "2025-09-15T09:47:57.216Z"
   },
   {
    "duration": 43,
    "start_time": "2025-09-15T09:47:57.233Z"
   },
   {
    "duration": 5,
    "start_time": "2025-09-15T09:47:57.278Z"
   },
   {
    "duration": 17,
    "start_time": "2025-09-15T09:47:57.285Z"
   },
   {
    "duration": 21,
    "start_time": "2025-09-15T09:47:57.303Z"
   },
   {
    "duration": 38,
    "start_time": "2025-09-15T09:47:57.326Z"
   },
   {
    "duration": 16,
    "start_time": "2025-09-15T09:47:57.365Z"
   },
   {
    "duration": 14,
    "start_time": "2025-09-15T09:47:57.382Z"
   },
   {
    "duration": 31,
    "start_time": "2025-09-15T09:47:57.398Z"
   },
   {
    "duration": 5,
    "start_time": "2025-09-15T09:47:57.431Z"
   },
   {
    "duration": 12,
    "start_time": "2025-09-15T09:47:57.438Z"
   },
   {
    "duration": 25,
    "start_time": "2025-09-15T09:47:57.452Z"
   },
   {
    "duration": 11,
    "start_time": "2025-09-15T09:47:57.479Z"
   },
   {
    "duration": 30,
    "start_time": "2025-09-15T09:47:57.492Z"
   },
   {
    "duration": 11,
    "start_time": "2025-09-15T09:47:57.524Z"
   },
   {
    "duration": 9,
    "start_time": "2025-09-15T09:47:57.537Z"
   },
   {
    "duration": 16,
    "start_time": "2025-09-15T09:47:57.548Z"
   },
   {
    "duration": 9,
    "start_time": "2025-09-15T09:47:57.577Z"
   },
   {
    "duration": 17,
    "start_time": "2025-09-15T09:47:57.587Z"
   },
   {
    "duration": 7,
    "start_time": "2025-09-15T09:47:57.605Z"
   },
   {
    "duration": 14,
    "start_time": "2025-09-15T09:47:57.616Z"
   },
   {
    "duration": 6,
    "start_time": "2025-09-15T09:47:57.632Z"
   },
   {
    "duration": 35,
    "start_time": "2025-09-15T09:47:57.640Z"
   },
   {
    "duration": 27,
    "start_time": "2025-09-15T09:47:57.677Z"
   },
   {
    "duration": 8,
    "start_time": "2025-09-15T09:47:57.706Z"
   },
   {
    "duration": 25,
    "start_time": "2025-09-15T09:47:57.716Z"
   },
   {
    "duration": 1564,
    "start_time": "2025-09-15T09:47:57.743Z"
   },
   {
    "duration": 16,
    "start_time": "2025-09-15T09:47:59.309Z"
   },
   {
    "duration": 1591,
    "start_time": "2025-09-15T09:47:59.327Z"
   },
   {
    "duration": 11,
    "start_time": "2025-09-15T09:48:00.920Z"
   },
   {
    "duration": 230,
    "start_time": "2025-09-15T09:48:00.933Z"
   },
   {
    "duration": 6,
    "start_time": "2025-09-15T09:48:01.165Z"
   },
   {
    "duration": 15,
    "start_time": "2025-09-15T09:48:01.172Z"
   },
   {
    "duration": 30,
    "start_time": "2025-09-15T09:48:01.189Z"
   },
   {
    "duration": 208,
    "start_time": "2025-09-15T09:48:01.221Z"
   },
   {
    "duration": 259,
    "start_time": "2025-09-15T09:48:01.430Z"
   },
   {
    "duration": 182,
    "start_time": "2025-09-15T09:48:01.691Z"
   },
   {
    "duration": 22,
    "start_time": "2025-09-15T09:48:01.876Z"
   },
   {
    "duration": 243,
    "start_time": "2025-09-15T09:48:01.900Z"
   },
   {
    "duration": 231,
    "start_time": "2025-09-15T09:48:02.145Z"
   },
   {
    "duration": 243,
    "start_time": "2025-09-15T09:48:02.378Z"
   },
   {
    "duration": 194,
    "start_time": "2025-09-15T09:48:02.623Z"
   },
   {
    "duration": 199,
    "start_time": "2025-09-15T09:48:02.818Z"
   },
   {
    "duration": 204,
    "start_time": "2025-09-15T09:48:03.019Z"
   },
   {
    "duration": 153,
    "start_time": "2025-09-15T09:48:03.225Z"
   },
   {
    "duration": 5,
    "start_time": "2025-09-15T09:48:03.380Z"
   },
   {
    "duration": 156,
    "start_time": "2025-09-15T09:48:03.387Z"
   },
   {
    "duration": 5,
    "start_time": "2025-09-15T09:48:03.544Z"
   }
  ],
  "colab": {
   "name": "DA+. Сборный проект 1. Шаблон (1).ipynb",
   "provenance": []
  },
  "kernelspec": {
   "display_name": "Python 3 (ipykernel)",
   "language": "python",
   "name": "python3"
  },
  "language_info": {
   "codemirror_mode": {
    "name": "ipython",
    "version": 3
   },
   "file_extension": ".py",
   "mimetype": "text/x-python",
   "name": "python",
   "nbconvert_exporter": "python",
   "pygments_lexer": "ipython3",
   "version": "3.9.5"
  },
  "toc": {
   "base_numbering": 1,
   "nav_menu": {},
   "number_sections": true,
   "sideBar": true,
   "skip_h1_title": true,
   "title_cell": "Table of Contents",
   "title_sidebar": "Contents",
   "toc_cell": false,
   "toc_position": {
    "height": "calc(100% - 180px)",
    "left": "10px",
    "top": "150px",
    "width": "375.391px"
   },
   "toc_section_display": true,
   "toc_window_display": true
  }
 },
 "nbformat": 4,
 "nbformat_minor": 1
}
